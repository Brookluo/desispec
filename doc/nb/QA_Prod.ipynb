{
 "cells": [
  {
   "cell_type": "markdown",
   "metadata": {},
   "source": [
    "# QA_Prod (v1.1)"
   ]
  },
  {
   "cell_type": "code",
   "execution_count": 7,
   "metadata": {
    "collapsed": true
   },
   "outputs": [],
   "source": [
    "%matplotlib notebook"
   ]
  },
  {
   "cell_type": "code",
   "execution_count": 6,
   "metadata": {
    "collapsed": false
   },
   "outputs": [],
   "source": [
    "# imports\n",
    "from desispec.qa import qa_prod as dqap"
   ]
  },
  {
   "cell_type": "markdown",
   "metadata": {},
   "source": [
    "## Init\n",
    "\n",
    "    setenv DESI_SPECTRO_DATA /Users/xavier/DESI/DESI_SCRATCH/sim/madrone/"
   ]
  },
  {
   "cell_type": "code",
   "execution_count": 7,
   "metadata": {
    "collapsed": true
   },
   "outputs": [],
   "source": [
    "specprod_dir = '/Users/xavier/DESI/DESI_SCRATCH/redux/madrone/'"
   ]
  },
  {
   "cell_type": "code",
   "execution_count": 8,
   "metadata": {
    "collapsed": false
   },
   "outputs": [],
   "source": [
    "reload(dqap)\n",
    "qa_prod = dqap.QA_Prod(specprod_dir)"
   ]
  },
  {
   "cell_type": "markdown",
   "metadata": {},
   "source": [
    "## Remake"
   ]
  },
  {
   "cell_type": "markdown",
   "metadata": {},
   "source": [
    "#### In Python"
   ]
  },
  {
   "cell_type": "code",
   "execution_count": 4,
   "metadata": {
    "collapsed": false
   },
   "outputs": [
    {
     "name": "stdout",
     "output_type": "stream",
     "text": [
      "INFO:qa.py:81:load_qa_frame: Loaded QA file /Users/xavier/DESI/DESI_SCRATCH/redux/madrone/calib2d/20160607/qa-r0-00000003.yaml\n"
     ]
    },
    {
     "name": "stderr",
     "output_type": "stream",
     "text": [
      "/Users/xavier/anaconda/lib/python2.7/site-packages/matplotlib/__init__.py:1350: UserWarning:  This call to matplotlib.use() has no effect\n",
      "because the backend has already been chosen;\n",
      "matplotlib.use() must be called *before* pylab, matplotlib.pyplot,\n",
      "or matplotlib.backends is imported for the first time.\n",
      "\n",
      "  warnings.warn(_use_error_msg)\n",
      "INFO:DESI:Loaded QA file /Users/xavier/DESI/DESI_SCRATCH/redux/madrone/calib2d/20160607/qa-r0-00000003.yaml\n"
     ]
    },
    {
     "name": "stdout",
     "output_type": "stream",
     "text": [
      "WARNING:fiberflat.py:547:qa_fiberflat: Low counts in meanspec = 37157.8\n"
     ]
    },
    {
     "name": "stderr",
     "output_type": "stream",
     "text": [
      "WARNING:DESI:Low counts in meanspec = 37157.8\n"
     ]
    },
    {
     "name": "stdout",
     "output_type": "stream",
     "text": [
      "WARNING:fiberflat.py:569:qa_fiberflat: Discrepant flux in fiberflat: 0.00117388, 205\n"
     ]
    },
    {
     "name": "stderr",
     "output_type": "stream",
     "text": [
      "WARNING:DESI:Discrepant flux in fiberflat: 0.00117388, 205\n"
     ]
    },
    {
     "name": "stdout",
     "output_type": "stream",
     "text": [
      "WARNING:fiberflat.py:574:qa_fiberflat: Large offset in fiberflat: 0.158535\n"
     ]
    },
    {
     "name": "stderr",
     "output_type": "stream",
     "text": [
      "WARNING:DESI:Large offset in fiberflat: 0.158535\n"
     ]
    },
    {
     "name": "stdout",
     "output_type": "stream",
     "text": [
      "WARNING:fiberflat.py:582:qa_fiberflat: Discrepant mean in fiberflat: 0.0151337, 446\n"
     ]
    },
    {
     "name": "stderr",
     "output_type": "stream",
     "text": [
      "WARNING:DESI:Discrepant mean in fiberflat: 0.0151337, 446\n"
     ]
    },
    {
     "name": "stdout",
     "output_type": "stream",
     "text": [
      "WARNING:fiberflat.py:591:qa_fiberflat: Large RMS in fiberflat: 0.0165781, 45\n"
     ]
    },
    {
     "name": "stderr",
     "output_type": "stream",
     "text": [
      "WARNING:DESI:Large RMS in fiberflat: 0.0165781, 45\n"
     ]
    },
    {
     "name": "stdout",
     "output_type": "stream",
     "text": [
      "Wrote QA SkyRes file: /Users/xavier/DESI/DESI_SCRATCH/redux/madrone/calib2d/20160607/qa-flat-r0-00000003.pdf\n",
      "INFO:qa.py:81:load_qa_frame: Loaded QA file /Users/xavier/DESI/DESI_SCRATCH/redux/madrone/calib2d/20160607/qa-r1-00000003.yaml\n"
     ]
    },
    {
     "name": "stderr",
     "output_type": "stream",
     "text": [
      "INFO:DESI:Loaded QA file /Users/xavier/DESI/DESI_SCRATCH/redux/madrone/calib2d/20160607/qa-r1-00000003.yaml\n"
     ]
    },
    {
     "name": "stdout",
     "output_type": "stream",
     "text": [
      "WARNING:fiberflat.py:547:qa_fiberflat: Low counts in meanspec = 37108.4\n"
     ]
    },
    {
     "name": "stderr",
     "output_type": "stream",
     "text": [
      "WARNING:DESI:Low counts in meanspec = 37108.4\n"
     ]
    },
    {
     "name": "stdout",
     "output_type": "stream",
     "text": [
      "WARNING:fiberflat.py:569:qa_fiberflat: Discrepant flux in fiberflat: 0.00135612, 300\n"
     ]
    },
    {
     "name": "stderr",
     "output_type": "stream",
     "text": [
      "WARNING:DESI:Discrepant flux in fiberflat: 0.00135612, 300\n"
     ]
    },
    {
     "name": "stdout",
     "output_type": "stream",
     "text": [
      "WARNING:fiberflat.py:574:qa_fiberflat: Large offset in fiberflat: 0.435616\n"
     ]
    },
    {
     "name": "stderr",
     "output_type": "stream",
     "text": [
      "WARNING:DESI:Large offset in fiberflat: 0.435616\n"
     ]
    },
    {
     "name": "stdout",
     "output_type": "stream",
     "text": [
      "WARNING:fiberflat.py:582:qa_fiberflat: Discrepant mean in fiberflat: 0.0467809, 44\n"
     ]
    },
    {
     "name": "stderr",
     "output_type": "stream",
     "text": [
      "WARNING:DESI:Discrepant mean in fiberflat: 0.0467809, 44\n"
     ]
    },
    {
     "name": "stdout",
     "output_type": "stream",
     "text": [
      "WARNING:fiberflat.py:591:qa_fiberflat: Large RMS in fiberflat: 0.052332, 441\n"
     ]
    },
    {
     "name": "stderr",
     "output_type": "stream",
     "text": [
      "WARNING:DESI:Large RMS in fiberflat: 0.052332, 441\n"
     ]
    },
    {
     "name": "stdout",
     "output_type": "stream",
     "text": [
      "Wrote QA SkyRes file: /Users/xavier/DESI/DESI_SCRATCH/redux/madrone/calib2d/20160607/qa-flat-r1-00000003.pdf\n",
      "INFO:qa.py:81:load_qa_frame: Loaded QA file /Users/xavier/DESI/DESI_SCRATCH/redux/madrone/calib2d/20160607/qa-b0-00000003.yaml\n"
     ]
    },
    {
     "name": "stderr",
     "output_type": "stream",
     "text": [
      "INFO:DESI:Loaded QA file /Users/xavier/DESI/DESI_SCRATCH/redux/madrone/calib2d/20160607/qa-b0-00000003.yaml\n"
     ]
    },
    {
     "name": "stdout",
     "output_type": "stream",
     "text": [
      "WARNING:fiberflat.py:547:qa_fiberflat: Low counts in meanspec = 78348\n"
     ]
    },
    {
     "name": "stderr",
     "output_type": "stream",
     "text": [
      "WARNING:DESI:Low counts in meanspec = 78348\n"
     ]
    },
    {
     "name": "stdout",
     "output_type": "stream",
     "text": [
      "WARNING:fiberflat.py:569:qa_fiberflat: Discrepant flux in fiberflat: 0.00130881, 210\n"
     ]
    },
    {
     "name": "stderr",
     "output_type": "stream",
     "text": [
      "WARNING:DESI:Discrepant flux in fiberflat: 0.00130881, 210\n"
     ]
    },
    {
     "name": "stdout",
     "output_type": "stream",
     "text": [
      "WARNING:fiberflat.py:582:qa_fiberflat: Discrepant mean in fiberflat: 0.00218552, 445\n"
     ]
    },
    {
     "name": "stderr",
     "output_type": "stream",
     "text": [
      "WARNING:DESI:Discrepant mean in fiberflat: 0.00218552, 445\n"
     ]
    },
    {
     "name": "stdout",
     "output_type": "stream",
     "text": [
      "WARNING:fiberflat.py:591:qa_fiberflat: Large RMS in fiberflat: 0.00801048, 447\n"
     ]
    },
    {
     "name": "stderr",
     "output_type": "stream",
     "text": [
      "WARNING:DESI:Large RMS in fiberflat: 0.00801048, 447\n"
     ]
    },
    {
     "name": "stdout",
     "output_type": "stream",
     "text": [
      "Wrote QA SkyRes file: /Users/xavier/DESI/DESI_SCRATCH/redux/madrone/calib2d/20160607/qa-flat-b0-00000003.pdf\n",
      "INFO:qa.py:81:load_qa_frame: Loaded QA file /Users/xavier/DESI/DESI_SCRATCH/redux/madrone/calib2d/20160607/qa-b1-00000003.yaml\n"
     ]
    },
    {
     "name": "stderr",
     "output_type": "stream",
     "text": [
      "INFO:DESI:Loaded QA file /Users/xavier/DESI/DESI_SCRATCH/redux/madrone/calib2d/20160607/qa-b1-00000003.yaml\n"
     ]
    },
    {
     "name": "stdout",
     "output_type": "stream",
     "text": [
      "WARNING:fiberflat.py:547:qa_fiberflat: Low counts in meanspec = 78444.9\n"
     ]
    },
    {
     "name": "stderr",
     "output_type": "stream",
     "text": [
      "WARNING:DESI:Low counts in meanspec = 78444.9\n"
     ]
    },
    {
     "name": "stdout",
     "output_type": "stream",
     "text": [
      "WARNING:fiberflat.py:569:qa_fiberflat: Discrepant flux in fiberflat: 0.00129243, 400\n"
     ]
    },
    {
     "name": "stderr",
     "output_type": "stream",
     "text": [
      "WARNING:DESI:Discrepant flux in fiberflat: 0.00129243, 400\n"
     ]
    },
    {
     "name": "stdout",
     "output_type": "stream",
     "text": [
      "WARNING:fiberflat.py:582:qa_fiberflat: Discrepant mean in fiberflat: 0.00333923, 59\n"
     ]
    },
    {
     "name": "stderr",
     "output_type": "stream",
     "text": [
      "WARNING:DESI:Discrepant mean in fiberflat: 0.00333923, 59\n"
     ]
    },
    {
     "name": "stdout",
     "output_type": "stream",
     "text": [
      "WARNING:fiberflat.py:591:qa_fiberflat: Large RMS in fiberflat: 0.00802624, 48\n"
     ]
    },
    {
     "name": "stderr",
     "output_type": "stream",
     "text": [
      "WARNING:DESI:Large RMS in fiberflat: 0.00802624, 48\n"
     ]
    },
    {
     "name": "stdout",
     "output_type": "stream",
     "text": [
      "Wrote QA SkyRes file: /Users/xavier/DESI/DESI_SCRATCH/redux/madrone/calib2d/20160607/qa-flat-b1-00000003.pdf\n",
      "INFO:qa.py:81:load_qa_frame: Loaded QA file /Users/xavier/DESI/DESI_SCRATCH/redux/madrone/calib2d/20160607/qa-z0-00000003.yaml\n"
     ]
    },
    {
     "name": "stderr",
     "output_type": "stream",
     "text": [
      "INFO:DESI:Loaded QA file /Users/xavier/DESI/DESI_SCRATCH/redux/madrone/calib2d/20160607/qa-z0-00000003.yaml\n"
     ]
    },
    {
     "name": "stdout",
     "output_type": "stream",
     "text": [
      "WARNING:fiberflat.py:569:qa_fiberflat: Discrepant flux in fiberflat: 0.00367254, 259\n"
     ]
    },
    {
     "name": "stderr",
     "output_type": "stream",
     "text": [
      "WARNING:DESI:Discrepant flux in fiberflat: 0.00367254, 259\n"
     ]
    },
    {
     "name": "stdout",
     "output_type": "stream",
     "text": [
      "WARNING:fiberflat.py:574:qa_fiberflat: Large offset in fiberflat: 0.195059\n"
     ]
    },
    {
     "name": "stderr",
     "output_type": "stream",
     "text": [
      "WARNING:DESI:Large offset in fiberflat: 0.195059\n"
     ]
    },
    {
     "name": "stdout",
     "output_type": "stream",
     "text": [
      "WARNING:fiberflat.py:582:qa_fiberflat: Discrepant mean in fiberflat: 0.0396644, 454\n"
     ]
    },
    {
     "name": "stderr",
     "output_type": "stream",
     "text": [
      "WARNING:DESI:Discrepant mean in fiberflat: 0.0396644, 454\n"
     ]
    },
    {
     "name": "stdout",
     "output_type": "stream",
     "text": [
      "WARNING:fiberflat.py:591:qa_fiberflat: Large RMS in fiberflat: 0.0224109, 448\n"
     ]
    },
    {
     "name": "stderr",
     "output_type": "stream",
     "text": [
      "WARNING:DESI:Large RMS in fiberflat: 0.0224109, 448\n"
     ]
    },
    {
     "name": "stdout",
     "output_type": "stream",
     "text": [
      "Wrote QA SkyRes file: /Users/xavier/DESI/DESI_SCRATCH/redux/madrone/calib2d/20160607/qa-flat-z0-00000003.pdf\n",
      "INFO:qa.py:81:load_qa_frame: Loaded QA file /Users/xavier/DESI/DESI_SCRATCH/redux/madrone/calib2d/20160607/qa-z1-00000003.yaml\n"
     ]
    },
    {
     "name": "stderr",
     "output_type": "stream",
     "text": [
      "INFO:DESI:Loaded QA file /Users/xavier/DESI/DESI_SCRATCH/redux/madrone/calib2d/20160607/qa-z1-00000003.yaml\n"
     ]
    },
    {
     "name": "stdout",
     "output_type": "stream",
     "text": [
      "WARNING:fiberflat.py:569:qa_fiberflat: Discrepant flux in fiberflat: 0.00335505, 400\n"
     ]
    },
    {
     "name": "stderr",
     "output_type": "stream",
     "text": [
      "WARNING:DESI:Discrepant flux in fiberflat: 0.00335505, 400\n"
     ]
    },
    {
     "name": "stdout",
     "output_type": "stream",
     "text": [
      "WARNING:fiberflat.py:574:qa_fiberflat: Large offset in fiberflat: 0.210367\n"
     ]
    },
    {
     "name": "stderr",
     "output_type": "stream",
     "text": [
      "WARNING:DESI:Large offset in fiberflat: 0.210367\n"
     ]
    },
    {
     "name": "stdout",
     "output_type": "stream",
     "text": [
      "WARNING:fiberflat.py:582:qa_fiberflat: Discrepant mean in fiberflat: 0.0238405, 174\n"
     ]
    },
    {
     "name": "stderr",
     "output_type": "stream",
     "text": [
      "WARNING:DESI:Discrepant mean in fiberflat: 0.0238405, 174\n"
     ]
    },
    {
     "name": "stdout",
     "output_type": "stream",
     "text": [
      "WARNING:fiberflat.py:591:qa_fiberflat: Large RMS in fiberflat: 0.0205416, 14\n"
     ]
    },
    {
     "name": "stderr",
     "output_type": "stream",
     "text": [
      "WARNING:DESI:Large RMS in fiberflat: 0.0205416, 14\n"
     ]
    },
    {
     "name": "stdout",
     "output_type": "stream",
     "text": [
      "Wrote QA SkyRes file: /Users/xavier/DESI/DESI_SCRATCH/redux/madrone/calib2d/20160607/qa-flat-z1-00000003.pdf\n",
      "INFO:qa.py:81:load_qa_frame: Loaded QA file /Users/xavier/DESI/DESI_SCRATCH/redux/madrone/calib2d/20160607/qa-r0-00000004.yaml\n"
     ]
    },
    {
     "name": "stderr",
     "output_type": "stream",
     "text": [
      "INFO:DESI:Loaded QA file /Users/xavier/DESI/DESI_SCRATCH/redux/madrone/calib2d/20160607/qa-r0-00000004.yaml\n"
     ]
    },
    {
     "name": "stdout",
     "output_type": "stream",
     "text": [
      "WARNING:fiberflat.py:547:qa_fiberflat: Low counts in meanspec = 37114.7\n"
     ]
    },
    {
     "name": "stderr",
     "output_type": "stream",
     "text": [
      "WARNING:DESI:Low counts in meanspec = 37114.7\n"
     ]
    },
    {
     "name": "stdout",
     "output_type": "stream",
     "text": [
      "WARNING:fiberflat.py:569:qa_fiberflat: Discrepant flux in fiberflat: 0.00129257, 268\n"
     ]
    },
    {
     "name": "stderr",
     "output_type": "stream",
     "text": [
      "WARNING:DESI:Discrepant flux in fiberflat: 0.00129257, 268\n"
     ]
    },
    {
     "name": "stdout",
     "output_type": "stream",
     "text": [
      "WARNING:fiberflat.py:582:qa_fiberflat: Discrepant mean in fiberflat: 0.00788963, 160\n"
     ]
    },
    {
     "name": "stderr",
     "output_type": "stream",
     "text": [
      "WARNING:DESI:Discrepant mean in fiberflat: 0.00788963, 160\n"
     ]
    },
    {
     "name": "stdout",
     "output_type": "stream",
     "text": [
      "WARNING:fiberflat.py:591:qa_fiberflat: Large RMS in fiberflat: 0.0167342, 45\n"
     ]
    },
    {
     "name": "stderr",
     "output_type": "stream",
     "text": [
      "WARNING:DESI:Large RMS in fiberflat: 0.0167342, 45\n"
     ]
    },
    {
     "name": "stdout",
     "output_type": "stream",
     "text": [
      "Wrote QA SkyRes file: /Users/xavier/DESI/DESI_SCRATCH/redux/madrone/calib2d/20160607/qa-flat-r0-00000004.pdf\n",
      "INFO:qa.py:81:load_qa_frame: Loaded QA file /Users/xavier/DESI/DESI_SCRATCH/redux/madrone/calib2d/20160607/qa-r1-00000004.yaml\n"
     ]
    },
    {
     "name": "stderr",
     "output_type": "stream",
     "text": [
      "INFO:DESI:Loaded QA file /Users/xavier/DESI/DESI_SCRATCH/redux/madrone/calib2d/20160607/qa-r1-00000004.yaml\n"
     ]
    },
    {
     "name": "stdout",
     "output_type": "stream",
     "text": [
      "WARNING:fiberflat.py:547:qa_fiberflat: Low counts in meanspec = 37129\n"
     ]
    },
    {
     "name": "stderr",
     "output_type": "stream",
     "text": [
      "WARNING:DESI:Low counts in meanspec = 37129\n"
     ]
    },
    {
     "name": "stdout",
     "output_type": "stream",
     "text": [
      "WARNING:fiberflat.py:569:qa_fiberflat: Discrepant flux in fiberflat: 0.00189086, 247\n"
     ]
    },
    {
     "name": "stderr",
     "output_type": "stream",
     "text": [
      "WARNING:DESI:Discrepant flux in fiberflat: 0.00189086, 247\n"
     ]
    },
    {
     "name": "stdout",
     "output_type": "stream",
     "text": [
      "WARNING:fiberflat.py:574:qa_fiberflat: Large offset in fiberflat: 0.405313\n"
     ]
    },
    {
     "name": "stderr",
     "output_type": "stream",
     "text": [
      "WARNING:DESI:Large offset in fiberflat: 0.405313\n"
     ]
    },
    {
     "name": "stdout",
     "output_type": "stream",
     "text": [
      "WARNING:fiberflat.py:582:qa_fiberflat: Discrepant mean in fiberflat: 0.0205664, 441\n"
     ]
    },
    {
     "name": "stderr",
     "output_type": "stream",
     "text": [
      "WARNING:DESI:Discrepant mean in fiberflat: 0.0205664, 441\n"
     ]
    },
    {
     "name": "stdout",
     "output_type": "stream",
     "text": [
      "WARNING:fiberflat.py:591:qa_fiberflat: Large RMS in fiberflat: 0.0526389, 441\n"
     ]
    },
    {
     "name": "stderr",
     "output_type": "stream",
     "text": [
      "WARNING:DESI:Large RMS in fiberflat: 0.0526389, 441\n"
     ]
    },
    {
     "name": "stdout",
     "output_type": "stream",
     "text": [
      "Wrote QA SkyRes file: /Users/xavier/DESI/DESI_SCRATCH/redux/madrone/calib2d/20160607/qa-flat-r1-00000004.pdf\n",
      "INFO:qa.py:81:load_qa_frame: Loaded QA file /Users/xavier/DESI/DESI_SCRATCH/redux/madrone/calib2d/20160607/qa-b0-00000004.yaml\n"
     ]
    },
    {
     "name": "stderr",
     "output_type": "stream",
     "text": [
      "INFO:DESI:Loaded QA file /Users/xavier/DESI/DESI_SCRATCH/redux/madrone/calib2d/20160607/qa-b0-00000004.yaml\n"
     ]
    },
    {
     "name": "stdout",
     "output_type": "stream",
     "text": [
      "WARNING:fiberflat.py:547:qa_fiberflat: Low counts in meanspec = 78482.3\n"
     ]
    },
    {
     "name": "stderr",
     "output_type": "stream",
     "text": [
      "WARNING:DESI:Low counts in meanspec = 78482.3\n"
     ]
    },
    {
     "name": "stdout",
     "output_type": "stream",
     "text": [
      "WARNING:fiberflat.py:569:qa_fiberflat: Discrepant flux in fiberflat: 0.00124332, 395\n"
     ]
    },
    {
     "name": "stderr",
     "output_type": "stream",
     "text": [
      "WARNING:DESI:Discrepant flux in fiberflat: 0.00124332, 395\n"
     ]
    },
    {
     "name": "stdout",
     "output_type": "stream",
     "text": [
      "WARNING:fiberflat.py:582:qa_fiberflat: Discrepant mean in fiberflat: 0.00148255, 239\n"
     ]
    },
    {
     "name": "stderr",
     "output_type": "stream",
     "text": [
      "WARNING:DESI:Discrepant mean in fiberflat: 0.00148255, 239\n"
     ]
    },
    {
     "name": "stdout",
     "output_type": "stream",
     "text": [
      "WARNING:fiberflat.py:591:qa_fiberflat: Large RMS in fiberflat: 0.00788844, 498\n"
     ]
    },
    {
     "name": "stderr",
     "output_type": "stream",
     "text": [
      "WARNING:DESI:Large RMS in fiberflat: 0.00788844, 498\n"
     ]
    },
    {
     "name": "stdout",
     "output_type": "stream",
     "text": [
      "Wrote QA SkyRes file: /Users/xavier/DESI/DESI_SCRATCH/redux/madrone/calib2d/20160607/qa-flat-b0-00000004.pdf\n",
      "INFO:qa.py:81:load_qa_frame: Loaded QA file /Users/xavier/DESI/DESI_SCRATCH/redux/madrone/calib2d/20160607/qa-b1-00000004.yaml\n"
     ]
    },
    {
     "name": "stderr",
     "output_type": "stream",
     "text": [
      "INFO:DESI:Loaded QA file /Users/xavier/DESI/DESI_SCRATCH/redux/madrone/calib2d/20160607/qa-b1-00000004.yaml\n"
     ]
    },
    {
     "name": "stdout",
     "output_type": "stream",
     "text": [
      "WARNING:fiberflat.py:547:qa_fiberflat: Low counts in meanspec = 78335.8\n"
     ]
    },
    {
     "name": "stderr",
     "output_type": "stream",
     "text": [
      "WARNING:DESI:Low counts in meanspec = 78335.8\n"
     ]
    },
    {
     "name": "stdout",
     "output_type": "stream",
     "text": [
      "WARNING:fiberflat.py:569:qa_fiberflat: Discrepant flux in fiberflat: 0.00129859, 314\n"
     ]
    },
    {
     "name": "stderr",
     "output_type": "stream",
     "text": [
      "WARNING:DESI:Discrepant flux in fiberflat: 0.00129859, 314\n"
     ]
    },
    {
     "name": "stdout",
     "output_type": "stream",
     "text": [
      "WARNING:fiberflat.py:582:qa_fiberflat: Discrepant mean in fiberflat: 0.00141853, 492\n"
     ]
    },
    {
     "name": "stderr",
     "output_type": "stream",
     "text": [
      "WARNING:DESI:Discrepant mean in fiberflat: 0.00141853, 492\n"
     ]
    },
    {
     "name": "stdout",
     "output_type": "stream",
     "text": [
      "WARNING:fiberflat.py:591:qa_fiberflat: Large RMS in fiberflat: 0.007921, 184\n"
     ]
    },
    {
     "name": "stderr",
     "output_type": "stream",
     "text": [
      "WARNING:DESI:Large RMS in fiberflat: 0.007921, 184\n"
     ]
    },
    {
     "name": "stdout",
     "output_type": "stream",
     "text": [
      "Wrote QA SkyRes file: /Users/xavier/DESI/DESI_SCRATCH/redux/madrone/calib2d/20160607/qa-flat-b1-00000004.pdf\n",
      "INFO:qa.py:81:load_qa_frame: Loaded QA file /Users/xavier/DESI/DESI_SCRATCH/redux/madrone/calib2d/20160607/qa-z0-00000004.yaml\n"
     ]
    },
    {
     "name": "stderr",
     "output_type": "stream",
     "text": [
      "INFO:DESI:Loaded QA file /Users/xavier/DESI/DESI_SCRATCH/redux/madrone/calib2d/20160607/qa-z0-00000004.yaml\n"
     ]
    },
    {
     "name": "stdout",
     "output_type": "stream",
     "text": [
      "WARNING:fiberflat.py:569:qa_fiberflat: Discrepant flux in fiberflat: 0.00340091, 259\n"
     ]
    },
    {
     "name": "stderr",
     "output_type": "stream",
     "text": [
      "WARNING:DESI:Discrepant flux in fiberflat: 0.00340091, 259\n"
     ]
    },
    {
     "name": "stdout",
     "output_type": "stream",
     "text": [
      "WARNING:fiberflat.py:574:qa_fiberflat: Large offset in fiberflat: 0.195634\n"
     ]
    },
    {
     "name": "stderr",
     "output_type": "stream",
     "text": [
      "WARNING:DESI:Large offset in fiberflat: 0.195634\n"
     ]
    },
    {
     "name": "stdout",
     "output_type": "stream",
     "text": [
      "WARNING:fiberflat.py:582:qa_fiberflat: Discrepant mean in fiberflat: 0.0350391, 249\n"
     ]
    },
    {
     "name": "stderr",
     "output_type": "stream",
     "text": [
      "WARNING:DESI:Discrepant mean in fiberflat: 0.0350391, 249\n"
     ]
    },
    {
     "name": "stdout",
     "output_type": "stream",
     "text": [
      "WARNING:fiberflat.py:591:qa_fiberflat: Large RMS in fiberflat: 0.0223984, 448\n"
     ]
    },
    {
     "name": "stderr",
     "output_type": "stream",
     "text": [
      "WARNING:DESI:Large RMS in fiberflat: 0.0223984, 448\n"
     ]
    },
    {
     "name": "stdout",
     "output_type": "stream",
     "text": [
      "Wrote QA SkyRes file: /Users/xavier/DESI/DESI_SCRATCH/redux/madrone/calib2d/20160607/qa-flat-z0-00000004.pdf\n",
      "INFO:qa.py:81:load_qa_frame: Loaded QA file /Users/xavier/DESI/DESI_SCRATCH/redux/madrone/calib2d/20160607/qa-z1-00000004.yaml\n"
     ]
    },
    {
     "name": "stderr",
     "output_type": "stream",
     "text": [
      "INFO:DESI:Loaded QA file /Users/xavier/DESI/DESI_SCRATCH/redux/madrone/calib2d/20160607/qa-z1-00000004.yaml\n"
     ]
    },
    {
     "name": "stdout",
     "output_type": "stream",
     "text": [
      "WARNING:fiberflat.py:569:qa_fiberflat: Discrepant flux in fiberflat: 0.00367, 15\n"
     ]
    },
    {
     "name": "stderr",
     "output_type": "stream",
     "text": [
      "WARNING:DESI:Discrepant flux in fiberflat: 0.00367, 15\n"
     ]
    },
    {
     "name": "stdout",
     "output_type": "stream",
     "text": [
      "WARNING:fiberflat.py:574:qa_fiberflat: Large offset in fiberflat: 0.177258\n"
     ]
    },
    {
     "name": "stderr",
     "output_type": "stream",
     "text": [
      "WARNING:DESI:Large offset in fiberflat: 0.177258\n"
     ]
    },
    {
     "name": "stdout",
     "output_type": "stream",
     "text": [
      "WARNING:fiberflat.py:582:qa_fiberflat: Discrepant mean in fiberflat: 0.0180792, 174\n"
     ]
    },
    {
     "name": "stderr",
     "output_type": "stream",
     "text": [
      "WARNING:DESI:Discrepant mean in fiberflat: 0.0180792, 174\n"
     ]
    },
    {
     "name": "stdout",
     "output_type": "stream",
     "text": [
      "WARNING:fiberflat.py:591:qa_fiberflat: Large RMS in fiberflat: 0.0204286, 14\n"
     ]
    },
    {
     "name": "stderr",
     "output_type": "stream",
     "text": [
      "WARNING:DESI:Large RMS in fiberflat: 0.0204286, 14\n"
     ]
    },
    {
     "name": "stdout",
     "output_type": "stream",
     "text": [
      "Wrote QA SkyRes file: /Users/xavier/DESI/DESI_SCRATCH/redux/madrone/calib2d/20160607/qa-flat-z1-00000004.pdf\n",
      "INFO:qa.py:81:load_qa_frame: Loaded QA file /Users/xavier/DESI/DESI_SCRATCH/redux/madrone/calib2d/20160607/qa-r0-00000005.yaml\n"
     ]
    },
    {
     "name": "stderr",
     "output_type": "stream",
     "text": [
      "INFO:DESI:Loaded QA file /Users/xavier/DESI/DESI_SCRATCH/redux/madrone/calib2d/20160607/qa-r0-00000005.yaml\n"
     ]
    },
    {
     "name": "stdout",
     "output_type": "stream",
     "text": [
      "WARNING:fiberflat.py:547:qa_fiberflat: Low counts in meanspec = 37082.2\n"
     ]
    },
    {
     "name": "stderr",
     "output_type": "stream",
     "text": [
      "WARNING:DESI:Low counts in meanspec = 37082.2\n"
     ]
    },
    {
     "name": "stdout",
     "output_type": "stream",
     "text": [
      "WARNING:fiberflat.py:569:qa_fiberflat: Discrepant flux in fiberflat: 0.00128267, 268\n"
     ]
    },
    {
     "name": "stderr",
     "output_type": "stream",
     "text": [
      "WARNING:DESI:Discrepant flux in fiberflat: 0.00128267, 268\n"
     ]
    },
    {
     "name": "stdout",
     "output_type": "stream",
     "text": [
      "WARNING:fiberflat.py:574:qa_fiberflat: Large offset in fiberflat: 0.157317\n"
     ]
    },
    {
     "name": "stderr",
     "output_type": "stream",
     "text": [
      "WARNING:DESI:Large offset in fiberflat: 0.157317\n"
     ]
    },
    {
     "name": "stdout",
     "output_type": "stream",
     "text": [
      "WARNING:fiberflat.py:582:qa_fiberflat: Discrepant mean in fiberflat: 0.0137753, 39\n"
     ]
    },
    {
     "name": "stderr",
     "output_type": "stream",
     "text": [
      "WARNING:DESI:Discrepant mean in fiberflat: 0.0137753, 39\n"
     ]
    },
    {
     "name": "stdout",
     "output_type": "stream",
     "text": [
      "WARNING:fiberflat.py:591:qa_fiberflat: Large RMS in fiberflat: 0.0168592, 45\n"
     ]
    },
    {
     "name": "stderr",
     "output_type": "stream",
     "text": [
      "WARNING:DESI:Large RMS in fiberflat: 0.0168592, 45\n"
     ]
    },
    {
     "name": "stdout",
     "output_type": "stream",
     "text": [
      "Wrote QA SkyRes file: /Users/xavier/DESI/DESI_SCRATCH/redux/madrone/calib2d/20160607/qa-flat-r0-00000005.pdf\n",
      "INFO:qa.py:81:load_qa_frame: Loaded QA file /Users/xavier/DESI/DESI_SCRATCH/redux/madrone/calib2d/20160607/qa-r1-00000005.yaml\n"
     ]
    },
    {
     "name": "stderr",
     "output_type": "stream",
     "text": [
      "INFO:DESI:Loaded QA file /Users/xavier/DESI/DESI_SCRATCH/redux/madrone/calib2d/20160607/qa-r1-00000005.yaml\n"
     ]
    },
    {
     "name": "stdout",
     "output_type": "stream",
     "text": [
      "WARNING:fiberflat.py:547:qa_fiberflat: Low counts in meanspec = 37112.3\n"
     ]
    },
    {
     "name": "stderr",
     "output_type": "stream",
     "text": [
      "WARNING:DESI:Low counts in meanspec = 37112.3\n"
     ]
    },
    {
     "name": "stdout",
     "output_type": "stream",
     "text": [
      "WARNING:fiberflat.py:569:qa_fiberflat: Discrepant flux in fiberflat: 0.00146411, 324\n"
     ]
    },
    {
     "name": "stderr",
     "output_type": "stream",
     "text": [
      "WARNING:DESI:Discrepant flux in fiberflat: 0.00146411, 324\n"
     ]
    },
    {
     "name": "stdout",
     "output_type": "stream",
     "text": [
      "WARNING:fiberflat.py:574:qa_fiberflat: Large offset in fiberflat: 0.919158\n"
     ]
    },
    {
     "name": "stderr",
     "output_type": "stream",
     "text": [
      "WARNING:DESI:Large offset in fiberflat: 0.919158\n"
     ]
    },
    {
     "name": "stdout",
     "output_type": "stream",
     "text": [
      "WARNING:fiberflat.py:582:qa_fiberflat: Discrepant mean in fiberflat: 0.015547, 441\n"
     ]
    },
    {
     "name": "stderr",
     "output_type": "stream",
     "text": [
      "WARNING:DESI:Discrepant mean in fiberflat: 0.015547, 441\n"
     ]
    },
    {
     "name": "stdout",
     "output_type": "stream",
     "text": [
      "WARNING:fiberflat.py:591:qa_fiberflat: Large RMS in fiberflat: 0.0537721, 441\n"
     ]
    },
    {
     "name": "stderr",
     "output_type": "stream",
     "text": [
      "WARNING:DESI:Large RMS in fiberflat: 0.0537721, 441\n"
     ]
    },
    {
     "name": "stdout",
     "output_type": "stream",
     "text": [
      "Wrote QA SkyRes file: /Users/xavier/DESI/DESI_SCRATCH/redux/madrone/calib2d/20160607/qa-flat-r1-00000005.pdf\n",
      "INFO:qa.py:81:load_qa_frame: Loaded QA file /Users/xavier/DESI/DESI_SCRATCH/redux/madrone/calib2d/20160607/qa-b0-00000005.yaml\n"
     ]
    },
    {
     "name": "stderr",
     "output_type": "stream",
     "text": [
      "INFO:DESI:Loaded QA file /Users/xavier/DESI/DESI_SCRATCH/redux/madrone/calib2d/20160607/qa-b0-00000005.yaml\n"
     ]
    },
    {
     "name": "stdout",
     "output_type": "stream",
     "text": [
      "WARNING:fiberflat.py:547:qa_fiberflat: Low counts in meanspec = 78321\n"
     ]
    },
    {
     "name": "stderr",
     "output_type": "stream",
     "text": [
      "WARNING:DESI:Low counts in meanspec = 78321\n"
     ]
    },
    {
     "name": "stdout",
     "output_type": "stream",
     "text": [
      "WARNING:fiberflat.py:569:qa_fiberflat: Discrepant flux in fiberflat: 0.001363, 367\n"
     ]
    },
    {
     "name": "stderr",
     "output_type": "stream",
     "text": [
      "WARNING:DESI:Discrepant flux in fiberflat: 0.001363, 367\n"
     ]
    },
    {
     "name": "stdout",
     "output_type": "stream",
     "text": [
      "WARNING:fiberflat.py:582:qa_fiberflat: Discrepant mean in fiberflat: 0.0016681, 299\n"
     ]
    },
    {
     "name": "stderr",
     "output_type": "stream",
     "text": [
      "WARNING:DESI:Discrepant mean in fiberflat: 0.0016681, 299\n"
     ]
    },
    {
     "name": "stdout",
     "output_type": "stream",
     "text": [
      "WARNING:fiberflat.py:591:qa_fiberflat: Large RMS in fiberflat: 0.0079466, 437\n"
     ]
    },
    {
     "name": "stderr",
     "output_type": "stream",
     "text": [
      "WARNING:DESI:Large RMS in fiberflat: 0.0079466, 437\n"
     ]
    },
    {
     "name": "stdout",
     "output_type": "stream",
     "text": [
      "Wrote QA SkyRes file: /Users/xavier/DESI/DESI_SCRATCH/redux/madrone/calib2d/20160607/qa-flat-b0-00000005.pdf\n",
      "INFO:qa.py:81:load_qa_frame: Loaded QA file /Users/xavier/DESI/DESI_SCRATCH/redux/madrone/calib2d/20160607/qa-b1-00000005.yaml\n"
     ]
    },
    {
     "name": "stderr",
     "output_type": "stream",
     "text": [
      "INFO:DESI:Loaded QA file /Users/xavier/DESI/DESI_SCRATCH/redux/madrone/calib2d/20160607/qa-b1-00000005.yaml\n"
     ]
    },
    {
     "name": "stdout",
     "output_type": "stream",
     "text": [
      "WARNING:fiberflat.py:547:qa_fiberflat: Low counts in meanspec = 78364.5\n"
     ]
    },
    {
     "name": "stderr",
     "output_type": "stream",
     "text": [
      "WARNING:DESI:Low counts in meanspec = 78364.5\n"
     ]
    },
    {
     "name": "stdout",
     "output_type": "stream",
     "text": [
      "WARNING:fiberflat.py:569:qa_fiberflat: Discrepant flux in fiberflat: 0.00123105, 256\n"
     ]
    },
    {
     "name": "stderr",
     "output_type": "stream",
     "text": [
      "WARNING:DESI:Discrepant flux in fiberflat: 0.00123105, 256\n"
     ]
    },
    {
     "name": "stdout",
     "output_type": "stream",
     "text": [
      "WARNING:fiberflat.py:582:qa_fiberflat: Discrepant mean in fiberflat: 0.00250363, 495\n"
     ]
    },
    {
     "name": "stderr",
     "output_type": "stream",
     "text": [
      "WARNING:DESI:Discrepant mean in fiberflat: 0.00250363, 495\n"
     ]
    },
    {
     "name": "stdout",
     "output_type": "stream",
     "text": [
      "WARNING:fiberflat.py:591:qa_fiberflat: Large RMS in fiberflat: 0.00791223, 80\n"
     ]
    },
    {
     "name": "stderr",
     "output_type": "stream",
     "text": [
      "WARNING:DESI:Large RMS in fiberflat: 0.00791223, 80\n"
     ]
    },
    {
     "name": "stdout",
     "output_type": "stream",
     "text": [
      "Wrote QA SkyRes file: /Users/xavier/DESI/DESI_SCRATCH/redux/madrone/calib2d/20160607/qa-flat-b1-00000005.pdf\n",
      "INFO:qa.py:81:load_qa_frame: Loaded QA file /Users/xavier/DESI/DESI_SCRATCH/redux/madrone/calib2d/20160607/qa-z0-00000005.yaml\n"
     ]
    },
    {
     "name": "stderr",
     "output_type": "stream",
     "text": [
      "INFO:DESI:Loaded QA file /Users/xavier/DESI/DESI_SCRATCH/redux/madrone/calib2d/20160607/qa-z0-00000005.yaml\n"
     ]
    },
    {
     "name": "stdout",
     "output_type": "stream",
     "text": [
      "WARNING:fiberflat.py:569:qa_fiberflat: Discrepant flux in fiberflat: 0.00355213, 259\n"
     ]
    },
    {
     "name": "stderr",
     "output_type": "stream",
     "text": [
      "WARNING:DESI:Discrepant flux in fiberflat: 0.00355213, 259\n"
     ]
    },
    {
     "name": "stdout",
     "output_type": "stream",
     "text": [
      "WARNING:fiberflat.py:574:qa_fiberflat: Large offset in fiberflat: 0.19243\n"
     ]
    },
    {
     "name": "stderr",
     "output_type": "stream",
     "text": [
      "WARNING:DESI:Large offset in fiberflat: 0.19243\n"
     ]
    },
    {
     "name": "stdout",
     "output_type": "stream",
     "text": [
      "WARNING:fiberflat.py:582:qa_fiberflat: Discrepant mean in fiberflat: 0.0285459, 232\n"
     ]
    },
    {
     "name": "stderr",
     "output_type": "stream",
     "text": [
      "WARNING:DESI:Discrepant mean in fiberflat: 0.0285459, 232\n"
     ]
    },
    {
     "name": "stdout",
     "output_type": "stream",
     "text": [
      "WARNING:fiberflat.py:591:qa_fiberflat: Large RMS in fiberflat: 0.0224893, 448\n"
     ]
    },
    {
     "name": "stderr",
     "output_type": "stream",
     "text": [
      "WARNING:DESI:Large RMS in fiberflat: 0.0224893, 448\n"
     ]
    },
    {
     "name": "stdout",
     "output_type": "stream",
     "text": [
      "Wrote QA SkyRes file: /Users/xavier/DESI/DESI_SCRATCH/redux/madrone/calib2d/20160607/qa-flat-z0-00000005.pdf\n",
      "INFO:qa.py:81:load_qa_frame: Loaded QA file /Users/xavier/DESI/DESI_SCRATCH/redux/madrone/calib2d/20160607/qa-z1-00000005.yaml\n"
     ]
    },
    {
     "name": "stderr",
     "output_type": "stream",
     "text": [
      "INFO:DESI:Loaded QA file /Users/xavier/DESI/DESI_SCRATCH/redux/madrone/calib2d/20160607/qa-z1-00000005.yaml\n"
     ]
    },
    {
     "name": "stdout",
     "output_type": "stream",
     "text": [
      "WARNING:fiberflat.py:569:qa_fiberflat: Discrepant flux in fiberflat: 0.00336685, 15\n"
     ]
    },
    {
     "name": "stderr",
     "output_type": "stream",
     "text": [
      "WARNING:DESI:Discrepant flux in fiberflat: 0.00336685, 15\n"
     ]
    },
    {
     "name": "stdout",
     "output_type": "stream",
     "text": [
      "WARNING:fiberflat.py:574:qa_fiberflat: Large offset in fiberflat: 0.616393\n"
     ]
    },
    {
     "name": "stderr",
     "output_type": "stream",
     "text": [
      "WARNING:DESI:Large offset in fiberflat: 0.616393\n"
     ]
    },
    {
     "name": "stdout",
     "output_type": "stream",
     "text": [
      "WARNING:fiberflat.py:582:qa_fiberflat: Discrepant mean in fiberflat: 0.0182033, 465\n"
     ]
    },
    {
     "name": "stderr",
     "output_type": "stream",
     "text": [
      "WARNING:DESI:Discrepant mean in fiberflat: 0.0182033, 465\n"
     ]
    },
    {
     "name": "stdout",
     "output_type": "stream",
     "text": [
      "WARNING:fiberflat.py:591:qa_fiberflat: Large RMS in fiberflat: 0.0206151, 14\n"
     ]
    },
    {
     "name": "stderr",
     "output_type": "stream",
     "text": [
      "WARNING:DESI:Large RMS in fiberflat: 0.0206151, 14\n"
     ]
    },
    {
     "name": "stdout",
     "output_type": "stream",
     "text": [
      "Wrote QA SkyRes file: /Users/xavier/DESI/DESI_SCRATCH/redux/madrone/calib2d/20160607/qa-flat-z1-00000005.pdf\n",
      "INFO:qa.py:81:load_qa_frame: Loaded QA file /Users/xavier/DESI/DESI_SCRATCH/redux/madrone/exposures/20160607/00000006/qa-r0-00000006.yaml\n"
     ]
    },
    {
     "name": "stderr",
     "output_type": "stream",
     "text": [
      "INFO:DESI:Loaded QA file /Users/xavier/DESI/DESI_SCRATCH/redux/madrone/exposures/20160607/00000006/qa-r0-00000006.yaml\n"
     ]
    },
    {
     "name": "stdout",
     "output_type": "stream",
     "text": [
      "WARNING:sky.py:266:qa_skysub: Bad Sky Subtraction in 30 fibers\n"
     ]
    },
    {
     "name": "stderr",
     "output_type": "stream",
     "text": [
      "WARNING:DESI:Bad Sky Subtraction in 30 fibers\n"
     ]
    },
    {
     "name": "stdout",
     "output_type": "stream",
     "text": [
      "INFO:sky.py:271:qa_skysub: Median residual for sky fibers = 0.68364\n"
     ]
    },
    {
     "name": "stderr",
     "output_type": "stream",
     "text": [
      "INFO:DESI:Median residual for sky fibers = 0.68364\n"
     ]
    },
    {
     "name": "stdout",
     "output_type": "stream",
     "text": [
      "Wrote QA SkyRes file: /Users/xavier/DESI/DESI_SCRATCH/redux/madrone/exposures/20160607/00000006/qa-sky-r0-00000006.pdf\n",
      "WARNING:fluxcalibration.py:637:qa_fluxcalib: Bad standard star ZP 0.529519, in fiber 0\n"
     ]
    },
    {
     "name": "stderr",
     "output_type": "stream",
     "text": [
      "/Users/xavier/DESI/desispec/py/desispec/fluxcalibration.py:568: RuntimeWarning: invalid value encountered in log10\n",
      "  ZP_AB = -2.5 * np.log10(ZP_fnu) - 48.6\n",
      "WARNING:DESI:Bad standard star ZP 0.529519, in fiber 0\n"
     ]
    },
    {
     "name": "stdout",
     "output_type": "stream",
     "text": [
      "Wrote QA SkyRes file: /Users/xavier/DESI/DESI_SCRATCH/redux/madrone/exposures/20160607/00000006/qa-flux-r0-00000006.pdf\n",
      "INFO:qa.py:81:load_qa_frame: Loaded QA file /Users/xavier/DESI/DESI_SCRATCH/redux/madrone/exposures/20160607/00000006/qa-r1-00000006.yaml\n"
     ]
    },
    {
     "name": "stderr",
     "output_type": "stream",
     "text": [
      "INFO:DESI:Loaded QA file /Users/xavier/DESI/DESI_SCRATCH/redux/madrone/exposures/20160607/00000006/qa-r1-00000006.yaml\n"
     ]
    },
    {
     "name": "stdout",
     "output_type": "stream",
     "text": [
      "WARNING:sky.py:266:qa_skysub: Bad Sky Subtraction in 30 fibers\n"
     ]
    },
    {
     "name": "stderr",
     "output_type": "stream",
     "text": [
      "WARNING:DESI:Bad Sky Subtraction in 30 fibers\n"
     ]
    },
    {
     "name": "stdout",
     "output_type": "stream",
     "text": [
      "INFO:sky.py:271:qa_skysub: Median residual for sky fibers = 0.779633\n"
     ]
    },
    {
     "name": "stderr",
     "output_type": "stream",
     "text": [
      "INFO:DESI:Median residual for sky fibers = 0.779633\n"
     ]
    },
    {
     "name": "stdout",
     "output_type": "stream",
     "text": [
      "Wrote QA SkyRes file: /Users/xavier/DESI/DESI_SCRATCH/redux/madrone/exposures/20160607/00000006/qa-sky-r1-00000006.pdf\n",
      "WARNING:fluxcalibration.py:637:qa_fluxcalib: Bad standard star ZP 0.306946, in fiber 0\n"
     ]
    },
    {
     "name": "stderr",
     "output_type": "stream",
     "text": [
      "WARNING:DESI:Bad standard star ZP 0.306946, in fiber 0\n"
     ]
    },
    {
     "name": "stdout",
     "output_type": "stream",
     "text": [
      "Wrote QA SkyRes file: /Users/xavier/DESI/DESI_SCRATCH/redux/madrone/exposures/20160607/00000006/qa-flux-r1-00000006.pdf\n",
      "INFO:qa.py:81:load_qa_frame: Loaded QA file /Users/xavier/DESI/DESI_SCRATCH/redux/madrone/exposures/20160607/00000006/qa-b0-00000006.yaml\n"
     ]
    },
    {
     "name": "stderr",
     "output_type": "stream",
     "text": [
      "INFO:DESI:Loaded QA file /Users/xavier/DESI/DESI_SCRATCH/redux/madrone/exposures/20160607/00000006/qa-b0-00000006.yaml\n"
     ]
    },
    {
     "name": "stdout",
     "output_type": "stream",
     "text": [
      "WARNING:sky.py:266:qa_skysub: Bad Sky Subtraction in 37 fibers\n"
     ]
    },
    {
     "name": "stderr",
     "output_type": "stream",
     "text": [
      "WARNING:DESI:Bad Sky Subtraction in 37 fibers\n"
     ]
    },
    {
     "name": "stdout",
     "output_type": "stream",
     "text": [
      "INFO:sky.py:271:qa_skysub: Median residual for sky fibers = 0.714767\n"
     ]
    },
    {
     "name": "stderr",
     "output_type": "stream",
     "text": [
      "INFO:DESI:Median residual for sky fibers = 0.714767\n"
     ]
    },
    {
     "name": "stdout",
     "output_type": "stream",
     "text": [
      "Wrote QA SkyRes file: /Users/xavier/DESI/DESI_SCRATCH/redux/madrone/exposures/20160607/00000006/qa-sky-b0-00000006.pdf\n",
      "WARNING:fluxcalibration.py:637:qa_fluxcalib: Bad standard star ZP 0.427825, in fiber 0\n"
     ]
    },
    {
     "name": "stderr",
     "output_type": "stream",
     "text": [
      "WARNING:DESI:Bad standard star ZP 0.427825, in fiber 0\n"
     ]
    },
    {
     "name": "stdout",
     "output_type": "stream",
     "text": [
      "Wrote QA SkyRes file: /Users/xavier/DESI/DESI_SCRATCH/redux/madrone/exposures/20160607/00000006/qa-flux-b0-00000006.pdf\n",
      "INFO:qa.py:81:load_qa_frame: Loaded QA file /Users/xavier/DESI/DESI_SCRATCH/redux/madrone/exposures/20160607/00000006/qa-b1-00000006.yaml\n"
     ]
    },
    {
     "name": "stderr",
     "output_type": "stream",
     "text": [
      "INFO:DESI:Loaded QA file /Users/xavier/DESI/DESI_SCRATCH/redux/madrone/exposures/20160607/00000006/qa-b1-00000006.yaml\n"
     ]
    },
    {
     "name": "stdout",
     "output_type": "stream",
     "text": [
      "WARNING:sky.py:266:qa_skysub: Bad Sky Subtraction in 37 fibers\n"
     ]
    },
    {
     "name": "stderr",
     "output_type": "stream",
     "text": [
      "WARNING:DESI:Bad Sky Subtraction in 37 fibers\n"
     ]
    },
    {
     "name": "stdout",
     "output_type": "stream",
     "text": [
      "INFO:sky.py:271:qa_skysub: Median residual for sky fibers = 0.781754\n"
     ]
    },
    {
     "name": "stderr",
     "output_type": "stream",
     "text": [
      "INFO:DESI:Median residual for sky fibers = 0.781754\n"
     ]
    },
    {
     "name": "stdout",
     "output_type": "stream",
     "text": [
      "Wrote QA SkyRes file: /Users/xavier/DESI/DESI_SCRATCH/redux/madrone/exposures/20160607/00000006/qa-sky-b1-00000006.pdf\n",
      "WARNING:fluxcalibration.py:637:qa_fluxcalib: Bad standard star ZP 0.256171, in fiber 0\n"
     ]
    },
    {
     "name": "stderr",
     "output_type": "stream",
     "text": [
      "WARNING:DESI:Bad standard star ZP 0.256171, in fiber 0\n"
     ]
    },
    {
     "name": "stdout",
     "output_type": "stream",
     "text": [
      "Wrote QA SkyRes file: /Users/xavier/DESI/DESI_SCRATCH/redux/madrone/exposures/20160607/00000006/qa-flux-b1-00000006.pdf\n",
      "INFO:qa.py:81:load_qa_frame: Loaded QA file /Users/xavier/DESI/DESI_SCRATCH/redux/madrone/exposures/20160607/00000006/qa-z0-00000006.yaml\n"
     ]
    },
    {
     "name": "stderr",
     "output_type": "stream",
     "text": [
      "INFO:DESI:Loaded QA file /Users/xavier/DESI/DESI_SCRATCH/redux/madrone/exposures/20160607/00000006/qa-z0-00000006.yaml\n"
     ]
    },
    {
     "name": "stdout",
     "output_type": "stream",
     "text": [
      "WARNING:sky.py:266:qa_skysub: Bad Sky Subtraction in 37 fibers\n"
     ]
    },
    {
     "name": "stderr",
     "output_type": "stream",
     "text": [
      "WARNING:DESI:Bad Sky Subtraction in 37 fibers\n"
     ]
    },
    {
     "name": "stdout",
     "output_type": "stream",
     "text": [
      "INFO:sky.py:271:qa_skysub: Median residual for sky fibers = 0.561035\n"
     ]
    },
    {
     "name": "stderr",
     "output_type": "stream",
     "text": [
      "INFO:DESI:Median residual for sky fibers = 0.561035\n"
     ]
    },
    {
     "name": "stdout",
     "output_type": "stream",
     "text": [
      "Wrote QA SkyRes file: /Users/xavier/DESI/DESI_SCRATCH/redux/madrone/exposures/20160607/00000006/qa-sky-z0-00000006.pdf\n",
      "WARNING:fluxcalibration.py:637:qa_fluxcalib: Bad standard star ZP 0.441451, in fiber 0\n"
     ]
    },
    {
     "name": "stderr",
     "output_type": "stream",
     "text": [
      "WARNING:DESI:Bad standard star ZP 0.441451, in fiber 0\n"
     ]
    },
    {
     "name": "stdout",
     "output_type": "stream",
     "text": [
      "Wrote QA SkyRes file: /Users/xavier/DESI/DESI_SCRATCH/redux/madrone/exposures/20160607/00000006/qa-flux-z0-00000006.pdf\n",
      "INFO:qa.py:81:load_qa_frame: Loaded QA file /Users/xavier/DESI/DESI_SCRATCH/redux/madrone/exposures/20160607/00000006/qa-z1-00000006.yaml\n"
     ]
    },
    {
     "name": "stderr",
     "output_type": "stream",
     "text": [
      "INFO:DESI:Loaded QA file /Users/xavier/DESI/DESI_SCRATCH/redux/madrone/exposures/20160607/00000006/qa-z1-00000006.yaml\n"
     ]
    },
    {
     "name": "stdout",
     "output_type": "stream",
     "text": [
      "WARNING:sky.py:266:qa_skysub: Bad Sky Subtraction in 37 fibers\n"
     ]
    },
    {
     "name": "stderr",
     "output_type": "stream",
     "text": [
      "WARNING:DESI:Bad Sky Subtraction in 37 fibers\n"
     ]
    },
    {
     "name": "stdout",
     "output_type": "stream",
     "text": [
      "INFO:sky.py:271:qa_skysub: Median residual for sky fibers = 0.687958\n"
     ]
    },
    {
     "name": "stderr",
     "output_type": "stream",
     "text": [
      "INFO:DESI:Median residual for sky fibers = 0.687958\n"
     ]
    },
    {
     "name": "stdout",
     "output_type": "stream",
     "text": [
      "Wrote QA SkyRes file: /Users/xavier/DESI/DESI_SCRATCH/redux/madrone/exposures/20160607/00000006/qa-sky-z1-00000006.pdf\n",
      "WARNING:fluxcalibration.py:637:qa_fluxcalib: Bad standard star ZP 0.27606, in fiber 0\n"
     ]
    },
    {
     "name": "stderr",
     "output_type": "stream",
     "text": [
      "WARNING:DESI:Bad standard star ZP 0.27606, in fiber 0\n"
     ]
    },
    {
     "name": "stdout",
     "output_type": "stream",
     "text": [
      "Wrote QA SkyRes file: /Users/xavier/DESI/DESI_SCRATCH/redux/madrone/exposures/20160607/00000006/qa-flux-z1-00000006.pdf\n",
      "INFO:qa.py:81:load_qa_frame: Loaded QA file /Users/xavier/DESI/DESI_SCRATCH/redux/madrone/exposures/20160607/00000007/qa-r0-00000007.yaml\n"
     ]
    },
    {
     "name": "stderr",
     "output_type": "stream",
     "text": [
      "INFO:DESI:Loaded QA file /Users/xavier/DESI/DESI_SCRATCH/redux/madrone/exposures/20160607/00000007/qa-r0-00000007.yaml\n"
     ]
    },
    {
     "name": "stdout",
     "output_type": "stream",
     "text": [
      "WARNING:sky.py:266:qa_skysub: Bad Sky Subtraction in 18 fibers\n"
     ]
    },
    {
     "name": "stderr",
     "output_type": "stream",
     "text": [
      "WARNING:DESI:Bad Sky Subtraction in 18 fibers\n"
     ]
    },
    {
     "name": "stdout",
     "output_type": "stream",
     "text": [
      "INFO:sky.py:271:qa_skysub: Median residual for sky fibers = 0.824932\n"
     ]
    },
    {
     "name": "stderr",
     "output_type": "stream",
     "text": [
      "INFO:DESI:Median residual for sky fibers = 0.824932\n"
     ]
    },
    {
     "name": "stdout",
     "output_type": "stream",
     "text": [
      "Wrote QA SkyRes file: /Users/xavier/DESI/DESI_SCRATCH/redux/madrone/exposures/20160607/00000007/qa-sky-r0-00000007.pdf\n",
      "WARNING:fluxcalibration.py:637:qa_fluxcalib: Bad standard star ZP 0.514517, in fiber 0\n"
     ]
    },
    {
     "name": "stderr",
     "output_type": "stream",
     "text": [
      "WARNING:DESI:Bad standard star ZP 0.514517, in fiber 0\n"
     ]
    },
    {
     "name": "stdout",
     "output_type": "stream",
     "text": [
      "Wrote QA SkyRes file: /Users/xavier/DESI/DESI_SCRATCH/redux/madrone/exposures/20160607/00000007/qa-flux-r0-00000007.pdf\n",
      "INFO:qa.py:81:load_qa_frame: Loaded QA file /Users/xavier/DESI/DESI_SCRATCH/redux/madrone/exposures/20160607/00000007/qa-r1-00000007.yaml\n"
     ]
    },
    {
     "name": "stderr",
     "output_type": "stream",
     "text": [
      "INFO:DESI:Loaded QA file /Users/xavier/DESI/DESI_SCRATCH/redux/madrone/exposures/20160607/00000007/qa-r1-00000007.yaml\n"
     ]
    },
    {
     "name": "stdout",
     "output_type": "stream",
     "text": [
      "WARNING:sky.py:266:qa_skysub: Bad Sky Subtraction in 14 fibers\n"
     ]
    },
    {
     "name": "stderr",
     "output_type": "stream",
     "text": [
      "WARNING:DESI:Bad Sky Subtraction in 14 fibers\n"
     ]
    },
    {
     "name": "stdout",
     "output_type": "stream",
     "text": [
      "INFO:sky.py:271:qa_skysub: Median residual for sky fibers = 0.685858\n"
     ]
    },
    {
     "name": "stderr",
     "output_type": "stream",
     "text": [
      "INFO:DESI:Median residual for sky fibers = 0.685858\n"
     ]
    },
    {
     "name": "stdout",
     "output_type": "stream",
     "text": [
      "Wrote QA SkyRes file: /Users/xavier/DESI/DESI_SCRATCH/redux/madrone/exposures/20160607/00000007/qa-sky-r1-00000007.pdf\n",
      "WARNING:fluxcalibration.py:637:qa_fluxcalib: Bad standard star ZP 0.512005, in fiber 0\n"
     ]
    },
    {
     "name": "stderr",
     "output_type": "stream",
     "text": [
      "WARNING:DESI:Bad standard star ZP 0.512005, in fiber 0\n"
     ]
    },
    {
     "name": "stdout",
     "output_type": "stream",
     "text": [
      "Wrote QA SkyRes file: /Users/xavier/DESI/DESI_SCRATCH/redux/madrone/exposures/20160607/00000007/qa-flux-r1-00000007.pdf\n",
      "INFO:qa.py:81:load_qa_frame: Loaded QA file /Users/xavier/DESI/DESI_SCRATCH/redux/madrone/exposures/20160607/00000007/qa-b0-00000007.yaml\n"
     ]
    },
    {
     "name": "stderr",
     "output_type": "stream",
     "text": [
      "INFO:DESI:Loaded QA file /Users/xavier/DESI/DESI_SCRATCH/redux/madrone/exposures/20160607/00000007/qa-b0-00000007.yaml\n"
     ]
    },
    {
     "name": "stdout",
     "output_type": "stream",
     "text": [
      "WARNING:sky.py:266:qa_skysub: Bad Sky Subtraction in 38 fibers\n"
     ]
    },
    {
     "name": "stderr",
     "output_type": "stream",
     "text": [
      "WARNING:DESI:Bad Sky Subtraction in 38 fibers\n"
     ]
    },
    {
     "name": "stdout",
     "output_type": "stream",
     "text": [
      "INFO:sky.py:271:qa_skysub: Median residual for sky fibers = 0.797745\n"
     ]
    },
    {
     "name": "stderr",
     "output_type": "stream",
     "text": [
      "INFO:DESI:Median residual for sky fibers = 0.797745\n"
     ]
    },
    {
     "name": "stdout",
     "output_type": "stream",
     "text": [
      "Wrote QA SkyRes file: /Users/xavier/DESI/DESI_SCRATCH/redux/madrone/exposures/20160607/00000007/qa-sky-b0-00000007.pdf\n",
      "WARNING:fluxcalibration.py:637:qa_fluxcalib: Bad standard star ZP 0.480262, in fiber 0\n"
     ]
    },
    {
     "name": "stderr",
     "output_type": "stream",
     "text": [
      "WARNING:DESI:Bad standard star ZP 0.480262, in fiber 0\n"
     ]
    },
    {
     "name": "stdout",
     "output_type": "stream",
     "text": [
      "Wrote QA SkyRes file: /Users/xavier/DESI/DESI_SCRATCH/redux/madrone/exposures/20160607/00000007/qa-flux-b0-00000007.pdf\n",
      "INFO:qa.py:81:load_qa_frame: Loaded QA file /Users/xavier/DESI/DESI_SCRATCH/redux/madrone/exposures/20160607/00000007/qa-b1-00000007.yaml\n"
     ]
    },
    {
     "name": "stderr",
     "output_type": "stream",
     "text": [
      "INFO:DESI:Loaded QA file /Users/xavier/DESI/DESI_SCRATCH/redux/madrone/exposures/20160607/00000007/qa-b1-00000007.yaml\n"
     ]
    },
    {
     "name": "stdout",
     "output_type": "stream",
     "text": [
      "WARNING:sky.py:266:qa_skysub: Bad Sky Subtraction in 35 fibers\n"
     ]
    },
    {
     "name": "stderr",
     "output_type": "stream",
     "text": [
      "WARNING:DESI:Bad Sky Subtraction in 35 fibers\n"
     ]
    },
    {
     "name": "stdout",
     "output_type": "stream",
     "text": [
      "INFO:sky.py:271:qa_skysub: Median residual for sky fibers = 0.764565\n"
     ]
    },
    {
     "name": "stderr",
     "output_type": "stream",
     "text": [
      "INFO:DESI:Median residual for sky fibers = 0.764565\n"
     ]
    },
    {
     "name": "stdout",
     "output_type": "stream",
     "text": [
      "Wrote QA SkyRes file: /Users/xavier/DESI/DESI_SCRATCH/redux/madrone/exposures/20160607/00000007/qa-sky-b1-00000007.pdf\n",
      "WARNING:fluxcalibration.py:637:qa_fluxcalib: Bad standard star ZP 0.501066, in fiber 0\n"
     ]
    },
    {
     "name": "stderr",
     "output_type": "stream",
     "text": [
      "WARNING:DESI:Bad standard star ZP 0.501066, in fiber 0\n"
     ]
    },
    {
     "name": "stdout",
     "output_type": "stream",
     "text": [
      "Wrote QA SkyRes file: /Users/xavier/DESI/DESI_SCRATCH/redux/madrone/exposures/20160607/00000007/qa-flux-b1-00000007.pdf\n",
      "INFO:qa.py:81:load_qa_frame: Loaded QA file /Users/xavier/DESI/DESI_SCRATCH/redux/madrone/exposures/20160607/00000007/qa-z0-00000007.yaml\n"
     ]
    },
    {
     "name": "stderr",
     "output_type": "stream",
     "text": [
      "INFO:DESI:Loaded QA file /Users/xavier/DESI/DESI_SCRATCH/redux/madrone/exposures/20160607/00000007/qa-z0-00000007.yaml\n"
     ]
    },
    {
     "name": "stdout",
     "output_type": "stream",
     "text": [
      "WARNING:sky.py:266:qa_skysub: Bad Sky Subtraction in 38 fibers\n"
     ]
    },
    {
     "name": "stderr",
     "output_type": "stream",
     "text": [
      "WARNING:DESI:Bad Sky Subtraction in 38 fibers\n"
     ]
    },
    {
     "name": "stdout",
     "output_type": "stream",
     "text": [
      "INFO:sky.py:271:qa_skysub: Median residual for sky fibers = 0.482605\n"
     ]
    },
    {
     "name": "stderr",
     "output_type": "stream",
     "text": [
      "INFO:DESI:Median residual for sky fibers = 0.482605\n"
     ]
    },
    {
     "name": "stdout",
     "output_type": "stream",
     "text": [
      "Wrote QA SkyRes file: /Users/xavier/DESI/DESI_SCRATCH/redux/madrone/exposures/20160607/00000007/qa-sky-z0-00000007.pdf\n",
      "WARNING:fluxcalibration.py:637:qa_fluxcalib: Bad standard star ZP 0.466796, in fiber 0\n"
     ]
    },
    {
     "name": "stderr",
     "output_type": "stream",
     "text": [
      "WARNING:DESI:Bad standard star ZP 0.466796, in fiber 0\n"
     ]
    },
    {
     "name": "stdout",
     "output_type": "stream",
     "text": [
      "Wrote QA SkyRes file: /Users/xavier/DESI/DESI_SCRATCH/redux/madrone/exposures/20160607/00000007/qa-flux-z0-00000007.pdf\n",
      "INFO:qa.py:81:load_qa_frame: Loaded QA file /Users/xavier/DESI/DESI_SCRATCH/redux/madrone/exposures/20160607/00000007/qa-z1-00000007.yaml\n"
     ]
    },
    {
     "name": "stderr",
     "output_type": "stream",
     "text": [
      "INFO:DESI:Loaded QA file /Users/xavier/DESI/DESI_SCRATCH/redux/madrone/exposures/20160607/00000007/qa-z1-00000007.yaml\n"
     ]
    },
    {
     "name": "stdout",
     "output_type": "stream",
     "text": [
      "WARNING:sky.py:266:qa_skysub: Bad Sky Subtraction in 36 fibers\n"
     ]
    },
    {
     "name": "stderr",
     "output_type": "stream",
     "text": [
      "WARNING:DESI:Bad Sky Subtraction in 36 fibers\n"
     ]
    },
    {
     "name": "stdout",
     "output_type": "stream",
     "text": [
      "INFO:sky.py:271:qa_skysub: Median residual for sky fibers = 0.541367\n"
     ]
    },
    {
     "name": "stderr",
     "output_type": "stream",
     "text": [
      "INFO:DESI:Median residual for sky fibers = 0.541367\n"
     ]
    },
    {
     "name": "stdout",
     "output_type": "stream",
     "text": [
      "Wrote QA SkyRes file: /Users/xavier/DESI/DESI_SCRATCH/redux/madrone/exposures/20160607/00000007/qa-sky-z1-00000007.pdf\n",
      "WARNING:fluxcalibration.py:637:qa_fluxcalib: Bad standard star ZP 0.473582, in fiber 0\n"
     ]
    },
    {
     "name": "stderr",
     "output_type": "stream",
     "text": [
      "WARNING:DESI:Bad standard star ZP 0.473582, in fiber 0\n"
     ]
    },
    {
     "name": "stdout",
     "output_type": "stream",
     "text": [
      "Wrote QA SkyRes file: /Users/xavier/DESI/DESI_SCRATCH/redux/madrone/exposures/20160607/00000007/qa-flux-z1-00000007.pdf\n",
      "INFO:qa.py:81:load_qa_frame: Loaded QA file /Users/xavier/DESI/DESI_SCRATCH/redux/madrone/exposures/20160607/00000008/qa-r0-00000008.yaml\n"
     ]
    },
    {
     "name": "stderr",
     "output_type": "stream",
     "text": [
      "INFO:DESI:Loaded QA file /Users/xavier/DESI/DESI_SCRATCH/redux/madrone/exposures/20160607/00000008/qa-r0-00000008.yaml\n"
     ]
    },
    {
     "name": "stdout",
     "output_type": "stream",
     "text": [
      "WARNING:sky.py:266:qa_skysub: Bad Sky Subtraction in 32 fibers\n"
     ]
    },
    {
     "name": "stderr",
     "output_type": "stream",
     "text": [
      "WARNING:DESI:Bad Sky Subtraction in 32 fibers\n"
     ]
    },
    {
     "name": "stdout",
     "output_type": "stream",
     "text": [
      "INFO:sky.py:271:qa_skysub: Median residual for sky fibers = 0.785324\n"
     ]
    },
    {
     "name": "stderr",
     "output_type": "stream",
     "text": [
      "INFO:DESI:Median residual for sky fibers = 0.785324\n"
     ]
    },
    {
     "name": "stdout",
     "output_type": "stream",
     "text": [
      "Wrote QA SkyRes file: /Users/xavier/DESI/DESI_SCRATCH/redux/madrone/exposures/20160607/00000008/qa-sky-r0-00000008.pdf\n",
      "WARNING:fluxcalibration.py:637:qa_fluxcalib: Bad standard star ZP 0.44742, in fiber 0\n"
     ]
    },
    {
     "name": "stderr",
     "output_type": "stream",
     "text": [
      "WARNING:DESI:Bad standard star ZP 0.44742, in fiber 0\n"
     ]
    },
    {
     "name": "stdout",
     "output_type": "stream",
     "text": [
      "Wrote QA SkyRes file: /Users/xavier/DESI/DESI_SCRATCH/redux/madrone/exposures/20160607/00000008/qa-flux-r0-00000008.pdf\n",
      "INFO:qa.py:81:load_qa_frame: Loaded QA file /Users/xavier/DESI/DESI_SCRATCH/redux/madrone/exposures/20160607/00000008/qa-r1-00000008.yaml\n"
     ]
    },
    {
     "name": "stderr",
     "output_type": "stream",
     "text": [
      "INFO:DESI:Loaded QA file /Users/xavier/DESI/DESI_SCRATCH/redux/madrone/exposures/20160607/00000008/qa-r1-00000008.yaml\n"
     ]
    },
    {
     "name": "stdout",
     "output_type": "stream",
     "text": [
      "WARNING:sky.py:266:qa_skysub: Bad Sky Subtraction in 26 fibers\n"
     ]
    },
    {
     "name": "stderr",
     "output_type": "stream",
     "text": [
      "WARNING:DESI:Bad Sky Subtraction in 26 fibers\n"
     ]
    },
    {
     "name": "stdout",
     "output_type": "stream",
     "text": [
      "INFO:sky.py:271:qa_skysub: Median residual for sky fibers = 0.808418\n"
     ]
    },
    {
     "name": "stderr",
     "output_type": "stream",
     "text": [
      "INFO:DESI:Median residual for sky fibers = 0.808418\n"
     ]
    },
    {
     "name": "stdout",
     "output_type": "stream",
     "text": [
      "Wrote QA SkyRes file: /Users/xavier/DESI/DESI_SCRATCH/redux/madrone/exposures/20160607/00000008/qa-sky-r1-00000008.pdf\n",
      "WARNING:fluxcalibration.py:637:qa_fluxcalib: Bad standard star ZP 0.491301, in fiber 0\n"
     ]
    },
    {
     "name": "stderr",
     "output_type": "stream",
     "text": [
      "WARNING:DESI:Bad standard star ZP 0.491301, in fiber 0\n"
     ]
    },
    {
     "name": "stdout",
     "output_type": "stream",
     "text": [
      "Wrote QA SkyRes file: /Users/xavier/DESI/DESI_SCRATCH/redux/madrone/exposures/20160607/00000008/qa-flux-r1-00000008.pdf\n",
      "INFO:qa.py:81:load_qa_frame: Loaded QA file /Users/xavier/DESI/DESI_SCRATCH/redux/madrone/exposures/20160607/00000008/qa-b0-00000008.yaml\n"
     ]
    },
    {
     "name": "stderr",
     "output_type": "stream",
     "text": [
      "INFO:DESI:Loaded QA file /Users/xavier/DESI/DESI_SCRATCH/redux/madrone/exposures/20160607/00000008/qa-b0-00000008.yaml\n"
     ]
    },
    {
     "name": "stdout",
     "output_type": "stream",
     "text": [
      "WARNING:sky.py:266:qa_skysub: Bad Sky Subtraction in 36 fibers\n"
     ]
    },
    {
     "name": "stderr",
     "output_type": "stream",
     "text": [
      "WARNING:DESI:Bad Sky Subtraction in 36 fibers\n"
     ]
    },
    {
     "name": "stdout",
     "output_type": "stream",
     "text": [
      "INFO:sky.py:271:qa_skysub: Median residual for sky fibers = 0.743114\n"
     ]
    },
    {
     "name": "stderr",
     "output_type": "stream",
     "text": [
      "INFO:DESI:Median residual for sky fibers = 0.743114\n"
     ]
    },
    {
     "name": "stdout",
     "output_type": "stream",
     "text": [
      "Wrote QA SkyRes file: /Users/xavier/DESI/DESI_SCRATCH/redux/madrone/exposures/20160607/00000008/qa-sky-b0-00000008.pdf\n",
      "WARNING:fluxcalibration.py:637:qa_fluxcalib: Bad standard star ZP 0.443277, in fiber 0\n"
     ]
    },
    {
     "name": "stderr",
     "output_type": "stream",
     "text": [
      "WARNING:DESI:Bad standard star ZP 0.443277, in fiber 0\n"
     ]
    },
    {
     "name": "stdout",
     "output_type": "stream",
     "text": [
      "Wrote QA SkyRes file: /Users/xavier/DESI/DESI_SCRATCH/redux/madrone/exposures/20160607/00000008/qa-flux-b0-00000008.pdf\n",
      "INFO:qa.py:81:load_qa_frame: Loaded QA file /Users/xavier/DESI/DESI_SCRATCH/redux/madrone/exposures/20160607/00000008/qa-b1-00000008.yaml\n"
     ]
    },
    {
     "name": "stderr",
     "output_type": "stream",
     "text": [
      "INFO:DESI:Loaded QA file /Users/xavier/DESI/DESI_SCRATCH/redux/madrone/exposures/20160607/00000008/qa-b1-00000008.yaml\n"
     ]
    },
    {
     "name": "stdout",
     "output_type": "stream",
     "text": [
      "WARNING:sky.py:266:qa_skysub: Bad Sky Subtraction in 36 fibers\n"
     ]
    },
    {
     "name": "stderr",
     "output_type": "stream",
     "text": [
      "WARNING:DESI:Bad Sky Subtraction in 36 fibers\n"
     ]
    },
    {
     "name": "stdout",
     "output_type": "stream",
     "text": [
      "INFO:sky.py:271:qa_skysub: Median residual for sky fibers = 0.747116\n"
     ]
    },
    {
     "name": "stderr",
     "output_type": "stream",
     "text": [
      "INFO:DESI:Median residual for sky fibers = 0.747116\n"
     ]
    },
    {
     "name": "stdout",
     "output_type": "stream",
     "text": [
      "Wrote QA SkyRes file: /Users/xavier/DESI/DESI_SCRATCH/redux/madrone/exposures/20160607/00000008/qa-sky-b1-00000008.pdf\n",
      "WARNING:fluxcalibration.py:637:qa_fluxcalib: Bad standard star ZP 0.415881, in fiber 0\n"
     ]
    },
    {
     "name": "stderr",
     "output_type": "stream",
     "text": [
      "WARNING:DESI:Bad standard star ZP 0.415881, in fiber 0\n"
     ]
    },
    {
     "name": "stdout",
     "output_type": "stream",
     "text": [
      "Wrote QA SkyRes file: /Users/xavier/DESI/DESI_SCRATCH/redux/madrone/exposures/20160607/00000008/qa-flux-b1-00000008.pdf\n",
      "INFO:qa.py:81:load_qa_frame: Loaded QA file /Users/xavier/DESI/DESI_SCRATCH/redux/madrone/exposures/20160607/00000008/qa-z0-00000008.yaml\n"
     ]
    },
    {
     "name": "stderr",
     "output_type": "stream",
     "text": [
      "INFO:DESI:Loaded QA file /Users/xavier/DESI/DESI_SCRATCH/redux/madrone/exposures/20160607/00000008/qa-z0-00000008.yaml\n"
     ]
    },
    {
     "name": "stdout",
     "output_type": "stream",
     "text": [
      "WARNING:sky.py:266:qa_skysub: Bad Sky Subtraction in 37 fibers\n"
     ]
    },
    {
     "name": "stderr",
     "output_type": "stream",
     "text": [
      "WARNING:DESI:Bad Sky Subtraction in 37 fibers\n"
     ]
    },
    {
     "name": "stdout",
     "output_type": "stream",
     "text": [
      "INFO:sky.py:271:qa_skysub: Median residual for sky fibers = 0.626495\n"
     ]
    },
    {
     "name": "stderr",
     "output_type": "stream",
     "text": [
      "INFO:DESI:Median residual for sky fibers = 0.626495\n"
     ]
    },
    {
     "name": "stdout",
     "output_type": "stream",
     "text": [
      "Wrote QA SkyRes file: /Users/xavier/DESI/DESI_SCRATCH/redux/madrone/exposures/20160607/00000008/qa-sky-z0-00000008.pdf\n",
      "WARNING:fluxcalibration.py:637:qa_fluxcalib: Bad standard star ZP 0.441102, in fiber 0\n"
     ]
    },
    {
     "name": "stderr",
     "output_type": "stream",
     "text": [
      "WARNING:DESI:Bad standard star ZP 0.441102, in fiber 0\n"
     ]
    },
    {
     "name": "stdout",
     "output_type": "stream",
     "text": [
      "Wrote QA SkyRes file: /Users/xavier/DESI/DESI_SCRATCH/redux/madrone/exposures/20160607/00000008/qa-flux-z0-00000008.pdf\n",
      "INFO:qa.py:81:load_qa_frame: Loaded QA file /Users/xavier/DESI/DESI_SCRATCH/redux/madrone/exposures/20160607/00000008/qa-z1-00000008.yaml\n"
     ]
    },
    {
     "name": "stderr",
     "output_type": "stream",
     "text": [
      "INFO:DESI:Loaded QA file /Users/xavier/DESI/DESI_SCRATCH/redux/madrone/exposures/20160607/00000008/qa-z1-00000008.yaml\n"
     ]
    },
    {
     "name": "stdout",
     "output_type": "stream",
     "text": [
      "WARNING:sky.py:266:qa_skysub: Bad Sky Subtraction in 37 fibers\n"
     ]
    },
    {
     "name": "stderr",
     "output_type": "stream",
     "text": [
      "WARNING:DESI:Bad Sky Subtraction in 37 fibers\n"
     ]
    },
    {
     "name": "stdout",
     "output_type": "stream",
     "text": [
      "INFO:sky.py:271:qa_skysub: Median residual for sky fibers = 0.579102\n"
     ]
    },
    {
     "name": "stderr",
     "output_type": "stream",
     "text": [
      "INFO:DESI:Median residual for sky fibers = 0.579102\n"
     ]
    },
    {
     "name": "stdout",
     "output_type": "stream",
     "text": [
      "Wrote QA SkyRes file: /Users/xavier/DESI/DESI_SCRATCH/redux/madrone/exposures/20160607/00000008/qa-sky-z1-00000008.pdf\n",
      "WARNING:fluxcalibration.py:637:qa_fluxcalib: Bad standard star ZP 0.43904, in fiber 0\n"
     ]
    },
    {
     "name": "stderr",
     "output_type": "stream",
     "text": [
      "WARNING:DESI:Bad standard star ZP 0.43904, in fiber 0\n"
     ]
    },
    {
     "name": "stdout",
     "output_type": "stream",
     "text": [
      "Wrote QA SkyRes file: /Users/xavier/DESI/DESI_SCRATCH/redux/madrone/exposures/20160607/00000008/qa-flux-z1-00000008.pdf\n"
     ]
    }
   ],
   "source": [
    "qa_prod.remake_frame_qa(remake_plots=True)"
   ]
  },
  {
   "cell_type": "markdown",
   "metadata": {},
   "source": [
    "#### Script\n",
    "\n",
    "    desi_qa_prod --specprod_dir /Users/xavier/DESI/DESI_SCRATCH/redux/madrone --remake_frame 3"
   ]
  },
  {
   "cell_type": "markdown",
   "metadata": {},
   "source": [
    "## Slurp"
   ]
  },
  {
   "cell_type": "markdown",
   "metadata": {},
   "source": [
    "#### In Python"
   ]
  },
  {
   "cell_type": "code",
   "execution_count": 9,
   "metadata": {
    "collapsed": false
   },
   "outputs": [
    {
     "name": "stdout",
     "output_type": "stream",
     "text": [
      "INFO:qa_prod.py:127:slurp: Resetting qa_exps in qa_prod\n"
     ]
    },
    {
     "name": "stderr",
     "output_type": "stream",
     "text": [
      "INFO:DESI:Resetting qa_exps in qa_prod\n"
     ]
    },
    {
     "name": "stdout",
     "output_type": "stream",
     "text": [
      "INFO:qa.py:81:load_qa_frame: Loaded QA file /Users/xavier/DESI/DESI_SCRATCH/redux/madrone/calib2d/20160607/qa-r0-00000004.yaml\n"
     ]
    },
    {
     "name": "stderr",
     "output_type": "stream",
     "text": [
      "INFO:DESI:Loaded QA file /Users/xavier/DESI/DESI_SCRATCH/redux/madrone/calib2d/20160607/qa-r0-00000004.yaml\n"
     ]
    },
    {
     "name": "stdout",
     "output_type": "stream",
     "text": [
      "INFO:qa.py:81:load_qa_frame: Loaded QA file /Users/xavier/DESI/DESI_SCRATCH/redux/madrone/calib2d/20160607/qa-r1-00000004.yaml\n"
     ]
    },
    {
     "name": "stderr",
     "output_type": "stream",
     "text": [
      "INFO:DESI:Loaded QA file /Users/xavier/DESI/DESI_SCRATCH/redux/madrone/calib2d/20160607/qa-r1-00000004.yaml\n"
     ]
    },
    {
     "name": "stdout",
     "output_type": "stream",
     "text": [
      "INFO:qa.py:81:load_qa_frame: Loaded QA file /Users/xavier/DESI/DESI_SCRATCH/redux/madrone/calib2d/20160607/qa-b0-00000004.yaml\n"
     ]
    },
    {
     "name": "stderr",
     "output_type": "stream",
     "text": [
      "INFO:DESI:Loaded QA file /Users/xavier/DESI/DESI_SCRATCH/redux/madrone/calib2d/20160607/qa-b0-00000004.yaml\n"
     ]
    },
    {
     "name": "stdout",
     "output_type": "stream",
     "text": [
      "INFO:qa.py:81:load_qa_frame: Loaded QA file /Users/xavier/DESI/DESI_SCRATCH/redux/madrone/calib2d/20160607/qa-b1-00000004.yaml\n"
     ]
    },
    {
     "name": "stderr",
     "output_type": "stream",
     "text": [
      "INFO:DESI:Loaded QA file /Users/xavier/DESI/DESI_SCRATCH/redux/madrone/calib2d/20160607/qa-b1-00000004.yaml\n"
     ]
    },
    {
     "name": "stdout",
     "output_type": "stream",
     "text": [
      "INFO:qa.py:81:load_qa_frame: Loaded QA file /Users/xavier/DESI/DESI_SCRATCH/redux/madrone/calib2d/20160607/qa-z0-00000004.yaml\n"
     ]
    },
    {
     "name": "stderr",
     "output_type": "stream",
     "text": [
      "INFO:DESI:Loaded QA file /Users/xavier/DESI/DESI_SCRATCH/redux/madrone/calib2d/20160607/qa-z0-00000004.yaml\n"
     ]
    },
    {
     "name": "stdout",
     "output_type": "stream",
     "text": [
      "INFO:qa.py:81:load_qa_frame: Loaded QA file /Users/xavier/DESI/DESI_SCRATCH/redux/madrone/calib2d/20160607/qa-z1-00000004.yaml\n"
     ]
    },
    {
     "name": "stderr",
     "output_type": "stream",
     "text": [
      "INFO:DESI:Loaded QA file /Users/xavier/DESI/DESI_SCRATCH/redux/madrone/calib2d/20160607/qa-z1-00000004.yaml\n"
     ]
    },
    {
     "name": "stdout",
     "output_type": "stream",
     "text": [
      "INFO:qa.py:81:load_qa_frame: Loaded QA file /Users/xavier/DESI/DESI_SCRATCH/redux/madrone/calib2d/20160607/qa-r0-00000005.yaml\n"
     ]
    },
    {
     "name": "stderr",
     "output_type": "stream",
     "text": [
      "INFO:DESI:Loaded QA file /Users/xavier/DESI/DESI_SCRATCH/redux/madrone/calib2d/20160607/qa-r0-00000005.yaml\n"
     ]
    },
    {
     "name": "stdout",
     "output_type": "stream",
     "text": [
      "INFO:qa.py:81:load_qa_frame: Loaded QA file /Users/xavier/DESI/DESI_SCRATCH/redux/madrone/calib2d/20160607/qa-r1-00000005.yaml\n"
     ]
    },
    {
     "name": "stderr",
     "output_type": "stream",
     "text": [
      "INFO:DESI:Loaded QA file /Users/xavier/DESI/DESI_SCRATCH/redux/madrone/calib2d/20160607/qa-r1-00000005.yaml\n"
     ]
    },
    {
     "name": "stdout",
     "output_type": "stream",
     "text": [
      "INFO:qa.py:81:load_qa_frame: Loaded QA file /Users/xavier/DESI/DESI_SCRATCH/redux/madrone/calib2d/20160607/qa-b0-00000005.yaml\n"
     ]
    },
    {
     "name": "stderr",
     "output_type": "stream",
     "text": [
      "INFO:DESI:Loaded QA file /Users/xavier/DESI/DESI_SCRATCH/redux/madrone/calib2d/20160607/qa-b0-00000005.yaml\n"
     ]
    },
    {
     "name": "stdout",
     "output_type": "stream",
     "text": [
      "INFO:qa.py:81:load_qa_frame: Loaded QA file /Users/xavier/DESI/DESI_SCRATCH/redux/madrone/calib2d/20160607/qa-b1-00000005.yaml\n"
     ]
    },
    {
     "name": "stderr",
     "output_type": "stream",
     "text": [
      "INFO:DESI:Loaded QA file /Users/xavier/DESI/DESI_SCRATCH/redux/madrone/calib2d/20160607/qa-b1-00000005.yaml\n"
     ]
    },
    {
     "name": "stdout",
     "output_type": "stream",
     "text": [
      "INFO:qa.py:81:load_qa_frame: Loaded QA file /Users/xavier/DESI/DESI_SCRATCH/redux/madrone/calib2d/20160607/qa-z0-00000005.yaml\n"
     ]
    },
    {
     "name": "stderr",
     "output_type": "stream",
     "text": [
      "INFO:DESI:Loaded QA file /Users/xavier/DESI/DESI_SCRATCH/redux/madrone/calib2d/20160607/qa-z0-00000005.yaml\n"
     ]
    },
    {
     "name": "stdout",
     "output_type": "stream",
     "text": [
      "INFO:qa.py:81:load_qa_frame: Loaded QA file /Users/xavier/DESI/DESI_SCRATCH/redux/madrone/calib2d/20160607/qa-z1-00000005.yaml\n"
     ]
    },
    {
     "name": "stderr",
     "output_type": "stream",
     "text": [
      "INFO:DESI:Loaded QA file /Users/xavier/DESI/DESI_SCRATCH/redux/madrone/calib2d/20160607/qa-z1-00000005.yaml\n"
     ]
    },
    {
     "name": "stdout",
     "output_type": "stream",
     "text": [
      "INFO:qa.py:81:load_qa_frame: Loaded QA file /Users/xavier/DESI/DESI_SCRATCH/redux/madrone/exposures/20160607/00000006/qa-r0-00000006.yaml\n"
     ]
    },
    {
     "name": "stderr",
     "output_type": "stream",
     "text": [
      "INFO:DESI:Loaded QA file /Users/xavier/DESI/DESI_SCRATCH/redux/madrone/exposures/20160607/00000006/qa-r0-00000006.yaml\n"
     ]
    },
    {
     "name": "stdout",
     "output_type": "stream",
     "text": [
      "INFO:qa.py:81:load_qa_frame: Loaded QA file /Users/xavier/DESI/DESI_SCRATCH/redux/madrone/exposures/20160607/00000006/qa-r1-00000006.yaml\n"
     ]
    },
    {
     "name": "stderr",
     "output_type": "stream",
     "text": [
      "INFO:DESI:Loaded QA file /Users/xavier/DESI/DESI_SCRATCH/redux/madrone/exposures/20160607/00000006/qa-r1-00000006.yaml\n"
     ]
    },
    {
     "name": "stdout",
     "output_type": "stream",
     "text": [
      "INFO:qa.py:81:load_qa_frame: Loaded QA file /Users/xavier/DESI/DESI_SCRATCH/redux/madrone/exposures/20160607/00000006/qa-b0-00000006.yaml\n"
     ]
    },
    {
     "name": "stderr",
     "output_type": "stream",
     "text": [
      "INFO:DESI:Loaded QA file /Users/xavier/DESI/DESI_SCRATCH/redux/madrone/exposures/20160607/00000006/qa-b0-00000006.yaml\n"
     ]
    },
    {
     "name": "stdout",
     "output_type": "stream",
     "text": [
      "INFO:qa.py:81:load_qa_frame: Loaded QA file /Users/xavier/DESI/DESI_SCRATCH/redux/madrone/exposures/20160607/00000006/qa-b1-00000006.yaml\n"
     ]
    },
    {
     "name": "stderr",
     "output_type": "stream",
     "text": [
      "INFO:DESI:Loaded QA file /Users/xavier/DESI/DESI_SCRATCH/redux/madrone/exposures/20160607/00000006/qa-b1-00000006.yaml\n"
     ]
    },
    {
     "name": "stdout",
     "output_type": "stream",
     "text": [
      "INFO:qa.py:81:load_qa_frame: Loaded QA file /Users/xavier/DESI/DESI_SCRATCH/redux/madrone/exposures/20160607/00000006/qa-z0-00000006.yaml\n"
     ]
    },
    {
     "name": "stderr",
     "output_type": "stream",
     "text": [
      "INFO:DESI:Loaded QA file /Users/xavier/DESI/DESI_SCRATCH/redux/madrone/exposures/20160607/00000006/qa-z0-00000006.yaml\n"
     ]
    },
    {
     "name": "stdout",
     "output_type": "stream",
     "text": [
      "INFO:qa.py:81:load_qa_frame: Loaded QA file /Users/xavier/DESI/DESI_SCRATCH/redux/madrone/exposures/20160607/00000006/qa-z1-00000006.yaml\n"
     ]
    },
    {
     "name": "stderr",
     "output_type": "stream",
     "text": [
      "INFO:DESI:Loaded QA file /Users/xavier/DESI/DESI_SCRATCH/redux/madrone/exposures/20160607/00000006/qa-z1-00000006.yaml\n"
     ]
    },
    {
     "name": "stdout",
     "output_type": "stream",
     "text": [
      "INFO:qa.py:81:load_qa_frame: Loaded QA file /Users/xavier/DESI/DESI_SCRATCH/redux/madrone/exposures/20160607/00000007/qa-r0-00000007.yaml\n"
     ]
    },
    {
     "name": "stderr",
     "output_type": "stream",
     "text": [
      "INFO:DESI:Loaded QA file /Users/xavier/DESI/DESI_SCRATCH/redux/madrone/exposures/20160607/00000007/qa-r0-00000007.yaml\n"
     ]
    },
    {
     "name": "stdout",
     "output_type": "stream",
     "text": [
      "INFO:qa.py:81:load_qa_frame: Loaded QA file /Users/xavier/DESI/DESI_SCRATCH/redux/madrone/exposures/20160607/00000007/qa-r1-00000007.yaml\n"
     ]
    },
    {
     "name": "stderr",
     "output_type": "stream",
     "text": [
      "INFO:DESI:Loaded QA file /Users/xavier/DESI/DESI_SCRATCH/redux/madrone/exposures/20160607/00000007/qa-r1-00000007.yaml\n"
     ]
    },
    {
     "name": "stdout",
     "output_type": "stream",
     "text": [
      "INFO:qa.py:81:load_qa_frame: Loaded QA file /Users/xavier/DESI/DESI_SCRATCH/redux/madrone/exposures/20160607/00000007/qa-b0-00000007.yaml\n"
     ]
    },
    {
     "name": "stderr",
     "output_type": "stream",
     "text": [
      "INFO:DESI:Loaded QA file /Users/xavier/DESI/DESI_SCRATCH/redux/madrone/exposures/20160607/00000007/qa-b0-00000007.yaml\n"
     ]
    },
    {
     "name": "stdout",
     "output_type": "stream",
     "text": [
      "INFO:qa.py:81:load_qa_frame: Loaded QA file /Users/xavier/DESI/DESI_SCRATCH/redux/madrone/exposures/20160607/00000007/qa-b1-00000007.yaml\n"
     ]
    },
    {
     "name": "stderr",
     "output_type": "stream",
     "text": [
      "INFO:DESI:Loaded QA file /Users/xavier/DESI/DESI_SCRATCH/redux/madrone/exposures/20160607/00000007/qa-b1-00000007.yaml\n"
     ]
    },
    {
     "name": "stdout",
     "output_type": "stream",
     "text": [
      "INFO:qa.py:81:load_qa_frame: Loaded QA file /Users/xavier/DESI/DESI_SCRATCH/redux/madrone/exposures/20160607/00000007/qa-z0-00000007.yaml\n"
     ]
    },
    {
     "name": "stderr",
     "output_type": "stream",
     "text": [
      "INFO:DESI:Loaded QA file /Users/xavier/DESI/DESI_SCRATCH/redux/madrone/exposures/20160607/00000007/qa-z0-00000007.yaml\n"
     ]
    },
    {
     "name": "stdout",
     "output_type": "stream",
     "text": [
      "INFO:qa.py:81:load_qa_frame: Loaded QA file /Users/xavier/DESI/DESI_SCRATCH/redux/madrone/exposures/20160607/00000007/qa-z1-00000007.yaml\n"
     ]
    },
    {
     "name": "stderr",
     "output_type": "stream",
     "text": [
      "INFO:DESI:Loaded QA file /Users/xavier/DESI/DESI_SCRATCH/redux/madrone/exposures/20160607/00000007/qa-z1-00000007.yaml\n"
     ]
    },
    {
     "name": "stdout",
     "output_type": "stream",
     "text": [
      "INFO:qa.py:81:load_qa_frame: Loaded QA file /Users/xavier/DESI/DESI_SCRATCH/redux/madrone/exposures/20160607/00000008/qa-r0-00000008.yaml\n"
     ]
    },
    {
     "name": "stderr",
     "output_type": "stream",
     "text": [
      "INFO:DESI:Loaded QA file /Users/xavier/DESI/DESI_SCRATCH/redux/madrone/exposures/20160607/00000008/qa-r0-00000008.yaml\n"
     ]
    },
    {
     "name": "stdout",
     "output_type": "stream",
     "text": [
      "INFO:qa.py:81:load_qa_frame: Loaded QA file /Users/xavier/DESI/DESI_SCRATCH/redux/madrone/exposures/20160607/00000008/qa-r1-00000008.yaml\n"
     ]
    },
    {
     "name": "stderr",
     "output_type": "stream",
     "text": [
      "INFO:DESI:Loaded QA file /Users/xavier/DESI/DESI_SCRATCH/redux/madrone/exposures/20160607/00000008/qa-r1-00000008.yaml\n"
     ]
    },
    {
     "name": "stdout",
     "output_type": "stream",
     "text": [
      "INFO:qa.py:81:load_qa_frame: Loaded QA file /Users/xavier/DESI/DESI_SCRATCH/redux/madrone/exposures/20160607/00000008/qa-b0-00000008.yaml\n"
     ]
    },
    {
     "name": "stderr",
     "output_type": "stream",
     "text": [
      "INFO:DESI:Loaded QA file /Users/xavier/DESI/DESI_SCRATCH/redux/madrone/exposures/20160607/00000008/qa-b0-00000008.yaml\n"
     ]
    },
    {
     "name": "stdout",
     "output_type": "stream",
     "text": [
      "INFO:qa.py:81:load_qa_frame: Loaded QA file /Users/xavier/DESI/DESI_SCRATCH/redux/madrone/exposures/20160607/00000008/qa-b1-00000008.yaml\n"
     ]
    },
    {
     "name": "stderr",
     "output_type": "stream",
     "text": [
      "INFO:DESI:Loaded QA file /Users/xavier/DESI/DESI_SCRATCH/redux/madrone/exposures/20160607/00000008/qa-b1-00000008.yaml\n"
     ]
    },
    {
     "name": "stdout",
     "output_type": "stream",
     "text": [
      "INFO:qa.py:81:load_qa_frame: Loaded QA file /Users/xavier/DESI/DESI_SCRATCH/redux/madrone/exposures/20160607/00000008/qa-z0-00000008.yaml\n"
     ]
    },
    {
     "name": "stderr",
     "output_type": "stream",
     "text": [
      "INFO:DESI:Loaded QA file /Users/xavier/DESI/DESI_SCRATCH/redux/madrone/exposures/20160607/00000008/qa-z0-00000008.yaml\n"
     ]
    },
    {
     "name": "stdout",
     "output_type": "stream",
     "text": [
      "INFO:qa.py:81:load_qa_frame: Loaded QA file /Users/xavier/DESI/DESI_SCRATCH/redux/madrone/exposures/20160607/00000008/qa-z1-00000008.yaml\n"
     ]
    },
    {
     "name": "stderr",
     "output_type": "stream",
     "text": [
      "INFO:DESI:Loaded QA file /Users/xavier/DESI/DESI_SCRATCH/redux/madrone/exposures/20160607/00000008/qa-z1-00000008.yaml\n"
     ]
    },
    {
     "name": "stdout",
     "output_type": "stream",
     "text": [
      "> /Users/xavier/DESI/desispec/py/desispec/io/qa.py(207)write_qa_prod()\n",
      "-> ydict = yamlify(odict)\n",
      "(Pdb) odict\n",
      "{u'20160607': {8: {'r0': {'SKYSUB': {'QA': {'RESID_PER': [-36.97829895019531, 39.67941284179682], 'NBAD_PCHI': 32, 'MED_RESID': 0.7853240966796875, 'NREJ': 0, 'NSKY_FIB': 37}, 'PARAM': {'PCHI_RESID': 0.05, 'PER_RESID': 95.0}}, 'FLUXCALIB': {'QA': {'ZP': 25.45832393925364, 'RMS_ZP': 0.12910721292221178, 'NSTARS_FIBER': 12, 'MAX_ZP_OFF': [0.44742047713707933, 0]}, 'PARAM': {'ZP_WAVE': 6500.0, 'MAX_ZP_OFF': 0.2}}}, 'r1': {'SKYSUB': {'QA': {'RESID_PER': [-36.657647705078126, 39.28890380859374], 'NBAD_PCHI': 26, 'MED_RESID': 0.8084182739257812, 'NREJ': 0, 'NSKY_FIB': 37}, 'PARAM': {'PCHI_RESID': 0.05, 'PER_RESID': 95.0}}, 'FLUXCALIB': {'QA': {'ZP': 25.45997770871619, 'RMS_ZP': 0.1431706318008319, 'NSTARS_FIBER': 13, 'MAX_ZP_OFF': [0.49130059958766026, 0]}, 'PARAM': {'ZP_WAVE': 6500.0, 'MAX_ZP_OFF': 0.2}}}, 'b0': {'SKYSUB': {'QA': {'RESID_PER': [-28.37047500610352, 30.21094894409174], 'NBAD_PCHI': 36, 'MED_RESID': 0.7431144714355469, 'NREJ': 0, 'NSKY_FIB': 37}, 'PARAM': {'PCHI_RESID': 0.05, 'PER_RESID': 95.0}}, 'FLUXCALIB': {'QA': {'ZP': 25.595274359238253, 'RMS_ZP': 0.12337124645527835, 'NSTARS_FIBER': 12, 'MAX_ZP_OFF': [0.4432765560083851, 0]}, 'PARAM': {'ZP_WAVE': 4800.0, 'MAX_ZP_OFF': 0.2}}}, 'b1': {'SKYSUB': {'QA': {'RESID_PER': [-28.500312042236324, 30.305758666992176], 'NBAD_PCHI': 36, 'MED_RESID': 0.7471160888671875, 'NREJ': 0, 'NSKY_FIB': 37}, 'PARAM': {'PCHI_RESID': 0.05, 'PER_RESID': 95.0}}, 'FLUXCALIB': {'QA': {'ZP': 25.59604413761585, 'RMS_ZP': 0.12469847688593977, 'NSTARS_FIBER': 13, 'MAX_ZP_OFF': [0.4158812990412315, 0]}, 'PARAM': {'ZP_WAVE': 4800.0, 'MAX_ZP_OFF': 0.2}}}, u'flavor': 'dark', 'z0': {'SKYSUB': {'QA': {'RESID_PER': [-66.70268173217774, 71.00867919921865], 'NBAD_PCHI': 37, 'MED_RESID': 0.626495361328125, 'NREJ': 0, 'NSKY_FIB': 37}, 'PARAM': {'PCHI_RESID': 0.05, 'PER_RESID': 95.0}}, 'FLUXCALIB': {'QA': {'ZP': 25.42363308627614, 'RMS_ZP': 0.12286745928969063, 'NSTARS_FIBER': 12, 'MAX_ZP_OFF': [0.4411020996489228, 0]}, 'PARAM': {'ZP_WAVE': 8250.0, 'MAX_ZP_OFF': 0.2}}}, 'z1': {'SKYSUB': {'QA': {'RESID_PER': [-69.15562896728515, 71.9474670410156], 'NBAD_PCHI': 37, 'MED_RESID': 0.5791015625, 'NREJ': 0, 'NSKY_FIB': 37}, 'PARAM': {'PCHI_RESID': 0.05, 'PER_RESID': 95.0}}, 'FLUXCALIB': {'QA': {'ZP': 25.428474621695116, 'RMS_ZP': 0.13501851989805838, 'NSTARS_FIBER': 13, 'MAX_ZP_OFF': [0.4390402231784165, 0]}, 'PARAM': {'ZP_WAVE': 8250.0, 'MAX_ZP_OFF': 0.2}}}}}}\n",
      "(Pdb) odict.keys()\n",
      "[u'20160607']\n",
      "(Pdb) odict['20160607'].keys()\n",
      "[8]\n",
      "(Pdb) idict\n",
      "{u'20160607': {8: {'r0': {'SKYSUB': {'QA': {'RESID_PER': [-36.97829895019531, 39.67941284179682], 'NBAD_PCHI': 32, 'MED_RESID': 0.7853240966796875, 'NREJ': 0, 'NSKY_FIB': 37}, 'PARAM': {'PCHI_RESID': 0.05, 'PER_RESID': 95.0}}, 'FLUXCALIB': {'QA': {'ZP': 25.45832393925364, 'RMS_ZP': 0.12910721292221178, 'NSTARS_FIBER': 12, 'MAX_ZP_OFF': [0.44742047713707933, 0]}, 'PARAM': {'ZP_WAVE': 6500.0, 'MAX_ZP_OFF': 0.2}}}, 'r1': {'SKYSUB': {'QA': {'RESID_PER': [-36.657647705078126, 39.28890380859374], 'NBAD_PCHI': 26, 'MED_RESID': 0.8084182739257812, 'NREJ': 0, 'NSKY_FIB': 37}, 'PARAM': {'PCHI_RESID': 0.05, 'PER_RESID': 95.0}}, 'FLUXCALIB': {'QA': {'ZP': 25.45997770871619, 'RMS_ZP': 0.1431706318008319, 'NSTARS_FIBER': 13, 'MAX_ZP_OFF': [0.49130059958766026, 0]}, 'PARAM': {'ZP_WAVE': 6500.0, 'MAX_ZP_OFF': 0.2}}}, 'b0': {'SKYSUB': {'QA': {'RESID_PER': [-28.37047500610352, 30.21094894409174], 'NBAD_PCHI': 36, 'MED_RESID': 0.7431144714355469, 'NREJ': 0, 'NSKY_FIB': 37}, 'PARAM': {'PCHI_RESID': 0.05, 'PER_RESID': 95.0}}, 'FLUXCALIB': {'QA': {'ZP': 25.595274359238253, 'RMS_ZP': 0.12337124645527835, 'NSTARS_FIBER': 12, 'MAX_ZP_OFF': [0.4432765560083851, 0]}, 'PARAM': {'ZP_WAVE': 4800.0, 'MAX_ZP_OFF': 0.2}}}, 'b1': {'SKYSUB': {'QA': {'RESID_PER': [-28.500312042236324, 30.305758666992176], 'NBAD_PCHI': 36, 'MED_RESID': 0.7471160888671875, 'NREJ': 0, 'NSKY_FIB': 37}, 'PARAM': {'PCHI_RESID': 0.05, 'PER_RESID': 95.0}}, 'FLUXCALIB': {'QA': {'ZP': 25.59604413761585, 'RMS_ZP': 0.12469847688593977, 'NSTARS_FIBER': 13, 'MAX_ZP_OFF': [0.4158812990412315, 0]}, 'PARAM': {'ZP_WAVE': 4800.0, 'MAX_ZP_OFF': 0.2}}}, u'flavor': 'dark', 'z0': {'SKYSUB': {'QA': {'RESID_PER': [-66.70268173217774, 71.00867919921865], 'NBAD_PCHI': 37, 'MED_RESID': 0.626495361328125, 'NREJ': 0, 'NSKY_FIB': 37}, 'PARAM': {'PCHI_RESID': 0.05, 'PER_RESID': 95.0}}, 'FLUXCALIB': {'QA': {'ZP': 25.42363308627614, 'RMS_ZP': 0.12286745928969063, 'NSTARS_FIBER': 12, 'MAX_ZP_OFF': [0.4411020996489228, 0]}, 'PARAM': {'ZP_WAVE': 8250.0, 'MAX_ZP_OFF': 0.2}}}, 'z1': {'SKYSUB': {'QA': {'RESID_PER': [-69.15562896728515, 71.9474670410156], 'NBAD_PCHI': 37, 'MED_RESID': 0.5791015625, 'NREJ': 0, 'NSKY_FIB': 37}, 'PARAM': {'PCHI_RESID': 0.05, 'PER_RESID': 95.0}}, 'FLUXCALIB': {'QA': {'ZP': 25.428474621695116, 'RMS_ZP': 0.13501851989805838, 'NSTARS_FIBER': 13, 'MAX_ZP_OFF': [0.4390402231784165, 0]}, 'PARAM': {'ZP_WAVE': 8250.0, 'MAX_ZP_OFF': 0.2}}}}}}\n",
      "(Pdb) idict.keys()\n",
      "[u'20160607']\n",
      "(Pdb) idict['20160607'].keys()\n",
      "[8]\n",
      "(Pdb) exit\n"
     ]
    },
    {
     "ename": "BdbQuit",
     "evalue": "",
     "output_type": "error",
     "traceback": [
      "\u001b[0;31m---------------------------------------------------------------------------\u001b[0m",
      "\u001b[0;31mBdbQuit\u001b[0m                                   Traceback (most recent call last)",
      "\u001b[0;32m<ipython-input-9-752c756048ee>\u001b[0m in \u001b[0;36m<module>\u001b[0;34m()\u001b[0m\n\u001b[0;32m----> 1\u001b[0;31m \u001b[0mqa_prod\u001b[0m\u001b[0;34m.\u001b[0m\u001b[0mslurp\u001b[0m\u001b[0;34m(\u001b[0m\u001b[0mremove\u001b[0m\u001b[0;34m=\u001b[0m\u001b[0mFalse\u001b[0m\u001b[0;34m)\u001b[0m\u001b[0;34m\u001b[0m\u001b[0m\n\u001b[0m",
      "\u001b[0;32m/Users/xavier/DESI/desispec/py/desispec/qa/qa_prod.pyc\u001b[0m in \u001b[0;36mslurp\u001b[0;34m(self, remake, remove, **kwargs)\u001b[0m\n\u001b[1;32m    146\u001b[0m                                          specprod_dir=self.specprod_dir)\n\u001b[1;32m    147\u001b[0m                 \u001b[0mqa_exp\u001b[0m\u001b[0;34m.\u001b[0m\u001b[0mload_qa_data\u001b[0m\u001b[0;34m(\u001b[0m\u001b[0mremove\u001b[0m\u001b[0;34m=\u001b[0m\u001b[0mremove\u001b[0m\u001b[0;34m)\u001b[0m\u001b[0;34m\u001b[0m\u001b[0m\n\u001b[0;32m--> 148\u001b[0;31m                 \u001b[0;31m# Append\u001b[0m\u001b[0;34m\u001b[0m\u001b[0;34m\u001b[0m\u001b[0m\n\u001b[0m\u001b[1;32m    149\u001b[0m                 \u001b[0mself\u001b[0m\u001b[0;34m.\u001b[0m\u001b[0mqa_exps\u001b[0m\u001b[0;34m.\u001b[0m\u001b[0mappend\u001b[0m\u001b[0;34m(\u001b[0m\u001b[0mqa_exp\u001b[0m\u001b[0;34m)\u001b[0m\u001b[0;34m\u001b[0m\u001b[0m\n\u001b[1;32m    150\u001b[0m         \u001b[0;31m# Write\u001b[0m\u001b[0;34m\u001b[0m\u001b[0;34m\u001b[0m\u001b[0m\n",
      "\u001b[0;32m/Users/xavier/DESI/desispec/py/desispec/io/qa.py\u001b[0m in \u001b[0;36mwrite_qa_prod\u001b[0;34m(outroot, qaprod)\u001b[0m\n\u001b[1;32m    205\u001b[0m         \u001b[0;32massert\u001b[0m \u001b[0mlen\u001b[0m\u001b[0;34m(\u001b[0m\u001b[0midict\u001b[0m\u001b[0;34m.\u001b[0m\u001b[0mkeys\u001b[0m\u001b[0;34m(\u001b[0m\u001b[0;34m)\u001b[0m\u001b[0;34m)\u001b[0m \u001b[0;34m==\u001b[0m \u001b[0;36m1\u001b[0m\u001b[0;34m\u001b[0m\u001b[0m\n\u001b[1;32m    206\u001b[0m         \u001b[0mnight\u001b[0m \u001b[0;34m=\u001b[0m \u001b[0midict\u001b[0m\u001b[0;34m.\u001b[0m\u001b[0mkeys\u001b[0m\u001b[0;34m(\u001b[0m\u001b[0;34m)\u001b[0m\u001b[0;34m[\u001b[0m\u001b[0;36m0\u001b[0m\u001b[0;34m]\u001b[0m\u001b[0;34m\u001b[0m\u001b[0m\n\u001b[0;32m--> 207\u001b[0;31m         \u001b[0;31m# Add\u001b[0m\u001b[0;34m\u001b[0m\u001b[0;34m\u001b[0m\u001b[0m\n\u001b[0m\u001b[1;32m    208\u001b[0m         \u001b[0;32mif\u001b[0m \u001b[0mnight\u001b[0m \u001b[0;32mnot\u001b[0m \u001b[0;32min\u001b[0m \u001b[0modict\u001b[0m\u001b[0;34m.\u001b[0m\u001b[0mkeys\u001b[0m\u001b[0;34m(\u001b[0m\u001b[0;34m)\u001b[0m\u001b[0;34m:\u001b[0m\u001b[0;34m\u001b[0m\u001b[0m\n\u001b[1;32m    209\u001b[0m             \u001b[0modict\u001b[0m\u001b[0;34m[\u001b[0m\u001b[0mnight\u001b[0m\u001b[0;34m]\u001b[0m \u001b[0;34m=\u001b[0m \u001b[0;34m{\u001b[0m\u001b[0;34m}\u001b[0m\u001b[0;34m\u001b[0m\u001b[0m\n",
      "\u001b[0;32m/Users/xavier/DESI/desispec/py/desispec/io/qa.py\u001b[0m in \u001b[0;36mwrite_qa_prod\u001b[0;34m(outroot, qaprod)\u001b[0m\n\u001b[1;32m    205\u001b[0m         \u001b[0;32massert\u001b[0m \u001b[0mlen\u001b[0m\u001b[0;34m(\u001b[0m\u001b[0midict\u001b[0m\u001b[0;34m.\u001b[0m\u001b[0mkeys\u001b[0m\u001b[0;34m(\u001b[0m\u001b[0;34m)\u001b[0m\u001b[0;34m)\u001b[0m \u001b[0;34m==\u001b[0m \u001b[0;36m1\u001b[0m\u001b[0;34m\u001b[0m\u001b[0m\n\u001b[1;32m    206\u001b[0m         \u001b[0mnight\u001b[0m \u001b[0;34m=\u001b[0m \u001b[0midict\u001b[0m\u001b[0;34m.\u001b[0m\u001b[0mkeys\u001b[0m\u001b[0;34m(\u001b[0m\u001b[0;34m)\u001b[0m\u001b[0;34m[\u001b[0m\u001b[0;36m0\u001b[0m\u001b[0;34m]\u001b[0m\u001b[0;34m\u001b[0m\u001b[0m\n\u001b[0;32m--> 207\u001b[0;31m         \u001b[0;31m# Add\u001b[0m\u001b[0;34m\u001b[0m\u001b[0;34m\u001b[0m\u001b[0m\n\u001b[0m\u001b[1;32m    208\u001b[0m         \u001b[0;32mif\u001b[0m \u001b[0mnight\u001b[0m \u001b[0;32mnot\u001b[0m \u001b[0;32min\u001b[0m \u001b[0modict\u001b[0m\u001b[0;34m.\u001b[0m\u001b[0mkeys\u001b[0m\u001b[0;34m(\u001b[0m\u001b[0;34m)\u001b[0m\u001b[0;34m:\u001b[0m\u001b[0;34m\u001b[0m\u001b[0m\n\u001b[1;32m    209\u001b[0m             \u001b[0modict\u001b[0m\u001b[0;34m[\u001b[0m\u001b[0mnight\u001b[0m\u001b[0;34m]\u001b[0m \u001b[0;34m=\u001b[0m \u001b[0;34m{\u001b[0m\u001b[0;34m}\u001b[0m\u001b[0;34m\u001b[0m\u001b[0m\n",
      "\u001b[0;32m/Users/xavier/anaconda/lib/python2.7/bdb.pyc\u001b[0m in \u001b[0;36mtrace_dispatch\u001b[0;34m(self, frame, event, arg)\u001b[0m\n\u001b[1;32m     47\u001b[0m             \u001b[0;32mreturn\u001b[0m \u001b[0;31m# None\u001b[0m\u001b[0;34m\u001b[0m\u001b[0m\n\u001b[1;32m     48\u001b[0m         \u001b[0;32mif\u001b[0m \u001b[0mevent\u001b[0m \u001b[0;34m==\u001b[0m \u001b[0;34m'line'\u001b[0m\u001b[0;34m:\u001b[0m\u001b[0;34m\u001b[0m\u001b[0m\n\u001b[0;32m---> 49\u001b[0;31m             \u001b[0;32mreturn\u001b[0m \u001b[0mself\u001b[0m\u001b[0;34m.\u001b[0m\u001b[0mdispatch_line\u001b[0m\u001b[0;34m(\u001b[0m\u001b[0mframe\u001b[0m\u001b[0;34m)\u001b[0m\u001b[0;34m\u001b[0m\u001b[0m\n\u001b[0m\u001b[1;32m     50\u001b[0m         \u001b[0;32mif\u001b[0m \u001b[0mevent\u001b[0m \u001b[0;34m==\u001b[0m \u001b[0;34m'call'\u001b[0m\u001b[0;34m:\u001b[0m\u001b[0;34m\u001b[0m\u001b[0m\n\u001b[1;32m     51\u001b[0m             \u001b[0;32mreturn\u001b[0m \u001b[0mself\u001b[0m\u001b[0;34m.\u001b[0m\u001b[0mdispatch_call\u001b[0m\u001b[0;34m(\u001b[0m\u001b[0mframe\u001b[0m\u001b[0;34m,\u001b[0m \u001b[0marg\u001b[0m\u001b[0;34m)\u001b[0m\u001b[0;34m\u001b[0m\u001b[0m\n",
      "\u001b[0;32m/Users/xavier/anaconda/lib/python2.7/bdb.pyc\u001b[0m in \u001b[0;36mdispatch_line\u001b[0;34m(self, frame)\u001b[0m\n\u001b[1;32m     66\u001b[0m         \u001b[0;32mif\u001b[0m \u001b[0mself\u001b[0m\u001b[0;34m.\u001b[0m\u001b[0mstop_here\u001b[0m\u001b[0;34m(\u001b[0m\u001b[0mframe\u001b[0m\u001b[0;34m)\u001b[0m \u001b[0;32mor\u001b[0m \u001b[0mself\u001b[0m\u001b[0;34m.\u001b[0m\u001b[0mbreak_here\u001b[0m\u001b[0;34m(\u001b[0m\u001b[0mframe\u001b[0m\u001b[0;34m)\u001b[0m\u001b[0;34m:\u001b[0m\u001b[0;34m\u001b[0m\u001b[0m\n\u001b[1;32m     67\u001b[0m             \u001b[0mself\u001b[0m\u001b[0;34m.\u001b[0m\u001b[0muser_line\u001b[0m\u001b[0;34m(\u001b[0m\u001b[0mframe\u001b[0m\u001b[0;34m)\u001b[0m\u001b[0;34m\u001b[0m\u001b[0m\n\u001b[0;32m---> 68\u001b[0;31m             \u001b[0;32mif\u001b[0m \u001b[0mself\u001b[0m\u001b[0;34m.\u001b[0m\u001b[0mquitting\u001b[0m\u001b[0;34m:\u001b[0m \u001b[0;32mraise\u001b[0m \u001b[0mBdbQuit\u001b[0m\u001b[0;34m\u001b[0m\u001b[0m\n\u001b[0m\u001b[1;32m     69\u001b[0m         \u001b[0;32mreturn\u001b[0m \u001b[0mself\u001b[0m\u001b[0;34m.\u001b[0m\u001b[0mtrace_dispatch\u001b[0m\u001b[0;34m\u001b[0m\u001b[0m\n\u001b[1;32m     70\u001b[0m \u001b[0;34m\u001b[0m\u001b[0m\n",
      "\u001b[0;31mBdbQuit\u001b[0m: "
     ]
    }
   ],
   "source": [
    "qa_prod.slurp(remove=False)"
   ]
  },
  {
   "cell_type": "markdown",
   "metadata": {},
   "source": [
    "#### Script\n",
    "    desi_qa_prod --specprod_dir /Users/xavier/DESI/DESI_SCRATCH/redux/madrone/ --slurp --make_frameqa=1"
   ]
  },
  {
   "cell_type": "markdown",
   "metadata": {
    "collapsed": true
   },
   "source": [
    "## Simple Figs"
   ]
  },
  {
   "cell_type": "code",
   "execution_count": 1,
   "metadata": {
    "collapsed": true
   },
   "outputs": [],
   "source": [
    "from desispec.qa import qa_prod as dqap"
   ]
  },
  {
   "cell_type": "code",
   "execution_count": 23,
   "metadata": {
    "collapsed": false
   },
   "outputs": [],
   "source": [
    "specprod_dir = '/Users/xavier/DESI/DESI_SCRATCH/redux/madrone/'\n",
    "reload(dqap)\n",
    "qa_prod = dqap.QA_Prod(specprod_dir)"
   ]
  },
  {
   "cell_type": "markdown",
   "metadata": {},
   "source": [
    "### Load QA"
   ]
  },
  {
   "cell_type": "code",
   "execution_count": 24,
   "metadata": {
    "collapsed": false
   },
   "outputs": [
    {
     "name": "stdout",
     "output_type": "stream",
     "text": [
      "INFO:qa.py:194:load_qa_prod: Loading QA prod file: /Users/xavier/DESI/DESI_SCRATCH/redux/madrone//madrone_qa.yaml\n"
     ]
    },
    {
     "name": "stderr",
     "output_type": "stream",
     "text": [
      "INFO:DESI:Loading QA prod file: /Users/xavier/DESI/DESI_SCRATCH/redux/madrone//madrone_qa.yaml\n"
     ]
    }
   ],
   "source": [
    "qa_prod.load_data()"
   ]
  },
  {
   "cell_type": "code",
   "execution_count": 25,
   "metadata": {
    "collapsed": false
   },
   "outputs": [
    {
     "data": {
      "text/plain": [
       "{'FLUXCALIB': {'PARAM': {'MAX_ZP_OFF': 0.2, 'ZP_WAVE': 4800.0},\n",
       "  'QA': {'MAX_ZP_OFF': [0.42782486423042343, 0],\n",
       "   'NSTARS_FIBER': 12,\n",
       "   'RMS_ZP': 0.1314210920024438,\n",
       "   'ZP': 25.59400318823343}},\n",
       " 'SKYSUB': {'PARAM': {'PCHI_RESID': 0.05, 'PER_RESID': 95.0},\n",
       "  'QA': {'MED_RESID': 0.7147674560546875,\n",
       "   'NBAD_PCHI': 37,\n",
       "   'NREJ': 0,\n",
       "   'NSKY_FIB': 37,\n",
       "   'RESID_PER': [-28.371025466918944, 30.451000976562497]}}}"
      ]
     },
     "execution_count": 25,
     "metadata": {},
     "output_type": "execute_result"
    }
   ],
   "source": [
    "qa_prod.data['20160607'][6]['b0']#['SKYSUB']['QA']"
   ]
  },
  {
   "cell_type": "markdown",
   "metadata": {},
   "source": [
    "### Grab an array of QA values"
   ]
  },
  {
   "cell_type": "code",
   "execution_count": 28,
   "metadata": {
    "collapsed": false
   },
   "outputs": [
    {
     "data": {
      "text/plain": [
       "array([ 0.71476746,  0.78175354,  0.79774475,  0.76456451,  0.74311447,\n",
       "        0.74711609])"
      ]
     },
     "execution_count": 28,
     "metadata": {},
     "output_type": "execute_result"
    }
   ],
   "source": [
    "sky_resid_b, ne_dict = qa_prod.get_qa_array('SKYSUB', 'MED_RESID', channels=['b'])\n",
    "sky_resid_b"
   ]
  },
  {
   "cell_type": "code",
   "execution_count": 29,
   "metadata": {
    "collapsed": false
   },
   "outputs": [
    {
     "data": {
      "text/plain": [
       "{'20160607': [6, 7, 8]}"
      ]
     },
     "execution_count": 29,
     "metadata": {},
     "output_type": "execute_result"
    }
   ],
   "source": [
    "ne_dict"
   ]
  },
  {
   "cell_type": "markdown",
   "metadata": {},
   "source": [
    "### Histogram"
   ]
  },
  {
   "cell_type": "code",
   "execution_count": 8,
   "metadata": {
    "collapsed": false
   },
   "outputs": [
    {
     "data": {
      "application/javascript": [
       "/* Put everything inside the global mpl namespace */\n",
       "window.mpl = {};\n",
       "\n",
       "mpl.get_websocket_type = function() {\n",
       "    if (typeof(WebSocket) !== 'undefined') {\n",
       "        return WebSocket;\n",
       "    } else if (typeof(MozWebSocket) !== 'undefined') {\n",
       "        return MozWebSocket;\n",
       "    } else {\n",
       "        alert('Your browser does not have WebSocket support.' +\n",
       "              'Please try Chrome, Safari or Firefox ≥ 6. ' +\n",
       "              'Firefox 4 and 5 are also supported but you ' +\n",
       "              'have to enable WebSockets in about:config.');\n",
       "    };\n",
       "}\n",
       "\n",
       "mpl.figure = function(figure_id, websocket, ondownload, parent_element) {\n",
       "    this.id = figure_id;\n",
       "\n",
       "    this.ws = websocket;\n",
       "\n",
       "    this.supports_binary = (this.ws.binaryType != undefined);\n",
       "\n",
       "    if (!this.supports_binary) {\n",
       "        var warnings = document.getElementById(\"mpl-warnings\");\n",
       "        if (warnings) {\n",
       "            warnings.style.display = 'block';\n",
       "            warnings.textContent = (\n",
       "                \"This browser does not support binary websocket messages. \" +\n",
       "                    \"Performance may be slow.\");\n",
       "        }\n",
       "    }\n",
       "\n",
       "    this.imageObj = new Image();\n",
       "\n",
       "    this.context = undefined;\n",
       "    this.message = undefined;\n",
       "    this.canvas = undefined;\n",
       "    this.rubberband_canvas = undefined;\n",
       "    this.rubberband_context = undefined;\n",
       "    this.format_dropdown = undefined;\n",
       "\n",
       "    this.image_mode = 'full';\n",
       "\n",
       "    this.root = $('<div/>');\n",
       "    this._root_extra_style(this.root)\n",
       "    this.root.attr('style', 'display: inline-block');\n",
       "\n",
       "    $(parent_element).append(this.root);\n",
       "\n",
       "    this._init_header(this);\n",
       "    this._init_canvas(this);\n",
       "    this._init_toolbar(this);\n",
       "\n",
       "    var fig = this;\n",
       "\n",
       "    this.waiting = false;\n",
       "\n",
       "    this.ws.onopen =  function () {\n",
       "            fig.send_message(\"supports_binary\", {value: fig.supports_binary});\n",
       "            fig.send_message(\"send_image_mode\", {});\n",
       "            fig.send_message(\"refresh\", {});\n",
       "        }\n",
       "\n",
       "    this.imageObj.onload = function() {\n",
       "            if (fig.image_mode == 'full') {\n",
       "                // Full images could contain transparency (where diff images\n",
       "                // almost always do), so we need to clear the canvas so that\n",
       "                // there is no ghosting.\n",
       "                fig.context.clearRect(0, 0, fig.canvas.width, fig.canvas.height);\n",
       "            }\n",
       "            fig.context.drawImage(fig.imageObj, 0, 0);\n",
       "        };\n",
       "\n",
       "    this.imageObj.onunload = function() {\n",
       "        this.ws.close();\n",
       "    }\n",
       "\n",
       "    this.ws.onmessage = this._make_on_message_function(this);\n",
       "\n",
       "    this.ondownload = ondownload;\n",
       "}\n",
       "\n",
       "mpl.figure.prototype._init_header = function() {\n",
       "    var titlebar = $(\n",
       "        '<div class=\"ui-dialog-titlebar ui-widget-header ui-corner-all ' +\n",
       "        'ui-helper-clearfix\"/>');\n",
       "    var titletext = $(\n",
       "        '<div class=\"ui-dialog-title\" style=\"width: 100%; ' +\n",
       "        'text-align: center; padding: 3px;\"/>');\n",
       "    titlebar.append(titletext)\n",
       "    this.root.append(titlebar);\n",
       "    this.header = titletext[0];\n",
       "}\n",
       "\n",
       "\n",
       "\n",
       "mpl.figure.prototype._canvas_extra_style = function(canvas_div) {\n",
       "\n",
       "}\n",
       "\n",
       "\n",
       "mpl.figure.prototype._root_extra_style = function(canvas_div) {\n",
       "\n",
       "}\n",
       "\n",
       "mpl.figure.prototype._init_canvas = function() {\n",
       "    var fig = this;\n",
       "\n",
       "    var canvas_div = $('<div/>');\n",
       "\n",
       "    canvas_div.attr('style', 'position: relative; clear: both; outline: 0');\n",
       "\n",
       "    function canvas_keyboard_event(event) {\n",
       "        return fig.key_event(event, event['data']);\n",
       "    }\n",
       "\n",
       "    canvas_div.keydown('key_press', canvas_keyboard_event);\n",
       "    canvas_div.keyup('key_release', canvas_keyboard_event);\n",
       "    this.canvas_div = canvas_div\n",
       "    this._canvas_extra_style(canvas_div)\n",
       "    this.root.append(canvas_div);\n",
       "\n",
       "    var canvas = $('<canvas/>');\n",
       "    canvas.addClass('mpl-canvas');\n",
       "    canvas.attr('style', \"left: 0; top: 0; z-index: 0; outline: 0\")\n",
       "\n",
       "    this.canvas = canvas[0];\n",
       "    this.context = canvas[0].getContext(\"2d\");\n",
       "\n",
       "    var rubberband = $('<canvas/>');\n",
       "    rubberband.attr('style', \"position: absolute; left: 0; top: 0; z-index: 1;\")\n",
       "\n",
       "    var pass_mouse_events = true;\n",
       "\n",
       "    canvas_div.resizable({\n",
       "        start: function(event, ui) {\n",
       "            pass_mouse_events = false;\n",
       "        },\n",
       "        resize: function(event, ui) {\n",
       "            fig.request_resize(ui.size.width, ui.size.height);\n",
       "        },\n",
       "        stop: function(event, ui) {\n",
       "            pass_mouse_events = true;\n",
       "            fig.request_resize(ui.size.width, ui.size.height);\n",
       "        },\n",
       "    });\n",
       "\n",
       "    function mouse_event_fn(event) {\n",
       "        if (pass_mouse_events)\n",
       "            return fig.mouse_event(event, event['data']);\n",
       "    }\n",
       "\n",
       "    rubberband.mousedown('button_press', mouse_event_fn);\n",
       "    rubberband.mouseup('button_release', mouse_event_fn);\n",
       "    // Throttle sequential mouse events to 1 every 20ms.\n",
       "    rubberband.mousemove('motion_notify', mouse_event_fn);\n",
       "\n",
       "    rubberband.mouseenter('figure_enter', mouse_event_fn);\n",
       "    rubberband.mouseleave('figure_leave', mouse_event_fn);\n",
       "\n",
       "    canvas_div.on(\"wheel\", function (event) {\n",
       "        event = event.originalEvent;\n",
       "        event['data'] = 'scroll'\n",
       "        if (event.deltaY < 0) {\n",
       "            event.step = 1;\n",
       "        } else {\n",
       "            event.step = -1;\n",
       "        }\n",
       "        mouse_event_fn(event);\n",
       "    });\n",
       "\n",
       "    canvas_div.append(canvas);\n",
       "    canvas_div.append(rubberband);\n",
       "\n",
       "    this.rubberband = rubberband;\n",
       "    this.rubberband_canvas = rubberband[0];\n",
       "    this.rubberband_context = rubberband[0].getContext(\"2d\");\n",
       "    this.rubberband_context.strokeStyle = \"#000000\";\n",
       "\n",
       "    this._resize_canvas = function(width, height) {\n",
       "        // Keep the size of the canvas, canvas container, and rubber band\n",
       "        // canvas in synch.\n",
       "        canvas_div.css('width', width)\n",
       "        canvas_div.css('height', height)\n",
       "\n",
       "        canvas.attr('width', width);\n",
       "        canvas.attr('height', height);\n",
       "\n",
       "        rubberband.attr('width', width);\n",
       "        rubberband.attr('height', height);\n",
       "    }\n",
       "\n",
       "    // Set the figure to an initial 600x600px, this will subsequently be updated\n",
       "    // upon first draw.\n",
       "    this._resize_canvas(600, 600);\n",
       "\n",
       "    // Disable right mouse context menu.\n",
       "    $(this.rubberband_canvas).bind(\"contextmenu\",function(e){\n",
       "        return false;\n",
       "    });\n",
       "\n",
       "    function set_focus () {\n",
       "        canvas.focus();\n",
       "        canvas_div.focus();\n",
       "    }\n",
       "\n",
       "    window.setTimeout(set_focus, 100);\n",
       "}\n",
       "\n",
       "mpl.figure.prototype._init_toolbar = function() {\n",
       "    var fig = this;\n",
       "\n",
       "    var nav_element = $('<div/>')\n",
       "    nav_element.attr('style', 'width: 100%');\n",
       "    this.root.append(nav_element);\n",
       "\n",
       "    // Define a callback function for later on.\n",
       "    function toolbar_event(event) {\n",
       "        return fig.toolbar_button_onclick(event['data']);\n",
       "    }\n",
       "    function toolbar_mouse_event(event) {\n",
       "        return fig.toolbar_button_onmouseover(event['data']);\n",
       "    }\n",
       "\n",
       "    for(var toolbar_ind in mpl.toolbar_items) {\n",
       "        var name = mpl.toolbar_items[toolbar_ind][0];\n",
       "        var tooltip = mpl.toolbar_items[toolbar_ind][1];\n",
       "        var image = mpl.toolbar_items[toolbar_ind][2];\n",
       "        var method_name = mpl.toolbar_items[toolbar_ind][3];\n",
       "\n",
       "        if (!name) {\n",
       "            // put a spacer in here.\n",
       "            continue;\n",
       "        }\n",
       "        var button = $('<button/>');\n",
       "        button.addClass('ui-button ui-widget ui-state-default ui-corner-all ' +\n",
       "                        'ui-button-icon-only');\n",
       "        button.attr('role', 'button');\n",
       "        button.attr('aria-disabled', 'false');\n",
       "        button.click(method_name, toolbar_event);\n",
       "        button.mouseover(tooltip, toolbar_mouse_event);\n",
       "\n",
       "        var icon_img = $('<span/>');\n",
       "        icon_img.addClass('ui-button-icon-primary ui-icon');\n",
       "        icon_img.addClass(image);\n",
       "        icon_img.addClass('ui-corner-all');\n",
       "\n",
       "        var tooltip_span = $('<span/>');\n",
       "        tooltip_span.addClass('ui-button-text');\n",
       "        tooltip_span.html(tooltip);\n",
       "\n",
       "        button.append(icon_img);\n",
       "        button.append(tooltip_span);\n",
       "\n",
       "        nav_element.append(button);\n",
       "    }\n",
       "\n",
       "    var fmt_picker_span = $('<span/>');\n",
       "\n",
       "    var fmt_picker = $('<select/>');\n",
       "    fmt_picker.addClass('mpl-toolbar-option ui-widget ui-widget-content');\n",
       "    fmt_picker_span.append(fmt_picker);\n",
       "    nav_element.append(fmt_picker_span);\n",
       "    this.format_dropdown = fmt_picker[0];\n",
       "\n",
       "    for (var ind in mpl.extensions) {\n",
       "        var fmt = mpl.extensions[ind];\n",
       "        var option = $(\n",
       "            '<option/>', {selected: fmt === mpl.default_extension}).html(fmt);\n",
       "        fmt_picker.append(option)\n",
       "    }\n",
       "\n",
       "    // Add hover states to the ui-buttons\n",
       "    $( \".ui-button\" ).hover(\n",
       "        function() { $(this).addClass(\"ui-state-hover\");},\n",
       "        function() { $(this).removeClass(\"ui-state-hover\");}\n",
       "    );\n",
       "\n",
       "    var status_bar = $('<span class=\"mpl-message\"/>');\n",
       "    nav_element.append(status_bar);\n",
       "    this.message = status_bar[0];\n",
       "}\n",
       "\n",
       "mpl.figure.prototype.request_resize = function(x_pixels, y_pixels) {\n",
       "    // Request matplotlib to resize the figure. Matplotlib will then trigger a resize in the client,\n",
       "    // which will in turn request a refresh of the image.\n",
       "    this.send_message('resize', {'width': x_pixels, 'height': y_pixels});\n",
       "}\n",
       "\n",
       "mpl.figure.prototype.send_message = function(type, properties) {\n",
       "    properties['type'] = type;\n",
       "    properties['figure_id'] = this.id;\n",
       "    this.ws.send(JSON.stringify(properties));\n",
       "}\n",
       "\n",
       "mpl.figure.prototype.send_draw_message = function() {\n",
       "    if (!this.waiting) {\n",
       "        this.waiting = true;\n",
       "        this.ws.send(JSON.stringify({type: \"draw\", figure_id: this.id}));\n",
       "    }\n",
       "}\n",
       "\n",
       "\n",
       "mpl.figure.prototype.handle_save = function(fig, msg) {\n",
       "    var format_dropdown = fig.format_dropdown;\n",
       "    var format = format_dropdown.options[format_dropdown.selectedIndex].value;\n",
       "    fig.ondownload(fig, format);\n",
       "}\n",
       "\n",
       "\n",
       "mpl.figure.prototype.handle_resize = function(fig, msg) {\n",
       "    var size = msg['size'];\n",
       "    if (size[0] != fig.canvas.width || size[1] != fig.canvas.height) {\n",
       "        fig._resize_canvas(size[0], size[1]);\n",
       "        fig.send_message(\"refresh\", {});\n",
       "    };\n",
       "}\n",
       "\n",
       "mpl.figure.prototype.handle_rubberband = function(fig, msg) {\n",
       "    var x0 = msg['x0'];\n",
       "    var y0 = fig.canvas.height - msg['y0'];\n",
       "    var x1 = msg['x1'];\n",
       "    var y1 = fig.canvas.height - msg['y1'];\n",
       "    x0 = Math.floor(x0) + 0.5;\n",
       "    y0 = Math.floor(y0) + 0.5;\n",
       "    x1 = Math.floor(x1) + 0.5;\n",
       "    y1 = Math.floor(y1) + 0.5;\n",
       "    var min_x = Math.min(x0, x1);\n",
       "    var min_y = Math.min(y0, y1);\n",
       "    var width = Math.abs(x1 - x0);\n",
       "    var height = Math.abs(y1 - y0);\n",
       "\n",
       "    fig.rubberband_context.clearRect(\n",
       "        0, 0, fig.canvas.width, fig.canvas.height);\n",
       "\n",
       "    fig.rubberband_context.strokeRect(min_x, min_y, width, height);\n",
       "}\n",
       "\n",
       "mpl.figure.prototype.handle_figure_label = function(fig, msg) {\n",
       "    // Updates the figure title.\n",
       "    fig.header.textContent = msg['label'];\n",
       "}\n",
       "\n",
       "mpl.figure.prototype.handle_cursor = function(fig, msg) {\n",
       "    var cursor = msg['cursor'];\n",
       "    switch(cursor)\n",
       "    {\n",
       "    case 0:\n",
       "        cursor = 'pointer';\n",
       "        break;\n",
       "    case 1:\n",
       "        cursor = 'default';\n",
       "        break;\n",
       "    case 2:\n",
       "        cursor = 'crosshair';\n",
       "        break;\n",
       "    case 3:\n",
       "        cursor = 'move';\n",
       "        break;\n",
       "    }\n",
       "    fig.rubberband_canvas.style.cursor = cursor;\n",
       "}\n",
       "\n",
       "mpl.figure.prototype.handle_message = function(fig, msg) {\n",
       "    fig.message.textContent = msg['message'];\n",
       "}\n",
       "\n",
       "mpl.figure.prototype.handle_draw = function(fig, msg) {\n",
       "    // Request the server to send over a new figure.\n",
       "    fig.send_draw_message();\n",
       "}\n",
       "\n",
       "mpl.figure.prototype.handle_image_mode = function(fig, msg) {\n",
       "    fig.image_mode = msg['mode'];\n",
       "}\n",
       "\n",
       "mpl.figure.prototype.updated_canvas_event = function() {\n",
       "    // Called whenever the canvas gets updated.\n",
       "    this.send_message(\"ack\", {});\n",
       "}\n",
       "\n",
       "// A function to construct a web socket function for onmessage handling.\n",
       "// Called in the figure constructor.\n",
       "mpl.figure.prototype._make_on_message_function = function(fig) {\n",
       "    return function socket_on_message(evt) {\n",
       "        if (evt.data instanceof Blob) {\n",
       "            /* FIXME: We get \"Resource interpreted as Image but\n",
       "             * transferred with MIME type text/plain:\" errors on\n",
       "             * Chrome.  But how to set the MIME type?  It doesn't seem\n",
       "             * to be part of the websocket stream */\n",
       "            evt.data.type = \"image/png\";\n",
       "\n",
       "            /* Free the memory for the previous frames */\n",
       "            if (fig.imageObj.src) {\n",
       "                (window.URL || window.webkitURL).revokeObjectURL(\n",
       "                    fig.imageObj.src);\n",
       "            }\n",
       "\n",
       "            fig.imageObj.src = (window.URL || window.webkitURL).createObjectURL(\n",
       "                evt.data);\n",
       "            fig.updated_canvas_event();\n",
       "            fig.waiting = false;\n",
       "            return;\n",
       "        }\n",
       "        else if (typeof evt.data === 'string' && evt.data.slice(0, 21) == \"data:image/png;base64\") {\n",
       "            fig.imageObj.src = evt.data;\n",
       "            fig.updated_canvas_event();\n",
       "            fig.waiting = false;\n",
       "            return;\n",
       "        }\n",
       "\n",
       "        var msg = JSON.parse(evt.data);\n",
       "        var msg_type = msg['type'];\n",
       "\n",
       "        // Call the  \"handle_{type}\" callback, which takes\n",
       "        // the figure and JSON message as its only arguments.\n",
       "        try {\n",
       "            var callback = fig[\"handle_\" + msg_type];\n",
       "        } catch (e) {\n",
       "            console.log(\"No handler for the '\" + msg_type + \"' message type: \", msg);\n",
       "            return;\n",
       "        }\n",
       "\n",
       "        if (callback) {\n",
       "            try {\n",
       "                // console.log(\"Handling '\" + msg_type + \"' message: \", msg);\n",
       "                callback(fig, msg);\n",
       "            } catch (e) {\n",
       "                console.log(\"Exception inside the 'handler_\" + msg_type + \"' callback:\", e, e.stack, msg);\n",
       "            }\n",
       "        }\n",
       "    };\n",
       "}\n",
       "\n",
       "// from http://stackoverflow.com/questions/1114465/getting-mouse-location-in-canvas\n",
       "mpl.findpos = function(e) {\n",
       "    //this section is from http://www.quirksmode.org/js/events_properties.html\n",
       "    var targ;\n",
       "    if (!e)\n",
       "        e = window.event;\n",
       "    if (e.target)\n",
       "        targ = e.target;\n",
       "    else if (e.srcElement)\n",
       "        targ = e.srcElement;\n",
       "    if (targ.nodeType == 3) // defeat Safari bug\n",
       "        targ = targ.parentNode;\n",
       "\n",
       "    // jQuery normalizes the pageX and pageY\n",
       "    // pageX,Y are the mouse positions relative to the document\n",
       "    // offset() returns the position of the element relative to the document\n",
       "    var x = e.pageX - $(targ).offset().left;\n",
       "    var y = e.pageY - $(targ).offset().top;\n",
       "\n",
       "    return {\"x\": x, \"y\": y};\n",
       "};\n",
       "\n",
       "/*\n",
       " * return a copy of an object with only non-object keys\n",
       " * we need this to avoid circular references\n",
       " * http://stackoverflow.com/a/24161582/3208463\n",
       " */\n",
       "function simpleKeys (original) {\n",
       "  return Object.keys(original).reduce(function (obj, key) {\n",
       "    if (typeof original[key] !== 'object')\n",
       "        obj[key] = original[key]\n",
       "    return obj;\n",
       "  }, {});\n",
       "}\n",
       "\n",
       "mpl.figure.prototype.mouse_event = function(event, name) {\n",
       "    var canvas_pos = mpl.findpos(event)\n",
       "\n",
       "    if (name === 'button_press')\n",
       "    {\n",
       "        this.canvas.focus();\n",
       "        this.canvas_div.focus();\n",
       "    }\n",
       "\n",
       "    var x = canvas_pos.x;\n",
       "    var y = canvas_pos.y;\n",
       "\n",
       "    this.send_message(name, {x: x, y: y, button: event.button,\n",
       "                             step: event.step,\n",
       "                             guiEvent: simpleKeys(event)});\n",
       "\n",
       "    /* This prevents the web browser from automatically changing to\n",
       "     * the text insertion cursor when the button is pressed.  We want\n",
       "     * to control all of the cursor setting manually through the\n",
       "     * 'cursor' event from matplotlib */\n",
       "    event.preventDefault();\n",
       "    return false;\n",
       "}\n",
       "\n",
       "mpl.figure.prototype._key_event_extra = function(event, name) {\n",
       "    // Handle any extra behaviour associated with a key event\n",
       "}\n",
       "\n",
       "mpl.figure.prototype.key_event = function(event, name) {\n",
       "\n",
       "    // Prevent repeat events\n",
       "    if (name == 'key_press')\n",
       "    {\n",
       "        if (event.which === this._key)\n",
       "            return;\n",
       "        else\n",
       "            this._key = event.which;\n",
       "    }\n",
       "    if (name == 'key_release')\n",
       "        this._key = null;\n",
       "\n",
       "    var value = '';\n",
       "    if (event.ctrlKey && event.which != 17)\n",
       "        value += \"ctrl+\";\n",
       "    if (event.altKey && event.which != 18)\n",
       "        value += \"alt+\";\n",
       "    if (event.shiftKey && event.which != 16)\n",
       "        value += \"shift+\";\n",
       "\n",
       "    value += 'k';\n",
       "    value += event.which.toString();\n",
       "\n",
       "    this._key_event_extra(event, name);\n",
       "\n",
       "    this.send_message(name, {key: value,\n",
       "                             guiEvent: simpleKeys(event)});\n",
       "    return false;\n",
       "}\n",
       "\n",
       "mpl.figure.prototype.toolbar_button_onclick = function(name) {\n",
       "    if (name == 'download') {\n",
       "        this.handle_save(this, null);\n",
       "    } else {\n",
       "        this.send_message(\"toolbar_button\", {name: name});\n",
       "    }\n",
       "};\n",
       "\n",
       "mpl.figure.prototype.toolbar_button_onmouseover = function(tooltip) {\n",
       "    this.message.textContent = tooltip;\n",
       "};\n",
       "mpl.toolbar_items = [[\"Home\", \"Reset original view\", \"fa fa-home icon-home\", \"home\"], [\"Back\", \"Back to  previous view\", \"fa fa-arrow-left icon-arrow-left\", \"back\"], [\"Forward\", \"Forward to next view\", \"fa fa-arrow-right icon-arrow-right\", \"forward\"], [\"\", \"\", \"\", \"\"], [\"Pan\", \"Pan axes with left mouse, zoom with right\", \"fa fa-arrows icon-move\", \"pan\"], [\"Zoom\", \"Zoom to rectangle\", \"fa fa-square-o icon-check-empty\", \"zoom\"], [\"\", \"\", \"\", \"\"], [\"Download\", \"Download plot\", \"fa fa-floppy-o icon-save\", \"download\"]];\n",
       "\n",
       "mpl.extensions = [\"eps\", \"jpeg\", \"pdf\", \"png\", \"ps\", \"raw\", \"svg\", \"tif\"];\n",
       "\n",
       "mpl.default_extension = \"png\";var comm_websocket_adapter = function(comm) {\n",
       "    // Create a \"websocket\"-like object which calls the given IPython comm\n",
       "    // object with the appropriate methods. Currently this is a non binary\n",
       "    // socket, so there is still some room for performance tuning.\n",
       "    var ws = {};\n",
       "\n",
       "    ws.close = function() {\n",
       "        comm.close()\n",
       "    };\n",
       "    ws.send = function(m) {\n",
       "        //console.log('sending', m);\n",
       "        comm.send(m);\n",
       "    };\n",
       "    // Register the callback with on_msg.\n",
       "    comm.on_msg(function(msg) {\n",
       "        //console.log('receiving', msg['content']['data'], msg);\n",
       "        // Pass the mpl event to the overriden (by mpl) onmessage function.\n",
       "        ws.onmessage(msg['content']['data'])\n",
       "    });\n",
       "    return ws;\n",
       "}\n",
       "\n",
       "mpl.mpl_figure_comm = function(comm, msg) {\n",
       "    // This is the function which gets called when the mpl process\n",
       "    // starts-up an IPython Comm through the \"matplotlib\" channel.\n",
       "\n",
       "    var id = msg.content.data.id;\n",
       "    // Get hold of the div created by the display call when the Comm\n",
       "    // socket was opened in Python.\n",
       "    var element = $(\"#\" + id);\n",
       "    var ws_proxy = comm_websocket_adapter(comm)\n",
       "\n",
       "    function ondownload(figure, format) {\n",
       "        window.open(figure.imageObj.src);\n",
       "    }\n",
       "\n",
       "    var fig = new mpl.figure(id, ws_proxy,\n",
       "                           ondownload,\n",
       "                           element.get(0));\n",
       "\n",
       "    // Call onopen now - mpl needs it, as it is assuming we've passed it a real\n",
       "    // web socket which is closed, not our websocket->open comm proxy.\n",
       "    ws_proxy.onopen();\n",
       "\n",
       "    fig.parent_element = element.get(0);\n",
       "    fig.cell_info = mpl.find_output_cell(\"<div id='\" + id + \"'></div>\");\n",
       "    if (!fig.cell_info) {\n",
       "        console.error(\"Failed to find cell for figure\", id, fig);\n",
       "        return;\n",
       "    }\n",
       "\n",
       "    var output_index = fig.cell_info[2]\n",
       "    var cell = fig.cell_info[0];\n",
       "\n",
       "};\n",
       "\n",
       "mpl.figure.prototype.handle_close = function(fig, msg) {\n",
       "    fig.root.unbind('remove')\n",
       "\n",
       "    // Update the output cell to use the data from the current canvas.\n",
       "    fig.push_to_output();\n",
       "    var dataURL = fig.canvas.toDataURL();\n",
       "    // Re-enable the keyboard manager in IPython - without this line, in FF,\n",
       "    // the notebook keyboard shortcuts fail.\n",
       "    IPython.keyboard_manager.enable()\n",
       "    $(fig.parent_element).html('<img src=\"' + dataURL + '\">');\n",
       "    fig.close_ws(fig, msg);\n",
       "}\n",
       "\n",
       "mpl.figure.prototype.close_ws = function(fig, msg){\n",
       "    fig.send_message('closing', msg);\n",
       "    // fig.ws.close()\n",
       "}\n",
       "\n",
       "mpl.figure.prototype.push_to_output = function(remove_interactive) {\n",
       "    // Turn the data on the canvas into data in the output cell.\n",
       "    var dataURL = this.canvas.toDataURL();\n",
       "    this.cell_info[1]['text/html'] = '<img src=\"' + dataURL + '\">';\n",
       "}\n",
       "\n",
       "mpl.figure.prototype.updated_canvas_event = function() {\n",
       "    // Tell IPython that the notebook contents must change.\n",
       "    IPython.notebook.set_dirty(true);\n",
       "    this.send_message(\"ack\", {});\n",
       "    var fig = this;\n",
       "    // Wait a second, then push the new image to the DOM so\n",
       "    // that it is saved nicely (might be nice to debounce this).\n",
       "    setTimeout(function () { fig.push_to_output() }, 1000);\n",
       "}\n",
       "\n",
       "mpl.figure.prototype._init_toolbar = function() {\n",
       "    var fig = this;\n",
       "\n",
       "    var nav_element = $('<div/>')\n",
       "    nav_element.attr('style', 'width: 100%');\n",
       "    this.root.append(nav_element);\n",
       "\n",
       "    // Define a callback function for later on.\n",
       "    function toolbar_event(event) {\n",
       "        return fig.toolbar_button_onclick(event['data']);\n",
       "    }\n",
       "    function toolbar_mouse_event(event) {\n",
       "        return fig.toolbar_button_onmouseover(event['data']);\n",
       "    }\n",
       "\n",
       "    for(var toolbar_ind in mpl.toolbar_items){\n",
       "        var name = mpl.toolbar_items[toolbar_ind][0];\n",
       "        var tooltip = mpl.toolbar_items[toolbar_ind][1];\n",
       "        var image = mpl.toolbar_items[toolbar_ind][2];\n",
       "        var method_name = mpl.toolbar_items[toolbar_ind][3];\n",
       "\n",
       "        if (!name) { continue; };\n",
       "\n",
       "        var button = $('<button class=\"btn btn-default\" href=\"#\" title=\"' + name + '\"><i class=\"fa ' + image + ' fa-lg\"></i></button>');\n",
       "        button.click(method_name, toolbar_event);\n",
       "        button.mouseover(tooltip, toolbar_mouse_event);\n",
       "        nav_element.append(button);\n",
       "    }\n",
       "\n",
       "    // Add the status bar.\n",
       "    var status_bar = $('<span class=\"mpl-message\" style=\"text-align:right; float: right;\"/>');\n",
       "    nav_element.append(status_bar);\n",
       "    this.message = status_bar[0];\n",
       "\n",
       "    // Add the close button to the window.\n",
       "    var buttongrp = $('<div class=\"btn-group inline pull-right\"></div>');\n",
       "    var button = $('<button class=\"btn btn-mini btn-primary\" href=\"#\" title=\"Stop Interaction\"><i class=\"fa fa-power-off icon-remove icon-large\"></i></button>');\n",
       "    button.click(function (evt) { fig.handle_close(fig, {}); } );\n",
       "    button.mouseover('Stop Interaction', toolbar_mouse_event);\n",
       "    buttongrp.append(button);\n",
       "    var titlebar = this.root.find($('.ui-dialog-titlebar'));\n",
       "    titlebar.prepend(buttongrp);\n",
       "}\n",
       "\n",
       "mpl.figure.prototype._root_extra_style = function(el){\n",
       "    var fig = this\n",
       "    el.on(\"remove\", function(){\n",
       "\tfig.close_ws(fig, {});\n",
       "    });\n",
       "}\n",
       "\n",
       "mpl.figure.prototype._canvas_extra_style = function(el){\n",
       "    // this is important to make the div 'focusable\n",
       "    el.attr('tabindex', 0)\n",
       "    // reach out to IPython and tell the keyboard manager to turn it's self\n",
       "    // off when our div gets focus\n",
       "\n",
       "    // location in version 3\n",
       "    if (IPython.notebook.keyboard_manager) {\n",
       "        IPython.notebook.keyboard_manager.register_events(el);\n",
       "    }\n",
       "    else {\n",
       "        // location in version 2\n",
       "        IPython.keyboard_manager.register_events(el);\n",
       "    }\n",
       "\n",
       "}\n",
       "\n",
       "mpl.figure.prototype._key_event_extra = function(event, name) {\n",
       "    var manager = IPython.notebook.keyboard_manager;\n",
       "    if (!manager)\n",
       "        manager = IPython.keyboard_manager;\n",
       "\n",
       "    // Check for shift+enter\n",
       "    if (event.shiftKey && event.which == 13) {\n",
       "        this.canvas_div.blur();\n",
       "        event.shiftKey = false;\n",
       "        // Send a \"J\" for go to next cell\n",
       "        event.which = 74;\n",
       "        event.keyCode = 74;\n",
       "        manager.command_mode();\n",
       "        manager.handle_keydown(event);\n",
       "    }\n",
       "}\n",
       "\n",
       "mpl.figure.prototype.handle_save = function(fig, msg) {\n",
       "    fig.ondownload(fig, null);\n",
       "}\n",
       "\n",
       "\n",
       "mpl.find_output_cell = function(html_output) {\n",
       "    // Return the cell and output element which can be found *uniquely* in the notebook.\n",
       "    // Note - this is a bit hacky, but it is done because the \"notebook_saving.Notebook\"\n",
       "    // IPython event is triggered only after the cells have been serialised, which for\n",
       "    // our purposes (turning an active figure into a static one), is too late.\n",
       "    var cells = IPython.notebook.get_cells();\n",
       "    var ncells = cells.length;\n",
       "    for (var i=0; i<ncells; i++) {\n",
       "        var cell = cells[i];\n",
       "        if (cell.cell_type === 'code'){\n",
       "            for (var j=0; j<cell.output_area.outputs.length; j++) {\n",
       "                var data = cell.output_area.outputs[j];\n",
       "                if (data.data) {\n",
       "                    // IPython >= 3 moved mimebundle to data attribute of output\n",
       "                    data = data.data;\n",
       "                }\n",
       "                if (data['text/html'] == html_output) {\n",
       "                    return [cell, data, j];\n",
       "                }\n",
       "            }\n",
       "        }\n",
       "    }\n",
       "}\n",
       "\n",
       "// Register the function which deals with the matplotlib target/channel.\n",
       "// The kernel may be null if the page has been refreshed.\n",
       "if (IPython.notebook.kernel != null) {\n",
       "    IPython.notebook.kernel.comm_manager.register_target('matplotlib', mpl.mpl_figure_comm);\n",
       "}\n"
      ],
      "text/plain": [
       "<IPython.core.display.Javascript object>"
      ]
     },
     "metadata": {},
     "output_type": "display_data"
    },
    {
     "data": {
      "text/html": [
       "<img src=\"data:image/png;base64,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\">"
      ],
      "text/plain": [
       "<IPython.core.display.HTML object>"
      ]
     },
     "metadata": {},
     "output_type": "display_data"
    },
    {
     "data": {
      "text/plain": [
       "<matplotlib.text.Text at 0x113954f50>"
      ]
     },
     "execution_count": 8,
     "metadata": {},
     "output_type": "execute_result"
    }
   ],
   "source": [
    "plt.clf()\n",
    "ax = plt.gca()\n",
    "ax.hist(sky_resid_b)\n",
    "ax.set_xlim(-1,1)\n",
    "ax.set_xlabel('MED_SKY_RESID')"
   ]
  },
  {
   "cell_type": "markdown",
   "metadata": {
    "collapsed": true
   },
   "source": [
    "## Camera Histograms"
   ]
  },
  {
   "cell_type": "code",
   "execution_count": 9,
   "metadata": {
    "collapsed": false
   },
   "outputs": [
    {
     "name": "stderr",
     "output_type": "stream",
     "text": [
      "/Users/xavier/anaconda/lib/python2.7/site-packages/matplotlib/__init__.py:1350: UserWarning:  This call to matplotlib.use() has no effect\n",
      "because the backend has already been chosen;\n",
      "matplotlib.use() must be called *before* pylab, matplotlib.pyplot,\n",
      "or matplotlib.backends is imported for the first time.\n",
      "\n",
      "  warnings.warn(_use_error_msg)\n"
     ]
    }
   ],
   "source": [
    "from desispec.qa import qa_plots as dqqp"
   ]
  },
  {
   "cell_type": "code",
   "execution_count": 20,
   "metadata": {
    "collapsed": false
   },
   "outputs": [
    {
     "data": {
      "application/javascript": [
       "/* Put everything inside the global mpl namespace */\n",
       "window.mpl = {};\n",
       "\n",
       "mpl.get_websocket_type = function() {\n",
       "    if (typeof(WebSocket) !== 'undefined') {\n",
       "        return WebSocket;\n",
       "    } else if (typeof(MozWebSocket) !== 'undefined') {\n",
       "        return MozWebSocket;\n",
       "    } else {\n",
       "        alert('Your browser does not have WebSocket support.' +\n",
       "              'Please try Chrome, Safari or Firefox ≥ 6. ' +\n",
       "              'Firefox 4 and 5 are also supported but you ' +\n",
       "              'have to enable WebSockets in about:config.');\n",
       "    };\n",
       "}\n",
       "\n",
       "mpl.figure = function(figure_id, websocket, ondownload, parent_element) {\n",
       "    this.id = figure_id;\n",
       "\n",
       "    this.ws = websocket;\n",
       "\n",
       "    this.supports_binary = (this.ws.binaryType != undefined);\n",
       "\n",
       "    if (!this.supports_binary) {\n",
       "        var warnings = document.getElementById(\"mpl-warnings\");\n",
       "        if (warnings) {\n",
       "            warnings.style.display = 'block';\n",
       "            warnings.textContent = (\n",
       "                \"This browser does not support binary websocket messages. \" +\n",
       "                    \"Performance may be slow.\");\n",
       "        }\n",
       "    }\n",
       "\n",
       "    this.imageObj = new Image();\n",
       "\n",
       "    this.context = undefined;\n",
       "    this.message = undefined;\n",
       "    this.canvas = undefined;\n",
       "    this.rubberband_canvas = undefined;\n",
       "    this.rubberband_context = undefined;\n",
       "    this.format_dropdown = undefined;\n",
       "\n",
       "    this.image_mode = 'full';\n",
       "\n",
       "    this.root = $('<div/>');\n",
       "    this._root_extra_style(this.root)\n",
       "    this.root.attr('style', 'display: inline-block');\n",
       "\n",
       "    $(parent_element).append(this.root);\n",
       "\n",
       "    this._init_header(this);\n",
       "    this._init_canvas(this);\n",
       "    this._init_toolbar(this);\n",
       "\n",
       "    var fig = this;\n",
       "\n",
       "    this.waiting = false;\n",
       "\n",
       "    this.ws.onopen =  function () {\n",
       "            fig.send_message(\"supports_binary\", {value: fig.supports_binary});\n",
       "            fig.send_message(\"send_image_mode\", {});\n",
       "            fig.send_message(\"refresh\", {});\n",
       "        }\n",
       "\n",
       "    this.imageObj.onload = function() {\n",
       "            if (fig.image_mode == 'full') {\n",
       "                // Full images could contain transparency (where diff images\n",
       "                // almost always do), so we need to clear the canvas so that\n",
       "                // there is no ghosting.\n",
       "                fig.context.clearRect(0, 0, fig.canvas.width, fig.canvas.height);\n",
       "            }\n",
       "            fig.context.drawImage(fig.imageObj, 0, 0);\n",
       "        };\n",
       "\n",
       "    this.imageObj.onunload = function() {\n",
       "        this.ws.close();\n",
       "    }\n",
       "\n",
       "    this.ws.onmessage = this._make_on_message_function(this);\n",
       "\n",
       "    this.ondownload = ondownload;\n",
       "}\n",
       "\n",
       "mpl.figure.prototype._init_header = function() {\n",
       "    var titlebar = $(\n",
       "        '<div class=\"ui-dialog-titlebar ui-widget-header ui-corner-all ' +\n",
       "        'ui-helper-clearfix\"/>');\n",
       "    var titletext = $(\n",
       "        '<div class=\"ui-dialog-title\" style=\"width: 100%; ' +\n",
       "        'text-align: center; padding: 3px;\"/>');\n",
       "    titlebar.append(titletext)\n",
       "    this.root.append(titlebar);\n",
       "    this.header = titletext[0];\n",
       "}\n",
       "\n",
       "\n",
       "\n",
       "mpl.figure.prototype._canvas_extra_style = function(canvas_div) {\n",
       "\n",
       "}\n",
       "\n",
       "\n",
       "mpl.figure.prototype._root_extra_style = function(canvas_div) {\n",
       "\n",
       "}\n",
       "\n",
       "mpl.figure.prototype._init_canvas = function() {\n",
       "    var fig = this;\n",
       "\n",
       "    var canvas_div = $('<div/>');\n",
       "\n",
       "    canvas_div.attr('style', 'position: relative; clear: both; outline: 0');\n",
       "\n",
       "    function canvas_keyboard_event(event) {\n",
       "        return fig.key_event(event, event['data']);\n",
       "    }\n",
       "\n",
       "    canvas_div.keydown('key_press', canvas_keyboard_event);\n",
       "    canvas_div.keyup('key_release', canvas_keyboard_event);\n",
       "    this.canvas_div = canvas_div\n",
       "    this._canvas_extra_style(canvas_div)\n",
       "    this.root.append(canvas_div);\n",
       "\n",
       "    var canvas = $('<canvas/>');\n",
       "    canvas.addClass('mpl-canvas');\n",
       "    canvas.attr('style', \"left: 0; top: 0; z-index: 0; outline: 0\")\n",
       "\n",
       "    this.canvas = canvas[0];\n",
       "    this.context = canvas[0].getContext(\"2d\");\n",
       "\n",
       "    var rubberband = $('<canvas/>');\n",
       "    rubberband.attr('style', \"position: absolute; left: 0; top: 0; z-index: 1;\")\n",
       "\n",
       "    var pass_mouse_events = true;\n",
       "\n",
       "    canvas_div.resizable({\n",
       "        start: function(event, ui) {\n",
       "            pass_mouse_events = false;\n",
       "        },\n",
       "        resize: function(event, ui) {\n",
       "            fig.request_resize(ui.size.width, ui.size.height);\n",
       "        },\n",
       "        stop: function(event, ui) {\n",
       "            pass_mouse_events = true;\n",
       "            fig.request_resize(ui.size.width, ui.size.height);\n",
       "        },\n",
       "    });\n",
       "\n",
       "    function mouse_event_fn(event) {\n",
       "        if (pass_mouse_events)\n",
       "            return fig.mouse_event(event, event['data']);\n",
       "    }\n",
       "\n",
       "    rubberband.mousedown('button_press', mouse_event_fn);\n",
       "    rubberband.mouseup('button_release', mouse_event_fn);\n",
       "    // Throttle sequential mouse events to 1 every 20ms.\n",
       "    rubberband.mousemove('motion_notify', mouse_event_fn);\n",
       "\n",
       "    rubberband.mouseenter('figure_enter', mouse_event_fn);\n",
       "    rubberband.mouseleave('figure_leave', mouse_event_fn);\n",
       "\n",
       "    canvas_div.on(\"wheel\", function (event) {\n",
       "        event = event.originalEvent;\n",
       "        event['data'] = 'scroll'\n",
       "        if (event.deltaY < 0) {\n",
       "            event.step = 1;\n",
       "        } else {\n",
       "            event.step = -1;\n",
       "        }\n",
       "        mouse_event_fn(event);\n",
       "    });\n",
       "\n",
       "    canvas_div.append(canvas);\n",
       "    canvas_div.append(rubberband);\n",
       "\n",
       "    this.rubberband = rubberband;\n",
       "    this.rubberband_canvas = rubberband[0];\n",
       "    this.rubberband_context = rubberband[0].getContext(\"2d\");\n",
       "    this.rubberband_context.strokeStyle = \"#000000\";\n",
       "\n",
       "    this._resize_canvas = function(width, height) {\n",
       "        // Keep the size of the canvas, canvas container, and rubber band\n",
       "        // canvas in synch.\n",
       "        canvas_div.css('width', width)\n",
       "        canvas_div.css('height', height)\n",
       "\n",
       "        canvas.attr('width', width);\n",
       "        canvas.attr('height', height);\n",
       "\n",
       "        rubberband.attr('width', width);\n",
       "        rubberband.attr('height', height);\n",
       "    }\n",
       "\n",
       "    // Set the figure to an initial 600x600px, this will subsequently be updated\n",
       "    // upon first draw.\n",
       "    this._resize_canvas(600, 600);\n",
       "\n",
       "    // Disable right mouse context menu.\n",
       "    $(this.rubberband_canvas).bind(\"contextmenu\",function(e){\n",
       "        return false;\n",
       "    });\n",
       "\n",
       "    function set_focus () {\n",
       "        canvas.focus();\n",
       "        canvas_div.focus();\n",
       "    }\n",
       "\n",
       "    window.setTimeout(set_focus, 100);\n",
       "}\n",
       "\n",
       "mpl.figure.prototype._init_toolbar = function() {\n",
       "    var fig = this;\n",
       "\n",
       "    var nav_element = $('<div/>')\n",
       "    nav_element.attr('style', 'width: 100%');\n",
       "    this.root.append(nav_element);\n",
       "\n",
       "    // Define a callback function for later on.\n",
       "    function toolbar_event(event) {\n",
       "        return fig.toolbar_button_onclick(event['data']);\n",
       "    }\n",
       "    function toolbar_mouse_event(event) {\n",
       "        return fig.toolbar_button_onmouseover(event['data']);\n",
       "    }\n",
       "\n",
       "    for(var toolbar_ind in mpl.toolbar_items) {\n",
       "        var name = mpl.toolbar_items[toolbar_ind][0];\n",
       "        var tooltip = mpl.toolbar_items[toolbar_ind][1];\n",
       "        var image = mpl.toolbar_items[toolbar_ind][2];\n",
       "        var method_name = mpl.toolbar_items[toolbar_ind][3];\n",
       "\n",
       "        if (!name) {\n",
       "            // put a spacer in here.\n",
       "            continue;\n",
       "        }\n",
       "        var button = $('<button/>');\n",
       "        button.addClass('ui-button ui-widget ui-state-default ui-corner-all ' +\n",
       "                        'ui-button-icon-only');\n",
       "        button.attr('role', 'button');\n",
       "        button.attr('aria-disabled', 'false');\n",
       "        button.click(method_name, toolbar_event);\n",
       "        button.mouseover(tooltip, toolbar_mouse_event);\n",
       "\n",
       "        var icon_img = $('<span/>');\n",
       "        icon_img.addClass('ui-button-icon-primary ui-icon');\n",
       "        icon_img.addClass(image);\n",
       "        icon_img.addClass('ui-corner-all');\n",
       "\n",
       "        var tooltip_span = $('<span/>');\n",
       "        tooltip_span.addClass('ui-button-text');\n",
       "        tooltip_span.html(tooltip);\n",
       "\n",
       "        button.append(icon_img);\n",
       "        button.append(tooltip_span);\n",
       "\n",
       "        nav_element.append(button);\n",
       "    }\n",
       "\n",
       "    var fmt_picker_span = $('<span/>');\n",
       "\n",
       "    var fmt_picker = $('<select/>');\n",
       "    fmt_picker.addClass('mpl-toolbar-option ui-widget ui-widget-content');\n",
       "    fmt_picker_span.append(fmt_picker);\n",
       "    nav_element.append(fmt_picker_span);\n",
       "    this.format_dropdown = fmt_picker[0];\n",
       "\n",
       "    for (var ind in mpl.extensions) {\n",
       "        var fmt = mpl.extensions[ind];\n",
       "        var option = $(\n",
       "            '<option/>', {selected: fmt === mpl.default_extension}).html(fmt);\n",
       "        fmt_picker.append(option)\n",
       "    }\n",
       "\n",
       "    // Add hover states to the ui-buttons\n",
       "    $( \".ui-button\" ).hover(\n",
       "        function() { $(this).addClass(\"ui-state-hover\");},\n",
       "        function() { $(this).removeClass(\"ui-state-hover\");}\n",
       "    );\n",
       "\n",
       "    var status_bar = $('<span class=\"mpl-message\"/>');\n",
       "    nav_element.append(status_bar);\n",
       "    this.message = status_bar[0];\n",
       "}\n",
       "\n",
       "mpl.figure.prototype.request_resize = function(x_pixels, y_pixels) {\n",
       "    // Request matplotlib to resize the figure. Matplotlib will then trigger a resize in the client,\n",
       "    // which will in turn request a refresh of the image.\n",
       "    this.send_message('resize', {'width': x_pixels, 'height': y_pixels});\n",
       "}\n",
       "\n",
       "mpl.figure.prototype.send_message = function(type, properties) {\n",
       "    properties['type'] = type;\n",
       "    properties['figure_id'] = this.id;\n",
       "    this.ws.send(JSON.stringify(properties));\n",
       "}\n",
       "\n",
       "mpl.figure.prototype.send_draw_message = function() {\n",
       "    if (!this.waiting) {\n",
       "        this.waiting = true;\n",
       "        this.ws.send(JSON.stringify({type: \"draw\", figure_id: this.id}));\n",
       "    }\n",
       "}\n",
       "\n",
       "\n",
       "mpl.figure.prototype.handle_save = function(fig, msg) {\n",
       "    var format_dropdown = fig.format_dropdown;\n",
       "    var format = format_dropdown.options[format_dropdown.selectedIndex].value;\n",
       "    fig.ondownload(fig, format);\n",
       "}\n",
       "\n",
       "\n",
       "mpl.figure.prototype.handle_resize = function(fig, msg) {\n",
       "    var size = msg['size'];\n",
       "    if (size[0] != fig.canvas.width || size[1] != fig.canvas.height) {\n",
       "        fig._resize_canvas(size[0], size[1]);\n",
       "        fig.send_message(\"refresh\", {});\n",
       "    };\n",
       "}\n",
       "\n",
       "mpl.figure.prototype.handle_rubberband = function(fig, msg) {\n",
       "    var x0 = msg['x0'];\n",
       "    var y0 = fig.canvas.height - msg['y0'];\n",
       "    var x1 = msg['x1'];\n",
       "    var y1 = fig.canvas.height - msg['y1'];\n",
       "    x0 = Math.floor(x0) + 0.5;\n",
       "    y0 = Math.floor(y0) + 0.5;\n",
       "    x1 = Math.floor(x1) + 0.5;\n",
       "    y1 = Math.floor(y1) + 0.5;\n",
       "    var min_x = Math.min(x0, x1);\n",
       "    var min_y = Math.min(y0, y1);\n",
       "    var width = Math.abs(x1 - x0);\n",
       "    var height = Math.abs(y1 - y0);\n",
       "\n",
       "    fig.rubberband_context.clearRect(\n",
       "        0, 0, fig.canvas.width, fig.canvas.height);\n",
       "\n",
       "    fig.rubberband_context.strokeRect(min_x, min_y, width, height);\n",
       "}\n",
       "\n",
       "mpl.figure.prototype.handle_figure_label = function(fig, msg) {\n",
       "    // Updates the figure title.\n",
       "    fig.header.textContent = msg['label'];\n",
       "}\n",
       "\n",
       "mpl.figure.prototype.handle_cursor = function(fig, msg) {\n",
       "    var cursor = msg['cursor'];\n",
       "    switch(cursor)\n",
       "    {\n",
       "    case 0:\n",
       "        cursor = 'pointer';\n",
       "        break;\n",
       "    case 1:\n",
       "        cursor = 'default';\n",
       "        break;\n",
       "    case 2:\n",
       "        cursor = 'crosshair';\n",
       "        break;\n",
       "    case 3:\n",
       "        cursor = 'move';\n",
       "        break;\n",
       "    }\n",
       "    fig.rubberband_canvas.style.cursor = cursor;\n",
       "}\n",
       "\n",
       "mpl.figure.prototype.handle_message = function(fig, msg) {\n",
       "    fig.message.textContent = msg['message'];\n",
       "}\n",
       "\n",
       "mpl.figure.prototype.handle_draw = function(fig, msg) {\n",
       "    // Request the server to send over a new figure.\n",
       "    fig.send_draw_message();\n",
       "}\n",
       "\n",
       "mpl.figure.prototype.handle_image_mode = function(fig, msg) {\n",
       "    fig.image_mode = msg['mode'];\n",
       "}\n",
       "\n",
       "mpl.figure.prototype.updated_canvas_event = function() {\n",
       "    // Called whenever the canvas gets updated.\n",
       "    this.send_message(\"ack\", {});\n",
       "}\n",
       "\n",
       "// A function to construct a web socket function for onmessage handling.\n",
       "// Called in the figure constructor.\n",
       "mpl.figure.prototype._make_on_message_function = function(fig) {\n",
       "    return function socket_on_message(evt) {\n",
       "        if (evt.data instanceof Blob) {\n",
       "            /* FIXME: We get \"Resource interpreted as Image but\n",
       "             * transferred with MIME type text/plain:\" errors on\n",
       "             * Chrome.  But how to set the MIME type?  It doesn't seem\n",
       "             * to be part of the websocket stream */\n",
       "            evt.data.type = \"image/png\";\n",
       "\n",
       "            /* Free the memory for the previous frames */\n",
       "            if (fig.imageObj.src) {\n",
       "                (window.URL || window.webkitURL).revokeObjectURL(\n",
       "                    fig.imageObj.src);\n",
       "            }\n",
       "\n",
       "            fig.imageObj.src = (window.URL || window.webkitURL).createObjectURL(\n",
       "                evt.data);\n",
       "            fig.updated_canvas_event();\n",
       "            fig.waiting = false;\n",
       "            return;\n",
       "        }\n",
       "        else if (typeof evt.data === 'string' && evt.data.slice(0, 21) == \"data:image/png;base64\") {\n",
       "            fig.imageObj.src = evt.data;\n",
       "            fig.updated_canvas_event();\n",
       "            fig.waiting = false;\n",
       "            return;\n",
       "        }\n",
       "\n",
       "        var msg = JSON.parse(evt.data);\n",
       "        var msg_type = msg['type'];\n",
       "\n",
       "        // Call the  \"handle_{type}\" callback, which takes\n",
       "        // the figure and JSON message as its only arguments.\n",
       "        try {\n",
       "            var callback = fig[\"handle_\" + msg_type];\n",
       "        } catch (e) {\n",
       "            console.log(\"No handler for the '\" + msg_type + \"' message type: \", msg);\n",
       "            return;\n",
       "        }\n",
       "\n",
       "        if (callback) {\n",
       "            try {\n",
       "                // console.log(\"Handling '\" + msg_type + \"' message: \", msg);\n",
       "                callback(fig, msg);\n",
       "            } catch (e) {\n",
       "                console.log(\"Exception inside the 'handler_\" + msg_type + \"' callback:\", e, e.stack, msg);\n",
       "            }\n",
       "        }\n",
       "    };\n",
       "}\n",
       "\n",
       "// from http://stackoverflow.com/questions/1114465/getting-mouse-location-in-canvas\n",
       "mpl.findpos = function(e) {\n",
       "    //this section is from http://www.quirksmode.org/js/events_properties.html\n",
       "    var targ;\n",
       "    if (!e)\n",
       "        e = window.event;\n",
       "    if (e.target)\n",
       "        targ = e.target;\n",
       "    else if (e.srcElement)\n",
       "        targ = e.srcElement;\n",
       "    if (targ.nodeType == 3) // defeat Safari bug\n",
       "        targ = targ.parentNode;\n",
       "\n",
       "    // jQuery normalizes the pageX and pageY\n",
       "    // pageX,Y are the mouse positions relative to the document\n",
       "    // offset() returns the position of the element relative to the document\n",
       "    var x = e.pageX - $(targ).offset().left;\n",
       "    var y = e.pageY - $(targ).offset().top;\n",
       "\n",
       "    return {\"x\": x, \"y\": y};\n",
       "};\n",
       "\n",
       "/*\n",
       " * return a copy of an object with only non-object keys\n",
       " * we need this to avoid circular references\n",
       " * http://stackoverflow.com/a/24161582/3208463\n",
       " */\n",
       "function simpleKeys (original) {\n",
       "  return Object.keys(original).reduce(function (obj, key) {\n",
       "    if (typeof original[key] !== 'object')\n",
       "        obj[key] = original[key]\n",
       "    return obj;\n",
       "  }, {});\n",
       "}\n",
       "\n",
       "mpl.figure.prototype.mouse_event = function(event, name) {\n",
       "    var canvas_pos = mpl.findpos(event)\n",
       "\n",
       "    if (name === 'button_press')\n",
       "    {\n",
       "        this.canvas.focus();\n",
       "        this.canvas_div.focus();\n",
       "    }\n",
       "\n",
       "    var x = canvas_pos.x;\n",
       "    var y = canvas_pos.y;\n",
       "\n",
       "    this.send_message(name, {x: x, y: y, button: event.button,\n",
       "                             step: event.step,\n",
       "                             guiEvent: simpleKeys(event)});\n",
       "\n",
       "    /* This prevents the web browser from automatically changing to\n",
       "     * the text insertion cursor when the button is pressed.  We want\n",
       "     * to control all of the cursor setting manually through the\n",
       "     * 'cursor' event from matplotlib */\n",
       "    event.preventDefault();\n",
       "    return false;\n",
       "}\n",
       "\n",
       "mpl.figure.prototype._key_event_extra = function(event, name) {\n",
       "    // Handle any extra behaviour associated with a key event\n",
       "}\n",
       "\n",
       "mpl.figure.prototype.key_event = function(event, name) {\n",
       "\n",
       "    // Prevent repeat events\n",
       "    if (name == 'key_press')\n",
       "    {\n",
       "        if (event.which === this._key)\n",
       "            return;\n",
       "        else\n",
       "            this._key = event.which;\n",
       "    }\n",
       "    if (name == 'key_release')\n",
       "        this._key = null;\n",
       "\n",
       "    var value = '';\n",
       "    if (event.ctrlKey && event.which != 17)\n",
       "        value += \"ctrl+\";\n",
       "    if (event.altKey && event.which != 18)\n",
       "        value += \"alt+\";\n",
       "    if (event.shiftKey && event.which != 16)\n",
       "        value += \"shift+\";\n",
       "\n",
       "    value += 'k';\n",
       "    value += event.which.toString();\n",
       "\n",
       "    this._key_event_extra(event, name);\n",
       "\n",
       "    this.send_message(name, {key: value,\n",
       "                             guiEvent: simpleKeys(event)});\n",
       "    return false;\n",
       "}\n",
       "\n",
       "mpl.figure.prototype.toolbar_button_onclick = function(name) {\n",
       "    if (name == 'download') {\n",
       "        this.handle_save(this, null);\n",
       "    } else {\n",
       "        this.send_message(\"toolbar_button\", {name: name});\n",
       "    }\n",
       "};\n",
       "\n",
       "mpl.figure.prototype.toolbar_button_onmouseover = function(tooltip) {\n",
       "    this.message.textContent = tooltip;\n",
       "};\n",
       "mpl.toolbar_items = [[\"Home\", \"Reset original view\", \"fa fa-home icon-home\", \"home\"], [\"Back\", \"Back to  previous view\", \"fa fa-arrow-left icon-arrow-left\", \"back\"], [\"Forward\", \"Forward to next view\", \"fa fa-arrow-right icon-arrow-right\", \"forward\"], [\"\", \"\", \"\", \"\"], [\"Pan\", \"Pan axes with left mouse, zoom with right\", \"fa fa-arrows icon-move\", \"pan\"], [\"Zoom\", \"Zoom to rectangle\", \"fa fa-square-o icon-check-empty\", \"zoom\"], [\"\", \"\", \"\", \"\"], [\"Download\", \"Download plot\", \"fa fa-floppy-o icon-save\", \"download\"]];\n",
       "\n",
       "mpl.extensions = [\"eps\", \"jpeg\", \"pdf\", \"png\", \"ps\", \"raw\", \"svg\", \"tif\"];\n",
       "\n",
       "mpl.default_extension = \"png\";var comm_websocket_adapter = function(comm) {\n",
       "    // Create a \"websocket\"-like object which calls the given IPython comm\n",
       "    // object with the appropriate methods. Currently this is a non binary\n",
       "    // socket, so there is still some room for performance tuning.\n",
       "    var ws = {};\n",
       "\n",
       "    ws.close = function() {\n",
       "        comm.close()\n",
       "    };\n",
       "    ws.send = function(m) {\n",
       "        //console.log('sending', m);\n",
       "        comm.send(m);\n",
       "    };\n",
       "    // Register the callback with on_msg.\n",
       "    comm.on_msg(function(msg) {\n",
       "        //console.log('receiving', msg['content']['data'], msg);\n",
       "        // Pass the mpl event to the overriden (by mpl) onmessage function.\n",
       "        ws.onmessage(msg['content']['data'])\n",
       "    });\n",
       "    return ws;\n",
       "}\n",
       "\n",
       "mpl.mpl_figure_comm = function(comm, msg) {\n",
       "    // This is the function which gets called when the mpl process\n",
       "    // starts-up an IPython Comm through the \"matplotlib\" channel.\n",
       "\n",
       "    var id = msg.content.data.id;\n",
       "    // Get hold of the div created by the display call when the Comm\n",
       "    // socket was opened in Python.\n",
       "    var element = $(\"#\" + id);\n",
       "    var ws_proxy = comm_websocket_adapter(comm)\n",
       "\n",
       "    function ondownload(figure, format) {\n",
       "        window.open(figure.imageObj.src);\n",
       "    }\n",
       "\n",
       "    var fig = new mpl.figure(id, ws_proxy,\n",
       "                           ondownload,\n",
       "                           element.get(0));\n",
       "\n",
       "    // Call onopen now - mpl needs it, as it is assuming we've passed it a real\n",
       "    // web socket which is closed, not our websocket->open comm proxy.\n",
       "    ws_proxy.onopen();\n",
       "\n",
       "    fig.parent_element = element.get(0);\n",
       "    fig.cell_info = mpl.find_output_cell(\"<div id='\" + id + \"'></div>\");\n",
       "    if (!fig.cell_info) {\n",
       "        console.error(\"Failed to find cell for figure\", id, fig);\n",
       "        return;\n",
       "    }\n",
       "\n",
       "    var output_index = fig.cell_info[2]\n",
       "    var cell = fig.cell_info[0];\n",
       "\n",
       "};\n",
       "\n",
       "mpl.figure.prototype.handle_close = function(fig, msg) {\n",
       "    fig.root.unbind('remove')\n",
       "\n",
       "    // Update the output cell to use the data from the current canvas.\n",
       "    fig.push_to_output();\n",
       "    var dataURL = fig.canvas.toDataURL();\n",
       "    // Re-enable the keyboard manager in IPython - without this line, in FF,\n",
       "    // the notebook keyboard shortcuts fail.\n",
       "    IPython.keyboard_manager.enable()\n",
       "    $(fig.parent_element).html('<img src=\"' + dataURL + '\">');\n",
       "    fig.close_ws(fig, msg);\n",
       "}\n",
       "\n",
       "mpl.figure.prototype.close_ws = function(fig, msg){\n",
       "    fig.send_message('closing', msg);\n",
       "    // fig.ws.close()\n",
       "}\n",
       "\n",
       "mpl.figure.prototype.push_to_output = function(remove_interactive) {\n",
       "    // Turn the data on the canvas into data in the output cell.\n",
       "    var dataURL = this.canvas.toDataURL();\n",
       "    this.cell_info[1]['text/html'] = '<img src=\"' + dataURL + '\">';\n",
       "}\n",
       "\n",
       "mpl.figure.prototype.updated_canvas_event = function() {\n",
       "    // Tell IPython that the notebook contents must change.\n",
       "    IPython.notebook.set_dirty(true);\n",
       "    this.send_message(\"ack\", {});\n",
       "    var fig = this;\n",
       "    // Wait a second, then push the new image to the DOM so\n",
       "    // that it is saved nicely (might be nice to debounce this).\n",
       "    setTimeout(function () { fig.push_to_output() }, 1000);\n",
       "}\n",
       "\n",
       "mpl.figure.prototype._init_toolbar = function() {\n",
       "    var fig = this;\n",
       "\n",
       "    var nav_element = $('<div/>')\n",
       "    nav_element.attr('style', 'width: 100%');\n",
       "    this.root.append(nav_element);\n",
       "\n",
       "    // Define a callback function for later on.\n",
       "    function toolbar_event(event) {\n",
       "        return fig.toolbar_button_onclick(event['data']);\n",
       "    }\n",
       "    function toolbar_mouse_event(event) {\n",
       "        return fig.toolbar_button_onmouseover(event['data']);\n",
       "    }\n",
       "\n",
       "    for(var toolbar_ind in mpl.toolbar_items){\n",
       "        var name = mpl.toolbar_items[toolbar_ind][0];\n",
       "        var tooltip = mpl.toolbar_items[toolbar_ind][1];\n",
       "        var image = mpl.toolbar_items[toolbar_ind][2];\n",
       "        var method_name = mpl.toolbar_items[toolbar_ind][3];\n",
       "\n",
       "        if (!name) { continue; };\n",
       "\n",
       "        var button = $('<button class=\"btn btn-default\" href=\"#\" title=\"' + name + '\"><i class=\"fa ' + image + ' fa-lg\"></i></button>');\n",
       "        button.click(method_name, toolbar_event);\n",
       "        button.mouseover(tooltip, toolbar_mouse_event);\n",
       "        nav_element.append(button);\n",
       "    }\n",
       "\n",
       "    // Add the status bar.\n",
       "    var status_bar = $('<span class=\"mpl-message\" style=\"text-align:right; float: right;\"/>');\n",
       "    nav_element.append(status_bar);\n",
       "    this.message = status_bar[0];\n",
       "\n",
       "    // Add the close button to the window.\n",
       "    var buttongrp = $('<div class=\"btn-group inline pull-right\"></div>');\n",
       "    var button = $('<button class=\"btn btn-mini btn-primary\" href=\"#\" title=\"Stop Interaction\"><i class=\"fa fa-power-off icon-remove icon-large\"></i></button>');\n",
       "    button.click(function (evt) { fig.handle_close(fig, {}); } );\n",
       "    button.mouseover('Stop Interaction', toolbar_mouse_event);\n",
       "    buttongrp.append(button);\n",
       "    var titlebar = this.root.find($('.ui-dialog-titlebar'));\n",
       "    titlebar.prepend(buttongrp);\n",
       "}\n",
       "\n",
       "mpl.figure.prototype._root_extra_style = function(el){\n",
       "    var fig = this\n",
       "    el.on(\"remove\", function(){\n",
       "\tfig.close_ws(fig, {});\n",
       "    });\n",
       "}\n",
       "\n",
       "mpl.figure.prototype._canvas_extra_style = function(el){\n",
       "    // this is important to make the div 'focusable\n",
       "    el.attr('tabindex', 0)\n",
       "    // reach out to IPython and tell the keyboard manager to turn it's self\n",
       "    // off when our div gets focus\n",
       "\n",
       "    // location in version 3\n",
       "    if (IPython.notebook.keyboard_manager) {\n",
       "        IPython.notebook.keyboard_manager.register_events(el);\n",
       "    }\n",
       "    else {\n",
       "        // location in version 2\n",
       "        IPython.keyboard_manager.register_events(el);\n",
       "    }\n",
       "\n",
       "}\n",
       "\n",
       "mpl.figure.prototype._key_event_extra = function(event, name) {\n",
       "    var manager = IPython.notebook.keyboard_manager;\n",
       "    if (!manager)\n",
       "        manager = IPython.keyboard_manager;\n",
       "\n",
       "    // Check for shift+enter\n",
       "    if (event.shiftKey && event.which == 13) {\n",
       "        this.canvas_div.blur();\n",
       "        event.shiftKey = false;\n",
       "        // Send a \"J\" for go to next cell\n",
       "        event.which = 74;\n",
       "        event.keyCode = 74;\n",
       "        manager.command_mode();\n",
       "        manager.handle_keydown(event);\n",
       "    }\n",
       "}\n",
       "\n",
       "mpl.figure.prototype.handle_save = function(fig, msg) {\n",
       "    fig.ondownload(fig, null);\n",
       "}\n",
       "\n",
       "\n",
       "mpl.find_output_cell = function(html_output) {\n",
       "    // Return the cell and output element which can be found *uniquely* in the notebook.\n",
       "    // Note - this is a bit hacky, but it is done because the \"notebook_saving.Notebook\"\n",
       "    // IPython event is triggered only after the cells have been serialised, which for\n",
       "    // our purposes (turning an active figure into a static one), is too late.\n",
       "    var cells = IPython.notebook.get_cells();\n",
       "    var ncells = cells.length;\n",
       "    for (var i=0; i<ncells; i++) {\n",
       "        var cell = cells[i];\n",
       "        if (cell.cell_type === 'code'){\n",
       "            for (var j=0; j<cell.output_area.outputs.length; j++) {\n",
       "                var data = cell.output_area.outputs[j];\n",
       "                if (data.data) {\n",
       "                    // IPython >= 3 moved mimebundle to data attribute of output\n",
       "                    data = data.data;\n",
       "                }\n",
       "                if (data['text/html'] == html_output) {\n",
       "                    return [cell, data, j];\n",
       "                }\n",
       "            }\n",
       "        }\n",
       "    }\n",
       "}\n",
       "\n",
       "// Register the function which deals with the matplotlib target/channel.\n",
       "// The kernel may be null if the page has been refreshed.\n",
       "if (IPython.notebook.kernel != null) {\n",
       "    IPython.notebook.kernel.comm_manager.register_target('matplotlib', mpl.mpl_figure_comm);\n",
       "}\n"
      ],
      "text/plain": [
       "<IPython.core.display.Javascript object>"
      ]
     },
     "metadata": {},
     "output_type": "display_data"
    },
    {
     "data": {
      "text/html": [
       "<img src=\"data:image/png;base64,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\">"
      ],
      "text/plain": [
       "<IPython.core.display.HTML object>"
      ]
     },
     "metadata": {},
     "output_type": "display_data"
    }
   ],
   "source": [
    "reload(dqqp)\n",
    "dqqp.prod_channel_hist(qa_prod, 'SKYSUB', 'MED_RESID', xlim=(-1,1))"
   ]
  },
  {
   "cell_type": "code",
   "execution_count": null,
   "metadata": {
    "collapsed": true
   },
   "outputs": [],
   "source": []
  }
 ],
 "metadata": {
  "kernelspec": {
   "display_name": "Python 2",
   "language": "python",
   "name": "python2"
  },
  "language_info": {
   "codemirror_mode": {
    "name": "ipython",
    "version": 2
   },
   "file_extension": ".py",
   "mimetype": "text/x-python",
   "name": "python",
   "nbconvert_exporter": "python",
   "pygments_lexer": "ipython2",
   "version": "2.7.11"
  }
 },
 "nbformat": 4,
 "nbformat_minor": 0
}
