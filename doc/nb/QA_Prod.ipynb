{
 "cells": [
  {
   "cell_type": "markdown",
   "metadata": {},
   "source": [
    "# QA_Prod (v2.0)\n",
    "    v2.0 -- First S/N prod plot"
   ]
  },
  {
   "cell_type": "code",
   "execution_count": 1,
   "metadata": {},
   "outputs": [],
   "source": [
    "%matplotlib inline"
   ]
  },
  {
   "cell_type": "code",
   "execution_count": 2,
   "metadata": {},
   "outputs": [],
   "source": [
    "# imports\n",
    "import os\n",
    "from imp import reload\n",
    "from desispec.qa import qa_prod as dqap\n",
    "from matplotlib import pyplot as plt"
   ]
  },
  {
   "cell_type": "markdown",
   "metadata": {},
   "source": [
    "## Init"
   ]
  },
  {
   "cell_type": "code",
   "execution_count": 3,
   "metadata": {},
   "outputs": [],
   "source": [
    "os.environ['DESI_SPECTRO_REDUX'] = '/home/xavier/DESI/DESI_SCRATCH/18.11/spectro/redux'\n",
    "os.environ['SPECPROD'] = 'mini'"
   ]
  },
  {
   "cell_type": "code",
   "execution_count": 4,
   "metadata": {},
   "outputs": [],
   "source": [
    "reload(dqap)\n",
    "qa_prod = dqap.QA_Prod()"
   ]
  },
  {
   "cell_type": "markdown",
   "metadata": {},
   "source": [
    "## Remake"
   ]
  },
  {
   "cell_type": "markdown",
   "metadata": {},
   "source": [
    "#### In Python"
   ]
  },
  {
   "cell_type": "code",
   "execution_count": null,
   "metadata": {
    "collapsed": true
   },
   "outputs": [],
   "source": [
    "qa_prod.remake_frame_qa(remake_plots=True)"
   ]
  },
  {
   "cell_type": "markdown",
   "metadata": {},
   "source": [
    "#### Script\n",
    "\n",
    "    desi_qa_prod --remake_frameqa 3  "
   ]
  },
  {
   "cell_type": "markdown",
   "metadata": {},
   "source": [
    "## Slurp"
   ]
  },
  {
   "cell_type": "markdown",
   "metadata": {},
   "source": [
    "#### In Python"
   ]
  },
  {
   "cell_type": "code",
   "execution_count": null,
   "metadata": {
    "collapsed": true
   },
   "outputs": [],
   "source": [
    "qa_prod.slurp(remove=False)"
   ]
  },
  {
   "cell_type": "markdown",
   "metadata": {},
   "source": [
    "#### Script\n",
    "    desi_qa_prod --slurp"
   ]
  },
  {
   "cell_type": "markdown",
   "metadata": {
    "collapsed": true
   },
   "source": [
    "## Parsing QA Data"
   ]
  },
  {
   "cell_type": "code",
   "execution_count": 16,
   "metadata": {},
   "outputs": [],
   "source": [
    "reload(dqap)\n",
    "qa_prod = dqap.QA_Prod()"
   ]
  },
  {
   "cell_type": "markdown",
   "metadata": {},
   "source": [
    "### Load QA"
   ]
  },
  {
   "cell_type": "code",
   "execution_count": 17,
   "metadata": {},
   "outputs": [
    {
     "name": "stdout",
     "output_type": "stream",
     "text": [
      "INFO:qa.py:220:load_qa_multiexp: Loading QA prod file: /home/xavier/DESI/DESI_SCRATCH/18.11/spectro/redux/mini/QA/mini_qa.json\n"
     ]
    }
   ],
   "source": [
    "qa_prod.load_data()"
   ]
  },
  {
   "cell_type": "markdown",
   "metadata": {},
   "source": [
    "### One entry"
   ]
  },
  {
   "cell_type": "code",
   "execution_count": 18,
   "metadata": {},
   "outputs": [
    {
     "data": {
      "text/plain": [
       "{'METRICS': {'MAX_ZP_OFF': [0.0, 63],\n",
       "  'NSTARS_FIBER': 10,\n",
       "  'RMS_ZP': 0.0,\n",
       "  'ZP': 18.1748373412697},\n",
       " 'PARAMS': {'MAX_ZP_OFF': 0.2, 'ZP_WAVE': 4800.0}}"
      ]
     },
     "execution_count": 18,
     "metadata": {},
     "output_type": "execute_result"
    }
   ],
   "source": [
    "qa_prod.data['20200316']['10']['b0']['FLUXCALIB']"
   ]
  },
  {
   "cell_type": "markdown",
   "metadata": {},
   "source": [
    "### Grab a Table of QA values"
   ]
  },
  {
   "cell_type": "code",
   "execution_count": 19,
   "metadata": {},
   "outputs": [
    {
     "data": {
      "text/html": [
       "<i>Table length=170</i>\n",
       "<table id=\"table140439060017048\" class=\"table-striped table-bordered table-condensed\">\n",
       "<thead><tr><th>RESID</th><th>EXPID</th><th>CAMERA</th><th>DATE-OBS</th><th>NIGHT</th><th>EXPTIME</th><th>AIRMASS</th><th>FLAVOR</th></tr></thead>\n",
       "<thead><tr><th>float64</th><th>str2</th><th>str2</th><th>str23</th><th>str8</th><th>float64</th><th>float64</th><th>str7</th></tr></thead>\n",
       "<tr><td>-0.029786085817594454</td><td>6</td><td>b7</td><td>2020-03-17T02:33:36.691</td><td>20200316</td><td>327.4658062613244</td><td>1.359901419566095</td><td>science</td></tr>\n",
       "<tr><td>-0.08618690466616385</td><td>6</td><td>b8</td><td>2020-03-17T02:33:36.691</td><td>20200316</td><td>327.4658062613244</td><td>1.359901419566095</td><td>science</td></tr>\n",
       "<tr><td>-0.06584513278209947</td><td>6</td><td>b9</td><td>2020-03-17T02:33:36.691</td><td>20200316</td><td>327.4658062613244</td><td>1.359901419566095</td><td>science</td></tr>\n",
       "<tr><td>-0.06376511296070841</td><td>6</td><td>b3</td><td>2020-03-17T02:33:36.691</td><td>20200316</td><td>327.4658062613244</td><td>1.359901419566095</td><td>science</td></tr>\n",
       "<tr><td>-0.09085049697194236</td><td>6</td><td>b0</td><td>2020-03-17T02:33:36.691</td><td>20200316</td><td>327.4658062613244</td><td>1.359901419566095</td><td>science</td></tr>\n",
       "<tr><td>-0.08906429236735036</td><td>6</td><td>b5</td><td>2020-03-17T02:33:36.691</td><td>20200316</td><td>327.4658062613244</td><td>1.359901419566095</td><td>science</td></tr>\n",
       "<tr><td>-0.06221329572748502</td><td>6</td><td>b1</td><td>2020-03-17T02:33:36.691</td><td>20200316</td><td>327.4658062613244</td><td>1.359901419566095</td><td>science</td></tr>\n",
       "<tr><td>-0.07003866572522632</td><td>6</td><td>b6</td><td>2020-03-17T02:33:36.691</td><td>20200316</td><td>327.4658062613244</td><td>1.359901419566095</td><td>science</td></tr>\n",
       "<tr><td>-0.08163781090453526</td><td>6</td><td>b4</td><td>2020-03-17T02:33:36.691</td><td>20200316</td><td>327.4658062613244</td><td>1.359901419566095</td><td>science</td></tr>\n",
       "<tr><td>-0.013763920716963085</td><td>6</td><td>b2</td><td>2020-03-17T02:33:36.691</td><td>20200316</td><td>327.4658062613244</td><td>1.359901419566095</td><td>science</td></tr>\n",
       "<tr><td>...</td><td>...</td><td>...</td><td>...</td><td>...</td><td>...</td><td>...</td><td>...</td></tr>\n",
       "<tr><td>-0.10340538810253719</td><td>40</td><td>b1</td><td>2020-03-26T02:59:11.964</td><td>20200325</td><td>912.0620217140978</td><td>1.135584511184822</td><td>science</td></tr>\n",
       "<tr><td>-0.07239041864242068</td><td>40</td><td>b0</td><td>2020-03-26T02:59:11.964</td><td>20200325</td><td>912.0620217140978</td><td>1.135584511184822</td><td>science</td></tr>\n",
       "<tr><td>-0.16709044436766085</td><td>40</td><td>b2</td><td>2020-03-26T02:59:11.964</td><td>20200325</td><td>912.0620217140978</td><td>1.135584511184822</td><td>science</td></tr>\n",
       "<tr><td>-0.05779436464989374</td><td>40</td><td>b5</td><td>2020-03-26T02:59:11.964</td><td>20200325</td><td>912.0620217140978</td><td>1.135584511184822</td><td>science</td></tr>\n",
       "<tr><td>-0.12518028913002865</td><td>40</td><td>b4</td><td>2020-03-26T02:59:11.964</td><td>20200325</td><td>912.0620217140978</td><td>1.135584511184822</td><td>science</td></tr>\n",
       "<tr><td>-0.16083400845568008</td><td>40</td><td>b9</td><td>2020-03-26T02:59:11.964</td><td>20200325</td><td>912.0620217140978</td><td>1.135584511184822</td><td>science</td></tr>\n",
       "<tr><td>-0.09911489912413174</td><td>40</td><td>b7</td><td>2020-03-26T02:59:11.964</td><td>20200325</td><td>912.0620217140978</td><td>1.135584511184822</td><td>science</td></tr>\n",
       "<tr><td>-0.11992103816534438</td><td>40</td><td>b8</td><td>2020-03-26T02:59:11.964</td><td>20200325</td><td>912.0620217140978</td><td>1.135584511184822</td><td>science</td></tr>\n",
       "<tr><td>-0.020046923303020492</td><td>40</td><td>b3</td><td>2020-03-26T02:59:11.964</td><td>20200325</td><td>912.0620217140978</td><td>1.135584511184822</td><td>science</td></tr>\n",
       "<tr><td>-0.1264089401994113</td><td>40</td><td>b6</td><td>2020-03-26T02:59:11.964</td><td>20200325</td><td>912.0620217140978</td><td>1.135584511184822</td><td>science</td></tr>\n",
       "</table>"
      ],
      "text/plain": [
       "<Table length=170>\n",
       "        RESID         EXPID CAMERA ...      AIRMASS       FLAVOR\n",
       "       float64         str2  str2  ...      float64        str7 \n",
       "--------------------- ----- ------ ... ----------------- -------\n",
       "-0.029786085817594454     6     b7 ... 1.359901419566095 science\n",
       " -0.08618690466616385     6     b8 ... 1.359901419566095 science\n",
       " -0.06584513278209947     6     b9 ... 1.359901419566095 science\n",
       " -0.06376511296070841     6     b3 ... 1.359901419566095 science\n",
       " -0.09085049697194236     6     b0 ... 1.359901419566095 science\n",
       " -0.08906429236735036     6     b5 ... 1.359901419566095 science\n",
       " -0.06221329572748502     6     b1 ... 1.359901419566095 science\n",
       " -0.07003866572522632     6     b6 ... 1.359901419566095 science\n",
       " -0.08163781090453526     6     b4 ... 1.359901419566095 science\n",
       "-0.013763920716963085     6     b2 ... 1.359901419566095 science\n",
       "                  ...   ...    ... ...               ...     ...\n",
       " -0.10340538810253719    40     b1 ... 1.135584511184822 science\n",
       " -0.07239041864242068    40     b0 ... 1.135584511184822 science\n",
       " -0.16709044436766085    40     b2 ... 1.135584511184822 science\n",
       " -0.05779436464989374    40     b5 ... 1.135584511184822 science\n",
       " -0.12518028913002865    40     b4 ... 1.135584511184822 science\n",
       " -0.16083400845568008    40     b9 ... 1.135584511184822 science\n",
       " -0.09911489912413174    40     b7 ... 1.135584511184822 science\n",
       " -0.11992103816534438    40     b8 ... 1.135584511184822 science\n",
       "-0.020046923303020492    40     b3 ... 1.135584511184822 science\n",
       "  -0.1264089401994113    40     b6 ... 1.135584511184822 science"
      ]
     },
     "execution_count": 19,
     "metadata": {},
     "output_type": "execute_result"
    }
   ],
   "source": [
    "qa_tbl = qa_prod.get_qa_table('SKYSUB', 'RESID', channels=['b'])\n",
    "qa_tbl"
   ]
  },
  {
   "cell_type": "markdown",
   "metadata": {},
   "source": [
    "### Histogram"
   ]
  },
  {
   "cell_type": "code",
   "execution_count": 23,
   "metadata": {},
   "outputs": [
    {
     "data": {
      "text/plain": [
       "Text(0.5,0,'MED_SKY_RESID')"
      ]
     },
     "execution_count": 23,
     "metadata": {},
     "output_type": "execute_result"
    },
    {
     "data": {
      "image/png": "[encoded data removed]",
      "text/plain": [
       "<matplotlib.figure.Figure at 0x7fba84016048>"
      ]
     },
     "metadata": {},
     "output_type": "display_data"
    }
   ],
   "source": [
    "plt.clf()\n",
    "ax = plt.gca()\n",
    "ax.hist(qa_tbl['RESID'])\n",
    "ax.set_xlim(-1,1)\n",
    "ax.set_xlabel('MED_SKY_RESID')"
   ]
  },
  {
   "cell_type": "markdown",
   "metadata": {
    "collapsed": true
   },
   "source": [
    "## Camera Histograms"
   ]
  },
  {
   "cell_type": "code",
   "execution_count": 25,
   "metadata": {},
   "outputs": [],
   "source": [
    "from desispec.qa import qa_plots as dqqp"
   ]
  },
  {
   "cell_type": "markdown",
   "metadata": {},
   "source": [
    "### In Python"
   ]
  },
  {
   "cell_type": "code",
   "execution_count": 27,
   "metadata": {},
   "outputs": [
    {
     "data": {
      "image/png": "[encoded data removed]",
      "text/plain": [
       "<matplotlib.figure.Figure at 0x7fba83f07f60>"
      ]
     },
     "metadata": {},
     "output_type": "display_data"
    }
   ],
   "source": [
    "reload(dqqp)\n",
    "dqqp.prod_channel_hist(qa_prod, 'SKYSUB', 'RESID', xlim=(-1,1))"
   ]
  },
  {
   "cell_type": "markdown",
   "metadata": {},
   "source": [
    "### Script\n",
    "     desi_qa_prod --channel_hist=default"
   ]
  },
  {
   "cell_type": "markdown",
   "metadata": {
    "collapsed": true
   },
   "source": [
    "## Time Series plot"
   ]
  },
  {
   "cell_type": "code",
   "execution_count": 28,
   "metadata": {},
   "outputs": [],
   "source": [
    "qatype = 'SKYSUB'\n",
    "metric = 'RESID'"
   ]
  },
  {
   "cell_type": "markdown",
   "metadata": {},
   "source": [
    "### In Python"
   ]
  },
  {
   "cell_type": "code",
   "execution_count": 29,
   "metadata": {},
   "outputs": [
    {
     "data": {
      "image/png": "[encoded data removed]",
      "text/plain": [
       "<matplotlib.figure.Figure at 0x7fba83d2c860>"
      ]
     },
     "metadata": {},
     "output_type": "display_data"
    }
   ],
   "source": [
    "reload(dqqp)\n",
    "dqqp.prod_time_series(qa_prod, qatype, metric)"
   ]
  },
  {
   "cell_type": "markdown",
   "metadata": {},
   "source": [
    "### Script\n",
    "    desi_qa_prod --time_series=SKYSUB-RESID"
   ]
  },
  {
   "cell_type": "code",
   "execution_count": null,
   "metadata": {
    "collapsed": true
   },
   "outputs": [],
   "source": []
  }
 ],
 "metadata": {
  "kernelspec": {
   "display_name": "Python 3",
   "language": "python",
   "name": "python3"
  },
  "language_info": {
   "codemirror_mode": {
    "name": "ipython",
    "version": 3
   },
   "file_extension": ".py",
   "mimetype": "text/x-python",
   "name": "python",
   "nbconvert_exporter": "python",
   "pygments_lexer": "ipython3",
   "version": "3.6.3"
  }
 },
 "nbformat": 4,
 "nbformat_minor": 1
}
