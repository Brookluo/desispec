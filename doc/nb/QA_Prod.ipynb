{
 "cells": [
  {
   "cell_type": "markdown",
   "metadata": {},
   "source": [
    "# QA_Prod (v1.0)"
   ]
  },
  {
   "cell_type": "code",
   "execution_count": 1,
   "metadata": {
    "collapsed": false
   },
   "outputs": [],
   "source": [
    "# imports\n",
    "from desispec.qa import qa_prod as dqap"
   ]
  },
  {
   "cell_type": "markdown",
   "metadata": {},
   "source": [
    "## Init\n",
    "\n",
    "    setenv DESI_SPECTRO_DATA /Users/xavier/DESI/DESI_SCRATCH/sim/madrone/"
   ]
  },
  {
   "cell_type": "code",
   "execution_count": 2,
   "metadata": {
    "collapsed": true
   },
   "outputs": [],
   "source": [
    "specprod_dir = '/Users/xavier/DESI/DESI_SCRATCH/redux/madrone/'"
   ]
  },
  {
   "cell_type": "code",
   "execution_count": 3,
   "metadata": {
    "collapsed": false
   },
   "outputs": [],
   "source": [
    "reload(dqap)\n",
    "qa_prod = dqap.QA_Prod(specprod_dir)"
   ]
  },
  {
   "cell_type": "markdown",
   "metadata": {},
   "source": [
    "## Remake"
   ]
  },
  {
   "cell_type": "code",
   "execution_count": 4,
   "metadata": {
    "collapsed": false
   },
   "outputs": [
    {
     "name": "stdout",
     "output_type": "stream",
     "text": [
      "INFO:qa.py:81:load_qa_frame: Loaded QA file /Users/xavier/DESI/DESI_SCRATCH/redux/madrone/calib2d/20160607/qa-r0-00000003.yaml\n"
     ]
    },
    {
     "name": "stderr",
     "output_type": "stream",
     "text": [
      "/Users/xavier/anaconda/lib/python2.7/site-packages/matplotlib/__init__.py:1350: UserWarning:  This call to matplotlib.use() has no effect\n",
      "because the backend has already been chosen;\n",
      "matplotlib.use() must be called *before* pylab, matplotlib.pyplot,\n",
      "or matplotlib.backends is imported for the first time.\n",
      "\n",
      "  warnings.warn(_use_error_msg)\n",
      "INFO:DESI:Loaded QA file /Users/xavier/DESI/DESI_SCRATCH/redux/madrone/calib2d/20160607/qa-r0-00000003.yaml\n"
     ]
    },
    {
     "name": "stdout",
     "output_type": "stream",
     "text": [
      "WARNING:fiberflat.py:547:qa_fiberflat: Low counts in meanspec = 37157.8\n"
     ]
    },
    {
     "name": "stderr",
     "output_type": "stream",
     "text": [
      "WARNING:DESI:Low counts in meanspec = 37157.8\n"
     ]
    },
    {
     "name": "stdout",
     "output_type": "stream",
     "text": [
      "WARNING:fiberflat.py:569:qa_fiberflat: Discrepant flux in fiberflat: 0.00117388, 205\n"
     ]
    },
    {
     "name": "stderr",
     "output_type": "stream",
     "text": [
      "WARNING:DESI:Discrepant flux in fiberflat: 0.00117388, 205\n"
     ]
    },
    {
     "name": "stdout",
     "output_type": "stream",
     "text": [
      "WARNING:fiberflat.py:574:qa_fiberflat: Large offset in fiberflat: 0.158535\n"
     ]
    },
    {
     "name": "stderr",
     "output_type": "stream",
     "text": [
      "WARNING:DESI:Large offset in fiberflat: 0.158535\n"
     ]
    },
    {
     "name": "stdout",
     "output_type": "stream",
     "text": [
      "WARNING:fiberflat.py:582:qa_fiberflat: Discrepant mean in fiberflat: 0.0151337, 446\n"
     ]
    },
    {
     "name": "stderr",
     "output_type": "stream",
     "text": [
      "WARNING:DESI:Discrepant mean in fiberflat: 0.0151337, 446\n"
     ]
    },
    {
     "name": "stdout",
     "output_type": "stream",
     "text": [
      "WARNING:fiberflat.py:591:qa_fiberflat: Large RMS in fiberflat: 0.0165781, 45\n"
     ]
    },
    {
     "name": "stderr",
     "output_type": "stream",
     "text": [
      "WARNING:DESI:Large RMS in fiberflat: 0.0165781, 45\n"
     ]
    },
    {
     "name": "stdout",
     "output_type": "stream",
     "text": [
      "Wrote QA SkyRes file: /Users/xavier/DESI/DESI_SCRATCH/redux/madrone/calib2d/20160607/qa-flat-r0-00000003.pdf\n",
      "INFO:qa.py:81:load_qa_frame: Loaded QA file /Users/xavier/DESI/DESI_SCRATCH/redux/madrone/calib2d/20160607/qa-r1-00000003.yaml\n"
     ]
    },
    {
     "name": "stderr",
     "output_type": "stream",
     "text": [
      "INFO:DESI:Loaded QA file /Users/xavier/DESI/DESI_SCRATCH/redux/madrone/calib2d/20160607/qa-r1-00000003.yaml\n"
     ]
    },
    {
     "name": "stdout",
     "output_type": "stream",
     "text": [
      "WARNING:fiberflat.py:547:qa_fiberflat: Low counts in meanspec = 37108.4\n"
     ]
    },
    {
     "name": "stderr",
     "output_type": "stream",
     "text": [
      "WARNING:DESI:Low counts in meanspec = 37108.4\n"
     ]
    },
    {
     "name": "stdout",
     "output_type": "stream",
     "text": [
      "WARNING:fiberflat.py:569:qa_fiberflat: Discrepant flux in fiberflat: 0.00135612, 300\n"
     ]
    },
    {
     "name": "stderr",
     "output_type": "stream",
     "text": [
      "WARNING:DESI:Discrepant flux in fiberflat: 0.00135612, 300\n"
     ]
    },
    {
     "name": "stdout",
     "output_type": "stream",
     "text": [
      "WARNING:fiberflat.py:574:qa_fiberflat: Large offset in fiberflat: 0.435616\n"
     ]
    },
    {
     "name": "stderr",
     "output_type": "stream",
     "text": [
      "WARNING:DESI:Large offset in fiberflat: 0.435616\n"
     ]
    },
    {
     "name": "stdout",
     "output_type": "stream",
     "text": [
      "WARNING:fiberflat.py:582:qa_fiberflat: Discrepant mean in fiberflat: 0.0467809, 44\n"
     ]
    },
    {
     "name": "stderr",
     "output_type": "stream",
     "text": [
      "WARNING:DESI:Discrepant mean in fiberflat: 0.0467809, 44\n"
     ]
    },
    {
     "name": "stdout",
     "output_type": "stream",
     "text": [
      "WARNING:fiberflat.py:591:qa_fiberflat: Large RMS in fiberflat: 0.052332, 441\n"
     ]
    },
    {
     "name": "stderr",
     "output_type": "stream",
     "text": [
      "WARNING:DESI:Large RMS in fiberflat: 0.052332, 441\n"
     ]
    },
    {
     "name": "stdout",
     "output_type": "stream",
     "text": [
      "Wrote QA SkyRes file: /Users/xavier/DESI/DESI_SCRATCH/redux/madrone/calib2d/20160607/qa-flat-r1-00000003.pdf\n",
      "INFO:qa.py:81:load_qa_frame: Loaded QA file /Users/xavier/DESI/DESI_SCRATCH/redux/madrone/calib2d/20160607/qa-b0-00000003.yaml\n"
     ]
    },
    {
     "name": "stderr",
     "output_type": "stream",
     "text": [
      "INFO:DESI:Loaded QA file /Users/xavier/DESI/DESI_SCRATCH/redux/madrone/calib2d/20160607/qa-b0-00000003.yaml\n"
     ]
    },
    {
     "name": "stdout",
     "output_type": "stream",
     "text": [
      "WARNING:fiberflat.py:547:qa_fiberflat: Low counts in meanspec = 78348\n"
     ]
    },
    {
     "name": "stderr",
     "output_type": "stream",
     "text": [
      "WARNING:DESI:Low counts in meanspec = 78348\n"
     ]
    },
    {
     "name": "stdout",
     "output_type": "stream",
     "text": [
      "WARNING:fiberflat.py:569:qa_fiberflat: Discrepant flux in fiberflat: 0.00130881, 210\n"
     ]
    },
    {
     "name": "stderr",
     "output_type": "stream",
     "text": [
      "WARNING:DESI:Discrepant flux in fiberflat: 0.00130881, 210\n"
     ]
    },
    {
     "name": "stdout",
     "output_type": "stream",
     "text": [
      "WARNING:fiberflat.py:582:qa_fiberflat: Discrepant mean in fiberflat: 0.00218552, 445\n"
     ]
    },
    {
     "name": "stderr",
     "output_type": "stream",
     "text": [
      "WARNING:DESI:Discrepant mean in fiberflat: 0.00218552, 445\n"
     ]
    },
    {
     "name": "stdout",
     "output_type": "stream",
     "text": [
      "WARNING:fiberflat.py:591:qa_fiberflat: Large RMS in fiberflat: 0.00801048, 447\n"
     ]
    },
    {
     "name": "stderr",
     "output_type": "stream",
     "text": [
      "WARNING:DESI:Large RMS in fiberflat: 0.00801048, 447\n"
     ]
    },
    {
     "name": "stdout",
     "output_type": "stream",
     "text": [
      "Wrote QA SkyRes file: /Users/xavier/DESI/DESI_SCRATCH/redux/madrone/calib2d/20160607/qa-flat-b0-00000003.pdf\n",
      "INFO:qa.py:81:load_qa_frame: Loaded QA file /Users/xavier/DESI/DESI_SCRATCH/redux/madrone/calib2d/20160607/qa-b1-00000003.yaml\n"
     ]
    },
    {
     "name": "stderr",
     "output_type": "stream",
     "text": [
      "INFO:DESI:Loaded QA file /Users/xavier/DESI/DESI_SCRATCH/redux/madrone/calib2d/20160607/qa-b1-00000003.yaml\n"
     ]
    },
    {
     "name": "stdout",
     "output_type": "stream",
     "text": [
      "WARNING:fiberflat.py:547:qa_fiberflat: Low counts in meanspec = 78444.9\n"
     ]
    },
    {
     "name": "stderr",
     "output_type": "stream",
     "text": [
      "WARNING:DESI:Low counts in meanspec = 78444.9\n"
     ]
    },
    {
     "name": "stdout",
     "output_type": "stream",
     "text": [
      "WARNING:fiberflat.py:569:qa_fiberflat: Discrepant flux in fiberflat: 0.00129243, 400\n"
     ]
    },
    {
     "name": "stderr",
     "output_type": "stream",
     "text": [
      "WARNING:DESI:Discrepant flux in fiberflat: 0.00129243, 400\n"
     ]
    },
    {
     "name": "stdout",
     "output_type": "stream",
     "text": [
      "WARNING:fiberflat.py:582:qa_fiberflat: Discrepant mean in fiberflat: 0.00333923, 59\n"
     ]
    },
    {
     "name": "stderr",
     "output_type": "stream",
     "text": [
      "WARNING:DESI:Discrepant mean in fiberflat: 0.00333923, 59\n"
     ]
    },
    {
     "name": "stdout",
     "output_type": "stream",
     "text": [
      "WARNING:fiberflat.py:591:qa_fiberflat: Large RMS in fiberflat: 0.00802624, 48\n"
     ]
    },
    {
     "name": "stderr",
     "output_type": "stream",
     "text": [
      "WARNING:DESI:Large RMS in fiberflat: 0.00802624, 48\n"
     ]
    },
    {
     "name": "stdout",
     "output_type": "stream",
     "text": [
      "Wrote QA SkyRes file: /Users/xavier/DESI/DESI_SCRATCH/redux/madrone/calib2d/20160607/qa-flat-b1-00000003.pdf\n",
      "INFO:qa.py:81:load_qa_frame: Loaded QA file /Users/xavier/DESI/DESI_SCRATCH/redux/madrone/calib2d/20160607/qa-z0-00000003.yaml\n"
     ]
    },
    {
     "name": "stderr",
     "output_type": "stream",
     "text": [
      "INFO:DESI:Loaded QA file /Users/xavier/DESI/DESI_SCRATCH/redux/madrone/calib2d/20160607/qa-z0-00000003.yaml\n"
     ]
    },
    {
     "name": "stdout",
     "output_type": "stream",
     "text": [
      "WARNING:fiberflat.py:569:qa_fiberflat: Discrepant flux in fiberflat: 0.00367254, 259\n"
     ]
    },
    {
     "name": "stderr",
     "output_type": "stream",
     "text": [
      "WARNING:DESI:Discrepant flux in fiberflat: 0.00367254, 259\n"
     ]
    },
    {
     "name": "stdout",
     "output_type": "stream",
     "text": [
      "WARNING:fiberflat.py:574:qa_fiberflat: Large offset in fiberflat: 0.195059\n"
     ]
    },
    {
     "name": "stderr",
     "output_type": "stream",
     "text": [
      "WARNING:DESI:Large offset in fiberflat: 0.195059\n"
     ]
    },
    {
     "name": "stdout",
     "output_type": "stream",
     "text": [
      "WARNING:fiberflat.py:582:qa_fiberflat: Discrepant mean in fiberflat: 0.0396644, 454\n"
     ]
    },
    {
     "name": "stderr",
     "output_type": "stream",
     "text": [
      "WARNING:DESI:Discrepant mean in fiberflat: 0.0396644, 454\n"
     ]
    },
    {
     "name": "stdout",
     "output_type": "stream",
     "text": [
      "WARNING:fiberflat.py:591:qa_fiberflat: Large RMS in fiberflat: 0.0224109, 448\n"
     ]
    },
    {
     "name": "stderr",
     "output_type": "stream",
     "text": [
      "WARNING:DESI:Large RMS in fiberflat: 0.0224109, 448\n"
     ]
    },
    {
     "name": "stdout",
     "output_type": "stream",
     "text": [
      "Wrote QA SkyRes file: /Users/xavier/DESI/DESI_SCRATCH/redux/madrone/calib2d/20160607/qa-flat-z0-00000003.pdf\n",
      "INFO:qa.py:81:load_qa_frame: Loaded QA file /Users/xavier/DESI/DESI_SCRATCH/redux/madrone/calib2d/20160607/qa-z1-00000003.yaml\n"
     ]
    },
    {
     "name": "stderr",
     "output_type": "stream",
     "text": [
      "INFO:DESI:Loaded QA file /Users/xavier/DESI/DESI_SCRATCH/redux/madrone/calib2d/20160607/qa-z1-00000003.yaml\n"
     ]
    },
    {
     "name": "stdout",
     "output_type": "stream",
     "text": [
      "WARNING:fiberflat.py:569:qa_fiberflat: Discrepant flux in fiberflat: 0.00335505, 400\n"
     ]
    },
    {
     "name": "stderr",
     "output_type": "stream",
     "text": [
      "WARNING:DESI:Discrepant flux in fiberflat: 0.00335505, 400\n"
     ]
    },
    {
     "name": "stdout",
     "output_type": "stream",
     "text": [
      "WARNING:fiberflat.py:574:qa_fiberflat: Large offset in fiberflat: 0.210367\n"
     ]
    },
    {
     "name": "stderr",
     "output_type": "stream",
     "text": [
      "WARNING:DESI:Large offset in fiberflat: 0.210367\n"
     ]
    },
    {
     "name": "stdout",
     "output_type": "stream",
     "text": [
      "WARNING:fiberflat.py:582:qa_fiberflat: Discrepant mean in fiberflat: 0.0238405, 174\n"
     ]
    },
    {
     "name": "stderr",
     "output_type": "stream",
     "text": [
      "WARNING:DESI:Discrepant mean in fiberflat: 0.0238405, 174\n"
     ]
    },
    {
     "name": "stdout",
     "output_type": "stream",
     "text": [
      "WARNING:fiberflat.py:591:qa_fiberflat: Large RMS in fiberflat: 0.0205416, 14\n"
     ]
    },
    {
     "name": "stderr",
     "output_type": "stream",
     "text": [
      "WARNING:DESI:Large RMS in fiberflat: 0.0205416, 14\n"
     ]
    },
    {
     "name": "stdout",
     "output_type": "stream",
     "text": [
      "Wrote QA SkyRes file: /Users/xavier/DESI/DESI_SCRATCH/redux/madrone/calib2d/20160607/qa-flat-z1-00000003.pdf\n",
      "INFO:qa.py:81:load_qa_frame: Loaded QA file /Users/xavier/DESI/DESI_SCRATCH/redux/madrone/calib2d/20160607/qa-r0-00000004.yaml\n"
     ]
    },
    {
     "name": "stderr",
     "output_type": "stream",
     "text": [
      "INFO:DESI:Loaded QA file /Users/xavier/DESI/DESI_SCRATCH/redux/madrone/calib2d/20160607/qa-r0-00000004.yaml\n"
     ]
    },
    {
     "name": "stdout",
     "output_type": "stream",
     "text": [
      "WARNING:fiberflat.py:547:qa_fiberflat: Low counts in meanspec = 37114.7\n"
     ]
    },
    {
     "name": "stderr",
     "output_type": "stream",
     "text": [
      "WARNING:DESI:Low counts in meanspec = 37114.7\n"
     ]
    },
    {
     "name": "stdout",
     "output_type": "stream",
     "text": [
      "WARNING:fiberflat.py:569:qa_fiberflat: Discrepant flux in fiberflat: 0.00129257, 268\n"
     ]
    },
    {
     "name": "stderr",
     "output_type": "stream",
     "text": [
      "WARNING:DESI:Discrepant flux in fiberflat: 0.00129257, 268\n"
     ]
    },
    {
     "name": "stdout",
     "output_type": "stream",
     "text": [
      "WARNING:fiberflat.py:582:qa_fiberflat: Discrepant mean in fiberflat: 0.00788963, 160\n"
     ]
    },
    {
     "name": "stderr",
     "output_type": "stream",
     "text": [
      "WARNING:DESI:Discrepant mean in fiberflat: 0.00788963, 160\n"
     ]
    },
    {
     "name": "stdout",
     "output_type": "stream",
     "text": [
      "WARNING:fiberflat.py:591:qa_fiberflat: Large RMS in fiberflat: 0.0167342, 45\n"
     ]
    },
    {
     "name": "stderr",
     "output_type": "stream",
     "text": [
      "WARNING:DESI:Large RMS in fiberflat: 0.0167342, 45\n"
     ]
    },
    {
     "name": "stdout",
     "output_type": "stream",
     "text": [
      "Wrote QA SkyRes file: /Users/xavier/DESI/DESI_SCRATCH/redux/madrone/calib2d/20160607/qa-flat-r0-00000004.pdf\n",
      "INFO:qa.py:81:load_qa_frame: Loaded QA file /Users/xavier/DESI/DESI_SCRATCH/redux/madrone/calib2d/20160607/qa-r1-00000004.yaml\n"
     ]
    },
    {
     "name": "stderr",
     "output_type": "stream",
     "text": [
      "INFO:DESI:Loaded QA file /Users/xavier/DESI/DESI_SCRATCH/redux/madrone/calib2d/20160607/qa-r1-00000004.yaml\n"
     ]
    },
    {
     "name": "stdout",
     "output_type": "stream",
     "text": [
      "WARNING:fiberflat.py:547:qa_fiberflat: Low counts in meanspec = 37129\n"
     ]
    },
    {
     "name": "stderr",
     "output_type": "stream",
     "text": [
      "WARNING:DESI:Low counts in meanspec = 37129\n"
     ]
    },
    {
     "name": "stdout",
     "output_type": "stream",
     "text": [
      "WARNING:fiberflat.py:569:qa_fiberflat: Discrepant flux in fiberflat: 0.00189086, 247\n"
     ]
    },
    {
     "name": "stderr",
     "output_type": "stream",
     "text": [
      "WARNING:DESI:Discrepant flux in fiberflat: 0.00189086, 247\n"
     ]
    },
    {
     "name": "stdout",
     "output_type": "stream",
     "text": [
      "WARNING:fiberflat.py:574:qa_fiberflat: Large offset in fiberflat: 0.405313\n"
     ]
    },
    {
     "name": "stderr",
     "output_type": "stream",
     "text": [
      "WARNING:DESI:Large offset in fiberflat: 0.405313\n"
     ]
    },
    {
     "name": "stdout",
     "output_type": "stream",
     "text": [
      "WARNING:fiberflat.py:582:qa_fiberflat: Discrepant mean in fiberflat: 0.0205664, 441\n"
     ]
    },
    {
     "name": "stderr",
     "output_type": "stream",
     "text": [
      "WARNING:DESI:Discrepant mean in fiberflat: 0.0205664, 441\n"
     ]
    },
    {
     "name": "stdout",
     "output_type": "stream",
     "text": [
      "WARNING:fiberflat.py:591:qa_fiberflat: Large RMS in fiberflat: 0.0526389, 441\n"
     ]
    },
    {
     "name": "stderr",
     "output_type": "stream",
     "text": [
      "WARNING:DESI:Large RMS in fiberflat: 0.0526389, 441\n"
     ]
    },
    {
     "name": "stdout",
     "output_type": "stream",
     "text": [
      "Wrote QA SkyRes file: /Users/xavier/DESI/DESI_SCRATCH/redux/madrone/calib2d/20160607/qa-flat-r1-00000004.pdf\n",
      "INFO:qa.py:81:load_qa_frame: Loaded QA file /Users/xavier/DESI/DESI_SCRATCH/redux/madrone/calib2d/20160607/qa-b0-00000004.yaml\n"
     ]
    },
    {
     "name": "stderr",
     "output_type": "stream",
     "text": [
      "INFO:DESI:Loaded QA file /Users/xavier/DESI/DESI_SCRATCH/redux/madrone/calib2d/20160607/qa-b0-00000004.yaml\n"
     ]
    },
    {
     "name": "stdout",
     "output_type": "stream",
     "text": [
      "WARNING:fiberflat.py:547:qa_fiberflat: Low counts in meanspec = 78482.3\n"
     ]
    },
    {
     "name": "stderr",
     "output_type": "stream",
     "text": [
      "WARNING:DESI:Low counts in meanspec = 78482.3\n"
     ]
    },
    {
     "name": "stdout",
     "output_type": "stream",
     "text": [
      "WARNING:fiberflat.py:569:qa_fiberflat: Discrepant flux in fiberflat: 0.00124332, 395\n"
     ]
    },
    {
     "name": "stderr",
     "output_type": "stream",
     "text": [
      "WARNING:DESI:Discrepant flux in fiberflat: 0.00124332, 395\n"
     ]
    },
    {
     "name": "stdout",
     "output_type": "stream",
     "text": [
      "WARNING:fiberflat.py:582:qa_fiberflat: Discrepant mean in fiberflat: 0.00148255, 239\n"
     ]
    },
    {
     "name": "stderr",
     "output_type": "stream",
     "text": [
      "WARNING:DESI:Discrepant mean in fiberflat: 0.00148255, 239\n"
     ]
    },
    {
     "name": "stdout",
     "output_type": "stream",
     "text": [
      "WARNING:fiberflat.py:591:qa_fiberflat: Large RMS in fiberflat: 0.00788844, 498\n"
     ]
    },
    {
     "name": "stderr",
     "output_type": "stream",
     "text": [
      "WARNING:DESI:Large RMS in fiberflat: 0.00788844, 498\n"
     ]
    },
    {
     "name": "stdout",
     "output_type": "stream",
     "text": [
      "Wrote QA SkyRes file: /Users/xavier/DESI/DESI_SCRATCH/redux/madrone/calib2d/20160607/qa-flat-b0-00000004.pdf\n",
      "INFO:qa.py:81:load_qa_frame: Loaded QA file /Users/xavier/DESI/DESI_SCRATCH/redux/madrone/calib2d/20160607/qa-b1-00000004.yaml\n"
     ]
    },
    {
     "name": "stderr",
     "output_type": "stream",
     "text": [
      "INFO:DESI:Loaded QA file /Users/xavier/DESI/DESI_SCRATCH/redux/madrone/calib2d/20160607/qa-b1-00000004.yaml\n"
     ]
    },
    {
     "name": "stdout",
     "output_type": "stream",
     "text": [
      "WARNING:fiberflat.py:547:qa_fiberflat: Low counts in meanspec = 78335.8\n"
     ]
    },
    {
     "name": "stderr",
     "output_type": "stream",
     "text": [
      "WARNING:DESI:Low counts in meanspec = 78335.8\n"
     ]
    },
    {
     "name": "stdout",
     "output_type": "stream",
     "text": [
      "WARNING:fiberflat.py:569:qa_fiberflat: Discrepant flux in fiberflat: 0.00129859, 314\n"
     ]
    },
    {
     "name": "stderr",
     "output_type": "stream",
     "text": [
      "WARNING:DESI:Discrepant flux in fiberflat: 0.00129859, 314\n"
     ]
    },
    {
     "name": "stdout",
     "output_type": "stream",
     "text": [
      "WARNING:fiberflat.py:582:qa_fiberflat: Discrepant mean in fiberflat: 0.00141853, 492\n"
     ]
    },
    {
     "name": "stderr",
     "output_type": "stream",
     "text": [
      "WARNING:DESI:Discrepant mean in fiberflat: 0.00141853, 492\n"
     ]
    },
    {
     "name": "stdout",
     "output_type": "stream",
     "text": [
      "WARNING:fiberflat.py:591:qa_fiberflat: Large RMS in fiberflat: 0.007921, 184\n"
     ]
    },
    {
     "name": "stderr",
     "output_type": "stream",
     "text": [
      "WARNING:DESI:Large RMS in fiberflat: 0.007921, 184\n"
     ]
    },
    {
     "name": "stdout",
     "output_type": "stream",
     "text": [
      "Wrote QA SkyRes file: /Users/xavier/DESI/DESI_SCRATCH/redux/madrone/calib2d/20160607/qa-flat-b1-00000004.pdf\n",
      "INFO:qa.py:81:load_qa_frame: Loaded QA file /Users/xavier/DESI/DESI_SCRATCH/redux/madrone/calib2d/20160607/qa-z0-00000004.yaml\n"
     ]
    },
    {
     "name": "stderr",
     "output_type": "stream",
     "text": [
      "INFO:DESI:Loaded QA file /Users/xavier/DESI/DESI_SCRATCH/redux/madrone/calib2d/20160607/qa-z0-00000004.yaml\n"
     ]
    },
    {
     "name": "stdout",
     "output_type": "stream",
     "text": [
      "WARNING:fiberflat.py:569:qa_fiberflat: Discrepant flux in fiberflat: 0.00340091, 259\n"
     ]
    },
    {
     "name": "stderr",
     "output_type": "stream",
     "text": [
      "WARNING:DESI:Discrepant flux in fiberflat: 0.00340091, 259\n"
     ]
    },
    {
     "name": "stdout",
     "output_type": "stream",
     "text": [
      "WARNING:fiberflat.py:574:qa_fiberflat: Large offset in fiberflat: 0.195634\n"
     ]
    },
    {
     "name": "stderr",
     "output_type": "stream",
     "text": [
      "WARNING:DESI:Large offset in fiberflat: 0.195634\n"
     ]
    },
    {
     "name": "stdout",
     "output_type": "stream",
     "text": [
      "WARNING:fiberflat.py:582:qa_fiberflat: Discrepant mean in fiberflat: 0.0350391, 249\n"
     ]
    },
    {
     "name": "stderr",
     "output_type": "stream",
     "text": [
      "WARNING:DESI:Discrepant mean in fiberflat: 0.0350391, 249\n"
     ]
    },
    {
     "name": "stdout",
     "output_type": "stream",
     "text": [
      "WARNING:fiberflat.py:591:qa_fiberflat: Large RMS in fiberflat: 0.0223984, 448\n"
     ]
    },
    {
     "name": "stderr",
     "output_type": "stream",
     "text": [
      "WARNING:DESI:Large RMS in fiberflat: 0.0223984, 448\n"
     ]
    },
    {
     "name": "stdout",
     "output_type": "stream",
     "text": [
      "Wrote QA SkyRes file: /Users/xavier/DESI/DESI_SCRATCH/redux/madrone/calib2d/20160607/qa-flat-z0-00000004.pdf\n",
      "INFO:qa.py:81:load_qa_frame: Loaded QA file /Users/xavier/DESI/DESI_SCRATCH/redux/madrone/calib2d/20160607/qa-z1-00000004.yaml\n"
     ]
    },
    {
     "name": "stderr",
     "output_type": "stream",
     "text": [
      "INFO:DESI:Loaded QA file /Users/xavier/DESI/DESI_SCRATCH/redux/madrone/calib2d/20160607/qa-z1-00000004.yaml\n"
     ]
    },
    {
     "name": "stdout",
     "output_type": "stream",
     "text": [
      "WARNING:fiberflat.py:569:qa_fiberflat: Discrepant flux in fiberflat: 0.00367, 15\n"
     ]
    },
    {
     "name": "stderr",
     "output_type": "stream",
     "text": [
      "WARNING:DESI:Discrepant flux in fiberflat: 0.00367, 15\n"
     ]
    },
    {
     "name": "stdout",
     "output_type": "stream",
     "text": [
      "WARNING:fiberflat.py:574:qa_fiberflat: Large offset in fiberflat: 0.177258\n"
     ]
    },
    {
     "name": "stderr",
     "output_type": "stream",
     "text": [
      "WARNING:DESI:Large offset in fiberflat: 0.177258\n"
     ]
    },
    {
     "name": "stdout",
     "output_type": "stream",
     "text": [
      "WARNING:fiberflat.py:582:qa_fiberflat: Discrepant mean in fiberflat: 0.0180792, 174\n"
     ]
    },
    {
     "name": "stderr",
     "output_type": "stream",
     "text": [
      "WARNING:DESI:Discrepant mean in fiberflat: 0.0180792, 174\n"
     ]
    },
    {
     "name": "stdout",
     "output_type": "stream",
     "text": [
      "WARNING:fiberflat.py:591:qa_fiberflat: Large RMS in fiberflat: 0.0204286, 14\n"
     ]
    },
    {
     "name": "stderr",
     "output_type": "stream",
     "text": [
      "WARNING:DESI:Large RMS in fiberflat: 0.0204286, 14\n"
     ]
    },
    {
     "name": "stdout",
     "output_type": "stream",
     "text": [
      "Wrote QA SkyRes file: /Users/xavier/DESI/DESI_SCRATCH/redux/madrone/calib2d/20160607/qa-flat-z1-00000004.pdf\n",
      "INFO:qa.py:81:load_qa_frame: Loaded QA file /Users/xavier/DESI/DESI_SCRATCH/redux/madrone/calib2d/20160607/qa-r0-00000005.yaml\n"
     ]
    },
    {
     "name": "stderr",
     "output_type": "stream",
     "text": [
      "INFO:DESI:Loaded QA file /Users/xavier/DESI/DESI_SCRATCH/redux/madrone/calib2d/20160607/qa-r0-00000005.yaml\n"
     ]
    },
    {
     "name": "stdout",
     "output_type": "stream",
     "text": [
      "WARNING:fiberflat.py:547:qa_fiberflat: Low counts in meanspec = 37082.2\n"
     ]
    },
    {
     "name": "stderr",
     "output_type": "stream",
     "text": [
      "WARNING:DESI:Low counts in meanspec = 37082.2\n"
     ]
    },
    {
     "name": "stdout",
     "output_type": "stream",
     "text": [
      "WARNING:fiberflat.py:569:qa_fiberflat: Discrepant flux in fiberflat: 0.00128267, 268\n"
     ]
    },
    {
     "name": "stderr",
     "output_type": "stream",
     "text": [
      "WARNING:DESI:Discrepant flux in fiberflat: 0.00128267, 268\n"
     ]
    },
    {
     "name": "stdout",
     "output_type": "stream",
     "text": [
      "WARNING:fiberflat.py:574:qa_fiberflat: Large offset in fiberflat: 0.157317\n"
     ]
    },
    {
     "name": "stderr",
     "output_type": "stream",
     "text": [
      "WARNING:DESI:Large offset in fiberflat: 0.157317\n"
     ]
    },
    {
     "name": "stdout",
     "output_type": "stream",
     "text": [
      "WARNING:fiberflat.py:582:qa_fiberflat: Discrepant mean in fiberflat: 0.0137753, 39\n"
     ]
    },
    {
     "name": "stderr",
     "output_type": "stream",
     "text": [
      "WARNING:DESI:Discrepant mean in fiberflat: 0.0137753, 39\n"
     ]
    },
    {
     "name": "stdout",
     "output_type": "stream",
     "text": [
      "WARNING:fiberflat.py:591:qa_fiberflat: Large RMS in fiberflat: 0.0168592, 45\n"
     ]
    },
    {
     "name": "stderr",
     "output_type": "stream",
     "text": [
      "WARNING:DESI:Large RMS in fiberflat: 0.0168592, 45\n"
     ]
    },
    {
     "name": "stdout",
     "output_type": "stream",
     "text": [
      "Wrote QA SkyRes file: /Users/xavier/DESI/DESI_SCRATCH/redux/madrone/calib2d/20160607/qa-flat-r0-00000005.pdf\n",
      "INFO:qa.py:81:load_qa_frame: Loaded QA file /Users/xavier/DESI/DESI_SCRATCH/redux/madrone/calib2d/20160607/qa-r1-00000005.yaml\n"
     ]
    },
    {
     "name": "stderr",
     "output_type": "stream",
     "text": [
      "INFO:DESI:Loaded QA file /Users/xavier/DESI/DESI_SCRATCH/redux/madrone/calib2d/20160607/qa-r1-00000005.yaml\n"
     ]
    },
    {
     "name": "stdout",
     "output_type": "stream",
     "text": [
      "WARNING:fiberflat.py:547:qa_fiberflat: Low counts in meanspec = 37112.3\n"
     ]
    },
    {
     "name": "stderr",
     "output_type": "stream",
     "text": [
      "WARNING:DESI:Low counts in meanspec = 37112.3\n"
     ]
    },
    {
     "name": "stdout",
     "output_type": "stream",
     "text": [
      "WARNING:fiberflat.py:569:qa_fiberflat: Discrepant flux in fiberflat: 0.00146411, 324\n"
     ]
    },
    {
     "name": "stderr",
     "output_type": "stream",
     "text": [
      "WARNING:DESI:Discrepant flux in fiberflat: 0.00146411, 324\n"
     ]
    },
    {
     "name": "stdout",
     "output_type": "stream",
     "text": [
      "WARNING:fiberflat.py:574:qa_fiberflat: Large offset in fiberflat: 0.919158\n"
     ]
    },
    {
     "name": "stderr",
     "output_type": "stream",
     "text": [
      "WARNING:DESI:Large offset in fiberflat: 0.919158\n"
     ]
    },
    {
     "name": "stdout",
     "output_type": "stream",
     "text": [
      "WARNING:fiberflat.py:582:qa_fiberflat: Discrepant mean in fiberflat: 0.015547, 441\n"
     ]
    },
    {
     "name": "stderr",
     "output_type": "stream",
     "text": [
      "WARNING:DESI:Discrepant mean in fiberflat: 0.015547, 441\n"
     ]
    },
    {
     "name": "stdout",
     "output_type": "stream",
     "text": [
      "WARNING:fiberflat.py:591:qa_fiberflat: Large RMS in fiberflat: 0.0537721, 441\n"
     ]
    },
    {
     "name": "stderr",
     "output_type": "stream",
     "text": [
      "WARNING:DESI:Large RMS in fiberflat: 0.0537721, 441\n"
     ]
    },
    {
     "name": "stdout",
     "output_type": "stream",
     "text": [
      "Wrote QA SkyRes file: /Users/xavier/DESI/DESI_SCRATCH/redux/madrone/calib2d/20160607/qa-flat-r1-00000005.pdf\n",
      "INFO:qa.py:81:load_qa_frame: Loaded QA file /Users/xavier/DESI/DESI_SCRATCH/redux/madrone/calib2d/20160607/qa-b0-00000005.yaml\n"
     ]
    },
    {
     "name": "stderr",
     "output_type": "stream",
     "text": [
      "INFO:DESI:Loaded QA file /Users/xavier/DESI/DESI_SCRATCH/redux/madrone/calib2d/20160607/qa-b0-00000005.yaml\n"
     ]
    },
    {
     "name": "stdout",
     "output_type": "stream",
     "text": [
      "WARNING:fiberflat.py:547:qa_fiberflat: Low counts in meanspec = 78321\n"
     ]
    },
    {
     "name": "stderr",
     "output_type": "stream",
     "text": [
      "WARNING:DESI:Low counts in meanspec = 78321\n"
     ]
    },
    {
     "name": "stdout",
     "output_type": "stream",
     "text": [
      "WARNING:fiberflat.py:569:qa_fiberflat: Discrepant flux in fiberflat: 0.001363, 367\n"
     ]
    },
    {
     "name": "stderr",
     "output_type": "stream",
     "text": [
      "WARNING:DESI:Discrepant flux in fiberflat: 0.001363, 367\n"
     ]
    },
    {
     "name": "stdout",
     "output_type": "stream",
     "text": [
      "WARNING:fiberflat.py:582:qa_fiberflat: Discrepant mean in fiberflat: 0.0016681, 299\n"
     ]
    },
    {
     "name": "stderr",
     "output_type": "stream",
     "text": [
      "WARNING:DESI:Discrepant mean in fiberflat: 0.0016681, 299\n"
     ]
    },
    {
     "name": "stdout",
     "output_type": "stream",
     "text": [
      "WARNING:fiberflat.py:591:qa_fiberflat: Large RMS in fiberflat: 0.0079466, 437\n"
     ]
    },
    {
     "name": "stderr",
     "output_type": "stream",
     "text": [
      "WARNING:DESI:Large RMS in fiberflat: 0.0079466, 437\n"
     ]
    },
    {
     "name": "stdout",
     "output_type": "stream",
     "text": [
      "Wrote QA SkyRes file: /Users/xavier/DESI/DESI_SCRATCH/redux/madrone/calib2d/20160607/qa-flat-b0-00000005.pdf\n",
      "INFO:qa.py:81:load_qa_frame: Loaded QA file /Users/xavier/DESI/DESI_SCRATCH/redux/madrone/calib2d/20160607/qa-b1-00000005.yaml\n"
     ]
    },
    {
     "name": "stderr",
     "output_type": "stream",
     "text": [
      "INFO:DESI:Loaded QA file /Users/xavier/DESI/DESI_SCRATCH/redux/madrone/calib2d/20160607/qa-b1-00000005.yaml\n"
     ]
    },
    {
     "name": "stdout",
     "output_type": "stream",
     "text": [
      "WARNING:fiberflat.py:547:qa_fiberflat: Low counts in meanspec = 78364.5\n"
     ]
    },
    {
     "name": "stderr",
     "output_type": "stream",
     "text": [
      "WARNING:DESI:Low counts in meanspec = 78364.5\n"
     ]
    },
    {
     "name": "stdout",
     "output_type": "stream",
     "text": [
      "WARNING:fiberflat.py:569:qa_fiberflat: Discrepant flux in fiberflat: 0.00123105, 256\n"
     ]
    },
    {
     "name": "stderr",
     "output_type": "stream",
     "text": [
      "WARNING:DESI:Discrepant flux in fiberflat: 0.00123105, 256\n"
     ]
    },
    {
     "name": "stdout",
     "output_type": "stream",
     "text": [
      "WARNING:fiberflat.py:582:qa_fiberflat: Discrepant mean in fiberflat: 0.00250363, 495\n"
     ]
    },
    {
     "name": "stderr",
     "output_type": "stream",
     "text": [
      "WARNING:DESI:Discrepant mean in fiberflat: 0.00250363, 495\n"
     ]
    },
    {
     "name": "stdout",
     "output_type": "stream",
     "text": [
      "WARNING:fiberflat.py:591:qa_fiberflat: Large RMS in fiberflat: 0.00791223, 80\n"
     ]
    },
    {
     "name": "stderr",
     "output_type": "stream",
     "text": [
      "WARNING:DESI:Large RMS in fiberflat: 0.00791223, 80\n"
     ]
    },
    {
     "name": "stdout",
     "output_type": "stream",
     "text": [
      "Wrote QA SkyRes file: /Users/xavier/DESI/DESI_SCRATCH/redux/madrone/calib2d/20160607/qa-flat-b1-00000005.pdf\n",
      "INFO:qa.py:81:load_qa_frame: Loaded QA file /Users/xavier/DESI/DESI_SCRATCH/redux/madrone/calib2d/20160607/qa-z0-00000005.yaml\n"
     ]
    },
    {
     "name": "stderr",
     "output_type": "stream",
     "text": [
      "INFO:DESI:Loaded QA file /Users/xavier/DESI/DESI_SCRATCH/redux/madrone/calib2d/20160607/qa-z0-00000005.yaml\n"
     ]
    },
    {
     "name": "stdout",
     "output_type": "stream",
     "text": [
      "WARNING:fiberflat.py:569:qa_fiberflat: Discrepant flux in fiberflat: 0.00355213, 259\n"
     ]
    },
    {
     "name": "stderr",
     "output_type": "stream",
     "text": [
      "WARNING:DESI:Discrepant flux in fiberflat: 0.00355213, 259\n"
     ]
    },
    {
     "name": "stdout",
     "output_type": "stream",
     "text": [
      "WARNING:fiberflat.py:574:qa_fiberflat: Large offset in fiberflat: 0.19243\n"
     ]
    },
    {
     "name": "stderr",
     "output_type": "stream",
     "text": [
      "WARNING:DESI:Large offset in fiberflat: 0.19243\n"
     ]
    },
    {
     "name": "stdout",
     "output_type": "stream",
     "text": [
      "WARNING:fiberflat.py:582:qa_fiberflat: Discrepant mean in fiberflat: 0.0285459, 232\n"
     ]
    },
    {
     "name": "stderr",
     "output_type": "stream",
     "text": [
      "WARNING:DESI:Discrepant mean in fiberflat: 0.0285459, 232\n"
     ]
    },
    {
     "name": "stdout",
     "output_type": "stream",
     "text": [
      "WARNING:fiberflat.py:591:qa_fiberflat: Large RMS in fiberflat: 0.0224893, 448\n"
     ]
    },
    {
     "name": "stderr",
     "output_type": "stream",
     "text": [
      "WARNING:DESI:Large RMS in fiberflat: 0.0224893, 448\n"
     ]
    },
    {
     "name": "stdout",
     "output_type": "stream",
     "text": [
      "Wrote QA SkyRes file: /Users/xavier/DESI/DESI_SCRATCH/redux/madrone/calib2d/20160607/qa-flat-z0-00000005.pdf\n",
      "INFO:qa.py:81:load_qa_frame: Loaded QA file /Users/xavier/DESI/DESI_SCRATCH/redux/madrone/calib2d/20160607/qa-z1-00000005.yaml\n"
     ]
    },
    {
     "name": "stderr",
     "output_type": "stream",
     "text": [
      "INFO:DESI:Loaded QA file /Users/xavier/DESI/DESI_SCRATCH/redux/madrone/calib2d/20160607/qa-z1-00000005.yaml\n"
     ]
    },
    {
     "name": "stdout",
     "output_type": "stream",
     "text": [
      "WARNING:fiberflat.py:569:qa_fiberflat: Discrepant flux in fiberflat: 0.00336685, 15\n"
     ]
    },
    {
     "name": "stderr",
     "output_type": "stream",
     "text": [
      "WARNING:DESI:Discrepant flux in fiberflat: 0.00336685, 15\n"
     ]
    },
    {
     "name": "stdout",
     "output_type": "stream",
     "text": [
      "WARNING:fiberflat.py:574:qa_fiberflat: Large offset in fiberflat: 0.616393\n"
     ]
    },
    {
     "name": "stderr",
     "output_type": "stream",
     "text": [
      "WARNING:DESI:Large offset in fiberflat: 0.616393\n"
     ]
    },
    {
     "name": "stdout",
     "output_type": "stream",
     "text": [
      "WARNING:fiberflat.py:582:qa_fiberflat: Discrepant mean in fiberflat: 0.0182033, 465\n"
     ]
    },
    {
     "name": "stderr",
     "output_type": "stream",
     "text": [
      "WARNING:DESI:Discrepant mean in fiberflat: 0.0182033, 465\n"
     ]
    },
    {
     "name": "stdout",
     "output_type": "stream",
     "text": [
      "WARNING:fiberflat.py:591:qa_fiberflat: Large RMS in fiberflat: 0.0206151, 14\n"
     ]
    },
    {
     "name": "stderr",
     "output_type": "stream",
     "text": [
      "WARNING:DESI:Large RMS in fiberflat: 0.0206151, 14\n"
     ]
    },
    {
     "name": "stdout",
     "output_type": "stream",
     "text": [
      "Wrote QA SkyRes file: /Users/xavier/DESI/DESI_SCRATCH/redux/madrone/calib2d/20160607/qa-flat-z1-00000005.pdf\n",
      "INFO:qa.py:81:load_qa_frame: Loaded QA file /Users/xavier/DESI/DESI_SCRATCH/redux/madrone/exposures/20160607/00000006/qa-r0-00000006.yaml\n"
     ]
    },
    {
     "name": "stderr",
     "output_type": "stream",
     "text": [
      "INFO:DESI:Loaded QA file /Users/xavier/DESI/DESI_SCRATCH/redux/madrone/exposures/20160607/00000006/qa-r0-00000006.yaml\n"
     ]
    },
    {
     "name": "stdout",
     "output_type": "stream",
     "text": [
      "WARNING:sky.py:266:qa_skysub: Bad Sky Subtraction in 30 fibers\n"
     ]
    },
    {
     "name": "stderr",
     "output_type": "stream",
     "text": [
      "WARNING:DESI:Bad Sky Subtraction in 30 fibers\n"
     ]
    },
    {
     "name": "stdout",
     "output_type": "stream",
     "text": [
      "INFO:sky.py:271:qa_skysub: Median residual for sky fibers = 0.68364\n"
     ]
    },
    {
     "name": "stderr",
     "output_type": "stream",
     "text": [
      "INFO:DESI:Median residual for sky fibers = 0.68364\n"
     ]
    },
    {
     "name": "stdout",
     "output_type": "stream",
     "text": [
      "Wrote QA SkyRes file: /Users/xavier/DESI/DESI_SCRATCH/redux/madrone/exposures/20160607/00000006/qa-sky-r0-00000006.pdf\n",
      "WARNING:fluxcalibration.py:636:qa_fluxcalib: Bad standard star ZP 0.529137, in fiber 0\n"
     ]
    },
    {
     "name": "stderr",
     "output_type": "stream",
     "text": [
      "/Users/xavier/DESI/desispec/py/desispec/fluxcalibration.py:568: RuntimeWarning: invalid value encountered in log10\n",
      "  ZP_AB = -2.5 * np.log10(ZP_fnu) - 48.6\n",
      "WARNING:DESI:Bad standard star ZP 0.529137, in fiber 0\n"
     ]
    },
    {
     "name": "stdout",
     "output_type": "stream",
     "text": [
      "Wrote QA SkyRes file: /Users/xavier/DESI/DESI_SCRATCH/redux/madrone/exposures/20160607/00000006/qa-flux-r0-00000006.pdf\n",
      "> /Users/xavier/DESI/desispec/py/desispec/qa/qa_prod.py(108)remake_frame_qa()\n",
      "-> write_qa_frame(qafile, qaframe)\n",
      "(Pdb) exit\n"
     ]
    },
    {
     "ename": "BdbQuit",
     "evalue": "",
     "output_type": "error",
     "traceback": [
      "\u001b[0;31m---------------------------------------------------------------------------\u001b[0m",
      "\u001b[0;31mBdbQuit\u001b[0m                                   Traceback (most recent call last)",
      "\u001b[0;32m<ipython-input-4-c66f060becbd>\u001b[0m in \u001b[0;36m<module>\u001b[0;34m()\u001b[0m\n\u001b[0;32m----> 1\u001b[0;31m \u001b[0mqa_prod\u001b[0m\u001b[0;34m.\u001b[0m\u001b[0mremake_frame_qa\u001b[0m\u001b[0;34m(\u001b[0m\u001b[0mremake_plots\u001b[0m\u001b[0;34m=\u001b[0m\u001b[0mTrue\u001b[0m\u001b[0;34m)\u001b[0m\u001b[0;34m\u001b[0m\u001b[0m\n\u001b[0m",
      "\u001b[0;32m/Users/xavier/DESI/desispec/py/desispec/qa/qa_prod.pyc\u001b[0m in \u001b[0;36mremake_frame_qa\u001b[0;34m(self, remake_plots)\u001b[0m\n\u001b[1;32m    106\u001b[0m                             \u001b[0mpdb\u001b[0m\u001b[0;34m.\u001b[0m\u001b[0mset_trace\u001b[0m\u001b[0;34m(\u001b[0m\u001b[0;34m)\u001b[0m\u001b[0;34m\u001b[0m\u001b[0m\n\u001b[1;32m    107\u001b[0m                     \u001b[0;31m# Write\u001b[0m\u001b[0;34m\u001b[0m\u001b[0;34m\u001b[0m\u001b[0m\n\u001b[0;32m--> 108\u001b[0;31m                     \u001b[0mwrite_qa_frame\u001b[0m\u001b[0;34m(\u001b[0m\u001b[0mqafile\u001b[0m\u001b[0;34m,\u001b[0m \u001b[0mqaframe\u001b[0m\u001b[0;34m)\u001b[0m\u001b[0;34m\u001b[0m\u001b[0m\n\u001b[0m\u001b[1;32m    109\u001b[0m             \u001b[0;31m#pdb.set_trace()\u001b[0m\u001b[0;34m\u001b[0m\u001b[0;34m\u001b[0m\u001b[0m\n\u001b[1;32m    110\u001b[0m \u001b[0;34m\u001b[0m\u001b[0m\n",
      "\u001b[0;32m/Users/xavier/DESI/desispec/py/desispec/qa/qa_prod.pyc\u001b[0m in \u001b[0;36mremake_frame_qa\u001b[0;34m(self, remake_plots)\u001b[0m\n\u001b[1;32m    106\u001b[0m                             \u001b[0mpdb\u001b[0m\u001b[0;34m.\u001b[0m\u001b[0mset_trace\u001b[0m\u001b[0;34m(\u001b[0m\u001b[0;34m)\u001b[0m\u001b[0;34m\u001b[0m\u001b[0m\n\u001b[1;32m    107\u001b[0m                     \u001b[0;31m# Write\u001b[0m\u001b[0;34m\u001b[0m\u001b[0;34m\u001b[0m\u001b[0m\n\u001b[0;32m--> 108\u001b[0;31m                     \u001b[0mwrite_qa_frame\u001b[0m\u001b[0;34m(\u001b[0m\u001b[0mqafile\u001b[0m\u001b[0;34m,\u001b[0m \u001b[0mqaframe\u001b[0m\u001b[0;34m)\u001b[0m\u001b[0;34m\u001b[0m\u001b[0m\n\u001b[0m\u001b[1;32m    109\u001b[0m             \u001b[0;31m#pdb.set_trace()\u001b[0m\u001b[0;34m\u001b[0m\u001b[0;34m\u001b[0m\u001b[0m\n\u001b[1;32m    110\u001b[0m \u001b[0;34m\u001b[0m\u001b[0m\n",
      "\u001b[0;32m/Users/xavier/anaconda/lib/python2.7/bdb.pyc\u001b[0m in \u001b[0;36mtrace_dispatch\u001b[0;34m(self, frame, event, arg)\u001b[0m\n\u001b[1;32m     47\u001b[0m             \u001b[0;32mreturn\u001b[0m \u001b[0;31m# None\u001b[0m\u001b[0;34m\u001b[0m\u001b[0m\n\u001b[1;32m     48\u001b[0m         \u001b[0;32mif\u001b[0m \u001b[0mevent\u001b[0m \u001b[0;34m==\u001b[0m \u001b[0;34m'line'\u001b[0m\u001b[0;34m:\u001b[0m\u001b[0;34m\u001b[0m\u001b[0m\n\u001b[0;32m---> 49\u001b[0;31m             \u001b[0;32mreturn\u001b[0m \u001b[0mself\u001b[0m\u001b[0;34m.\u001b[0m\u001b[0mdispatch_line\u001b[0m\u001b[0;34m(\u001b[0m\u001b[0mframe\u001b[0m\u001b[0;34m)\u001b[0m\u001b[0;34m\u001b[0m\u001b[0m\n\u001b[0m\u001b[1;32m     50\u001b[0m         \u001b[0;32mif\u001b[0m \u001b[0mevent\u001b[0m \u001b[0;34m==\u001b[0m \u001b[0;34m'call'\u001b[0m\u001b[0;34m:\u001b[0m\u001b[0;34m\u001b[0m\u001b[0m\n\u001b[1;32m     51\u001b[0m             \u001b[0;32mreturn\u001b[0m \u001b[0mself\u001b[0m\u001b[0;34m.\u001b[0m\u001b[0mdispatch_call\u001b[0m\u001b[0;34m(\u001b[0m\u001b[0mframe\u001b[0m\u001b[0;34m,\u001b[0m \u001b[0marg\u001b[0m\u001b[0;34m)\u001b[0m\u001b[0;34m\u001b[0m\u001b[0m\n",
      "\u001b[0;32m/Users/xavier/anaconda/lib/python2.7/bdb.pyc\u001b[0m in \u001b[0;36mdispatch_line\u001b[0;34m(self, frame)\u001b[0m\n\u001b[1;32m     66\u001b[0m         \u001b[0;32mif\u001b[0m \u001b[0mself\u001b[0m\u001b[0;34m.\u001b[0m\u001b[0mstop_here\u001b[0m\u001b[0;34m(\u001b[0m\u001b[0mframe\u001b[0m\u001b[0;34m)\u001b[0m \u001b[0;32mor\u001b[0m \u001b[0mself\u001b[0m\u001b[0;34m.\u001b[0m\u001b[0mbreak_here\u001b[0m\u001b[0;34m(\u001b[0m\u001b[0mframe\u001b[0m\u001b[0;34m)\u001b[0m\u001b[0;34m:\u001b[0m\u001b[0;34m\u001b[0m\u001b[0m\n\u001b[1;32m     67\u001b[0m             \u001b[0mself\u001b[0m\u001b[0;34m.\u001b[0m\u001b[0muser_line\u001b[0m\u001b[0;34m(\u001b[0m\u001b[0mframe\u001b[0m\u001b[0;34m)\u001b[0m\u001b[0;34m\u001b[0m\u001b[0m\n\u001b[0;32m---> 68\u001b[0;31m             \u001b[0;32mif\u001b[0m \u001b[0mself\u001b[0m\u001b[0;34m.\u001b[0m\u001b[0mquitting\u001b[0m\u001b[0;34m:\u001b[0m \u001b[0;32mraise\u001b[0m \u001b[0mBdbQuit\u001b[0m\u001b[0;34m\u001b[0m\u001b[0m\n\u001b[0m\u001b[1;32m     69\u001b[0m         \u001b[0;32mreturn\u001b[0m \u001b[0mself\u001b[0m\u001b[0;34m.\u001b[0m\u001b[0mtrace_dispatch\u001b[0m\u001b[0;34m\u001b[0m\u001b[0m\n\u001b[1;32m     70\u001b[0m \u001b[0;34m\u001b[0m\u001b[0m\n",
      "\u001b[0;31mBdbQuit\u001b[0m: "
     ]
    }
   ],
   "source": [
    "qa_prod.remake_frame_qa(remake_plots=True)"
   ]
  },
  {
   "cell_type": "code",
   "execution_count": 5,
   "metadata": {
    "collapsed": true
   },
   "outputs": [],
   "source": [
    "?np.all"
   ]
  },
  {
   "cell_type": "code",
   "execution_count": null,
   "metadata": {
    "collapsed": true
   },
   "outputs": [],
   "source": []
  }
 ],
 "metadata": {
  "kernelspec": {
   "display_name": "Python 2",
   "language": "python",
   "name": "python2"
  },
  "language_info": {
   "codemirror_mode": {
    "name": "ipython",
    "version": 2
   },
   "file_extension": ".py",
   "mimetype": "text/x-python",
   "name": "python",
   "nbconvert_exporter": "python",
   "pygments_lexer": "ipython2",
   "version": "2.7.11"
  }
 },
 "nbformat": 4,
 "nbformat_minor": 0
}
