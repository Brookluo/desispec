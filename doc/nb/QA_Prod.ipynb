{
 "cells": [
  {
   "cell_type": "markdown",
   "metadata": {},
   "source": [
    "# QA_Prod (v1.1)"
   ]
  },
  {
   "cell_type": "code",
   "execution_count": 6,
   "metadata": {
    "collapsed": false
   },
   "outputs": [],
   "source": [
    "# imports\n",
    "from desispec.qa import qa_prod as dqap"
   ]
  },
  {
   "cell_type": "markdown",
   "metadata": {},
   "source": [
    "## Init\n",
    "\n",
    "    setenv DESI_SPECTRO_DATA /Users/xavier/DESI/DESI_SCRATCH/sim/madrone/"
   ]
  },
  {
   "cell_type": "code",
   "execution_count": 7,
   "metadata": {
    "collapsed": true
   },
   "outputs": [],
   "source": [
    "specprod_dir = '/Users/xavier/DESI/DESI_SCRATCH/redux/madrone/'"
   ]
  },
  {
   "cell_type": "code",
   "execution_count": 8,
   "metadata": {
    "collapsed": false
   },
   "outputs": [],
   "source": [
    "reload(dqap)\n",
    "qa_prod = dqap.QA_Prod(specprod_dir)"
   ]
  },
  {
   "cell_type": "markdown",
   "metadata": {},
   "source": [
    "## Remake"
   ]
  },
  {
   "cell_type": "code",
   "execution_count": 4,
   "metadata": {
    "collapsed": false
   },
   "outputs": [
    {
     "name": "stdout",
     "output_type": "stream",
     "text": [
      "INFO:qa.py:81:load_qa_frame: Loaded QA file /Users/xavier/DESI/DESI_SCRATCH/redux/madrone/calib2d/20160607/qa-r0-00000003.yaml\n"
     ]
    },
    {
     "name": "stderr",
     "output_type": "stream",
     "text": [
      "/Users/xavier/anaconda/lib/python2.7/site-packages/matplotlib/__init__.py:1350: UserWarning:  This call to matplotlib.use() has no effect\n",
      "because the backend has already been chosen;\n",
      "matplotlib.use() must be called *before* pylab, matplotlib.pyplot,\n",
      "or matplotlib.backends is imported for the first time.\n",
      "\n",
      "  warnings.warn(_use_error_msg)\n",
      "INFO:DESI:Loaded QA file /Users/xavier/DESI/DESI_SCRATCH/redux/madrone/calib2d/20160607/qa-r0-00000003.yaml\n"
     ]
    },
    {
     "name": "stdout",
     "output_type": "stream",
     "text": [
      "WARNING:fiberflat.py:547:qa_fiberflat: Low counts in meanspec = 37157.8\n"
     ]
    },
    {
     "name": "stderr",
     "output_type": "stream",
     "text": [
      "WARNING:DESI:Low counts in meanspec = 37157.8\n"
     ]
    },
    {
     "name": "stdout",
     "output_type": "stream",
     "text": [
      "WARNING:fiberflat.py:569:qa_fiberflat: Discrepant flux in fiberflat: 0.00117388, 205\n"
     ]
    },
    {
     "name": "stderr",
     "output_type": "stream",
     "text": [
      "WARNING:DESI:Discrepant flux in fiberflat: 0.00117388, 205\n"
     ]
    },
    {
     "name": "stdout",
     "output_type": "stream",
     "text": [
      "WARNING:fiberflat.py:574:qa_fiberflat: Large offset in fiberflat: 0.158535\n"
     ]
    },
    {
     "name": "stderr",
     "output_type": "stream",
     "text": [
      "WARNING:DESI:Large offset in fiberflat: 0.158535\n"
     ]
    },
    {
     "name": "stdout",
     "output_type": "stream",
     "text": [
      "WARNING:fiberflat.py:582:qa_fiberflat: Discrepant mean in fiberflat: 0.0151337, 446\n"
     ]
    },
    {
     "name": "stderr",
     "output_type": "stream",
     "text": [
      "WARNING:DESI:Discrepant mean in fiberflat: 0.0151337, 446\n"
     ]
    },
    {
     "name": "stdout",
     "output_type": "stream",
     "text": [
      "WARNING:fiberflat.py:591:qa_fiberflat: Large RMS in fiberflat: 0.0165781, 45\n"
     ]
    },
    {
     "name": "stderr",
     "output_type": "stream",
     "text": [
      "WARNING:DESI:Large RMS in fiberflat: 0.0165781, 45\n"
     ]
    },
    {
     "name": "stdout",
     "output_type": "stream",
     "text": [
      "Wrote QA SkyRes file: /Users/xavier/DESI/DESI_SCRATCH/redux/madrone/calib2d/20160607/qa-flat-r0-00000003.pdf\n",
      "INFO:qa.py:81:load_qa_frame: Loaded QA file /Users/xavier/DESI/DESI_SCRATCH/redux/madrone/calib2d/20160607/qa-r1-00000003.yaml\n"
     ]
    },
    {
     "name": "stderr",
     "output_type": "stream",
     "text": [
      "INFO:DESI:Loaded QA file /Users/xavier/DESI/DESI_SCRATCH/redux/madrone/calib2d/20160607/qa-r1-00000003.yaml\n"
     ]
    },
    {
     "name": "stdout",
     "output_type": "stream",
     "text": [
      "WARNING:fiberflat.py:547:qa_fiberflat: Low counts in meanspec = 37108.4\n"
     ]
    },
    {
     "name": "stderr",
     "output_type": "stream",
     "text": [
      "WARNING:DESI:Low counts in meanspec = 37108.4\n"
     ]
    },
    {
     "name": "stdout",
     "output_type": "stream",
     "text": [
      "WARNING:fiberflat.py:569:qa_fiberflat: Discrepant flux in fiberflat: 0.00135612, 300\n"
     ]
    },
    {
     "name": "stderr",
     "output_type": "stream",
     "text": [
      "WARNING:DESI:Discrepant flux in fiberflat: 0.00135612, 300\n"
     ]
    },
    {
     "name": "stdout",
     "output_type": "stream",
     "text": [
      "WARNING:fiberflat.py:574:qa_fiberflat: Large offset in fiberflat: 0.435616\n"
     ]
    },
    {
     "name": "stderr",
     "output_type": "stream",
     "text": [
      "WARNING:DESI:Large offset in fiberflat: 0.435616\n"
     ]
    },
    {
     "name": "stdout",
     "output_type": "stream",
     "text": [
      "WARNING:fiberflat.py:582:qa_fiberflat: Discrepant mean in fiberflat: 0.0467809, 44\n"
     ]
    },
    {
     "name": "stderr",
     "output_type": "stream",
     "text": [
      "WARNING:DESI:Discrepant mean in fiberflat: 0.0467809, 44\n"
     ]
    },
    {
     "name": "stdout",
     "output_type": "stream",
     "text": [
      "WARNING:fiberflat.py:591:qa_fiberflat: Large RMS in fiberflat: 0.052332, 441\n"
     ]
    },
    {
     "name": "stderr",
     "output_type": "stream",
     "text": [
      "WARNING:DESI:Large RMS in fiberflat: 0.052332, 441\n"
     ]
    },
    {
     "name": "stdout",
     "output_type": "stream",
     "text": [
      "Wrote QA SkyRes file: /Users/xavier/DESI/DESI_SCRATCH/redux/madrone/calib2d/20160607/qa-flat-r1-00000003.pdf\n",
      "INFO:qa.py:81:load_qa_frame: Loaded QA file /Users/xavier/DESI/DESI_SCRATCH/redux/madrone/calib2d/20160607/qa-b0-00000003.yaml\n"
     ]
    },
    {
     "name": "stderr",
     "output_type": "stream",
     "text": [
      "INFO:DESI:Loaded QA file /Users/xavier/DESI/DESI_SCRATCH/redux/madrone/calib2d/20160607/qa-b0-00000003.yaml\n"
     ]
    },
    {
     "name": "stdout",
     "output_type": "stream",
     "text": [
      "WARNING:fiberflat.py:547:qa_fiberflat: Low counts in meanspec = 78348\n"
     ]
    },
    {
     "name": "stderr",
     "output_type": "stream",
     "text": [
      "WARNING:DESI:Low counts in meanspec = 78348\n"
     ]
    },
    {
     "name": "stdout",
     "output_type": "stream",
     "text": [
      "WARNING:fiberflat.py:569:qa_fiberflat: Discrepant flux in fiberflat: 0.00130881, 210\n"
     ]
    },
    {
     "name": "stderr",
     "output_type": "stream",
     "text": [
      "WARNING:DESI:Discrepant flux in fiberflat: 0.00130881, 210\n"
     ]
    },
    {
     "name": "stdout",
     "output_type": "stream",
     "text": [
      "WARNING:fiberflat.py:582:qa_fiberflat: Discrepant mean in fiberflat: 0.00218552, 445\n"
     ]
    },
    {
     "name": "stderr",
     "output_type": "stream",
     "text": [
      "WARNING:DESI:Discrepant mean in fiberflat: 0.00218552, 445\n"
     ]
    },
    {
     "name": "stdout",
     "output_type": "stream",
     "text": [
      "WARNING:fiberflat.py:591:qa_fiberflat: Large RMS in fiberflat: 0.00801048, 447\n"
     ]
    },
    {
     "name": "stderr",
     "output_type": "stream",
     "text": [
      "WARNING:DESI:Large RMS in fiberflat: 0.00801048, 447\n"
     ]
    },
    {
     "name": "stdout",
     "output_type": "stream",
     "text": [
      "Wrote QA SkyRes file: /Users/xavier/DESI/DESI_SCRATCH/redux/madrone/calib2d/20160607/qa-flat-b0-00000003.pdf\n",
      "INFO:qa.py:81:load_qa_frame: Loaded QA file /Users/xavier/DESI/DESI_SCRATCH/redux/madrone/calib2d/20160607/qa-b1-00000003.yaml\n"
     ]
    },
    {
     "name": "stderr",
     "output_type": "stream",
     "text": [
      "INFO:DESI:Loaded QA file /Users/xavier/DESI/DESI_SCRATCH/redux/madrone/calib2d/20160607/qa-b1-00000003.yaml\n"
     ]
    },
    {
     "name": "stdout",
     "output_type": "stream",
     "text": [
      "WARNING:fiberflat.py:547:qa_fiberflat: Low counts in meanspec = 78444.9\n"
     ]
    },
    {
     "name": "stderr",
     "output_type": "stream",
     "text": [
      "WARNING:DESI:Low counts in meanspec = 78444.9\n"
     ]
    },
    {
     "name": "stdout",
     "output_type": "stream",
     "text": [
      "WARNING:fiberflat.py:569:qa_fiberflat: Discrepant flux in fiberflat: 0.00129243, 400\n"
     ]
    },
    {
     "name": "stderr",
     "output_type": "stream",
     "text": [
      "WARNING:DESI:Discrepant flux in fiberflat: 0.00129243, 400\n"
     ]
    },
    {
     "name": "stdout",
     "output_type": "stream",
     "text": [
      "WARNING:fiberflat.py:582:qa_fiberflat: Discrepant mean in fiberflat: 0.00333923, 59\n"
     ]
    },
    {
     "name": "stderr",
     "output_type": "stream",
     "text": [
      "WARNING:DESI:Discrepant mean in fiberflat: 0.00333923, 59\n"
     ]
    },
    {
     "name": "stdout",
     "output_type": "stream",
     "text": [
      "WARNING:fiberflat.py:591:qa_fiberflat: Large RMS in fiberflat: 0.00802624, 48\n"
     ]
    },
    {
     "name": "stderr",
     "output_type": "stream",
     "text": [
      "WARNING:DESI:Large RMS in fiberflat: 0.00802624, 48\n"
     ]
    },
    {
     "name": "stdout",
     "output_type": "stream",
     "text": [
      "Wrote QA SkyRes file: /Users/xavier/DESI/DESI_SCRATCH/redux/madrone/calib2d/20160607/qa-flat-b1-00000003.pdf\n",
      "INFO:qa.py:81:load_qa_frame: Loaded QA file /Users/xavier/DESI/DESI_SCRATCH/redux/madrone/calib2d/20160607/qa-z0-00000003.yaml\n"
     ]
    },
    {
     "name": "stderr",
     "output_type": "stream",
     "text": [
      "INFO:DESI:Loaded QA file /Users/xavier/DESI/DESI_SCRATCH/redux/madrone/calib2d/20160607/qa-z0-00000003.yaml\n"
     ]
    },
    {
     "name": "stdout",
     "output_type": "stream",
     "text": [
      "WARNING:fiberflat.py:569:qa_fiberflat: Discrepant flux in fiberflat: 0.00367254, 259\n"
     ]
    },
    {
     "name": "stderr",
     "output_type": "stream",
     "text": [
      "WARNING:DESI:Discrepant flux in fiberflat: 0.00367254, 259\n"
     ]
    },
    {
     "name": "stdout",
     "output_type": "stream",
     "text": [
      "WARNING:fiberflat.py:574:qa_fiberflat: Large offset in fiberflat: 0.195059\n"
     ]
    },
    {
     "name": "stderr",
     "output_type": "stream",
     "text": [
      "WARNING:DESI:Large offset in fiberflat: 0.195059\n"
     ]
    },
    {
     "name": "stdout",
     "output_type": "stream",
     "text": [
      "WARNING:fiberflat.py:582:qa_fiberflat: Discrepant mean in fiberflat: 0.0396644, 454\n"
     ]
    },
    {
     "name": "stderr",
     "output_type": "stream",
     "text": [
      "WARNING:DESI:Discrepant mean in fiberflat: 0.0396644, 454\n"
     ]
    },
    {
     "name": "stdout",
     "output_type": "stream",
     "text": [
      "WARNING:fiberflat.py:591:qa_fiberflat: Large RMS in fiberflat: 0.0224109, 448\n"
     ]
    },
    {
     "name": "stderr",
     "output_type": "stream",
     "text": [
      "WARNING:DESI:Large RMS in fiberflat: 0.0224109, 448\n"
     ]
    },
    {
     "name": "stdout",
     "output_type": "stream",
     "text": [
      "Wrote QA SkyRes file: /Users/xavier/DESI/DESI_SCRATCH/redux/madrone/calib2d/20160607/qa-flat-z0-00000003.pdf\n",
      "INFO:qa.py:81:load_qa_frame: Loaded QA file /Users/xavier/DESI/DESI_SCRATCH/redux/madrone/calib2d/20160607/qa-z1-00000003.yaml\n"
     ]
    },
    {
     "name": "stderr",
     "output_type": "stream",
     "text": [
      "INFO:DESI:Loaded QA file /Users/xavier/DESI/DESI_SCRATCH/redux/madrone/calib2d/20160607/qa-z1-00000003.yaml\n"
     ]
    },
    {
     "name": "stdout",
     "output_type": "stream",
     "text": [
      "WARNING:fiberflat.py:569:qa_fiberflat: Discrepant flux in fiberflat: 0.00335505, 400\n"
     ]
    },
    {
     "name": "stderr",
     "output_type": "stream",
     "text": [
      "WARNING:DESI:Discrepant flux in fiberflat: 0.00335505, 400\n"
     ]
    },
    {
     "name": "stdout",
     "output_type": "stream",
     "text": [
      "WARNING:fiberflat.py:574:qa_fiberflat: Large offset in fiberflat: 0.210367\n"
     ]
    },
    {
     "name": "stderr",
     "output_type": "stream",
     "text": [
      "WARNING:DESI:Large offset in fiberflat: 0.210367\n"
     ]
    },
    {
     "name": "stdout",
     "output_type": "stream",
     "text": [
      "WARNING:fiberflat.py:582:qa_fiberflat: Discrepant mean in fiberflat: 0.0238405, 174\n"
     ]
    },
    {
     "name": "stderr",
     "output_type": "stream",
     "text": [
      "WARNING:DESI:Discrepant mean in fiberflat: 0.0238405, 174\n"
     ]
    },
    {
     "name": "stdout",
     "output_type": "stream",
     "text": [
      "WARNING:fiberflat.py:591:qa_fiberflat: Large RMS in fiberflat: 0.0205416, 14\n"
     ]
    },
    {
     "name": "stderr",
     "output_type": "stream",
     "text": [
      "WARNING:DESI:Large RMS in fiberflat: 0.0205416, 14\n"
     ]
    },
    {
     "name": "stdout",
     "output_type": "stream",
     "text": [
      "Wrote QA SkyRes file: /Users/xavier/DESI/DESI_SCRATCH/redux/madrone/calib2d/20160607/qa-flat-z1-00000003.pdf\n",
      "INFO:qa.py:81:load_qa_frame: Loaded QA file /Users/xavier/DESI/DESI_SCRATCH/redux/madrone/calib2d/20160607/qa-r0-00000004.yaml\n"
     ]
    },
    {
     "name": "stderr",
     "output_type": "stream",
     "text": [
      "INFO:DESI:Loaded QA file /Users/xavier/DESI/DESI_SCRATCH/redux/madrone/calib2d/20160607/qa-r0-00000004.yaml\n"
     ]
    },
    {
     "name": "stdout",
     "output_type": "stream",
     "text": [
      "WARNING:fiberflat.py:547:qa_fiberflat: Low counts in meanspec = 37114.7\n"
     ]
    },
    {
     "name": "stderr",
     "output_type": "stream",
     "text": [
      "WARNING:DESI:Low counts in meanspec = 37114.7\n"
     ]
    },
    {
     "name": "stdout",
     "output_type": "stream",
     "text": [
      "WARNING:fiberflat.py:569:qa_fiberflat: Discrepant flux in fiberflat: 0.00129257, 268\n"
     ]
    },
    {
     "name": "stderr",
     "output_type": "stream",
     "text": [
      "WARNING:DESI:Discrepant flux in fiberflat: 0.00129257, 268\n"
     ]
    },
    {
     "name": "stdout",
     "output_type": "stream",
     "text": [
      "WARNING:fiberflat.py:582:qa_fiberflat: Discrepant mean in fiberflat: 0.00788963, 160\n"
     ]
    },
    {
     "name": "stderr",
     "output_type": "stream",
     "text": [
      "WARNING:DESI:Discrepant mean in fiberflat: 0.00788963, 160\n"
     ]
    },
    {
     "name": "stdout",
     "output_type": "stream",
     "text": [
      "WARNING:fiberflat.py:591:qa_fiberflat: Large RMS in fiberflat: 0.0167342, 45\n"
     ]
    },
    {
     "name": "stderr",
     "output_type": "stream",
     "text": [
      "WARNING:DESI:Large RMS in fiberflat: 0.0167342, 45\n"
     ]
    },
    {
     "name": "stdout",
     "output_type": "stream",
     "text": [
      "Wrote QA SkyRes file: /Users/xavier/DESI/DESI_SCRATCH/redux/madrone/calib2d/20160607/qa-flat-r0-00000004.pdf\n",
      "INFO:qa.py:81:load_qa_frame: Loaded QA file /Users/xavier/DESI/DESI_SCRATCH/redux/madrone/calib2d/20160607/qa-r1-00000004.yaml\n"
     ]
    },
    {
     "name": "stderr",
     "output_type": "stream",
     "text": [
      "INFO:DESI:Loaded QA file /Users/xavier/DESI/DESI_SCRATCH/redux/madrone/calib2d/20160607/qa-r1-00000004.yaml\n"
     ]
    },
    {
     "name": "stdout",
     "output_type": "stream",
     "text": [
      "WARNING:fiberflat.py:547:qa_fiberflat: Low counts in meanspec = 37129\n"
     ]
    },
    {
     "name": "stderr",
     "output_type": "stream",
     "text": [
      "WARNING:DESI:Low counts in meanspec = 37129\n"
     ]
    },
    {
     "name": "stdout",
     "output_type": "stream",
     "text": [
      "WARNING:fiberflat.py:569:qa_fiberflat: Discrepant flux in fiberflat: 0.00189086, 247\n"
     ]
    },
    {
     "name": "stderr",
     "output_type": "stream",
     "text": [
      "WARNING:DESI:Discrepant flux in fiberflat: 0.00189086, 247\n"
     ]
    },
    {
     "name": "stdout",
     "output_type": "stream",
     "text": [
      "WARNING:fiberflat.py:574:qa_fiberflat: Large offset in fiberflat: 0.405313\n"
     ]
    },
    {
     "name": "stderr",
     "output_type": "stream",
     "text": [
      "WARNING:DESI:Large offset in fiberflat: 0.405313\n"
     ]
    },
    {
     "name": "stdout",
     "output_type": "stream",
     "text": [
      "WARNING:fiberflat.py:582:qa_fiberflat: Discrepant mean in fiberflat: 0.0205664, 441\n"
     ]
    },
    {
     "name": "stderr",
     "output_type": "stream",
     "text": [
      "WARNING:DESI:Discrepant mean in fiberflat: 0.0205664, 441\n"
     ]
    },
    {
     "name": "stdout",
     "output_type": "stream",
     "text": [
      "WARNING:fiberflat.py:591:qa_fiberflat: Large RMS in fiberflat: 0.0526389, 441\n"
     ]
    },
    {
     "name": "stderr",
     "output_type": "stream",
     "text": [
      "WARNING:DESI:Large RMS in fiberflat: 0.0526389, 441\n"
     ]
    },
    {
     "name": "stdout",
     "output_type": "stream",
     "text": [
      "Wrote QA SkyRes file: /Users/xavier/DESI/DESI_SCRATCH/redux/madrone/calib2d/20160607/qa-flat-r1-00000004.pdf\n",
      "INFO:qa.py:81:load_qa_frame: Loaded QA file /Users/xavier/DESI/DESI_SCRATCH/redux/madrone/calib2d/20160607/qa-b0-00000004.yaml\n"
     ]
    },
    {
     "name": "stderr",
     "output_type": "stream",
     "text": [
      "INFO:DESI:Loaded QA file /Users/xavier/DESI/DESI_SCRATCH/redux/madrone/calib2d/20160607/qa-b0-00000004.yaml\n"
     ]
    },
    {
     "name": "stdout",
     "output_type": "stream",
     "text": [
      "WARNING:fiberflat.py:547:qa_fiberflat: Low counts in meanspec = 78482.3\n"
     ]
    },
    {
     "name": "stderr",
     "output_type": "stream",
     "text": [
      "WARNING:DESI:Low counts in meanspec = 78482.3\n"
     ]
    },
    {
     "name": "stdout",
     "output_type": "stream",
     "text": [
      "WARNING:fiberflat.py:569:qa_fiberflat: Discrepant flux in fiberflat: 0.00124332, 395\n"
     ]
    },
    {
     "name": "stderr",
     "output_type": "stream",
     "text": [
      "WARNING:DESI:Discrepant flux in fiberflat: 0.00124332, 395\n"
     ]
    },
    {
     "name": "stdout",
     "output_type": "stream",
     "text": [
      "WARNING:fiberflat.py:582:qa_fiberflat: Discrepant mean in fiberflat: 0.00148255, 239\n"
     ]
    },
    {
     "name": "stderr",
     "output_type": "stream",
     "text": [
      "WARNING:DESI:Discrepant mean in fiberflat: 0.00148255, 239\n"
     ]
    },
    {
     "name": "stdout",
     "output_type": "stream",
     "text": [
      "WARNING:fiberflat.py:591:qa_fiberflat: Large RMS in fiberflat: 0.00788844, 498\n"
     ]
    },
    {
     "name": "stderr",
     "output_type": "stream",
     "text": [
      "WARNING:DESI:Large RMS in fiberflat: 0.00788844, 498\n"
     ]
    },
    {
     "name": "stdout",
     "output_type": "stream",
     "text": [
      "Wrote QA SkyRes file: /Users/xavier/DESI/DESI_SCRATCH/redux/madrone/calib2d/20160607/qa-flat-b0-00000004.pdf\n",
      "INFO:qa.py:81:load_qa_frame: Loaded QA file /Users/xavier/DESI/DESI_SCRATCH/redux/madrone/calib2d/20160607/qa-b1-00000004.yaml\n"
     ]
    },
    {
     "name": "stderr",
     "output_type": "stream",
     "text": [
      "INFO:DESI:Loaded QA file /Users/xavier/DESI/DESI_SCRATCH/redux/madrone/calib2d/20160607/qa-b1-00000004.yaml\n"
     ]
    },
    {
     "name": "stdout",
     "output_type": "stream",
     "text": [
      "WARNING:fiberflat.py:547:qa_fiberflat: Low counts in meanspec = 78335.8\n"
     ]
    },
    {
     "name": "stderr",
     "output_type": "stream",
     "text": [
      "WARNING:DESI:Low counts in meanspec = 78335.8\n"
     ]
    },
    {
     "name": "stdout",
     "output_type": "stream",
     "text": [
      "WARNING:fiberflat.py:569:qa_fiberflat: Discrepant flux in fiberflat: 0.00129859, 314\n"
     ]
    },
    {
     "name": "stderr",
     "output_type": "stream",
     "text": [
      "WARNING:DESI:Discrepant flux in fiberflat: 0.00129859, 314\n"
     ]
    },
    {
     "name": "stdout",
     "output_type": "stream",
     "text": [
      "WARNING:fiberflat.py:582:qa_fiberflat: Discrepant mean in fiberflat: 0.00141853, 492\n"
     ]
    },
    {
     "name": "stderr",
     "output_type": "stream",
     "text": [
      "WARNING:DESI:Discrepant mean in fiberflat: 0.00141853, 492\n"
     ]
    },
    {
     "name": "stdout",
     "output_type": "stream",
     "text": [
      "WARNING:fiberflat.py:591:qa_fiberflat: Large RMS in fiberflat: 0.007921, 184\n"
     ]
    },
    {
     "name": "stderr",
     "output_type": "stream",
     "text": [
      "WARNING:DESI:Large RMS in fiberflat: 0.007921, 184\n"
     ]
    },
    {
     "name": "stdout",
     "output_type": "stream",
     "text": [
      "Wrote QA SkyRes file: /Users/xavier/DESI/DESI_SCRATCH/redux/madrone/calib2d/20160607/qa-flat-b1-00000004.pdf\n",
      "INFO:qa.py:81:load_qa_frame: Loaded QA file /Users/xavier/DESI/DESI_SCRATCH/redux/madrone/calib2d/20160607/qa-z0-00000004.yaml\n"
     ]
    },
    {
     "name": "stderr",
     "output_type": "stream",
     "text": [
      "INFO:DESI:Loaded QA file /Users/xavier/DESI/DESI_SCRATCH/redux/madrone/calib2d/20160607/qa-z0-00000004.yaml\n"
     ]
    },
    {
     "name": "stdout",
     "output_type": "stream",
     "text": [
      "WARNING:fiberflat.py:569:qa_fiberflat: Discrepant flux in fiberflat: 0.00340091, 259\n"
     ]
    },
    {
     "name": "stderr",
     "output_type": "stream",
     "text": [
      "WARNING:DESI:Discrepant flux in fiberflat: 0.00340091, 259\n"
     ]
    },
    {
     "name": "stdout",
     "output_type": "stream",
     "text": [
      "WARNING:fiberflat.py:574:qa_fiberflat: Large offset in fiberflat: 0.195634\n"
     ]
    },
    {
     "name": "stderr",
     "output_type": "stream",
     "text": [
      "WARNING:DESI:Large offset in fiberflat: 0.195634\n"
     ]
    },
    {
     "name": "stdout",
     "output_type": "stream",
     "text": [
      "WARNING:fiberflat.py:582:qa_fiberflat: Discrepant mean in fiberflat: 0.0350391, 249\n"
     ]
    },
    {
     "name": "stderr",
     "output_type": "stream",
     "text": [
      "WARNING:DESI:Discrepant mean in fiberflat: 0.0350391, 249\n"
     ]
    },
    {
     "name": "stdout",
     "output_type": "stream",
     "text": [
      "WARNING:fiberflat.py:591:qa_fiberflat: Large RMS in fiberflat: 0.0223984, 448\n"
     ]
    },
    {
     "name": "stderr",
     "output_type": "stream",
     "text": [
      "WARNING:DESI:Large RMS in fiberflat: 0.0223984, 448\n"
     ]
    },
    {
     "name": "stdout",
     "output_type": "stream",
     "text": [
      "Wrote QA SkyRes file: /Users/xavier/DESI/DESI_SCRATCH/redux/madrone/calib2d/20160607/qa-flat-z0-00000004.pdf\n",
      "INFO:qa.py:81:load_qa_frame: Loaded QA file /Users/xavier/DESI/DESI_SCRATCH/redux/madrone/calib2d/20160607/qa-z1-00000004.yaml\n"
     ]
    },
    {
     "name": "stderr",
     "output_type": "stream",
     "text": [
      "INFO:DESI:Loaded QA file /Users/xavier/DESI/DESI_SCRATCH/redux/madrone/calib2d/20160607/qa-z1-00000004.yaml\n"
     ]
    },
    {
     "name": "stdout",
     "output_type": "stream",
     "text": [
      "WARNING:fiberflat.py:569:qa_fiberflat: Discrepant flux in fiberflat: 0.00367, 15\n"
     ]
    },
    {
     "name": "stderr",
     "output_type": "stream",
     "text": [
      "WARNING:DESI:Discrepant flux in fiberflat: 0.00367, 15\n"
     ]
    },
    {
     "name": "stdout",
     "output_type": "stream",
     "text": [
      "WARNING:fiberflat.py:574:qa_fiberflat: Large offset in fiberflat: 0.177258\n"
     ]
    },
    {
     "name": "stderr",
     "output_type": "stream",
     "text": [
      "WARNING:DESI:Large offset in fiberflat: 0.177258\n"
     ]
    },
    {
     "name": "stdout",
     "output_type": "stream",
     "text": [
      "WARNING:fiberflat.py:582:qa_fiberflat: Discrepant mean in fiberflat: 0.0180792, 174\n"
     ]
    },
    {
     "name": "stderr",
     "output_type": "stream",
     "text": [
      "WARNING:DESI:Discrepant mean in fiberflat: 0.0180792, 174\n"
     ]
    },
    {
     "name": "stdout",
     "output_type": "stream",
     "text": [
      "WARNING:fiberflat.py:591:qa_fiberflat: Large RMS in fiberflat: 0.0204286, 14\n"
     ]
    },
    {
     "name": "stderr",
     "output_type": "stream",
     "text": [
      "WARNING:DESI:Large RMS in fiberflat: 0.0204286, 14\n"
     ]
    },
    {
     "name": "stdout",
     "output_type": "stream",
     "text": [
      "Wrote QA SkyRes file: /Users/xavier/DESI/DESI_SCRATCH/redux/madrone/calib2d/20160607/qa-flat-z1-00000004.pdf\n",
      "INFO:qa.py:81:load_qa_frame: Loaded QA file /Users/xavier/DESI/DESI_SCRATCH/redux/madrone/calib2d/20160607/qa-r0-00000005.yaml\n"
     ]
    },
    {
     "name": "stderr",
     "output_type": "stream",
     "text": [
      "INFO:DESI:Loaded QA file /Users/xavier/DESI/DESI_SCRATCH/redux/madrone/calib2d/20160607/qa-r0-00000005.yaml\n"
     ]
    },
    {
     "name": "stdout",
     "output_type": "stream",
     "text": [
      "WARNING:fiberflat.py:547:qa_fiberflat: Low counts in meanspec = 37082.2\n"
     ]
    },
    {
     "name": "stderr",
     "output_type": "stream",
     "text": [
      "WARNING:DESI:Low counts in meanspec = 37082.2\n"
     ]
    },
    {
     "name": "stdout",
     "output_type": "stream",
     "text": [
      "WARNING:fiberflat.py:569:qa_fiberflat: Discrepant flux in fiberflat: 0.00128267, 268\n"
     ]
    },
    {
     "name": "stderr",
     "output_type": "stream",
     "text": [
      "WARNING:DESI:Discrepant flux in fiberflat: 0.00128267, 268\n"
     ]
    },
    {
     "name": "stdout",
     "output_type": "stream",
     "text": [
      "WARNING:fiberflat.py:574:qa_fiberflat: Large offset in fiberflat: 0.157317\n"
     ]
    },
    {
     "name": "stderr",
     "output_type": "stream",
     "text": [
      "WARNING:DESI:Large offset in fiberflat: 0.157317\n"
     ]
    },
    {
     "name": "stdout",
     "output_type": "stream",
     "text": [
      "WARNING:fiberflat.py:582:qa_fiberflat: Discrepant mean in fiberflat: 0.0137753, 39\n"
     ]
    },
    {
     "name": "stderr",
     "output_type": "stream",
     "text": [
      "WARNING:DESI:Discrepant mean in fiberflat: 0.0137753, 39\n"
     ]
    },
    {
     "name": "stdout",
     "output_type": "stream",
     "text": [
      "WARNING:fiberflat.py:591:qa_fiberflat: Large RMS in fiberflat: 0.0168592, 45\n"
     ]
    },
    {
     "name": "stderr",
     "output_type": "stream",
     "text": [
      "WARNING:DESI:Large RMS in fiberflat: 0.0168592, 45\n"
     ]
    },
    {
     "name": "stdout",
     "output_type": "stream",
     "text": [
      "Wrote QA SkyRes file: /Users/xavier/DESI/DESI_SCRATCH/redux/madrone/calib2d/20160607/qa-flat-r0-00000005.pdf\n",
      "INFO:qa.py:81:load_qa_frame: Loaded QA file /Users/xavier/DESI/DESI_SCRATCH/redux/madrone/calib2d/20160607/qa-r1-00000005.yaml\n"
     ]
    },
    {
     "name": "stderr",
     "output_type": "stream",
     "text": [
      "INFO:DESI:Loaded QA file /Users/xavier/DESI/DESI_SCRATCH/redux/madrone/calib2d/20160607/qa-r1-00000005.yaml\n"
     ]
    },
    {
     "name": "stdout",
     "output_type": "stream",
     "text": [
      "WARNING:fiberflat.py:547:qa_fiberflat: Low counts in meanspec = 37112.3\n"
     ]
    },
    {
     "name": "stderr",
     "output_type": "stream",
     "text": [
      "WARNING:DESI:Low counts in meanspec = 37112.3\n"
     ]
    },
    {
     "name": "stdout",
     "output_type": "stream",
     "text": [
      "WARNING:fiberflat.py:569:qa_fiberflat: Discrepant flux in fiberflat: 0.00146411, 324\n"
     ]
    },
    {
     "name": "stderr",
     "output_type": "stream",
     "text": [
      "WARNING:DESI:Discrepant flux in fiberflat: 0.00146411, 324\n"
     ]
    },
    {
     "name": "stdout",
     "output_type": "stream",
     "text": [
      "WARNING:fiberflat.py:574:qa_fiberflat: Large offset in fiberflat: 0.919158\n"
     ]
    },
    {
     "name": "stderr",
     "output_type": "stream",
     "text": [
      "WARNING:DESI:Large offset in fiberflat: 0.919158\n"
     ]
    },
    {
     "name": "stdout",
     "output_type": "stream",
     "text": [
      "WARNING:fiberflat.py:582:qa_fiberflat: Discrepant mean in fiberflat: 0.015547, 441\n"
     ]
    },
    {
     "name": "stderr",
     "output_type": "stream",
     "text": [
      "WARNING:DESI:Discrepant mean in fiberflat: 0.015547, 441\n"
     ]
    },
    {
     "name": "stdout",
     "output_type": "stream",
     "text": [
      "WARNING:fiberflat.py:591:qa_fiberflat: Large RMS in fiberflat: 0.0537721, 441\n"
     ]
    },
    {
     "name": "stderr",
     "output_type": "stream",
     "text": [
      "WARNING:DESI:Large RMS in fiberflat: 0.0537721, 441\n"
     ]
    },
    {
     "name": "stdout",
     "output_type": "stream",
     "text": [
      "Wrote QA SkyRes file: /Users/xavier/DESI/DESI_SCRATCH/redux/madrone/calib2d/20160607/qa-flat-r1-00000005.pdf\n",
      "INFO:qa.py:81:load_qa_frame: Loaded QA file /Users/xavier/DESI/DESI_SCRATCH/redux/madrone/calib2d/20160607/qa-b0-00000005.yaml\n"
     ]
    },
    {
     "name": "stderr",
     "output_type": "stream",
     "text": [
      "INFO:DESI:Loaded QA file /Users/xavier/DESI/DESI_SCRATCH/redux/madrone/calib2d/20160607/qa-b0-00000005.yaml\n"
     ]
    },
    {
     "name": "stdout",
     "output_type": "stream",
     "text": [
      "WARNING:fiberflat.py:547:qa_fiberflat: Low counts in meanspec = 78321\n"
     ]
    },
    {
     "name": "stderr",
     "output_type": "stream",
     "text": [
      "WARNING:DESI:Low counts in meanspec = 78321\n"
     ]
    },
    {
     "name": "stdout",
     "output_type": "stream",
     "text": [
      "WARNING:fiberflat.py:569:qa_fiberflat: Discrepant flux in fiberflat: 0.001363, 367\n"
     ]
    },
    {
     "name": "stderr",
     "output_type": "stream",
     "text": [
      "WARNING:DESI:Discrepant flux in fiberflat: 0.001363, 367\n"
     ]
    },
    {
     "name": "stdout",
     "output_type": "stream",
     "text": [
      "WARNING:fiberflat.py:582:qa_fiberflat: Discrepant mean in fiberflat: 0.0016681, 299\n"
     ]
    },
    {
     "name": "stderr",
     "output_type": "stream",
     "text": [
      "WARNING:DESI:Discrepant mean in fiberflat: 0.0016681, 299\n"
     ]
    },
    {
     "name": "stdout",
     "output_type": "stream",
     "text": [
      "WARNING:fiberflat.py:591:qa_fiberflat: Large RMS in fiberflat: 0.0079466, 437\n"
     ]
    },
    {
     "name": "stderr",
     "output_type": "stream",
     "text": [
      "WARNING:DESI:Large RMS in fiberflat: 0.0079466, 437\n"
     ]
    },
    {
     "name": "stdout",
     "output_type": "stream",
     "text": [
      "Wrote QA SkyRes file: /Users/xavier/DESI/DESI_SCRATCH/redux/madrone/calib2d/20160607/qa-flat-b0-00000005.pdf\n",
      "INFO:qa.py:81:load_qa_frame: Loaded QA file /Users/xavier/DESI/DESI_SCRATCH/redux/madrone/calib2d/20160607/qa-b1-00000005.yaml\n"
     ]
    },
    {
     "name": "stderr",
     "output_type": "stream",
     "text": [
      "INFO:DESI:Loaded QA file /Users/xavier/DESI/DESI_SCRATCH/redux/madrone/calib2d/20160607/qa-b1-00000005.yaml\n"
     ]
    },
    {
     "name": "stdout",
     "output_type": "stream",
     "text": [
      "WARNING:fiberflat.py:547:qa_fiberflat: Low counts in meanspec = 78364.5\n"
     ]
    },
    {
     "name": "stderr",
     "output_type": "stream",
     "text": [
      "WARNING:DESI:Low counts in meanspec = 78364.5\n"
     ]
    },
    {
     "name": "stdout",
     "output_type": "stream",
     "text": [
      "WARNING:fiberflat.py:569:qa_fiberflat: Discrepant flux in fiberflat: 0.00123105, 256\n"
     ]
    },
    {
     "name": "stderr",
     "output_type": "stream",
     "text": [
      "WARNING:DESI:Discrepant flux in fiberflat: 0.00123105, 256\n"
     ]
    },
    {
     "name": "stdout",
     "output_type": "stream",
     "text": [
      "WARNING:fiberflat.py:582:qa_fiberflat: Discrepant mean in fiberflat: 0.00250363, 495\n"
     ]
    },
    {
     "name": "stderr",
     "output_type": "stream",
     "text": [
      "WARNING:DESI:Discrepant mean in fiberflat: 0.00250363, 495\n"
     ]
    },
    {
     "name": "stdout",
     "output_type": "stream",
     "text": [
      "WARNING:fiberflat.py:591:qa_fiberflat: Large RMS in fiberflat: 0.00791223, 80\n"
     ]
    },
    {
     "name": "stderr",
     "output_type": "stream",
     "text": [
      "WARNING:DESI:Large RMS in fiberflat: 0.00791223, 80\n"
     ]
    },
    {
     "name": "stdout",
     "output_type": "stream",
     "text": [
      "Wrote QA SkyRes file: /Users/xavier/DESI/DESI_SCRATCH/redux/madrone/calib2d/20160607/qa-flat-b1-00000005.pdf\n",
      "INFO:qa.py:81:load_qa_frame: Loaded QA file /Users/xavier/DESI/DESI_SCRATCH/redux/madrone/calib2d/20160607/qa-z0-00000005.yaml\n"
     ]
    },
    {
     "name": "stderr",
     "output_type": "stream",
     "text": [
      "INFO:DESI:Loaded QA file /Users/xavier/DESI/DESI_SCRATCH/redux/madrone/calib2d/20160607/qa-z0-00000005.yaml\n"
     ]
    },
    {
     "name": "stdout",
     "output_type": "stream",
     "text": [
      "WARNING:fiberflat.py:569:qa_fiberflat: Discrepant flux in fiberflat: 0.00355213, 259\n"
     ]
    },
    {
     "name": "stderr",
     "output_type": "stream",
     "text": [
      "WARNING:DESI:Discrepant flux in fiberflat: 0.00355213, 259\n"
     ]
    },
    {
     "name": "stdout",
     "output_type": "stream",
     "text": [
      "WARNING:fiberflat.py:574:qa_fiberflat: Large offset in fiberflat: 0.19243\n"
     ]
    },
    {
     "name": "stderr",
     "output_type": "stream",
     "text": [
      "WARNING:DESI:Large offset in fiberflat: 0.19243\n"
     ]
    },
    {
     "name": "stdout",
     "output_type": "stream",
     "text": [
      "WARNING:fiberflat.py:582:qa_fiberflat: Discrepant mean in fiberflat: 0.0285459, 232\n"
     ]
    },
    {
     "name": "stderr",
     "output_type": "stream",
     "text": [
      "WARNING:DESI:Discrepant mean in fiberflat: 0.0285459, 232\n"
     ]
    },
    {
     "name": "stdout",
     "output_type": "stream",
     "text": [
      "WARNING:fiberflat.py:591:qa_fiberflat: Large RMS in fiberflat: 0.0224893, 448\n"
     ]
    },
    {
     "name": "stderr",
     "output_type": "stream",
     "text": [
      "WARNING:DESI:Large RMS in fiberflat: 0.0224893, 448\n"
     ]
    },
    {
     "name": "stdout",
     "output_type": "stream",
     "text": [
      "Wrote QA SkyRes file: /Users/xavier/DESI/DESI_SCRATCH/redux/madrone/calib2d/20160607/qa-flat-z0-00000005.pdf\n",
      "INFO:qa.py:81:load_qa_frame: Loaded QA file /Users/xavier/DESI/DESI_SCRATCH/redux/madrone/calib2d/20160607/qa-z1-00000005.yaml\n"
     ]
    },
    {
     "name": "stderr",
     "output_type": "stream",
     "text": [
      "INFO:DESI:Loaded QA file /Users/xavier/DESI/DESI_SCRATCH/redux/madrone/calib2d/20160607/qa-z1-00000005.yaml\n"
     ]
    },
    {
     "name": "stdout",
     "output_type": "stream",
     "text": [
      "WARNING:fiberflat.py:569:qa_fiberflat: Discrepant flux in fiberflat: 0.00336685, 15\n"
     ]
    },
    {
     "name": "stderr",
     "output_type": "stream",
     "text": [
      "WARNING:DESI:Discrepant flux in fiberflat: 0.00336685, 15\n"
     ]
    },
    {
     "name": "stdout",
     "output_type": "stream",
     "text": [
      "WARNING:fiberflat.py:574:qa_fiberflat: Large offset in fiberflat: 0.616393\n"
     ]
    },
    {
     "name": "stderr",
     "output_type": "stream",
     "text": [
      "WARNING:DESI:Large offset in fiberflat: 0.616393\n"
     ]
    },
    {
     "name": "stdout",
     "output_type": "stream",
     "text": [
      "WARNING:fiberflat.py:582:qa_fiberflat: Discrepant mean in fiberflat: 0.0182033, 465\n"
     ]
    },
    {
     "name": "stderr",
     "output_type": "stream",
     "text": [
      "WARNING:DESI:Discrepant mean in fiberflat: 0.0182033, 465\n"
     ]
    },
    {
     "name": "stdout",
     "output_type": "stream",
     "text": [
      "WARNING:fiberflat.py:591:qa_fiberflat: Large RMS in fiberflat: 0.0206151, 14\n"
     ]
    },
    {
     "name": "stderr",
     "output_type": "stream",
     "text": [
      "WARNING:DESI:Large RMS in fiberflat: 0.0206151, 14\n"
     ]
    },
    {
     "name": "stdout",
     "output_type": "stream",
     "text": [
      "Wrote QA SkyRes file: /Users/xavier/DESI/DESI_SCRATCH/redux/madrone/calib2d/20160607/qa-flat-z1-00000005.pdf\n",
      "INFO:qa.py:81:load_qa_frame: Loaded QA file /Users/xavier/DESI/DESI_SCRATCH/redux/madrone/exposures/20160607/00000006/qa-r0-00000006.yaml\n"
     ]
    },
    {
     "name": "stderr",
     "output_type": "stream",
     "text": [
      "INFO:DESI:Loaded QA file /Users/xavier/DESI/DESI_SCRATCH/redux/madrone/exposures/20160607/00000006/qa-r0-00000006.yaml\n"
     ]
    },
    {
     "name": "stdout",
     "output_type": "stream",
     "text": [
      "WARNING:sky.py:266:qa_skysub: Bad Sky Subtraction in 30 fibers\n"
     ]
    },
    {
     "name": "stderr",
     "output_type": "stream",
     "text": [
      "WARNING:DESI:Bad Sky Subtraction in 30 fibers\n"
     ]
    },
    {
     "name": "stdout",
     "output_type": "stream",
     "text": [
      "INFO:sky.py:271:qa_skysub: Median residual for sky fibers = 0.68364\n"
     ]
    },
    {
     "name": "stderr",
     "output_type": "stream",
     "text": [
      "INFO:DESI:Median residual for sky fibers = 0.68364\n"
     ]
    },
    {
     "name": "stdout",
     "output_type": "stream",
     "text": [
      "Wrote QA SkyRes file: /Users/xavier/DESI/DESI_SCRATCH/redux/madrone/exposures/20160607/00000006/qa-sky-r0-00000006.pdf\n",
      "WARNING:fluxcalibration.py:637:qa_fluxcalib: Bad standard star ZP 0.529519, in fiber 0\n"
     ]
    },
    {
     "name": "stderr",
     "output_type": "stream",
     "text": [
      "/Users/xavier/DESI/desispec/py/desispec/fluxcalibration.py:568: RuntimeWarning: invalid value encountered in log10\n",
      "  ZP_AB = -2.5 * np.log10(ZP_fnu) - 48.6\n",
      "WARNING:DESI:Bad standard star ZP 0.529519, in fiber 0\n"
     ]
    },
    {
     "name": "stdout",
     "output_type": "stream",
     "text": [
      "Wrote QA SkyRes file: /Users/xavier/DESI/DESI_SCRATCH/redux/madrone/exposures/20160607/00000006/qa-flux-r0-00000006.pdf\n",
      "INFO:qa.py:81:load_qa_frame: Loaded QA file /Users/xavier/DESI/DESI_SCRATCH/redux/madrone/exposures/20160607/00000006/qa-r1-00000006.yaml\n"
     ]
    },
    {
     "name": "stderr",
     "output_type": "stream",
     "text": [
      "INFO:DESI:Loaded QA file /Users/xavier/DESI/DESI_SCRATCH/redux/madrone/exposures/20160607/00000006/qa-r1-00000006.yaml\n"
     ]
    },
    {
     "name": "stdout",
     "output_type": "stream",
     "text": [
      "WARNING:sky.py:266:qa_skysub: Bad Sky Subtraction in 30 fibers\n"
     ]
    },
    {
     "name": "stderr",
     "output_type": "stream",
     "text": [
      "WARNING:DESI:Bad Sky Subtraction in 30 fibers\n"
     ]
    },
    {
     "name": "stdout",
     "output_type": "stream",
     "text": [
      "INFO:sky.py:271:qa_skysub: Median residual for sky fibers = 0.779633\n"
     ]
    },
    {
     "name": "stderr",
     "output_type": "stream",
     "text": [
      "INFO:DESI:Median residual for sky fibers = 0.779633\n"
     ]
    },
    {
     "name": "stdout",
     "output_type": "stream",
     "text": [
      "Wrote QA SkyRes file: /Users/xavier/DESI/DESI_SCRATCH/redux/madrone/exposures/20160607/00000006/qa-sky-r1-00000006.pdf\n",
      "WARNING:fluxcalibration.py:637:qa_fluxcalib: Bad standard star ZP 0.306946, in fiber 0\n"
     ]
    },
    {
     "name": "stderr",
     "output_type": "stream",
     "text": [
      "WARNING:DESI:Bad standard star ZP 0.306946, in fiber 0\n"
     ]
    },
    {
     "name": "stdout",
     "output_type": "stream",
     "text": [
      "Wrote QA SkyRes file: /Users/xavier/DESI/DESI_SCRATCH/redux/madrone/exposures/20160607/00000006/qa-flux-r1-00000006.pdf\n",
      "INFO:qa.py:81:load_qa_frame: Loaded QA file /Users/xavier/DESI/DESI_SCRATCH/redux/madrone/exposures/20160607/00000006/qa-b0-00000006.yaml\n"
     ]
    },
    {
     "name": "stderr",
     "output_type": "stream",
     "text": [
      "INFO:DESI:Loaded QA file /Users/xavier/DESI/DESI_SCRATCH/redux/madrone/exposures/20160607/00000006/qa-b0-00000006.yaml\n"
     ]
    },
    {
     "name": "stdout",
     "output_type": "stream",
     "text": [
      "WARNING:sky.py:266:qa_skysub: Bad Sky Subtraction in 37 fibers\n"
     ]
    },
    {
     "name": "stderr",
     "output_type": "stream",
     "text": [
      "WARNING:DESI:Bad Sky Subtraction in 37 fibers\n"
     ]
    },
    {
     "name": "stdout",
     "output_type": "stream",
     "text": [
      "INFO:sky.py:271:qa_skysub: Median residual for sky fibers = 0.714767\n"
     ]
    },
    {
     "name": "stderr",
     "output_type": "stream",
     "text": [
      "INFO:DESI:Median residual for sky fibers = 0.714767\n"
     ]
    },
    {
     "name": "stdout",
     "output_type": "stream",
     "text": [
      "Wrote QA SkyRes file: /Users/xavier/DESI/DESI_SCRATCH/redux/madrone/exposures/20160607/00000006/qa-sky-b0-00000006.pdf\n",
      "WARNING:fluxcalibration.py:637:qa_fluxcalib: Bad standard star ZP 0.427825, in fiber 0\n"
     ]
    },
    {
     "name": "stderr",
     "output_type": "stream",
     "text": [
      "WARNING:DESI:Bad standard star ZP 0.427825, in fiber 0\n"
     ]
    },
    {
     "name": "stdout",
     "output_type": "stream",
     "text": [
      "Wrote QA SkyRes file: /Users/xavier/DESI/DESI_SCRATCH/redux/madrone/exposures/20160607/00000006/qa-flux-b0-00000006.pdf\n",
      "INFO:qa.py:81:load_qa_frame: Loaded QA file /Users/xavier/DESI/DESI_SCRATCH/redux/madrone/exposures/20160607/00000006/qa-b1-00000006.yaml\n"
     ]
    },
    {
     "name": "stderr",
     "output_type": "stream",
     "text": [
      "INFO:DESI:Loaded QA file /Users/xavier/DESI/DESI_SCRATCH/redux/madrone/exposures/20160607/00000006/qa-b1-00000006.yaml\n"
     ]
    },
    {
     "name": "stdout",
     "output_type": "stream",
     "text": [
      "WARNING:sky.py:266:qa_skysub: Bad Sky Subtraction in 37 fibers\n"
     ]
    },
    {
     "name": "stderr",
     "output_type": "stream",
     "text": [
      "WARNING:DESI:Bad Sky Subtraction in 37 fibers\n"
     ]
    },
    {
     "name": "stdout",
     "output_type": "stream",
     "text": [
      "INFO:sky.py:271:qa_skysub: Median residual for sky fibers = 0.781754\n"
     ]
    },
    {
     "name": "stderr",
     "output_type": "stream",
     "text": [
      "INFO:DESI:Median residual for sky fibers = 0.781754\n"
     ]
    },
    {
     "name": "stdout",
     "output_type": "stream",
     "text": [
      "Wrote QA SkyRes file: /Users/xavier/DESI/DESI_SCRATCH/redux/madrone/exposures/20160607/00000006/qa-sky-b1-00000006.pdf\n",
      "WARNING:fluxcalibration.py:637:qa_fluxcalib: Bad standard star ZP 0.256171, in fiber 0\n"
     ]
    },
    {
     "name": "stderr",
     "output_type": "stream",
     "text": [
      "WARNING:DESI:Bad standard star ZP 0.256171, in fiber 0\n"
     ]
    },
    {
     "name": "stdout",
     "output_type": "stream",
     "text": [
      "Wrote QA SkyRes file: /Users/xavier/DESI/DESI_SCRATCH/redux/madrone/exposures/20160607/00000006/qa-flux-b1-00000006.pdf\n",
      "INFO:qa.py:81:load_qa_frame: Loaded QA file /Users/xavier/DESI/DESI_SCRATCH/redux/madrone/exposures/20160607/00000006/qa-z0-00000006.yaml\n"
     ]
    },
    {
     "name": "stderr",
     "output_type": "stream",
     "text": [
      "INFO:DESI:Loaded QA file /Users/xavier/DESI/DESI_SCRATCH/redux/madrone/exposures/20160607/00000006/qa-z0-00000006.yaml\n"
     ]
    },
    {
     "name": "stdout",
     "output_type": "stream",
     "text": [
      "WARNING:sky.py:266:qa_skysub: Bad Sky Subtraction in 37 fibers\n"
     ]
    },
    {
     "name": "stderr",
     "output_type": "stream",
     "text": [
      "WARNING:DESI:Bad Sky Subtraction in 37 fibers\n"
     ]
    },
    {
     "name": "stdout",
     "output_type": "stream",
     "text": [
      "INFO:sky.py:271:qa_skysub: Median residual for sky fibers = 0.561035\n"
     ]
    },
    {
     "name": "stderr",
     "output_type": "stream",
     "text": [
      "INFO:DESI:Median residual for sky fibers = 0.561035\n"
     ]
    },
    {
     "name": "stdout",
     "output_type": "stream",
     "text": [
      "Wrote QA SkyRes file: /Users/xavier/DESI/DESI_SCRATCH/redux/madrone/exposures/20160607/00000006/qa-sky-z0-00000006.pdf\n",
      "WARNING:fluxcalibration.py:637:qa_fluxcalib: Bad standard star ZP 0.441451, in fiber 0\n"
     ]
    },
    {
     "name": "stderr",
     "output_type": "stream",
     "text": [
      "WARNING:DESI:Bad standard star ZP 0.441451, in fiber 0\n"
     ]
    },
    {
     "name": "stdout",
     "output_type": "stream",
     "text": [
      "Wrote QA SkyRes file: /Users/xavier/DESI/DESI_SCRATCH/redux/madrone/exposures/20160607/00000006/qa-flux-z0-00000006.pdf\n",
      "INFO:qa.py:81:load_qa_frame: Loaded QA file /Users/xavier/DESI/DESI_SCRATCH/redux/madrone/exposures/20160607/00000006/qa-z1-00000006.yaml\n"
     ]
    },
    {
     "name": "stderr",
     "output_type": "stream",
     "text": [
      "INFO:DESI:Loaded QA file /Users/xavier/DESI/DESI_SCRATCH/redux/madrone/exposures/20160607/00000006/qa-z1-00000006.yaml\n"
     ]
    },
    {
     "name": "stdout",
     "output_type": "stream",
     "text": [
      "WARNING:sky.py:266:qa_skysub: Bad Sky Subtraction in 37 fibers\n"
     ]
    },
    {
     "name": "stderr",
     "output_type": "stream",
     "text": [
      "WARNING:DESI:Bad Sky Subtraction in 37 fibers\n"
     ]
    },
    {
     "name": "stdout",
     "output_type": "stream",
     "text": [
      "INFO:sky.py:271:qa_skysub: Median residual for sky fibers = 0.687958\n"
     ]
    },
    {
     "name": "stderr",
     "output_type": "stream",
     "text": [
      "INFO:DESI:Median residual for sky fibers = 0.687958\n"
     ]
    },
    {
     "name": "stdout",
     "output_type": "stream",
     "text": [
      "Wrote QA SkyRes file: /Users/xavier/DESI/DESI_SCRATCH/redux/madrone/exposures/20160607/00000006/qa-sky-z1-00000006.pdf\n",
      "WARNING:fluxcalibration.py:637:qa_fluxcalib: Bad standard star ZP 0.27606, in fiber 0\n"
     ]
    },
    {
     "name": "stderr",
     "output_type": "stream",
     "text": [
      "WARNING:DESI:Bad standard star ZP 0.27606, in fiber 0\n"
     ]
    },
    {
     "name": "stdout",
     "output_type": "stream",
     "text": [
      "Wrote QA SkyRes file: /Users/xavier/DESI/DESI_SCRATCH/redux/madrone/exposures/20160607/00000006/qa-flux-z1-00000006.pdf\n",
      "INFO:qa.py:81:load_qa_frame: Loaded QA file /Users/xavier/DESI/DESI_SCRATCH/redux/madrone/exposures/20160607/00000007/qa-r0-00000007.yaml\n"
     ]
    },
    {
     "name": "stderr",
     "output_type": "stream",
     "text": [
      "INFO:DESI:Loaded QA file /Users/xavier/DESI/DESI_SCRATCH/redux/madrone/exposures/20160607/00000007/qa-r0-00000007.yaml\n"
     ]
    },
    {
     "name": "stdout",
     "output_type": "stream",
     "text": [
      "WARNING:sky.py:266:qa_skysub: Bad Sky Subtraction in 18 fibers\n"
     ]
    },
    {
     "name": "stderr",
     "output_type": "stream",
     "text": [
      "WARNING:DESI:Bad Sky Subtraction in 18 fibers\n"
     ]
    },
    {
     "name": "stdout",
     "output_type": "stream",
     "text": [
      "INFO:sky.py:271:qa_skysub: Median residual for sky fibers = 0.824932\n"
     ]
    },
    {
     "name": "stderr",
     "output_type": "stream",
     "text": [
      "INFO:DESI:Median residual for sky fibers = 0.824932\n"
     ]
    },
    {
     "name": "stdout",
     "output_type": "stream",
     "text": [
      "Wrote QA SkyRes file: /Users/xavier/DESI/DESI_SCRATCH/redux/madrone/exposures/20160607/00000007/qa-sky-r0-00000007.pdf\n",
      "WARNING:fluxcalibration.py:637:qa_fluxcalib: Bad standard star ZP 0.514517, in fiber 0\n"
     ]
    },
    {
     "name": "stderr",
     "output_type": "stream",
     "text": [
      "WARNING:DESI:Bad standard star ZP 0.514517, in fiber 0\n"
     ]
    },
    {
     "name": "stdout",
     "output_type": "stream",
     "text": [
      "Wrote QA SkyRes file: /Users/xavier/DESI/DESI_SCRATCH/redux/madrone/exposures/20160607/00000007/qa-flux-r0-00000007.pdf\n",
      "INFO:qa.py:81:load_qa_frame: Loaded QA file /Users/xavier/DESI/DESI_SCRATCH/redux/madrone/exposures/20160607/00000007/qa-r1-00000007.yaml\n"
     ]
    },
    {
     "name": "stderr",
     "output_type": "stream",
     "text": [
      "INFO:DESI:Loaded QA file /Users/xavier/DESI/DESI_SCRATCH/redux/madrone/exposures/20160607/00000007/qa-r1-00000007.yaml\n"
     ]
    },
    {
     "name": "stdout",
     "output_type": "stream",
     "text": [
      "WARNING:sky.py:266:qa_skysub: Bad Sky Subtraction in 14 fibers\n"
     ]
    },
    {
     "name": "stderr",
     "output_type": "stream",
     "text": [
      "WARNING:DESI:Bad Sky Subtraction in 14 fibers\n"
     ]
    },
    {
     "name": "stdout",
     "output_type": "stream",
     "text": [
      "INFO:sky.py:271:qa_skysub: Median residual for sky fibers = 0.685858\n"
     ]
    },
    {
     "name": "stderr",
     "output_type": "stream",
     "text": [
      "INFO:DESI:Median residual for sky fibers = 0.685858\n"
     ]
    },
    {
     "name": "stdout",
     "output_type": "stream",
     "text": [
      "Wrote QA SkyRes file: /Users/xavier/DESI/DESI_SCRATCH/redux/madrone/exposures/20160607/00000007/qa-sky-r1-00000007.pdf\n",
      "WARNING:fluxcalibration.py:637:qa_fluxcalib: Bad standard star ZP 0.512005, in fiber 0\n"
     ]
    },
    {
     "name": "stderr",
     "output_type": "stream",
     "text": [
      "WARNING:DESI:Bad standard star ZP 0.512005, in fiber 0\n"
     ]
    },
    {
     "name": "stdout",
     "output_type": "stream",
     "text": [
      "Wrote QA SkyRes file: /Users/xavier/DESI/DESI_SCRATCH/redux/madrone/exposures/20160607/00000007/qa-flux-r1-00000007.pdf\n",
      "INFO:qa.py:81:load_qa_frame: Loaded QA file /Users/xavier/DESI/DESI_SCRATCH/redux/madrone/exposures/20160607/00000007/qa-b0-00000007.yaml\n"
     ]
    },
    {
     "name": "stderr",
     "output_type": "stream",
     "text": [
      "INFO:DESI:Loaded QA file /Users/xavier/DESI/DESI_SCRATCH/redux/madrone/exposures/20160607/00000007/qa-b0-00000007.yaml\n"
     ]
    },
    {
     "name": "stdout",
     "output_type": "stream",
     "text": [
      "WARNING:sky.py:266:qa_skysub: Bad Sky Subtraction in 38 fibers\n"
     ]
    },
    {
     "name": "stderr",
     "output_type": "stream",
     "text": [
      "WARNING:DESI:Bad Sky Subtraction in 38 fibers\n"
     ]
    },
    {
     "name": "stdout",
     "output_type": "stream",
     "text": [
      "INFO:sky.py:271:qa_skysub: Median residual for sky fibers = 0.797745\n"
     ]
    },
    {
     "name": "stderr",
     "output_type": "stream",
     "text": [
      "INFO:DESI:Median residual for sky fibers = 0.797745\n"
     ]
    },
    {
     "name": "stdout",
     "output_type": "stream",
     "text": [
      "Wrote QA SkyRes file: /Users/xavier/DESI/DESI_SCRATCH/redux/madrone/exposures/20160607/00000007/qa-sky-b0-00000007.pdf\n",
      "WARNING:fluxcalibration.py:637:qa_fluxcalib: Bad standard star ZP 0.480262, in fiber 0\n"
     ]
    },
    {
     "name": "stderr",
     "output_type": "stream",
     "text": [
      "WARNING:DESI:Bad standard star ZP 0.480262, in fiber 0\n"
     ]
    },
    {
     "name": "stdout",
     "output_type": "stream",
     "text": [
      "Wrote QA SkyRes file: /Users/xavier/DESI/DESI_SCRATCH/redux/madrone/exposures/20160607/00000007/qa-flux-b0-00000007.pdf\n",
      "INFO:qa.py:81:load_qa_frame: Loaded QA file /Users/xavier/DESI/DESI_SCRATCH/redux/madrone/exposures/20160607/00000007/qa-b1-00000007.yaml\n"
     ]
    },
    {
     "name": "stderr",
     "output_type": "stream",
     "text": [
      "INFO:DESI:Loaded QA file /Users/xavier/DESI/DESI_SCRATCH/redux/madrone/exposures/20160607/00000007/qa-b1-00000007.yaml\n"
     ]
    },
    {
     "name": "stdout",
     "output_type": "stream",
     "text": [
      "WARNING:sky.py:266:qa_skysub: Bad Sky Subtraction in 35 fibers\n"
     ]
    },
    {
     "name": "stderr",
     "output_type": "stream",
     "text": [
      "WARNING:DESI:Bad Sky Subtraction in 35 fibers\n"
     ]
    },
    {
     "name": "stdout",
     "output_type": "stream",
     "text": [
      "INFO:sky.py:271:qa_skysub: Median residual for sky fibers = 0.764565\n"
     ]
    },
    {
     "name": "stderr",
     "output_type": "stream",
     "text": [
      "INFO:DESI:Median residual for sky fibers = 0.764565\n"
     ]
    },
    {
     "name": "stdout",
     "output_type": "stream",
     "text": [
      "Wrote QA SkyRes file: /Users/xavier/DESI/DESI_SCRATCH/redux/madrone/exposures/20160607/00000007/qa-sky-b1-00000007.pdf\n",
      "WARNING:fluxcalibration.py:637:qa_fluxcalib: Bad standard star ZP 0.501066, in fiber 0\n"
     ]
    },
    {
     "name": "stderr",
     "output_type": "stream",
     "text": [
      "WARNING:DESI:Bad standard star ZP 0.501066, in fiber 0\n"
     ]
    },
    {
     "name": "stdout",
     "output_type": "stream",
     "text": [
      "Wrote QA SkyRes file: /Users/xavier/DESI/DESI_SCRATCH/redux/madrone/exposures/20160607/00000007/qa-flux-b1-00000007.pdf\n",
      "INFO:qa.py:81:load_qa_frame: Loaded QA file /Users/xavier/DESI/DESI_SCRATCH/redux/madrone/exposures/20160607/00000007/qa-z0-00000007.yaml\n"
     ]
    },
    {
     "name": "stderr",
     "output_type": "stream",
     "text": [
      "INFO:DESI:Loaded QA file /Users/xavier/DESI/DESI_SCRATCH/redux/madrone/exposures/20160607/00000007/qa-z0-00000007.yaml\n"
     ]
    },
    {
     "name": "stdout",
     "output_type": "stream",
     "text": [
      "WARNING:sky.py:266:qa_skysub: Bad Sky Subtraction in 38 fibers\n"
     ]
    },
    {
     "name": "stderr",
     "output_type": "stream",
     "text": [
      "WARNING:DESI:Bad Sky Subtraction in 38 fibers\n"
     ]
    },
    {
     "name": "stdout",
     "output_type": "stream",
     "text": [
      "INFO:sky.py:271:qa_skysub: Median residual for sky fibers = 0.482605\n"
     ]
    },
    {
     "name": "stderr",
     "output_type": "stream",
     "text": [
      "INFO:DESI:Median residual for sky fibers = 0.482605\n"
     ]
    },
    {
     "name": "stdout",
     "output_type": "stream",
     "text": [
      "Wrote QA SkyRes file: /Users/xavier/DESI/DESI_SCRATCH/redux/madrone/exposures/20160607/00000007/qa-sky-z0-00000007.pdf\n",
      "WARNING:fluxcalibration.py:637:qa_fluxcalib: Bad standard star ZP 0.466796, in fiber 0\n"
     ]
    },
    {
     "name": "stderr",
     "output_type": "stream",
     "text": [
      "WARNING:DESI:Bad standard star ZP 0.466796, in fiber 0\n"
     ]
    },
    {
     "name": "stdout",
     "output_type": "stream",
     "text": [
      "Wrote QA SkyRes file: /Users/xavier/DESI/DESI_SCRATCH/redux/madrone/exposures/20160607/00000007/qa-flux-z0-00000007.pdf\n",
      "INFO:qa.py:81:load_qa_frame: Loaded QA file /Users/xavier/DESI/DESI_SCRATCH/redux/madrone/exposures/20160607/00000007/qa-z1-00000007.yaml\n"
     ]
    },
    {
     "name": "stderr",
     "output_type": "stream",
     "text": [
      "INFO:DESI:Loaded QA file /Users/xavier/DESI/DESI_SCRATCH/redux/madrone/exposures/20160607/00000007/qa-z1-00000007.yaml\n"
     ]
    },
    {
     "name": "stdout",
     "output_type": "stream",
     "text": [
      "WARNING:sky.py:266:qa_skysub: Bad Sky Subtraction in 36 fibers\n"
     ]
    },
    {
     "name": "stderr",
     "output_type": "stream",
     "text": [
      "WARNING:DESI:Bad Sky Subtraction in 36 fibers\n"
     ]
    },
    {
     "name": "stdout",
     "output_type": "stream",
     "text": [
      "INFO:sky.py:271:qa_skysub: Median residual for sky fibers = 0.541367\n"
     ]
    },
    {
     "name": "stderr",
     "output_type": "stream",
     "text": [
      "INFO:DESI:Median residual for sky fibers = 0.541367\n"
     ]
    },
    {
     "name": "stdout",
     "output_type": "stream",
     "text": [
      "Wrote QA SkyRes file: /Users/xavier/DESI/DESI_SCRATCH/redux/madrone/exposures/20160607/00000007/qa-sky-z1-00000007.pdf\n",
      "WARNING:fluxcalibration.py:637:qa_fluxcalib: Bad standard star ZP 0.473582, in fiber 0\n"
     ]
    },
    {
     "name": "stderr",
     "output_type": "stream",
     "text": [
      "WARNING:DESI:Bad standard star ZP 0.473582, in fiber 0\n"
     ]
    },
    {
     "name": "stdout",
     "output_type": "stream",
     "text": [
      "Wrote QA SkyRes file: /Users/xavier/DESI/DESI_SCRATCH/redux/madrone/exposures/20160607/00000007/qa-flux-z1-00000007.pdf\n",
      "INFO:qa.py:81:load_qa_frame: Loaded QA file /Users/xavier/DESI/DESI_SCRATCH/redux/madrone/exposures/20160607/00000008/qa-r0-00000008.yaml\n"
     ]
    },
    {
     "name": "stderr",
     "output_type": "stream",
     "text": [
      "INFO:DESI:Loaded QA file /Users/xavier/DESI/DESI_SCRATCH/redux/madrone/exposures/20160607/00000008/qa-r0-00000008.yaml\n"
     ]
    },
    {
     "name": "stdout",
     "output_type": "stream",
     "text": [
      "WARNING:sky.py:266:qa_skysub: Bad Sky Subtraction in 32 fibers\n"
     ]
    },
    {
     "name": "stderr",
     "output_type": "stream",
     "text": [
      "WARNING:DESI:Bad Sky Subtraction in 32 fibers\n"
     ]
    },
    {
     "name": "stdout",
     "output_type": "stream",
     "text": [
      "INFO:sky.py:271:qa_skysub: Median residual for sky fibers = 0.785324\n"
     ]
    },
    {
     "name": "stderr",
     "output_type": "stream",
     "text": [
      "INFO:DESI:Median residual for sky fibers = 0.785324\n"
     ]
    },
    {
     "name": "stdout",
     "output_type": "stream",
     "text": [
      "Wrote QA SkyRes file: /Users/xavier/DESI/DESI_SCRATCH/redux/madrone/exposures/20160607/00000008/qa-sky-r0-00000008.pdf\n",
      "WARNING:fluxcalibration.py:637:qa_fluxcalib: Bad standard star ZP 0.44742, in fiber 0\n"
     ]
    },
    {
     "name": "stderr",
     "output_type": "stream",
     "text": [
      "WARNING:DESI:Bad standard star ZP 0.44742, in fiber 0\n"
     ]
    },
    {
     "name": "stdout",
     "output_type": "stream",
     "text": [
      "Wrote QA SkyRes file: /Users/xavier/DESI/DESI_SCRATCH/redux/madrone/exposures/20160607/00000008/qa-flux-r0-00000008.pdf\n",
      "INFO:qa.py:81:load_qa_frame: Loaded QA file /Users/xavier/DESI/DESI_SCRATCH/redux/madrone/exposures/20160607/00000008/qa-r1-00000008.yaml\n"
     ]
    },
    {
     "name": "stderr",
     "output_type": "stream",
     "text": [
      "INFO:DESI:Loaded QA file /Users/xavier/DESI/DESI_SCRATCH/redux/madrone/exposures/20160607/00000008/qa-r1-00000008.yaml\n"
     ]
    },
    {
     "name": "stdout",
     "output_type": "stream",
     "text": [
      "WARNING:sky.py:266:qa_skysub: Bad Sky Subtraction in 26 fibers\n"
     ]
    },
    {
     "name": "stderr",
     "output_type": "stream",
     "text": [
      "WARNING:DESI:Bad Sky Subtraction in 26 fibers\n"
     ]
    },
    {
     "name": "stdout",
     "output_type": "stream",
     "text": [
      "INFO:sky.py:271:qa_skysub: Median residual for sky fibers = 0.808418\n"
     ]
    },
    {
     "name": "stderr",
     "output_type": "stream",
     "text": [
      "INFO:DESI:Median residual for sky fibers = 0.808418\n"
     ]
    },
    {
     "name": "stdout",
     "output_type": "stream",
     "text": [
      "Wrote QA SkyRes file: /Users/xavier/DESI/DESI_SCRATCH/redux/madrone/exposures/20160607/00000008/qa-sky-r1-00000008.pdf\n",
      "WARNING:fluxcalibration.py:637:qa_fluxcalib: Bad standard star ZP 0.491301, in fiber 0\n"
     ]
    },
    {
     "name": "stderr",
     "output_type": "stream",
     "text": [
      "WARNING:DESI:Bad standard star ZP 0.491301, in fiber 0\n"
     ]
    },
    {
     "name": "stdout",
     "output_type": "stream",
     "text": [
      "Wrote QA SkyRes file: /Users/xavier/DESI/DESI_SCRATCH/redux/madrone/exposures/20160607/00000008/qa-flux-r1-00000008.pdf\n",
      "INFO:qa.py:81:load_qa_frame: Loaded QA file /Users/xavier/DESI/DESI_SCRATCH/redux/madrone/exposures/20160607/00000008/qa-b0-00000008.yaml\n"
     ]
    },
    {
     "name": "stderr",
     "output_type": "stream",
     "text": [
      "INFO:DESI:Loaded QA file /Users/xavier/DESI/DESI_SCRATCH/redux/madrone/exposures/20160607/00000008/qa-b0-00000008.yaml\n"
     ]
    },
    {
     "name": "stdout",
     "output_type": "stream",
     "text": [
      "WARNING:sky.py:266:qa_skysub: Bad Sky Subtraction in 36 fibers\n"
     ]
    },
    {
     "name": "stderr",
     "output_type": "stream",
     "text": [
      "WARNING:DESI:Bad Sky Subtraction in 36 fibers\n"
     ]
    },
    {
     "name": "stdout",
     "output_type": "stream",
     "text": [
      "INFO:sky.py:271:qa_skysub: Median residual for sky fibers = 0.743114\n"
     ]
    },
    {
     "name": "stderr",
     "output_type": "stream",
     "text": [
      "INFO:DESI:Median residual for sky fibers = 0.743114\n"
     ]
    },
    {
     "name": "stdout",
     "output_type": "stream",
     "text": [
      "Wrote QA SkyRes file: /Users/xavier/DESI/DESI_SCRATCH/redux/madrone/exposures/20160607/00000008/qa-sky-b0-00000008.pdf\n",
      "WARNING:fluxcalibration.py:637:qa_fluxcalib: Bad standard star ZP 0.443277, in fiber 0\n"
     ]
    },
    {
     "name": "stderr",
     "output_type": "stream",
     "text": [
      "WARNING:DESI:Bad standard star ZP 0.443277, in fiber 0\n"
     ]
    },
    {
     "name": "stdout",
     "output_type": "stream",
     "text": [
      "Wrote QA SkyRes file: /Users/xavier/DESI/DESI_SCRATCH/redux/madrone/exposures/20160607/00000008/qa-flux-b0-00000008.pdf\n",
      "INFO:qa.py:81:load_qa_frame: Loaded QA file /Users/xavier/DESI/DESI_SCRATCH/redux/madrone/exposures/20160607/00000008/qa-b1-00000008.yaml\n"
     ]
    },
    {
     "name": "stderr",
     "output_type": "stream",
     "text": [
      "INFO:DESI:Loaded QA file /Users/xavier/DESI/DESI_SCRATCH/redux/madrone/exposures/20160607/00000008/qa-b1-00000008.yaml\n"
     ]
    },
    {
     "name": "stdout",
     "output_type": "stream",
     "text": [
      "WARNING:sky.py:266:qa_skysub: Bad Sky Subtraction in 36 fibers\n"
     ]
    },
    {
     "name": "stderr",
     "output_type": "stream",
     "text": [
      "WARNING:DESI:Bad Sky Subtraction in 36 fibers\n"
     ]
    },
    {
     "name": "stdout",
     "output_type": "stream",
     "text": [
      "INFO:sky.py:271:qa_skysub: Median residual for sky fibers = 0.747116\n"
     ]
    },
    {
     "name": "stderr",
     "output_type": "stream",
     "text": [
      "INFO:DESI:Median residual for sky fibers = 0.747116\n"
     ]
    },
    {
     "name": "stdout",
     "output_type": "stream",
     "text": [
      "Wrote QA SkyRes file: /Users/xavier/DESI/DESI_SCRATCH/redux/madrone/exposures/20160607/00000008/qa-sky-b1-00000008.pdf\n",
      "WARNING:fluxcalibration.py:637:qa_fluxcalib: Bad standard star ZP 0.415881, in fiber 0\n"
     ]
    },
    {
     "name": "stderr",
     "output_type": "stream",
     "text": [
      "WARNING:DESI:Bad standard star ZP 0.415881, in fiber 0\n"
     ]
    },
    {
     "name": "stdout",
     "output_type": "stream",
     "text": [
      "Wrote QA SkyRes file: /Users/xavier/DESI/DESI_SCRATCH/redux/madrone/exposures/20160607/00000008/qa-flux-b1-00000008.pdf\n",
      "INFO:qa.py:81:load_qa_frame: Loaded QA file /Users/xavier/DESI/DESI_SCRATCH/redux/madrone/exposures/20160607/00000008/qa-z0-00000008.yaml\n"
     ]
    },
    {
     "name": "stderr",
     "output_type": "stream",
     "text": [
      "INFO:DESI:Loaded QA file /Users/xavier/DESI/DESI_SCRATCH/redux/madrone/exposures/20160607/00000008/qa-z0-00000008.yaml\n"
     ]
    },
    {
     "name": "stdout",
     "output_type": "stream",
     "text": [
      "WARNING:sky.py:266:qa_skysub: Bad Sky Subtraction in 37 fibers\n"
     ]
    },
    {
     "name": "stderr",
     "output_type": "stream",
     "text": [
      "WARNING:DESI:Bad Sky Subtraction in 37 fibers\n"
     ]
    },
    {
     "name": "stdout",
     "output_type": "stream",
     "text": [
      "INFO:sky.py:271:qa_skysub: Median residual for sky fibers = 0.626495\n"
     ]
    },
    {
     "name": "stderr",
     "output_type": "stream",
     "text": [
      "INFO:DESI:Median residual for sky fibers = 0.626495\n"
     ]
    },
    {
     "name": "stdout",
     "output_type": "stream",
     "text": [
      "Wrote QA SkyRes file: /Users/xavier/DESI/DESI_SCRATCH/redux/madrone/exposures/20160607/00000008/qa-sky-z0-00000008.pdf\n",
      "WARNING:fluxcalibration.py:637:qa_fluxcalib: Bad standard star ZP 0.441102, in fiber 0\n"
     ]
    },
    {
     "name": "stderr",
     "output_type": "stream",
     "text": [
      "WARNING:DESI:Bad standard star ZP 0.441102, in fiber 0\n"
     ]
    },
    {
     "name": "stdout",
     "output_type": "stream",
     "text": [
      "Wrote QA SkyRes file: /Users/xavier/DESI/DESI_SCRATCH/redux/madrone/exposures/20160607/00000008/qa-flux-z0-00000008.pdf\n",
      "INFO:qa.py:81:load_qa_frame: Loaded QA file /Users/xavier/DESI/DESI_SCRATCH/redux/madrone/exposures/20160607/00000008/qa-z1-00000008.yaml\n"
     ]
    },
    {
     "name": "stderr",
     "output_type": "stream",
     "text": [
      "INFO:DESI:Loaded QA file /Users/xavier/DESI/DESI_SCRATCH/redux/madrone/exposures/20160607/00000008/qa-z1-00000008.yaml\n"
     ]
    },
    {
     "name": "stdout",
     "output_type": "stream",
     "text": [
      "WARNING:sky.py:266:qa_skysub: Bad Sky Subtraction in 37 fibers\n"
     ]
    },
    {
     "name": "stderr",
     "output_type": "stream",
     "text": [
      "WARNING:DESI:Bad Sky Subtraction in 37 fibers\n"
     ]
    },
    {
     "name": "stdout",
     "output_type": "stream",
     "text": [
      "INFO:sky.py:271:qa_skysub: Median residual for sky fibers = 0.579102\n"
     ]
    },
    {
     "name": "stderr",
     "output_type": "stream",
     "text": [
      "INFO:DESI:Median residual for sky fibers = 0.579102\n"
     ]
    },
    {
     "name": "stdout",
     "output_type": "stream",
     "text": [
      "Wrote QA SkyRes file: /Users/xavier/DESI/DESI_SCRATCH/redux/madrone/exposures/20160607/00000008/qa-sky-z1-00000008.pdf\n",
      "WARNING:fluxcalibration.py:637:qa_fluxcalib: Bad standard star ZP 0.43904, in fiber 0\n"
     ]
    },
    {
     "name": "stderr",
     "output_type": "stream",
     "text": [
      "WARNING:DESI:Bad standard star ZP 0.43904, in fiber 0\n"
     ]
    },
    {
     "name": "stdout",
     "output_type": "stream",
     "text": [
      "Wrote QA SkyRes file: /Users/xavier/DESI/DESI_SCRATCH/redux/madrone/exposures/20160607/00000008/qa-flux-z1-00000008.pdf\n"
     ]
    }
   ],
   "source": [
    "qa_prod.remake_frame_qa(remake_plots=True)"
   ]
  },
  {
   "cell_type": "markdown",
   "metadata": {},
   "source": [
    "## Slurp"
   ]
  },
  {
   "cell_type": "code",
   "execution_count": 9,
   "metadata": {
    "collapsed": false
   },
   "outputs": [
    {
     "name": "stdout",
     "output_type": "stream",
     "text": [
      "INFO:qa_prod.py:127:slurp: Resetting qa_exps in qa_prod\n"
     ]
    },
    {
     "name": "stderr",
     "output_type": "stream",
     "text": [
      "INFO:DESI:Resetting qa_exps in qa_prod\n"
     ]
    },
    {
     "name": "stdout",
     "output_type": "stream",
     "text": [
      "INFO:qa.py:81:load_qa_frame: Loaded QA file /Users/xavier/DESI/DESI_SCRATCH/redux/madrone/calib2d/20160607/qa-r0-00000004.yaml\n"
     ]
    },
    {
     "name": "stderr",
     "output_type": "stream",
     "text": [
      "INFO:DESI:Loaded QA file /Users/xavier/DESI/DESI_SCRATCH/redux/madrone/calib2d/20160607/qa-r0-00000004.yaml\n"
     ]
    },
    {
     "name": "stdout",
     "output_type": "stream",
     "text": [
      "INFO:qa.py:81:load_qa_frame: Loaded QA file /Users/xavier/DESI/DESI_SCRATCH/redux/madrone/calib2d/20160607/qa-r1-00000004.yaml\n"
     ]
    },
    {
     "name": "stderr",
     "output_type": "stream",
     "text": [
      "INFO:DESI:Loaded QA file /Users/xavier/DESI/DESI_SCRATCH/redux/madrone/calib2d/20160607/qa-r1-00000004.yaml\n"
     ]
    },
    {
     "name": "stdout",
     "output_type": "stream",
     "text": [
      "INFO:qa.py:81:load_qa_frame: Loaded QA file /Users/xavier/DESI/DESI_SCRATCH/redux/madrone/calib2d/20160607/qa-b0-00000004.yaml\n"
     ]
    },
    {
     "name": "stderr",
     "output_type": "stream",
     "text": [
      "INFO:DESI:Loaded QA file /Users/xavier/DESI/DESI_SCRATCH/redux/madrone/calib2d/20160607/qa-b0-00000004.yaml\n"
     ]
    },
    {
     "name": "stdout",
     "output_type": "stream",
     "text": [
      "INFO:qa.py:81:load_qa_frame: Loaded QA file /Users/xavier/DESI/DESI_SCRATCH/redux/madrone/calib2d/20160607/qa-b1-00000004.yaml\n"
     ]
    },
    {
     "name": "stderr",
     "output_type": "stream",
     "text": [
      "INFO:DESI:Loaded QA file /Users/xavier/DESI/DESI_SCRATCH/redux/madrone/calib2d/20160607/qa-b1-00000004.yaml\n"
     ]
    },
    {
     "name": "stdout",
     "output_type": "stream",
     "text": [
      "INFO:qa.py:81:load_qa_frame: Loaded QA file /Users/xavier/DESI/DESI_SCRATCH/redux/madrone/calib2d/20160607/qa-z0-00000004.yaml\n"
     ]
    },
    {
     "name": "stderr",
     "output_type": "stream",
     "text": [
      "INFO:DESI:Loaded QA file /Users/xavier/DESI/DESI_SCRATCH/redux/madrone/calib2d/20160607/qa-z0-00000004.yaml\n"
     ]
    },
    {
     "name": "stdout",
     "output_type": "stream",
     "text": [
      "INFO:qa.py:81:load_qa_frame: Loaded QA file /Users/xavier/DESI/DESI_SCRATCH/redux/madrone/calib2d/20160607/qa-z1-00000004.yaml\n"
     ]
    },
    {
     "name": "stderr",
     "output_type": "stream",
     "text": [
      "INFO:DESI:Loaded QA file /Users/xavier/DESI/DESI_SCRATCH/redux/madrone/calib2d/20160607/qa-z1-00000004.yaml\n"
     ]
    },
    {
     "name": "stdout",
     "output_type": "stream",
     "text": [
      "INFO:qa.py:81:load_qa_frame: Loaded QA file /Users/xavier/DESI/DESI_SCRATCH/redux/madrone/calib2d/20160607/qa-r0-00000005.yaml\n"
     ]
    },
    {
     "name": "stderr",
     "output_type": "stream",
     "text": [
      "INFO:DESI:Loaded QA file /Users/xavier/DESI/DESI_SCRATCH/redux/madrone/calib2d/20160607/qa-r0-00000005.yaml\n"
     ]
    },
    {
     "name": "stdout",
     "output_type": "stream",
     "text": [
      "INFO:qa.py:81:load_qa_frame: Loaded QA file /Users/xavier/DESI/DESI_SCRATCH/redux/madrone/calib2d/20160607/qa-r1-00000005.yaml\n"
     ]
    },
    {
     "name": "stderr",
     "output_type": "stream",
     "text": [
      "INFO:DESI:Loaded QA file /Users/xavier/DESI/DESI_SCRATCH/redux/madrone/calib2d/20160607/qa-r1-00000005.yaml\n"
     ]
    },
    {
     "name": "stdout",
     "output_type": "stream",
     "text": [
      "INFO:qa.py:81:load_qa_frame: Loaded QA file /Users/xavier/DESI/DESI_SCRATCH/redux/madrone/calib2d/20160607/qa-b0-00000005.yaml\n"
     ]
    },
    {
     "name": "stderr",
     "output_type": "stream",
     "text": [
      "INFO:DESI:Loaded QA file /Users/xavier/DESI/DESI_SCRATCH/redux/madrone/calib2d/20160607/qa-b0-00000005.yaml\n"
     ]
    },
    {
     "name": "stdout",
     "output_type": "stream",
     "text": [
      "INFO:qa.py:81:load_qa_frame: Loaded QA file /Users/xavier/DESI/DESI_SCRATCH/redux/madrone/calib2d/20160607/qa-b1-00000005.yaml\n"
     ]
    },
    {
     "name": "stderr",
     "output_type": "stream",
     "text": [
      "INFO:DESI:Loaded QA file /Users/xavier/DESI/DESI_SCRATCH/redux/madrone/calib2d/20160607/qa-b1-00000005.yaml\n"
     ]
    },
    {
     "name": "stdout",
     "output_type": "stream",
     "text": [
      "INFO:qa.py:81:load_qa_frame: Loaded QA file /Users/xavier/DESI/DESI_SCRATCH/redux/madrone/calib2d/20160607/qa-z0-00000005.yaml\n"
     ]
    },
    {
     "name": "stderr",
     "output_type": "stream",
     "text": [
      "INFO:DESI:Loaded QA file /Users/xavier/DESI/DESI_SCRATCH/redux/madrone/calib2d/20160607/qa-z0-00000005.yaml\n"
     ]
    },
    {
     "name": "stdout",
     "output_type": "stream",
     "text": [
      "INFO:qa.py:81:load_qa_frame: Loaded QA file /Users/xavier/DESI/DESI_SCRATCH/redux/madrone/calib2d/20160607/qa-z1-00000005.yaml\n"
     ]
    },
    {
     "name": "stderr",
     "output_type": "stream",
     "text": [
      "INFO:DESI:Loaded QA file /Users/xavier/DESI/DESI_SCRATCH/redux/madrone/calib2d/20160607/qa-z1-00000005.yaml\n"
     ]
    },
    {
     "name": "stdout",
     "output_type": "stream",
     "text": [
      "INFO:qa.py:81:load_qa_frame: Loaded QA file /Users/xavier/DESI/DESI_SCRATCH/redux/madrone/exposures/20160607/00000006/qa-r0-00000006.yaml\n"
     ]
    },
    {
     "name": "stderr",
     "output_type": "stream",
     "text": [
      "INFO:DESI:Loaded QA file /Users/xavier/DESI/DESI_SCRATCH/redux/madrone/exposures/20160607/00000006/qa-r0-00000006.yaml\n"
     ]
    },
    {
     "name": "stdout",
     "output_type": "stream",
     "text": [
      "INFO:qa.py:81:load_qa_frame: Loaded QA file /Users/xavier/DESI/DESI_SCRATCH/redux/madrone/exposures/20160607/00000006/qa-r1-00000006.yaml\n"
     ]
    },
    {
     "name": "stderr",
     "output_type": "stream",
     "text": [
      "INFO:DESI:Loaded QA file /Users/xavier/DESI/DESI_SCRATCH/redux/madrone/exposures/20160607/00000006/qa-r1-00000006.yaml\n"
     ]
    },
    {
     "name": "stdout",
     "output_type": "stream",
     "text": [
      "INFO:qa.py:81:load_qa_frame: Loaded QA file /Users/xavier/DESI/DESI_SCRATCH/redux/madrone/exposures/20160607/00000006/qa-b0-00000006.yaml\n"
     ]
    },
    {
     "name": "stderr",
     "output_type": "stream",
     "text": [
      "INFO:DESI:Loaded QA file /Users/xavier/DESI/DESI_SCRATCH/redux/madrone/exposures/20160607/00000006/qa-b0-00000006.yaml\n"
     ]
    },
    {
     "name": "stdout",
     "output_type": "stream",
     "text": [
      "INFO:qa.py:81:load_qa_frame: Loaded QA file /Users/xavier/DESI/DESI_SCRATCH/redux/madrone/exposures/20160607/00000006/qa-b1-00000006.yaml\n"
     ]
    },
    {
     "name": "stderr",
     "output_type": "stream",
     "text": [
      "INFO:DESI:Loaded QA file /Users/xavier/DESI/DESI_SCRATCH/redux/madrone/exposures/20160607/00000006/qa-b1-00000006.yaml\n"
     ]
    },
    {
     "name": "stdout",
     "output_type": "stream",
     "text": [
      "INFO:qa.py:81:load_qa_frame: Loaded QA file /Users/xavier/DESI/DESI_SCRATCH/redux/madrone/exposures/20160607/00000006/qa-z0-00000006.yaml\n"
     ]
    },
    {
     "name": "stderr",
     "output_type": "stream",
     "text": [
      "INFO:DESI:Loaded QA file /Users/xavier/DESI/DESI_SCRATCH/redux/madrone/exposures/20160607/00000006/qa-z0-00000006.yaml\n"
     ]
    },
    {
     "name": "stdout",
     "output_type": "stream",
     "text": [
      "INFO:qa.py:81:load_qa_frame: Loaded QA file /Users/xavier/DESI/DESI_SCRATCH/redux/madrone/exposures/20160607/00000006/qa-z1-00000006.yaml\n"
     ]
    },
    {
     "name": "stderr",
     "output_type": "stream",
     "text": [
      "INFO:DESI:Loaded QA file /Users/xavier/DESI/DESI_SCRATCH/redux/madrone/exposures/20160607/00000006/qa-z1-00000006.yaml\n"
     ]
    },
    {
     "name": "stdout",
     "output_type": "stream",
     "text": [
      "INFO:qa.py:81:load_qa_frame: Loaded QA file /Users/xavier/DESI/DESI_SCRATCH/redux/madrone/exposures/20160607/00000007/qa-r0-00000007.yaml\n"
     ]
    },
    {
     "name": "stderr",
     "output_type": "stream",
     "text": [
      "INFO:DESI:Loaded QA file /Users/xavier/DESI/DESI_SCRATCH/redux/madrone/exposures/20160607/00000007/qa-r0-00000007.yaml\n"
     ]
    },
    {
     "name": "stdout",
     "output_type": "stream",
     "text": [
      "INFO:qa.py:81:load_qa_frame: Loaded QA file /Users/xavier/DESI/DESI_SCRATCH/redux/madrone/exposures/20160607/00000007/qa-r1-00000007.yaml\n"
     ]
    },
    {
     "name": "stderr",
     "output_type": "stream",
     "text": [
      "INFO:DESI:Loaded QA file /Users/xavier/DESI/DESI_SCRATCH/redux/madrone/exposures/20160607/00000007/qa-r1-00000007.yaml\n"
     ]
    },
    {
     "name": "stdout",
     "output_type": "stream",
     "text": [
      "INFO:qa.py:81:load_qa_frame: Loaded QA file /Users/xavier/DESI/DESI_SCRATCH/redux/madrone/exposures/20160607/00000007/qa-b0-00000007.yaml\n"
     ]
    },
    {
     "name": "stderr",
     "output_type": "stream",
     "text": [
      "INFO:DESI:Loaded QA file /Users/xavier/DESI/DESI_SCRATCH/redux/madrone/exposures/20160607/00000007/qa-b0-00000007.yaml\n"
     ]
    },
    {
     "name": "stdout",
     "output_type": "stream",
     "text": [
      "INFO:qa.py:81:load_qa_frame: Loaded QA file /Users/xavier/DESI/DESI_SCRATCH/redux/madrone/exposures/20160607/00000007/qa-b1-00000007.yaml\n"
     ]
    },
    {
     "name": "stderr",
     "output_type": "stream",
     "text": [
      "INFO:DESI:Loaded QA file /Users/xavier/DESI/DESI_SCRATCH/redux/madrone/exposures/20160607/00000007/qa-b1-00000007.yaml\n"
     ]
    },
    {
     "name": "stdout",
     "output_type": "stream",
     "text": [
      "INFO:qa.py:81:load_qa_frame: Loaded QA file /Users/xavier/DESI/DESI_SCRATCH/redux/madrone/exposures/20160607/00000007/qa-z0-00000007.yaml\n"
     ]
    },
    {
     "name": "stderr",
     "output_type": "stream",
     "text": [
      "INFO:DESI:Loaded QA file /Users/xavier/DESI/DESI_SCRATCH/redux/madrone/exposures/20160607/00000007/qa-z0-00000007.yaml\n"
     ]
    },
    {
     "name": "stdout",
     "output_type": "stream",
     "text": [
      "INFO:qa.py:81:load_qa_frame: Loaded QA file /Users/xavier/DESI/DESI_SCRATCH/redux/madrone/exposures/20160607/00000007/qa-z1-00000007.yaml\n"
     ]
    },
    {
     "name": "stderr",
     "output_type": "stream",
     "text": [
      "INFO:DESI:Loaded QA file /Users/xavier/DESI/DESI_SCRATCH/redux/madrone/exposures/20160607/00000007/qa-z1-00000007.yaml\n"
     ]
    },
    {
     "name": "stdout",
     "output_type": "stream",
     "text": [
      "INFO:qa.py:81:load_qa_frame: Loaded QA file /Users/xavier/DESI/DESI_SCRATCH/redux/madrone/exposures/20160607/00000008/qa-r0-00000008.yaml\n"
     ]
    },
    {
     "name": "stderr",
     "output_type": "stream",
     "text": [
      "INFO:DESI:Loaded QA file /Users/xavier/DESI/DESI_SCRATCH/redux/madrone/exposures/20160607/00000008/qa-r0-00000008.yaml\n"
     ]
    },
    {
     "name": "stdout",
     "output_type": "stream",
     "text": [
      "INFO:qa.py:81:load_qa_frame: Loaded QA file /Users/xavier/DESI/DESI_SCRATCH/redux/madrone/exposures/20160607/00000008/qa-r1-00000008.yaml\n"
     ]
    },
    {
     "name": "stderr",
     "output_type": "stream",
     "text": [
      "INFO:DESI:Loaded QA file /Users/xavier/DESI/DESI_SCRATCH/redux/madrone/exposures/20160607/00000008/qa-r1-00000008.yaml\n"
     ]
    },
    {
     "name": "stdout",
     "output_type": "stream",
     "text": [
      "INFO:qa.py:81:load_qa_frame: Loaded QA file /Users/xavier/DESI/DESI_SCRATCH/redux/madrone/exposures/20160607/00000008/qa-b0-00000008.yaml\n"
     ]
    },
    {
     "name": "stderr",
     "output_type": "stream",
     "text": [
      "INFO:DESI:Loaded QA file /Users/xavier/DESI/DESI_SCRATCH/redux/madrone/exposures/20160607/00000008/qa-b0-00000008.yaml\n"
     ]
    },
    {
     "name": "stdout",
     "output_type": "stream",
     "text": [
      "INFO:qa.py:81:load_qa_frame: Loaded QA file /Users/xavier/DESI/DESI_SCRATCH/redux/madrone/exposures/20160607/00000008/qa-b1-00000008.yaml\n"
     ]
    },
    {
     "name": "stderr",
     "output_type": "stream",
     "text": [
      "INFO:DESI:Loaded QA file /Users/xavier/DESI/DESI_SCRATCH/redux/madrone/exposures/20160607/00000008/qa-b1-00000008.yaml\n"
     ]
    },
    {
     "name": "stdout",
     "output_type": "stream",
     "text": [
      "INFO:qa.py:81:load_qa_frame: Loaded QA file /Users/xavier/DESI/DESI_SCRATCH/redux/madrone/exposures/20160607/00000008/qa-z0-00000008.yaml\n"
     ]
    },
    {
     "name": "stderr",
     "output_type": "stream",
     "text": [
      "INFO:DESI:Loaded QA file /Users/xavier/DESI/DESI_SCRATCH/redux/madrone/exposures/20160607/00000008/qa-z0-00000008.yaml\n"
     ]
    },
    {
     "name": "stdout",
     "output_type": "stream",
     "text": [
      "INFO:qa.py:81:load_qa_frame: Loaded QA file /Users/xavier/DESI/DESI_SCRATCH/redux/madrone/exposures/20160607/00000008/qa-z1-00000008.yaml\n"
     ]
    },
    {
     "name": "stderr",
     "output_type": "stream",
     "text": [
      "INFO:DESI:Loaded QA file /Users/xavier/DESI/DESI_SCRATCH/redux/madrone/exposures/20160607/00000008/qa-z1-00000008.yaml\n"
     ]
    },
    {
     "name": "stdout",
     "output_type": "stream",
     "text": [
      "> /Users/xavier/DESI/desispec/py/desispec/io/qa.py(207)write_qa_prod()\n",
      "-> ydict = yamlify(odict)\n",
      "(Pdb) odict\n",
      "{u'20160607': {8: {'r0': {'SKYSUB': {'QA': {'RESID_PER': [-36.97829895019531, 39.67941284179682], 'NBAD_PCHI': 32, 'MED_RESID': 0.7853240966796875, 'NREJ': 0, 'NSKY_FIB': 37}, 'PARAM': {'PCHI_RESID': 0.05, 'PER_RESID': 95.0}}, 'FLUXCALIB': {'QA': {'ZP': 25.45832393925364, 'RMS_ZP': 0.12910721292221178, 'NSTARS_FIBER': 12, 'MAX_ZP_OFF': [0.44742047713707933, 0]}, 'PARAM': {'ZP_WAVE': 6500.0, 'MAX_ZP_OFF': 0.2}}}, 'r1': {'SKYSUB': {'QA': {'RESID_PER': [-36.657647705078126, 39.28890380859374], 'NBAD_PCHI': 26, 'MED_RESID': 0.8084182739257812, 'NREJ': 0, 'NSKY_FIB': 37}, 'PARAM': {'PCHI_RESID': 0.05, 'PER_RESID': 95.0}}, 'FLUXCALIB': {'QA': {'ZP': 25.45997770871619, 'RMS_ZP': 0.1431706318008319, 'NSTARS_FIBER': 13, 'MAX_ZP_OFF': [0.49130059958766026, 0]}, 'PARAM': {'ZP_WAVE': 6500.0, 'MAX_ZP_OFF': 0.2}}}, 'b0': {'SKYSUB': {'QA': {'RESID_PER': [-28.37047500610352, 30.21094894409174], 'NBAD_PCHI': 36, 'MED_RESID': 0.7431144714355469, 'NREJ': 0, 'NSKY_FIB': 37}, 'PARAM': {'PCHI_RESID': 0.05, 'PER_RESID': 95.0}}, 'FLUXCALIB': {'QA': {'ZP': 25.595274359238253, 'RMS_ZP': 0.12337124645527835, 'NSTARS_FIBER': 12, 'MAX_ZP_OFF': [0.4432765560083851, 0]}, 'PARAM': {'ZP_WAVE': 4800.0, 'MAX_ZP_OFF': 0.2}}}, 'b1': {'SKYSUB': {'QA': {'RESID_PER': [-28.500312042236324, 30.305758666992176], 'NBAD_PCHI': 36, 'MED_RESID': 0.7471160888671875, 'NREJ': 0, 'NSKY_FIB': 37}, 'PARAM': {'PCHI_RESID': 0.05, 'PER_RESID': 95.0}}, 'FLUXCALIB': {'QA': {'ZP': 25.59604413761585, 'RMS_ZP': 0.12469847688593977, 'NSTARS_FIBER': 13, 'MAX_ZP_OFF': [0.4158812990412315, 0]}, 'PARAM': {'ZP_WAVE': 4800.0, 'MAX_ZP_OFF': 0.2}}}, u'flavor': 'dark', 'z0': {'SKYSUB': {'QA': {'RESID_PER': [-66.70268173217774, 71.00867919921865], 'NBAD_PCHI': 37, 'MED_RESID': 0.626495361328125, 'NREJ': 0, 'NSKY_FIB': 37}, 'PARAM': {'PCHI_RESID': 0.05, 'PER_RESID': 95.0}}, 'FLUXCALIB': {'QA': {'ZP': 25.42363308627614, 'RMS_ZP': 0.12286745928969063, 'NSTARS_FIBER': 12, 'MAX_ZP_OFF': [0.4411020996489228, 0]}, 'PARAM': {'ZP_WAVE': 8250.0, 'MAX_ZP_OFF': 0.2}}}, 'z1': {'SKYSUB': {'QA': {'RESID_PER': [-69.15562896728515, 71.9474670410156], 'NBAD_PCHI': 37, 'MED_RESID': 0.5791015625, 'NREJ': 0, 'NSKY_FIB': 37}, 'PARAM': {'PCHI_RESID': 0.05, 'PER_RESID': 95.0}}, 'FLUXCALIB': {'QA': {'ZP': 25.428474621695116, 'RMS_ZP': 0.13501851989805838, 'NSTARS_FIBER': 13, 'MAX_ZP_OFF': [0.4390402231784165, 0]}, 'PARAM': {'ZP_WAVE': 8250.0, 'MAX_ZP_OFF': 0.2}}}}}}\n",
      "(Pdb) odict.keys()\n",
      "[u'20160607']\n",
      "(Pdb) odict['20160607'].keys()\n",
      "[8]\n",
      "(Pdb) idict\n",
      "{u'20160607': {8: {'r0': {'SKYSUB': {'QA': {'RESID_PER': [-36.97829895019531, 39.67941284179682], 'NBAD_PCHI': 32, 'MED_RESID': 0.7853240966796875, 'NREJ': 0, 'NSKY_FIB': 37}, 'PARAM': {'PCHI_RESID': 0.05, 'PER_RESID': 95.0}}, 'FLUXCALIB': {'QA': {'ZP': 25.45832393925364, 'RMS_ZP': 0.12910721292221178, 'NSTARS_FIBER': 12, 'MAX_ZP_OFF': [0.44742047713707933, 0]}, 'PARAM': {'ZP_WAVE': 6500.0, 'MAX_ZP_OFF': 0.2}}}, 'r1': {'SKYSUB': {'QA': {'RESID_PER': [-36.657647705078126, 39.28890380859374], 'NBAD_PCHI': 26, 'MED_RESID': 0.8084182739257812, 'NREJ': 0, 'NSKY_FIB': 37}, 'PARAM': {'PCHI_RESID': 0.05, 'PER_RESID': 95.0}}, 'FLUXCALIB': {'QA': {'ZP': 25.45997770871619, 'RMS_ZP': 0.1431706318008319, 'NSTARS_FIBER': 13, 'MAX_ZP_OFF': [0.49130059958766026, 0]}, 'PARAM': {'ZP_WAVE': 6500.0, 'MAX_ZP_OFF': 0.2}}}, 'b0': {'SKYSUB': {'QA': {'RESID_PER': [-28.37047500610352, 30.21094894409174], 'NBAD_PCHI': 36, 'MED_RESID': 0.7431144714355469, 'NREJ': 0, 'NSKY_FIB': 37}, 'PARAM': {'PCHI_RESID': 0.05, 'PER_RESID': 95.0}}, 'FLUXCALIB': {'QA': {'ZP': 25.595274359238253, 'RMS_ZP': 0.12337124645527835, 'NSTARS_FIBER': 12, 'MAX_ZP_OFF': [0.4432765560083851, 0]}, 'PARAM': {'ZP_WAVE': 4800.0, 'MAX_ZP_OFF': 0.2}}}, 'b1': {'SKYSUB': {'QA': {'RESID_PER': [-28.500312042236324, 30.305758666992176], 'NBAD_PCHI': 36, 'MED_RESID': 0.7471160888671875, 'NREJ': 0, 'NSKY_FIB': 37}, 'PARAM': {'PCHI_RESID': 0.05, 'PER_RESID': 95.0}}, 'FLUXCALIB': {'QA': {'ZP': 25.59604413761585, 'RMS_ZP': 0.12469847688593977, 'NSTARS_FIBER': 13, 'MAX_ZP_OFF': [0.4158812990412315, 0]}, 'PARAM': {'ZP_WAVE': 4800.0, 'MAX_ZP_OFF': 0.2}}}, u'flavor': 'dark', 'z0': {'SKYSUB': {'QA': {'RESID_PER': [-66.70268173217774, 71.00867919921865], 'NBAD_PCHI': 37, 'MED_RESID': 0.626495361328125, 'NREJ': 0, 'NSKY_FIB': 37}, 'PARAM': {'PCHI_RESID': 0.05, 'PER_RESID': 95.0}}, 'FLUXCALIB': {'QA': {'ZP': 25.42363308627614, 'RMS_ZP': 0.12286745928969063, 'NSTARS_FIBER': 12, 'MAX_ZP_OFF': [0.4411020996489228, 0]}, 'PARAM': {'ZP_WAVE': 8250.0, 'MAX_ZP_OFF': 0.2}}}, 'z1': {'SKYSUB': {'QA': {'RESID_PER': [-69.15562896728515, 71.9474670410156], 'NBAD_PCHI': 37, 'MED_RESID': 0.5791015625, 'NREJ': 0, 'NSKY_FIB': 37}, 'PARAM': {'PCHI_RESID': 0.05, 'PER_RESID': 95.0}}, 'FLUXCALIB': {'QA': {'ZP': 25.428474621695116, 'RMS_ZP': 0.13501851989805838, 'NSTARS_FIBER': 13, 'MAX_ZP_OFF': [0.4390402231784165, 0]}, 'PARAM': {'ZP_WAVE': 8250.0, 'MAX_ZP_OFF': 0.2}}}}}}\n",
      "(Pdb) idict.keys()\n",
      "[u'20160607']\n",
      "(Pdb) idict['20160607'].keys()\n",
      "[8]\n",
      "(Pdb) exit\n"
     ]
    },
    {
     "ename": "BdbQuit",
     "evalue": "",
     "output_type": "error",
     "traceback": [
      "\u001b[0;31m---------------------------------------------------------------------------\u001b[0m",
      "\u001b[0;31mBdbQuit\u001b[0m                                   Traceback (most recent call last)",
      "\u001b[0;32m<ipython-input-9-752c756048ee>\u001b[0m in \u001b[0;36m<module>\u001b[0;34m()\u001b[0m\n\u001b[0;32m----> 1\u001b[0;31m \u001b[0mqa_prod\u001b[0m\u001b[0;34m.\u001b[0m\u001b[0mslurp\u001b[0m\u001b[0;34m(\u001b[0m\u001b[0mremove\u001b[0m\u001b[0;34m=\u001b[0m\u001b[0mFalse\u001b[0m\u001b[0;34m)\u001b[0m\u001b[0;34m\u001b[0m\u001b[0m\n\u001b[0m",
      "\u001b[0;32m/Users/xavier/DESI/desispec/py/desispec/qa/qa_prod.pyc\u001b[0m in \u001b[0;36mslurp\u001b[0;34m(self, remake, remove, **kwargs)\u001b[0m\n\u001b[1;32m    146\u001b[0m                                          specprod_dir=self.specprod_dir)\n\u001b[1;32m    147\u001b[0m                 \u001b[0mqa_exp\u001b[0m\u001b[0;34m.\u001b[0m\u001b[0mload_qa_data\u001b[0m\u001b[0;34m(\u001b[0m\u001b[0mremove\u001b[0m\u001b[0;34m=\u001b[0m\u001b[0mremove\u001b[0m\u001b[0;34m)\u001b[0m\u001b[0;34m\u001b[0m\u001b[0m\n\u001b[0;32m--> 148\u001b[0;31m                 \u001b[0;31m# Append\u001b[0m\u001b[0;34m\u001b[0m\u001b[0;34m\u001b[0m\u001b[0m\n\u001b[0m\u001b[1;32m    149\u001b[0m                 \u001b[0mself\u001b[0m\u001b[0;34m.\u001b[0m\u001b[0mqa_exps\u001b[0m\u001b[0;34m.\u001b[0m\u001b[0mappend\u001b[0m\u001b[0;34m(\u001b[0m\u001b[0mqa_exp\u001b[0m\u001b[0;34m)\u001b[0m\u001b[0;34m\u001b[0m\u001b[0m\n\u001b[1;32m    150\u001b[0m         \u001b[0;31m# Write\u001b[0m\u001b[0;34m\u001b[0m\u001b[0;34m\u001b[0m\u001b[0m\n",
      "\u001b[0;32m/Users/xavier/DESI/desispec/py/desispec/io/qa.py\u001b[0m in \u001b[0;36mwrite_qa_prod\u001b[0;34m(outroot, qaprod)\u001b[0m\n\u001b[1;32m    205\u001b[0m         \u001b[0;32massert\u001b[0m \u001b[0mlen\u001b[0m\u001b[0;34m(\u001b[0m\u001b[0midict\u001b[0m\u001b[0;34m.\u001b[0m\u001b[0mkeys\u001b[0m\u001b[0;34m(\u001b[0m\u001b[0;34m)\u001b[0m\u001b[0;34m)\u001b[0m \u001b[0;34m==\u001b[0m \u001b[0;36m1\u001b[0m\u001b[0;34m\u001b[0m\u001b[0m\n\u001b[1;32m    206\u001b[0m         \u001b[0mnight\u001b[0m \u001b[0;34m=\u001b[0m \u001b[0midict\u001b[0m\u001b[0;34m.\u001b[0m\u001b[0mkeys\u001b[0m\u001b[0;34m(\u001b[0m\u001b[0;34m)\u001b[0m\u001b[0;34m[\u001b[0m\u001b[0;36m0\u001b[0m\u001b[0;34m]\u001b[0m\u001b[0;34m\u001b[0m\u001b[0m\n\u001b[0;32m--> 207\u001b[0;31m         \u001b[0;31m# Add\u001b[0m\u001b[0;34m\u001b[0m\u001b[0;34m\u001b[0m\u001b[0m\n\u001b[0m\u001b[1;32m    208\u001b[0m         \u001b[0;32mif\u001b[0m \u001b[0mnight\u001b[0m \u001b[0;32mnot\u001b[0m \u001b[0;32min\u001b[0m \u001b[0modict\u001b[0m\u001b[0;34m.\u001b[0m\u001b[0mkeys\u001b[0m\u001b[0;34m(\u001b[0m\u001b[0;34m)\u001b[0m\u001b[0;34m:\u001b[0m\u001b[0;34m\u001b[0m\u001b[0m\n\u001b[1;32m    209\u001b[0m             \u001b[0modict\u001b[0m\u001b[0;34m[\u001b[0m\u001b[0mnight\u001b[0m\u001b[0;34m]\u001b[0m \u001b[0;34m=\u001b[0m \u001b[0;34m{\u001b[0m\u001b[0;34m}\u001b[0m\u001b[0;34m\u001b[0m\u001b[0m\n",
      "\u001b[0;32m/Users/xavier/DESI/desispec/py/desispec/io/qa.py\u001b[0m in \u001b[0;36mwrite_qa_prod\u001b[0;34m(outroot, qaprod)\u001b[0m\n\u001b[1;32m    205\u001b[0m         \u001b[0;32massert\u001b[0m \u001b[0mlen\u001b[0m\u001b[0;34m(\u001b[0m\u001b[0midict\u001b[0m\u001b[0;34m.\u001b[0m\u001b[0mkeys\u001b[0m\u001b[0;34m(\u001b[0m\u001b[0;34m)\u001b[0m\u001b[0;34m)\u001b[0m \u001b[0;34m==\u001b[0m \u001b[0;36m1\u001b[0m\u001b[0;34m\u001b[0m\u001b[0m\n\u001b[1;32m    206\u001b[0m         \u001b[0mnight\u001b[0m \u001b[0;34m=\u001b[0m \u001b[0midict\u001b[0m\u001b[0;34m.\u001b[0m\u001b[0mkeys\u001b[0m\u001b[0;34m(\u001b[0m\u001b[0;34m)\u001b[0m\u001b[0;34m[\u001b[0m\u001b[0;36m0\u001b[0m\u001b[0;34m]\u001b[0m\u001b[0;34m\u001b[0m\u001b[0m\n\u001b[0;32m--> 207\u001b[0;31m         \u001b[0;31m# Add\u001b[0m\u001b[0;34m\u001b[0m\u001b[0;34m\u001b[0m\u001b[0m\n\u001b[0m\u001b[1;32m    208\u001b[0m         \u001b[0;32mif\u001b[0m \u001b[0mnight\u001b[0m \u001b[0;32mnot\u001b[0m \u001b[0;32min\u001b[0m \u001b[0modict\u001b[0m\u001b[0;34m.\u001b[0m\u001b[0mkeys\u001b[0m\u001b[0;34m(\u001b[0m\u001b[0;34m)\u001b[0m\u001b[0;34m:\u001b[0m\u001b[0;34m\u001b[0m\u001b[0m\n\u001b[1;32m    209\u001b[0m             \u001b[0modict\u001b[0m\u001b[0;34m[\u001b[0m\u001b[0mnight\u001b[0m\u001b[0;34m]\u001b[0m \u001b[0;34m=\u001b[0m \u001b[0;34m{\u001b[0m\u001b[0;34m}\u001b[0m\u001b[0;34m\u001b[0m\u001b[0m\n",
      "\u001b[0;32m/Users/xavier/anaconda/lib/python2.7/bdb.pyc\u001b[0m in \u001b[0;36mtrace_dispatch\u001b[0;34m(self, frame, event, arg)\u001b[0m\n\u001b[1;32m     47\u001b[0m             \u001b[0;32mreturn\u001b[0m \u001b[0;31m# None\u001b[0m\u001b[0;34m\u001b[0m\u001b[0m\n\u001b[1;32m     48\u001b[0m         \u001b[0;32mif\u001b[0m \u001b[0mevent\u001b[0m \u001b[0;34m==\u001b[0m \u001b[0;34m'line'\u001b[0m\u001b[0;34m:\u001b[0m\u001b[0;34m\u001b[0m\u001b[0m\n\u001b[0;32m---> 49\u001b[0;31m             \u001b[0;32mreturn\u001b[0m \u001b[0mself\u001b[0m\u001b[0;34m.\u001b[0m\u001b[0mdispatch_line\u001b[0m\u001b[0;34m(\u001b[0m\u001b[0mframe\u001b[0m\u001b[0;34m)\u001b[0m\u001b[0;34m\u001b[0m\u001b[0m\n\u001b[0m\u001b[1;32m     50\u001b[0m         \u001b[0;32mif\u001b[0m \u001b[0mevent\u001b[0m \u001b[0;34m==\u001b[0m \u001b[0;34m'call'\u001b[0m\u001b[0;34m:\u001b[0m\u001b[0;34m\u001b[0m\u001b[0m\n\u001b[1;32m     51\u001b[0m             \u001b[0;32mreturn\u001b[0m \u001b[0mself\u001b[0m\u001b[0;34m.\u001b[0m\u001b[0mdispatch_call\u001b[0m\u001b[0;34m(\u001b[0m\u001b[0mframe\u001b[0m\u001b[0;34m,\u001b[0m \u001b[0marg\u001b[0m\u001b[0;34m)\u001b[0m\u001b[0;34m\u001b[0m\u001b[0m\n",
      "\u001b[0;32m/Users/xavier/anaconda/lib/python2.7/bdb.pyc\u001b[0m in \u001b[0;36mdispatch_line\u001b[0;34m(self, frame)\u001b[0m\n\u001b[1;32m     66\u001b[0m         \u001b[0;32mif\u001b[0m \u001b[0mself\u001b[0m\u001b[0;34m.\u001b[0m\u001b[0mstop_here\u001b[0m\u001b[0;34m(\u001b[0m\u001b[0mframe\u001b[0m\u001b[0;34m)\u001b[0m \u001b[0;32mor\u001b[0m \u001b[0mself\u001b[0m\u001b[0;34m.\u001b[0m\u001b[0mbreak_here\u001b[0m\u001b[0;34m(\u001b[0m\u001b[0mframe\u001b[0m\u001b[0;34m)\u001b[0m\u001b[0;34m:\u001b[0m\u001b[0;34m\u001b[0m\u001b[0m\n\u001b[1;32m     67\u001b[0m             \u001b[0mself\u001b[0m\u001b[0;34m.\u001b[0m\u001b[0muser_line\u001b[0m\u001b[0;34m(\u001b[0m\u001b[0mframe\u001b[0m\u001b[0;34m)\u001b[0m\u001b[0;34m\u001b[0m\u001b[0m\n\u001b[0;32m---> 68\u001b[0;31m             \u001b[0;32mif\u001b[0m \u001b[0mself\u001b[0m\u001b[0;34m.\u001b[0m\u001b[0mquitting\u001b[0m\u001b[0;34m:\u001b[0m \u001b[0;32mraise\u001b[0m \u001b[0mBdbQuit\u001b[0m\u001b[0;34m\u001b[0m\u001b[0m\n\u001b[0m\u001b[1;32m     69\u001b[0m         \u001b[0;32mreturn\u001b[0m \u001b[0mself\u001b[0m\u001b[0;34m.\u001b[0m\u001b[0mtrace_dispatch\u001b[0m\u001b[0;34m\u001b[0m\u001b[0m\n\u001b[1;32m     70\u001b[0m \u001b[0;34m\u001b[0m\u001b[0m\n",
      "\u001b[0;31mBdbQuit\u001b[0m: "
     ]
    }
   ],
   "source": [
    "qa_prod.slurp(remove=False)"
   ]
  },
  {
   "cell_type": "code",
   "execution_count": null,
   "metadata": {
    "collapsed": true
   },
   "outputs": [],
   "source": []
  }
 ],
 "metadata": {
  "kernelspec": {
   "display_name": "Python 2",
   "language": "python",
   "name": "python2"
  },
  "language_info": {
   "codemirror_mode": {
    "name": "ipython",
    "version": 2
   },
   "file_extension": ".py",
   "mimetype": "text/x-python",
   "name": "python",
   "nbconvert_exporter": "python",
   "pygments_lexer": "ipython2",
   "version": "2.7.11"
  }
 },
 "nbformat": 4,
 "nbformat_minor": 0
}
