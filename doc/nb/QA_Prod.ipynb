{
 "cells": [
  {
   "cell_type": "markdown",
   "metadata": {},
   "source": [
    "# QA_Prod (v1.0)"
   ]
  },
  {
   "cell_type": "code",
   "execution_count": 1,
   "metadata": {
    "collapsed": false
   },
   "outputs": [],
   "source": [
    "# imports\n",
    "from desispec.qa import qa_prod as dqap"
   ]
  },
  {
   "cell_type": "markdown",
   "metadata": {},
   "source": [
    "## Init\n",
    "\n",
    "    setenv DESI_SPECTRO_DATA /Users/xavier/DESI/DESI_SCRATCH/sim/madrone/"
   ]
  },
  {
   "cell_type": "code",
   "execution_count": 2,
   "metadata": {
    "collapsed": true
   },
   "outputs": [],
   "source": [
    "specprod_dir = '/Users/xavier/DESI/DESI_SCRATCH/redux/madrone/'"
   ]
  },
  {
   "cell_type": "code",
   "execution_count": 3,
   "metadata": {
    "collapsed": false
   },
   "outputs": [],
   "source": [
    "reload(dqap)\n",
    "qa_prod = dqap.QA_Prod(specprod_dir)"
   ]
  },
  {
   "cell_type": "markdown",
   "metadata": {},
   "source": [
    "## Remake"
   ]
  },
  {
   "cell_type": "code",
   "execution_count": null,
   "metadata": {
    "collapsed": false
   },
   "outputs": [
    {
     "name": "stdout",
     "output_type": "stream",
     "text": [
      "INFO:qa.py:81:load_qa_frame: Loaded QA file /Users/xavier/DESI/DESI_SCRATCH/redux/madrone/calib2d/20160607/qa-r0-00000003.yaml\n"
     ]
    },
    {
     "name": "stderr",
     "output_type": "stream",
     "text": [
      "/Users/xavier/anaconda/lib/python2.7/site-packages/matplotlib/__init__.py:1350: UserWarning:  This call to matplotlib.use() has no effect\n",
      "because the backend has already been chosen;\n",
      "matplotlib.use() must be called *before* pylab, matplotlib.pyplot,\n",
      "or matplotlib.backends is imported for the first time.\n",
      "\n",
      "  warnings.warn(_use_error_msg)\n",
      "INFO:DESI:Loaded QA file /Users/xavier/DESI/DESI_SCRATCH/redux/madrone/calib2d/20160607/qa-r0-00000003.yaml\n"
     ]
    },
    {
     "name": "stdout",
     "output_type": "stream",
     "text": [
      "WARNING:fiberflat.py:547:qa_fiberflat: Low counts in meanspec = 37157.8\n"
     ]
    },
    {
     "name": "stderr",
     "output_type": "stream",
     "text": [
      "WARNING:DESI:Low counts in meanspec = 37157.8\n"
     ]
    },
    {
     "name": "stdout",
     "output_type": "stream",
     "text": [
      "WARNING:fiberflat.py:569:qa_fiberflat: Discrepant flux in fiberflat: 0.00117388, 205\n"
     ]
    },
    {
     "name": "stderr",
     "output_type": "stream",
     "text": [
      "WARNING:DESI:Discrepant flux in fiberflat: 0.00117388, 205\n"
     ]
    },
    {
     "name": "stdout",
     "output_type": "stream",
     "text": [
      "WARNING:fiberflat.py:574:qa_fiberflat: Large offset in fiberflat: 0.158535\n"
     ]
    },
    {
     "name": "stderr",
     "output_type": "stream",
     "text": [
      "WARNING:DESI:Large offset in fiberflat: 0.158535\n"
     ]
    },
    {
     "name": "stdout",
     "output_type": "stream",
     "text": [
      "WARNING:fiberflat.py:582:qa_fiberflat: Discrepant mean in fiberflat: 0.0151337, 446\n"
     ]
    },
    {
     "name": "stderr",
     "output_type": "stream",
     "text": [
      "WARNING:DESI:Discrepant mean in fiberflat: 0.0151337, 446\n"
     ]
    },
    {
     "name": "stdout",
     "output_type": "stream",
     "text": [
      "WARNING:fiberflat.py:591:qa_fiberflat: Large RMS in fiberflat: 0.0165781, 45\n"
     ]
    },
    {
     "name": "stderr",
     "output_type": "stream",
     "text": [
      "WARNING:DESI:Large RMS in fiberflat: 0.0165781, 45\n"
     ]
    },
    {
     "name": "stdout",
     "output_type": "stream",
     "text": [
      "Wrote QA SkyRes file: /Users/xavier/DESI/DESI_SCRATCH/redux/madrone/calib2d/20160607/qa-flat-r0-00000003.pdf\n",
      "INFO:qa.py:81:load_qa_frame: Loaded QA file /Users/xavier/DESI/DESI_SCRATCH/redux/madrone/calib2d/20160607/qa-r1-00000003.yaml\n"
     ]
    },
    {
     "name": "stderr",
     "output_type": "stream",
     "text": [
      "INFO:DESI:Loaded QA file /Users/xavier/DESI/DESI_SCRATCH/redux/madrone/calib2d/20160607/qa-r1-00000003.yaml\n"
     ]
    },
    {
     "name": "stdout",
     "output_type": "stream",
     "text": [
      "WARNING:fiberflat.py:547:qa_fiberflat: Low counts in meanspec = 37108.4\n"
     ]
    },
    {
     "name": "stderr",
     "output_type": "stream",
     "text": [
      "WARNING:DESI:Low counts in meanspec = 37108.4\n"
     ]
    },
    {
     "name": "stdout",
     "output_type": "stream",
     "text": [
      "WARNING:fiberflat.py:569:qa_fiberflat: Discrepant flux in fiberflat: 0.00135612, 300\n"
     ]
    },
    {
     "name": "stderr",
     "output_type": "stream",
     "text": [
      "WARNING:DESI:Discrepant flux in fiberflat: 0.00135612, 300\n"
     ]
    },
    {
     "name": "stdout",
     "output_type": "stream",
     "text": [
      "WARNING:fiberflat.py:574:qa_fiberflat: Large offset in fiberflat: 0.435616\n"
     ]
    },
    {
     "name": "stderr",
     "output_type": "stream",
     "text": [
      "WARNING:DESI:Large offset in fiberflat: 0.435616\n"
     ]
    },
    {
     "name": "stdout",
     "output_type": "stream",
     "text": [
      "WARNING:fiberflat.py:582:qa_fiberflat: Discrepant mean in fiberflat: 0.0467809, 44\n"
     ]
    },
    {
     "name": "stderr",
     "output_type": "stream",
     "text": [
      "WARNING:DESI:Discrepant mean in fiberflat: 0.0467809, 44\n"
     ]
    },
    {
     "name": "stdout",
     "output_type": "stream",
     "text": [
      "WARNING:fiberflat.py:591:qa_fiberflat: Large RMS in fiberflat: 0.052332, 441\n"
     ]
    },
    {
     "name": "stderr",
     "output_type": "stream",
     "text": [
      "WARNING:DESI:Large RMS in fiberflat: 0.052332, 441\n"
     ]
    },
    {
     "name": "stdout",
     "output_type": "stream",
     "text": [
      "Wrote QA SkyRes file: /Users/xavier/DESI/DESI_SCRATCH/redux/madrone/calib2d/20160607/qa-flat-r1-00000003.pdf\n",
      "INFO:qa.py:81:load_qa_frame: Loaded QA file /Users/xavier/DESI/DESI_SCRATCH/redux/madrone/calib2d/20160607/qa-b0-00000003.yaml\n"
     ]
    },
    {
     "name": "stderr",
     "output_type": "stream",
     "text": [
      "INFO:DESI:Loaded QA file /Users/xavier/DESI/DESI_SCRATCH/redux/madrone/calib2d/20160607/qa-b0-00000003.yaml\n"
     ]
    },
    {
     "name": "stdout",
     "output_type": "stream",
     "text": [
      "WARNING:fiberflat.py:547:qa_fiberflat: Low counts in meanspec = 78348\n"
     ]
    },
    {
     "name": "stderr",
     "output_type": "stream",
     "text": [
      "WARNING:DESI:Low counts in meanspec = 78348\n"
     ]
    },
    {
     "name": "stdout",
     "output_type": "stream",
     "text": [
      "WARNING:fiberflat.py:569:qa_fiberflat: Discrepant flux in fiberflat: 0.00130881, 210\n"
     ]
    },
    {
     "name": "stderr",
     "output_type": "stream",
     "text": [
      "WARNING:DESI:Discrepant flux in fiberflat: 0.00130881, 210\n"
     ]
    },
    {
     "name": "stdout",
     "output_type": "stream",
     "text": [
      "WARNING:fiberflat.py:582:qa_fiberflat: Discrepant mean in fiberflat: 0.00218552, 445\n"
     ]
    },
    {
     "name": "stderr",
     "output_type": "stream",
     "text": [
      "WARNING:DESI:Discrepant mean in fiberflat: 0.00218552, 445\n"
     ]
    },
    {
     "name": "stdout",
     "output_type": "stream",
     "text": [
      "WARNING:fiberflat.py:591:qa_fiberflat: Large RMS in fiberflat: 0.00801048, 447\n"
     ]
    },
    {
     "name": "stderr",
     "output_type": "stream",
     "text": [
      "WARNING:DESI:Large RMS in fiberflat: 0.00801048, 447\n"
     ]
    },
    {
     "name": "stdout",
     "output_type": "stream",
     "text": [
      "Wrote QA SkyRes file: /Users/xavier/DESI/DESI_SCRATCH/redux/madrone/calib2d/20160607/qa-flat-b0-00000003.pdf\n",
      "INFO:qa.py:81:load_qa_frame: Loaded QA file /Users/xavier/DESI/DESI_SCRATCH/redux/madrone/calib2d/20160607/qa-b1-00000003.yaml\n"
     ]
    },
    {
     "name": "stderr",
     "output_type": "stream",
     "text": [
      "INFO:DESI:Loaded QA file /Users/xavier/DESI/DESI_SCRATCH/redux/madrone/calib2d/20160607/qa-b1-00000003.yaml\n"
     ]
    },
    {
     "name": "stdout",
     "output_type": "stream",
     "text": [
      "WARNING:fiberflat.py:547:qa_fiberflat: Low counts in meanspec = 78444.9\n"
     ]
    },
    {
     "name": "stderr",
     "output_type": "stream",
     "text": [
      "WARNING:DESI:Low counts in meanspec = 78444.9\n"
     ]
    },
    {
     "name": "stdout",
     "output_type": "stream",
     "text": [
      "WARNING:fiberflat.py:569:qa_fiberflat: Discrepant flux in fiberflat: 0.00129243, 400\n"
     ]
    },
    {
     "name": "stderr",
     "output_type": "stream",
     "text": [
      "WARNING:DESI:Discrepant flux in fiberflat: 0.00129243, 400\n"
     ]
    },
    {
     "name": "stdout",
     "output_type": "stream",
     "text": [
      "WARNING:fiberflat.py:582:qa_fiberflat: Discrepant mean in fiberflat: 0.00333923, 59\n"
     ]
    },
    {
     "name": "stderr",
     "output_type": "stream",
     "text": [
      "WARNING:DESI:Discrepant mean in fiberflat: 0.00333923, 59\n"
     ]
    },
    {
     "name": "stdout",
     "output_type": "stream",
     "text": [
      "WARNING:fiberflat.py:591:qa_fiberflat: Large RMS in fiberflat: 0.00802624, 48\n"
     ]
    },
    {
     "name": "stderr",
     "output_type": "stream",
     "text": [
      "WARNING:DESI:Large RMS in fiberflat: 0.00802624, 48\n"
     ]
    },
    {
     "name": "stdout",
     "output_type": "stream",
     "text": [
      "Wrote QA SkyRes file: /Users/xavier/DESI/DESI_SCRATCH/redux/madrone/calib2d/20160607/qa-flat-b1-00000003.pdf\n",
      "INFO:qa.py:81:load_qa_frame: Loaded QA file /Users/xavier/DESI/DESI_SCRATCH/redux/madrone/calib2d/20160607/qa-z0-00000003.yaml\n"
     ]
    },
    {
     "name": "stderr",
     "output_type": "stream",
     "text": [
      "INFO:DESI:Loaded QA file /Users/xavier/DESI/DESI_SCRATCH/redux/madrone/calib2d/20160607/qa-z0-00000003.yaml\n"
     ]
    },
    {
     "name": "stdout",
     "output_type": "stream",
     "text": [
      "WARNING:fiberflat.py:569:qa_fiberflat: Discrepant flux in fiberflat: 0.00367254, 259\n"
     ]
    },
    {
     "name": "stderr",
     "output_type": "stream",
     "text": [
      "WARNING:DESI:Discrepant flux in fiberflat: 0.00367254, 259\n"
     ]
    },
    {
     "name": "stdout",
     "output_type": "stream",
     "text": [
      "WARNING:fiberflat.py:574:qa_fiberflat: Large offset in fiberflat: 0.195059\n"
     ]
    },
    {
     "name": "stderr",
     "output_type": "stream",
     "text": [
      "WARNING:DESI:Large offset in fiberflat: 0.195059\n"
     ]
    },
    {
     "name": "stdout",
     "output_type": "stream",
     "text": [
      "WARNING:fiberflat.py:582:qa_fiberflat: Discrepant mean in fiberflat: 0.0396644, 454\n"
     ]
    },
    {
     "name": "stderr",
     "output_type": "stream",
     "text": [
      "WARNING:DESI:Discrepant mean in fiberflat: 0.0396644, 454\n"
     ]
    },
    {
     "name": "stdout",
     "output_type": "stream",
     "text": [
      "WARNING:fiberflat.py:591:qa_fiberflat: Large RMS in fiberflat: 0.0224109, 448\n"
     ]
    },
    {
     "name": "stderr",
     "output_type": "stream",
     "text": [
      "WARNING:DESI:Large RMS in fiberflat: 0.0224109, 448\n"
     ]
    },
    {
     "name": "stdout",
     "output_type": "stream",
     "text": [
      "Wrote QA SkyRes file: /Users/xavier/DESI/DESI_SCRATCH/redux/madrone/calib2d/20160607/qa-flat-z0-00000003.pdf\n",
      "INFO:qa.py:81:load_qa_frame: Loaded QA file /Users/xavier/DESI/DESI_SCRATCH/redux/madrone/calib2d/20160607/qa-z1-00000003.yaml\n"
     ]
    },
    {
     "name": "stderr",
     "output_type": "stream",
     "text": [
      "INFO:DESI:Loaded QA file /Users/xavier/DESI/DESI_SCRATCH/redux/madrone/calib2d/20160607/qa-z1-00000003.yaml\n"
     ]
    },
    {
     "name": "stdout",
     "output_type": "stream",
     "text": [
      "WARNING:fiberflat.py:569:qa_fiberflat: Discrepant flux in fiberflat: 0.00335505, 400\n"
     ]
    },
    {
     "name": "stderr",
     "output_type": "stream",
     "text": [
      "WARNING:DESI:Discrepant flux in fiberflat: 0.00335505, 400\n"
     ]
    },
    {
     "name": "stdout",
     "output_type": "stream",
     "text": [
      "WARNING:fiberflat.py:574:qa_fiberflat: Large offset in fiberflat: 0.210367\n"
     ]
    },
    {
     "name": "stderr",
     "output_type": "stream",
     "text": [
      "WARNING:DESI:Large offset in fiberflat: 0.210367\n"
     ]
    },
    {
     "name": "stdout",
     "output_type": "stream",
     "text": [
      "WARNING:fiberflat.py:582:qa_fiberflat: Discrepant mean in fiberflat: 0.0238405, 174\n"
     ]
    },
    {
     "name": "stderr",
     "output_type": "stream",
     "text": [
      "WARNING:DESI:Discrepant mean in fiberflat: 0.0238405, 174\n"
     ]
    },
    {
     "name": "stdout",
     "output_type": "stream",
     "text": [
      "WARNING:fiberflat.py:591:qa_fiberflat: Large RMS in fiberflat: 0.0205416, 14\n"
     ]
    },
    {
     "name": "stderr",
     "output_type": "stream",
     "text": [
      "WARNING:DESI:Large RMS in fiberflat: 0.0205416, 14\n"
     ]
    },
    {
     "name": "stdout",
     "output_type": "stream",
     "text": [
      "Wrote QA SkyRes file: /Users/xavier/DESI/DESI_SCRATCH/redux/madrone/calib2d/20160607/qa-flat-z1-00000003.pdf\n",
      "INFO:qa.py:81:load_qa_frame: Loaded QA file /Users/xavier/DESI/DESI_SCRATCH/redux/madrone/calib2d/20160607/qa-r0-00000004.yaml\n"
     ]
    },
    {
     "name": "stderr",
     "output_type": "stream",
     "text": [
      "INFO:DESI:Loaded QA file /Users/xavier/DESI/DESI_SCRATCH/redux/madrone/calib2d/20160607/qa-r0-00000004.yaml\n"
     ]
    },
    {
     "name": "stdout",
     "output_type": "stream",
     "text": [
      "WARNING:fiberflat.py:547:qa_fiberflat: Low counts in meanspec = 37114.7\n"
     ]
    },
    {
     "name": "stderr",
     "output_type": "stream",
     "text": [
      "WARNING:DESI:Low counts in meanspec = 37114.7\n"
     ]
    },
    {
     "name": "stdout",
     "output_type": "stream",
     "text": [
      "WARNING:fiberflat.py:569:qa_fiberflat: Discrepant flux in fiberflat: 0.00129257, 268\n"
     ]
    },
    {
     "name": "stderr",
     "output_type": "stream",
     "text": [
      "WARNING:DESI:Discrepant flux in fiberflat: 0.00129257, 268\n"
     ]
    },
    {
     "name": "stdout",
     "output_type": "stream",
     "text": [
      "WARNING:fiberflat.py:582:qa_fiberflat: Discrepant mean in fiberflat: 0.00788963, 160\n"
     ]
    },
    {
     "name": "stderr",
     "output_type": "stream",
     "text": [
      "WARNING:DESI:Discrepant mean in fiberflat: 0.00788963, 160\n"
     ]
    },
    {
     "name": "stdout",
     "output_type": "stream",
     "text": [
      "WARNING:fiberflat.py:591:qa_fiberflat: Large RMS in fiberflat: 0.0167342, 45\n"
     ]
    },
    {
     "name": "stderr",
     "output_type": "stream",
     "text": [
      "WARNING:DESI:Large RMS in fiberflat: 0.0167342, 45\n"
     ]
    },
    {
     "name": "stdout",
     "output_type": "stream",
     "text": [
      "Wrote QA SkyRes file: /Users/xavier/DESI/DESI_SCRATCH/redux/madrone/calib2d/20160607/qa-flat-r0-00000004.pdf\n",
      "INFO:qa.py:81:load_qa_frame: Loaded QA file /Users/xavier/DESI/DESI_SCRATCH/redux/madrone/calib2d/20160607/qa-r1-00000004.yaml\n"
     ]
    },
    {
     "name": "stderr",
     "output_type": "stream",
     "text": [
      "INFO:DESI:Loaded QA file /Users/xavier/DESI/DESI_SCRATCH/redux/madrone/calib2d/20160607/qa-r1-00000004.yaml\n"
     ]
    },
    {
     "name": "stdout",
     "output_type": "stream",
     "text": [
      "WARNING:fiberflat.py:547:qa_fiberflat: Low counts in meanspec = 37129\n"
     ]
    },
    {
     "name": "stderr",
     "output_type": "stream",
     "text": [
      "WARNING:DESI:Low counts in meanspec = 37129\n"
     ]
    },
    {
     "name": "stdout",
     "output_type": "stream",
     "text": [
      "WARNING:fiberflat.py:569:qa_fiberflat: Discrepant flux in fiberflat: 0.00189086, 247\n"
     ]
    },
    {
     "name": "stderr",
     "output_type": "stream",
     "text": [
      "WARNING:DESI:Discrepant flux in fiberflat: 0.00189086, 247\n"
     ]
    },
    {
     "name": "stdout",
     "output_type": "stream",
     "text": [
      "WARNING:fiberflat.py:574:qa_fiberflat: Large offset in fiberflat: 0.405313\n"
     ]
    },
    {
     "name": "stderr",
     "output_type": "stream",
     "text": [
      "WARNING:DESI:Large offset in fiberflat: 0.405313\n"
     ]
    },
    {
     "name": "stdout",
     "output_type": "stream",
     "text": [
      "WARNING:fiberflat.py:582:qa_fiberflat: Discrepant mean in fiberflat: 0.0205664, 441\n"
     ]
    },
    {
     "name": "stderr",
     "output_type": "stream",
     "text": [
      "WARNING:DESI:Discrepant mean in fiberflat: 0.0205664, 441\n"
     ]
    },
    {
     "name": "stdout",
     "output_type": "stream",
     "text": [
      "WARNING:fiberflat.py:591:qa_fiberflat: Large RMS in fiberflat: 0.0526389, 441\n"
     ]
    },
    {
     "name": "stderr",
     "output_type": "stream",
     "text": [
      "WARNING:DESI:Large RMS in fiberflat: 0.0526389, 441\n"
     ]
    },
    {
     "name": "stdout",
     "output_type": "stream",
     "text": [
      "Wrote QA SkyRes file: /Users/xavier/DESI/DESI_SCRATCH/redux/madrone/calib2d/20160607/qa-flat-r1-00000004.pdf\n",
      "INFO:qa.py:81:load_qa_frame: Loaded QA file /Users/xavier/DESI/DESI_SCRATCH/redux/madrone/calib2d/20160607/qa-b0-00000004.yaml\n"
     ]
    },
    {
     "name": "stderr",
     "output_type": "stream",
     "text": [
      "INFO:DESI:Loaded QA file /Users/xavier/DESI/DESI_SCRATCH/redux/madrone/calib2d/20160607/qa-b0-00000004.yaml\n"
     ]
    },
    {
     "name": "stdout",
     "output_type": "stream",
     "text": [
      "WARNING:fiberflat.py:547:qa_fiberflat: Low counts in meanspec = 78482.3\n"
     ]
    },
    {
     "name": "stderr",
     "output_type": "stream",
     "text": [
      "WARNING:DESI:Low counts in meanspec = 78482.3\n"
     ]
    },
    {
     "name": "stdout",
     "output_type": "stream",
     "text": [
      "WARNING:fiberflat.py:569:qa_fiberflat: Discrepant flux in fiberflat: 0.00124332, 395\n"
     ]
    },
    {
     "name": "stderr",
     "output_type": "stream",
     "text": [
      "WARNING:DESI:Discrepant flux in fiberflat: 0.00124332, 395\n"
     ]
    },
    {
     "name": "stdout",
     "output_type": "stream",
     "text": [
      "WARNING:fiberflat.py:582:qa_fiberflat: Discrepant mean in fiberflat: 0.00148255, 239\n"
     ]
    },
    {
     "name": "stderr",
     "output_type": "stream",
     "text": [
      "WARNING:DESI:Discrepant mean in fiberflat: 0.00148255, 239\n"
     ]
    },
    {
     "name": "stdout",
     "output_type": "stream",
     "text": [
      "WARNING:fiberflat.py:591:qa_fiberflat: Large RMS in fiberflat: 0.00788844, 498\n"
     ]
    },
    {
     "name": "stderr",
     "output_type": "stream",
     "text": [
      "WARNING:DESI:Large RMS in fiberflat: 0.00788844, 498\n"
     ]
    },
    {
     "name": "stdout",
     "output_type": "stream",
     "text": [
      "Wrote QA SkyRes file: /Users/xavier/DESI/DESI_SCRATCH/redux/madrone/calib2d/20160607/qa-flat-b0-00000004.pdf\n",
      "INFO:qa.py:81:load_qa_frame: Loaded QA file /Users/xavier/DESI/DESI_SCRATCH/redux/madrone/calib2d/20160607/qa-b1-00000004.yaml\n"
     ]
    },
    {
     "name": "stderr",
     "output_type": "stream",
     "text": [
      "INFO:DESI:Loaded QA file /Users/xavier/DESI/DESI_SCRATCH/redux/madrone/calib2d/20160607/qa-b1-00000004.yaml\n"
     ]
    },
    {
     "name": "stdout",
     "output_type": "stream",
     "text": [
      "WARNING:fiberflat.py:547:qa_fiberflat: Low counts in meanspec = 78335.8\n"
     ]
    },
    {
     "name": "stderr",
     "output_type": "stream",
     "text": [
      "WARNING:DESI:Low counts in meanspec = 78335.8\n"
     ]
    },
    {
     "name": "stdout",
     "output_type": "stream",
     "text": [
      "WARNING:fiberflat.py:569:qa_fiberflat: Discrepant flux in fiberflat: 0.00129859, 314\n"
     ]
    },
    {
     "name": "stderr",
     "output_type": "stream",
     "text": [
      "WARNING:DESI:Discrepant flux in fiberflat: 0.00129859, 314\n"
     ]
    },
    {
     "name": "stdout",
     "output_type": "stream",
     "text": [
      "WARNING:fiberflat.py:582:qa_fiberflat: Discrepant mean in fiberflat: 0.00141853, 492\n"
     ]
    },
    {
     "name": "stderr",
     "output_type": "stream",
     "text": [
      "WARNING:DESI:Discrepant mean in fiberflat: 0.00141853, 492\n"
     ]
    },
    {
     "name": "stdout",
     "output_type": "stream",
     "text": [
      "WARNING:fiberflat.py:591:qa_fiberflat: Large RMS in fiberflat: 0.007921, 184\n"
     ]
    },
    {
     "name": "stderr",
     "output_type": "stream",
     "text": [
      "WARNING:DESI:Large RMS in fiberflat: 0.007921, 184\n"
     ]
    },
    {
     "name": "stdout",
     "output_type": "stream",
     "text": [
      "Wrote QA SkyRes file: /Users/xavier/DESI/DESI_SCRATCH/redux/madrone/calib2d/20160607/qa-flat-b1-00000004.pdf\n",
      "INFO:qa.py:81:load_qa_frame: Loaded QA file /Users/xavier/DESI/DESI_SCRATCH/redux/madrone/calib2d/20160607/qa-z0-00000004.yaml\n"
     ]
    },
    {
     "name": "stderr",
     "output_type": "stream",
     "text": [
      "INFO:DESI:Loaded QA file /Users/xavier/DESI/DESI_SCRATCH/redux/madrone/calib2d/20160607/qa-z0-00000004.yaml\n"
     ]
    },
    {
     "name": "stdout",
     "output_type": "stream",
     "text": [
      "WARNING:fiberflat.py:569:qa_fiberflat: Discrepant flux in fiberflat: 0.00340091, 259\n"
     ]
    },
    {
     "name": "stderr",
     "output_type": "stream",
     "text": [
      "WARNING:DESI:Discrepant flux in fiberflat: 0.00340091, 259\n"
     ]
    },
    {
     "name": "stdout",
     "output_type": "stream",
     "text": [
      "WARNING:fiberflat.py:574:qa_fiberflat: Large offset in fiberflat: 0.195634\n"
     ]
    },
    {
     "name": "stderr",
     "output_type": "stream",
     "text": [
      "WARNING:DESI:Large offset in fiberflat: 0.195634\n"
     ]
    },
    {
     "name": "stdout",
     "output_type": "stream",
     "text": [
      "WARNING:fiberflat.py:582:qa_fiberflat: Discrepant mean in fiberflat: 0.0350391, 249\n"
     ]
    },
    {
     "name": "stderr",
     "output_type": "stream",
     "text": [
      "WARNING:DESI:Discrepant mean in fiberflat: 0.0350391, 249\n"
     ]
    },
    {
     "name": "stdout",
     "output_type": "stream",
     "text": [
      "WARNING:fiberflat.py:591:qa_fiberflat: Large RMS in fiberflat: 0.0223984, 448\n"
     ]
    },
    {
     "name": "stderr",
     "output_type": "stream",
     "text": [
      "WARNING:DESI:Large RMS in fiberflat: 0.0223984, 448\n"
     ]
    },
    {
     "name": "stdout",
     "output_type": "stream",
     "text": [
      "Wrote QA SkyRes file: /Users/xavier/DESI/DESI_SCRATCH/redux/madrone/calib2d/20160607/qa-flat-z0-00000004.pdf\n",
      "INFO:qa.py:81:load_qa_frame: Loaded QA file /Users/xavier/DESI/DESI_SCRATCH/redux/madrone/calib2d/20160607/qa-z1-00000004.yaml\n"
     ]
    },
    {
     "name": "stderr",
     "output_type": "stream",
     "text": [
      "INFO:DESI:Loaded QA file /Users/xavier/DESI/DESI_SCRATCH/redux/madrone/calib2d/20160607/qa-z1-00000004.yaml\n"
     ]
    },
    {
     "name": "stdout",
     "output_type": "stream",
     "text": [
      "WARNING:fiberflat.py:569:qa_fiberflat: Discrepant flux in fiberflat: 0.00367, 15\n"
     ]
    },
    {
     "name": "stderr",
     "output_type": "stream",
     "text": [
      "WARNING:DESI:Discrepant flux in fiberflat: 0.00367, 15\n"
     ]
    },
    {
     "name": "stdout",
     "output_type": "stream",
     "text": [
      "WARNING:fiberflat.py:574:qa_fiberflat: Large offset in fiberflat: 0.177258\n"
     ]
    },
    {
     "name": "stderr",
     "output_type": "stream",
     "text": [
      "WARNING:DESI:Large offset in fiberflat: 0.177258\n"
     ]
    },
    {
     "name": "stdout",
     "output_type": "stream",
     "text": [
      "WARNING:fiberflat.py:582:qa_fiberflat: Discrepant mean in fiberflat: 0.0180792, 174\n"
     ]
    },
    {
     "name": "stderr",
     "output_type": "stream",
     "text": [
      "WARNING:DESI:Discrepant mean in fiberflat: 0.0180792, 174\n"
     ]
    },
    {
     "name": "stdout",
     "output_type": "stream",
     "text": [
      "WARNING:fiberflat.py:591:qa_fiberflat: Large RMS in fiberflat: 0.0204286, 14\n"
     ]
    },
    {
     "name": "stderr",
     "output_type": "stream",
     "text": [
      "WARNING:DESI:Large RMS in fiberflat: 0.0204286, 14\n"
     ]
    },
    {
     "name": "stdout",
     "output_type": "stream",
     "text": [
      "Wrote QA SkyRes file: /Users/xavier/DESI/DESI_SCRATCH/redux/madrone/calib2d/20160607/qa-flat-z1-00000004.pdf\n",
      "INFO:qa.py:81:load_qa_frame: Loaded QA file /Users/xavier/DESI/DESI_SCRATCH/redux/madrone/calib2d/20160607/qa-r0-00000005.yaml\n"
     ]
    },
    {
     "name": "stderr",
     "output_type": "stream",
     "text": [
      "INFO:DESI:Loaded QA file /Users/xavier/DESI/DESI_SCRATCH/redux/madrone/calib2d/20160607/qa-r0-00000005.yaml\n"
     ]
    },
    {
     "name": "stdout",
     "output_type": "stream",
     "text": [
      "WARNING:fiberflat.py:547:qa_fiberflat: Low counts in meanspec = 37082.2\n"
     ]
    },
    {
     "name": "stderr",
     "output_type": "stream",
     "text": [
      "WARNING:DESI:Low counts in meanspec = 37082.2\n"
     ]
    },
    {
     "name": "stdout",
     "output_type": "stream",
     "text": [
      "WARNING:fiberflat.py:569:qa_fiberflat: Discrepant flux in fiberflat: 0.00128267, 268\n"
     ]
    },
    {
     "name": "stderr",
     "output_type": "stream",
     "text": [
      "WARNING:DESI:Discrepant flux in fiberflat: 0.00128267, 268\n"
     ]
    },
    {
     "name": "stdout",
     "output_type": "stream",
     "text": [
      "WARNING:fiberflat.py:574:qa_fiberflat: Large offset in fiberflat: 0.157317\n"
     ]
    },
    {
     "name": "stderr",
     "output_type": "stream",
     "text": [
      "WARNING:DESI:Large offset in fiberflat: 0.157317\n"
     ]
    },
    {
     "name": "stdout",
     "output_type": "stream",
     "text": [
      "WARNING:fiberflat.py:582:qa_fiberflat: Discrepant mean in fiberflat: 0.0137753, 39\n"
     ]
    },
    {
     "name": "stderr",
     "output_type": "stream",
     "text": [
      "WARNING:DESI:Discrepant mean in fiberflat: 0.0137753, 39\n"
     ]
    },
    {
     "name": "stdout",
     "output_type": "stream",
     "text": [
      "WARNING:fiberflat.py:591:qa_fiberflat: Large RMS in fiberflat: 0.0168592, 45\n"
     ]
    },
    {
     "name": "stderr",
     "output_type": "stream",
     "text": [
      "WARNING:DESI:Large RMS in fiberflat: 0.0168592, 45\n"
     ]
    },
    {
     "name": "stdout",
     "output_type": "stream",
     "text": [
      "Wrote QA SkyRes file: /Users/xavier/DESI/DESI_SCRATCH/redux/madrone/calib2d/20160607/qa-flat-r0-00000005.pdf\n",
      "INFO:qa.py:81:load_qa_frame: Loaded QA file /Users/xavier/DESI/DESI_SCRATCH/redux/madrone/calib2d/20160607/qa-r1-00000005.yaml\n"
     ]
    },
    {
     "name": "stderr",
     "output_type": "stream",
     "text": [
      "INFO:DESI:Loaded QA file /Users/xavier/DESI/DESI_SCRATCH/redux/madrone/calib2d/20160607/qa-r1-00000005.yaml\n"
     ]
    },
    {
     "name": "stdout",
     "output_type": "stream",
     "text": [
      "WARNING:fiberflat.py:547:qa_fiberflat: Low counts in meanspec = 37112.3\n"
     ]
    },
    {
     "name": "stderr",
     "output_type": "stream",
     "text": [
      "WARNING:DESI:Low counts in meanspec = 37112.3\n"
     ]
    },
    {
     "name": "stdout",
     "output_type": "stream",
     "text": [
      "WARNING:fiberflat.py:569:qa_fiberflat: Discrepant flux in fiberflat: 0.00146411, 324\n"
     ]
    },
    {
     "name": "stderr",
     "output_type": "stream",
     "text": [
      "WARNING:DESI:Discrepant flux in fiberflat: 0.00146411, 324\n"
     ]
    },
    {
     "name": "stdout",
     "output_type": "stream",
     "text": [
      "WARNING:fiberflat.py:574:qa_fiberflat: Large offset in fiberflat: 0.919158\n"
     ]
    },
    {
     "name": "stderr",
     "output_type": "stream",
     "text": [
      "WARNING:DESI:Large offset in fiberflat: 0.919158\n"
     ]
    },
    {
     "name": "stdout",
     "output_type": "stream",
     "text": [
      "WARNING:fiberflat.py:582:qa_fiberflat: Discrepant mean in fiberflat: 0.015547, 441\n"
     ]
    },
    {
     "name": "stderr",
     "output_type": "stream",
     "text": [
      "WARNING:DESI:Discrepant mean in fiberflat: 0.015547, 441\n"
     ]
    },
    {
     "name": "stdout",
     "output_type": "stream",
     "text": [
      "WARNING:fiberflat.py:591:qa_fiberflat: Large RMS in fiberflat: 0.0537721, 441\n"
     ]
    },
    {
     "name": "stderr",
     "output_type": "stream",
     "text": [
      "WARNING:DESI:Large RMS in fiberflat: 0.0537721, 441\n"
     ]
    },
    {
     "name": "stdout",
     "output_type": "stream",
     "text": [
      "Wrote QA SkyRes file: /Users/xavier/DESI/DESI_SCRATCH/redux/madrone/calib2d/20160607/qa-flat-r1-00000005.pdf\n",
      "INFO:qa.py:81:load_qa_frame: Loaded QA file /Users/xavier/DESI/DESI_SCRATCH/redux/madrone/calib2d/20160607/qa-b0-00000005.yaml\n"
     ]
    },
    {
     "name": "stderr",
     "output_type": "stream",
     "text": [
      "INFO:DESI:Loaded QA file /Users/xavier/DESI/DESI_SCRATCH/redux/madrone/calib2d/20160607/qa-b0-00000005.yaml\n"
     ]
    },
    {
     "name": "stdout",
     "output_type": "stream",
     "text": [
      "WARNING:fiberflat.py:547:qa_fiberflat: Low counts in meanspec = 78321\n"
     ]
    },
    {
     "name": "stderr",
     "output_type": "stream",
     "text": [
      "WARNING:DESI:Low counts in meanspec = 78321\n"
     ]
    },
    {
     "name": "stdout",
     "output_type": "stream",
     "text": [
      "WARNING:fiberflat.py:569:qa_fiberflat: Discrepant flux in fiberflat: 0.001363, 367\n"
     ]
    },
    {
     "name": "stderr",
     "output_type": "stream",
     "text": [
      "WARNING:DESI:Discrepant flux in fiberflat: 0.001363, 367\n"
     ]
    },
    {
     "name": "stdout",
     "output_type": "stream",
     "text": [
      "WARNING:fiberflat.py:582:qa_fiberflat: Discrepant mean in fiberflat: 0.0016681, 299\n"
     ]
    },
    {
     "name": "stderr",
     "output_type": "stream",
     "text": [
      "WARNING:DESI:Discrepant mean in fiberflat: 0.0016681, 299\n"
     ]
    },
    {
     "name": "stdout",
     "output_type": "stream",
     "text": [
      "WARNING:fiberflat.py:591:qa_fiberflat: Large RMS in fiberflat: 0.0079466, 437\n"
     ]
    },
    {
     "name": "stderr",
     "output_type": "stream",
     "text": [
      "WARNING:DESI:Large RMS in fiberflat: 0.0079466, 437\n"
     ]
    },
    {
     "name": "stdout",
     "output_type": "stream",
     "text": [
      "Wrote QA SkyRes file: /Users/xavier/DESI/DESI_SCRATCH/redux/madrone/calib2d/20160607/qa-flat-b0-00000005.pdf\n",
      "INFO:qa.py:81:load_qa_frame: Loaded QA file /Users/xavier/DESI/DESI_SCRATCH/redux/madrone/calib2d/20160607/qa-b1-00000005.yaml\n"
     ]
    },
    {
     "name": "stderr",
     "output_type": "stream",
     "text": [
      "INFO:DESI:Loaded QA file /Users/xavier/DESI/DESI_SCRATCH/redux/madrone/calib2d/20160607/qa-b1-00000005.yaml\n"
     ]
    },
    {
     "name": "stdout",
     "output_type": "stream",
     "text": [
      "WARNING:fiberflat.py:547:qa_fiberflat: Low counts in meanspec = 78364.5\n"
     ]
    },
    {
     "name": "stderr",
     "output_type": "stream",
     "text": [
      "WARNING:DESI:Low counts in meanspec = 78364.5\n"
     ]
    },
    {
     "name": "stdout",
     "output_type": "stream",
     "text": [
      "WARNING:fiberflat.py:569:qa_fiberflat: Discrepant flux in fiberflat: 0.00123105, 256\n"
     ]
    },
    {
     "name": "stderr",
     "output_type": "stream",
     "text": [
      "WARNING:DESI:Discrepant flux in fiberflat: 0.00123105, 256\n"
     ]
    },
    {
     "name": "stdout",
     "output_type": "stream",
     "text": [
      "WARNING:fiberflat.py:582:qa_fiberflat: Discrepant mean in fiberflat: 0.00250363, 495\n"
     ]
    },
    {
     "name": "stderr",
     "output_type": "stream",
     "text": [
      "WARNING:DESI:Discrepant mean in fiberflat: 0.00250363, 495\n"
     ]
    },
    {
     "name": "stdout",
     "output_type": "stream",
     "text": [
      "WARNING:fiberflat.py:591:qa_fiberflat: Large RMS in fiberflat: 0.00791223, 80\n"
     ]
    },
    {
     "name": "stderr",
     "output_type": "stream",
     "text": [
      "WARNING:DESI:Large RMS in fiberflat: 0.00791223, 80\n"
     ]
    }
   ],
   "source": [
    "qa_prod.remake_frame_qa(remake_plots=True)"
   ]
  },
  {
   "cell_type": "code",
   "execution_count": 5,
   "metadata": {
    "collapsed": true
   },
   "outputs": [],
   "source": [
    "?np.all"
   ]
  },
  {
   "cell_type": "code",
   "execution_count": null,
   "metadata": {
    "collapsed": true
   },
   "outputs": [],
   "source": []
  }
 ],
 "metadata": {
  "kernelspec": {
   "display_name": "Python 2",
   "language": "python",
   "name": "python2"
  },
  "language_info": {
   "codemirror_mode": {
    "name": "ipython",
    "version": 2
   },
   "file_extension": ".py",
   "mimetype": "text/x-python",
   "name": "python",
   "nbconvert_exporter": "python",
   "pygments_lexer": "ipython2",
   "version": "2.7.11"
  }
 },
 "nbformat": 4,
 "nbformat_minor": 0
}
