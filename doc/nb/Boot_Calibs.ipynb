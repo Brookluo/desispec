{
 "cells": [
  {
   "cell_type": "markdown",
   "metadata": {},
   "source": [
    "# Bootstrap Calibrations"
   ]
  },
  {
   "cell_type": "code",
   "execution_count": 47,
   "metadata": {
    "collapsed": true
   },
   "outputs": [],
   "source": [
    "%matplotlib inline"
   ]
  },
  {
   "cell_type": "code",
   "execution_count": 1,
   "metadata": {
    "collapsed": true
   },
   "outputs": [],
   "source": [
    "# imports\n",
    "from desispec import bootcalib as desiboot\n",
    "import numpy as np\n",
    "from astropy.modeling import models, fitting\n",
    "from xastropy.xutils import afits as xafits"
   ]
  },
  {
   "cell_type": "markdown",
   "metadata": {},
   "source": [
    "## Find peaks"
   ]
  },
  {
   "cell_type": "code",
   "execution_count": 2,
   "metadata": {
    "collapsed": true
   },
   "outputs": [],
   "source": [
    "# Read flat\n",
    "flat = fits.open('/Users/xavier/DESI/Wavelengths/pix-b0-00000001.fits')[0].data"
   ]
  },
  {
   "cell_type": "code",
   "execution_count": 3,
   "metadata": {
    "collapsed": false
   },
   "outputs": [
    {
     "name": "stdout",
     "output_type": "stream",
     "text": [
      "Found 500 fibers\n",
      "Found 20 bundles\n"
     ]
    }
   ],
   "source": [
    "reload(desiboot)\n",
    "xpk, ypos, cut = desiboot.find_fiber_peaks(flat)#,debug=True)"
   ]
  },
  {
   "cell_type": "code",
   "execution_count": 52,
   "metadata": {
    "collapsed": false
   },
   "outputs": [],
   "source": [
    "# Check\n",
    "plt.clf()\n",
    "plt.figure(figsize=(16,7))\n",
    "xplt = np.arange(cut.size)\n",
    "plt.plot(xplt,cut, 'k-')\n",
    "plt.plot(xpk, cut[xpk],'go')\n",
    "plt.xlim(100,500)\n",
    "plt.show()"
   ]
  },
  {
   "cell_type": "markdown",
   "metadata": {},
   "source": [
    "## Trace the flat spectra"
   ]
  },
  {
   "cell_type": "markdown",
   "metadata": {},
   "source": [
    "### Crude estimate (flux weighted centroid)"
   ]
  },
  {
   "cell_type": "code",
   "execution_count": 4,
   "metadata": {
    "collapsed": false
   },
   "outputs": [],
   "source": [
    "reload(desiboot)\n",
    "xset, xerr = desiboot.trace_crude_init(flat,xpk[0:50],ypos)"
   ]
  },
  {
   "cell_type": "markdown",
   "metadata": {},
   "source": [
    "### Polynomial fits (test)"
   ]
  },
  {
   "cell_type": "code",
   "execution_count": 13,
   "metadata": {
    "collapsed": false
   },
   "outputs": [],
   "source": [
    "yval = np.arange(4096)\n",
    "ii=4\n",
    "xval = xset[:,ii]\n",
    "gdval = xerr[:,ii] < 999.\n",
    "dfit0 = xafits.func_fit(yval[gdval],xval[gdval],'legendre',6)"
   ]
  },
  {
   "cell_type": "code",
   "execution_count": 14,
   "metadata": {
    "collapsed": true
   },
   "outputs": [],
   "source": [
    "fitv = xafits.func_val(yval,dfit0)"
   ]
  },
  {
   "cell_type": "code",
   "execution_count": 15,
   "metadata": {
    "collapsed": true
   },
   "outputs": [],
   "source": [
    "# Fit\n",
    "xdb.xplot(yval,fitv, xtwo=yval,ytwo=xset[:,ii],mtwo='+')"
   ]
  },
  {
   "cell_type": "code",
   "execution_count": 16,
   "metadata": {
    "collapsed": true
   },
   "outputs": [],
   "source": [
    "# Residuals\n",
    "xdb.xplot(yval[gdval],fitv[gdval]-xval[gdval], scatter=True)"
   ]
  },
  {
   "cell_type": "markdown",
   "metadata": {},
   "source": [
    "### Polynomial fits (True)"
   ]
  },
  {
   "cell_type": "code",
   "execution_count": 5,
   "metadata": {
    "collapsed": false
   },
   "outputs": [],
   "source": [
    "reload(desiboot)\n",
    "xfit, fits = desiboot.fit_traces(xset,xerr)#[:,0:5],xerr[:,0:5])"
   ]
  },
  {
   "cell_type": "markdown",
   "metadata": {},
   "source": [
    "### QA"
   ]
  },
  {
   "cell_type": "code",
   "execution_count": 19,
   "metadata": {
    "collapsed": false
   },
   "outputs": [
    {
     "name": "stdout",
     "output_type": "stream",
     "text": [
      "Writing fiber_trace_qa.pdf QA for fiber trace\n"
     ]
    }
   ],
   "source": [
    "reload(desiboot)\n",
    "desiboot.fiber_trace_qa(flat,xfit)"
   ]
  },
  {
   "cell_type": "markdown",
   "metadata": {},
   "source": [
    "## PSF"
   ]
  },
  {
   "cell_type": "markdown",
   "metadata": {},
   "source": [
    "### Sigma for each fiber (initial guess)"
   ]
  },
  {
   "cell_type": "code",
   "execution_count": 6,
   "metadata": {
    "collapsed": false
   },
   "outputs": [
    {
     "name": "stderr",
     "output_type": "stream",
     "text": [
      "/Users/xavier/DESI/desispec/py/desispec/bootcalib.py:78: RuntimeWarning: invalid value encountered in log\n",
      "  np.log(amp)-np.log(fnimg) )\n",
      "/Users/xavier/DESI/desispec/py/desispec/bootcalib.py:78: RuntimeWarning: invalid value encountered in sqrt\n",
      "  np.log(amp)-np.log(fnimg) )\n",
      "/Users/xavier/DESI/desispec/py/desispec/bootcalib.py:78: RuntimeWarning: divide by zero encountered in true_divide\n",
      "  np.log(amp)-np.log(fnimg) )\n",
      "WARNING: AstropyDeprecationWarning: The \"sig\" keyword is now deprecated, use the \"sigma\" keyword instead. [astropy.stats.sigma_clipping]\n",
      "WARNING:astropy:AstropyDeprecationWarning: The \"sig\" keyword is now deprecated, use the \"sigma\" keyword instead.\n"
     ]
    }
   ],
   "source": [
    "reload(desiboot)\n",
    "gauss = desiboot.fiber_gauss(flat,xfit,xerr)#,debug=True)"
   ]
  },
  {
   "cell_type": "markdown",
   "metadata": {},
   "source": [
    "### Fit a 2nd Order Polynomial"
   ]
  },
  {
   "cell_type": "code",
   "execution_count": 7,
   "metadata": {
    "collapsed": false
   },
   "outputs": [],
   "source": [
    "fiber = np.arange(gauss.size)\n",
    "fdict,mask = xafits.iter_fit(fiber, gauss, 'polynomial', 2)"
   ]
  },
  {
   "cell_type": "code",
   "execution_count": 8,
   "metadata": {
    "collapsed": false
   },
   "outputs": [
    {
     "data": {
      "text/plain": [
       "{'coeff': array([  1.13885772e+00,  -6.22223052e-03,  -7.41988283e-05]),\n",
       " 'func': 'polynomial',\n",
       " 'order': 2,\n",
       " 'xmax': 49,\n",
       " 'xmin': 0}"
      ]
     },
     "execution_count": 8,
     "metadata": {},
     "output_type": "execute_result"
    }
   ],
   "source": [
    "fdict"
   ]
  },
  {
   "cell_type": "code",
   "execution_count": null,
   "metadata": {
    "collapsed": true
   },
   "outputs": [],
   "source": [
    "plt.clf()\n",
    "plt.scatter(fiber,gauss)\n",
    "plt.plot(fiber, xafits.fit_val()\n",
    "#plt.xlim(100,500)\n",
    "plt.show()"
   ]
  }
 ],
 "metadata": {
  "kernelspec": {
   "display_name": "Python 2",
   "language": "python",
   "name": "python2"
  },
  "language_info": {
   "codemirror_mode": {
    "name": "ipython",
    "version": 2
   },
   "file_extension": ".py",
   "mimetype": "text/x-python",
   "name": "python",
   "nbconvert_exporter": "python",
   "pygments_lexer": "ipython2",
   "version": "2.7.10"
  }
 },
 "nbformat": 4,
 "nbformat_minor": 0
}
