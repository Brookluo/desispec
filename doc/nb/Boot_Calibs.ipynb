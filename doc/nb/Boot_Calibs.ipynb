{
 "cells": [
  {
   "cell_type": "markdown",
   "metadata": {},
   "source": [
    "# Bootstrap Calibrations"
   ]
  },
  {
   "cell_type": "code",
   "execution_count": 62,
   "metadata": {
    "collapsed": true
   },
   "outputs": [],
   "source": [
    "%matplotlib inline"
   ]
  },
  {
   "cell_type": "code",
   "execution_count": 66,
   "metadata": {
    "collapsed": false
   },
   "outputs": [],
   "source": [
    "# imports\n",
    "try:\n",
    "    import seaborn as sns; sns.set(context=\"notebook\",font_scale=2)\n",
    "except:\n",
    "    pass\n",
    "\n",
    "from desispec import bootcalib as desiboot\n",
    "\n",
    "from astropy.io import fits\n",
    "from astropy.stats import sigma_clip\n",
    "\n",
    "import numpy as np\n",
    "from astropy.modeling import models, fitting\n",
    "from xastropy.xutils import afits as xafits"
   ]
  },
  {
   "cell_type": "markdown",
   "metadata": {},
   "source": [
    "## Find peaks"
   ]
  },
  {
   "cell_type": "code",
   "execution_count": 2,
   "metadata": {
    "collapsed": true
   },
   "outputs": [],
   "source": [
    "# Read flat\n",
    "flat = fits.open('/Users/xavier/DESI/Wavelengths/pix-b0-00000001.fits')[0].data"
   ]
  },
  {
   "cell_type": "code",
   "execution_count": 3,
   "metadata": {
    "collapsed": false
   },
   "outputs": [
    {
     "name": "stdout",
     "output_type": "stream",
     "text": [
      "Found 500 fibers\n",
      "Found 20 bundles\n"
     ]
    }
   ],
   "source": [
    "reload(desiboot)\n",
    "xpk, ypos, cut = desiboot.find_fiber_peaks(flat)#,debug=True)"
   ]
  },
  {
   "cell_type": "code",
   "execution_count": 5,
   "metadata": {
    "collapsed": false
   },
   "outputs": [],
   "source": [
    "# Check\n",
    "plt.clf()\n",
    "plt.figure(figsize=(16,7))\n",
    "xplt = np.arange(cut.size)\n",
    "plt.plot(xplt,cut, 'k-')\n",
    "plt.plot(xpk, cut[xpk],'go')\n",
    "plt.xlim(100,500)\n",
    "plt.show()\n",
    "plt.close()"
   ]
  },
  {
   "cell_type": "markdown",
   "metadata": {},
   "source": [
    "## Trace the flat spectra"
   ]
  },
  {
   "cell_type": "markdown",
   "metadata": {},
   "source": [
    "### Crude estimate (flux weighted centroid)"
   ]
  },
  {
   "cell_type": "code",
   "execution_count": 6,
   "metadata": {
    "collapsed": false
   },
   "outputs": [],
   "source": [
    "reload(desiboot)\n",
    "xset, xerr = desiboot.trace_crude_init(flat,xpk[0:50],ypos)"
   ]
  },
  {
   "cell_type": "markdown",
   "metadata": {},
   "source": [
    "### Polynomial fits (test)"
   ]
  },
  {
   "cell_type": "code",
   "execution_count": 7,
   "metadata": {
    "collapsed": false
   },
   "outputs": [],
   "source": [
    "yval = np.arange(4096)\n",
    "ii=4\n",
    "xval = xset[:,ii]\n",
    "gdval = xerr[:,ii] < 999.\n",
    "dfit0 = xafits.func_fit(yval[gdval],xval[gdval],'legendre',6)"
   ]
  },
  {
   "cell_type": "code",
   "execution_count": 8,
   "metadata": {
    "collapsed": true
   },
   "outputs": [],
   "source": [
    "fitv = xafits.func_val(yval,dfit0)"
   ]
  },
  {
   "cell_type": "code",
   "execution_count": null,
   "metadata": {
    "collapsed": false
   },
   "outputs": [],
   "source": [
    "# Fit\n",
    "xdb.xplot(yval,fitv, xtwo=yval,ytwo=xset[:,ii],mtwo='+')"
   ]
  },
  {
   "cell_type": "code",
   "execution_count": null,
   "metadata": {
    "collapsed": false
   },
   "outputs": [],
   "source": [
    "# Residuals\n",
    "xdb.xplot(yval[gdval],fitv[gdval]-xval[gdval], scatter=True)"
   ]
  },
  {
   "cell_type": "markdown",
   "metadata": {},
   "source": [
    "### Polynomial fits (True)"
   ]
  },
  {
   "cell_type": "code",
   "execution_count": 9,
   "metadata": {
    "collapsed": false
   },
   "outputs": [],
   "source": [
    "reload(desiboot)\n",
    "xfit, fdicts = desiboot.fit_traces(xset,xerr)#[:,0:5],xerr[:,0:5])"
   ]
  },
  {
   "cell_type": "markdown",
   "metadata": {},
   "source": [
    "### QA"
   ]
  },
  {
   "cell_type": "code",
   "execution_count": 10,
   "metadata": {
    "collapsed": false
   },
   "outputs": [
    {
     "name": "stdout",
     "output_type": "stream",
     "text": [
      "Writing fiber_trace_qa.pdf QA for fiber trace\n"
     ]
    }
   ],
   "source": [
    "reload(desiboot)\n",
    "desiboot.fiber_trace_qa(flat,xfit)"
   ]
  },
  {
   "cell_type": "markdown",
   "metadata": {},
   "source": [
    "## PSF"
   ]
  },
  {
   "cell_type": "markdown",
   "metadata": {},
   "source": [
    "### Sigma for each fiber (initial guess)"
   ]
  },
  {
   "cell_type": "code",
   "execution_count": 13,
   "metadata": {
    "collapsed": false
   },
   "outputs": [],
   "source": [
    "reload(desiboot)\n",
    "gauss = desiboot.fiber_gauss(flat,xfit,xerr)#,verbose=True)#,debug=True)"
   ]
  },
  {
   "cell_type": "markdown",
   "metadata": {},
   "source": [
    "### Fit a 2nd Order Polynomial"
   ]
  },
  {
   "cell_type": "code",
   "execution_count": 14,
   "metadata": {
    "collapsed": false
   },
   "outputs": [],
   "source": [
    "fiber = np.arange(gauss.size)\n",
    "gfdict,mask = xafits.iter_fit(fiber, gauss, 'polynomial', 2)"
   ]
  },
  {
   "cell_type": "code",
   "execution_count": 15,
   "metadata": {
    "collapsed": false
   },
   "outputs": [
    {
     "data": {
      "text/plain": [
       "{'coeff': array([  1.13884605e+00,  -6.21915177e-03,  -5.39514007e-05]),\n",
       " 'func': 'polynomial',\n",
       " 'order': 2,\n",
       " 'xmax': 49,\n",
       " 'xmin': 0}"
      ]
     },
     "execution_count": 15,
     "metadata": {},
     "output_type": "execute_result"
    }
   ],
   "source": [
    "gfdict"
   ]
  },
  {
   "cell_type": "code",
   "execution_count": 71,
   "metadata": {
    "collapsed": false
   },
   "outputs": [
    {
     "data": {
      "image/png": "[encoded data removed]",
      "text/plain": [
       "<matplotlib.figure.Figure at 0x12267dbd0>"
      ]
     },
     "metadata": {},
     "output_type": "display_data"
    }
   ],
   "source": [
    "plt.clf()\n",
    "plt.scatter(fiber,gauss)\n",
    "plt.plot(fiber, xafits.func_val(fiber,gfdict),'k-')\n",
    "#plt.xlim(100,500)\n",
    "plt.show()\n",
    "plt.close()"
   ]
  },
  {
   "cell_type": "markdown",
   "metadata": {},
   "source": [
    "## Extract Arc (one fiber at a time)"
   ]
  },
  {
   "cell_type": "markdown",
   "metadata": {},
   "source": [
    "### Load Image"
   ]
  },
  {
   "cell_type": "code",
   "execution_count": 17,
   "metadata": {
    "collapsed": true
   },
   "outputs": [],
   "source": [
    "arc = fits.open('/Users/xavier/DESI/Wavelengths/pix-b0-00000000.fits')[0].data"
   ]
  },
  {
   "cell_type": "markdown",
   "metadata": {},
   "source": [
    "### Extract"
   ]
  },
  {
   "cell_type": "code",
   "execution_count": 39,
   "metadata": {
    "collapsed": false
   },
   "outputs": [
    {
     "name": "stdout",
     "output_type": "stream",
     "text": [
      "0\n",
      "10\n",
      "20\n",
      "30\n",
      "40\n"
     ]
    },
    {
     "data": {
      "text/plain": [
       "(4096, 50)"
      ]
     },
     "execution_count": 39,
     "metadata": {},
     "output_type": "execute_result"
    }
   ],
   "source": [
    "reload(desiboot)\n",
    "all_spec = desiboot.extract_sngfibers_gaussianpsf(arc,xfit,gauss)\n",
    "all_spec.shape"
   ]
  },
  {
   "cell_type": "code",
   "execution_count": 70,
   "metadata": {
    "collapsed": false
   },
   "outputs": [
    {
     "data": {
      "image/png": "[encoded data removed]",
      "text/plain": [
       "<matplotlib.figure.Figure at 0x126e91810>"
      ]
     },
     "metadata": {},
     "output_type": "display_data"
    }
   ],
   "source": [
    "xdb.xplot(np.arange(all_spec[:,0].size), all_spec[:,0])#, sv_aspec[1], sv_aspec[2])"
   ]
  },
  {
   "cell_type": "markdown",
   "metadata": {},
   "source": [
    "## Wavelength info"
   ]
  },
  {
   "cell_type": "code",
   "execution_count": 41,
   "metadata": {
    "collapsed": true
   },
   "outputs": [],
   "source": [
    "# Dispersion\n",
    "import desimodel.io"
   ]
  },
  {
   "cell_type": "code",
   "execution_count": 42,
   "metadata": {
    "collapsed": true
   },
   "outputs": [],
   "source": [
    "desi_psf = desimodel.io.load_psf('b')"
   ]
  },
  {
   "cell_type": "code",
   "execution_count": 43,
   "metadata": {
    "collapsed": false
   },
   "outputs": [
    {
     "data": {
      "text/plain": [
       "0.623491140761951"
      ]
     },
     "execution_count": 43,
     "metadata": {},
     "output_type": "execute_result"
    }
   ],
   "source": [
    "desi_psf.wdisp(0,4500.) # fiber, wavelength"
   ]
  },
  {
   "cell_type": "code",
   "execution_count": 44,
   "metadata": {
    "collapsed": false
   },
   "outputs": [],
   "source": [
    "wave0 = desi_psf.wavelength(0,np.arange(desi_psf.npix_y))"
   ]
  },
  {
   "cell_type": "code",
   "execution_count": 45,
   "metadata": {
    "collapsed": false
   },
   "outputs": [
    {
     "data": {
      "text/plain": [
       "5948.6835574399602"
      ]
     },
     "execution_count": 45,
     "metadata": {},
     "output_type": "execute_result"
    }
   ],
   "source": [
    "np.max(wave0)"
   ]
  },
  {
   "cell_type": "code",
   "execution_count": 46,
   "metadata": {
    "collapsed": false
   },
   "outputs": [
    {
     "data": {
      "text/plain": [
       "0.63191076246357203"
      ]
     },
     "execution_count": 46,
     "metadata": {},
     "output_type": "execute_result"
    }
   ],
   "source": [
    "med_bdisp = np.median(desi_psf.wdisp(0,wave0))\n",
    "med_bdisp"
   ]
  },
  {
   "cell_type": "code",
   "execution_count": 47,
   "metadata": {
    "collapsed": false
   },
   "outputs": [
    {
     "data": {
      "text/plain": [
       "0.5920365191327619"
      ]
     },
     "execution_count": 47,
     "metadata": {},
     "output_type": "execute_result"
    }
   ],
   "source": [
    "np.median(np.abs(wave0-np.roll(wave0,1)))"
   ]
  },
  {
   "cell_type": "code",
   "execution_count": 68,
   "metadata": {
    "collapsed": false
   },
   "outputs": [
    {
     "data": {
      "image/png": "[encoded data removed]",
      "text/plain": [
       "<matplotlib.figure.Figure at 0x12da9b3d0>"
      ]
     },
     "metadata": {},
     "output_type": "display_data"
    }
   ],
   "source": [
    "xdb.xplot(wave0,desi_psf.wdisp(0,wave0))"
   ]
  },
  {
   "cell_type": "code",
   "execution_count": 49,
   "metadata": {
    "collapsed": false
   },
   "outputs": [
    {
     "data": {
      "text/plain": [
       "(4096, 4096)"
      ]
     },
     "execution_count": 49,
     "metadata": {},
     "output_type": "execute_result"
    }
   ],
   "source": [
    "desi_psf.npix_x, desi_psf.npix_y"
   ]
  },
  {
   "cell_type": "code",
   "execution_count": 50,
   "metadata": {
    "collapsed": false
   },
   "outputs": [
    {
     "data": {
      "text/plain": [
       "{'coeff': array([ -5.05608278e+03,   6.38522295e-01,   1.09530252e-05]),\n",
       " 'func': 'polynomial',\n",
       " 'order': 2,\n",
       " 'xmax': 1.0,\n",
       " 'xmin': 0.0}"
      ]
     },
     "execution_count": 50,
     "metadata": {},
     "output_type": "execute_result"
    }
   ],
   "source": [
    "poly_fit = xafits.func_fit(wave0,np.arange(desi_psf.npix_y), 'polynomial',2,xmin=0.,xmax=1.)\n",
    "poly_fit"
   ]
  },
  {
   "cell_type": "code",
   "execution_count": 69,
   "metadata": {
    "collapsed": false
   },
   "outputs": [
    {
     "data": {
      "image/png": "[encoded data removed]",
      "text/plain": [
       "<matplotlib.figure.Figure at 0x128e39bd0>"
      ]
     },
     "metadata": {},
     "output_type": "display_data"
    }
   ],
   "source": [
    "xdb.xplot(wave0, np.arange(desi_psf.npix_y),xafits.func_val(wave0,poly_fit))"
   ]
  },
  {
   "cell_type": "markdown",
   "metadata": {},
   "source": [
    "## Find Lines"
   ]
  },
  {
   "cell_type": "code",
   "execution_count": 79,
   "metadata": {
    "collapsed": false
   },
   "outputs": [],
   "source": [
    "reload(desiboot)\n",
    "spec = all_spec[:,0]\n",
    "xpk = desiboot.find_arc_lines(spec)"
   ]
  },
  {
   "cell_type": "code",
   "execution_count": 81,
   "metadata": {
    "collapsed": false
   },
   "outputs": [
    {
     "data": {
      "image/png": "[encoded data removed]",
      "text/plain": [
       "<matplotlib.figure.Figure at 0x12dee8f10>"
      ]
     },
     "metadata": {},
     "output_type": "display_data"
    }
   ],
   "source": [
    "plt.clf()\n",
    "yspec = np.log10(np.maximum(spec,1))\n",
    "xplt = np.arange(spec.size)\n",
    "plt.plot(xplt,yspec,'b-')\n",
    "plt.scatter(xpk,yspec[np.round(xpk).astype(int)],color='red')\n",
    "plt.ylim(0.,np.max(yspec)*1.05)\n",
    "plt.xlim(0,spec.size)\n",
    "plt.xlabel('pixel')\n",
    "plt.ylabel('log Flux')\n",
    "plt.show()\n",
    "plt.close()"
   ]
  },
  {
   "cell_type": "markdown",
   "metadata": {},
   "source": [
    "## Identify Arc Lines"
   ]
  },
  {
   "cell_type": "code",
   "execution_count": 72,
   "metadata": {
    "collapsed": false
   },
   "outputs": [
    {
     "name": "stderr",
     "output_type": "stream",
     "text": [
      "\u001b[1;31m[WARNING] ::\u001b[0m ds9 module not installed\n"
     ]
    }
   ],
   "source": [
    "sys.path.append(os.path.abspath(os.getenv('PYPIT')+\"/src\"))\n",
    "import ararclines as pypit_alines\n",
    "import ararc as pypit_arc"
   ]
  },
  {
   "cell_type": "markdown",
   "metadata": {},
   "source": [
    "### Load line list and parameters"
   ]
  },
  {
   "cell_type": "code",
   "execution_count": 73,
   "metadata": {
    "collapsed": false
   },
   "outputs": [
    {
     "data": {
      "text/plain": [
       "{'Nstrong': 15,\n",
       " 'b1': 0.0004123997043918919,\n",
       " 'b2': 0.0,\n",
       " 'disp': 0.592,\n",
       " 'disp_toler': 0.1,\n",
       " 'func': 'legendre',\n",
       " 'llist': None,\n",
       " 'match_toler': 5.0,\n",
       " 'n_final': 4,\n",
       " 'n_first': 1,\n",
       " 'nsig_rej': 2.0,\n",
       " 'nsig_rej_final': 3.0,\n",
       " 'wvmnx': [3500.0, 6000.0]}"
      ]
     },
     "execution_count": 73,
     "metadata": {},
     "output_type": "execute_result"
    }
   ],
   "source": [
    "arcparam = dict(llist=None, \n",
    "    disp=0.592,           # Ang (unbinned)\n",
    "    b1=0.,               # Pixel fit term (binning independent)\n",
    "    b2=0., #1.09530252e-05/arc.shape[0],               # Pixel fit term\n",
    "    wvmnx=[3500.,6000.],# Pixel fit term\n",
    "    disp_toler=0.1,      # 10% tolerance\n",
    "    match_toler=5.,      # Matcing tolerance (pixels)\n",
    "    func='legendre',     # Function for fitting\n",
    "    n_first=1,           # Order of polynomial for first fit\n",
    "    n_final=4,           # Order of polynomial for final fit\n",
    "    nsig_rej=2.,         # Number of sigma for rejection\n",
    "    nsig_rej_final=3.0,  # Number of sigma for rejection (final fit)\n",
    "    Nstrong=15)  \n",
    "arcparam['b1']= 1./arcparam['disp']/arc.shape[0] \n",
    "aparm = arcparam\n",
    "aparm"
   ]
  },
  {
   "cell_type": "code",
   "execution_count": 74,
   "metadata": {
    "collapsed": false
   },
   "outputs": [
    {
     "name": "stderr",
     "output_type": "stream",
     "text": [
      "\u001b[1;32m[INFO]    ::\u001b[0m Rejecting select CdI lines\n",
      "\u001b[1;32m[INFO]    ::\u001b[0m Rejecting select ArI lines\n",
      "\u001b[1;32m[INFO]    ::\u001b[0m Rejecting select HgI lines\n",
      "\u001b[1;32m[INFO]    ::\u001b[0m Rejecting select NeI lines\n",
      "\u001b[1;32m[INFO]    ::\u001b[0m Cutting down line list by wvmnx: 3500,6000\n"
     ]
    }
   ],
   "source": [
    "reload(pypit_alines)\n",
    "#llist = pypit_alines.load_arcline_list(None,None,['CdI','ArI','NeI','HgI'],wvmnx=aparm['wvmnx'])\n",
    "llist = pypit_alines.load_arcline_list(None,None,['CdI','ArI','HgI','NeI'],wvmnx=aparm['wvmnx'])"
   ]
  },
  {
   "cell_type": "code",
   "execution_count": 75,
   "metadata": {
    "collapsed": false
   },
   "outputs": [],
   "source": [
    "arcparam['llist'] = llist"
   ]
  },
  {
   "cell_type": "markdown",
   "metadata": {},
   "source": [
    "### Auto-ID"
   ]
  },
  {
   "cell_type": "code",
   "execution_count": null,
   "metadata": {
    "collapsed": true
   },
   "outputs": [],
   "source": [
    "tampl = arc_spec[xpk]\n",
    "tcent = xpk\n",
    "# Need to improve centroid to sub-pixel (flux-weight)"
   ]
  },
  {
   "cell_type": "code",
   "execution_count": null,
   "metadata": {
    "collapsed": true
   },
   "outputs": [],
   "source": [
    "# Generate dpix pairs\n",
    "nlist = len(llist)\n",
    "dpix_list = np.zeros((nlist,nlist))\n",
    "for kk,row in enumerate(llist):\n",
    "    dpix_list[kk,:] = arc.shape[0]*(aparm['b1']*(np.array(row['wave'] - llist['wave'])) + aparm['b2']*np.array(row['wave']**2 - llist['wave']**2) )"
   ]
  },
  {
   "cell_type": "code",
   "execution_count": null,
   "metadata": {
    "collapsed": false
   },
   "outputs": [],
   "source": [
    "dpix_list[8,:]"
   ]
  },
  {
   "cell_type": "code",
   "execution_count": null,
   "metadata": {
    "collapsed": false
   },
   "outputs": [],
   "source": [
    "dpix_list[13,:]"
   ]
  },
  {
   "cell_type": "code",
   "execution_count": null,
   "metadata": {
    "collapsed": false
   },
   "outputs": [],
   "source": [
    "# Pixel pairs for the strongest N lines\n",
    "srt = np.argsort(tampl)\n",
    "idx_str = srt[-aparm['Nstrong']:]\n",
    "idx_str.sort()\n",
    "dpix_obs = np.zeros((aparm['Nstrong'],aparm['Nstrong']))\n",
    "for kk,idx in enumerate(idx_str):\n",
    "    dpix_obs[kk,:] = np.array(tcent[idx] - tcent[idx_str]) # pixels"
   ]
  },
  {
   "cell_type": "code",
   "execution_count": null,
   "metadata": {
    "collapsed": false
   },
   "outputs": [],
   "source": [
    "dpix_obs[8,:]"
   ]
  },
  {
   "cell_type": "code",
   "execution_count": null,
   "metadata": {
    "collapsed": false
   },
   "outputs": [],
   "source": [
    "# Match up (ugly loops)\n",
    "ids = np.zeros(aparm['Nstrong'])\n",
    "ids2 = np.zeros(aparm['Nstrong'])\n",
    "ions = np.array(['12345']*aparm['Nstrong'])\n",
    "for kk in range(aparm['Nstrong']):\n",
    "    med_off = np.zeros(nlist)\n",
    "    mean_off = np.zeros(nlist)\n",
    "    for ss in range(nlist):\n",
    "        dpix = dpix_list[ss]\n",
    "        min_off = []\n",
    "        for jj in range(aparm['Nstrong']):\n",
    "            min_off.append(np.min(np.abs(dpix_obs[kk,jj]-dpix)))\n",
    "        min_off.sort()\n",
    "        mean_off[ss] = np.mean(min_off[:-1])\n",
    "        med_off[ss] = np.median(min_off)\n",
    "    #xdb.set_trace()\n",
    "#        if (kk == 1) & ((ss == 13) or (ss==8)):\n",
    "#            xdb.set_trace()\n",
    "    # Set by minimum\n",
    "    idm = np.argmin(med_off)\n",
    "    idm2 = np.argmin(mean_off)\n",
    "    print(kk,mean_off[idm2])\n",
    "    ids2[kk] = llist['wave'][idm]\n",
    "    ids[kk] = llist['wave'][idm2]\n",
    "    ions[kk] = llist['Ion'][idm]"
   ]
  },
  {
   "cell_type": "code",
   "execution_count": null,
   "metadata": {
    "collapsed": false
   },
   "outputs": [],
   "source": [
    "xdb.xpcol(ids,ids2)"
   ]
  },
  {
   "cell_type": "code",
   "execution_count": null,
   "metadata": {
    "collapsed": false
   },
   "outputs": [],
   "source": [
    "# Calculate disp of the strong lines\n",
    "disp_str = np.zeros(aparm['Nstrong'])\n",
    "for kk in range(aparm['Nstrong']):\n",
    "    disp_str[kk] = np.median( (ids[kk]-ids)/\n",
    "        (tcent[idx_str[kk]]-tcent[idx_str]) )\n",
    "# Consider calculating the RMS with clipping\n",
    "gd_str = np.where( np.abs(disp_str-aparm['disp'])/aparm['disp'] < aparm['disp_toler'])[0]\n",
    "print('Found {:d} lines within the disperesion threshold'.format(len(gd_str)))\n",
    "if len(gd_str) < 5:\n",
    "    raise ValueError('Insufficient lines to auto-fit.')"
   ]
  },
  {
   "cell_type": "code",
   "execution_count": null,
   "metadata": {
    "collapsed": false
   },
   "outputs": [],
   "source": [
    "xdb.xpcol(np.arange(len(ids)),ids,disp_str)"
   ]
  },
  {
   "cell_type": "code",
   "execution_count": null,
   "metadata": {
    "collapsed": false
   },
   "outputs": [],
   "source": [
    "#Plot\n",
    "plt.clf()\n",
    "xplt = np.arange(arc_spec.size)\n",
    "plt.plot(xplt,arc_spec)\n",
    "# Label\n",
    "for gds in gd_str:\n",
    "    plt.text(tcent[idx_str[gds]], tampl[idx_str[gds]], '{:s} {:g}'.format(ions[gds],ids[gds]), rotation=90., va='bottom')\n",
    "plt.show()"
   ]
  },
  {
   "cell_type": "code",
   "execution_count": null,
   "metadata": {
    "collapsed": false
   },
   "outputs": [],
   "source": [
    "# Fit\n",
    "#Plot\n",
    "plt.clf()\n",
    "plt.scatter(ids[gd_str],tcent[idx_str[gd_str]],color='blue')\n",
    "plt.plot(wave0,np.arange(wave0.size),'g-')                \n",
    "plt.show()"
   ]
  },
  {
   "cell_type": "code",
   "execution_count": null,
   "metadata": {
    "collapsed": false
   },
   "outputs": [],
   "source": [
    "# Residual\n",
    "resid = tcent[idx_str[gd_str]] - xafits.func_val(ids[gd_str], poly_fit)\n",
    "plt.clf()\n",
    "plt.scatter(ids[gd_str],resid,color='blue')\n",
    "plt.show()"
   ]
  },
  {
   "cell_type": "code",
   "execution_count": null,
   "metadata": {
    "collapsed": false
   },
   "outputs": [],
   "source": [
    "ids[gd_str]"
   ]
  },
  {
   "cell_type": "markdown",
   "metadata": {},
   "source": [
    "### Triplets (this was a bit off track)"
   ]
  },
  {
   "cell_type": "code",
   "execution_count": null,
   "metadata": {
    "collapsed": false
   },
   "outputs": [],
   "source": [
    "llist.sort('wave')\n",
    "nline = len(llist)"
   ]
  },
  {
   "cell_type": "code",
   "execution_count": null,
   "metadata": {
    "collapsed": false
   },
   "outputs": [],
   "source": [
    "llist['wave']"
   ]
  },
  {
   "cell_type": "code",
   "execution_count": null,
   "metadata": {
    "collapsed": false
   },
   "outputs": [],
   "source": [
    "# Generate\n",
    "#3610, 3650., 3654\n",
    "line_triplets = []\n",
    "for kk in range(1,nline-1):\n",
    "    #print(kk)\n",
    "    # Setup array\n",
    "    triplets = np.zeros( (3,kk,nline-kk-1))\n",
    "    wv2 = llist['wave'][kk]\n",
    "    # Loop on LHS\n",
    "    for jj in range(kk):\n",
    "        wv1 = llist['wave'][jj]\n",
    "        wvmm = llist['wave'][kk+1:]\n",
    "#        if kk == 2:\n",
    "#            xdb.set_trace()\n",
    "        triplets[0,jj,:] = (wv2-wv1)/(wvmm-wv1)\n",
    "        triplets[1,jj,:] = (wv2-wv1)/(wvmm-wv2)\n",
    "        triplets[2,jj,:] = (wvmm-wv2)/(wvmm-wv1)\n",
    "#        if kk == 34: \n",
    "#            if np.sum(np.abs(triplets[1,jj,:]-8)<1e-5)>0:\n",
    "#                xdb.set_trace()\n",
    "        #triplets[3,jj,:] = wvmm-wv1 # dlamb\n",
    "    # Enforce 0-1 range\n",
    "    #if kk == 1:\n",
    "    #    xdb.set_trace()\n",
    "    #inverse = triplets > 1.\n",
    "    #triplets[inverse] = 1./triplets[inverse]\n",
    "    # Reshape\n",
    "#    if kk == 34:\n",
    "#        xdb.set_trace()\n",
    "    triplets = np.reshape(triplets,(3,triplets.shape[1]*triplets.shape[2]))\n",
    "    # Sort\n",
    "    #triplets = np.sort(triplets, axis=0)\n",
    "    # Append\n",
    "    #xdb.set_trace()\n",
    "    line_triplets.append(triplets)       "
   ]
  },
  {
   "cell_type": "markdown",
   "metadata": {},
   "source": [
    "#### Test"
   ]
  },
  {
   "cell_type": "code",
   "execution_count": null,
   "metadata": {
    "collapsed": false
   },
   "outputs": [],
   "source": [
    "tcent[0:3]"
   ]
  },
  {
   "cell_type": "code",
   "execution_count": null,
   "metadata": {
    "collapsed": false
   },
   "outputs": [],
   "source": [
    "ii = 1\n",
    "triplet_obs = [ float(tcent[ii]-tcent[ii-1])/float(tcent[ii+1]-tcent[ii-1]),\n",
    "               float(tcent[ii]-tcent[ii-1])/float(tcent[ii+1]-tcent[ii]),\n",
    "               float(tcent[ii+1]-tcent[ii])/float(tcent[ii+1]-tcent[ii-1])]\n",
    "print(tcent[ii-1:ii+2])\n",
    "triplet_o = np.array(triplet_obs)\n",
    "# inverse\n",
    "#inverse = triplet_o > 1.\n",
    "#triplet_o[inverse] = 1./triplet_o[inverse]\n",
    "#\n",
    "#triplet_obs = np.sort(triplet_o)\n",
    "triplet_o"
   ]
  },
  {
   "cell_type": "code",
   "execution_count": null,
   "metadata": {
    "collapsed": false
   },
   "outputs": [],
   "source": [
    "# Loop on lines\n",
    "all_diff = []\n",
    "for kk,ltrip in enumerate(line_triplets):\n",
    "    diff = np.abs(ltrip.T - triplet_o)\n",
    "    min_diff = np.min(np.sum(diff,axis=1))\n",
    "    imin = np.argmin(np.sum(diff,axis=1))\n",
    "    if min_diff < 0.03:\n",
    "        pass\n",
    "        #dlamb = 1./(ltrip[3,imin]*(tcent[ii+1]-tcent[ii-1]))\n",
    "        #print('wave={:g}, min={:g}, dlamb={:g}'.format(llist['wave'][kk+1],min_diff))#,dlamb))\n",
    "    #all_diff.append(ltrip)\n",
    "    #xdb.set_trace()\n",
    "    #print(kk,min_diff)\n",
    "    #if kk == 33:\n",
    "    #    xdb.set_trace()"
   ]
  },
  {
   "cell_type": "code",
   "execution_count": null,
   "metadata": {
    "collapsed": false
   },
   "outputs": [],
   "source": [
    "ltrip = line_triplets[0]"
   ]
  },
  {
   "cell_type": "code",
   "execution_count": null,
   "metadata": {
    "collapsed": false
   },
   "outputs": [],
   "source": [
    "diff = np.abs(ltrip[:,0:3] - triplet_o)"
   ]
  },
  {
   "cell_type": "code",
   "execution_count": null,
   "metadata": {
    "collapsed": false
   },
   "outputs": [],
   "source": [
    "np.min(np.sum(diff,axis=1))"
   ]
  },
  {
   "cell_type": "code",
   "execution_count": null,
   "metadata": {
    "collapsed": true
   },
   "outputs": [],
   "source": [
    "xdb.xplot(arc_spec)"
   ]
  },
  {
   "cell_type": "markdown",
   "metadata": {},
   "source": [
    "## A New Solution"
   ]
  },
  {
   "cell_type": "markdown",
   "metadata": {},
   "source": [
    "### Find all $\\Delta \\lambda$ pairs in the line list"
   ]
  },
  {
   "cell_type": "code",
   "execution_count": null,
   "metadata": {
    "collapsed": false
   },
   "outputs": [],
   "source": [
    "llist.sort('wave')\n",
    "nline = len(llist)\n",
    "nline"
   ]
  },
  {
   "cell_type": "code",
   "execution_count": null,
   "metadata": {
    "collapsed": false
   },
   "outputs": [],
   "source": [
    "npair = np.sum(np.arange(nline))\n",
    "npair"
   ]
  },
  {
   "cell_type": "code",
   "execution_count": null,
   "metadata": {
    "collapsed": false
   },
   "outputs": [],
   "source": [
    "Dlamb = np.zeros((3,npair)) # index, index, dlamb\n",
    "count = 0\n",
    "for kk in range(nline-1):\n",
    "    jidx = np.arange(kk+1,nline)\n",
    "    cidx = np.arange(jidx.size)\n",
    "    dl = llist['wave'][jidx] - llist['wave'][kk]\n",
    "    # Fill\n",
    "    Dlamb[0,count+cidx] = kk\n",
    "    Dlamb[1,count+cidx] = jidx\n",
    "    Dlamb[2,count+cidx] = dl\n",
    "    count += cidx.size"
   ]
  },
  {
   "cell_type": "markdown",
   "metadata": {},
   "source": [
    "### Using a $\\delta\\lambda$ guess, find all matches within tolerance"
   ]
  },
  {
   "cell_type": "code",
   "execution_count": 86,
   "metadata": {
    "collapsed": true
   },
   "outputs": [],
   "source": [
    "toler = 0.2"
   ]
  },
  {
   "cell_type": "code",
   "execution_count": 87,
   "metadata": {
    "collapsed": false
   },
   "outputs": [
    {
     "data": {
      "text/plain": [
       "0.58944396087634243"
      ]
     },
     "execution_count": 87,
     "metadata": {},
     "output_type": "execute_result"
    }
   ],
   "source": [
    "dlamb = (wave0[-1]-wave0[0])/wave0.size\n",
    "dlamb"
   ]
  },
  {
   "cell_type": "code",
   "execution_count": null,
   "metadata": {
    "collapsed": false
   },
   "outputs": [],
   "source": [
    "#\n",
    "Dobs = (tcent[-1]-tcent[0])*dlamb\n",
    "Dobs"
   ]
  },
  {
   "cell_type": "code",
   "execution_count": null,
   "metadata": {
    "collapsed": false
   },
   "outputs": [],
   "source": [
    "#Normalized pattern of tcent\n",
    "xtcent = (tcent[1:-1]-tcent[0])/float(tcent[-1]-tcent[0])\n",
    "xtcent"
   ]
  },
  {
   "cell_type": "code",
   "execution_count": null,
   "metadata": {
    "collapsed": false
   },
   "outputs": [],
   "source": [
    "# All matches within tolerance\n",
    "gdp = np.where(np.abs(Dobs-Dlamb[2,:])/Dobs < toler)[0]\n",
    "gdp.size"
   ]
  },
  {
   "cell_type": "code",
   "execution_count": null,
   "metadata": {
    "collapsed": true
   },
   "outputs": [],
   "source": [
    "#\n",
    "mtch_wv = np.zeros( (tcent.size, gdp.size))\n",
    "mtch_idx = np.zeros( (tcent.size, gdp.size),dtype=int)"
   ]
  },
  {
   "cell_type": "code",
   "execution_count": null,
   "metadata": {
    "collapsed": false
   },
   "outputs": [],
   "source": [
    "# Loop on gdp\n",
    "metric = np.zeros(gdp.size)\n",
    "for qq,igd in enumerate(gdp):\n",
    "    # Endpoints\n",
    "    i0,i1 = Dlamb[0,igd], Dlamb[1,igd]\n",
    "    mtch_wv[0,qq] = llist['wave'][i0]\n",
    "    mtch_wv[-1,qq] = llist['wave'][i1]\n",
    "    mtch_idx[0,qq] = i0\n",
    "    mtch_idx[-1,qq] = i1\n",
    "    # Normalized pattern of lines\n",
    "    xline = (llist['wave'][i0+1:i1]-llist['wave'][i0])/(llist['wave'][i1]-llist['wave'][i0])\n",
    "    # Minimize tcent\n",
    "    for jj,xt in enumerate(xtcent):\n",
    "        diff = np.abs(xt-xline)\n",
    "        imin = np.argmin(diff)\n",
    "        # Increment and save\n",
    "        metric[qq] += diff[imin]\n",
    "        mtch_wv[jj+1,qq] = llist['wave'][i0+imin+1]\n",
    "        mtch_idx[jj+1,qq] = i0+imin+1"
   ]
  },
  {
   "cell_type": "code",
   "execution_count": null,
   "metadata": {
    "collapsed": true
   },
   "outputs": [],
   "source": [
    "xdb.xhist(metric)"
   ]
  },
  {
   "cell_type": "code",
   "execution_count": null,
   "metadata": {
    "collapsed": false
   },
   "outputs": [],
   "source": [
    "best_met = np.argmin(metric)\n",
    "best_met"
   ]
  },
  {
   "cell_type": "code",
   "execution_count": null,
   "metadata": {
    "collapsed": false
   },
   "outputs": [],
   "source": [
    "mtch_wv[:,best_met]"
   ]
  },
  {
   "cell_type": "code",
   "execution_count": null,
   "metadata": {
    "collapsed": false
   },
   "outputs": [],
   "source": [
    "mtch_idx[:,best_met]"
   ]
  },
  {
   "cell_type": "code",
   "execution_count": null,
   "metadata": {
    "collapsed": true
   },
   "outputs": [],
   "source": [
    "srt = np.argsort(metric)"
   ]
  },
  {
   "cell_type": "code",
   "execution_count": null,
   "metadata": {
    "collapsed": false
   },
   "outputs": [],
   "source": [
    "srt[0:5]"
   ]
  },
  {
   "cell_type": "code",
   "execution_count": null,
   "metadata": {
    "collapsed": false
   },
   "outputs": [],
   "source": [
    "gdwv = np.median(mtch_wv[:,srt[0:5]],axis=1)\n",
    "gdwv"
   ]
  },
  {
   "cell_type": "code",
   "execution_count": null,
   "metadata": {
    "collapsed": false
   },
   "outputs": [],
   "source": [
    "gdidx = np.median(mtch_idx[:,srt[0:5]],axis=1)\n",
    "gdidx"
   ]
  },
  {
   "cell_type": "code",
   "execution_count": null,
   "metadata": {
    "collapsed": true
   },
   "outputs": [],
   "source": [
    "#Plot with labels\n",
    "plt.clf()\n",
    "xplt = np.arange(arc_spec.size)\n",
    "plt.plot(xplt,arc_spec)\n",
    "# Label\n",
    "for ii in range(tcent.size):\n",
    "    plt.text(tcent[ii], tampl[ii], '{:g}'.format(gdwv[ii]), rotation=90., va='bottom')\n",
    "plt.show()"
   ]
  },
  {
   "cell_type": "code",
   "execution_count": null,
   "metadata": {
    "collapsed": true
   },
   "outputs": [],
   "source": [
    "xdb.xplot(wave0,arc_spec)"
   ]
  },
  {
   "cell_type": "markdown",
   "metadata": {},
   "source": [
    "### Quint method"
   ]
  },
  {
   "cell_type": "code",
   "execution_count": null,
   "metadata": {
    "collapsed": true
   },
   "outputs": [],
   "source": [
    "iq=14 # Marked line"
   ]
  },
  {
   "cell_type": "code",
   "execution_count": null,
   "metadata": {
    "collapsed": false
   },
   "outputs": [],
   "source": [
    "quint = tcent[iq+np.arange(5)-2]\n",
    "quint"
   ]
  },
  {
   "cell_type": "markdown",
   "metadata": {},
   "source": [
    "#### How far to loop from guess??"
   ]
  },
  {
   "cell_type": "code",
   "execution_count": null,
   "metadata": {
    "collapsed": false
   },
   "outputs": [],
   "source": [
    "guesses = np.arange(gdidx[iq-3],gdidx[iq+1]+1)\n",
    "qmetric = np.ones(guesses.size) * 999.\n",
    "#\n",
    "Dlm1 = dlamb*(tcent[iq]-tcent[iq-1])\n",
    "Dlp1 = dlamb*(tcent[iq+1]-tcent[iq])\n",
    "#\n",
    "x1 = (tcent[iq-1]-tcent[iq-2])/float(tcent[iq]-tcent[iq-2])\n",
    "x2 = (tcent[iq]-tcent[iq-1])/float(tcent[iq+1]-tcent[iq-1])\n",
    "x3 = (tcent[iq+1]-tcent[iq])/float(tcent[iq+2]-tcent[iq])\n",
    "\n",
    "for ss,icen in enumerate(guesses):\n",
    "    wcen = llist['wave'][icen]\n",
    "    print('wcen = {:g}'.format(wcen))\n",
    "    # Find possible i-1\n",
    "    Dlm = wcen-llist['wave'][0:icen]\n",
    "    gdm = np.where(np.abs(Dlm-Dlm1)/Dlm1<toler)[0]\n",
    "    # Find possible i+1\n",
    "    Dlp = llist['wave'][icen+1:]-wcen\n",
    "    gdp = np.where(np.abs(Dlp-Dlp1)/Dlp1<toler)[0]\n",
    "    #\n",
    "    nposs = len(gdm)*len(gdp)\n",
    "    if (nposs == 0):\n",
    "        continue\n",
    "    # Ugly loops\n",
    "    sub_metric = np.zeros(nposs)\n",
    "    count=0\n",
    "    for igdm in gdm:\n",
    "        # 012\n",
    "        lx1 = (llist['wave'][igdm]-llist['wave'][0:igdm])/(wcen-llist['wave'][0:igdm])\n",
    "        sub_metric[count+np.arange(gdp.size)] += np.min(np.abs(lx1-x1))\n",
    "        for igdp in gdp:\n",
    "            # 123\n",
    "            sub_metric[count] += np.abs(x2-(wcen-llist['wave'][igdm])/(llist['wave'][icen+1+igdp]-llist['wave'][igdm]))\n",
    "            count += 1\n",
    "    count=0\n",
    "    for igdp in gdp:\n",
    "        # 234\n",
    "        lx3 = (llist['wave'][icen+1+igdp]-wcen)/(llist['wave'][icen+2+igdp:]-wcen)\n",
    "        sub_metric[count*gdm.size+np.arange(gdm.size)] += np.min(np.abs(lx3-x3))\n",
    "        #xdb.set_trace()\n",
    "    qmetric[ss] = np.min(sub_metric)\n"
   ]
  },
  {
   "cell_type": "code",
   "execution_count": null,
   "metadata": {
    "collapsed": false
   },
   "outputs": [],
   "source": [
    "xdb.xpcol(llist['wave'][guesses.astype(int)], qmetric)"
   ]
  },
  {
   "cell_type": "code",
   "execution_count": null,
   "metadata": {
    "collapsed": true
   },
   "outputs": [],
   "source": [
    "xdb.xplot(arc_spec)"
   ]
  },
  {
   "cell_type": "markdown",
   "metadata": {},
   "source": [
    "## Fitting approach"
   ]
  },
  {
   "cell_type": "code",
   "execution_count": null,
   "metadata": {
    "collapsed": true
   },
   "outputs": [],
   "source": [
    "from astropy.modeling import models, fitting\n",
    "import copy"
   ]
  },
  {
   "cell_type": "code",
   "execution_count": null,
   "metadata": {
    "collapsed": true
   },
   "outputs": [],
   "source": [
    "# For fitting\n",
    "fitter = fitting.LevMarLSQFitter()"
   ]
  },
  {
   "cell_type": "code",
   "execution_count": null,
   "metadata": {
    "collapsed": false
   },
   "outputs": [],
   "source": [
    "# Setup model\n",
    "poly = models.Polynomial1D(2)\n",
    "poly"
   ]
  },
  {
   "cell_type": "code",
   "execution_count": null,
   "metadata": {
    "collapsed": false
   },
   "outputs": [],
   "source": [
    "# Set bounds\n",
    "poly.c1.bounds = (6.38522295e-01*0.8, 6.38522295e-01*1.2)"
   ]
  },
  {
   "cell_type": "code",
   "execution_count": null,
   "metadata": {
    "collapsed": false
   },
   "outputs": [],
   "source": []
  },
  {
   "cell_type": "code",
   "execution_count": null,
   "metadata": {
    "collapsed": false
   },
   "outputs": [],
   "source": [
    "xdb.xplot(wave0,arc_spec)"
   ]
  },
  {
   "cell_type": "markdown",
   "metadata": {},
   "source": [
    "### Init"
   ]
  },
  {
   "cell_type": "code",
   "execution_count": 94,
   "metadata": {
    "collapsed": true
   },
   "outputs": [],
   "source": [
    "camera = 'b'"
   ]
  },
  {
   "cell_type": "code",
   "execution_count": 89,
   "metadata": {
    "collapsed": true
   },
   "outputs": [],
   "source": [
    "toler = 0.2"
   ]
  },
  {
   "cell_type": "markdown",
   "metadata": {},
   "source": [
    "### Grab lines"
   ]
  },
  {
   "cell_type": "code",
   "execution_count": 97,
   "metadata": {
    "collapsed": false
   },
   "outputs": [
    {
     "data": {
      "text/plain": [
       "(0.589,\n",
       " array([ 3610.51 ,  3650.157,  4046.57 ,  4077.84 ,  4358.34 ,  4678.15 ,\n",
       "         4799.91 ,  5085.822,  5460.75 ,  5769.598,  5881.895,  5944.834]))"
      ]
     },
     "execution_count": 97,
     "metadata": {},
     "output_type": "execute_result"
    }
   ],
   "source": [
    "reload(desiboot)\n",
    "dlamb, gd_lines = desiboot.load_gdarc_lines(camera)\n",
    "dlamb, gd_lines"
   ]
  },
  {
   "cell_type": "markdown",
   "metadata": {},
   "source": [
    "### Match gd_lines to detected lines"
   ]
  },
  {
   "cell_type": "code",
   "execution_count": 98,
   "metadata": {
    "collapsed": false
   },
   "outputs": [
    {
     "data": {
      "text/plain": [
       "<module 'desispec.bootcalib' from '/Users/xavier/DESI/desispec/py/desispec/bootcalib.py'>"
      ]
     },
     "execution_count": 98,
     "metadata": {},
     "output_type": "execute_result"
    }
   ],
   "source": [
    "reload(desiboot)"
   ]
  },
  {
   "cell_type": "code",
   "execution_count": null,
   "metadata": {
    "collapsed": false
   },
   "outputs": [],
   "source": [
    "rms_dicts = []\n",
    "## Assign a line to focus on\n",
    "#wmark = 4358.34\n",
    "wmark = 4799.91\n",
    "#wmark = 5085.822\n",
    "icen = np.where(np.abs(gd_lines-wmark)<1e-3)[0]\n",
    "icen = icen[0]\n",
    "##\n",
    "guesses = 8 + np.arange(-4,7)\n",
    "for guess in guesses:\n",
    "    # Setup\n",
    "    tc = float(tcent[guess])\n",
    "    print('tc = {:g}'.format(tc))\n",
    "    rms_dict = dict(tc=tc,guess=guess)\n",
    "    ## Match to i-2 line\n",
    "    line_m2 = gd_lines[icen-2]\n",
    "    Dm2 = wmark-line_m2\n",
    "    mtm2 = np.where(np.abs((tc-tcent)*dlamb - Dm2)/Dm2 < toler)[0]\n",
    "    if len(mtm2) == 0:\n",
    "        print('No im2 lines found for guess={:g}'.format(tc))\n",
    "        continue\n",
    "    # Match to i+2 line\n",
    "    line_p2 = gd_lines[icen+2]\n",
    "    Dp2 = line_p2-wmark\n",
    "    mtp2 = np.where(np.abs((tcent-tc)*dlamb - Dp2)/Dp2 < toler)[0]\n",
    "    if len(mtp2) == 0:\n",
    "        print('No ip2 lines found for guess={:g}'.format(tc))\n",
    "        continue   \n",
    "    # \n",
    "    all_guess_rms = [] # One per set of guess, of course\n",
    "    # Loop on i-2 line\n",
    "    for imtm2 in mtm2:\n",
    "        #\n",
    "        if imtm2==(icen-1):\n",
    "            print('No im1 lines found for guess={:g}'.format(tc))\n",
    "            continue\n",
    "        # Setup\n",
    "        tcm2 = float(tcent[imtm2])\n",
    "        xm1_wv = (gd_lines[icen-1]-gd_lines[icen-2])/(wmark-gd_lines[icen-2])\n",
    "        # Best match\n",
    "        xm1 = (tcent-tcm2)/(tc-tcm2)\n",
    "        itm1 = np.argmin(np.abs(xm1-xm1_wv))\n",
    "        # Now loop on ip2\n",
    "        for imtp2 in mtp2:\n",
    "            guess_rms = dict(guess=guess, im1=itm1,im2=imtm2, rms=999., ip1=None, ip2=imtp2)\n",
    "            all_guess_rms.append(guess_rms)\n",
    "            if imtp2==(icen-1):\n",
    "                print('No ip1 lines found for guess={:g}'.format(tc))\n",
    "                continue\n",
    "            #\n",
    "            tcp2 = float(tcent[imtp2])\n",
    "            xp1_wv = (gd_lines[icen+2]-gd_lines[icen+1])/(gd_lines[icen+2]-wmark)\n",
    "            # Best match\n",
    "            xp1 = (tcp2-tcent)/(tcp2-tc)\n",
    "            itp1 = np.argmin(np.abs(xp1-xp1_wv))\n",
    "            guess_rms['ip1'] = itp1\n",
    "            # Time to fit\n",
    "            xval = np.array([tcm2,float(tcent[itm1]),tc,float(tcent[itp1]),tcp2])\n",
    "            wvval = gd_lines[icen-2:icen+3]\n",
    "            pfit = xafits.func_fit(wvval,xval,'polynomial',2,xmin=0.,xmax=1.)\n",
    "            #parm = fitter(poly,wvval,xval)\n",
    "            # Clip one here and refit\n",
    "            # RMS (in pixel space)\n",
    "            rms = np.sqrt(np.sum((xval-xafits.func_val(wvval,pfit))**2)/xval.size)\n",
    "            guess_rms['rms'] = rms\n",
    "            # Save fit too\n",
    "            guess_rms['fit'] = pfit\n",
    "            #print('rms = {:g}'.format(rms))\n",
    "            #if np.abs(rms-4.93) < 1e-1:\n",
    "            #    xdb.set_trace()\n",
    "    # Take best RMS\n",
    "    if len(all_guess_rms) > 0:\n",
    "        all_rms = np.array([idict['rms'] for idict in all_guess_rms])\n",
    "        imn = np.argmin(all_rms)\n",
    "        rms_dicts.append(all_guess_rms[imn])\n",
    "    #xdb.set_trace()"
   ]
  },
  {
   "cell_type": "code",
   "execution_count": null,
   "metadata": {
    "collapsed": false
   },
   "outputs": [],
   "source": [
    "all_rms = np.array([idict['rms'] for idict in rms_dicts])\n",
    "imin = np.argmin(all_rms)\n",
    "best_dict = rms_dicts[imin]\n",
    "best_dict"
   ]
  },
  {
   "cell_type": "markdown",
   "metadata": {},
   "source": [
    "### Start adding lines"
   ]
  },
  {
   "cell_type": "code",
   "execution_count": null,
   "metadata": {
    "collapsed": false
   },
   "outputs": [],
   "source": [
    "wvval0 = list(gd_lines[icen-2:icen+3])\n",
    "wvval0"
   ]
  },
  {
   "cell_type": "code",
   "execution_count": null,
   "metadata": {
    "collapsed": false
   },
   "outputs": [],
   "source": [
    "xval0 = []\n",
    "for key in ['im2','im1','guess','ip1','ip2']:\n",
    "    xval0.append(float(tcent[best_dict[key]]))\n",
    "xval0"
   ]
  },
  {
   "cell_type": "code",
   "execution_count": null,
   "metadata": {
    "collapsed": false
   },
   "outputs": [],
   "source": [
    "ilow = icen-2\n",
    "ihi = icen+2\n",
    "print(ilow, ihi)\n",
    "#\n",
    "npoly=2\n",
    "pos=True\n",
    "wvval = copy.deepcopy(wvval0)\n",
    "xval = copy.deepcopy(xval0)\n",
    "while ((ilow > 0) or (ihi < gd_lines.size-1)):\n",
    "    # index to add (step on each side)\n",
    "    if pos:\n",
    "        ihi += 1\n",
    "        inew = ihi\n",
    "        pos=False\n",
    "    else:\n",
    "        ilow -= 1\n",
    "        inew = ilow\n",
    "        pos=True\n",
    "    if ilow < 0:\n",
    "        continue\n",
    "    if ihi > (gd_lines.size-1):\n",
    "        continue\n",
    "    #print('inew={:d}'.format(inew))\n",
    "    # New line\n",
    "    new_wv = gd_lines[inew]\n",
    "    wvval.append(new_wv)    \n",
    "    wvval.sort()\n",
    "    # newx\n",
    "    newx = xafits.func_val(new_wv,best_dict['fit']) \n",
    "    # Match and add\n",
    "    imin = np.argmin(np.abs(tcent-newx))\n",
    "    newtc = float(tcent[imin])\n",
    "    xval.append(newtc)\n",
    "    xval.sort()\n",
    "    #print('Added x={:g} at wv={:g}'.format(newtc,new_wv))\n",
    "    #xdb.set_trace()\n",
    "    # Fit (reject 1)\n",
    "    if len(xval) > 7:\n",
    "        npoly = 3\n",
    "    new_fit = xafits.func_fit(np.array(wvval),np.array(xval),'polynomial',npoly,xmin=0.,xmax=1.)\n",
    "    best_dict['fit'] = new_fit\n",
    "# RMS\n",
    "resid2 = (np.array(xval)-xafits.func_val(np.array(wvval),best_dict['fit']))**2\n",
    "rms = np.sqrt(np.sum(resid2)/len(xval))\n",
    "print('rms = {:g}'.format(rms))\n",
    "#print(resid2)\n",
    "#print(xval)\n",
    "#print(wvval)"
   ]
  },
  {
   "cell_type": "code",
   "execution_count": null,
   "metadata": {
    "collapsed": false
   },
   "outputs": [],
   "source": [
    "best_dict"
   ]
  },
  {
   "cell_type": "code",
   "execution_count": null,
   "metadata": {
    "collapsed": true
   },
   "outputs": [],
   "source": [
    "xdb.xplot(arc_spec)"
   ]
  },
  {
   "cell_type": "code",
   "execution_count": null,
   "metadata": {
    "collapsed": true
   },
   "outputs": [],
   "source": []
  }
 ],
 "metadata": {
  "kernelspec": {
   "display_name": "Python 2",
   "language": "python",
   "name": "python2"
  },
  "language_info": {
   "codemirror_mode": {
    "name": "ipython",
    "version": 2
   },
   "file_extension": ".py",
   "mimetype": "text/x-python",
   "name": "python",
   "nbconvert_exporter": "python",
   "pygments_lexer": "ipython2",
   "version": "2.7.10"
  }
 },
 "nbformat": 4,
 "nbformat_minor": 0
}
