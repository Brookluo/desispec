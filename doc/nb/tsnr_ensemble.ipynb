{
 "cells": [
  {
   "cell_type": "code",
   "execution_count": 5,
   "metadata": {},
   "outputs": [
    {
     "name": "stderr",
     "output_type": "stream",
     "text": [
      "WARNING: leap-second auto-update failed due to the following exception: RuntimeError('Cache is locked after 5.06 s. This may indicate an astropy bug or that kill -9 was used. If you want to unlock the cache remove the directory /global/homes/m/mjwilson/.astropy/cache/download/py3/lock. Lock claims to be held by process .') [astropy.time.core]\n"
     ]
    }
   ],
   "source": [
    "import os\n",
    "import glob\n",
    "import yaml\n",
    "import fitsio\n",
    "import numpy as np\n",
    "import pylab as pl\n",
    "import matplotlib.pyplot as plt\n",
    "import astropy.io.fits as fits\n",
    "\n",
    "from   desitarget.sv1.sv1_targetmask import desi_mask as sv1_desi_mask\n",
    "from   desitarget.sv1.sv1_targetmask import bgs_mask as sv1_bgs_mask\n",
    "\n",
    "from   desitarget.targetmask import desi_mask, bgs_mask\n",
    "\n",
    "from   astropy.table import Table, vstack, join, unique\n",
    "from   desiutil.dust import mwdust_transmission"
   ]
  },
  {
   "cell_type": "markdown",
   "metadata": {},
   "source": [
    "##  Generate config files for desispec/scripts/tsnr_ensemble.py"
   ]
  },
  {
   "cell_type": "code",
   "execution_count": 1,
   "metadata": {},
   "outputs": [],
   "source": [
    "# Define tracer type to be studied. \n",
    "# See https://github.com/desihub/desitarget/blob/master/py/desitarget/sv1/data/sv1_targetmask.yaml#L18\n",
    "# tracer_type = 'ELG_SV_GFIB'\n",
    "# \n",
    "tracer_type   = 'QSO'  # ['BGS_BRIGHT', 'LRG', 'ELG', 'QSO']\n",
    "outdir        = '/project/projectdirs/desi/users/mjwilson/tsnr/'"
   ]
  },
  {
   "cell_type": "code",
   "execution_count": 2,
   "metadata": {},
   "outputs": [],
   "source": [
    "# E.g. https://github.com/desihub/desitarget/blob/dd353c6c8dd8b8737e45771ab903ac30584db6db/py/desitarget/cuts.py#L1434\n",
    "limiting_band = {'BGS': 'r', 'LRG': 'z', 'ELG': 'g', 'QSO': 'r'}"
   ]
  },
  {
   "cell_type": "code",
   "execution_count": 6,
   "metadata": {},
   "outputs": [],
   "source": [
    "np.random.seed(314)"
   ]
  },
  {
   "cell_type": "code",
   "execution_count": 11,
   "metadata": {},
   "outputs": [],
   "source": [
    "def imaging_fetch(npix=20, main=True, verbose=True):\n",
    "    '''\n",
    "    Return an imaging catalog (random stack of size npix healpixels) of a given type. \n",
    "    '''\n",
    "\n",
    "    if tracer_type.split('_')[0] == 'BGS':\n",
    "        survey = 'bright'\n",
    "    else:\n",
    "        survey = 'dark'\n",
    "        \n",
    "    # Fetch the main target catalogues (split by hpx).\n",
    "    paths=glob.glob('/global/cfs/cdirs/desi/target/catalogs/dr9/0.49.0/targets/main/resolve/{}/targets-{}-hp-*.fits'.format(survey, survey))\n",
    "            \n",
    "    if verbose:\n",
    "        print(len(paths))\n",
    "            \n",
    "    # Take a random sample of size hpx, seeded to 314.\n",
    "    samples = np.random.choice(paths, size=npix, replace=False)    \n",
    "    catalog = None\n",
    "    \n",
    "    # Fetch the hpx in the sample and stack to a catalog.\n",
    "    for sample in samples:\n",
    "        dat     = fits.open(sample)[1].data    \n",
    "    \n",
    "        if tracer_type.split('_')[0] == 'BGS':\n",
    "            isin = (dat['DESI_TARGET'] & desi_mask['BGS_ANY']) != 0\n",
    "            isin = isin & ((dat['BGS_TARGET'] & bgs_mask[tracer_type]) != 0)\n",
    "        \n",
    "        else:\n",
    "            isin = (dat['DESI_TARGET'] & desi_mask[tracer_type]) != 0\n",
    "        \n",
    "        if verbose:\n",
    "            print(os.path.basename(sample), np.count_nonzero(isin))\n",
    "    \n",
    "        dat     = Table(dat[isin])\n",
    "    \n",
    "        if catalog is None:\n",
    "            catalog = dat\n",
    "        else:\n",
    "            catalog = vstack((catalog, dat))\n",
    "            \n",
    "    return catalog"
   ]
  },
  {
   "cell_type": "code",
   "execution_count": 14,
   "metadata": {},
   "outputs": [],
   "source": [
    "def prod_fetch(prod='blanc', dX2=25., verbose=False):\n",
    "    '''\n",
    "    Return a spectroscopic catalog of all deep fields in a given prod. \n",
    "    Note:  Adds MW_TRANS*\n",
    "    '''\n",
    "    \n",
    "    sv1_map = {'BGS': 'BGS_BRIGHT', 'LRG': 'LRG_IR', 'ELG': 'ELG_SV_GFIB', 'QSO': 'QSO_RF_4PASS'}\n",
    "    _tracer_type = sv1_map[tracer_type]\n",
    "        \n",
    "    # Fetch the sv1 target catalogues (split by hpx).\n",
    "    paths=glob.glob('/global/cfs/cdirs/desi/spectro/redux/{}/tiles/*/deep/zbest-*.fits'.format(prod))\n",
    "    \n",
    "    if verbose:\n",
    "        print(len(paths))\n",
    "    \n",
    "    catalog = None\n",
    "    \n",
    "    # \n",
    "    comments = {'80615': 'Missing SV1_DESI_TARGET'}\n",
    "    ignore   = list(comments.keys())\n",
    "    \n",
    "    # Fetch the hpx in the sample and stack to a catalog.\n",
    "    for sample in paths:\n",
    "        zbest    = Table.read(sample, 'ZBEST')   \n",
    "        fmap     = Table.read(sample, 'FIBERMAP')\n",
    "\n",
    "        tileid   = os.path.basename(sample).split('-')[2]\n",
    "\n",
    "        if tileid in ignore:\n",
    "            print('Ignoring {}'.format(tileid))\n",
    "            continue\n",
    "        \n",
    "        dat          = join(zbest, unique(fmap, 'TARGETID'), join_type='left', keys='TARGETID')\n",
    "    \n",
    "        try:\n",
    "            if tracer_type.split('_')[0] == 'BGS':\n",
    "                isin = (dat['SV1_DESI_TARGET'] & sv1_desi_mask['BGS_ANY']) != 0\n",
    "                isin = isin & ((dat['SV1_BGS_TARGET'] & sv1_bgs_mask[_tracer_type]) != 0)\n",
    "        \n",
    "            else:\n",
    "                isin = (dat['SV1_DESI_TARGET'] & sv1_desi_mask[_tracer_type]) != 0\n",
    "    \n",
    "            isin = isin & (dat['ZWARN'] == 0) & (dat['DELTACHI2'] > dX2)    \n",
    "            \n",
    "            if verbose:\n",
    "                print(os.path.basename(sample), len(dat), np.count_nonzero(isin))\n",
    "            \n",
    "            dat      = dat[isin]\n",
    "            \n",
    "        except:\n",
    "            print('Failed on {}'.format(sample))\n",
    "            \n",
    "            dat.pprint()\n",
    "            \n",
    "            continue\n",
    "\n",
    "        for band in ['G', 'R', 'Z']:\n",
    "            dat['MW_TRANSMISSION_{}'.format(band)] = mwdust_transmission(dat['EBV'], band, dat['PHOTSYS'].data.astype(str))\n",
    "            \n",
    "        if catalog is None:\n",
    "            catalog = dat\n",
    "        else:\n",
    "            catalog = vstack((catalog, dat))\n",
    "            \n",
    "    return  catalog"
   ]
  },
  {
   "cell_type": "code",
   "execution_count": 9,
   "metadata": {},
   "outputs": [],
   "source": [
    "def reduce(dat, config):\n",
    "    '''\n",
    "    Input catalog: dat.    \n",
    "    '''\n",
    "    base_type    = tracer_type.split('_')[0]\n",
    "    lim_band     = limiting_band[base_type].upper() \n",
    "    \n",
    "    drflx        = dat['FLUX_{}'.format(lim_band)] / dat['MW_TRANSMISSION_{}'.format(lim_band)]\n",
    "    drfibflx     = dat['FIBERFLUX_{}'.format(lim_band)] / dat['MW_TRANSMISSION_{}'.format(lim_band)]\n",
    "    drmag        = 22.5 - 2.5 * np.log10(drflx)\n",
    "    drfibmag     = 22.5 - 2.5 * np.log10(drfibflx) \n",
    "    \n",
    "    print('{} Catalog length: {:.1f}M'.format(tracer_type, len(dat) / 1.e6))\n",
    "    \n",
    "    if 'med_mag' not in config.keys():\n",
    "        med_mag      = np.median(drmag)\n",
    "        med_fibmag   = np.median(drfibmag)\n",
    "        limiting_mag = np.percentile(drmag, 99.)\n",
    "    \n",
    "        print('Median mag. in {} band: {:.2f}'.format(lim_band, med_mag))\n",
    "        print('Median fib. mag. in {} band: {:.2f}'.format(lim_band, med_fibmag))\n",
    "        print('Limiting mag. in {} band: {:.2f}'.format(lim_band, limiting_mag))\n",
    "        \n",
    "        config['filter'] = 'decam2014-{}'.format(lim_band.lower())\n",
    "        config['med_mag'] = np.round(med_mag, 3)\n",
    "        config['limit_mag'] = np.round(limiting_mag, 3)\n",
    "        \n",
    "    else:\n",
    "        med_mag  = np.float64(config['med_mag']) \n",
    "        limiting_mag = np.float64(config['limit_mag'])\n",
    "        \n",
    "        print('Median mag. in {} band: {:.2f}'.format(lim_band, med_mag))\n",
    "        print('Limiting mag. in {} band: {:.2f}'.format(lim_band, limiting_mag))\n",
    "        \n",
    "    isin         = (drmag > med_mag) & (drmag < limiting_mag)\n",
    "    \n",
    "    dat          = dat[isin]\n",
    "    mtypes, cnts = np.unique(dat['MORPHTYPE'], return_counts=True)\n",
    "\n",
    "    flosses      = []\n",
    "\n",
    "    for i, mtype in enumerate(mtypes):\n",
    "        is_type    = (dat['MORPHTYPE'] == mtype)\n",
    "        type_floss = np.median(drfibflx[isin][is_type] / drflx[isin][is_type])\n",
    "\n",
    "        flosses.append(type_floss)\n",
    "        \n",
    "        print('{} fiber flux loss: {:.2f} for {:.2f} fraction'.format(mtype, type_floss, cnts[i] / len(dat)))\n",
    "        \n",
    "    flosses = np.array(flosses)\n",
    "\n",
    "    if 'Z' not in dat.dtype.names:\n",
    "        pl.hist(drmag, bins=100)\n",
    "        \n",
    "        pl.axvline(med_mag, c='k', lw=0.4)\n",
    "        pl.axvline(limiting_mag, c='k', lw=0.4)\n",
    "        \n",
    "        floss   = np.average(flosses, weights=cnts)\n",
    "    \n",
    "        print('Weighted fiber flux loss: {:.2f}'.format(floss))\n",
    "        print('Weighted fiber flux loss: {:.2f} mags'.format(-2.5 * np.log10(floss)))\n",
    "        \n",
    "        config['fiberloss'] = np.round(-2.5 * np.log10(floss), 3)\n",
    "    \n",
    "    else:\n",
    "        zlo = np.percentile(dat['Z'], 15)\n",
    "        zhi = np.percentile(dat['Z'], 85)\n",
    "\n",
    "        config['zlo'] = np.round(zlo, 3)\n",
    "        config['zhi'] = np.round(zhi, 3)\n",
    "        \n",
    "        pl.hist(dat['Z'], bins=200)\n",
    "            \n",
    "        pl.axvline(zlo, c='k', lw=0.4)\n",
    "        pl.axvline(zhi, c='k', lw=0.4)\n",
    "        \n",
    "        pl.xlim(0.0, 2.0)"
   ]
  },
  {
   "cell_type": "code",
   "execution_count": 12,
   "metadata": {},
   "outputs": [
    {
     "name": "stdout",
     "output_type": "stream",
     "text": [
      "460\n",
      "targets-dark-hp-97.fits 14918\n",
      "targets-dark-hp-36.fits 2476\n",
      "targets-dark-hp-732.fits 2614\n",
      "targets-dark-hp-564.fits 13549\n",
      "targets-dark-hp-197.fits 16261\n",
      "targets-dark-hp-539.fits 13754\n",
      "targets-dark-hp-471.fits 882\n",
      "targets-dark-hp-293.fits 13626\n",
      "targets-dark-hp-238.fits 17326\n",
      "targets-dark-hp-99.fits 14718\n",
      "targets-dark-hp-517.fits 97707\n",
      "targets-dark-hp-445.fits 14301\n",
      "targets-dark-hp-356.fits 1739\n",
      "targets-dark-hp-116.fits 15849\n",
      "targets-dark-hp-418.fits 5166\n",
      "targets-dark-hp-154.fits 15462\n",
      "targets-dark-hp-352.fits 9431\n",
      "targets-dark-hp-107.fits 10385\n",
      "targets-dark-hp-256.fits 8989\n",
      "targets-dark-hp-148.fits 16404\n"
     ]
    }
   ],
   "source": [
    "imaging_catalog = imaging_fetch()"
   ]
  },
  {
   "cell_type": "code",
   "execution_count": 15,
   "metadata": {},
   "outputs": [
    {
     "name": "stderr",
     "output_type": "stream",
     "text": [
      "WARNING: MergeConflictWarning: Cannot merge meta key 'EXTNAME' types <class 'str'> and <class 'str'>, choosing EXTNAME='FIBERMAP' [astropy.utils.metadata]\n"
     ]
    },
    {
     "name": "stdout",
     "output_type": "stream",
     "text": [
      "Ignoring 80615\n",
      "Ignoring 80615\n",
      "Ignoring 80615\n",
      "Ignoring 80615\n",
      "Ignoring 80615\n",
      "Ignoring 80615\n",
      "Ignoring 80615\n",
      "Ignoring 80615\n",
      "Ignoring 80615\n",
      "Ignoring 80615\n"
     ]
    }
   ],
   "source": [
    "spec_catalog = prod_fetch()"
   ]
  },
  {
   "cell_type": "code",
   "execution_count": 28,
   "metadata": {},
   "outputs": [],
   "source": [
    "config = {}"
   ]
  },
  {
   "cell_type": "code",
   "execution_count": 29,
   "metadata": {},
   "outputs": [
    {
     "name": "stderr",
     "output_type": "stream",
     "text": [
      "<ipython-input-9-13a24c342b20>:11: RuntimeWarning: divide by zero encountered in log10\n",
      "  drfibmag     = 22.5 - 2.5 * np.log10(drfibflx)\n"
     ]
    },
    {
     "name": "stdout",
     "output_type": "stream",
     "text": [
      "QSO Catalog length: 0.3M\n",
      "Median mag. in R band: 21.83\n",
      "Median fib. mag. in R band: 22.11\n",
      "Limiting mag. in R band: 22.69\n",
      "PSF fiber flux loss: 0.78 for 1.00 fraction\n",
      "Weighted fiber flux loss: 0.78\n",
      "Weighted fiber flux loss: 0.27 mags\n"
     ]
    },
    {
     "data": {
      "image/png": "[encoded data removed]",
      "text/plain": [
       "<Figure size 432x288 with 1 Axes>"
      ]
     },
     "metadata": {
      "needs_background": "light"
     },
     "output_type": "display_data"
    }
   ],
   "source": [
    "reduce(imaging_catalog, config)"
   ]
  },
  {
   "cell_type": "code",
   "execution_count": 30,
   "metadata": {},
   "outputs": [
    {
     "data": {
      "text/plain": [
       "{'filter': 'decam2014-r',\n",
       " 'med_mag': 21.834,\n",
       " 'limit_mag': 22.691,\n",
       " 'fiberloss': 0.272}"
      ]
     },
     "execution_count": 30,
     "metadata": {},
     "output_type": "execute_result"
    }
   ],
   "source": [
    "config"
   ]
  },
  {
   "cell_type": "code",
   "execution_count": 31,
   "metadata": {},
   "outputs": [
    {
     "name": "stdout",
     "output_type": "stream",
     "text": [
      "QSO Catalog length: 0.0M\n",
      "Median mag. in R band: 21.83\n",
      "Limiting mag. in R band: 22.69\n",
      "DEV fiber flux loss: 0.64 for 0.05 fraction\n",
      "EXP fiber flux loss: 0.70 for 0.02 fraction\n",
      "PSF fiber flux loss: 0.78 for 0.79 fraction\n",
      "REX fiber flux loss: 0.70 for 0.15 fraction\n"
     ]
    },
    {
     "data": {
      "image/png": "[encoded data removed]",
      "text/plain": [
       "<Figure size 432x288 with 1 Axes>"
      ]
     },
     "metadata": {
      "needs_background": "light"
     },
     "output_type": "display_data"
    }
   ],
   "source": [
    "reduce(spec_catalog, config)"
   ]
  },
  {
   "cell_type": "code",
   "execution_count": 32,
   "metadata": {},
   "outputs": [
    {
     "data": {
      "text/plain": [
       "{'filter': 'decam2014-r',\n",
       " 'med_mag': 21.834,\n",
       " 'limit_mag': 22.691,\n",
       " 'fiberloss': 0.272,\n",
       " 'zlo': 0.517,\n",
       " 'zhi': 1.932}"
      ]
     },
     "execution_count": 32,
     "metadata": {},
     "output_type": "execute_result"
    }
   ],
   "source": [
    "config"
   ]
  },
  {
   "cell_type": "code",
   "execution_count": 33,
   "metadata": {},
   "outputs": [],
   "source": [
    "keys = config.keys()"
   ]
  },
  {
   "cell_type": "code",
   "execution_count": 34,
   "metadata": {},
   "outputs": [],
   "source": [
    "for key in keys:    \n",
    "    if type(config[key]) != str:\n",
    "        config[key] = np.round(config[key], 3)\n",
    "        config[key] = float(config[key])"
   ]
  },
  {
   "cell_type": "code",
   "execution_count": 36,
   "metadata": {},
   "outputs": [],
   "source": [
    "with open(outdir + '/tsnr-config-{}.yaml'.format(tracer_type.lower().split('_')[0]), 'w') as outfile:\n",
    "    yaml.dump(config, outfile, default_flow_style=False)"
   ]
  },
  {
   "cell_type": "markdown",
   "metadata": {},
   "source": [
    "## Done"
   ]
  }
 ],
 "metadata": {
  "kernelspec": {
   "display_name": "DESI master",
   "language": "python",
   "name": "desi-master"
  },
  "language_info": {
   "codemirror_mode": {
    "name": "ipython",
    "version": 3
   },
   "file_extension": ".py",
   "mimetype": "text/x-python",
   "name": "python",
   "nbconvert_exporter": "python",
   "pygments_lexer": "ipython3",
   "version": "3.8.3"
  }
 },
 "nbformat": 4,
 "nbformat_minor": 4
}
