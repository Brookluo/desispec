{
 "cells": [
  {
   "cell_type": "markdown",
   "id": "172352fa-cb01-4562-a27a-7784e31c0ef4",
   "metadata": {},
   "source": [
    "# Top-Level Consistency Checks\n",
    "\n",
    "This notebook checks the top-level `tiles-SPECPROD.(fits|csv)` and `exposures-SPECPROD.(fits|csv)` files for self-consistency in prepartion for loading these files into a database.\n",
    "\n",
    "## Imports"
   ]
  },
  {
   "cell_type": "code",
   "execution_count": 17,
   "id": "b086e33a-fe1f-485d-97ae-18adad96dc2f",
   "metadata": {},
   "outputs": [],
   "source": [
    "import os\n",
    "import glob\n",
    "from pytz import utc\n",
    "import numpy as np\n",
    "from astropy.io import fits\n",
    "from astropy.table import Table, Column, MaskedColumn\n",
    "from astropy.time import Time\n",
    "from desiutil.iers import freeze_iers\n",
    "from desiutil.log import get_logger, DEBUG, INFO\n",
    "from desispec.io.meta import faflavor2program\n",
    "from desispec.io.util import checkgzip\n",
    "import desispec.database.redshift as dsr\n",
    "from desispec.database.util import targetphotid\n",
    "from desitarget.targets import decode_targetid\n",
    "freeze_iers()"
   ]
  },
  {
   "cell_type": "markdown",
   "id": "a0245ef2-fc2e-458d-bfb2-9a89c8183aab",
   "metadata": {},
   "source": [
    "## Important Setup"
   ]
  },
  {
   "cell_type": "code",
   "execution_count": 2,
   "id": "3187f15b-83c3-42de-a00d-6872b62ebdd5",
   "metadata": {},
   "outputs": [],
   "source": [
    "specprod = os.environ['SPECPROD'] = 'fuji'\n",
    "overwrite = True"
   ]
  },
  {
   "cell_type": "code",
   "execution_count": 3,
   "id": "03c054b6-539f-4896-a8f8-aa00c07c4323",
   "metadata": {},
   "outputs": [],
   "source": [
    "os.environ['DESI_SPECTRO_REDUX'] = os.path.join(os.environ['DESI_ROOT'], 'public', 'edr', 'spectro', 'redux')"
   ]
  },
  {
   "cell_type": "markdown",
   "id": "beb40bd8-b3ce-4596-91dc-c0a559161f67",
   "metadata": {},
   "source": [
    "## Examine ztile files."
   ]
  },
  {
   "cell_type": "code",
   "execution_count": null,
   "id": "8f218bde-87b2-4017-a318-f37ec0dd5905",
   "metadata": {},
   "outputs": [],
   "source": [
    "all_targetphotid = list()\n",
    "ztile_files = glob.glob(os.path.join(os.environ['DESI_SPECTRO_REDUX'], specprod, 'zcatalog', 'ztile-*.fits'))\n",
    "for f in ztile_files:\n",
    "    survey = os.path.basename(f).split('-')[1]\n",
    "    if 'cumulative' in f:\n",
    "        key = 'LASTNIGHT'\n",
    "    elif 'perexp' in f:\n",
    "        key = 'EXPID'\n",
    "    elif 'pernight' in f:\n",
    "        key = 'NIGHT'\n",
    "    else:\n",
    "        key = 'SPGRPVAL'\n",
    "    t = Table.read(f, format='fits', hdu='ZCATALOG')\n",
    "    objid, brickid, release, mock, sky, gaiadr = decode_targetid(t['TARGETID'])\n",
    "    # print(sky)\n",
    "    assert (t[key] == t['SPGRPVAL']).all()\n",
    "    w = (t['TARGETID'] > 0) & (sky == 0)\n",
    "    all_targetphotid += [targetphotid(x, y, survey) for x, y in zip(t['TARGETID'][w], t['TILEID'][w])]"
   ]
  },
  {
   "cell_type": "markdown",
   "id": "9be9a2d1-7295-4018-98ec-888a1a6ee1ae",
   "metadata": {},
   "source": [
    "## Test loading targeting data"
   ]
  },
  {
   "cell_type": "code",
   "execution_count": 4,
   "id": "4e31238a-af74-44e1-b9ca-0056cd7f20a9",
   "metadata": {},
   "outputs": [
    {
     "ename": "KeyboardInterrupt",
     "evalue": "",
     "output_type": "error",
     "traceback": [
      "\u001b[0;31m---------------------------------------------------------------------------\u001b[0m",
      "\u001b[0;31mKeyboardInterrupt\u001b[0m                         Traceback (most recent call last)",
      "Input \u001b[0;32mIn [4]\u001b[0m, in \u001b[0;36m<module>\u001b[0;34m\u001b[0m\n\u001b[1;32m      3\u001b[0m os\u001b[38;5;241m.\u001b[39menviron[\u001b[38;5;124m'\u001b[39m\u001b[38;5;124mDESI_SPECTRO_REDUX\u001b[39m\u001b[38;5;124m'\u001b[39m] \u001b[38;5;241m=\u001b[39m os\u001b[38;5;241m.\u001b[39mpath\u001b[38;5;241m.\u001b[39mjoin(os\u001b[38;5;241m.\u001b[39menviron[\u001b[38;5;124m'\u001b[39m\u001b[38;5;124mDESI_ROOT\u001b[39m\u001b[38;5;124m'\u001b[39m], \u001b[38;5;124m'\u001b[39m\u001b[38;5;124mpublic\u001b[39m\u001b[38;5;124m'\u001b[39m, release, \u001b[38;5;124m'\u001b[39m\u001b[38;5;124mspectro\u001b[39m\u001b[38;5;124m'\u001b[39m, \u001b[38;5;124m'\u001b[39m\u001b[38;5;124mredux\u001b[39m\u001b[38;5;124m'\u001b[39m)\n\u001b[1;32m      4\u001b[0m targetphot_potential_file \u001b[38;5;241m=\u001b[39m os\u001b[38;5;241m.\u001b[39mpath\u001b[38;5;241m.\u001b[39mjoin(os\u001b[38;5;241m.\u001b[39menviron[\u001b[38;5;124m'\u001b[39m\u001b[38;5;124mDESI_ROOT\u001b[39m\u001b[38;5;124m'\u001b[39m], \u001b[38;5;124m'\u001b[39m\u001b[38;5;124mpublic\u001b[39m\u001b[38;5;124m'\u001b[39m, release, \u001b[38;5;124m'\u001b[39m\u001b[38;5;124mvac\u001b[39m\u001b[38;5;124m'\u001b[39m, \u001b[38;5;124m'\u001b[39m\u001b[38;5;124mlsdr9-photometry\u001b[39m\u001b[38;5;124m'\u001b[39m, os\u001b[38;5;241m.\u001b[39menviron[\u001b[38;5;124m'\u001b[39m\u001b[38;5;124mSPECPROD\u001b[39m\u001b[38;5;124m'\u001b[39m], targetphot_version, \u001b[38;5;124m'\u001b[39m\u001b[38;5;124mpotential-targets\u001b[39m\u001b[38;5;124m'\u001b[39m, \u001b[38;5;124mf\u001b[39m\u001b[38;5;124m\"\u001b[39m\u001b[38;5;124mtargetphot-potential-\u001b[39m\u001b[38;5;132;01m{\u001b[39;00mos\u001b[38;5;241m.\u001b[39menviron[\u001b[38;5;124m'\u001b[39m\u001b[38;5;124mSPECPROD\u001b[39m\u001b[38;5;124m'\u001b[39m]\u001b[38;5;132;01m}\u001b[39;00m\u001b[38;5;124m.fits\u001b[39m\u001b[38;5;124m\"\u001b[39m)\n\u001b[0;32m----> 5\u001b[0m targetphot_potential \u001b[38;5;241m=\u001b[39m \u001b[43mTable\u001b[49m\u001b[38;5;241;43m.\u001b[39;49m\u001b[43mread\u001b[49m\u001b[43m(\u001b[49m\u001b[43mtargetphot_potential_file\u001b[49m\u001b[43m,\u001b[49m\u001b[43m \u001b[49m\u001b[43mhdu\u001b[49m\u001b[38;5;241;43m=\u001b[39;49m\u001b[38;5;241;43m1\u001b[39;49m\u001b[43m)\u001b[49m\n",
      "File \u001b[0;32m~/Documents/local/products/venv/desiconda/lib/python3.9/site-packages/astropy/table/connect.py:62\u001b[0m, in \u001b[0;36mTableRead.__call__\u001b[0;34m(self, *args, **kwargs)\u001b[0m\n\u001b[1;32m     59\u001b[0m units \u001b[38;5;241m=\u001b[39m kwargs\u001b[38;5;241m.\u001b[39mpop(\u001b[38;5;124m'\u001b[39m\u001b[38;5;124munits\u001b[39m\u001b[38;5;124m'\u001b[39m, \u001b[38;5;28;01mNone\u001b[39;00m)\n\u001b[1;32m     60\u001b[0m descriptions \u001b[38;5;241m=\u001b[39m kwargs\u001b[38;5;241m.\u001b[39mpop(\u001b[38;5;124m'\u001b[39m\u001b[38;5;124mdescriptions\u001b[39m\u001b[38;5;124m'\u001b[39m, \u001b[38;5;28;01mNone\u001b[39;00m)\n\u001b[0;32m---> 62\u001b[0m out \u001b[38;5;241m=\u001b[39m \u001b[38;5;28;43mself\u001b[39;49m\u001b[38;5;241;43m.\u001b[39;49m\u001b[43mregistry\u001b[49m\u001b[38;5;241;43m.\u001b[39;49m\u001b[43mread\u001b[49m\u001b[43m(\u001b[49m\u001b[38;5;28;43mcls\u001b[39;49m\u001b[43m,\u001b[49m\u001b[43m \u001b[49m\u001b[38;5;241;43m*\u001b[39;49m\u001b[43margs\u001b[49m\u001b[43m,\u001b[49m\u001b[43m \u001b[49m\u001b[38;5;241;43m*\u001b[39;49m\u001b[38;5;241;43m*\u001b[39;49m\u001b[43mkwargs\u001b[49m\u001b[43m)\u001b[49m\n\u001b[1;32m     64\u001b[0m \u001b[38;5;66;03m# For some readers (e.g., ascii.ecsv), the returned `out` class is not\u001b[39;00m\n\u001b[1;32m     65\u001b[0m \u001b[38;5;66;03m# guaranteed to be the same as the desired output `cls`.  If so,\u001b[39;00m\n\u001b[1;32m     66\u001b[0m \u001b[38;5;66;03m# try coercing to desired class without copying (io.registry.read\u001b[39;00m\n\u001b[1;32m     67\u001b[0m \u001b[38;5;66;03m# would normally do a copy).  The normal case here is swapping\u001b[39;00m\n\u001b[1;32m     68\u001b[0m \u001b[38;5;66;03m# Table <=> QTable.\u001b[39;00m\n\u001b[1;32m     69\u001b[0m \u001b[38;5;28;01mif\u001b[39;00m \u001b[38;5;28mcls\u001b[39m \u001b[38;5;129;01mis\u001b[39;00m \u001b[38;5;129;01mnot\u001b[39;00m out\u001b[38;5;241m.\u001b[39m\u001b[38;5;18m__class__\u001b[39m:\n",
      "File \u001b[0;32m~/Documents/local/products/venv/desiconda/lib/python3.9/site-packages/astropy/io/registry/core.py:199\u001b[0m, in \u001b[0;36mUnifiedInputRegistry.read\u001b[0;34m(self, cls, format, cache, *args, **kwargs)\u001b[0m\n\u001b[1;32m    195\u001b[0m     \u001b[38;5;28mformat\u001b[39m \u001b[38;5;241m=\u001b[39m \u001b[38;5;28mself\u001b[39m\u001b[38;5;241m.\u001b[39m_get_valid_format(\n\u001b[1;32m    196\u001b[0m         \u001b[38;5;124m'\u001b[39m\u001b[38;5;124mread\u001b[39m\u001b[38;5;124m'\u001b[39m, \u001b[38;5;28mcls\u001b[39m, path, fileobj, args, kwargs)\n\u001b[1;32m    198\u001b[0m reader \u001b[38;5;241m=\u001b[39m \u001b[38;5;28mself\u001b[39m\u001b[38;5;241m.\u001b[39mget_reader(\u001b[38;5;28mformat\u001b[39m, \u001b[38;5;28mcls\u001b[39m)\n\u001b[0;32m--> 199\u001b[0m data \u001b[38;5;241m=\u001b[39m \u001b[43mreader\u001b[49m\u001b[43m(\u001b[49m\u001b[38;5;241;43m*\u001b[39;49m\u001b[43margs\u001b[49m\u001b[43m,\u001b[49m\u001b[43m \u001b[49m\u001b[38;5;241;43m*\u001b[39;49m\u001b[38;5;241;43m*\u001b[39;49m\u001b[43mkwargs\u001b[49m\u001b[43m)\u001b[49m\n\u001b[1;32m    201\u001b[0m \u001b[38;5;28;01mif\u001b[39;00m \u001b[38;5;129;01mnot\u001b[39;00m \u001b[38;5;28misinstance\u001b[39m(data, \u001b[38;5;28mcls\u001b[39m):\n\u001b[1;32m    202\u001b[0m     \u001b[38;5;66;03m# User has read with a subclass where only the parent class is\u001b[39;00m\n\u001b[1;32m    203\u001b[0m     \u001b[38;5;66;03m# registered.  This returns the parent class, so try coercing\u001b[39;00m\n\u001b[1;32m    204\u001b[0m     \u001b[38;5;66;03m# to desired subclass.\u001b[39;00m\n\u001b[1;32m    205\u001b[0m     \u001b[38;5;28;01mtry\u001b[39;00m:\n",
      "File \u001b[0;32m~/Documents/local/products/venv/desiconda/lib/python3.9/site-packages/astropy/io/fits/connect.py:214\u001b[0m, in \u001b[0;36mread_table_fits\u001b[0;34m(input, hdu, astropy_native, memmap, character_as_bytes)\u001b[0m\n\u001b[1;32m    210\u001b[0m hdulist \u001b[38;5;241m=\u001b[39m fits_open(\u001b[38;5;28minput\u001b[39m, character_as_bytes\u001b[38;5;241m=\u001b[39mcharacter_as_bytes,\n\u001b[1;32m    211\u001b[0m                     memmap\u001b[38;5;241m=\u001b[39mmemmap)\n\u001b[1;32m    213\u001b[0m \u001b[38;5;28;01mtry\u001b[39;00m:\n\u001b[0;32m--> 214\u001b[0m     \u001b[38;5;28;01mreturn\u001b[39;00m \u001b[43mread_table_fits\u001b[49m\u001b[43m(\u001b[49m\u001b[43mhdulist\u001b[49m\u001b[43m,\u001b[49m\u001b[43m \u001b[49m\u001b[43mhdu\u001b[49m\u001b[38;5;241;43m=\u001b[39;49m\u001b[43mhdu\u001b[49m\u001b[43m,\u001b[49m\n\u001b[1;32m    215\u001b[0m \u001b[43m                           \u001b[49m\u001b[43mastropy_native\u001b[49m\u001b[38;5;241;43m=\u001b[39;49m\u001b[43mastropy_native\u001b[49m\u001b[43m)\u001b[49m\n\u001b[1;32m    216\u001b[0m \u001b[38;5;28;01mfinally\u001b[39;00m:\n\u001b[1;32m    217\u001b[0m     hdulist\u001b[38;5;241m.\u001b[39mclose()\n",
      "File \u001b[0;32m~/Documents/local/products/venv/desiconda/lib/python3.9/site-packages/astropy/io/fits/connect.py:240\u001b[0m, in \u001b[0;36mread_table_fits\u001b[0;34m(input, hdu, astropy_native, memmap, character_as_bytes)\u001b[0m\n\u001b[1;32m    238\u001b[0m     masked \u001b[38;5;241m=\u001b[39m \u001b[38;5;28;01mTrue\u001b[39;00m\n\u001b[1;32m    239\u001b[0m \u001b[38;5;28;01melif\u001b[39;00m \u001b[38;5;28missubclass\u001b[39m(coltype, np\u001b[38;5;241m.\u001b[39minexact):\n\u001b[0;32m--> 240\u001b[0m     mask \u001b[38;5;241m=\u001b[39m \u001b[43mnp\u001b[49m\u001b[38;5;241;43m.\u001b[39;49m\u001b[43misnan\u001b[49m\u001b[43m(\u001b[49m\u001b[43mdata\u001b[49m\u001b[43m[\u001b[49m\u001b[43mcol\u001b[49m\u001b[38;5;241;43m.\u001b[39;49m\u001b[43mname\u001b[49m\u001b[43m]\u001b[49m\u001b[43m)\u001b[49m\n\u001b[1;32m    241\u001b[0m \u001b[38;5;28;01melif\u001b[39;00m \u001b[38;5;28missubclass\u001b[39m(coltype, np\u001b[38;5;241m.\u001b[39mcharacter):\n\u001b[1;32m    242\u001b[0m     mask \u001b[38;5;241m=\u001b[39m col\u001b[38;5;241m.\u001b[39marray \u001b[38;5;241m==\u001b[39m \u001b[38;5;124mb\u001b[39m\u001b[38;5;124m'\u001b[39m\u001b[38;5;124m'\u001b[39m\n",
      "\u001b[0;31mKeyboardInterrupt\u001b[0m: "
     ]
    }
   ],
   "source": [
    "release = 'edr'\n",
    "targetphot_version = 'v1.0'\n",
    "os.environ['DESI_SPECTRO_REDUX'] = os.path.join(os.environ['DESI_ROOT'], 'public', release, 'spectro', 'redux')\n",
    "targetphot_potential_file = os.path.join(os.environ['DESI_ROOT'], 'public', release, 'vac', 'lsdr9-photometry', os.environ['SPECPROD'], targetphot_version, 'potential-targets', f\"targetphot-potential-{os.environ['SPECPROD']}.fits\")\n",
    "targetphot_potential = Table.read(targetphot_potential_file, hdu=1)"
   ]
  },
  {
   "cell_type": "code",
   "execution_count": 5,
   "id": "ae6669a0-4816-4d75-b955-7922542a8070",
   "metadata": {},
   "outputs": [],
   "source": [
    "targetphot_file = os.path.join(os.environ['DESI_ROOT'], 'public', release, 'vac', 'lsdr9-photometry', os.environ['SPECPROD'], targetphot_version, 'observed-targets', f\"targetphot-{os.environ['SPECPROD']}.fits\")\n",
    "targetphot = Table.read(targetphot_file, hdu=1)"
   ]
  },
  {
   "cell_type": "markdown",
   "id": "19966f36-8386-4700-bfcb-710e289ed3b1",
   "metadata": {},
   "source": [
    "### For a given `TARGETID`, which columns are always the same?"
   ]
  },
  {
   "cell_type": "code",
   "execution_count": 6,
   "id": "764d91a9-a489-4177-b51c-26eda383eadd",
   "metadata": {},
   "outputs": [
    {
     "data": {
      "text/html": [
       "<div><i>Table length=2786841</i>\n",
       "<table id=\"table4804882192\" class=\"table-striped table-bordered table-condensed\">\n",
       "<thead><tr><th>RELEASE</th><th>BRICKID</th><th>BRICKNAME</th><th>BRICK_OBJID</th><th>MORPHTYPE</th><th>RA</th><th>RA_IVAR</th><th>DEC</th><th>DEC_IVAR</th><th>DCHISQ [5]</th><th>EBV</th><th>FLUX_G</th><th>FLUX_R</th><th>FLUX_Z</th><th>FLUX_IVAR_G</th><th>FLUX_IVAR_R</th><th>FLUX_IVAR_Z</th><th>MW_TRANSMISSION_G</th><th>MW_TRANSMISSION_R</th><th>MW_TRANSMISSION_Z</th><th>FRACFLUX_G</th><th>FRACFLUX_R</th><th>FRACFLUX_Z</th><th>FRACMASKED_G</th><th>FRACMASKED_R</th><th>FRACMASKED_Z</th><th>FRACIN_G</th><th>FRACIN_R</th><th>FRACIN_Z</th><th>NOBS_G</th><th>NOBS_R</th><th>NOBS_Z</th><th>PSFDEPTH_G</th><th>PSFDEPTH_R</th><th>PSFDEPTH_Z</th><th>GALDEPTH_G</th><th>GALDEPTH_R</th><th>GALDEPTH_Z</th><th>FLUX_W1</th><th>FLUX_W2</th><th>FLUX_W3</th><th>FLUX_W4</th><th>FLUX_IVAR_W1</th><th>FLUX_IVAR_W2</th><th>FLUX_IVAR_W3</th><th>FLUX_IVAR_W4</th><th>MW_TRANSMISSION_W1</th><th>MW_TRANSMISSION_W2</th><th>MW_TRANSMISSION_W3</th><th>MW_TRANSMISSION_W4</th><th>ALLMASK_G</th><th>ALLMASK_R</th><th>ALLMASK_Z</th><th>FIBERFLUX_G</th><th>FIBERFLUX_R</th><th>FIBERFLUX_Z</th><th>FIBERTOTFLUX_G</th><th>FIBERTOTFLUX_R</th><th>FIBERTOTFLUX_Z</th><th>REF_EPOCH</th><th>WISEMASK_W1</th><th>WISEMASK_W2</th><th>MASKBITS</th><th>LC_FLUX_W1 [15]</th><th>LC_FLUX_W2 [15]</th><th>LC_FLUX_IVAR_W1 [15]</th><th>LC_FLUX_IVAR_W2 [15]</th><th>LC_NOBS_W1 [15]</th><th>LC_NOBS_W2 [15]</th><th>LC_MJD_W1 [15]</th><th>LC_MJD_W2 [15]</th><th>SHAPE_R</th><th>SHAPE_E1</th><th>SHAPE_E2</th><th>SHAPE_R_IVAR</th><th>SHAPE_E1_IVAR</th><th>SHAPE_E2_IVAR</th><th>SERSIC</th><th>SERSIC_IVAR</th><th>REF_ID</th><th>REF_CAT</th><th>GAIA_PHOT_G_MEAN_MAG</th><th>GAIA_PHOT_G_MEAN_FLUX_OVER_ERROR</th><th>GAIA_PHOT_BP_MEAN_MAG</th><th>GAIA_PHOT_BP_MEAN_FLUX_OVER_ERROR</th><th>GAIA_PHOT_RP_MEAN_MAG</th><th>GAIA_PHOT_RP_MEAN_FLUX_OVER_ERROR</th><th>GAIA_PHOT_BP_RP_EXCESS_FACTOR</th><th>GAIA_ASTROMETRIC_EXCESS_NOISE</th><th>GAIA_DUPLICATED_SOURCE</th><th>GAIA_ASTROMETRIC_SIGMA5D_MAX</th><th>GAIA_ASTROMETRIC_PARAMS_SOLVED</th><th>PARALLAX</th><th>PARALLAX_IVAR</th><th>PMRA</th><th>PMRA_IVAR</th><th>PMDEC</th><th>PMDEC_IVAR</th><th>PHOTSYS</th><th>TARGETID</th><th>SUBPRIORITY</th><th>OBSCONDITIONS</th><th>PRIORITY_INIT</th><th>NUMOBS_INIT</th><th>HPXPIXEL</th><th>CMX_TARGET</th><th>DESI_TARGET</th><th>BGS_TARGET</th><th>MWS_TARGET</th><th>SV1_DESI_TARGET</th><th>SV1_BGS_TARGET</th><th>SV1_MWS_TARGET</th><th>SV2_DESI_TARGET</th><th>SV2_BGS_TARGET</th><th>SV2_MWS_TARGET</th><th>SV3_DESI_TARGET</th><th>SV3_BGS_TARGET</th><th>SV3_MWS_TARGET</th><th>SCND_TARGET</th><th>SV1_SCND_TARGET</th><th>SV2_SCND_TARGET</th><th>SV3_SCND_TARGET</th><th>SURVEY</th><th>PROGRAM</th><th>TILEID</th></tr></thead>\n",
       "<thead><tr><th>int16</th><th>int32</th><th>bytes8</th><th>int32</th><th>bytes4</th><th>float64</th><th>float32</th><th>float64</th><th>float32</th><th>float32</th><th>float32</th><th>float32</th><th>float32</th><th>float32</th><th>float32</th><th>float32</th><th>float32</th><th>float32</th><th>float32</th><th>float32</th><th>float32</th><th>float32</th><th>float32</th><th>float32</th><th>float32</th><th>float32</th><th>float32</th><th>float32</th><th>float32</th><th>int16</th><th>int16</th><th>int16</th><th>float32</th><th>float32</th><th>float32</th><th>float32</th><th>float32</th><th>float32</th><th>float32</th><th>float32</th><th>float32</th><th>float32</th><th>float32</th><th>float32</th><th>float32</th><th>float32</th><th>float32</th><th>float32</th><th>float32</th><th>float32</th><th>int16</th><th>int16</th><th>int16</th><th>float32</th><th>float32</th><th>float32</th><th>float32</th><th>float32</th><th>float32</th><th>float32</th><th>uint8</th><th>uint8</th><th>int16</th><th>float32</th><th>float32</th><th>float32</th><th>float32</th><th>int16</th><th>int16</th><th>float64</th><th>float64</th><th>float32</th><th>float32</th><th>float32</th><th>float32</th><th>float32</th><th>float32</th><th>float32</th><th>float32</th><th>int64</th><th>bytes2</th><th>float32</th><th>float32</th><th>float32</th><th>float32</th><th>float32</th><th>float32</th><th>float32</th><th>float32</th><th>bool</th><th>float32</th><th>bool</th><th>float32</th><th>float32</th><th>float32</th><th>float32</th><th>float32</th><th>float32</th><th>bytes1</th><th>int64</th><th>float64</th><th>int64</th><th>int64</th><th>int64</th><th>int64</th><th>int64</th><th>int64</th><th>int64</th><th>int64</th><th>int64</th><th>int64</th><th>int64</th><th>int64</th><th>int64</th><th>int64</th><th>int64</th><th>int64</th><th>int64</th><th>int64</th><th>int64</th><th>int64</th><th>int64</th><th>bytes7</th><th>bytes6</th><th>int32</th></tr></thead>\n",
       "<tr><td>9010</td><td>494512</td><td>0237p297</td><td>1707</td><td>DEV</td><td>23.661967677367254</td><td>80742950000.0</td><td>29.84758879289675</td><td>149970550000.0</td><td>8011.557 .. 9655.789</td><td>0.056008916</td><td>0.8742358</td><td>4.4879527</td><td>14.53286</td><td>846.09424</td><td>161.24467</td><td>27.071745</td><td>0.84721756</td><td>0.89432687</td><td>0.9394405</td><td>0.0010668915</td><td>0.86366457</td><td>0.0006714458</td><td>0.07150158</td><td>0.04451084</td><td>0.05153686</td><td>0.9731281</td><td>0.7351435</td><td>0.78252596</td><td>4</td><td>3</td><td>4</td><td>2643.3464</td><td>729.7028</td><td>87.75594</td><td>1827.4443</td><td>399.16907</td><td>56.263733</td><td>40.183647</td><td>23.470558</td><td>12.924044</td><td>230.56143</td><td>2.1023846</td><td>0.56624377</td><td>0.0014585183</td><td>2.1306869e-05</td><td>0.9905531</td><td>0.9941877</td><td>0.99875754</td><td>0.9995307</td><td>0</td><td>0</td><td>0</td><td>0.30432662</td><td>1.5622828</td><td>5.0589743</td><td>0.30432662</td><td>1.5622828</td><td>5.0589743</td><td>0.0</td><td>0</td><td>0</td><td>0</td><td>0.0 .. 0.0</td><td>0.0 .. 0.0</td><td>0.0 .. 0.0</td><td>0.0 .. 0.0</td><td>0 .. 0</td><td>0 .. 0</td><td>0.0 .. 0.0</td><td>0.0 .. 0.0</td><td>1.4857041</td><td>-0.47312373</td><td>0.34610084</td><td>964.16534</td><td>2238.5742</td><td>2086.7612</td><td>4.0</td><td>0.0</td><td>0</td><td>--</td><td>0.0</td><td>0.0</td><td>0.0</td><td>0.0</td><td>0.0</td><td>0.0</td><td>0.0</td><td>0.0</td><td>False</td><td>0.0</td><td>False</td><td>0.0</td><td>0.0</td><td>0.0</td><td>0.0</td><td>0.0</td><td>0.0</td><td>S</td><td>39628473198708395</td><td>0.3743222091683128</td><td>7</td><td>3410</td><td>2</td><td>2154</td><td>9007199254742016</td><td>0</td><td>0</td><td>0</td><td>0</td><td>0</td><td>0</td><td>0</td><td>0</td><td>0</td><td>0</td><td>0</td><td>0</td><td>0</td><td>0</td><td>0</td><td>0</td><td>cmx</td><td>other</td><td>80615</td></tr>\n",
       "<tr><td>9010</td><td>506890</td><td>0225p322</td><td>3722</td><td>DEV</td><td>22.632277706310983</td><td>24347576000.0</td><td>32.147682585477945</td><td>25480208000.0</td><td>1907.2046 .. 2092.7915</td><td>0.04842441</td><td>0.33290792</td><td>1.8065038</td><td>7.54596</td><td>517.70844</td><td>140.78175</td><td>27.471045</td><td>0.8664541</td><td>0.9079553</td><td>0.94742143</td><td>0.014109313</td><td>0.0335639</td><td>0.008898258</td><td>0.026616279</td><td>0.027603306</td><td>0.029831763</td><td>0.666616</td><td>0.671309</td><td>0.9998857</td><td>2</td><td>2</td><td>2</td><td>1215.8024</td><td>403.50443</td><td>67.47949</td><td>816.19824</td><td>238.12308</td><td>43.442795</td><td>26.32007</td><td>9.095648</td><td>3.3897743</td><td>-641.0113</td><td>2.371093</td><td>0.6180614</td><td>0.0014815918</td><td>1.9939984e-05</td><td>0.9918271</td><td>0.9949728</td><td>0.9989257</td><td>0.9995942</td><td>0</td><td>0</td><td>0</td><td>0.14217244</td><td>0.7714897</td><td>3.222595</td><td>0.14654775</td><td>0.7781188</td><td>3.2314115</td><td>0.0</td><td>0</td><td>0</td><td>0</td><td>0.0 .. 0.0</td><td>0.0 .. 0.0</td><td>0.0 .. 0.0</td><td>0.0 .. 0.0</td><td>0 .. 0</td><td>0 .. 0</td><td>0.0 .. 0.0</td><td>0.0 .. 0.0</td><td>0.75160944</td><td>-0.08437354</td><td>-0.15798429</td><td>633.2825</td><td>238.0613</td><td>384.80945</td><td>4.0</td><td>0.0</td><td>0</td><td>--</td><td>0.0</td><td>0.0</td><td>0.0</td><td>0.0</td><td>0.0</td><td>0.0</td><td>0.0</td><td>0.0</td><td>False</td><td>0.0</td><td>False</td><td>0.0</td><td>0.0</td><td>0.0</td><td>0.0</td><td>0.0</td><td>0.0</td><td>S</td><td>39628525115805322</td><td>0.508193196735392</td><td>1</td><td>3200</td><td>2</td><td>2243</td><td>1024</td><td>0</td><td>0</td><td>0</td><td>0</td><td>0</td><td>0</td><td>0</td><td>0</td><td>0</td><td>0</td><td>0</td><td>0</td><td>0</td><td>0</td><td>0</td><td>0</td><td>cmx</td><td>other</td><td>80615</td></tr>\n",
       "<tr><td>9010</td><td>506890</td><td>0225p322</td><td>4229</td><td>DEV</td><td>22.66257758597111</td><td>318319130000.0</td><td>32.28502828656639</td><td>241980420000.0</td><td>23438.291 .. 27084.156</td><td>0.06094818</td><td>1.7420735</td><td>9.653553</td><td>26.616823</td><td>435.8687</td><td>115.53811</td><td>21.249321</td><td>0.8349203</td><td>0.8855618</td><td>0.93427926</td><td>0.060701456</td><td>0.015809722</td><td>0.01255092</td><td>0.03108734</td><td>0.0313805</td><td>0.04339452</td><td>0.9895565</td><td>0.9909484</td><td>0.9900697</td><td>3</td><td>3</td><td>3</td><td>1601.6018</td><td>584.6173</td><td>82.03413</td><td>1065.9711</td><td>349.05627</td><td>52.510586</td><td>63.07494</td><td>35.619625</td><td>88.31806</td><td>1187.0475</td><td>1.8532004</td><td>0.5453647</td><td>0.0014726585</td><td>2.0656138e-05</td><td>0.9897243</td><td>0.9936768</td><td>0.99864805</td><td>0.9994893</td><td>0</td><td>0</td><td>0</td><td>0.5694511</td><td>3.155565</td><td>8.700539</td><td>0.5711794</td><td>3.158558</td><td>8.705203</td><td>0.0</td><td>0</td><td>0</td><td>0</td><td>0.0 .. 0.0</td><td>0.0 .. 0.0</td><td>0.0 .. 0.0</td><td>0.0 .. 0.0</td><td>0 .. 0</td><td>0 .. 0</td><td>0.0 .. 0.0</td><td>0.0 .. 0.0</td><td>1.1845574</td><td>0.13951185</td><td>0.05531746</td><td>4912.7446</td><td>9088.278</td><td>4904.6714</td><td>4.0</td><td>0.0</td><td>0</td><td>--</td><td>0.0</td><td>0.0</td><td>0.0</td><td>0.0</td><td>0.0</td><td>0.0</td><td>0.0</td><td>0.0</td><td>False</td><td>0.0</td><td>False</td><td>0.0</td><td>0.0</td><td>0.0</td><td>0.0</td><td>0.0</td><td>0.0</td><td>S</td><td>39628525115805829</td><td>0.5164991717361826</td><td>7</td><td>3410</td><td>2</td><td>2243</td><td>9007199254742272</td><td>0</td><td>0</td><td>0</td><td>0</td><td>0</td><td>0</td><td>0</td><td>0</td><td>0</td><td>0</td><td>0</td><td>0</td><td>0</td><td>0</td><td>0</td><td>0</td><td>cmx</td><td>other</td><td>80615</td></tr>\n",
       "<tr><td>9010</td><td>506890</td><td>0225p322</td><td>4500</td><td>PSF</td><td>22.67974580973663</td><td>297857260000000.0</td><td>32.15018898932426</td><td>297558820000000.0</td><td>588715.9 .. 0.0</td><td>0.04825754</td><td>29.850935</td><td>32.69216</td><td>27.819286</td><td>390.16525</td><td>177.75229</td><td>66.071304</td><td>0.8668822</td><td>0.9082575</td><td>0.9475978</td><td>0.0</td><td>0.0</td><td>0.0</td><td>0.0025779274</td><td>0.0020478426</td><td>0.07488615</td><td>0.9983722</td><td>0.9988293</td><td>0.99785906</td><td>3</td><td>3</td><td>3</td><td>1722.623</td><td>634.1595</td><td>86.37926</td><td>1142.8367</td><td>374.3086</td><td>54.968887</td><td>5.987303</td><td>1.5761025</td><td>-61.861088</td><td>-283.99887</td><td>3.3321006</td><td>0.73752105</td><td>0.001608942</td><td>2.0649471e-05</td><td>0.99185514</td><td>0.9949901</td><td>0.9989294</td><td>0.99959564</td><td>0</td><td>0</td><td>0</td><td>14.346475</td><td>15.71198</td><td>13.370056</td><td>14.347261</td><td>15.713169</td><td>13.371608</td><td>2015.5</td><td>0</td><td>0</td><td>0</td><td>0.0 .. 0.0</td><td>0.0 .. 0.0</td><td>0.0 .. 0.0</td><td>0.0 .. 0.0</td><td>0 .. 0</td><td>0 .. 0</td><td>0.0 .. 0.0</td><td>0.0 .. 0.0</td><td>0.0</td><td>0.0</td><td>0.0</td><td>0.0</td><td>0.0</td><td>0.0</td><td>0.0</td><td>0.0</td><td>315733972325945856</td><td>G2</td><td>18.717903</td><td>295.36325</td><td>18.799135</td><td>46.503593</td><td>18.4356</td><td>33.14317</td><td>1.2328387</td><td>0.0</td><td>False</td><td>0.42285153</td><td>True</td><td>6.792137</td><td>15.731098</td><td>120.65216</td><td>4.715554</td><td>-68.83143</td><td>6.272038</td><td>S</td><td>39628525115806100</td><td>0.1209809850843947</td><td>63</td><td>3060</td><td>100</td><td>2243</td><td>8737</td><td>0</td><td>0</td><td>0</td><td>0</td><td>0</td><td>0</td><td>0</td><td>0</td><td>0</td><td>0</td><td>0</td><td>0</td><td>0</td><td>0</td><td>0</td><td>0</td><td>cmx</td><td>other</td><td>80615</td></tr>\n",
       "<tr><td>9010</td><td>506890</td><td>0225p322</td><td>4504</td><td>REX</td><td>22.679816233833215</td><td>4177981000.0</td><td>32.31384428567802</td><td>3524193000.0</td><td>252.50479 .. 0.0</td><td>0.061355095</td><td>0.33508936</td><td>0.36174616</td><td>1.1808444</td><td>1177.6807</td><td>401.36588</td><td>59.746777</td><td>0.83391523</td><td>0.8848435</td><td>0.9338553</td><td>0.0</td><td>0.0</td><td>0.0</td><td>0.016394613</td><td>0.010348115</td><td>0.018966602</td><td>0.987965</td><td>0.99137926</td><td>0.9832661</td><td>3</td><td>3</td><td>3</td><td>1601.6018</td><td>584.6173</td><td>82.03413</td><td>1065.9711</td><td>349.05627</td><td>52.510586</td><td>0.50098145</td><td>-0.8779272</td><td>57.24383</td><td>-257.5087</td><td>3.4907982</td><td>0.77215374</td><td>0.001693384</td><td>2.1769503e-05</td><td>0.98965603</td><td>0.9936347</td><td>0.99863905</td><td>0.9994859</td><td>0</td><td>0</td><td>0</td><td>0.20589769</td><td>0.22227712</td><td>0.725577</td><td>0.20589769</td><td>0.22227712</td><td>0.725577</td><td>0.0</td><td>0</td><td>0</td><td>0</td><td>0.0 .. 0.0</td><td>0.0 .. 0.0</td><td>0.0 .. 0.0</td><td>0.0 .. 0.0</td><td>0 .. 0</td><td>0 .. 0</td><td>0.0 .. 0.0</td><td>0.0 .. 0.0</td><td>0.35113364</td><td>0.0</td><td>0.0</td><td>249.49533</td><td>0.0</td><td>0.0</td><td>1.0</td><td>0.0</td><td>0</td><td>--</td><td>0.0</td><td>0.0</td><td>0.0</td><td>0.0</td><td>0.0</td><td>0.0</td><td>0.0</td><td>0.0</td><td>False</td><td>0.0</td><td>False</td><td>0.0</td><td>0.0</td><td>0.0</td><td>0.0</td><td>0.0</td><td>0.0</td><td>S</td><td>39628525115806104</td><td>0.9405296866353885</td><td>3</td><td>3000</td><td>1</td><td>2243</td><td>2048</td><td>0</td><td>0</td><td>0</td><td>0</td><td>0</td><td>0</td><td>0</td><td>0</td><td>0</td><td>0</td><td>0</td><td>0</td><td>0</td><td>0</td><td>0</td><td>0</td><td>cmx</td><td>other</td><td>80615</td></tr>\n",
       "<tr><td>9010</td><td>506890</td><td>0225p322</td><td>4793</td><td>SER</td><td>22.694556204972052</td><td>6352276000000.0</td><td>32.25922049813739</td><td>5347084300000.0</td><td>437244.8 .. 522909.72</td><td>0.060857933</td><td>31.395386</td><td>70.136246</td><td>146.40533</td><td>134.90475</td><td>31.61795</td><td>10.950459</td><td>0.8351434</td><td>0.8857212</td><td>0.9343733</td><td>0.0051155095</td><td>0.0037575068</td><td>0.00011172103</td><td>0.016232919</td><td>0.015238005</td><td>0.018138126</td><td>0.997952</td><td>0.66666067</td><td>0.66674507</td><td>2</td><td>2</td><td>2</td><td>1168.2467</td><td>386.38794</td><td>63.354103</td><td>784.37646</td><td>228.95456</td><td>40.97696</td><td>279.34506</td><td>240.7542</td><td>1926.023</td><td>10199.852</td><td>0.9108761</td><td>0.30869055</td><td>0.0013677056</td><td>1.9964087e-05</td><td>0.9897394</td><td>0.99368614</td><td>0.9986501</td><td>0.9994901</td><td>0</td><td>0</td><td>0</td><td>9.792883</td><td>21.876974</td><td>45.66691</td><td>9.794512</td><td>21.880651</td><td>45.667023</td><td>0.0</td><td>0</td><td>0</td><td>0</td><td>0.0 .. 0.0</td><td>0.0 .. 0.0</td><td>0.0 .. 0.0</td><td>0.0 .. 0.0</td><td>0 .. 0</td><td>0 .. 0</td><td>0.0 .. 0.0</td><td>0.0 .. 0.0</td><td>1.4627146</td><td>0.095875464</td><td>-0.01691358</td><td>46625.645</td><td>223898.4</td><td>104352.336</td><td>6.0</td><td>634.258</td><td>0</td><td>--</td><td>0.0</td><td>0.0</td><td>0.0</td><td>0.0</td><td>0.0</td><td>0.0</td><td>0.0</td><td>0.0</td><td>False</td><td>0.0</td><td>False</td><td>0.0</td><td>0.0</td><td>0.0</td><td>0.0</td><td>0.0</td><td>0.0</td><td>S</td><td>39628525115806393</td><td>0.20474832210014915</td><td>7</td><td>3200</td><td>2</td><td>2243</td><td>72057594037929216</td><td>0</td><td>0</td><td>0</td><td>0</td><td>0</td><td>0</td><td>0</td><td>0</td><td>0</td><td>0</td><td>0</td><td>0</td><td>0</td><td>0</td><td>0</td><td>0</td><td>cmx</td><td>other</td><td>80615</td></tr>\n",
       "<tr><td>9010</td><td>506890</td><td>0225p322</td><td>4881</td><td>PSF</td><td>22.69940896126624</td><td>761223600000.0</td><td>32.12638020005658</td><td>569651700000.0</td><td>28569.12 .. 0.0</td><td>0.045115586</td><td>3.9463398</td><td>4.3402996</td><td>5.079575</td><td>1138.3447</td><td>462.95276</td><td>82.20911</td><td>0.8749826</td><td>0.9139657</td><td>0.95092446</td><td>0.00017380054</td><td>9.195856e-05</td><td>0.0004361102</td><td>0.0068377415</td><td>0.0050887666</td><td>0.008907614</td><td>0.9993014</td><td>0.999423</td><td>0.998868</td><td>3</td><td>3</td><td>3</td><td>1722.623</td><td>634.1595</td><td>86.37926</td><td>1142.8367</td><td>374.3086</td><td>54.968887</td><td>7.4043803</td><td>9.95847</td><td>37.862164</td><td>-528.70056</td><td>3.342192</td><td>0.742936</td><td>0.0016792468</td><td>2.1500267e-05</td><td>0.9923834</td><td>0.9953155</td><td>0.99899906</td><td>0.9996219</td><td>0</td><td>0</td><td>0</td><td>3.067718</td><td>3.3739657</td><td>3.9486475</td><td>3.0677588</td><td>3.3740294</td><td>3.9486535</td><td>0.0</td><td>0</td><td>0</td><td>0</td><td>0.0 .. 0.0</td><td>0.0 .. 0.0</td><td>0.0 .. 0.0</td><td>0.0 .. 0.0</td><td>0 .. 0</td><td>0 .. 0</td><td>0.0 .. 0.0</td><td>0.0 .. 0.0</td><td>0.0</td><td>0.0</td><td>0.0</td><td>0.0</td><td>0.0</td><td>0.0</td><td>0.0</td><td>0.0</td><td>0</td><td>--</td><td>0.0</td><td>0.0</td><td>0.0</td><td>0.0</td><td>0.0</td><td>0.0</td><td>0.0</td><td>0.0</td><td>False</td><td>0.0</td><td>False</td><td>0.0</td><td>0.0</td><td>0.0</td><td>0.0</td><td>0.0</td><td>0.0</td><td>S</td><td>39628525115806481</td><td>0.4633724755042784</td><td>7</td><td>3420</td><td>4</td><td>2243</td><td>36028797018970112</td><td>0</td><td>0</td><td>0</td><td>0</td><td>0</td><td>0</td><td>0</td><td>0</td><td>0</td><td>0</td><td>0</td><td>0</td><td>0</td><td>0</td><td>0</td><td>0</td><td>cmx</td><td>other</td><td>80615</td></tr>\n",
       "<tr><td>9010</td><td>506890</td><td>0225p322</td><td>5072</td><td>REX</td><td>22.710860256045333</td><td>3158966000.0</td><td>32.308168155543505</td><td>2754899200.0</td><td>218.208 .. 0.0</td><td>0.061462857</td><td>0.30116653</td><td>0.47147796</td><td>1.0616561</td><td>1056.3809</td><td>346.26236</td><td>52.738667</td><td>0.8336492</td><td>0.88465345</td><td>0.93374306</td><td>0.0035089343</td><td>0.0025125332</td><td>0.0040778415</td><td>0.017022481</td><td>0.010778931</td><td>0.022058193</td><td>0.9948944</td><td>0.99600756</td><td>0.99258816</td><td>3</td><td>3</td><td>3</td><td>1601.6018</td><td>584.6173</td><td>82.03413</td><td>1065.9711</td><td>349.05627</td><td>52.510586</td><td>2.7472563</td><td>2.789332</td><td>5.5666566</td><td>-66.316</td><td>3.4550364</td><td>0.7729512</td><td>0.0018536132</td><td>2.408948e-05</td><td>0.9896379</td><td>0.99362355</td><td>0.99863666</td><td>0.999485</td><td>0</td><td>0</td><td>0</td><td>0.16581649</td><td>0.2595867</td><td>0.5845274</td><td>0.16581649</td><td>0.2595867</td><td>0.5845274</td><td>0.0</td><td>0</td><td>0</td><td>0</td><td>0.0 .. 0.0</td><td>0.0 .. 0.0</td><td>0.0 .. 0.0</td><td>0.0 .. 0.0</td><td>0 .. 0</td><td>0 .. 0</td><td>0.0 .. 0.0</td><td>0.0 .. 0.0</td><td>0.44214058</td><td>0.0</td><td>0.0</td><td>232.80548</td><td>0.0</td><td>0.0</td><td>1.0</td><td>0.0</td><td>0</td><td>--</td><td>0.0</td><td>0.0</td><td>0.0</td><td>0.0</td><td>0.0</td><td>0.0</td><td>0.0</td><td>0.0</td><td>False</td><td>0.0</td><td>False</td><td>0.0</td><td>0.0</td><td>0.0</td><td>0.0</td><td>0.0</td><td>0.0</td><td>S</td><td>39628525115806672</td><td>0.9773243091341727</td><td>3</td><td>3000</td><td>1</td><td>2243</td><td>2048</td><td>0</td><td>0</td><td>0</td><td>0</td><td>0</td><td>0</td><td>0</td><td>0</td><td>0</td><td>0</td><td>0</td><td>0</td><td>0</td><td>0</td><td>0</td><td>0</td><td>cmx</td><td>other</td><td>80615</td></tr>\n",
       "<tr><td>9010</td><td>506890</td><td>0225p322</td><td>5100</td><td>PSF</td><td>22.712554166046022</td><td>9321843000.0</td><td>32.219095421737066</td><td>8408845300.0</td><td>370.2306 .. 0.0</td><td>0.057836697</td><td>0.22975843</td><td>0.73951834</td><td>1.2170854</td><td>1105.1587</td><td>419.58298</td><td>55.763157</td><td>0.84264594</td><td>0.8910733</td><td>0.93752724</td><td>0.057479564</td><td>0.23486277</td><td>0.2498217</td><td>0.010992314</td><td>0.006888248</td><td>0.013757728</td><td>0.66466045</td><td>0.6656932</td><td>0.6703321</td><td>2</td><td>2</td><td>2</td><td>1130.1029</td><td>447.37524</td><td>56.17929</td><td>760.74316</td><td>265.9855</td><td>33.15601</td><td>2.3307538</td><td>12.49729</td><td>-68.91616</td><td>-927.65857</td><td>3.3223908</td><td>0.7044316</td><td>0.0016856977</td><td>2.1276e-05</td><td>0.9902463</td><td>0.99399865</td><td>0.998717</td><td>0.99951535</td><td>0</td><td>0</td><td>0</td><td>0.17895122</td><td>0.57598627</td><td>0.9479474</td><td>0.17895414</td><td>0.5759942</td><td>0.9479528</td><td>0.0</td><td>0</td><td>4</td><td>512</td><td>0.0 .. 0.0</td><td>0.0 .. 0.0</td><td>0.0 .. 0.0</td><td>0.0 .. 0.0</td><td>0 .. 0</td><td>0 .. 0</td><td>0.0 .. 0.0</td><td>0.0 .. 0.0</td><td>0.0</td><td>0.0</td><td>0.0</td><td>0.0</td><td>0.0</td><td>0.0</td><td>0.0</td><td>0.0</td><td>0</td><td>--</td><td>0.0</td><td>0.0</td><td>0.0</td><td>0.0</td><td>0.0</td><td>0.0</td><td>0.0</td><td>0.0</td><td>False</td><td>0.0</td><td>False</td><td>0.0</td><td>0.0</td><td>0.0</td><td>0.0</td><td>0.0</td><td>0.0</td><td>S</td><td>39628525115806700</td><td>0.4067442858820839</td><td>1</td><td>3400</td><td>4</td><td>2243</td><td>4096</td><td>0</td><td>0</td><td>0</td><td>0</td><td>0</td><td>0</td><td>0</td><td>0</td><td>0</td><td>0</td><td>0</td><td>0</td><td>0</td><td>0</td><td>0</td><td>0</td><td>cmx</td><td>other</td><td>80615</td></tr>\n",
       "<tr><td>9010</td><td>506891</td><td>0228p322</td><td>412</td><td>PSF</td><td>22.742185629311404</td><td>3465005600.0</td><td>32.18725024218351</td><td>2447696000.0</td><td>143.24728 .. 0.0</td><td>0.054043736</td><td>0.21939635</td><td>0.24206306</td><td>0.62860525</td><td>1685.4415</td><td>619.5322</td><td>65.26746</td><td>0.85216045</td><td>0.8978383</td><td>0.9415019</td><td>0.0013648946</td><td>0.000959066</td><td>0.0020817898</td><td>0.011010063</td><td>0.037471015</td><td>0.25064638</td><td>1.0</td><td>0.99999994</td><td>1.0</td><td>3</td><td>3</td><td>3</td><td>1735.8477</td><td>631.2941</td><td>83.67514</td><td>1143.2656</td><td>371.646</td><td>53.58106</td><td>-0.07470324</td><td>0.05644217</td><td>29.425732</td><td>-636.158</td><td>3.4600646</td><td>0.7473335</td><td>0.001687141</td><td>2.157318e-05</td><td>0.990883</td><td>0.9943911</td><td>0.9988011</td><td>0.9995471</td><td>0</td><td>0</td><td>0</td><td>0.17054868</td><td>0.18816873</td><td>0.48864895</td><td>0.17054868</td><td>0.18816873</td><td>0.48864895</td><td>0.0</td><td>0</td><td>0</td><td>0</td><td>0.0 .. 0.0</td><td>0.0 .. 0.0</td><td>0.0 .. 0.0</td><td>0.0 .. 0.0</td><td>0 .. 0</td><td>0 .. 0</td><td>0.0 .. 0.0</td><td>0.0 .. 0.0</td><td>0.0</td><td>0.0</td><td>0.0</td><td>0.0</td><td>0.0</td><td>0.0</td><td>0.0</td><td>0.0</td><td>0</td><td>--</td><td>0.0</td><td>0.0</td><td>0.0</td><td>0.0</td><td>0.0</td><td>0.0</td><td>0.0</td><td>0.0</td><td>False</td><td>0.0</td><td>False</td><td>0.0</td><td>0.0</td><td>0.0</td><td>0.0</td><td>0.0</td><td>0.0</td><td>S</td><td>39628525119996316</td><td>0.9499526709882066</td><td>3</td><td>3000</td><td>1</td><td>2243</td><td>2048</td><td>0</td><td>0</td><td>0</td><td>0</td><td>0</td><td>0</td><td>0</td><td>0</td><td>0</td><td>0</td><td>0</td><td>0</td><td>0</td><td>0</td><td>0</td><td>0</td><td>cmx</td><td>other</td><td>80615</td></tr>\n",
       "<tr><td>9010</td><td>506891</td><td>0228p322</td><td>604</td><td>PSF</td><td>22.752669832253666</td><td>793411800000.0</td><td>32.311137196462425</td><td>641375600000.0</td><td>31183.943 .. 0.0</td><td>0.061206646</td><td>3.851477</td><td>5.2102923</td><td>9.117206</td><td>1087.5026</td><td>414.63898</td><td>45.677757</td><td>0.83428174</td><td>0.8851055</td><td>0.93400997</td><td>0.001851108</td><td>0.016762959</td><td>0.03596065</td><td>0.0059201266</td><td>0.004600848</td><td>0.27940628</td><td>0.9981484</td><td>0.998612</td><td>0.99746406</td><td>3</td><td>3</td><td>3</td><td>1606.7391</td><td>589.0176</td><td>44.794533</td><td>1068.2247</td><td>350.37592</td><td>30.92564</td><td>41.633526</td><td>43.475765</td><td>187.04376</td><td>-286.95703</td><td>2.5294385</td><td>0.65131605</td><td>0.0017569126</td><td>2.2344118e-05</td><td>0.9896809</td><td>0.9936501</td><td>0.9986423</td><td>0.99948716</td><td>0</td><td>0</td><td>0</td><td>2.9987922</td><td>4.056777</td><td>7.0987325</td><td>3.001171</td><td>4.095581</td><td>7.2076845</td><td>0.0</td><td>0</td><td>0</td><td>0</td><td>0.0 .. 0.0</td><td>0.0 .. 0.0</td><td>0.0 .. 0.0</td><td>0.0 .. 0.0</td><td>0 .. 0</td><td>0 .. 0</td><td>0.0 .. 0.0</td><td>0.0 .. 0.0</td><td>0.0</td><td>0.0</td><td>0.0</td><td>0.0</td><td>0.0</td><td>0.0</td><td>0.0</td><td>0.0</td><td>0</td><td>--</td><td>0.0</td><td>0.0</td><td>0.0</td><td>0.0</td><td>0.0</td><td>0.0</td><td>0.0</td><td>0.0</td><td>False</td><td>0.0</td><td>False</td><td>0.0</td><td>0.0</td><td>0.0</td><td>0.0</td><td>0.0</td><td>0.0</td><td>S</td><td>39628525119996508</td><td>0.39705830582767543</td><td>7</td><td>3420</td><td>4</td><td>2243</td><td>54043195528452352</td><td>0</td><td>0</td><td>0</td><td>0</td><td>0</td><td>0</td><td>0</td><td>0</td><td>0</td><td>0</td><td>0</td><td>0</td><td>0</td><td>0</td><td>0</td><td>0</td><td>cmx</td><td>other</td><td>80615</td></tr>\n",
       "<tr><td>9010</td><td>506891</td><td>0228p322</td><td>638</td><td>PSF</td><td>22.75426285726419</td><td>13120317000.0</td><td>32.231842103526205</td><td>10807989000.0</td><td>525.0827 .. 0.0</td><td>0.059356757</td><td>0.3469299</td><td>0.6833618</td><td>0.86640173</td><td>1612.6577</td><td>581.51685</td><td>81.99173</td><td>0.83886284</td><td>0.8883765</td><td>0.9359391</td><td>0.0</td><td>0.0</td><td>0.0</td><td>0.013050724</td><td>0.009148961</td><td>0.016967112</td><td>0.9937816</td><td>0.9955909</td><td>0.99183655</td><td>3</td><td>3</td><td>3</td><td>1679.7847</td><td>618.59906</td><td>82.11745</td><td>1113.3368</td><td>365.3337</td><td>52.47349</td><td>2.6058536</td><td>2.7194455</td><td>1.2403342</td><td>351.20236</td><td>3.4135926</td><td>0.73446417</td><td>0.0016613507</td><td>2.1526097e-05</td><td>0.98999125</td><td>0.99384135</td><td>0.99868333</td><td>0.99950266</td><td>0</td><td>0</td><td>0</td><td>0.26992378</td><td>0.5316797</td><td>0.6740912</td><td>0.26992378</td><td>0.5316797</td><td>0.6740912</td><td>0.0</td><td>0</td><td>0</td><td>0</td><td>0.0 .. 0.0</td><td>0.0 .. 0.0</td><td>0.0 .. 0.0</td><td>0.0 .. 0.0</td><td>0 .. 0</td><td>0 .. 0</td><td>0.0 .. 0.0</td><td>0.0 .. 0.0</td><td>0.0</td><td>0.0</td><td>0.0</td><td>0.0</td><td>0.0</td><td>0.0</td><td>0.0</td><td>0.0</td><td>0</td><td>--</td><td>0.0</td><td>0.0</td><td>0.0</td><td>0.0</td><td>0.0</td><td>0.0</td><td>0.0</td><td>0.0</td><td>False</td><td>0.0</td><td>False</td><td>0.0</td><td>0.0</td><td>0.0</td><td>0.0</td><td>0.0</td><td>0.0</td><td>S</td><td>39628525119996542</td><td>0.10776564446355175</td><td>1</td><td>3400</td><td>4</td><td>2243</td><td>4096</td><td>0</td><td>0</td><td>0</td><td>0</td><td>0</td><td>0</td><td>0</td><td>0</td><td>0</td><td>0</td><td>0</td><td>0</td><td>0</td><td>0</td><td>0</td><td>0</td><td>cmx</td><td>other</td><td>80615</td></tr>\n",
       "<tr><td>...</td><td>...</td><td>...</td><td>...</td><td>...</td><td>...</td><td>...</td><td>...</td><td>...</td><td>...</td><td>...</td><td>...</td><td>...</td><td>...</td><td>...</td><td>...</td><td>...</td><td>...</td><td>...</td><td>...</td><td>...</td><td>...</td><td>...</td><td>...</td><td>...</td><td>...</td><td>...</td><td>...</td><td>...</td><td>...</td><td>...</td><td>...</td><td>...</td><td>...</td><td>...</td><td>...</td><td>...</td><td>...</td><td>...</td><td>...</td><td>...</td><td>...</td><td>...</td><td>...</td><td>...</td><td>...</td><td>...</td><td>...</td><td>...</td><td>...</td><td>...</td><td>...</td><td>...</td><td>...</td><td>...</td><td>...</td><td>...</td><td>...</td><td>...</td><td>...</td><td>...</td><td>...</td><td>...</td><td>...</td><td>...</td><td>...</td><td>...</td><td>...</td><td>...</td><td>...</td><td>...</td><td>...</td><td>...</td><td>...</td><td>...</td><td>...</td><td>...</td><td>...</td><td>...</td><td>...</td><td>...</td><td>...</td><td>...</td><td>...</td><td>...</td><td>...</td><td>...</td><td>...</td><td>...</td><td>...</td><td>...</td><td>...</td><td>...</td><td>...</td><td>...</td><td>...</td><td>...</td><td>...</td><td>...</td><td>...</td><td>...</td><td>...</td><td>...</td><td>...</td><td>...</td><td>...</td><td>...</td><td>...</td><td>...</td><td>...</td><td>...</td><td>...</td><td>...</td><td>...</td><td>...</td><td>...</td><td>...</td><td>...</td><td>...</td><td>...</td><td>...</td><td>...</td><td>...</td><td>...</td><td>...</td></tr>\n",
       "<tr><td>-1</td><td>553502</td><td>--</td><td>-1</td><td>GPSF</td><td>236.1903224943275</td><td>1e+16</td><td>42.20701420526596</td><td>1e+16</td><td>0.0 .. 0.0</td><td>0.02655011</td><td>-99.0</td><td>-99.0</td><td>-99.0</td><td>-99.0</td><td>-99.0</td><td>-99.0</td><td>0.0</td><td>0.0</td><td>0.0</td><td>0.0</td><td>0.0</td><td>0.0</td><td>0.0</td><td>0.0</td><td>0.0</td><td>0.0</td><td>0.0</td><td>0.0</td><td>0</td><td>0</td><td>0</td><td>0.0</td><td>0.0</td><td>0.0</td><td>0.0</td><td>0.0</td><td>0.0</td><td>0.0</td><td>0.0</td><td>0.0</td><td>0.0</td><td>0.0</td><td>0.0</td><td>0.0</td><td>0.0</td><td>0.0</td><td>0.0</td><td>0.0</td><td>0.0</td><td>0</td><td>0</td><td>0</td><td>0.0</td><td>0.0</td><td>0.0</td><td>0.0</td><td>0.0</td><td>0.0</td><td>2015.5</td><td>0</td><td>0</td><td>0</td><td>0.0 .. 0.0</td><td>0.0 .. 0.0</td><td>0.0 .. 0.0</td><td>0.0 .. 0.0</td><td>0 .. 0</td><td>0 .. 0</td><td>0.0 .. 0.0</td><td>0.0 .. 0.0</td><td>0.0</td><td>0.0</td><td>0.0</td><td>0.0</td><td>0.0</td><td>0.0</td><td>0.0</td><td>0.0</td><td>1396137084443917952</td><td>G2</td><td>17.848265</td><td>799.5477</td><td>18.429802</td><td>86.3633</td><td>17.119251</td><td>143.77757</td><td>0.0</td><td>0.13339949</td><td>False</td><td>0.0</td><td>True</td><td>0.9624305</td><td>98.05419</td><td>-29.253166</td><td>33.39758</td><td>-55.396584</td><td>22.595474</td><td>G</td><td>2305843019615568314</td><td>0.7174902776450293</td><td>568</td><td>100008</td><td>9</td><td>9920</td><td>0</td><td>0</td><td>0</td><td>0</td><td>0</td><td>0</td><td>0</td><td>0</td><td>0</td><td>0</td><td>2305843009213693952</td><td>0</td><td>2305843009213693952</td><td>0</td><td>0</td><td>0</td><td>0</td><td>sv3</td><td>backup</td><td>596</td></tr>\n",
       "<tr><td>-1</td><td>555629</td><td>--</td><td>-1</td><td>GPSF</td><td>236.2735600423107</td><td>1e+16</td><td>42.77027463688229</td><td>1e+16</td><td>0.0 .. 0.0</td><td>0.026929453</td><td>-99.0</td><td>-99.0</td><td>-99.0</td><td>-99.0</td><td>-99.0</td><td>-99.0</td><td>0.0</td><td>0.0</td><td>0.0</td><td>0.0</td><td>0.0</td><td>0.0</td><td>0.0</td><td>0.0</td><td>0.0</td><td>0.0</td><td>0.0</td><td>0.0</td><td>0</td><td>0</td><td>0</td><td>0.0</td><td>0.0</td><td>0.0</td><td>0.0</td><td>0.0</td><td>0.0</td><td>0.0</td><td>0.0</td><td>0.0</td><td>0.0</td><td>0.0</td><td>0.0</td><td>0.0</td><td>0.0</td><td>0.0</td><td>0.0</td><td>0.0</td><td>0.0</td><td>0</td><td>0</td><td>0</td><td>0.0</td><td>0.0</td><td>0.0</td><td>0.0</td><td>0.0</td><td>0.0</td><td>2015.5</td><td>0</td><td>0</td><td>0</td><td>0.0 .. 0.0</td><td>0.0 .. 0.0</td><td>0.0 .. 0.0</td><td>0.0 .. 0.0</td><td>0 .. 0</td><td>0 .. 0</td><td>0.0 .. 0.0</td><td>0.0 .. 0.0</td><td>0.0</td><td>0.0</td><td>0.0</td><td>0.0</td><td>0.0</td><td>0.0</td><td>0.0</td><td>0.0</td><td>1396203673617258496</td><td>G2</td><td>17.950708</td><td>800.18854</td><td>19.401752</td><td>22.621426</td><td>16.749788</td><td>205.14157</td><td>0.0</td><td>0.24639009</td><td>False</td><td>0.0</td><td>True</td><td>3.666465</td><td>82.088425</td><td>7.9025493</td><td>37.00465</td><td>-36.52044</td><td>20.437048</td><td>G</td><td>2305843019615568330</td><td>0.08349088079893852</td><td>568</td><td>100008</td><td>9</td><td>9920</td><td>0</td><td>0</td><td>0</td><td>0</td><td>0</td><td>0</td><td>0</td><td>0</td><td>0</td><td>0</td><td>2305843009213693952</td><td>0</td><td>2305843009213693952</td><td>0</td><td>0</td><td>0</td><td>0</td><td>sv3</td><td>backup</td><td>596</td></tr>\n",
       "<tr><td>-1</td><td>554570</td><td>--</td><td>-1</td><td>GPSF</td><td>236.9193590212107</td><td>1e+16</td><td>42.51074678330304</td><td>1e+16</td><td>0.0 .. 0.0</td><td>0.024156192</td><td>-99.0</td><td>-99.0</td><td>-99.0</td><td>-99.0</td><td>-99.0</td><td>-99.0</td><td>0.0</td><td>0.0</td><td>0.0</td><td>0.0</td><td>0.0</td><td>0.0</td><td>0.0</td><td>0.0</td><td>0.0</td><td>0.0</td><td>0.0</td><td>0.0</td><td>0</td><td>0</td><td>0</td><td>0.0</td><td>0.0</td><td>0.0</td><td>0.0</td><td>0.0</td><td>0.0</td><td>0.0</td><td>0.0</td><td>0.0</td><td>0.0</td><td>0.0</td><td>0.0</td><td>0.0</td><td>0.0</td><td>0.0</td><td>0.0</td><td>0.0</td><td>0.0</td><td>0</td><td>0</td><td>0</td><td>0.0</td><td>0.0</td><td>0.0</td><td>0.0</td><td>0.0</td><td>0.0</td><td>2015.5</td><td>0</td><td>0</td><td>0</td><td>0.0 .. 0.0</td><td>0.0 .. 0.0</td><td>0.0 .. 0.0</td><td>0.0 .. 0.0</td><td>0 .. 0</td><td>0 .. 0</td><td>0.0 .. 0.0</td><td>0.0 .. 0.0</td><td>0.0</td><td>0.0</td><td>0.0</td><td>0.0</td><td>0.0</td><td>0.0</td><td>0.0</td><td>0.0</td><td>1396161140556817408</td><td>G2</td><td>17.814747</td><td>835.43176</td><td>18.19734</td><td>76.13363</td><td>17.271442</td><td>104.07021</td><td>0.0</td><td>0.17568925</td><td>False</td><td>0.0</td><td>True</td><td>0.36045358</td><td>89.10332</td><td>-2.7574723</td><td>34.805477</td><td>-7.571067</td><td>22.70818</td><td>G</td><td>2305843019615568335</td><td>0.38306457456318443</td><td>575</td><td>100008</td><td>9</td><td>9920</td><td>0</td><td>0</td><td>0</td><td>0</td><td>0</td><td>0</td><td>0</td><td>0</td><td>0</td><td>0</td><td>2305843009213693952</td><td>0</td><td>2305843052163366912</td><td>0</td><td>0</td><td>0</td><td>0</td><td>sv3</td><td>backup</td><td>596</td></tr>\n",
       "<tr><td>-1</td><td>553501</td><td>--</td><td>-1</td><td>GPSF</td><td>235.9665860077785</td><td>1e+16</td><td>42.32923070011565</td><td>1e+16</td><td>0.0 .. 0.0</td><td>0.026418021</td><td>-99.0</td><td>-99.0</td><td>-99.0</td><td>-99.0</td><td>-99.0</td><td>-99.0</td><td>0.0</td><td>0.0</td><td>0.0</td><td>0.0</td><td>0.0</td><td>0.0</td><td>0.0</td><td>0.0</td><td>0.0</td><td>0.0</td><td>0.0</td><td>0.0</td><td>0</td><td>0</td><td>0</td><td>0.0</td><td>0.0</td><td>0.0</td><td>0.0</td><td>0.0</td><td>0.0</td><td>0.0</td><td>0.0</td><td>0.0</td><td>0.0</td><td>0.0</td><td>0.0</td><td>0.0</td><td>0.0</td><td>0.0</td><td>0.0</td><td>0.0</td><td>0.0</td><td>0</td><td>0</td><td>0</td><td>0.0</td><td>0.0</td><td>0.0</td><td>0.0</td><td>0.0</td><td>0.0</td><td>2015.5</td><td>0</td><td>0</td><td>0</td><td>0.0 .. 0.0</td><td>0.0 .. 0.0</td><td>0.0 .. 0.0</td><td>0.0 .. 0.0</td><td>0 .. 0</td><td>0 .. 0</td><td>0.0 .. 0.0</td><td>0.0 .. 0.0</td><td>0.0</td><td>0.0</td><td>0.0</td><td>0.0</td><td>0.0</td><td>0.0</td><td>0.0</td><td>0.0</td><td>1396187765058086656</td><td>G2</td><td>17.022161</td><td>1409.584</td><td>17.41631</td><td>161.53369</td><td>16.460611</td><td>224.75218</td><td>0.0</td><td>0.0</td><td>False</td><td>0.0</td><td>True</td><td>0.5633216</td><td>263.44147</td><td>-17.023817</td><td>99.52036</td><td>-5.7294316</td><td>65.3659</td><td>G</td><td>2305843019615568339</td><td>0.3084954414689095</td><td>568</td><td>100008</td><td>9</td><td>9920</td><td>0</td><td>0</td><td>0</td><td>0</td><td>0</td><td>0</td><td>0</td><td>0</td><td>0</td><td>0</td><td>2305843009213693952</td><td>0</td><td>2305843009213693952</td><td>0</td><td>0</td><td>0</td><td>0</td><td>sv3</td><td>backup</td><td>596</td></tr>\n",
       "<tr><td>-1</td><td>554568</td><td>--</td><td>-1</td><td>GPSF</td><td>236.20622278048003</td><td>1e+16</td><td>42.459126227731986</td><td>1e+16</td><td>0.0 .. 0.0</td><td>0.026324082</td><td>-99.0</td><td>-99.0</td><td>-99.0</td><td>-99.0</td><td>-99.0</td><td>-99.0</td><td>0.0</td><td>0.0</td><td>0.0</td><td>0.0</td><td>0.0</td><td>0.0</td><td>0.0</td><td>0.0</td><td>0.0</td><td>0.0</td><td>0.0</td><td>0.0</td><td>0</td><td>0</td><td>0</td><td>0.0</td><td>0.0</td><td>0.0</td><td>0.0</td><td>0.0</td><td>0.0</td><td>0.0</td><td>0.0</td><td>0.0</td><td>0.0</td><td>0.0</td><td>0.0</td><td>0.0</td><td>0.0</td><td>0.0</td><td>0.0</td><td>0.0</td><td>0.0</td><td>0</td><td>0</td><td>0</td><td>0.0</td><td>0.0</td><td>0.0</td><td>0.0</td><td>0.0</td><td>0.0</td><td>2015.5</td><td>0</td><td>0</td><td>0</td><td>0.0 .. 0.0</td><td>0.0 .. 0.0</td><td>0.0 .. 0.0</td><td>0.0 .. 0.0</td><td>0 .. 0</td><td>0 .. 0</td><td>0.0 .. 0.0</td><td>0.0 .. 0.0</td><td>0.0</td><td>0.0</td><td>0.0</td><td>0.0</td><td>0.0</td><td>0.0</td><td>0.0</td><td>0.0</td><td>1396195358560365184</td><td>G2</td><td>18.191269</td><td>657.9352</td><td>18.630753</td><td>65.8203</td><td>17.584852</td><td>106.43665</td><td>0.0</td><td>0.0</td><td>False</td><td>0.0</td><td>True</td><td>-0.09146542</td><td>59.54275</td><td>-3.91481</td><td>23.067118</td><td>-0.73667806</td><td>14.954942</td><td>G</td><td>2305843019615568343</td><td>0.12715300952351893</td><td>568</td><td>100007</td><td>9</td><td>9920</td><td>0</td><td>0</td><td>0</td><td>0</td><td>0</td><td>0</td><td>0</td><td>0</td><td>0</td><td>0</td><td>2305843009213693952</td><td>0</td><td>4611686018427387904</td><td>0</td><td>0</td><td>0</td><td>0</td><td>sv3</td><td>backup</td><td>596</td></tr>\n",
       "<tr><td>-1</td><td>555631</td><td>--</td><td>-1</td><td>GPSF</td><td>237.03820852951006</td><td>1e+16</td><td>42.626323153528084</td><td>1e+16</td><td>0.0 .. 0.0</td><td>0.02737223</td><td>-99.0</td><td>-99.0</td><td>-99.0</td><td>-99.0</td><td>-99.0</td><td>-99.0</td><td>0.0</td><td>0.0</td><td>0.0</td><td>0.0</td><td>0.0</td><td>0.0</td><td>0.0</td><td>0.0</td><td>0.0</td><td>0.0</td><td>0.0</td><td>0.0</td><td>0</td><td>0</td><td>0</td><td>0.0</td><td>0.0</td><td>0.0</td><td>0.0</td><td>0.0</td><td>0.0</td><td>0.0</td><td>0.0</td><td>0.0</td><td>0.0</td><td>0.0</td><td>0.0</td><td>0.0</td><td>0.0</td><td>0.0</td><td>0.0</td><td>0.0</td><td>0.0</td><td>0</td><td>0</td><td>0</td><td>0.0</td><td>0.0</td><td>0.0</td><td>0.0</td><td>0.0</td><td>0.0</td><td>2015.5</td><td>0</td><td>0</td><td>0</td><td>0.0 .. 0.0</td><td>0.0 .. 0.0</td><td>0.0 .. 0.0</td><td>0.0 .. 0.0</td><td>0 .. 0</td><td>0 .. 0</td><td>0.0 .. 0.0</td><td>0.0 .. 0.0</td><td>0.0</td><td>0.0</td><td>0.0</td><td>0.0</td><td>0.0</td><td>0.0</td><td>0.0</td><td>0.0</td><td>1396163408299549056</td><td>G2</td><td>16.157469</td><td>930.999</td><td>16.724</td><td>148.41844</td><td>15.262905</td><td>113.258224</td><td>0.0</td><td>0.40073454</td><td>False</td><td>0.0</td><td>True</td><td>0.9849997</td><td>221.08466</td><td>6.278347</td><td>102.04597</td><td>-21.411383</td><td>65.42217</td><td>G</td><td>2305843019615568345</td><td>0.0315754702298493</td><td>568</td><td>100008</td><td>9</td><td>9920</td><td>0</td><td>0</td><td>0</td><td>0</td><td>0</td><td>0</td><td>0</td><td>0</td><td>0</td><td>0</td><td>2305843009213693952</td><td>0</td><td>2305843009213693952</td><td>0</td><td>0</td><td>0</td><td>0</td><td>sv3</td><td>backup</td><td>596</td></tr>\n",
       "<tr><td>-1</td><td>553503</td><td>--</td><td>-1</td><td>GPSF</td><td>236.52683447147018</td><td>1e+16</td><td>42.18525332352764</td><td>1e+16</td><td>0.0 .. 0.0</td><td>0.030378425</td><td>-99.0</td><td>-99.0</td><td>-99.0</td><td>-99.0</td><td>-99.0</td><td>-99.0</td><td>0.0</td><td>0.0</td><td>0.0</td><td>0.0</td><td>0.0</td><td>0.0</td><td>0.0</td><td>0.0</td><td>0.0</td><td>0.0</td><td>0.0</td><td>0.0</td><td>0</td><td>0</td><td>0</td><td>0.0</td><td>0.0</td><td>0.0</td><td>0.0</td><td>0.0</td><td>0.0</td><td>0.0</td><td>0.0</td><td>0.0</td><td>0.0</td><td>0.0</td><td>0.0</td><td>0.0</td><td>0.0</td><td>0.0</td><td>0.0</td><td>0.0</td><td>0.0</td><td>0</td><td>0</td><td>0</td><td>0.0</td><td>0.0</td><td>0.0</td><td>0.0</td><td>0.0</td><td>0.0</td><td>2015.5</td><td>0</td><td>0</td><td>0</td><td>0.0 .. 0.0</td><td>0.0 .. 0.0</td><td>0.0 .. 0.0</td><td>0.0 .. 0.0</td><td>0 .. 0</td><td>0 .. 0</td><td>0.0 .. 0.0</td><td>0.0 .. 0.0</td><td>0.0</td><td>0.0</td><td>0.0</td><td>0.0</td><td>0.0</td><td>0.0</td><td>0.0</td><td>0.0</td><td>1396126780818366848</td><td>G2</td><td>16.365677</td><td>1564.7512</td><td>16.612387</td><td>239.35455</td><td>15.949162</td><td>334.79446</td><td>0.0</td><td>0.0</td><td>False</td><td>0.0</td><td>True</td><td>0.24539743</td><td>432.06558</td><td>-5.8031144</td><td>153.06937</td><td>4.8271236</td><td>70.12383</td><td>G</td><td>2305843019615568359</td><td>0.7792831894276588</td><td>575</td><td>100008</td><td>9</td><td>9920</td><td>0</td><td>0</td><td>0</td><td>0</td><td>0</td><td>0</td><td>0</td><td>0</td><td>0</td><td>0</td><td>2305843009213693952</td><td>0</td><td>2305843052163366912</td><td>0</td><td>0</td><td>0</td><td>0</td><td>sv3</td><td>backup</td><td>596</td></tr>\n",
       "<tr><td>-1</td><td>554570</td><td>--</td><td>-1</td><td>GPSF</td><td>236.96803135152717</td><td>1e+16</td><td>42.53631861787734</td><td>1e+16</td><td>0.0 .. 0.0</td><td>0.024946284</td><td>-99.0</td><td>-99.0</td><td>-99.0</td><td>-99.0</td><td>-99.0</td><td>-99.0</td><td>0.0</td><td>0.0</td><td>0.0</td><td>0.0</td><td>0.0</td><td>0.0</td><td>0.0</td><td>0.0</td><td>0.0</td><td>0.0</td><td>0.0</td><td>0.0</td><td>0</td><td>0</td><td>0</td><td>0.0</td><td>0.0</td><td>0.0</td><td>0.0</td><td>0.0</td><td>0.0</td><td>0.0</td><td>0.0</td><td>0.0</td><td>0.0</td><td>0.0</td><td>0.0</td><td>0.0</td><td>0.0</td><td>0.0</td><td>0.0</td><td>0.0</td><td>0.0</td><td>0</td><td>0</td><td>0</td><td>0.0</td><td>0.0</td><td>0.0</td><td>0.0</td><td>0.0</td><td>0.0</td><td>2015.5</td><td>0</td><td>0</td><td>0</td><td>0.0 .. 0.0</td><td>0.0 .. 0.0</td><td>0.0 .. 0.0</td><td>0.0 .. 0.0</td><td>0 .. 0</td><td>0 .. 0</td><td>0.0 .. 0.0</td><td>0.0 .. 0.0</td><td>0.0</td><td>0.0</td><td>0.0</td><td>0.0</td><td>0.0</td><td>0.0</td><td>0.0</td><td>0.0</td><td>1396161655952892160</td><td>G2</td><td>17.841158</td><td>484.2259</td><td>17.545444</td><td>74.22797</td><td>18.183792</td><td>73.81754</td><td>0.0</td><td>0.23635687</td><td>False</td><td>0.0</td><td>True</td><td>0.9594255</td><td>86.483154</td><td>-5.709167</td><td>39.972324</td><td>-5.7223315</td><td>19.814535</td><td>G</td><td>2305843019615568365</td><td>0.20076270008149388</td><td>568</td><td>100008</td><td>9</td><td>9920</td><td>0</td><td>0</td><td>0</td><td>0</td><td>0</td><td>0</td><td>0</td><td>0</td><td>0</td><td>0</td><td>2305843009213693952</td><td>0</td><td>2305843009213693952</td><td>0</td><td>0</td><td>0</td><td>0</td><td>sv3</td><td>backup</td><td>596</td></tr>\n",
       "<tr><td>-1</td><td>553502</td><td>--</td><td>-1</td><td>GPSF</td><td>236.5073020066429</td><td>1e+16</td><td>42.204976931262586</td><td>1e+16</td><td>0.0 .. 0.0</td><td>0.030620104</td><td>-99.0</td><td>-99.0</td><td>-99.0</td><td>-99.0</td><td>-99.0</td><td>-99.0</td><td>0.0</td><td>0.0</td><td>0.0</td><td>0.0</td><td>0.0</td><td>0.0</td><td>0.0</td><td>0.0</td><td>0.0</td><td>0.0</td><td>0.0</td><td>0.0</td><td>0</td><td>0</td><td>0</td><td>0.0</td><td>0.0</td><td>0.0</td><td>0.0</td><td>0.0</td><td>0.0</td><td>0.0</td><td>0.0</td><td>0.0</td><td>0.0</td><td>0.0</td><td>0.0</td><td>0.0</td><td>0.0</td><td>0.0</td><td>0.0</td><td>0.0</td><td>0.0</td><td>0</td><td>0</td><td>0</td><td>0.0</td><td>0.0</td><td>0.0</td><td>0.0</td><td>0.0</td><td>0.0</td><td>2015.5</td><td>0</td><td>0</td><td>0</td><td>0.0 .. 0.0</td><td>0.0 .. 0.0</td><td>0.0 .. 0.0</td><td>0.0 .. 0.0</td><td>0 .. 0</td><td>0 .. 0</td><td>0.0 .. 0.0</td><td>0.0 .. 0.0</td><td>0.0</td><td>0.0</td><td>0.0</td><td>0.0</td><td>0.0</td><td>0.0</td><td>0.0</td><td>0.0</td><td>1396129800179379840</td><td>G2</td><td>17.729208</td><td>803.6193</td><td>19.479267</td><td>25.060192</td><td>16.426487</td><td>238.93538</td><td>0.0</td><td>0.49427208</td><td>False</td><td>0.0</td><td>True</td><td>4.7570815</td><td>77.37976</td><td>-34.307343</td><td>34.018272</td><td>29.949991</td><td>13.432367</td><td>G</td><td>2305843019615568385</td><td>0.4900055095850566</td><td>568</td><td>100008</td><td>9</td><td>9920</td><td>0</td><td>0</td><td>0</td><td>0</td><td>0</td><td>0</td><td>0</td><td>0</td><td>0</td><td>0</td><td>2305843009213693952</td><td>0</td><td>2305843009213693952</td><td>0</td><td>0</td><td>0</td><td>0</td><td>sv3</td><td>backup</td><td>596</td></tr>\n",
       "<tr><td>-1</td><td>555631</td><td>--</td><td>-1</td><td>GPSF</td><td>237.00279724110788</td><td>1e+16</td><td>42.81982641662158</td><td>1e+16</td><td>0.0 .. 0.0</td><td>0.022896074</td><td>-99.0</td><td>-99.0</td><td>-99.0</td><td>-99.0</td><td>-99.0</td><td>-99.0</td><td>0.0</td><td>0.0</td><td>0.0</td><td>0.0</td><td>0.0</td><td>0.0</td><td>0.0</td><td>0.0</td><td>0.0</td><td>0.0</td><td>0.0</td><td>0.0</td><td>0</td><td>0</td><td>0</td><td>0.0</td><td>0.0</td><td>0.0</td><td>0.0</td><td>0.0</td><td>0.0</td><td>0.0</td><td>0.0</td><td>0.0</td><td>0.0</td><td>0.0</td><td>0.0</td><td>0.0</td><td>0.0</td><td>0.0</td><td>0.0</td><td>0.0</td><td>0.0</td><td>0</td><td>0</td><td>0</td><td>0.0</td><td>0.0</td><td>0.0</td><td>0.0</td><td>0.0</td><td>0.0</td><td>2015.5</td><td>0</td><td>0</td><td>0</td><td>0.0 .. 0.0</td><td>0.0 .. 0.0</td><td>0.0 .. 0.0</td><td>0.0 .. 0.0</td><td>0 .. 0</td><td>0 .. 0</td><td>0.0 .. 0.0</td><td>0.0 .. 0.0</td><td>0.0</td><td>0.0</td><td>0.0</td><td>0.0</td><td>0.0</td><td>0.0</td><td>0.0</td><td>0.0</td><td>1396180382010310144</td><td>G2</td><td>17.931736</td><td>630.69434</td><td>18.9413</td><td>58.47637</td><td>16.909657</td><td>170.3355</td><td>0.0</td><td>0.08778695</td><td>False</td><td>0.0</td><td>True</td><td>1.1246231</td><td>67.52707</td><td>5.478195</td><td>22.390413</td><td>-3.6694818</td><td>15.520243</td><td>G</td><td>2305843019615568393</td><td>0.1695819610423288</td><td>568</td><td>100008</td><td>9</td><td>9920</td><td>0</td><td>0</td><td>0</td><td>0</td><td>0</td><td>0</td><td>0</td><td>0</td><td>0</td><td>0</td><td>2305843009213693952</td><td>0</td><td>2305843009213693952</td><td>0</td><td>0</td><td>0</td><td>0</td><td>sv3</td><td>backup</td><td>596</td></tr>\n",
       "<tr><td>-1</td><td>554568</td><td>--</td><td>-1</td><td>GPSF</td><td>236.22541088477325</td><td>1e+16</td><td>42.57369154077543</td><td>1e+16</td><td>0.0 .. 0.0</td><td>0.027542299</td><td>-99.0</td><td>-99.0</td><td>-99.0</td><td>-99.0</td><td>-99.0</td><td>-99.0</td><td>0.0</td><td>0.0</td><td>0.0</td><td>0.0</td><td>0.0</td><td>0.0</td><td>0.0</td><td>0.0</td><td>0.0</td><td>0.0</td><td>0.0</td><td>0.0</td><td>0</td><td>0</td><td>0</td><td>0.0</td><td>0.0</td><td>0.0</td><td>0.0</td><td>0.0</td><td>0.0</td><td>0.0</td><td>0.0</td><td>0.0</td><td>0.0</td><td>0.0</td><td>0.0</td><td>0.0</td><td>0.0</td><td>0.0</td><td>0.0</td><td>0.0</td><td>0.0</td><td>0</td><td>0</td><td>0</td><td>0.0</td><td>0.0</td><td>0.0</td><td>0.0</td><td>0.0</td><td>0.0</td><td>2015.5</td><td>0</td><td>0</td><td>0</td><td>0.0 .. 0.0</td><td>0.0 .. 0.0</td><td>0.0 .. 0.0</td><td>0.0 .. 0.0</td><td>0 .. 0</td><td>0 .. 0</td><td>0.0 .. 0.0</td><td>0.0 .. 0.0</td><td>0.0</td><td>0.0</td><td>0.0</td><td>0.0</td><td>0.0</td><td>0.0</td><td>0.0</td><td>0.0</td><td>1396197076547378688</td><td>G2</td><td>18.9276</td><td>341.2402</td><td>19.160564</td><td>29.531141</td><td>18.406776</td><td>43.247147</td><td>0.0</td><td>0.0</td><td>False</td><td>0.0</td><td>True</td><td>0.16548993</td><td>24.818336</td><td>-2.7700906</td><td>9.847646</td><td>-3.7023318</td><td>6.278694</td><td>G</td><td>2305843019615568407</td><td>0.03164354413594894</td><td>571</td><td>100007</td><td>9</td><td>9920</td><td>0</td><td>0</td><td>0</td><td>0</td><td>0</td><td>0</td><td>0</td><td>0</td><td>0</td><td>0</td><td>2305843009213693952</td><td>0</td><td>4611686027017322496</td><td>0</td><td>0</td><td>0</td><td>0</td><td>sv3</td><td>backup</td><td>596</td></tr>\n",
       "<tr><td>-1</td><td>555631</td><td>--</td><td>-1</td><td>GPSF</td><td>237.01942441256827</td><td>1e+16</td><td>42.693977204647034</td><td>1e+16</td><td>0.0 .. 0.0</td><td>0.025198705</td><td>-99.0</td><td>-99.0</td><td>-99.0</td><td>-99.0</td><td>-99.0</td><td>-99.0</td><td>0.0</td><td>0.0</td><td>0.0</td><td>0.0</td><td>0.0</td><td>0.0</td><td>0.0</td><td>0.0</td><td>0.0</td><td>0.0</td><td>0.0</td><td>0.0</td><td>0</td><td>0</td><td>0</td><td>0.0</td><td>0.0</td><td>0.0</td><td>0.0</td><td>0.0</td><td>0.0</td><td>0.0</td><td>0.0</td><td>0.0</td><td>0.0</td><td>0.0</td><td>0.0</td><td>0.0</td><td>0.0</td><td>0.0</td><td>0.0</td><td>0.0</td><td>0.0</td><td>0</td><td>0</td><td>0</td><td>0.0</td><td>0.0</td><td>0.0</td><td>0.0</td><td>0.0</td><td>0.0</td><td>2015.5</td><td>0</td><td>0</td><td>0</td><td>0.0 .. 0.0</td><td>0.0 .. 0.0</td><td>0.0 .. 0.0</td><td>0.0 .. 0.0</td><td>0 .. 0</td><td>0 .. 0</td><td>0.0 .. 0.0</td><td>0.0 .. 0.0</td><td>0.0</td><td>0.0</td><td>0.0</td><td>0.0</td><td>0.0</td><td>0.0</td><td>0.0</td><td>0.0</td><td>1396167084791557632</td><td>G2</td><td>17.540485</td><td>80.01586</td><td>17.79855</td><td>23.194014</td><td>17.129549</td><td>30.018547</td><td>0.0</td><td>0.0</td><td>False</td><td>0.0</td><td>True</td><td>-0.047610488</td><td>127.45473</td><td>-1.7238286</td><td>46.809677</td><td>-0.5465444</td><td>24.186043</td><td>G</td><td>2305843019615568428</td><td>0.904286433124009</td><td>568</td><td>100008</td><td>9</td><td>9920</td><td>0</td><td>0</td><td>0</td><td>0</td><td>0</td><td>0</td><td>0</td><td>0</td><td>0</td><td>0</td><td>2305843009213693952</td><td>0</td><td>2305843009213693952</td><td>0</td><td>0</td><td>0</td><td>0</td><td>sv3</td><td>backup</td><td>596</td></tr>\n",
       "<tr><td>-1</td><td>553505</td><td>--</td><td>-1</td><td>GPSF</td><td>237.30993029405744</td><td>1e+16</td><td>42.23009009906489</td><td>1e+16</td><td>0.0 .. 0.0</td><td>0.02235618</td><td>-99.0</td><td>-99.0</td><td>-99.0</td><td>-99.0</td><td>-99.0</td><td>-99.0</td><td>0.0</td><td>0.0</td><td>0.0</td><td>0.0</td><td>0.0</td><td>0.0</td><td>0.0</td><td>0.0</td><td>0.0</td><td>0.0</td><td>0.0</td><td>0.0</td><td>0</td><td>0</td><td>0</td><td>0.0</td><td>0.0</td><td>0.0</td><td>0.0</td><td>0.0</td><td>0.0</td><td>0.0</td><td>0.0</td><td>0.0</td><td>0.0</td><td>0.0</td><td>0.0</td><td>0.0</td><td>0.0</td><td>0.0</td><td>0.0</td><td>0.0</td><td>0.0</td><td>0</td><td>0</td><td>0</td><td>0.0</td><td>0.0</td><td>0.0</td><td>0.0</td><td>0.0</td><td>0.0</td><td>2015.5</td><td>0</td><td>0</td><td>0</td><td>0.0 .. 0.0</td><td>0.0 .. 0.0</td><td>0.0 .. 0.0</td><td>0.0 .. 0.0</td><td>0 .. 0</td><td>0 .. 0</td><td>0.0 .. 0.0</td><td>0.0 .. 0.0</td><td>0.0</td><td>0.0</td><td>0.0</td><td>0.0</td><td>0.0</td><td>0.0</td><td>0.0</td><td>0.0</td><td>1384130726706042368</td><td>G2</td><td>17.44279</td><td>1015.6815</td><td>17.77093</td><td>46.579468</td><td>16.934061</td><td>121.031334</td><td>0.0</td><td>0.0</td><td>False</td><td>0.0</td><td>True</td><td>0.24502864</td><td>153.32556</td><td>-6.8260903</td><td>44.67194</td><td>-1.1807514</td><td>38.367805</td><td>G</td><td>2305843019523295182</td><td>0.4404046188172377</td><td>575</td><td>100008</td><td>9</td><td>9834</td><td>0</td><td>0</td><td>0</td><td>0</td><td>0</td><td>0</td><td>0</td><td>0</td><td>0</td><td>0</td><td>2305843009213693952</td><td>0</td><td>2305843052163366912</td><td>0</td><td>0</td><td>0</td><td>0</td><td>sv3</td><td>backup</td><td>596</td></tr>\n",
       "</table></div>"
      ],
      "text/plain": [
       "<Table length=2786841>\n",
       "RELEASE BRICKID BRICKNAME BRICK_OBJID MORPHTYPE         RA              RA_IVAR      ... SV1_SCND_TARGET SV2_SCND_TARGET SV3_SCND_TARGET SURVEY PROGRAM TILEID\n",
       " int16   int32    bytes8     int32      bytes4       float64            float32      ...      int64           int64           int64      bytes7  bytes6 int32 \n",
       "------- ------- --------- ----------- --------- ------------------ ----------------- ... --------------- --------------- --------------- ------ ------- ------\n",
       "   9010  494512  0237p297        1707       DEV 23.661967677367254     80742950000.0 ...               0               0               0    cmx   other  80615\n",
       "   9010  506890  0225p322        3722       DEV 22.632277706310983     24347576000.0 ...               0               0               0    cmx   other  80615\n",
       "   9010  506890  0225p322        4229       DEV  22.66257758597111    318319130000.0 ...               0               0               0    cmx   other  80615\n",
       "   9010  506890  0225p322        4500       PSF  22.67974580973663 297857260000000.0 ...               0               0               0    cmx   other  80615\n",
       "   9010  506890  0225p322        4504       REX 22.679816233833215      4177981000.0 ...               0               0               0    cmx   other  80615\n",
       "   9010  506890  0225p322        4793       SER 22.694556204972052   6352276000000.0 ...               0               0               0    cmx   other  80615\n",
       "   9010  506890  0225p322        4881       PSF  22.69940896126624    761223600000.0 ...               0               0               0    cmx   other  80615\n",
       "   9010  506890  0225p322        5072       REX 22.710860256045333      3158966000.0 ...               0               0               0    cmx   other  80615\n",
       "   9010  506890  0225p322        5100       PSF 22.712554166046022      9321843000.0 ...               0               0               0    cmx   other  80615\n",
       "   9010  506891  0228p322         412       PSF 22.742185629311404      3465005600.0 ...               0               0               0    cmx   other  80615\n",
       "   9010  506891  0228p322         604       PSF 22.752669832253666    793411800000.0 ...               0               0               0    cmx   other  80615\n",
       "   9010  506891  0228p322         638       PSF  22.75426285726419     13120317000.0 ...               0               0               0    cmx   other  80615\n",
       "    ...     ...       ...         ...       ...                ...               ... ...             ...             ...             ...    ...     ...    ...\n",
       "     -1  553502        --          -1      GPSF  236.1903224943275             1e+16 ...               0               0               0    sv3  backup    596\n",
       "     -1  555629        --          -1      GPSF  236.2735600423107             1e+16 ...               0               0               0    sv3  backup    596\n",
       "     -1  554570        --          -1      GPSF  236.9193590212107             1e+16 ...               0               0               0    sv3  backup    596\n",
       "     -1  553501        --          -1      GPSF  235.9665860077785             1e+16 ...               0               0               0    sv3  backup    596\n",
       "     -1  554568        --          -1      GPSF 236.20622278048003             1e+16 ...               0               0               0    sv3  backup    596\n",
       "     -1  555631        --          -1      GPSF 237.03820852951006             1e+16 ...               0               0               0    sv3  backup    596\n",
       "     -1  553503        --          -1      GPSF 236.52683447147018             1e+16 ...               0               0               0    sv3  backup    596\n",
       "     -1  554570        --          -1      GPSF 236.96803135152717             1e+16 ...               0               0               0    sv3  backup    596\n",
       "     -1  553502        --          -1      GPSF  236.5073020066429             1e+16 ...               0               0               0    sv3  backup    596\n",
       "     -1  555631        --          -1      GPSF 237.00279724110788             1e+16 ...               0               0               0    sv3  backup    596\n",
       "     -1  554568        --          -1      GPSF 236.22541088477325             1e+16 ...               0               0               0    sv3  backup    596\n",
       "     -1  555631        --          -1      GPSF 237.01942441256827             1e+16 ...               0               0               0    sv3  backup    596\n",
       "     -1  553505        --          -1      GPSF 237.30993029405744             1e+16 ...               0               0               0    sv3  backup    596"
      ]
     },
     "execution_count": 6,
     "metadata": {},
     "output_type": "execute_result"
    }
   ],
   "source": [
    "targetphot"
   ]
  },
  {
   "cell_type": "code",
   "execution_count": 10,
   "id": "ccd7272e-77d7-414d-b0ba-5ab050cf376a",
   "metadata": {},
   "outputs": [],
   "source": [
    "ls_id = (targetphot['RELEASE'].astype(np.int64) << 40) | (targetphot['BRICKID'].astype(np.int64) << 16) | targetphot['BRICK_OBJID'].astype(np.int64)\n",
    "ls_id.name = 'LS_ID'"
   ]
  },
  {
   "cell_type": "code",
   "execution_count": 11,
   "id": "a7d61cdf-2d2a-4035-8a92-11a92364b423",
   "metadata": {},
   "outputs": [
    {
     "data": {
      "text/html": [
       "&lt;Column name=&apos;LS_ID&apos; dtype=&apos;int64&apos; length=2786841&gt;\n",
       "<table>\n",
       "<tr><td>9906632174601899</td></tr>\n",
       "<tr><td>9906632985808522</td></tr>\n",
       "<tr><td>9906632985809029</td></tr>\n",
       "<tr><td>9906632985809300</td></tr>\n",
       "<tr><td>9906632985809304</td></tr>\n",
       "<tr><td>9906632985809593</td></tr>\n",
       "<tr><td>9906632985809681</td></tr>\n",
       "<tr><td>9906632985809872</td></tr>\n",
       "<tr><td>9906632985809900</td></tr>\n",
       "<tr><td>9906632985870748</td></tr>\n",
       "<tr><td>9906632985870940</td></tr>\n",
       "<tr><td>9906632985870974</td></tr>\n",
       "<tr><td>9906632985871055</td></tr>\n",
       "<tr><td>9906632985871197</td></tr>\n",
       "<tr><td>9906632985808509</td></tr>\n",
       "<tr><td>...</td></tr>\n",
       "<tr><td>-1</td></tr>\n",
       "<tr><td>-1</td></tr>\n",
       "<tr><td>-1</td></tr>\n",
       "<tr><td>-1</td></tr>\n",
       "<tr><td>-1</td></tr>\n",
       "<tr><td>-1</td></tr>\n",
       "<tr><td>-1</td></tr>\n",
       "<tr><td>-1</td></tr>\n",
       "<tr><td>-1</td></tr>\n",
       "<tr><td>-1</td></tr>\n",
       "<tr><td>-1</td></tr>\n",
       "<tr><td>-1</td></tr>\n",
       "<tr><td>-1</td></tr>\n",
       "<tr><td>-1</td></tr>\n",
       "</table>"
      ],
      "text/plain": [
       "<Column name='LS_ID' dtype='int64' length=2786841>\n",
       "9906632174601899\n",
       "9906632985808522\n",
       "9906632985809029\n",
       "9906632985809300\n",
       "9906632985809304\n",
       "9906632985809593\n",
       "9906632985809681\n",
       "9906632985809872\n",
       "9906632985809900\n",
       "9906632985870748\n",
       "9906632985870940\n",
       "9906632985870974\n",
       "9906632985871055\n",
       "9906632985871197\n",
       "9906632985808509\n",
       "             ...\n",
       "              -1\n",
       "              -1\n",
       "              -1\n",
       "              -1\n",
       "              -1\n",
       "              -1\n",
       "              -1\n",
       "              -1\n",
       "              -1\n",
       "              -1\n",
       "              -1\n",
       "              -1\n",
       "              -1\n",
       "              -1"
      ]
     },
     "execution_count": 11,
     "metadata": {},
     "output_type": "execute_result"
    }
   ],
   "source": [
    "ls_id"
   ]
  },
  {
   "cell_type": "code",
   "execution_count": 13,
   "id": "0bd9fa46-8a9f-4c51-8dfc-286375ec9de0",
   "metadata": {},
   "outputs": [],
   "source": [
    "unique_targetid = np.unique(targetphot['TARGETID'])\n",
    "unique_targetid.name = 'UNIQUE_TARGETID'"
   ]
  },
  {
   "cell_type": "code",
   "execution_count": 39,
   "id": "beb14326-f7e2-496d-96ff-48caaecdde7a",
   "metadata": {},
   "outputs": [],
   "source": [
    "for t in unique_targetid[:200]:\n",
    "    rows = targetphot[targetphot['TARGETID'] == t]\n",
    "    if len(rows) > 1:\n",
    "        for c in ('RELEASE', 'BRICKID', 'BRICKNAME', 'BRICK_OBJID', 'MORPHTYPE',\n",
    "                  'RA', 'RA_IVAR', 'DEC', 'DEC_IVAR',\n",
    "                  'DCHISQ',\n",
    "                  'EBV',\n",
    "                  'FLUX_G', 'FLUX_R', 'FLUX_Z',\n",
    "                  'FLUX_IVAR_G', 'FLUX_IVAR_R', 'FLUX_IVAR_Z',\n",
    "                  'MW_TRANSMISSION_G', 'MW_TRANSMISSION_R', 'MW_TRANSMISSION_Z',\n",
    "                  'FRACFLUX_G', 'FRACFLUX_R', 'FRACFLUX_Z',\n",
    "                  'FRACMASKED_G', 'FRACMASKED_R', 'FRACMASKED_Z',\n",
    "                  'FRACIN_G', 'FRACIN_R', 'FRACIN_Z',\n",
    "                  'NOBS_G', 'NOBS_R', 'NOBS_Z',\n",
    "                  'PSFDEPTH_G', 'PSFDEPTH_R', 'PSFDEPTH_Z',\n",
    "                  'GALDEPTH_G', 'GALDEPTH_R', 'GALDEPTH_Z',\n",
    "                  'FLUX_W1', 'FLUX_W2', 'FLUX_W3', 'FLUX_W4',\n",
    "                  'FLUX_IVAR_W1', 'FLUX_IVAR_W2', 'FLUX_IVAR_W3', 'FLUX_IVAR_W4',\n",
    "                  'MW_TRANSMISSION_W1', 'MW_TRANSMISSION_W2', 'MW_TRANSMISSION_W3', 'MW_TRANSMISSION_W4',\n",
    "                  'ALLMASK_G', 'ALLMASK_R', 'ALLMASK_Z',\n",
    "                  'FIBERFLUX_G', 'FIBERFLUX_R', 'FIBERFLUX_Z',\n",
    "                  'FIBERTOTFLUX_G', 'FIBERTOTFLUX_R', 'FIBERTOTFLUX_Z',\n",
    "                  'REF_EPOCH',\n",
    "                  'WISEMASK_W1', 'WISEMASK_W2',\n",
    "                  'MASKBITS',\n",
    "                  'LC_FLUX_W1', 'LC_FLUX_W2', 'LC_FLUX_IVAR_W1', 'LC_FLUX_IVAR_W2',\n",
    "                  'LC_NOBS_W1', 'LC_NOBS_W1', 'LC_MJD_W1', 'LC_MJD_W2',\n",
    "                  'SHAPE_R', 'SHAPE_E1', 'SHAPE_E2',\n",
    "                  'SHAPE_R_IVAR', 'SHAPE_E1_IVAR', 'SHAPE_E2_IVAR',\n",
    "                  'SERSIC', 'SERSIC_IVAR',\n",
    "                  'REF_ID', 'REF_CAT',\n",
    "                  'GAIA_PHOT_G_MEAN_MAG', 'GAIA_PHOT_G_MEAN_FLUX_OVER_ERROR',\n",
    "                  'GAIA_PHOT_BP_MEAN_MAG', 'GAIA_PHOT_BP_MEAN_FLUX_OVER_ERROR',\n",
    "                  'GAIA_PHOT_RP_MEAN_MAG', 'GAIA_PHOT_RP_MEAN_FLUX_OVER_ERROR',\n",
    "                  'GAIA_PHOT_BP_RP_EXCESS_FACTOR', 'GAIA_ASTROMETRIC_EXCESS_NOISE',\n",
    "                  'GAIA_DUPLICATED_SOURCE', 'GAIA_ASTROMETRIC_SIGMA5D_MAX', 'GAIA_ASTROMETRIC_PARAMS_SOLVED',\n",
    "                  'PARALLAX', 'PARALLAX_IVAR', 'PMRA', 'PMRA_IVAR', 'PMDEC', 'PMDEC_IVAR',\n",
    "                  'PHOTSYS', 'SUBPRIORITY', 'OBSCONDITIONS'):\n",
    "            if isinstance(rows[c], MaskedColumn):\n",
    "                try:\n",
    "                    assert (rows[c].data.data == rows[c].data.data[0]).all()\n",
    "                except:\n",
    "                    print(t, rows[c].data)\n",
    "            else:\n",
    "                try:\n",
    "                    assert (rows[c] == rows[c][0]).all()\n",
    "                except:\n",
    "                    print(t, rows[c])"
   ]
  },
  {
   "cell_type": "code",
   "execution_count": 43,
   "id": "7ec26a0f-9bf5-4bf3-8e2f-a7f941739304",
   "metadata": {},
   "outputs": [
    {
     "name": "stdout",
     "output_type": "stream",
     "text": [
      "6515536691200 TILEID\n",
      "------\n",
      " 80875\n",
      " 80876\n",
      "6521555517440 TILEID\n",
      "------\n",
      " 80889\n",
      " 80890\n",
      "6536638234624 TILEID\n",
      "------\n",
      " 80885\n",
      " 80886\n"
     ]
    }
   ],
   "source": [
    "for t in unique_targetid[:1000]:\n",
    "    rows = targetphot[targetphot['TARGETID'] == t]\n",
    "    if len(rows) > 1:\n",
    "        for c in ('SUBPRIORITY', 'OBSCONDITIONS', 'PRIORITY_INIT', 'NUMOBS_INIT', 'HPXPIXEL',\n",
    "                  'CMX_TARGET', 'DESI_TARGET', 'BGS_TARGET', 'MWS_TARGET',\n",
    "                  'SV1_DESI_TARGET', 'SV1_BGS_TARGET', 'SV1_MWS_TARGET',\n",
    "                  'SV2_DESI_TARGET', 'SV2_BGS_TARGET', 'SV2_MWS_TARGET',\n",
    "                  'SV3_DESI_TARGET', 'SV3_BGS_TARGET', 'SV3_MWS_TARGET',\n",
    "                  'SCND_TARGET', 'SV1_SCND_TARGET', 'SV2_SCND_TARGET', 'SV3_SCND_TARGET',\n",
    "                  'SURVEY', 'PROGRAM', 'TILEID'):\n",
    "            if isinstance(rows[c], MaskedColumn):\n",
    "                try:\n",
    "                    assert (rows[c].data.data == rows[c].data.data[0]).all()\n",
    "                except:\n",
    "                    print(t, rows[c].data)\n",
    "            else:\n",
    "                try:\n",
    "                    assert (rows[c] == rows[c][0]).all()\n",
    "                except:\n",
    "                    print(t, rows[c])"
   ]
  },
  {
   "cell_type": "markdown",
   "id": "000b2c01-ba5b-48e2-8729-29c5f3fbdcec",
   "metadata": {},
   "source": [
    "### Check for uniqueness."
   ]
  },
  {
   "cell_type": "code",
   "execution_count": null,
   "id": "d7f0cf47-0cf3-4e9d-adb3-71724b95d0e9",
   "metadata": {},
   "outputs": [],
   "source": [
    "targetphot_potential_id = [targetphotid(x, y, z) for x, y, z in zip(targetphot_potential['TARGETID'], targetphot_potential['TILEID'], targetphot_potential['SURVEY'])]"
   ]
  },
  {
   "cell_type": "code",
   "execution_count": null,
   "id": "8a160f2a-da66-4443-92c0-860cbf461770",
   "metadata": {},
   "outputs": [],
   "source": [
    "targetphot_id = [targetphotid(x, y, z) for x, y, z in zip(targetphot['TARGETID'], targetphot['TILEID'], targetphot['SURVEY'])]"
   ]
  },
  {
   "cell_type": "code",
   "execution_count": null,
   "id": "38c56213-8671-4196-9544-1eb78662cd3c",
   "metadata": {},
   "outputs": [],
   "source": [
    "for t in targetphot_id:\n",
    "    assert t in targetphot_potential_id"
   ]
  },
  {
   "cell_type": "code",
   "execution_count": null,
   "id": "2fbb1f33-8509-45a5-ba2c-82ba7789e3f7",
   "metadata": {},
   "outputs": [],
   "source": [
    "for a in all_targetphotid:\n",
    "    assert a in targetphot_id"
   ]
  },
  {
   "cell_type": "markdown",
   "id": "a91250a4-3385-4817-8cbc-44f2895abe7d",
   "metadata": {},
   "source": [
    "### Do ztile files contain extraneous targets?"
   ]
  },
  {
   "cell_type": "code",
   "execution_count": null,
   "id": "7c9f9789-e1a0-446f-96c0-7708ccf55c7a",
   "metadata": {},
   "outputs": [],
   "source": [
    "ztile = Table.read(os.path.join(os.environ['DESI_SPECTRO_REDUX'], specprod, 'zcatalog', 'ztile-special-dark-cumulative.fits'), hdu='ZCATALOG')"
   ]
  },
  {
   "cell_type": "code",
   "execution_count": null,
   "id": "b5c7814b-22d4-451a-880f-ced9cd379334",
   "metadata": {},
   "outputs": [],
   "source": [
    "w = ztile['TARGETID'] > 0"
   ]
  },
  {
   "cell_type": "code",
   "execution_count": null,
   "id": "ba7b5478-cbb6-4621-8074-8b38847c4f45",
   "metadata": {},
   "outputs": [],
   "source": [
    "np.unique(ztile['TILEID'])"
   ]
  },
  {
   "cell_type": "code",
   "execution_count": null,
   "id": "6275cea2-7122-4250-9c98-45d0dee97307",
   "metadata": {},
   "outputs": [],
   "source": [
    "tid = [targetphotid(x, y, 'special') for x, y in zip(ztile['TARGETID'][w], ztile['TILEID'][w])]"
   ]
  },
  {
   "cell_type": "code",
   "execution_count": null,
   "id": "172f3812-c26c-42af-9877-a5968569e963",
   "metadata": {},
   "outputs": [],
   "source": [
    "(158457821078535886096914448642 >> 64) & (2**32 - 1)"
   ]
  },
  {
   "cell_type": "code",
   "execution_count": null,
   "id": "295a16f2-9e2c-47ec-9842-50af07fa8559",
   "metadata": {},
   "outputs": [],
   "source": [
    "(158457821078535886096914448642 >> 64) >> 32"
   ]
  },
  {
   "cell_type": "code",
   "execution_count": null,
   "id": "9a7cda0c-b80a-41ef-af3e-2dcf16f85512",
   "metadata": {},
   "outputs": [],
   "source": [
    "(158457821078535886096914448642) & (2**64 - 1)"
   ]
  },
  {
   "cell_type": "code",
   "execution_count": null,
   "id": "76550142-089d-4b31-8701-96a5db4f3d30",
   "metadata": {},
   "outputs": [],
   "source": [
    "ztile[ztile['TARGETID'] == 616088991480938754]"
   ]
  },
  {
   "cell_type": "code",
   "execution_count": null,
   "id": "6e62b331-a767-4798-a1b3-f20f083cfffe",
   "metadata": {},
   "outputs": [],
   "source": [
    "targetphot[targetphot['TARGETID'] == 616088991480938754]"
   ]
  },
  {
   "cell_type": "code",
   "execution_count": null,
   "id": "853c9acd-f59a-4c9e-96a0-293e0625c2c5",
   "metadata": {},
   "outputs": [],
   "source": [
    "targetphot_potential[targetphot_potential['TARGETID'] == 616088991480938754]"
   ]
  },
  {
   "cell_type": "code",
   "execution_count": null,
   "id": "ba61fadf-d3f1-482b-93b0-625781e5f8a4",
   "metadata": {},
   "outputs": [],
   "source": [
    "targetphot[targetphot['TILEID'] == 81101]"
   ]
  },
  {
   "cell_type": "markdown",
   "id": "c9add988-dfff-42fd-aa7f-c76ed271aa8f",
   "metadata": {},
   "source": [
    "### Test load targetphot files."
   ]
  },
  {
   "cell_type": "code",
   "execution_count": null,
   "id": "8f84400f-1b52-46fb-8d94-6de4ec925083",
   "metadata": {},
   "outputs": [],
   "source": [
    "os.environ['DESI_LOGLEVEL'] = 'DEBUG'\n",
    "dsr.log = get_logger()\n",
    "postgresql = dsr.setup_db(schema=specprod+'_target', overwrite=overwrite, hostname='nerscdb03.nersc.gov', verbose=True)"
   ]
  },
  {
   "cell_type": "code",
   "execution_count": null,
   "id": "52a969ba-08b9-4263-974a-c3a9c347f3df",
   "metadata": {},
   "outputs": [],
   "source": [
    "loader = [{'filepaths': [os.path.join('/global/cscratch1/sd/ioannis/photocatalog', os.environ['SPECPROD'], 'targetphot-{specprod}.fits'.format(specprod=os.environ['SPECPROD'])),\n",
    "                         os.path.join('/global/cscratch1/sd/ioannis/photocatalog', os.environ['SPECPROD'], 'targetphot-potential-targets-{specprod}.fits'.format(specprod=os.environ['SPECPROD'])),\n",
    "                         os.path.join('/global/cscratch1/sd/ioannis/photocatalog', os.environ['SPECPROD'], 'targetphot-missing-{specprod}.fits'.format(specprod=os.environ['SPECPROD']))],\n",
    "           'tcls': dsr.Target,\n",
    "           'hdu': 'TARGETPHOT',\n",
    "           'expand': {'DCHISQ': ('dchisq_psf', 'dchisq_rex', 'dchisq_dev', 'dchisq_exp', 'dchisq_ser',)},\n",
    "           'q3c': 'ra',\n",
    "           'chunksize': 100000,\n",
    "           'maxrows': 0\n",
    "           },]\n"
   ]
  },
  {
   "cell_type": "code",
   "execution_count": null,
   "id": "052fcea4-b3d1-4b7e-bfd3-d1b83c373545",
   "metadata": {},
   "outputs": [],
   "source": [
    "dsr.load_file(**(loader[0]))"
   ]
  },
  {
   "cell_type": "markdown",
   "id": "efa8d4e9-e175-4c3a-8565-1b0666fbb00f",
   "metadata": {},
   "source": [
    "## Consistency checks on exposures, frames and tiles\n",
    "\n",
    "### Load two versions of tiles file"
   ]
  },
  {
   "cell_type": "code",
   "execution_count": null,
   "id": "2e830b1d-5977-4bca-a9a0-6abdbd67e455",
   "metadata": {},
   "outputs": [],
   "source": [
    "tiles_fits = Table.read(os.path.join(os.environ['DESI_SPECTRO_REDUX'], specprod, f'tiles-{specprod}.fits'), hdu='TILE_COMPLETENESS')"
   ]
  },
  {
   "cell_type": "code",
   "execution_count": null,
   "id": "12acbace-7abc-4c5c-812e-457c51a1b425",
   "metadata": {},
   "outputs": [],
   "source": [
    "tiles_fits"
   ]
  },
  {
   "cell_type": "code",
   "execution_count": null,
   "id": "343d4c9b-c526-41ac-bcd0-e9ae7d45b843",
   "metadata": {},
   "outputs": [],
   "source": [
    "tiles_csv = Table.read(os.path.join(os.environ['DESI_SPECTRO_REDUX'], specprod, f'tiles-{specprod}.csv'), format='ascii.csv')"
   ]
  },
  {
   "cell_type": "code",
   "execution_count": null,
   "id": "92b98046-936f-47ea-b31b-f359529e5314",
   "metadata": {},
   "outputs": [],
   "source": [
    "tiles_csv"
   ]
  },
  {
   "cell_type": "markdown",
   "id": "f573580f-4f3e-4c3a-805e-260e45475a74",
   "metadata": {},
   "source": [
    "### Are the two tiles files self-consistent?"
   ]
  },
  {
   "cell_type": "code",
   "execution_count": null,
   "id": "f686e391-684c-4eea-bbed-362d483a55cf",
   "metadata": {},
   "outputs": [],
   "source": [
    "for row in range(len(tiles_fits)):\n",
    "    for col in tiles_fits.colnames:\n",
    "        try:\n",
    "            assert tiles_fits[row][col] == tiles_csv[row][col]\n",
    "        except AssertionError:\n",
    "            print(tiles_fits[row]['TILEID'], col, tiles_fits[row][col], tiles_csv[row][col])"
   ]
  },
  {
   "cell_type": "markdown",
   "id": "6a96ab51-8a1f-4999-a963-93271238fdbe",
   "metadata": {},
   "source": [
    "### Load two versions of exposures file"
   ]
  },
  {
   "cell_type": "code",
   "execution_count": null,
   "id": "3e6b75c5-c6c4-437c-b067-aabccbc428b7",
   "metadata": {},
   "outputs": [],
   "source": [
    "exposures_fits = Table.read(os.path.join(os.environ['DESI_SPECTRO_REDUX'], specprod, f'exposures-{specprod}.fits'), hdu='EXPOSURES')\n",
    "frames = Table.read(os.path.join(os.environ['DESI_SPECTRO_REDUX'], specprod, f'exposures-{specprod}.fits'), hdu='FRAMES')"
   ]
  },
  {
   "cell_type": "code",
   "execution_count": null,
   "id": "6755781c-9489-40ee-94ea-84b1d2262f18",
   "metadata": {},
   "outputs": [],
   "source": [
    "exposures_fits"
   ]
  },
  {
   "cell_type": "code",
   "execution_count": null,
   "id": "f5ea1dd7-06b3-459d-9470-63bdaecfd2b8",
   "metadata": {},
   "outputs": [],
   "source": [
    "exposures_csv = Table.read(os.path.join(os.environ['DESI_SPECTRO_REDUX'], specprod, f'exposures-{specprod}.csv'), format='ascii.csv')"
   ]
  },
  {
   "cell_type": "code",
   "execution_count": null,
   "id": "3e64da96-c685-40b0-ac89-d4e43fc8b00c",
   "metadata": {},
   "outputs": [],
   "source": [
    "exposures_csv"
   ]
  },
  {
   "cell_type": "markdown",
   "id": "8fc8ca4d-5819-489c-9516-1483c11feace",
   "metadata": {},
   "source": [
    "### Are the two exposures files self-consistent?"
   ]
  },
  {
   "cell_type": "code",
   "execution_count": null,
   "id": "f27603c5-7863-4988-a3c6-e6989217db23",
   "metadata": {},
   "outputs": [],
   "source": [
    "for row in range(len(exposures_fits)):\n",
    "    for col in exposures_fits.colnames:\n",
    "        try:\n",
    "            assert exposures_fits[row][col] == exposures_csv[row][col]\n",
    "        except AssertionError:\n",
    "            try:\n",
    "                assert np.around(exposures_fits[row][col].astype(float), 1) == exposures_csv[row][col]\n",
    "            except AssertionError:\n",
    "                try:\n",
    "                    assert np.around(exposures_fits[row][col].astype(float), 2) == exposures_csv[row][col]\n",
    "                except AssertionError:\n",
    "                    try:\n",
    "                        assert np.around(exposures_fits[row][col].astype(float), 3) == exposures_csv[row][col]\n",
    "                    except AssertionError:\n",
    "                        print(exposures_fits[row]['TILEID'], col, exposures_fits[row][col], exposures_csv[row][col])"
   ]
  },
  {
   "cell_type": "markdown",
   "id": "a91ba1ab-7b13-4694-b062-0b0a27e36527",
   "metadata": {},
   "source": [
    "### What programs are present?"
   ]
  },
  {
   "cell_type": "code",
   "execution_count": null,
   "id": "74b5f559-6653-4430-8e66-e9547fc412d6",
   "metadata": {},
   "outputs": [],
   "source": [
    "np.unique(faflavor2program(exposures_fits['FAFLAVOR']))"
   ]
  },
  {
   "cell_type": "code",
   "execution_count": null,
   "id": "11a4b3c9-6247-47d0-bf4e-803c01872ed4",
   "metadata": {},
   "outputs": [],
   "source": [
    "np.unique(exposures_fits['PROGRAM'])"
   ]
  },
  {
   "cell_type": "code",
   "execution_count": null,
   "id": "0121a508-0f11-4ba4-8522-0e67cc989df3",
   "metadata": {},
   "outputs": [],
   "source": [
    "np.unique(exposures_fits['GOALTYPE'])"
   ]
  },
  {
   "cell_type": "code",
   "execution_count": null,
   "id": "272e572f-549a-4bc7-935c-7b0bbd2c35e3",
   "metadata": {},
   "outputs": [],
   "source": [
    "np.unique(faflavor2program(tiles_fits['FAFLAVOR']))"
   ]
  },
  {
   "cell_type": "code",
   "execution_count": null,
   "id": "ff11d5ab-6d7c-4492-aa1c-01c16739f918",
   "metadata": {},
   "outputs": [],
   "source": [
    "np.unique(tiles_fits['PROGRAM'])"
   ]
  },
  {
   "cell_type": "code",
   "execution_count": null,
   "id": "76cf758a-1cdf-43c3-bf69-30149cdaf14d",
   "metadata": {},
   "outputs": [],
   "source": [
    "assert (faflavor2program(tiles_fits['FAFLAVOR']) == tiles_fits['PROGRAM']).all"
   ]
  },
  {
   "cell_type": "code",
   "execution_count": null,
   "id": "4f95a003-b240-4b4a-b909-66780a1fd323",
   "metadata": {},
   "outputs": [],
   "source": [
    "program = faflavor2program(exposures_fits['FAFLAVOR'])\n",
    "assert (exposures_fits['PROGRAM'] == program).all()"
   ]
  },
  {
   "cell_type": "code",
   "execution_count": null,
   "id": "8b50131c-661c-40e2-b9fd-4ee92f49cf02",
   "metadata": {},
   "outputs": [],
   "source": [
    "for survey in np.unique(exposures_fits['SURVEY']):\n",
    "    print(f\"'{survey}': \", np.unique(program[exposures_fits['SURVEY'] == survey]).tolist(), ',', sep='')"
   ]
  },
  {
   "cell_type": "markdown",
   "id": "1fe04bdc-88d9-45e1-9e16-a97d179b0c10",
   "metadata": {},
   "source": [
    "### Compare frames to exposures"
   ]
  },
  {
   "cell_type": "code",
   "execution_count": null,
   "id": "83e4b603-fab5-4efe-ba5a-1dabbd3bb986",
   "metadata": {},
   "outputs": [],
   "source": [
    "for expid in frames['EXPID']:\n",
    "    assert expid in exposures_fits['EXPID']"
   ]
  },
  {
   "cell_type": "code",
   "execution_count": null,
   "id": "54804170-12ad-4ca2-b941-b95b397fc960",
   "metadata": {},
   "outputs": [],
   "source": [
    "for k, expid in enumerate(exposures_fits['EXPID']):\n",
    "    assert (frames['NIGHT'][frames['EXPID'] == expid] == exposures_fits[k]['NIGHT']).all()\n",
    "    assert (frames['TILEID'][frames['EXPID'] == expid] == exposures_fits[k]['TILEID']).all()\n",
    "    assert (frames['TILERA'][frames['EXPID'] == expid] == exposures_fits[k]['TILERA']).all()\n",
    "    assert (frames['TILEDEC'][frames['EXPID'] == expid] == exposures_fits[k]['TILEDEC']).all()\n",
    "    assert (frames['AIRMASS'][frames['EXPID'] == expid] == exposures_fits[k]['AIRMASS']).all()\n",
    "    assert (frames['SEEING_ETC'][frames['EXPID'] == expid] == exposures_fits[k]['SEEING_ETC']).all()\n",
    "    try:\n",
    "        assert (frames['EFFTIME_ETC'][frames['EXPID'] == expid] == exposures_fits[k]['EFFTIME_ETC']).all()\n",
    "    except AssertionError:\n",
    "        print('EFFTIME_ETC', expid, exposures_fits[k]['TILEID'], exposures_fits[k]['EFFTIME_ETC'], frames[column][frames['EFFTIME_ETC'] == expid].tolist())\n",
    "    # assert (frames['TSNR2_GPBDARK'][frames['EXPID'] == expid] == exposures_fits[k]['TSNR2_GPBDARK']).all()\n",
    "    # assert (frames['TSNR2_ELG'][frames['EXPID'] == expid] == exposures_fits[k]['TSNR2_ELG']).all()\n",
    "    # assert (frames['TSNR2_GPBBRIGHT'][frames['EXPID'] == expid] == exposures_fits[k]['TSNR2_GPBBRIGHT']).all()\n",
    "    # assert (frames['TSNR2_LYA'][frames['EXPID'] == expid] == exposures_fits[k]['TSNR2_LYA']).all()\n",
    "    # assert (frames['TSNR2_BGS'][frames['EXPID'] == expid] == exposures_fits[k]['TSNR2_BGS']).all()\n",
    "    # assert (frames['TSNR2_GPBBACKUP'][frames['EXPID'] == expid] == exposures_fits[k]['TSNR2_GPBBACKUP']).all()\n",
    "    # assert (frames['TSNR2_QSO'][frames['EXPID'] == expid] == exposures_fits[k]['TSNR2_QSO']).all()\n",
    "    # assert (frames['TSNR2_LRG'][frames['EXPID'] == expid] == exposures_fits[k]['TSNR2_LRG']).all()\n",
    "    assert (frames['SURVEY'][frames['EXPID'] == expid] == exposures_fits[k]['SURVEY']).all()\n",
    "    assert (frames['GOALTYPE'][frames['EXPID'] == expid] == exposures_fits[k]['GOALTYPE']).all()\n",
    "    assert (frames['FAPRGRM'][frames['EXPID'] == expid] == exposures_fits[k]['FAPRGRM']).all()\n",
    "    assert (frames['FAFLAVOR'][frames['EXPID'] == expid] == exposures_fits[k]['FAFLAVOR']).all()\n",
    "    assert (frames['MINTFRAC'][frames['EXPID'] == expid] == exposures_fits[k]['MINTFRAC']).all()\n",
    "    for column in ('MJD', 'EXPTIME', 'GOALTIME'):\n",
    "        if column == 'GOALTIME' and (frames[column][frames['EXPID'] == expid] == 0).all():\n",
    "            print(f\"GOALTIME discrepancy for {expid}.\")\n",
    "        else:\n",
    "            try:\n",
    "                assert (np.around(frames[column][frames['EXPID'] == expid], 2) == np.around(exposures_fits[k][column], 2)).all()\n",
    "            except AssertionError:\n",
    "                try:\n",
    "                    assert (np.around(frames[column][frames['EXPID'] == expid], 3) == np.around(exposures_fits[k][column], 3)).all()\n",
    "                except AssertionError:\n",
    "                    try:\n",
    "                        assert (np.around(frames[column][frames['EXPID'] == expid], 4) == np.around(exposures_fits[k][column], 4)).all()\n",
    "                    except AssertionError:\n",
    "                        pass\n",
    "                        # print(column, expid, exposures_fits[k][column], frames[column][frames['EXPID'] == expid].tolist())"
   ]
  },
  {
   "cell_type": "markdown",
   "id": "b92b7ec3-bc0e-4877-aea5-d39c20c61cb8",
   "metadata": {},
   "source": [
    "### Compare tiles to exposures"
   ]
  },
  {
   "cell_type": "code",
   "execution_count": null,
   "id": "d6ae2ed6-597f-43e1-886b-109d632edbc4",
   "metadata": {},
   "outputs": [],
   "source": [
    "for row in tiles_fits:\n",
    "    w = exposures_fits['TILEID'] == row['TILEID']\n",
    "    assert len(exposures_fits[w]) == row['NEXP']\n",
    "    for column in ('SURVEY', 'FAPRGRM', 'FAFLAVOR', 'GOALTYPE'):\n",
    "        try:\n",
    "            assert (exposures_fits[w][column] == row[column]).all()\n",
    "        except AssertionError:\n",
    "            print(row['TILEID'], row[column])\n",
    "            print(exposures_fits[w][column])\n",
    "    for column in ('TILERA', 'TILEDEC'):\n",
    "        try:\n",
    "            assert (np.around(exposures_fits[w][column], 2) == row[column]).all()\n",
    "        except AssertionError:\n",
    "            try:\n",
    "                assert (np.around(exposures_fits[w][column], 3) == row[column]).all()\n",
    "            except AssertionError:\n",
    "                assert (np.around(exposures_fits[w][column], 4) == row[column]).all()\n",
    "    for column in ('EXPTIME', 'EFFTIME_SPEC', 'LRG_EFFTIME_DARK', 'ELG_EFFTIME_DARK', 'BGS_EFFTIME_BRIGHT', 'LYA_EFFTIME_DARK'):\n",
    "        try:\n",
    "            assert np.allclose(np.around(exposures_fits[w][column].sum(), 1), row[column])\n",
    "        except AssertionError:\n",
    "            print(row['TILEID'], row[column])\n",
    "            print(column, np.around(exposures_fits[w][column].sum(), 1))\n",
    "    for column in ('EFFTIME_ETC', 'EFFTIME_GFA'):\n",
    "        if (exposures_fits[w][column] == 0).any():\n",
    "            assert row[column] == 0\n",
    "        else:\n",
    "            try:\n",
    "                assert np.allclose(np.around(exposures_fits[w][column].sum(), 1), row[column])\n",
    "            except AssertionError:\n",
    "                print(row['TILEID'], row[column])\n",
    "                print(column, np.around(exposures_fits[w][column].sum(), 1))\n",
    "    for column in ('GOALTIME', 'MINTFRAC'):\n",
    "        try:\n",
    "            assert np.allclose(np.around(exposures_fits[w][column], 1), row[column])\n",
    "        except AssertionError:\n",
    "            try:\n",
    "                assert np.allclose(np.around(exposures_fits[w][column], 2), row[column])\n",
    "            except AssertionError:\n",
    "                print(row['TILEID'], row[column])\n",
    "                print(column, np.round(exposures_fits[w][column], decimals=1))\n",
    "    \n",
    "    assert exposures_fits[w]['NIGHT'].max() == row['LASTNIGHT']"
   ]
  },
  {
   "cell_type": "code",
   "execution_count": null,
   "id": "1d04e4f9-32a4-442b-bd29-7047e1c2a3a3",
   "metadata": {},
   "outputs": [],
   "source": []
  }
 ],
 "metadata": {
  "kernelspec": {
   "display_name": "DESI main",
   "language": "python",
   "name": "desi-main"
  },
  "language_info": {
   "codemirror_mode": {
    "name": "ipython",
    "version": 3
   },
   "file_extension": ".py",
   "mimetype": "text/x-python",
   "name": "python",
   "nbconvert_exporter": "python",
   "pygments_lexer": "ipython3",
   "version": "3.9.13"
  }
 },
 "nbformat": 4,
 "nbformat_minor": 5
}
