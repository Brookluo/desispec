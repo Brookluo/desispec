{
 "cells": [
  {
   "cell_type": "markdown",
   "id": "172352fa-cb01-4562-a27a-7784e31c0ef4",
   "metadata": {},
   "source": [
    "# Test Redshift Database\n",
    "\n",
    "## Imports"
   ]
  },
  {
   "cell_type": "code",
   "execution_count": 1,
   "id": "b086e33a-fe1f-485d-97ae-18adad96dc2f",
   "metadata": {},
   "outputs": [
    {
     "name": "stdout",
     "output_type": "stream",
     "text": [
      "INFO:iers.py:82:freeze_iers: Freezing IERS table used by astropy time, coordinates.\n"
     ]
    }
   ],
   "source": [
    "import os\n",
    "import glob\n",
    "from pytz import utc\n",
    "import numpy as np\n",
    "from astropy.io import fits\n",
    "from astropy.table import Table\n",
    "from astropy.time import Time\n",
    "from desiutil.iers import freeze_iers\n",
    "from desiutil.log import get_logger, DEBUG, INFO\n",
    "from desispec.io.meta import faflavor2program\n",
    "from desispec.io.util import checkgzip\n",
    "import desispec.database.redshift as dsr\n",
    "freeze_iers()"
   ]
  },
  {
   "cell_type": "markdown",
   "id": "a0245ef2-fc2e-458d-bfb2-9a89c8183aab",
   "metadata": {},
   "source": [
    "## Important Setup"
   ]
  },
  {
   "cell_type": "code",
   "execution_count": 2,
   "id": "3187f15b-83c3-42de-a00d-6872b62ebdd5",
   "metadata": {},
   "outputs": [],
   "source": [
    "specprod = os.environ['SPECPROD'] = 'fuji'\n",
    "overwrite = False"
   ]
  },
  {
   "cell_type": "markdown",
   "id": "efa8d4e9-e175-4c3a-8565-1b0666fbb00f",
   "metadata": {},
   "source": [
    "## Consistency checks on exposures, frames and tiles\n",
    "\n",
    "### Load two versions of tiles file"
   ]
  },
  {
   "cell_type": "code",
   "execution_count": 3,
   "id": "2e830b1d-5977-4bca-a9a0-6abdbd67e455",
   "metadata": {},
   "outputs": [],
   "source": [
    "tiles_fits = Table.read(os.path.join(os.environ['DESI_SPECTRO_REDUX'], specprod, f'tiles-{specprod}.fits'), hdu='TILE_COMPLETENESS')"
   ]
  },
  {
   "cell_type": "code",
   "execution_count": 4,
   "id": "12acbace-7abc-4c5c-812e-457c51a1b425",
   "metadata": {},
   "outputs": [
    {
     "data": {
      "text/html": [
       "<div><i>Table length=732</i>\n",
       "<table id=\"table46914629538672\" class=\"table-striped table-bordered table-condensed\">\n",
       "<thead><tr><th>TILEID</th><th>SURVEY</th><th>PROGRAM</th><th>FAPRGRM</th><th>FAFLAVOR</th><th>NEXP</th><th>EXPTIME</th><th>TILERA</th><th>TILEDEC</th><th>EFFTIME_ETC</th><th>EFFTIME_SPEC</th><th>EFFTIME_GFA</th><th>GOALTIME</th><th>OBSSTATUS</th><th>LRG_EFFTIME_DARK</th><th>ELG_EFFTIME_DARK</th><th>BGS_EFFTIME_BRIGHT</th><th>LYA_EFFTIME_DARK</th><th>GOALTYPE</th><th>MINTFRAC</th><th>LASTNIGHT</th></tr></thead>\n",
       "<thead><tr><th>int32</th><th>bytes20</th><th>bytes6</th><th>bytes20</th><th>bytes20</th><th>int64</th><th>float64</th><th>float64</th><th>float64</th><th>float64</th><th>float64</th><th>float64</th><th>float64</th><th>bytes20</th><th>float64</th><th>float64</th><th>float64</th><th>float64</th><th>bytes20</th><th>float64</th><th>int32</th></tr></thead>\n",
       "<tr><td>80615</td><td>cmx</td><td>other</td><td>m33</td><td>cmxm33</td><td>4</td><td>3600.1</td><td>24.027</td><td>31.39</td><td>0.0</td><td>3390.9</td><td>0.0</td><td>1000.0</td><td>obsend</td><td>3361.7</td><td>3390.9</td><td>3320.2</td><td>3878.6</td><td>other</td><td>0.9</td><td>20201216</td></tr>\n",
       "<tr><td>80609</td><td>sv1</td><td>dark</td><td>lrgqso</td><td>cmxlrgqso</td><td>15</td><td>13500.7</td><td>150.12</td><td>2.206</td><td>0.0</td><td>7828.3</td><td>0.0</td><td>4000.0</td><td>obsstart</td><td>7847.0</td><td>7828.3</td><td>8057.3</td><td>10707.3</td><td>dark</td><td>0.9</td><td>20201217</td></tr>\n",
       "<tr><td>80607</td><td>sv1</td><td>dark</td><td>lrgqso</td><td>cmxlrgqso</td><td>15</td><td>13500.8</td><td>106.74</td><td>56.1</td><td>0.0</td><td>9374.2</td><td>0.0</td><td>4000.0</td><td>obsstart</td><td>8794.6</td><td>9374.2</td><td>8553.9</td><td>8541.1</td><td>dark</td><td>0.9</td><td>20201219</td></tr>\n",
       "<tr><td>80606</td><td>sv1</td><td>dark</td><td>elg</td><td>cmxelg</td><td>12</td><td>10800.7</td><td>36.448</td><td>-4.501</td><td>0.0</td><td>6699.4</td><td>0.0</td><td>4000.0</td><td>obsstart</td><td>6555.6</td><td>6699.4</td><td>6583.6</td><td>7397.5</td><td>dark</td><td>0.9</td><td>20201219</td></tr>\n",
       "<tr><td>80620</td><td>sv1</td><td>dark</td><td>lrgqso</td><td>sv1lrgqso</td><td>9</td><td>8100.5</td><td>144.0</td><td>65.0</td><td>0.0</td><td>7128.7</td><td>0.0</td><td>4000.0</td><td>obsstart</td><td>6643.9</td><td>7128.7</td><td>6299.8</td><td>6316.1</td><td>dark</td><td>0.9</td><td>20201221</td></tr>\n",
       "<tr><td>80622</td><td>sv1</td><td>dark</td><td>lrgqso</td><td>sv1lrgqso</td><td>6</td><td>5400.3</td><td>155.0</td><td>32.325</td><td>0.0</td><td>4916.9</td><td>0.0</td><td>4000.0</td><td>obsstart</td><td>4772.1</td><td>4916.9</td><td>4739.8</td><td>6935.4</td><td>dark</td><td>0.9</td><td>20201221</td></tr>\n",
       "<tr><td>80623</td><td>sv1</td><td>dark</td><td>elg</td><td>sv1elg</td><td>8</td><td>7200.4</td><td>155.0</td><td>32.425</td><td>0.0</td><td>4969.7</td><td>0.0</td><td>4000.0</td><td>obsstart</td><td>4903.1</td><td>4969.7</td><td>4916.9</td><td>7266.2</td><td>dark</td><td>0.9</td><td>20201221</td></tr>\n",
       "<tr><td>80611</td><td>sv1</td><td>bright</td><td>bgsmws</td><td>sv1bgsmws</td><td>12</td><td>3600.9</td><td>35.22</td><td>30.3</td><td>0.0</td><td>669.2</td><td>0.0</td><td>600.0</td><td>obsstart</td><td>641.1</td><td>723.7</td><td>669.2</td><td>407.7</td><td>bright</td><td>0.9</td><td>20201222</td></tr>\n",
       "<tr><td>80617</td><td>sv1</td><td>bright</td><td>bgsmws</td><td>sv1bgsmws</td><td>16</td><td>4801.0</td><td>5.0</td><td>28.0</td><td>0.0</td><td>1309.5</td><td>0.0</td><td>600.0</td><td>obsstart</td><td>1251.7</td><td>1369.7</td><td>1309.5</td><td>884.1</td><td>bright</td><td>0.9</td><td>20201223</td></tr>\n",
       "<tr><td>80608</td><td>sv1</td><td>dark</td><td>elg</td><td>cmxelg</td><td>23</td><td>20701.4</td><td>106.74</td><td>56.2</td><td>0.0</td><td>15166.0</td><td>0.0</td><td>4000.0</td><td>obsstart</td><td>14236.7</td><td>15166.0</td><td>13797.6</td><td>14267.9</td><td>dark</td><td>0.9</td><td>20201223</td></tr>\n",
       "<tr><td>...</td><td>...</td><td>...</td><td>...</td><td>...</td><td>...</td><td>...</td><td>...</td><td>...</td><td>...</td><td>...</td><td>...</td><td>...</td><td>...</td><td>...</td><td>...</td><td>...</td><td>...</td><td>...</td><td>...</td><td>...</td></tr>\n",
       "<tr><td>49</td><td>sv3</td><td>bright</td><td>bright</td><td>sv3bright</td><td>1</td><td>1050.9</td><td>179.691</td><td>-0.078</td><td>222.5</td><td>285.3</td><td>283.0</td><td>220.0</td><td>obsend</td><td>280.4</td><td>275.4</td><td>285.3</td><td>175.2</td><td>bright</td><td>0.9</td><td>20210529</td></tr>\n",
       "<tr><td>184</td><td>sv3</td><td>bright</td><td>bright</td><td>sv3bright</td><td>1</td><td>389.1</td><td>215.546</td><td>52.383</td><td>226.9</td><td>250.7</td><td>271.7</td><td>220.0</td><td>obsend</td><td>250.8</td><td>264.9</td><td>250.7</td><td>182.6</td><td>bright</td><td>0.9</td><td>20210529</td></tr>\n",
       "<tr><td>346</td><td>sv3</td><td>bright</td><td>bright</td><td>sv3bright</td><td>1</td><td>1146.0</td><td>241.016</td><td>43.333</td><td>220.6</td><td>341.0</td><td>306.9</td><td>220.0</td><td>obsend</td><td>347.9</td><td>386.0</td><td>341.0</td><td>152.8</td><td>bright</td><td>0.9</td><td>20210529</td></tr>\n",
       "<tr><td>400</td><td>sv3</td><td>bright</td><td>bright</td><td>sv3bright</td><td>1</td><td>939.0</td><td>252.442</td><td>34.39</td><td>223.2</td><td>324.4</td><td>290.9</td><td>220.0</td><td>obsend</td><td>330.7</td><td>368.8</td><td>324.4</td><td>157.6</td><td>bright</td><td>0.9</td><td>20210529</td></tr>\n",
       "<tr><td>265</td><td>sv3</td><td>bright</td><td>bright</td><td>sv3bright</td><td>2</td><td>2180.0</td><td>219.819</td><td>-0.718</td><td>222.2</td><td>347.5</td><td>319.4</td><td>220.0</td><td>obsend</td><td>348.9</td><td>387.2</td><td>347.5</td><td>134.9</td><td>bright</td><td>0.9</td><td>20210529</td></tr>\n",
       "<tr><td>596</td><td>sv3</td><td>backup</td><td>backup</td><td>sv3backup</td><td>1</td><td>142.2</td><td>236.1</td><td>43.57</td><td>68.5</td><td>84.5</td><td>107.8</td><td>30.0</td><td>obsend</td><td>77.8</td><td>82.3</td><td>80.6</td><td>43.6</td><td>backup</td><td>0.9</td><td>20210529</td></tr>\n",
       "<tr><td>402</td><td>sv3</td><td>backup</td><td>backup</td><td>sv3backup</td><td>1</td><td>345.6</td><td>252.362</td><td>34.538</td><td>61.2</td><td>81.6</td><td>79.9</td><td>30.0</td><td>obsend</td><td>98.8</td><td>109.3</td><td>99.5</td><td>34.8</td><td>backup</td><td>0.9</td><td>20210529</td></tr>\n",
       "<tr><td>504</td><td>sv3</td><td>bright</td><td>bright</td><td>sv3bright</td><td>1</td><td>384.3</td><td>194.619</td><td>24.683</td><td>231.5</td><td>268.5</td><td>280.7</td><td>220.0</td><td>obsend</td><td>272.1</td><td>267.1</td><td>268.5</td><td>174.3</td><td>bright</td><td>0.9</td><td>20210529</td></tr>\n",
       "<tr><td>76</td><td>sv3</td><td>bright</td><td>bright</td><td>sv3bright</td><td>1</td><td>761.3</td><td>183.186</td><td>-0.083</td><td>225.2</td><td>283.0</td><td>297.0</td><td>220.0</td><td>obsend</td><td>284.5</td><td>281.2</td><td>283.0</td><td>184.0</td><td>bright</td><td>0.9</td><td>20210529</td></tr>\n",
       "<tr><td>521</td><td>sv3</td><td>dark</td><td>dark</td><td>sv3dark</td><td>1</td><td>1378.7</td><td>212.891</td><td>-0.679</td><td>1211.8</td><td>1227.0</td><td>1196.3</td><td>1200.0</td><td>obsend</td><td>1285.5</td><td>1227.0</td><td>1209.1</td><td>1084.5</td><td>dark</td><td>0.9</td><td>20210610</td></tr>\n",
       "</table></div>"
      ],
      "text/plain": [
       "<Table length=732>\n",
       "TILEID  SURVEY PROGRAM FAPRGRM ... LYA_EFFTIME_DARK GOALTYPE MINTFRAC LASTNIGHT\n",
       "int32  bytes20  bytes6 bytes20 ...     float64      bytes20  float64    int32  \n",
       "------ ------- ------- ------- ... ---------------- -------- -------- ---------\n",
       " 80615     cmx   other     m33 ...           3878.6    other      0.9  20201216\n",
       " 80609     sv1    dark  lrgqso ...          10707.3     dark      0.9  20201217\n",
       " 80607     sv1    dark  lrgqso ...           8541.1     dark      0.9  20201219\n",
       " 80606     sv1    dark     elg ...           7397.5     dark      0.9  20201219\n",
       " 80620     sv1    dark  lrgqso ...           6316.1     dark      0.9  20201221\n",
       " 80622     sv1    dark  lrgqso ...           6935.4     dark      0.9  20201221\n",
       " 80623     sv1    dark     elg ...           7266.2     dark      0.9  20201221\n",
       " 80611     sv1  bright  bgsmws ...            407.7   bright      0.9  20201222\n",
       " 80617     sv1  bright  bgsmws ...            884.1   bright      0.9  20201223\n",
       " 80608     sv1    dark     elg ...          14267.9     dark      0.9  20201223\n",
       "   ...     ...     ...     ... ...              ...      ...      ...       ...\n",
       "    49     sv3  bright  bright ...            175.2   bright      0.9  20210529\n",
       "   184     sv3  bright  bright ...            182.6   bright      0.9  20210529\n",
       "   346     sv3  bright  bright ...            152.8   bright      0.9  20210529\n",
       "   400     sv3  bright  bright ...            157.6   bright      0.9  20210529\n",
       "   265     sv3  bright  bright ...            134.9   bright      0.9  20210529\n",
       "   596     sv3  backup  backup ...             43.6   backup      0.9  20210529\n",
       "   402     sv3  backup  backup ...             34.8   backup      0.9  20210529\n",
       "   504     sv3  bright  bright ...            174.3   bright      0.9  20210529\n",
       "    76     sv3  bright  bright ...            184.0   bright      0.9  20210529\n",
       "   521     sv3    dark    dark ...           1084.5     dark      0.9  20210610"
      ]
     },
     "execution_count": 4,
     "metadata": {},
     "output_type": "execute_result"
    }
   ],
   "source": [
    "tiles_fits"
   ]
  },
  {
   "cell_type": "code",
   "execution_count": 5,
   "id": "343d4c9b-c526-41ac-bcd0-e9ae7d45b843",
   "metadata": {},
   "outputs": [],
   "source": [
    "tiles_csv = Table.read(os.path.join(os.environ['DESI_SPECTRO_REDUX'], specprod, f'tiles-{specprod}.csv'), format='ascii.csv')"
   ]
  },
  {
   "cell_type": "code",
   "execution_count": 6,
   "id": "92b98046-936f-47ea-b31b-f359529e5314",
   "metadata": {},
   "outputs": [
    {
     "data": {
      "text/html": [
       "<div><i>Table length=732</i>\n",
       "<table id=\"table46912705937664\" class=\"table-striped table-bordered table-condensed\">\n",
       "<thead><tr><th>TILEID</th><th>SURVEY</th><th>PROGRAM</th><th>FAPRGRM</th><th>FAFLAVOR</th><th>NEXP</th><th>EXPTIME</th><th>TILERA</th><th>TILEDEC</th><th>EFFTIME_ETC</th><th>EFFTIME_SPEC</th><th>EFFTIME_GFA</th><th>GOALTIME</th><th>OBSSTATUS</th><th>LRG_EFFTIME_DARK</th><th>ELG_EFFTIME_DARK</th><th>BGS_EFFTIME_BRIGHT</th><th>LYA_EFFTIME_DARK</th><th>GOALTYPE</th><th>MINTFRAC</th><th>LASTNIGHT</th></tr></thead>\n",
       "<thead><tr><th>int64</th><th>str7</th><th>str6</th><th>str16</th><th>str19</th><th>int64</th><th>float64</th><th>float64</th><th>float64</th><th>float64</th><th>float64</th><th>float64</th><th>float64</th><th>str8</th><th>float64</th><th>float64</th><th>float64</th><th>float64</th><th>str6</th><th>float64</th><th>int64</th></tr></thead>\n",
       "<tr><td>80615</td><td>cmx</td><td>other</td><td>m33</td><td>cmxm33</td><td>4</td><td>3600.1</td><td>24.027</td><td>31.39</td><td>0.0</td><td>3390.9</td><td>0.0</td><td>1000.0</td><td>obsend</td><td>3361.7</td><td>3390.9</td><td>3320.2</td><td>3878.6</td><td>other</td><td>0.9</td><td>20201216</td></tr>\n",
       "<tr><td>80609</td><td>sv1</td><td>dark</td><td>lrgqso</td><td>cmxlrgqso</td><td>15</td><td>13500.7</td><td>150.12</td><td>2.206</td><td>0.0</td><td>7828.3</td><td>0.0</td><td>4000.0</td><td>obsstart</td><td>7847.0</td><td>7828.3</td><td>8057.3</td><td>10707.3</td><td>dark</td><td>0.9</td><td>20201217</td></tr>\n",
       "<tr><td>80607</td><td>sv1</td><td>dark</td><td>lrgqso</td><td>cmxlrgqso</td><td>15</td><td>13500.8</td><td>106.74</td><td>56.1</td><td>0.0</td><td>9374.2</td><td>0.0</td><td>4000.0</td><td>obsstart</td><td>8794.6</td><td>9374.2</td><td>8553.9</td><td>8541.1</td><td>dark</td><td>0.9</td><td>20201219</td></tr>\n",
       "<tr><td>80606</td><td>sv1</td><td>dark</td><td>elg</td><td>cmxelg</td><td>12</td><td>10800.7</td><td>36.448</td><td>-4.501</td><td>0.0</td><td>6699.4</td><td>0.0</td><td>4000.0</td><td>obsstart</td><td>6555.6</td><td>6699.4</td><td>6583.6</td><td>7397.5</td><td>dark</td><td>0.9</td><td>20201219</td></tr>\n",
       "<tr><td>80620</td><td>sv1</td><td>dark</td><td>lrgqso</td><td>sv1lrgqso</td><td>9</td><td>8100.5</td><td>144.0</td><td>65.0</td><td>0.0</td><td>7128.7</td><td>0.0</td><td>4000.0</td><td>obsstart</td><td>6643.9</td><td>7128.7</td><td>6299.8</td><td>6316.1</td><td>dark</td><td>0.9</td><td>20201221</td></tr>\n",
       "<tr><td>80622</td><td>sv1</td><td>dark</td><td>lrgqso</td><td>sv1lrgqso</td><td>6</td><td>5400.3</td><td>155.0</td><td>32.325</td><td>0.0</td><td>4916.9</td><td>0.0</td><td>4000.0</td><td>obsstart</td><td>4772.1</td><td>4916.9</td><td>4739.8</td><td>6935.4</td><td>dark</td><td>0.9</td><td>20201221</td></tr>\n",
       "<tr><td>80623</td><td>sv1</td><td>dark</td><td>elg</td><td>sv1elg</td><td>8</td><td>7200.4</td><td>155.0</td><td>32.425</td><td>0.0</td><td>4969.7</td><td>0.0</td><td>4000.0</td><td>obsstart</td><td>4903.1</td><td>4969.7</td><td>4916.9</td><td>7266.2</td><td>dark</td><td>0.9</td><td>20201221</td></tr>\n",
       "<tr><td>80611</td><td>sv1</td><td>bright</td><td>bgsmws</td><td>sv1bgsmws</td><td>12</td><td>3600.9</td><td>35.22</td><td>30.3</td><td>0.0</td><td>669.2</td><td>0.0</td><td>600.0</td><td>obsstart</td><td>641.1</td><td>723.7</td><td>669.2</td><td>407.7</td><td>bright</td><td>0.9</td><td>20201222</td></tr>\n",
       "<tr><td>80617</td><td>sv1</td><td>bright</td><td>bgsmws</td><td>sv1bgsmws</td><td>16</td><td>4801.0</td><td>5.0</td><td>28.0</td><td>0.0</td><td>1309.5</td><td>0.0</td><td>600.0</td><td>obsstart</td><td>1251.7</td><td>1369.7</td><td>1309.5</td><td>884.1</td><td>bright</td><td>0.9</td><td>20201223</td></tr>\n",
       "<tr><td>80608</td><td>sv1</td><td>dark</td><td>elg</td><td>cmxelg</td><td>23</td><td>20701.4</td><td>106.74</td><td>56.2</td><td>0.0</td><td>15166.0</td><td>0.0</td><td>4000.0</td><td>obsstart</td><td>14236.7</td><td>15166.0</td><td>13797.6</td><td>14267.9</td><td>dark</td><td>0.9</td><td>20201223</td></tr>\n",
       "<tr><td>...</td><td>...</td><td>...</td><td>...</td><td>...</td><td>...</td><td>...</td><td>...</td><td>...</td><td>...</td><td>...</td><td>...</td><td>...</td><td>...</td><td>...</td><td>...</td><td>...</td><td>...</td><td>...</td><td>...</td><td>...</td></tr>\n",
       "<tr><td>49</td><td>sv3</td><td>bright</td><td>bright</td><td>sv3bright</td><td>1</td><td>1050.9</td><td>179.691</td><td>-0.078</td><td>222.5</td><td>285.3</td><td>283.0</td><td>220.0</td><td>obsend</td><td>280.4</td><td>275.4</td><td>285.3</td><td>175.2</td><td>bright</td><td>0.9</td><td>20210529</td></tr>\n",
       "<tr><td>184</td><td>sv3</td><td>bright</td><td>bright</td><td>sv3bright</td><td>1</td><td>389.1</td><td>215.546</td><td>52.383</td><td>226.9</td><td>250.7</td><td>271.7</td><td>220.0</td><td>obsend</td><td>250.8</td><td>264.9</td><td>250.7</td><td>182.6</td><td>bright</td><td>0.9</td><td>20210529</td></tr>\n",
       "<tr><td>346</td><td>sv3</td><td>bright</td><td>bright</td><td>sv3bright</td><td>1</td><td>1146.0</td><td>241.016</td><td>43.333</td><td>220.6</td><td>341.0</td><td>306.9</td><td>220.0</td><td>obsend</td><td>347.9</td><td>386.0</td><td>341.0</td><td>152.8</td><td>bright</td><td>0.9</td><td>20210529</td></tr>\n",
       "<tr><td>400</td><td>sv3</td><td>bright</td><td>bright</td><td>sv3bright</td><td>1</td><td>939.0</td><td>252.442</td><td>34.39</td><td>223.2</td><td>324.4</td><td>290.9</td><td>220.0</td><td>obsend</td><td>330.7</td><td>368.8</td><td>324.4</td><td>157.6</td><td>bright</td><td>0.9</td><td>20210529</td></tr>\n",
       "<tr><td>265</td><td>sv3</td><td>bright</td><td>bright</td><td>sv3bright</td><td>2</td><td>2180.0</td><td>219.819</td><td>-0.718</td><td>222.2</td><td>347.5</td><td>319.4</td><td>220.0</td><td>obsend</td><td>348.9</td><td>387.2</td><td>347.5</td><td>134.9</td><td>bright</td><td>0.9</td><td>20210529</td></tr>\n",
       "<tr><td>596</td><td>sv3</td><td>backup</td><td>backup</td><td>sv3backup</td><td>1</td><td>142.2</td><td>236.1</td><td>43.57</td><td>68.5</td><td>84.5</td><td>107.8</td><td>30.0</td><td>obsend</td><td>77.8</td><td>82.3</td><td>80.6</td><td>43.6</td><td>backup</td><td>0.9</td><td>20210529</td></tr>\n",
       "<tr><td>402</td><td>sv3</td><td>backup</td><td>backup</td><td>sv3backup</td><td>1</td><td>345.6</td><td>252.362</td><td>34.538</td><td>61.2</td><td>81.6</td><td>79.9</td><td>30.0</td><td>obsend</td><td>98.8</td><td>109.3</td><td>99.5</td><td>34.8</td><td>backup</td><td>0.9</td><td>20210529</td></tr>\n",
       "<tr><td>504</td><td>sv3</td><td>bright</td><td>bright</td><td>sv3bright</td><td>1</td><td>384.3</td><td>194.619</td><td>24.683</td><td>231.5</td><td>268.5</td><td>280.7</td><td>220.0</td><td>obsend</td><td>272.1</td><td>267.1</td><td>268.5</td><td>174.3</td><td>bright</td><td>0.9</td><td>20210529</td></tr>\n",
       "<tr><td>76</td><td>sv3</td><td>bright</td><td>bright</td><td>sv3bright</td><td>1</td><td>761.3</td><td>183.186</td><td>-0.083</td><td>225.2</td><td>283.0</td><td>297.0</td><td>220.0</td><td>obsend</td><td>284.5</td><td>281.2</td><td>283.0</td><td>184.0</td><td>bright</td><td>0.9</td><td>20210529</td></tr>\n",
       "<tr><td>521</td><td>sv3</td><td>dark</td><td>dark</td><td>sv3dark</td><td>1</td><td>1378.7</td><td>212.891</td><td>-0.679</td><td>1211.8</td><td>1227.0</td><td>1196.3</td><td>1200.0</td><td>obsend</td><td>1285.5</td><td>1227.0</td><td>1209.1</td><td>1084.5</td><td>dark</td><td>0.9</td><td>20210610</td></tr>\n",
       "</table></div>"
      ],
      "text/plain": [
       "<Table length=732>\n",
       "TILEID SURVEY PROGRAM FAPRGRM ... LYA_EFFTIME_DARK GOALTYPE MINTFRAC LASTNIGHT\n",
       "int64   str7    str6   str16  ...     float64        str6   float64    int64  \n",
       "------ ------ ------- ------- ... ---------------- -------- -------- ---------\n",
       " 80615    cmx   other     m33 ...           3878.6    other      0.9  20201216\n",
       " 80609    sv1    dark  lrgqso ...          10707.3     dark      0.9  20201217\n",
       " 80607    sv1    dark  lrgqso ...           8541.1     dark      0.9  20201219\n",
       " 80606    sv1    dark     elg ...           7397.5     dark      0.9  20201219\n",
       " 80620    sv1    dark  lrgqso ...           6316.1     dark      0.9  20201221\n",
       " 80622    sv1    dark  lrgqso ...           6935.4     dark      0.9  20201221\n",
       " 80623    sv1    dark     elg ...           7266.2     dark      0.9  20201221\n",
       " 80611    sv1  bright  bgsmws ...            407.7   bright      0.9  20201222\n",
       " 80617    sv1  bright  bgsmws ...            884.1   bright      0.9  20201223\n",
       " 80608    sv1    dark     elg ...          14267.9     dark      0.9  20201223\n",
       "   ...    ...     ...     ... ...              ...      ...      ...       ...\n",
       "    49    sv3  bright  bright ...            175.2   bright      0.9  20210529\n",
       "   184    sv3  bright  bright ...            182.6   bright      0.9  20210529\n",
       "   346    sv3  bright  bright ...            152.8   bright      0.9  20210529\n",
       "   400    sv3  bright  bright ...            157.6   bright      0.9  20210529\n",
       "   265    sv3  bright  bright ...            134.9   bright      0.9  20210529\n",
       "   596    sv3  backup  backup ...             43.6   backup      0.9  20210529\n",
       "   402    sv3  backup  backup ...             34.8   backup      0.9  20210529\n",
       "   504    sv3  bright  bright ...            174.3   bright      0.9  20210529\n",
       "    76    sv3  bright  bright ...            184.0   bright      0.9  20210529\n",
       "   521    sv3    dark    dark ...           1084.5     dark      0.9  20210610"
      ]
     },
     "execution_count": 6,
     "metadata": {},
     "output_type": "execute_result"
    }
   ],
   "source": [
    "tiles_csv"
   ]
  },
  {
   "cell_type": "markdown",
   "id": "f573580f-4f3e-4c3a-805e-260e45475a74",
   "metadata": {},
   "source": [
    "### Are the two tiles files self-consistent?"
   ]
  },
  {
   "cell_type": "code",
   "execution_count": 7,
   "id": "f686e391-684c-4eea-bbed-362d483a55cf",
   "metadata": {},
   "outputs": [],
   "source": [
    "for row in range(len(tiles_fits)):\n",
    "    for col in tiles_fits.colnames:\n",
    "        try:\n",
    "            assert tiles_fits[row][col] == tiles_csv[row][col]\n",
    "        except AssertionError:\n",
    "            print(tiles_fits[row]['TILEID'], col, tiles_fits[row][col], tiles_csv[row][col])"
   ]
  },
  {
   "cell_type": "markdown",
   "id": "6a96ab51-8a1f-4999-a963-93271238fdbe",
   "metadata": {},
   "source": [
    "### Load two versions of exposures file"
   ]
  },
  {
   "cell_type": "code",
   "execution_count": 8,
   "id": "3e6b75c5-c6c4-437c-b067-aabccbc428b7",
   "metadata": {},
   "outputs": [],
   "source": [
    "exposures_fits = Table.read(os.path.join(os.environ['DESI_SPECTRO_REDUX'], specprod, f'exposures-{specprod}.fits'), hdu='EXPOSURES')\n",
    "frames = Table.read(os.path.join(os.environ['DESI_SPECTRO_REDUX'], specprod, f'exposures-{specprod}.fits'), hdu='FRAMES')"
   ]
  },
  {
   "cell_type": "code",
   "execution_count": 9,
   "id": "6755781c-9489-40ee-94ea-84b1d2262f18",
   "metadata": {},
   "outputs": [
    {
     "data": {
      "text/html": [
       "<div><i>Table length=2480</i>\n",
       "<table id=\"table46914629875264\" class=\"table-striped table-bordered table-condensed\">\n",
       "<thead><tr><th>NIGHT</th><th>EXPID</th><th>TILEID</th><th>TILERA</th><th>TILEDEC</th><th>MJD</th><th>SURVEY</th><th>PROGRAM</th><th>FAPRGRM</th><th>FAFLAVOR</th><th>EXPTIME</th><th>EFFTIME_SPEC</th><th>GOALTIME</th><th>GOALTYPE</th><th>MINTFRAC</th><th>AIRMASS</th><th>EBV</th><th>SEEING_ETC</th><th>EFFTIME_ETC</th><th>TSNR2_ELG</th><th>TSNR2_QSO</th><th>TSNR2_LRG</th><th>TSNR2_LYA</th><th>TSNR2_BGS</th><th>TSNR2_GPBDARK</th><th>TSNR2_GPBBRIGHT</th><th>TSNR2_GPBBACKUP</th><th>LRG_EFFTIME_DARK</th><th>ELG_EFFTIME_DARK</th><th>BGS_EFFTIME_BRIGHT</th><th>LYA_EFFTIME_DARK</th><th>GPB_EFFTIME_DARK</th><th>GPB_EFFTIME_BRIGHT</th><th>GPB_EFFTIME_BACKUP</th><th>TRANSPARENCY_GFA</th><th>SEEING_GFA</th><th>FIBER_FRACFLUX_GFA</th><th>FIBER_FRACFLUX_ELG_GFA</th><th>FIBER_FRACFLUX_BGS_GFA</th><th>FIBERFAC_GFA</th><th>FIBERFAC_ELG_GFA</th><th>FIBERFAC_BGS_GFA</th><th>AIRMASS_GFA</th><th>SKY_MAG_AB_GFA</th><th>SKY_MAG_G_SPEC</th><th>SKY_MAG_R_SPEC</th><th>SKY_MAG_Z_SPEC</th><th>EFFTIME_GFA</th><th>EFFTIME_DARK_GFA</th><th>EFFTIME_BRIGHT_GFA</th><th>EFFTIME_BACKUP_GFA</th></tr></thead>\n",
       "<thead><tr><th>int32</th><th>int32</th><th>int32</th><th>float64</th><th>float64</th><th>float64</th><th>bytes7</th><th>bytes6</th><th>bytes16</th><th>bytes19</th><th>float64</th><th>float64</th><th>float64</th><th>bytes6</th><th>float64</th><th>float32</th><th>float64</th><th>float64</th><th>float32</th><th>float32</th><th>float32</th><th>float32</th><th>float64</th><th>float32</th><th>float32</th><th>float32</th><th>float32</th><th>float32</th><th>float32</th><th>float32</th><th>float64</th><th>float32</th><th>float32</th><th>float32</th><th>float64</th><th>float64</th><th>float64</th><th>float64</th><th>float64</th><th>float64</th><th>float64</th><th>float64</th><th>float64</th><th>float64</th><th>float64</th><th>float64</th><th>float64</th><th>float64</th><th>float64</th><th>float64</th><th>float64</th></tr></thead>\n",
       "<tr><td>20201214</td><td>67710</td><td>80605</td><td>36.448</td><td>-4.601</td><td>59198.17546592</td><td>sv1</td><td>dark</td><td>lrgqso</td><td>cmxlrgqso</td><td>900.0768432617188</td><td>17.298908233642578</td><td>4000.0</td><td>dark</td><td>0.9</td><td>1.244535</td><td>0.027954712510108948</td><td>0.0</td><td>0.0</td><td>2.0115008</td><td>0.4892555</td><td>1.3297243</td><td>1.2010275246488162</td><td>125.88352</td><td>176.69063</td><td>35.75251</td><td>312.16226</td><td>16.392647</td><td>17.298908</td><td>17.623693</td><td>13.739464269950634</td><td>15.295618</td><td>18.778387</td><td>22.87816</td><td>0.0</td><td>0.0</td><td>0.0</td><td>0.0</td><td>0.0</td><td>0.0</td><td>0.0</td><td>0.0</td><td>0.0</td><td>0.0</td><td>22.147212948116103</td><td>21.134354619896946</td><td>19.340615345357953</td><td>0.0</td><td>0.0</td><td>0.0</td><td>0.0</td></tr>\n",
       "<tr><td>20201214</td><td>67711</td><td>80605</td><td>36.448</td><td>-4.601</td><td>59198.18926673</td><td>sv1</td><td>dark</td><td>lrgqso</td><td>cmxlrgqso</td><td>900.0641479492188</td><td>15.429797172546387</td><td>4000.0</td><td>dark</td><td>0.9</td><td>1.249668</td><td>0.027954712510108948</td><td>0.0</td><td>0.0</td><td>1.7941624</td><td>0.42504597</td><td>1.2019708</td><td>1.0799514889833517</td><td>115.25519</td><td>159.52464</td><td>32.855064</td><td>275.14603</td><td>14.817721</td><td>15.429797</td><td>16.135727</td><td>12.354383718645755</td><td>13.809607</td><td>17.256554</td><td>20.165266</td><td>0.0</td><td>0.0</td><td>0.0</td><td>0.0</td><td>0.0</td><td>0.0</td><td>0.0</td><td>0.0</td><td>0.0</td><td>0.0</td><td>22.151793391382224</td><td>21.134922261901163</td><td>19.317079553988044</td><td>0.0</td><td>0.0</td><td>0.0</td><td>0.0</td></tr>\n",
       "<tr><td>20201214</td><td>67712</td><td>80605</td><td>36.448</td><td>-4.601</td><td>59198.20253263</td><td>sv1</td><td>dark</td><td>lrgqso</td><td>cmxlrgqso</td><td>900.0560913085938</td><td>34.315513610839844</td><td>4000.0</td><td>dark</td><td>0.9</td><td>1.264157</td><td>0.027954712510108948</td><td>0.0</td><td>0.0</td><td>3.990176</td><td>0.9686168</td><td>2.6183681</td><td>2.379345850396203</td><td>246.09148</td><td>344.20648</td><td>69.03682</td><td>587.11316</td><td>32.278862</td><td>34.315514</td><td>34.45281</td><td>27.219140799402464</td><td>29.797003</td><td>36.260395</td><td>43.029125</td><td>0.0</td><td>0.0</td><td>0.0</td><td>0.0</td><td>0.0</td><td>0.0</td><td>0.0</td><td>0.0</td><td>0.0</td><td>0.0</td><td>22.157862150878422</td><td>21.13464540199608</td><td>19.321768539212346</td><td>0.0</td><td>0.0</td><td>0.0</td><td>0.0</td></tr>\n",
       "<tr><td>20201214</td><td>67713</td><td>80605</td><td>36.448</td><td>-4.601</td><td>59198.21581194</td><td>sv1</td><td>dark</td><td>lrgqso</td><td>cmxlrgqso</td><td>900.0040283203125</td><td>43.364559173583984</td><td>4000.0</td><td>dark</td><td>0.9</td><td>1.288657</td><td>0.027954712510108948</td><td>0.0</td><td>0.0</td><td>5.0423903</td><td>1.2342193</td><td>3.3316402</td><td>2.9712147275102323</td><td>310.99176</td><td>441.2709</td><td>87.99428</td><td>744.9247</td><td>41.071976</td><td>43.36456</td><td>43.538845</td><td>33.98997753936961</td><td>38.1996</td><td>46.21747</td><td>54.595024</td><td>0.0</td><td>0.0</td><td>0.0</td><td>0.0</td><td>0.0</td><td>0.0</td><td>0.0</td><td>0.0</td><td>0.0</td><td>0.0</td><td>22.157039666465575</td><td>21.16149192467248</td><td>19.40011719034235</td><td>0.0</td><td>0.0</td><td>0.0</td><td>0.0</td></tr>\n",
       "<tr><td>20201214</td><td>67733</td><td>80606</td><td>36.448</td><td>-4.501</td><td>59198.2450305</td><td>sv1</td><td>dark</td><td>elg</td><td>cmxelg</td><td>900.0259399414062</td><td>107.48906707763672</td><td>4000.0</td><td>dark</td><td>0.9</td><td>1.380783</td><td>0.027508262544870377</td><td>0.0</td><td>0.0</td><td>12.498728</td><td>3.059576</td><td>8.157001</td><td>7.830726769170724</td><td>757.43445</td><td>1093.0906</td><td>214.4819</td><td>1706.7959</td><td>100.55831</td><td>107.48907</td><td>106.040825</td><td>89.58161944225778</td><td>94.625824</td><td>112.6529</td><td>125.08991</td><td>0.0</td><td>0.0</td><td>0.0</td><td>0.0</td><td>0.0</td><td>0.0</td><td>0.0</td><td>0.0</td><td>0.0</td><td>0.0</td><td>22.11347440490316</td><td>21.109118127481352</td><td>19.362904182378095</td><td>0.0</td><td>0.0</td><td>0.0</td><td>0.0</td></tr>\n",
       "<tr><td>20201214</td><td>67744</td><td>80607</td><td>106.74</td><td>56.1</td><td>59198.26702079</td><td>sv1</td><td>dark</td><td>lrgqso</td><td>cmxlrgqso</td><td>900.0259399414062</td><td>300.8516540527344</td><td>4000.0</td><td>dark</td><td>0.9</td><td>1.22422</td><td>0.05611468106508255</td><td>0.0</td><td>0.0</td><td>34.98275</td><td>8.371301</td><td>22.693335</td><td>19.880483982246368</td><td>2024.0605</td><td>2953.2625</td><td>561.0279</td><td>3931.1772</td><td>279.76013</td><td>300.85165</td><td>283.36847</td><td>227.42792628609314</td><td>255.65575</td><td>294.67017</td><td>288.1133</td><td>0.0</td><td>0.0</td><td>0.0</td><td>0.0</td><td>0.0</td><td>0.0</td><td>0.0</td><td>0.0</td><td>0.0</td><td>0.0</td><td>22.18968242996683</td><td>21.24604411535422</td><td>19.607193720412404</td><td>0.0</td><td>0.0</td><td>0.0</td><td>0.0</td></tr>\n",
       "<tr><td>20201214</td><td>67765</td><td>80607</td><td>106.74</td><td>56.1</td><td>59198.33230605</td><td>sv1</td><td>dark</td><td>lrgqso</td><td>cmxlrgqso</td><td>900.0891723632812</td><td>289.2614440917969</td><td>4000.0</td><td>dark</td><td>0.9</td><td>1.111614</td><td>0.05611468106508255</td><td>0.0</td><td>0.0</td><td>33.63505</td><td>8.169466</td><td>21.862267</td><td>19.924564858619124</td><td>1950.2588</td><td>2926.148</td><td>553.4403</td><td>3952.5176</td><td>269.51483</td><td>289.26144</td><td>273.03622</td><td>227.93220084556978</td><td>253.30852</td><td>290.68494</td><td>289.67734</td><td>0.0</td><td>0.0</td><td>0.0</td><td>0.0</td><td>0.0</td><td>0.0</td><td>0.0</td><td>0.0</td><td>0.0</td><td>0.0</td><td>22.19190105549362</td><td>21.177055868568686</td><td>19.4156843446546</td><td>0.0</td><td>0.0</td><td>0.0</td><td>0.0</td></tr>\n",
       "<tr><td>20201214</td><td>67766</td><td>80607</td><td>106.74</td><td>56.1</td><td>59198.34618685</td><td>sv1</td><td>dark</td><td>lrgqso</td><td>cmxlrgqso</td><td>900.0689086914062</td><td>284.4159851074219</td><td>4000.0</td><td>dark</td><td>0.9</td><td>1.102047</td><td>0.05611468106508255</td><td>0.0</td><td>0.0</td><td>33.071625</td><td>8.022035</td><td>21.23246</td><td>19.68803983316757</td><td>1887.7024</td><td>2800.9304</td><td>529.9273</td><td>3843.429</td><td>261.75067</td><td>284.416</td><td>264.27835</td><td>225.22641178624656</td><td>242.4688</td><td>278.33514</td><td>281.68228</td><td>0.0</td><td>0.0</td><td>0.0</td><td>0.0</td><td>0.0</td><td>0.0</td><td>0.0</td><td>0.0</td><td>0.0</td><td>0.0</td><td>22.18374057176667</td><td>21.135175323095257</td><td>19.313018413904906</td><td>0.0</td><td>0.0</td><td>0.0</td><td>0.0</td></tr>\n",
       "<tr><td>20201214</td><td>67767</td><td>80607</td><td>106.74</td><td>56.1</td><td>59198.35939494</td><td>sv1</td><td>dark</td><td>lrgqso</td><td>cmxlrgqso</td><td>900.0628662109375</td><td>308.7015686035156</td><td>4000.0</td><td>dark</td><td>0.9</td><td>1.096901</td><td>0.05611468106508255</td><td>0.0</td><td>0.0</td><td>35.89553</td><td>8.664203</td><td>23.352427</td><td>20.40658862348646</td><td>2070.5015</td><td>3104.4253</td><td>586.66113</td><td>4141.853</td><td>287.8853</td><td>308.70157</td><td>289.8702</td><td>233.44643608060184</td><td>268.7415</td><td>308.1336</td><td>303.5536</td><td>0.0</td><td>0.0</td><td>0.0</td><td>0.0</td><td>0.0</td><td>0.0</td><td>0.0</td><td>0.0</td><td>0.0</td><td>0.0</td><td>22.189728550308505</td><td>21.16785542921513</td><td>19.354750452772045</td><td>0.0</td><td>0.0</td><td>0.0</td><td>0.0</td></tr>\n",
       "<tr><td>20201214</td><td>67768</td><td>80607</td><td>106.74</td><td>56.1</td><td>59198.37261703</td><td>sv1</td><td>dark</td><td>lrgqso</td><td>cmxlrgqso</td><td>900.0780029296875</td><td>435.62371826171875</td><td>4000.0</td><td>dark</td><td>0.9</td><td>1.095718</td><td>0.05611468106508255</td><td>0.0</td><td>0.0</td><td>50.65392</td><td>12.361699</td><td>33.298065</td><td>31.258330955728887</td><td>2925.0112</td><td>4501.9697</td><td>836.5285</td><td>5664.844</td><td>410.49368</td><td>435.62372</td><td>409.5016</td><td>357.5877425707691</td><td>389.72305</td><td>439.3721</td><td>415.17258</td><td>0.0</td><td>0.0</td><td>0.0</td><td>0.0</td><td>0.0</td><td>0.0</td><td>0.0</td><td>0.0</td><td>0.0</td><td>0.0</td><td>22.200290315188532</td><td>21.159438495744467</td><td>19.31321989423996</td><td>0.0</td><td>0.0</td><td>0.0</td><td>0.0</td></tr>\n",
       "<tr><td>...</td><td>...</td><td>...</td><td>...</td><td>...</td><td>...</td><td>...</td><td>...</td><td>...</td><td>...</td><td>...</td><td>...</td><td>...</td><td>...</td><td>...</td><td>...</td><td>...</td><td>...</td><td>...</td><td>...</td><td>...</td><td>...</td><td>...</td><td>...</td><td>...</td><td>...</td><td>...</td><td>...</td><td>...</td><td>...</td><td>...</td><td>...</td><td>...</td><td>...</td><td>...</td><td>...</td><td>...</td><td>...</td><td>...</td><td>...</td><td>...</td><td>...</td><td>...</td><td>...</td><td>...</td><td>...</td><td>...</td><td>...</td><td>...</td><td>...</td><td>...</td></tr>\n",
       "<tr><td>20210529</td><td>90242</td><td>265</td><td>219.819</td><td>-0.718</td><td>59364.30043333</td><td>sv3</td><td>bright</td><td>bright</td><td>sv3bright</td><td>1147.45751953125</td><td>205.097900390625</td><td>220.0</td><td>bright</td><td>0.9</td><td>1.308807</td><td>0.04507201537489891</td><td>1.9939160346984863</td><td>134.92589</td><td>26.469635</td><td>5.018313</td><td>16.71907</td><td>7.489010417507961</td><td>1464.985</td><td>1712.9265</td><td>342.45306</td><td>2339.0356</td><td>206.11026</td><td>227.63887</td><td>205.0979</td><td>85.67246706417116</td><td>148.28331</td><td>179.86754</td><td>171.42633</td><td>1.0044316861494202</td><td>1.7165336118237429</td><td>0.31309778440526853</td><td>0.2487646650621006</td><td>0.12136323118088277</td><td>0.5153331985294951</td><td>0.561169624081197</td><td>0.5950656876642711</td><td>1.3361240398007312</td><td>20.3196334768263</td><td>20.243617674720895</td><td>20.30319921720273</td><td>19.663795749142476</td><td>191.31233875698226</td><td>157.48847491455288</td><td>191.31233875698226</td><td>168.24257725565823</td></tr>\n",
       "<tr><td>20210529</td><td>90243</td><td>265</td><td>219.819</td><td>-0.718</td><td>59364.31476275</td><td>sv3</td><td>bright</td><td>bright</td><td>sv3bright</td><td>1032.588623046875</td><td>142.38348388671875</td><td>220.0</td><td>bright</td><td>0.9</td><td>1.371784</td><td>0.04507201537489891</td><td>1.9939160346984863</td><td>87.26385</td><td>18.559406</td><td>3.3605812</td><td>11.586385</td><td>4.306426956830546</td><td>1017.0249</td><td>1131.961</td><td>229.31609</td><td>1544.1204</td><td>142.83527</td><td>159.6109</td><td>142.38348</td><td>49.264482362156045</td><td>97.99073</td><td>120.4443</td><td>113.167534</td><td>0.9875689701081645</td><td>1.8593980119505136</td><td>0.2802235377316241</td><td>0.22636437015435176</td><td>0.11166331615839473</td><td>0.45173412965674975</td><td>0.5027854404046934</td><td>0.5405338722332579</td><td>1.404911619742606</td><td>20.22904431162439</td><td>20.095323126349207</td><td>20.205410136354438</td><td>19.687600826073886</td><td>128.0699983750227</td><td>102.44807468564653</td><td>128.0699983750227</td><td>105.66028653272438</td></tr>\n",
       "<tr><td>20210529</td><td>90244</td><td>402</td><td>252.362</td><td>34.538</td><td>59364.3295858</td><td>sv3</td><td>backup</td><td>backup</td><td>sv3backup</td><td>345.58807373046875</td><td>81.61708068847656</td><td>30.0</td><td>backup</td><td>0.9</td><td>1.001813</td><td>0.024335218593478203</td><td>1.1336760520935059</td><td>61.23527</td><td>12.709192</td><td>2.4612706</td><td>8.011722</td><td>3.0423291338025593</td><td>710.86005</td><td>827.48254</td><td>162.75348</td><td>1113.6285</td><td>98.767334</td><td>109.29906</td><td>99.52041</td><td>34.80350913983637</td><td>71.63287</td><td>85.483444</td><td>81.61708</td><td>1.020477201527152</td><td>1.5741917092602482</td><td>0.35298433317569905</td><td>0.2754689225918531</td><td>0.13285799952479654</td><td>0.6021389768472802</td><td>0.6449038364698577</td><td>0.6753257603672884</td><td>1.0022692502854755</td><td>20.561420254142448</td><td>20.429688767588953</td><td>20.53221298400713</td><td>20.01105270462216</td><td>79.9441890088692</td><td>68.90348069933518</td><td>83.1791543353462</td><td>79.9441890088692</td></tr>\n",
       "<tr><td>20210529</td><td>90245</td><td>595</td><td>236.225</td><td>43.371</td><td>59364.33578631</td><td>sv3</td><td>bright</td><td>bright</td><td>sv3bright</td><td>1009.455810546875</td><td>337.5984191894531</td><td>220.0</td><td>bright</td><td>0.9</td><td>1.065157</td><td>0.026484467089176178</td><td>1.7307920455932617</td><td>224.9522</td><td>45.07551</td><td>8.992109</td><td>28.056103</td><td>13.516141845751553</td><td>2411.4172</td><td>2918.5566</td><td>566.1574</td><td>3892.597</td><td>345.87155</td><td>387.64938</td><td>337.59842</td><td>154.6213922212887</td><td>252.65137</td><td>297.36438</td><td>285.28577</td><td>1.071075137299656</td><td>1.5357985766107736</td><td>0.35495188862122734</td><td>0.2750308604630671</td><td>0.13220324311766019</td><td>0.6098850914540852</td><td>0.6477847655054598</td><td>0.6771421323586472</td><td>1.0750224944063773</td><td>20.556666354011085</td><td>20.378139508155087</td><td>20.52238006874036</td><td>19.950940079437306</td><td>289.42988251241513</td><td>246.71614419928105</td><td>289.42988251241513</td><td>268.3098000258689</td></tr>\n",
       "<tr><td>20210529</td><td>90246</td><td>346</td><td>241.016</td><td>43.333</td><td>59364.34926774</td><td>sv3</td><td>bright</td><td>bright</td><td>sv3bright</td><td>1146.021728515625</td><td>340.99713134765625</td><td>220.0</td><td>bright</td><td>0.9</td><td>1.065311</td><td>0.0123969167470932</td><td>1.620439052581787</td><td>220.5684</td><td>44.88397</td><td>8.614267</td><td>28.22059</td><td>13.35945295393467</td><td>2435.6938</td><td>2928.4712</td><td>575.33777</td><td>3829.2078</td><td>347.89932</td><td>386.00214</td><td>340.99713</td><td>152.82890921283663</td><td>253.50964</td><td>302.1862</td><td>280.64005</td><td>0.9923172753924472</td><td>1.6565864606051528</td><td>0.3320651945891556</td><td>0.2620222065043103</td><td>0.12717634355100993</td><td>0.564191217840623</td><td>0.610831356085189</td><td>0.6428332000912154</td><td>1.0765684733217156</td><td>20.53928069939649</td><td>20.33397405157767</td><td>20.481313559292758</td><td>19.83740608228465</td><td>306.86110065066737</td><td>258.7618255798891</td><td>306.86110065066737</td><td>269.54210581273486</td></tr>\n",
       "<tr><td>20210529</td><td>90247</td><td>373</td><td>245.832</td><td>43.335</td><td>59364.36430717</td><td>sv3</td><td>bright</td><td>bright</td><td>sv3bright</td><td>1117.044921875</td><td>337.6169128417969</td><td>220.0</td><td>bright</td><td>0.9</td><td>1.068032</td><td>0.009423913434147835</td><td>1.4692250490188599</td><td>223.98949</td><td>44.475147</td><td>8.6310425</td><td>27.963772</td><td>13.32962854905054</td><td>2411.5493</td><td>2913.2263</td><td>571.0539</td><td>3861.4192</td><td>344.7333</td><td>382.4863</td><td>337.6169</td><td>152.48772523755858</td><td>252.18994</td><td>299.93616</td><td>283.0008</td><td>1.033268169456845</td><td>1.5989511114379837</td><td>0.3463963950802347</td><td>0.2711160875582591</td><td>0.13095087611297396</td><td>0.5744627241541538</td><td>0.6178762888349207</td><td>0.6495438397604425</td><td>1.0794371013994377</td><td>20.525505155668775</td><td>20.297341392770107</td><td>20.449208280154785</td><td>19.76493542876646</td><td>302.50769913715436</td><td>253.50730817203686</td><td>302.50769913715436</td><td>273.4625058258671</td></tr>\n",
       "<tr><td>20210529</td><td>90248</td><td>400</td><td>252.442</td><td>34.39</td><td>59364.37940271</td><td>sv3</td><td>bright</td><td>bright</td><td>sv3bright</td><td>939.0352783203125</td><td>324.3939208984375</td><td>220.0</td><td>bright</td><td>0.9</td><td>1.048001</td><td>0.02507576160132885</td><td>1.29488205909729</td><td>223.24913</td><td>42.884575</td><td>8.598594</td><td>26.822409</td><td>13.778553664730861</td><td>2317.0994</td><td>2856.3599</td><td>555.2721</td><td>3844.6543</td><td>330.66275</td><td>368.80737</td><td>324.39392</td><td>157.62331993475487</td><td>247.26717</td><td>291.64703</td><td>281.7721</td><td>1.0140228921898826</td><td>1.457591698451905</td><td>0.40184047540259993</td><td>0.30849427371325466</td><td>0.14702371651459745</td><td>0.6728532105171252</td><td>0.7109799191994934</td><td>0.7364581942095623</td><td>1.0582610372774308</td><td>20.471386857019684</td><td>20.238753596063795</td><td>20.384506599404546</td><td>19.781617847518657</td><td>290.8780128434468</td><td>247.4650862587995</td><td>290.8780128434468</td><td>288.78444084042695</td></tr>\n",
       "<tr><td>20210529</td><td>90249</td><td>427</td><td>269.538</td><td>65.929</td><td>59364.39286466</td><td>sv3</td><td>bright</td><td>bright</td><td>sv3bright</td><td>638.1410522460938</td><td>305.1478576660156</td><td>220.0</td><td>bright</td><td>0.9</td><td>1.210807</td><td>0.03996047377586365</td><td>1.233667016029358</td><td>222.87892</td><td>40.401855</td><td>9.118238</td><td>25.374088</td><td>12.912202950241044</td><td>2179.6274</td><td>2848.7534</td><td>533.6405</td><td>4032.643</td><td>312.80807</td><td>347.45596</td><td>305.14786</td><td>147.71247739144215</td><td>246.60869</td><td>280.28543</td><td>295.54968</td><td>1.0477574055550516</td><td>1.08992566816822</td><td>0.5676842869416672</td><td>0.41038684882798</td><td>0.18894336064826067</td><td>0.9630449341670511</td><td>0.9581835389545319</td><td>0.9601785625345641</td><td>1.213112847568369</td><td>20.346008656681235</td><td>20.16165043687451</td><td>20.307942291873115</td><td>19.595014353283528</td><td>282.96405063110075</td><td>247.82334776412873</td><td>282.96405063110075</td><td>360.81216722111327</td></tr>\n",
       "<tr><td>20210529</td><td>90250</td><td>565</td><td>269.926</td><td>62.441</td><td>59364.40219283</td><td>sv3</td><td>bright</td><td>bright</td><td>sv3bright</td><td>523.5750122070312</td><td>301.34124755859375</td><td>220.0</td><td>bright</td><td>0.9</td><td>1.170556</td><td>0.031614355742931366</td><td>1.1474930047988892</td><td>222.65558</td><td>40.03024</td><td>9.407354</td><td>24.999666</td><td>15.261678844550625</td><td>2152.4375</td><td>2863.223</td><td>528.574</td><td>4095.7031</td><td>308.19223</td><td>344.26007</td><td>301.34125</td><td>174.58991312083205</td><td>247.86128</td><td>277.62433</td><td>300.1713</td><td>1.0429984187389545</td><td>0.9969984126737262</td><td>0.6200876372740602</td><td>0.44224438682694484</td><td>0.20191861148396323</td><td>1.0563439920369584</td><td>1.0352732075685347</td><td>1.0277561394185621</td><td>1.173014299261516</td><td>20.36560251288922</td><td>20.187495833922565</td><td>20.329918150146984</td><td>19.650058927549892</td><td>275.4071756801791</td><td>242.9241353658027</td><td>275.4071756801791</td><td>374.1056713204288</td></tr>\n",
       "<tr><td>20210610</td><td>93262</td><td>521</td><td>212.891</td><td>-0.679</td><td>59376.20555175</td><td>sv3</td><td>dark</td><td>dark</td><td>sv3dark</td><td>1378.7406005859375</td><td>1226.9554443359375</td><td>1200.0</td><td>dark</td><td>0.9</td><td>1.203036</td><td>0.0666235014796257</td><td>1.0793989896774292</td><td>1211.8282</td><td>142.66924</td><td>35.086723</td><td>104.27875</td><td>94.79930891506373</td><td>8636.729</td><td>14916.666</td><td>2550.5806</td><td>14568.372</td><td>1285.5332</td><td>1226.9554</td><td>1209.142</td><td>1084.4811554467772</td><td>1291.2944</td><td>1339.6482</td><td>1067.706</td><td>1.0477155953118782</td><td>1.1643937671224673</td><td>0.5229161006689221</td><td>0.3831374061617432</td><td>0.17778791649211756</td><td>0.9079479628674408</td><td>0.913489169970082</td><td>0.920782544887284</td><td>1.2150209931269338</td><td>21.440992248024607</td><td>22.150373534329454</td><td>21.455090258428452</td><td>19.739430862128977</td><td>1196.2902742514004</td><td>1196.2902742514004</td><td>1109.612455201237</td><td>944.7471739245647</td></tr>\n",
       "</table></div>"
      ],
      "text/plain": [
       "<Table length=2480>\n",
       " NIGHT   EXPID TILEID ... EFFTIME_BRIGHT_GFA EFFTIME_BACKUP_GFA\n",
       " int32   int32 int32  ...      float64            float64      \n",
       "-------- ----- ------ ... ------------------ ------------------\n",
       "20201214 67710  80605 ...                0.0                0.0\n",
       "20201214 67711  80605 ...                0.0                0.0\n",
       "20201214 67712  80605 ...                0.0                0.0\n",
       "20201214 67713  80605 ...                0.0                0.0\n",
       "20201214 67733  80606 ...                0.0                0.0\n",
       "20201214 67744  80607 ...                0.0                0.0\n",
       "20201214 67765  80607 ...                0.0                0.0\n",
       "20201214 67766  80607 ...                0.0                0.0\n",
       "20201214 67767  80607 ...                0.0                0.0\n",
       "20201214 67768  80607 ...                0.0                0.0\n",
       "     ...   ...    ... ...                ...                ...\n",
       "20210529 90242    265 ... 191.31233875698226 168.24257725565823\n",
       "20210529 90243    265 ...  128.0699983750227 105.66028653272438\n",
       "20210529 90244    402 ...   83.1791543353462   79.9441890088692\n",
       "20210529 90245    595 ... 289.42988251241513  268.3098000258689\n",
       "20210529 90246    346 ... 306.86110065066737 269.54210581273486\n",
       "20210529 90247    373 ... 302.50769913715436  273.4625058258671\n",
       "20210529 90248    400 ...  290.8780128434468 288.78444084042695\n",
       "20210529 90249    427 ... 282.96405063110075 360.81216722111327\n",
       "20210529 90250    565 ...  275.4071756801791  374.1056713204288\n",
       "20210610 93262    521 ...  1109.612455201237  944.7471739245647"
      ]
     },
     "execution_count": 9,
     "metadata": {},
     "output_type": "execute_result"
    }
   ],
   "source": [
    "exposures_fits"
   ]
  },
  {
   "cell_type": "code",
   "execution_count": 10,
   "id": "f5ea1dd7-06b3-459d-9470-63bdaecfd2b8",
   "metadata": {},
   "outputs": [],
   "source": [
    "exposures_csv = Table.read(os.path.join(os.environ['DESI_SPECTRO_REDUX'], specprod, f'exposures-{specprod}.csv'), format='ascii.csv')"
   ]
  },
  {
   "cell_type": "code",
   "execution_count": 11,
   "id": "3e64da96-c685-40b0-ac89-d4e43fc8b00c",
   "metadata": {},
   "outputs": [
    {
     "data": {
      "text/html": [
       "<div><i>Table length=2480</i>\n",
       "<table id=\"table46914629405808\" class=\"table-striped table-bordered table-condensed\">\n",
       "<thead><tr><th>NIGHT</th><th>EXPID</th><th>TILEID</th><th>TILERA</th><th>TILEDEC</th><th>MJD</th><th>SURVEY</th><th>PROGRAM</th><th>FAPRGRM</th><th>FAFLAVOR</th><th>EXPTIME</th><th>EFFTIME_SPEC</th><th>GOALTIME</th><th>GOALTYPE</th><th>MINTFRAC</th><th>AIRMASS</th><th>EBV</th><th>SEEING_ETC</th><th>EFFTIME_ETC</th><th>TSNR2_ELG</th><th>TSNR2_QSO</th><th>TSNR2_LRG</th><th>TSNR2_LYA</th><th>TSNR2_BGS</th><th>TSNR2_GPBDARK</th><th>TSNR2_GPBBRIGHT</th><th>TSNR2_GPBBACKUP</th><th>LRG_EFFTIME_DARK</th><th>ELG_EFFTIME_DARK</th><th>BGS_EFFTIME_BRIGHT</th><th>LYA_EFFTIME_DARK</th><th>GPB_EFFTIME_DARK</th><th>GPB_EFFTIME_BRIGHT</th><th>GPB_EFFTIME_BACKUP</th><th>TRANSPARENCY_GFA</th><th>SEEING_GFA</th><th>FIBER_FRACFLUX_GFA</th><th>FIBER_FRACFLUX_ELG_GFA</th><th>FIBER_FRACFLUX_BGS_GFA</th><th>FIBERFAC_GFA</th><th>FIBERFAC_ELG_GFA</th><th>FIBERFAC_BGS_GFA</th><th>AIRMASS_GFA</th><th>SKY_MAG_AB_GFA</th><th>SKY_MAG_G_SPEC</th><th>SKY_MAG_R_SPEC</th><th>SKY_MAG_Z_SPEC</th><th>EFFTIME_GFA</th><th>EFFTIME_DARK_GFA</th><th>EFFTIME_BRIGHT_GFA</th><th>EFFTIME_BACKUP_GFA</th></tr></thead>\n",
       "<thead><tr><th>int64</th><th>int64</th><th>int64</th><th>float64</th><th>float64</th><th>float64</th><th>str7</th><th>str6</th><th>str16</th><th>str19</th><th>float64</th><th>float64</th><th>float64</th><th>str6</th><th>float64</th><th>float64</th><th>float64</th><th>float64</th><th>float64</th><th>float64</th><th>float64</th><th>float64</th><th>float64</th><th>float64</th><th>float64</th><th>float64</th><th>float64</th><th>float64</th><th>float64</th><th>float64</th><th>float64</th><th>float64</th><th>float64</th><th>float64</th><th>float64</th><th>float64</th><th>float64</th><th>float64</th><th>float64</th><th>float64</th><th>float64</th><th>float64</th><th>float64</th><th>float64</th><th>float64</th><th>float64</th><th>float64</th><th>float64</th><th>float64</th><th>float64</th><th>float64</th></tr></thead>\n",
       "<tr><td>20201214</td><td>67710</td><td>80605</td><td>36.448</td><td>-4.601</td><td>59198.17546592</td><td>sv1</td><td>dark</td><td>lrgqso</td><td>cmxlrgqso</td><td>900.1</td><td>17.3</td><td>4000.0</td><td>dark</td><td>0.9</td><td>1.245</td><td>0.028</td><td>0.0</td><td>0.0</td><td>2.0</td><td>0.5</td><td>1.3</td><td>1.2</td><td>125.9</td><td>176.7</td><td>35.8</td><td>312.2</td><td>16.4</td><td>17.3</td><td>17.6</td><td>13.7</td><td>15.3</td><td>18.8</td><td>22.9</td><td>0.0</td><td>0.0</td><td>0.0</td><td>0.0</td><td>0.0</td><td>0.0</td><td>0.0</td><td>0.0</td><td>0.0</td><td>0.0</td><td>22.147</td><td>21.134</td><td>19.341</td><td>0.0</td><td>0.0</td><td>0.0</td><td>0.0</td></tr>\n",
       "<tr><td>20201214</td><td>67711</td><td>80605</td><td>36.448</td><td>-4.601</td><td>59198.18926673</td><td>sv1</td><td>dark</td><td>lrgqso</td><td>cmxlrgqso</td><td>900.1</td><td>15.4</td><td>4000.0</td><td>dark</td><td>0.9</td><td>1.25</td><td>0.028</td><td>0.0</td><td>0.0</td><td>1.8</td><td>0.4</td><td>1.2</td><td>1.1</td><td>115.3</td><td>159.5</td><td>32.9</td><td>275.1</td><td>14.8</td><td>15.4</td><td>16.1</td><td>12.4</td><td>13.8</td><td>17.3</td><td>20.2</td><td>0.0</td><td>0.0</td><td>0.0</td><td>0.0</td><td>0.0</td><td>0.0</td><td>0.0</td><td>0.0</td><td>0.0</td><td>0.0</td><td>22.152</td><td>21.135</td><td>19.317</td><td>0.0</td><td>0.0</td><td>0.0</td><td>0.0</td></tr>\n",
       "<tr><td>20201214</td><td>67712</td><td>80605</td><td>36.448</td><td>-4.601</td><td>59198.20253263</td><td>sv1</td><td>dark</td><td>lrgqso</td><td>cmxlrgqso</td><td>900.1</td><td>34.3</td><td>4000.0</td><td>dark</td><td>0.9</td><td>1.264</td><td>0.028</td><td>0.0</td><td>0.0</td><td>4.0</td><td>1.0</td><td>2.6</td><td>2.4</td><td>246.1</td><td>344.2</td><td>69.0</td><td>587.1</td><td>32.3</td><td>34.3</td><td>34.5</td><td>27.2</td><td>29.8</td><td>36.3</td><td>43.0</td><td>0.0</td><td>0.0</td><td>0.0</td><td>0.0</td><td>0.0</td><td>0.0</td><td>0.0</td><td>0.0</td><td>0.0</td><td>0.0</td><td>22.158</td><td>21.135</td><td>19.322</td><td>0.0</td><td>0.0</td><td>0.0</td><td>0.0</td></tr>\n",
       "<tr><td>20201214</td><td>67713</td><td>80605</td><td>36.448</td><td>-4.601</td><td>59198.21581194</td><td>sv1</td><td>dark</td><td>lrgqso</td><td>cmxlrgqso</td><td>900.0</td><td>43.4</td><td>4000.0</td><td>dark</td><td>0.9</td><td>1.289</td><td>0.028</td><td>0.0</td><td>0.0</td><td>5.0</td><td>1.2</td><td>3.3</td><td>3.0</td><td>311.0</td><td>441.3</td><td>88.0</td><td>744.9</td><td>41.1</td><td>43.4</td><td>43.5</td><td>34.0</td><td>38.2</td><td>46.2</td><td>54.6</td><td>0.0</td><td>0.0</td><td>0.0</td><td>0.0</td><td>0.0</td><td>0.0</td><td>0.0</td><td>0.0</td><td>0.0</td><td>0.0</td><td>22.157</td><td>21.161</td><td>19.4</td><td>0.0</td><td>0.0</td><td>0.0</td><td>0.0</td></tr>\n",
       "<tr><td>20201214</td><td>67733</td><td>80606</td><td>36.448</td><td>-4.501</td><td>59198.2450305</td><td>sv1</td><td>dark</td><td>elg</td><td>cmxelg</td><td>900.0</td><td>107.5</td><td>4000.0</td><td>dark</td><td>0.9</td><td>1.381</td><td>0.028</td><td>0.0</td><td>0.0</td><td>12.5</td><td>3.1</td><td>8.2</td><td>7.8</td><td>757.4</td><td>1093.1</td><td>214.5</td><td>1706.8</td><td>100.6</td><td>107.5</td><td>106.0</td><td>89.6</td><td>94.6</td><td>112.7</td><td>125.1</td><td>0.0</td><td>0.0</td><td>0.0</td><td>0.0</td><td>0.0</td><td>0.0</td><td>0.0</td><td>0.0</td><td>0.0</td><td>0.0</td><td>22.113</td><td>21.109</td><td>19.363</td><td>0.0</td><td>0.0</td><td>0.0</td><td>0.0</td></tr>\n",
       "<tr><td>20201214</td><td>67744</td><td>80607</td><td>106.74</td><td>56.1</td><td>59198.26702079</td><td>sv1</td><td>dark</td><td>lrgqso</td><td>cmxlrgqso</td><td>900.0</td><td>300.9</td><td>4000.0</td><td>dark</td><td>0.9</td><td>1.224</td><td>0.056</td><td>0.0</td><td>0.0</td><td>35.0</td><td>8.4</td><td>22.7</td><td>19.9</td><td>2024.1</td><td>2953.3</td><td>561.0</td><td>3931.2</td><td>279.8</td><td>300.9</td><td>283.4</td><td>227.4</td><td>255.7</td><td>294.7</td><td>288.1</td><td>0.0</td><td>0.0</td><td>0.0</td><td>0.0</td><td>0.0</td><td>0.0</td><td>0.0</td><td>0.0</td><td>0.0</td><td>0.0</td><td>22.19</td><td>21.246</td><td>19.607</td><td>0.0</td><td>0.0</td><td>0.0</td><td>0.0</td></tr>\n",
       "<tr><td>20201214</td><td>67765</td><td>80607</td><td>106.74</td><td>56.1</td><td>59198.33230605</td><td>sv1</td><td>dark</td><td>lrgqso</td><td>cmxlrgqso</td><td>900.1</td><td>289.3</td><td>4000.0</td><td>dark</td><td>0.9</td><td>1.112</td><td>0.056</td><td>0.0</td><td>0.0</td><td>33.6</td><td>8.2</td><td>21.9</td><td>19.9</td><td>1950.3</td><td>2926.1</td><td>553.4</td><td>3952.5</td><td>269.5</td><td>289.3</td><td>273.0</td><td>227.9</td><td>253.3</td><td>290.7</td><td>289.7</td><td>0.0</td><td>0.0</td><td>0.0</td><td>0.0</td><td>0.0</td><td>0.0</td><td>0.0</td><td>0.0</td><td>0.0</td><td>0.0</td><td>22.192</td><td>21.177</td><td>19.416</td><td>0.0</td><td>0.0</td><td>0.0</td><td>0.0</td></tr>\n",
       "<tr><td>20201214</td><td>67766</td><td>80607</td><td>106.74</td><td>56.1</td><td>59198.34618685</td><td>sv1</td><td>dark</td><td>lrgqso</td><td>cmxlrgqso</td><td>900.1</td><td>284.4</td><td>4000.0</td><td>dark</td><td>0.9</td><td>1.102</td><td>0.056</td><td>0.0</td><td>0.0</td><td>33.1</td><td>8.0</td><td>21.2</td><td>19.7</td><td>1887.7</td><td>2800.9</td><td>529.9</td><td>3843.4</td><td>261.8</td><td>284.4</td><td>264.3</td><td>225.2</td><td>242.5</td><td>278.3</td><td>281.7</td><td>0.0</td><td>0.0</td><td>0.0</td><td>0.0</td><td>0.0</td><td>0.0</td><td>0.0</td><td>0.0</td><td>0.0</td><td>0.0</td><td>22.184</td><td>21.135</td><td>19.313</td><td>0.0</td><td>0.0</td><td>0.0</td><td>0.0</td></tr>\n",
       "<tr><td>20201214</td><td>67767</td><td>80607</td><td>106.74</td><td>56.1</td><td>59198.35939494</td><td>sv1</td><td>dark</td><td>lrgqso</td><td>cmxlrgqso</td><td>900.1</td><td>308.7</td><td>4000.0</td><td>dark</td><td>0.9</td><td>1.097</td><td>0.056</td><td>0.0</td><td>0.0</td><td>35.9</td><td>8.7</td><td>23.4</td><td>20.4</td><td>2070.5</td><td>3104.4</td><td>586.7</td><td>4141.9</td><td>287.9</td><td>308.7</td><td>289.9</td><td>233.4</td><td>268.7</td><td>308.1</td><td>303.6</td><td>0.0</td><td>0.0</td><td>0.0</td><td>0.0</td><td>0.0</td><td>0.0</td><td>0.0</td><td>0.0</td><td>0.0</td><td>0.0</td><td>22.19</td><td>21.168</td><td>19.355</td><td>0.0</td><td>0.0</td><td>0.0</td><td>0.0</td></tr>\n",
       "<tr><td>20201214</td><td>67768</td><td>80607</td><td>106.74</td><td>56.1</td><td>59198.37261703</td><td>sv1</td><td>dark</td><td>lrgqso</td><td>cmxlrgqso</td><td>900.1</td><td>435.6</td><td>4000.0</td><td>dark</td><td>0.9</td><td>1.096</td><td>0.056</td><td>0.0</td><td>0.0</td><td>50.7</td><td>12.4</td><td>33.3</td><td>31.3</td><td>2925.0</td><td>4502.0</td><td>836.5</td><td>5664.8</td><td>410.5</td><td>435.6</td><td>409.5</td><td>357.6</td><td>389.7</td><td>439.4</td><td>415.2</td><td>0.0</td><td>0.0</td><td>0.0</td><td>0.0</td><td>0.0</td><td>0.0</td><td>0.0</td><td>0.0</td><td>0.0</td><td>0.0</td><td>22.2</td><td>21.159</td><td>19.313</td><td>0.0</td><td>0.0</td><td>0.0</td><td>0.0</td></tr>\n",
       "<tr><td>...</td><td>...</td><td>...</td><td>...</td><td>...</td><td>...</td><td>...</td><td>...</td><td>...</td><td>...</td><td>...</td><td>...</td><td>...</td><td>...</td><td>...</td><td>...</td><td>...</td><td>...</td><td>...</td><td>...</td><td>...</td><td>...</td><td>...</td><td>...</td><td>...</td><td>...</td><td>...</td><td>...</td><td>...</td><td>...</td><td>...</td><td>...</td><td>...</td><td>...</td><td>...</td><td>...</td><td>...</td><td>...</td><td>...</td><td>...</td><td>...</td><td>...</td><td>...</td><td>...</td><td>...</td><td>...</td><td>...</td><td>...</td><td>...</td><td>...</td><td>...</td></tr>\n",
       "<tr><td>20210529</td><td>90242</td><td>265</td><td>219.819</td><td>-0.718</td><td>59364.30043333</td><td>sv3</td><td>bright</td><td>bright</td><td>sv3bright</td><td>1147.5</td><td>205.1</td><td>220.0</td><td>bright</td><td>0.9</td><td>1.309</td><td>0.045</td><td>1.994</td><td>134.9</td><td>26.5</td><td>5.0</td><td>16.7</td><td>7.5</td><td>1465.0</td><td>1712.9</td><td>342.5</td><td>2339.0</td><td>206.1</td><td>227.6</td><td>205.1</td><td>85.7</td><td>148.3</td><td>179.9</td><td>171.4</td><td>1.004</td><td>1.717</td><td>0.313</td><td>0.249</td><td>0.121</td><td>0.515</td><td>0.561</td><td>0.595</td><td>1.336</td><td>20.32</td><td>20.244</td><td>20.303</td><td>19.664</td><td>191.3</td><td>157.5</td><td>191.3</td><td>168.2</td></tr>\n",
       "<tr><td>20210529</td><td>90243</td><td>265</td><td>219.819</td><td>-0.718</td><td>59364.31476275</td><td>sv3</td><td>bright</td><td>bright</td><td>sv3bright</td><td>1032.6</td><td>142.4</td><td>220.0</td><td>bright</td><td>0.9</td><td>1.372</td><td>0.045</td><td>1.994</td><td>87.3</td><td>18.6</td><td>3.4</td><td>11.6</td><td>4.3</td><td>1017.0</td><td>1132.0</td><td>229.3</td><td>1544.1</td><td>142.8</td><td>159.6</td><td>142.4</td><td>49.3</td><td>98.0</td><td>120.4</td><td>113.2</td><td>0.988</td><td>1.859</td><td>0.28</td><td>0.226</td><td>0.112</td><td>0.452</td><td>0.503</td><td>0.541</td><td>1.405</td><td>20.229</td><td>20.095</td><td>20.205</td><td>19.688</td><td>128.1</td><td>102.4</td><td>128.1</td><td>105.7</td></tr>\n",
       "<tr><td>20210529</td><td>90244</td><td>402</td><td>252.362</td><td>34.538</td><td>59364.3295858</td><td>sv3</td><td>backup</td><td>backup</td><td>sv3backup</td><td>345.6</td><td>81.6</td><td>30.0</td><td>backup</td><td>0.9</td><td>1.002</td><td>0.024</td><td>1.134</td><td>61.2</td><td>12.7</td><td>2.5</td><td>8.0</td><td>3.0</td><td>710.9</td><td>827.5</td><td>162.8</td><td>1113.6</td><td>98.8</td><td>109.3</td><td>99.5</td><td>34.8</td><td>71.6</td><td>85.5</td><td>81.6</td><td>1.02</td><td>1.574</td><td>0.353</td><td>0.275</td><td>0.133</td><td>0.602</td><td>0.645</td><td>0.675</td><td>1.002</td><td>20.561</td><td>20.43</td><td>20.532</td><td>20.011</td><td>79.9</td><td>68.9</td><td>83.2</td><td>79.9</td></tr>\n",
       "<tr><td>20210529</td><td>90245</td><td>595</td><td>236.225</td><td>43.371</td><td>59364.33578631</td><td>sv3</td><td>bright</td><td>bright</td><td>sv3bright</td><td>1009.5</td><td>337.6</td><td>220.0</td><td>bright</td><td>0.9</td><td>1.065</td><td>0.026</td><td>1.731</td><td>225.0</td><td>45.1</td><td>9.0</td><td>28.1</td><td>13.5</td><td>2411.4</td><td>2918.6</td><td>566.2</td><td>3892.6</td><td>345.9</td><td>387.6</td><td>337.6</td><td>154.6</td><td>252.7</td><td>297.4</td><td>285.3</td><td>1.071</td><td>1.536</td><td>0.355</td><td>0.275</td><td>0.132</td><td>0.61</td><td>0.648</td><td>0.677</td><td>1.075</td><td>20.557</td><td>20.378</td><td>20.522</td><td>19.951</td><td>289.4</td><td>246.7</td><td>289.4</td><td>268.3</td></tr>\n",
       "<tr><td>20210529</td><td>90246</td><td>346</td><td>241.016</td><td>43.333</td><td>59364.34926774</td><td>sv3</td><td>bright</td><td>bright</td><td>sv3bright</td><td>1146.0</td><td>341.0</td><td>220.0</td><td>bright</td><td>0.9</td><td>1.065</td><td>0.012</td><td>1.62</td><td>220.6</td><td>44.9</td><td>8.6</td><td>28.2</td><td>13.4</td><td>2435.7</td><td>2928.5</td><td>575.3</td><td>3829.2</td><td>347.9</td><td>386.0</td><td>341.0</td><td>152.8</td><td>253.5</td><td>302.2</td><td>280.6</td><td>0.992</td><td>1.657</td><td>0.332</td><td>0.262</td><td>0.127</td><td>0.564</td><td>0.611</td><td>0.643</td><td>1.077</td><td>20.539</td><td>20.334</td><td>20.481</td><td>19.837</td><td>306.9</td><td>258.8</td><td>306.9</td><td>269.5</td></tr>\n",
       "<tr><td>20210529</td><td>90247</td><td>373</td><td>245.832</td><td>43.335</td><td>59364.36430717</td><td>sv3</td><td>bright</td><td>bright</td><td>sv3bright</td><td>1117.0</td><td>337.6</td><td>220.0</td><td>bright</td><td>0.9</td><td>1.068</td><td>0.009</td><td>1.469</td><td>224.0</td><td>44.5</td><td>8.6</td><td>28.0</td><td>13.3</td><td>2411.5</td><td>2913.2</td><td>571.1</td><td>3861.4</td><td>344.7</td><td>382.5</td><td>337.6</td><td>152.5</td><td>252.2</td><td>299.9</td><td>283.0</td><td>1.033</td><td>1.599</td><td>0.346</td><td>0.271</td><td>0.131</td><td>0.574</td><td>0.618</td><td>0.65</td><td>1.079</td><td>20.526</td><td>20.297</td><td>20.449</td><td>19.765</td><td>302.5</td><td>253.5</td><td>302.5</td><td>273.5</td></tr>\n",
       "<tr><td>20210529</td><td>90248</td><td>400</td><td>252.442</td><td>34.39</td><td>59364.37940271</td><td>sv3</td><td>bright</td><td>bright</td><td>sv3bright</td><td>939.0</td><td>324.4</td><td>220.0</td><td>bright</td><td>0.9</td><td>1.048</td><td>0.025</td><td>1.295</td><td>223.2</td><td>42.9</td><td>8.6</td><td>26.8</td><td>13.8</td><td>2317.1</td><td>2856.4</td><td>555.3</td><td>3844.7</td><td>330.7</td><td>368.8</td><td>324.4</td><td>157.6</td><td>247.3</td><td>291.6</td><td>281.8</td><td>1.014</td><td>1.458</td><td>0.402</td><td>0.308</td><td>0.147</td><td>0.673</td><td>0.711</td><td>0.736</td><td>1.058</td><td>20.471</td><td>20.239</td><td>20.385</td><td>19.782</td><td>290.9</td><td>247.5</td><td>290.9</td><td>288.8</td></tr>\n",
       "<tr><td>20210529</td><td>90249</td><td>427</td><td>269.538</td><td>65.929</td><td>59364.39286466</td><td>sv3</td><td>bright</td><td>bright</td><td>sv3bright</td><td>638.1</td><td>305.1</td><td>220.0</td><td>bright</td><td>0.9</td><td>1.211</td><td>0.04</td><td>1.234</td><td>222.9</td><td>40.4</td><td>9.1</td><td>25.4</td><td>12.9</td><td>2179.6</td><td>2848.8</td><td>533.6</td><td>4032.6</td><td>312.8</td><td>347.5</td><td>305.1</td><td>147.7</td><td>246.6</td><td>280.3</td><td>295.5</td><td>1.048</td><td>1.09</td><td>0.568</td><td>0.41</td><td>0.189</td><td>0.963</td><td>0.958</td><td>0.96</td><td>1.213</td><td>20.346</td><td>20.162</td><td>20.308</td><td>19.595</td><td>283.0</td><td>247.8</td><td>283.0</td><td>360.8</td></tr>\n",
       "<tr><td>20210529</td><td>90250</td><td>565</td><td>269.926</td><td>62.441</td><td>59364.40219283</td><td>sv3</td><td>bright</td><td>bright</td><td>sv3bright</td><td>523.6</td><td>301.3</td><td>220.0</td><td>bright</td><td>0.9</td><td>1.171</td><td>0.032</td><td>1.147</td><td>222.7</td><td>40.0</td><td>9.4</td><td>25.0</td><td>15.3</td><td>2152.4</td><td>2863.2</td><td>528.6</td><td>4095.7</td><td>308.2</td><td>344.3</td><td>301.3</td><td>174.6</td><td>247.9</td><td>277.6</td><td>300.2</td><td>1.043</td><td>0.997</td><td>0.62</td><td>0.442</td><td>0.202</td><td>1.056</td><td>1.035</td><td>1.028</td><td>1.173</td><td>20.366</td><td>20.187</td><td>20.33</td><td>19.65</td><td>275.4</td><td>242.9</td><td>275.4</td><td>374.1</td></tr>\n",
       "<tr><td>20210610</td><td>93262</td><td>521</td><td>212.891</td><td>-0.679</td><td>59376.20555175</td><td>sv3</td><td>dark</td><td>dark</td><td>sv3dark</td><td>1378.7</td><td>1227.0</td><td>1200.0</td><td>dark</td><td>0.9</td><td>1.203</td><td>0.067</td><td>1.079</td><td>1211.8</td><td>142.7</td><td>35.1</td><td>104.3</td><td>94.8</td><td>8636.7</td><td>14916.7</td><td>2550.6</td><td>14568.4</td><td>1285.5</td><td>1227.0</td><td>1209.1</td><td>1084.5</td><td>1291.3</td><td>1339.6</td><td>1067.7</td><td>1.048</td><td>1.164</td><td>0.523</td><td>0.383</td><td>0.178</td><td>0.908</td><td>0.913</td><td>0.921</td><td>1.215</td><td>21.441</td><td>22.15</td><td>21.455</td><td>19.739</td><td>1196.3</td><td>1196.3</td><td>1109.6</td><td>944.7</td></tr>\n",
       "</table></div>"
      ],
      "text/plain": [
       "<Table length=2480>\n",
       " NIGHT   EXPID TILEID ... EFFTIME_DARK_GFA EFFTIME_BRIGHT_GFA EFFTIME_BACKUP_GFA\n",
       " int64   int64 int64  ...     float64           float64            float64      \n",
       "-------- ----- ------ ... ---------------- ------------------ ------------------\n",
       "20201214 67710  80605 ...              0.0                0.0                0.0\n",
       "20201214 67711  80605 ...              0.0                0.0                0.0\n",
       "20201214 67712  80605 ...              0.0                0.0                0.0\n",
       "20201214 67713  80605 ...              0.0                0.0                0.0\n",
       "20201214 67733  80606 ...              0.0                0.0                0.0\n",
       "20201214 67744  80607 ...              0.0                0.0                0.0\n",
       "20201214 67765  80607 ...              0.0                0.0                0.0\n",
       "20201214 67766  80607 ...              0.0                0.0                0.0\n",
       "20201214 67767  80607 ...              0.0                0.0                0.0\n",
       "20201214 67768  80607 ...              0.0                0.0                0.0\n",
       "     ...   ...    ... ...              ...                ...                ...\n",
       "20210529 90242    265 ...            157.5              191.3              168.2\n",
       "20210529 90243    265 ...            102.4              128.1              105.7\n",
       "20210529 90244    402 ...             68.9               83.2               79.9\n",
       "20210529 90245    595 ...            246.7              289.4              268.3\n",
       "20210529 90246    346 ...            258.8              306.9              269.5\n",
       "20210529 90247    373 ...            253.5              302.5              273.5\n",
       "20210529 90248    400 ...            247.5              290.9              288.8\n",
       "20210529 90249    427 ...            247.8              283.0              360.8\n",
       "20210529 90250    565 ...            242.9              275.4              374.1\n",
       "20210610 93262    521 ...           1196.3             1109.6              944.7"
      ]
     },
     "execution_count": 11,
     "metadata": {},
     "output_type": "execute_result"
    }
   ],
   "source": [
    "exposures_csv"
   ]
  },
  {
   "cell_type": "markdown",
   "id": "8fc8ca4d-5819-489c-9516-1483c11feace",
   "metadata": {},
   "source": [
    "### Are the two exposures files self-consistent?"
   ]
  },
  {
   "cell_type": "code",
   "execution_count": 12,
   "id": "f27603c5-7863-4988-a3c6-e6989217db23",
   "metadata": {},
   "outputs": [],
   "source": [
    "for row in range(len(exposures_fits)):\n",
    "    for col in exposures_fits.colnames:\n",
    "        try:\n",
    "            assert exposures_fits[row][col] == exposures_csv[row][col]\n",
    "        except AssertionError:\n",
    "            try:\n",
    "                assert np.around(exposures_fits[row][col].astype(float), 1) == exposures_csv[row][col]\n",
    "            except AssertionError:\n",
    "                try:\n",
    "                    assert np.around(exposures_fits[row][col].astype(float), 2) == exposures_csv[row][col]\n",
    "                except AssertionError:\n",
    "                    try:\n",
    "                        assert np.around(exposures_fits[row][col].astype(float), 3) == exposures_csv[row][col]\n",
    "                    except AssertionError:\n",
    "                        print(exposures_fits[row]['TILEID'], col, exposures_fits[row][col], exposures_csv[row][col])"
   ]
  },
  {
   "cell_type": "markdown",
   "id": "a91ba1ab-7b13-4694-b062-0b0a27e36527",
   "metadata": {},
   "source": [
    "### What programs are present?"
   ]
  },
  {
   "cell_type": "code",
   "execution_count": 13,
   "id": "74b5f559-6653-4430-8e66-e9547fc412d6",
   "metadata": {},
   "outputs": [
    {
     "data": {
      "text/plain": [
       "array(['backup', 'bright', 'dark', 'other'], dtype='<U6')"
      ]
     },
     "execution_count": 13,
     "metadata": {},
     "output_type": "execute_result"
    }
   ],
   "source": [
    "np.unique(faflavor2program(exposures_fits['FAFLAVOR']))"
   ]
  },
  {
   "cell_type": "code",
   "execution_count": 14,
   "id": "11a4b3c9-6247-47d0-bf4e-803c01872ed4",
   "metadata": {},
   "outputs": [
    {
     "data": {
      "text/html": [
       "&lt;Column name=&apos;PROGRAM&apos; dtype=&apos;bytes6&apos; length=4&gt;\n",
       "<table>\n",
       "<tr><td>backup</td></tr>\n",
       "<tr><td>bright</td></tr>\n",
       "<tr><td>dark</td></tr>\n",
       "<tr><td>other</td></tr>\n",
       "</table>"
      ],
      "text/plain": [
       "<Column name='PROGRAM' dtype='bytes6' length=4>\n",
       "backup\n",
       "bright\n",
       "  dark\n",
       " other"
      ]
     },
     "execution_count": 14,
     "metadata": {},
     "output_type": "execute_result"
    }
   ],
   "source": [
    "np.unique(exposures_fits['PROGRAM'])"
   ]
  },
  {
   "cell_type": "code",
   "execution_count": 15,
   "id": "0121a508-0f11-4ba4-8522-0e67cc989df3",
   "metadata": {},
   "outputs": [
    {
     "data": {
      "text/html": [
       "&lt;Column name=&apos;GOALTYPE&apos; dtype=&apos;bytes6&apos; length=4&gt;\n",
       "<table>\n",
       "<tr><td>backup</td></tr>\n",
       "<tr><td>bright</td></tr>\n",
       "<tr><td>dark</td></tr>\n",
       "<tr><td>other</td></tr>\n",
       "</table>"
      ],
      "text/plain": [
       "<Column name='GOALTYPE' dtype='bytes6' length=4>\n",
       "backup\n",
       "bright\n",
       "  dark\n",
       " other"
      ]
     },
     "execution_count": 15,
     "metadata": {},
     "output_type": "execute_result"
    }
   ],
   "source": [
    "np.unique(exposures_fits['GOALTYPE'])"
   ]
  },
  {
   "cell_type": "code",
   "execution_count": 16,
   "id": "272e572f-549a-4bc7-935c-7b0bbd2c35e3",
   "metadata": {},
   "outputs": [
    {
     "data": {
      "text/plain": [
       "array(['backup', 'bright', 'dark', 'other'], dtype='<U6')"
      ]
     },
     "execution_count": 16,
     "metadata": {},
     "output_type": "execute_result"
    }
   ],
   "source": [
    "np.unique(faflavor2program(tiles_fits['FAFLAVOR']))"
   ]
  },
  {
   "cell_type": "code",
   "execution_count": 17,
   "id": "ff11d5ab-6d7c-4492-aa1c-01c16739f918",
   "metadata": {},
   "outputs": [
    {
     "data": {
      "text/html": [
       "&lt;Column name=&apos;PROGRAM&apos; dtype=&apos;bytes6&apos; length=4&gt;\n",
       "<table>\n",
       "<tr><td>backup</td></tr>\n",
       "<tr><td>bright</td></tr>\n",
       "<tr><td>dark</td></tr>\n",
       "<tr><td>other</td></tr>\n",
       "</table>"
      ],
      "text/plain": [
       "<Column name='PROGRAM' dtype='bytes6' length=4>\n",
       "backup\n",
       "bright\n",
       "  dark\n",
       " other"
      ]
     },
     "execution_count": 17,
     "metadata": {},
     "output_type": "execute_result"
    }
   ],
   "source": [
    "np.unique(tiles_fits['PROGRAM'])"
   ]
  },
  {
   "cell_type": "code",
   "execution_count": 18,
   "id": "76cf758a-1cdf-43c3-bf69-30149cdaf14d",
   "metadata": {},
   "outputs": [],
   "source": [
    "assert (faflavor2program(tiles_fits['FAFLAVOR']) == tiles_fits['PROGRAM']).all"
   ]
  },
  {
   "cell_type": "code",
   "execution_count": 19,
   "id": "4f95a003-b240-4b4a-b909-66780a1fd323",
   "metadata": {},
   "outputs": [],
   "source": [
    "program = faflavor2program(exposures_fits['FAFLAVOR'])\n",
    "assert (exposures_fits['PROGRAM'] == program).all()"
   ]
  },
  {
   "cell_type": "code",
   "execution_count": 20,
   "id": "8b50131c-661c-40e2-b9fd-4ee92f49cf02",
   "metadata": {},
   "outputs": [
    {
     "name": "stdout",
     "output_type": "stream",
     "text": [
      "'cmx': ['other'],\n",
      "'special': ['dark'],\n",
      "'sv1': ['backup', 'bright', 'dark', 'other'],\n",
      "'sv2': ['backup', 'bright', 'dark'],\n",
      "'sv3': ['backup', 'bright', 'dark'],\n"
     ]
    }
   ],
   "source": [
    "for survey in np.unique(exposures_fits['SURVEY']):\n",
    "    print(f\"'{survey}': \", np.unique(program[exposures_fits['SURVEY'] == survey]).tolist(), ',', sep='')"
   ]
  },
  {
   "cell_type": "markdown",
   "id": "1fe04bdc-88d9-45e1-9e16-a97d179b0c10",
   "metadata": {},
   "source": [
    "### Compare frames to exposures"
   ]
  },
  {
   "cell_type": "code",
   "execution_count": 21,
   "id": "83e4b603-fab5-4efe-ba5a-1dabbd3bb986",
   "metadata": {},
   "outputs": [],
   "source": [
    "for expid in frames['EXPID']:\n",
    "    assert expid in exposures_fits['EXPID']"
   ]
  },
  {
   "cell_type": "code",
   "execution_count": 22,
   "id": "54804170-12ad-4ca2-b941-b95b397fc960",
   "metadata": {},
   "outputs": [],
   "source": [
    "for k, expid in enumerate(exposures_fits['EXPID']):\n",
    "    assert (frames['NIGHT'][frames['EXPID'] == expid] == exposures_fits[k]['NIGHT']).all()\n",
    "    assert (frames['TILEID'][frames['EXPID'] == expid] == exposures_fits[k]['TILEID']).all()\n",
    "    assert (frames['TILERA'][frames['EXPID'] == expid] == exposures_fits[k]['TILERA']).all()\n",
    "    assert (frames['TILEDEC'][frames['EXPID'] == expid] == exposures_fits[k]['TILEDEC']).all()\n",
    "    assert (frames['AIRMASS'][frames['EXPID'] == expid] == exposures_fits[k]['AIRMASS']).all()\n",
    "    assert (frames['SEEING_ETC'][frames['EXPID'] == expid] == exposures_fits[k]['SEEING_ETC']).all()\n",
    "    try:\n",
    "        assert (frames['EFFTIME_ETC'][frames['EXPID'] == expid] == exposures_fits[k]['EFFTIME_ETC']).all()\n",
    "    except AssertionError:\n",
    "        print('EFFTIME_ETC', expid, exposures_fits[k]['TILEID'], exposures_fits[k]['EFFTIME_ETC'], frames[column][frames['EFFTIME_ETC'] == expid].tolist())\n",
    "    # assert (frames['TSNR2_GPBDARK'][frames['EXPID'] == expid] == exposures_fits[k]['TSNR2_GPBDARK']).all()\n",
    "    # assert (frames['TSNR2_ELG'][frames['EXPID'] == expid] == exposures_fits[k]['TSNR2_ELG']).all()\n",
    "    # assert (frames['TSNR2_GPBBRIGHT'][frames['EXPID'] == expid] == exposures_fits[k]['TSNR2_GPBBRIGHT']).all()\n",
    "    # assert (frames['TSNR2_LYA'][frames['EXPID'] == expid] == exposures_fits[k]['TSNR2_LYA']).all()\n",
    "    # assert (frames['TSNR2_BGS'][frames['EXPID'] == expid] == exposures_fits[k]['TSNR2_BGS']).all()\n",
    "    # assert (frames['TSNR2_GPBBACKUP'][frames['EXPID'] == expid] == exposures_fits[k]['TSNR2_GPBBACKUP']).all()\n",
    "    # assert (frames['TSNR2_QSO'][frames['EXPID'] == expid] == exposures_fits[k]['TSNR2_QSO']).all()\n",
    "    # assert (frames['TSNR2_LRG'][frames['EXPID'] == expid] == exposures_fits[k]['TSNR2_LRG']).all()\n",
    "    assert (frames['SURVEY'][frames['EXPID'] == expid] == exposures_fits[k]['SURVEY']).all()\n",
    "    assert (frames['GOALTYPE'][frames['EXPID'] == expid] == exposures_fits[k]['GOALTYPE']).all()\n",
    "    assert (frames['FAPRGRM'][frames['EXPID'] == expid] == exposures_fits[k]['FAPRGRM']).all()\n",
    "    assert (frames['FAFLAVOR'][frames['EXPID'] == expid] == exposures_fits[k]['FAFLAVOR']).all()\n",
    "    assert (frames['MINTFRAC'][frames['EXPID'] == expid] == exposures_fits[k]['MINTFRAC']).all()\n",
    "    for column in ('MJD', 'EXPTIME', 'GOALTIME'):\n",
    "        if column == 'GOALTIME' and (frames[column][frames['EXPID'] == expid] == 0).all():\n",
    "            print(f\"GOALTIME discrepancy for {expid}.\")\n",
    "        else:\n",
    "            try:\n",
    "                assert (np.around(frames[column][frames['EXPID'] == expid], 2) == np.around(exposures_fits[k][column], 2)).all()\n",
    "            except AssertionError:\n",
    "                try:\n",
    "                    assert (np.around(frames[column][frames['EXPID'] == expid], 3) == np.around(exposures_fits[k][column], 3)).all()\n",
    "                except AssertionError:\n",
    "                    try:\n",
    "                        assert (np.around(frames[column][frames['EXPID'] == expid], 4) == np.around(exposures_fits[k][column], 4)).all()\n",
    "                    except AssertionError:\n",
    "                        pass\n",
    "                        # print(column, expid, exposures_fits[k][column], frames[column][frames['EXPID'] == expid].tolist())"
   ]
  },
  {
   "cell_type": "markdown",
   "id": "b92b7ec3-bc0e-4877-aea5-d39c20c61cb8",
   "metadata": {},
   "source": [
    "### Compare tiles to exposures"
   ]
  },
  {
   "cell_type": "code",
   "execution_count": 23,
   "id": "d6ae2ed6-597f-43e1-886b-109d632edbc4",
   "metadata": {},
   "outputs": [
    {
     "name": "stdout",
     "output_type": "stream",
     "text": [
      "80873 2643.1\n",
      "LRG_EFFTIME_DARK 2643.2\n",
      "248 1230.7\n",
      "BGS_EFFTIME_BRIGHT 1230.6\n",
      "80862 7748.5\n",
      "BGS_EFFTIME_BRIGHT 7748.4\n"
     ]
    }
   ],
   "source": [
    "for row in tiles_fits:\n",
    "    w = exposures_fits['TILEID'] == row['TILEID']\n",
    "    assert len(exposures_fits[w]) == row['NEXP']\n",
    "    for column in ('SURVEY', 'FAPRGRM', 'FAFLAVOR', 'GOALTYPE'):\n",
    "        try:\n",
    "            assert (exposures_fits[w][column] == row[column]).all()\n",
    "        except AssertionError:\n",
    "            print(row['TILEID'], row[column])\n",
    "            print(exposures_fits[w][column])\n",
    "    for column in ('TILERA', 'TILEDEC'):\n",
    "        try:\n",
    "            assert (np.around(exposures_fits[w][column], 2) == row[column]).all()\n",
    "        except AssertionError:\n",
    "            try:\n",
    "                assert (np.around(exposures_fits[w][column], 3) == row[column]).all()\n",
    "            except AssertionError:\n",
    "                assert (np.around(exposures_fits[w][column], 4) == row[column]).all()\n",
    "    for column in ('EXPTIME', 'EFFTIME_SPEC', 'LRG_EFFTIME_DARK', 'ELG_EFFTIME_DARK', 'BGS_EFFTIME_BRIGHT', 'LYA_EFFTIME_DARK'):\n",
    "        try:\n",
    "            assert np.allclose(np.around(exposures_fits[w][column].sum(), 1), row[column])\n",
    "        except AssertionError:\n",
    "            print(row['TILEID'], row[column])\n",
    "            print(column, np.around(exposures_fits[w][column].sum(), 1))\n",
    "    for column in ('EFFTIME_ETC', 'EFFTIME_GFA'):\n",
    "        if (exposures_fits[w][column] == 0).any():\n",
    "            assert row[column] == 0\n",
    "        else:\n",
    "            try:\n",
    "                assert np.allclose(np.around(exposures_fits[w][column].sum(), 1), row[column])\n",
    "            except AssertionError:\n",
    "                print(row['TILEID'], row[column])\n",
    "                print(column, np.around(exposures_fits[w][column].sum(), 1))\n",
    "    for column in ('GOALTIME', 'MINTFRAC'):\n",
    "        try:\n",
    "            assert np.allclose(np.around(exposures_fits[w][column], 1), row[column])\n",
    "        except AssertionError:\n",
    "            try:\n",
    "                assert np.allclose(np.around(exposures_fits[w][column], 2), row[column])\n",
    "            except AssertionError:\n",
    "                print(row['TILEID'], row[column])\n",
    "                print(column, np.round(exposures_fits[w][column], decimals=1))\n",
    "    \n",
    "    assert exposures_fits[w]['NIGHT'].max() == row['LASTNIGHT']"
   ]
  },
  {
   "cell_type": "code",
   "execution_count": null,
   "id": "1d04e4f9-32a4-442b-bd29-7047e1c2a3a3",
   "metadata": {},
   "outputs": [],
   "source": []
  }
 ],
 "metadata": {
  "kernelspec": {
   "display_name": "DESI custom",
   "language": "python",
   "name": "desi-custom"
  },
  "language_info": {
   "codemirror_mode": {
    "name": "ipython",
    "version": 3
   },
   "file_extension": ".py",
   "mimetype": "text/x-python",
   "name": "python",
   "nbconvert_exporter": "python",
   "pygments_lexer": "ipython3",
   "version": "3.9.7"
  }
 },
 "nbformat": 4,
 "nbformat_minor": 5
}
