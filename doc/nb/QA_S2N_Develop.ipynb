{
 "cells": [
  {
   "cell_type": "markdown",
   "metadata": {},
   "source": [
    "# Notebook to develop S/N QA (mainly figures)  [v2]\n",
    "    v2 -- 18.7 and cframe!\n",
    "    v3 -- Refactor SNRFit"
   ]
  },
  {
   "cell_type": "code",
   "execution_count": 52,
   "metadata": {},
   "outputs": [],
   "source": [
    "# imports\n",
    "from importlib import reload\n",
    "\n",
    "import numpy as np\n",
    "from scipy import optimize\n",
    "\n",
    "from matplotlib import pyplot as plt\n",
    "\n",
    "import yaml\n",
    "\n",
    "from desispec.qa import qalib\n",
    "from desispec.io import read_frame, read_params"
   ]
  },
  {
   "cell_type": "markdown",
   "metadata": {},
   "source": [
    "## Run QA\n",
    "    desi_qa_frame --frame_file=cframe-b1-00000021.fits"
   ]
  },
  {
   "cell_type": "markdown",
   "metadata": {},
   "source": [
    "## Test file"
   ]
  },
  {
   "cell_type": "code",
   "execution_count": 2,
   "metadata": {},
   "outputs": [],
   "source": [
    "tst_file = '/home/xavier/DESI/DESI_SCRATCH/18.7/spectro/redux/mini/QA/exposures/20200316/00000021/qa-b1-00000021.yaml'"
   ]
  },
  {
   "cell_type": "code",
   "execution_count": 3,
   "metadata": {},
   "outputs": [
    {
     "name": "stderr",
     "output_type": "stream",
     "text": [
      "/home/xavier/Projects/anaconda3/lib/python3.7/site-packages/ipykernel_launcher.py:3: YAMLLoadWarning: calling yaml.load() without Loader=... is deprecated, as the default Loader is unsafe. Please read https://msg.pyyaml.org/load for full details.\n",
      "  This is separate from the ipykernel package so we can avoid doing imports until\n"
     ]
    }
   ],
   "source": [
    "# Read yaml\n",
    "with open(tst_file, 'r') as infile:\n",
    "    qa_data = yaml.load(infile)"
   ]
  },
  {
   "cell_type": "markdown",
   "metadata": {},
   "source": [
    "### Check it"
   ]
  },
  {
   "cell_type": "code",
   "execution_count": 4,
   "metadata": {},
   "outputs": [
    {
     "data": {
      "text/plain": [
       "{'BIN_SZ': 0.1,\n",
       " 'B_CONT': [[4000.0, 4500.0], [5250.0, 5550.0]],\n",
       " 'PCHI_RESID': 0.05,\n",
       " 'PER_RESID': 95.0,\n",
       " 'R_CONT': [[5950.0, 6200.0], [6990.0, 7230.0]],\n",
       " 'SKYCONT_ALARM_RANGE': [50.0, 600.0],\n",
       " 'SKYCONT_WARN_RANGE': [100.0, 400.0],\n",
       " 'SKYRESID_ALARM_RANGE': [-10.0, 10.0],\n",
       " 'SKYRESID_WARN_RANGE': [-5.0, 5.0],\n",
       " 'Z_CONT': [[8120.0, 8270.0], [9110.0, 9280.0]]}"
      ]
     },
     "execution_count": 4,
     "metadata": {},
     "output_type": "execute_result"
    }
   ],
   "source": [
    "qa_data['20200316'][21]['b1']['S2N']['PARAMS']"
   ]
  },
  {
   "cell_type": "code",
   "execution_count": 5,
   "metadata": {},
   "outputs": [
    {
     "data": {
      "text/plain": [
       "dict_keys(['EXPTIME', 'FIDSNR_TGT', 'FILTERS', 'FITCOEFF_TGT', 'FITCOVAR_TGT', 'FIT_FILTER', 'MAGNITUDES', 'MEDIAN_SNR', 'NUM_NEGATIVE_SNR', 'OBJLIST', 'SCIENCE_FIBERID', 'SNR_MAG_TGT', 'SNR_RESID', 'STAR_FIBERID', 'r2'])"
      ]
     },
     "execution_count": 5,
     "metadata": {},
     "output_type": "execute_result"
    }
   ],
   "source": [
    "qa_data['20200316'][21]['b1']['S2N']['METRICS'].keys()"
   ]
  },
  {
   "cell_type": "code",
   "execution_count": 6,
   "metadata": {},
   "outputs": [
    {
     "data": {
      "text/plain": [
       "['SCIENCE', 'STD']"
      ]
     },
     "execution_count": 6,
     "metadata": {},
     "output_type": "execute_result"
    }
   ],
   "source": [
    "qa_data['20200316'][21]['b1']['S2N']['METRICS']['OBJLIST']"
   ]
  },
  {
   "cell_type": "markdown",
   "metadata": {},
   "source": [
    "### Short cut"
   ]
  },
  {
   "cell_type": "code",
   "execution_count": 7,
   "metadata": {},
   "outputs": [],
   "source": [
    "s2n_dict = qa_data['20200316'][21]['b1']['S2N']['METRICS']"
   ]
  },
  {
   "cell_type": "markdown",
   "metadata": {},
   "source": [
    "### Re-shape mags"
   ]
  },
  {
   "cell_type": "code",
   "execution_count": 8,
   "metadata": {},
   "outputs": [
    {
     "data": {
      "text/plain": [
       "(500, 3)"
      ]
     },
     "execution_count": 8,
     "metadata": {},
     "output_type": "execute_result"
    }
   ],
   "source": [
    "all_mags = np.resize(np.array(s2n_dict['MAGNITUDES']), (500,3))\n",
    "all_mags.shape"
   ]
  },
  {
   "cell_type": "code",
   "execution_count": 9,
   "metadata": {},
   "outputs": [
    {
     "data": {
      "text/plain": [
       "array([0])"
      ]
     },
     "execution_count": 9,
     "metadata": {},
     "output_type": "execute_result"
    }
   ],
   "source": [
    "fidx = np.where(np.array(qa_data['20200316'][21]['b1']['S2N']['METRICS']['FILTERS']) == qa_data['20200316'][21]['b1']['S2N']['METRICS']['FIT_FILTER'])[0]\n",
    "fidx                                                                                                                                       "
   ]
  },
  {
   "cell_type": "code",
   "execution_count": 10,
   "metadata": {},
   "outputs": [
    {
     "data": {
      "text/plain": [
       "(500,)"
      ]
     },
     "execution_count": 10,
     "metadata": {},
     "output_type": "execute_result"
    }
   ],
   "source": [
    "mags = all_mags[:,fidx].flatten()\n",
    "mags.shape"
   ]
  },
  {
   "cell_type": "markdown",
   "metadata": {},
   "source": [
    "### Good sources (some are Infinite!)"
   ]
  },
  {
   "cell_type": "code",
   "execution_count": 11,
   "metadata": {},
   "outputs": [
    {
     "data": {
      "text/plain": [
       "40"
      ]
     },
     "execution_count": 11,
     "metadata": {},
     "output_type": "execute_result"
    }
   ],
   "source": [
    "gd_mag = np.isfinite(mags)\n",
    "np.sum(~gd_mag)"
   ]
  },
  {
   "cell_type": "markdown",
   "metadata": {},
   "source": [
    "## Plots"
   ]
  },
  {
   "cell_type": "markdown",
   "metadata": {},
   "source": [
    "### Scatter me"
   ]
  },
  {
   "cell_type": "code",
   "execution_count": 12,
   "metadata": {
    "scrolled": true
   },
   "outputs": [
    {
     "data": {
      "image/png": "[encoded data removed]",
      "text/plain": [
       "<Figure size 432x288 with 1 Axes>"
      ]
     },
     "metadata": {
      "needs_background": "light"
     },
     "output_type": "display_data"
    }
   ],
   "source": [
    "plt.clf()\n",
    "ax=plt.gca()\n",
    "#\n",
    "ax.scatter(mags[gd_mag], np.array(s2n_dict['MEDIAN_SNR'])[gd_mag])\n",
    "#\n",
    "plt.show()"
   ]
  },
  {
   "cell_type": "markdown",
   "metadata": {},
   "source": [
    "### Residual"
   ]
  },
  {
   "cell_type": "code",
   "execution_count": 13,
   "metadata": {},
   "outputs": [
    {
     "data": {
      "text/plain": [
       "1068.323891763128"
      ]
     },
     "execution_count": 13,
     "metadata": {},
     "output_type": "execute_result"
    }
   ],
   "source": [
    "exptime = qa_data['20200316'][21]['b1']['S2N']['METRICS']['EXPTIME']\n",
    "exptime"
   ]
  },
  {
   "cell_type": "code",
   "execution_count": 14,
   "metadata": {},
   "outputs": [],
   "source": [
    "r2= qa_data['20200316'][21]['b1']['S2N']['METRICS']['r2']\n",
    "funcMap={\"linear\":lambda x,a,b:a+b*x,\n",
    "         \"poly\":lambda x,a,b,c:a+b*x+c*x**2,\n",
    "         \"astro\":lambda x,a,b:(exptime*a*x)/np.sqrt(exptime*(a*x+b)+r2)\n",
    "        }"
   ]
  },
  {
   "cell_type": "code",
   "execution_count": 15,
   "metadata": {},
   "outputs": [],
   "source": [
    "fitfunc = funcMap['astro']"
   ]
  },
  {
   "cell_type": "code",
   "execution_count": 16,
   "metadata": {},
   "outputs": [
    {
     "data": {
      "text/plain": [
       "0"
      ]
     },
     "execution_count": 16,
     "metadata": {},
     "output_type": "execute_result"
    }
   ],
   "source": [
    "sci_idx = qa_data['20200316'][21]['b1']['S2N']['METRICS']['OBJLIST'].index('SCIENCE')\n",
    "sci_idx"
   ]
  },
  {
   "cell_type": "code",
   "execution_count": 17,
   "metadata": {},
   "outputs": [
    {
     "data": {
      "text/plain": [
       "[0.02817235631243733, 0.9126296252761991]"
      ]
     },
     "execution_count": 17,
     "metadata": {},
     "output_type": "execute_result"
    }
   ],
   "source": [
    "coeff = qa_data['20200316'][21]['b1']['S2N']['METRICS']['FITCOEFF_TGT'][sci_idx]\n",
    "coeff"
   ]
  },
  {
   "cell_type": "code",
   "execution_count": 18,
   "metadata": {},
   "outputs": [
    {
     "data": {
      "text/plain": [
       "array([ 1.36442528,  0.95790377,  0.49065736,  1.58962013,  1.23940546,\n",
       "        1.46917792,  0.51455701,  1.36262026,  3.40150129,  1.68522799,\n",
       "        0.21250464,  1.27527656,  9.59322434,  0.60613509,  0.79580406,\n",
       "        2.84026592,  0.25478221, 11.27119514,  0.10254784,  1.09194889,\n",
       "        6.2654671 ,  0.65933352,  0.14025526,  0.37517679,  0.5143374 ,\n",
       "        6.96764836,  0.78559341,  0.65711137,  0.93635351,  1.63254071,\n",
       "        0.77759261,  0.25835161,  0.39707204,  0.46172426,  0.81988059,\n",
       "        3.09893787,  1.16607547,  0.50500013,  0.33444672,  0.35865504,\n",
       "        0.48262426,  0.88986687,  0.62737275,  2.07023483,  1.08415799,\n",
       "        0.15792563,  0.46796233,  0.30871621,  0.8111805 ,  0.33784691])"
      ]
     },
     "execution_count": 18,
     "metadata": {},
     "output_type": "execute_result"
    }
   ],
   "source": [
    "x=10**(-0.4*(mags[gd_mag]-22.5))\n",
    "fit_snr = fitfunc(x,  *coeff)\n",
    "fit_snr[0:50]"
   ]
  },
  {
   "cell_type": "code",
   "execution_count": 19,
   "metadata": {},
   "outputs": [
    {
     "data": {
      "text/plain": [
       "0.0"
      ]
     },
     "execution_count": 19,
     "metadata": {},
     "output_type": "execute_result"
    }
   ],
   "source": [
    "r2"
   ]
  },
  {
   "cell_type": "code",
   "execution_count": 20,
   "metadata": {},
   "outputs": [],
   "source": [
    "resid = (np.array(s2n_dict['MEDIAN_SNR'])[gd_mag]-fit_snr)/fit_snr"
   ]
  },
  {
   "cell_type": "code",
   "execution_count": 21,
   "metadata": {},
   "outputs": [
    {
     "data": {
      "image/png": "[encoded data removed]",
      "text/plain": [
       "<Figure size 432x288 with 1 Axes>"
      ]
     },
     "metadata": {
      "needs_background": "light"
     },
     "output_type": "display_data"
    }
   ],
   "source": [
    "plt.clf()\n",
    "ax=plt.gca()\n",
    "#\n",
    "ax.scatter(mags[gd_mag], resid)\n",
    "#\n",
    "plt.show()"
   ]
  },
  {
   "cell_type": "markdown",
   "metadata": {},
   "source": [
    "### With fit"
   ]
  },
  {
   "cell_type": "code",
   "execution_count": 22,
   "metadata": {},
   "outputs": [
    {
     "data": {
      "image/png": "[encoded data removed]",
      "text/plain": [
       "<Figure size 432x288 with 1 Axes>"
      ]
     },
     "metadata": {
      "needs_background": "light"
     },
     "output_type": "display_data"
    }
   ],
   "source": [
    "plt.clf()\n",
    "ax=plt.gca()\n",
    "#\n",
    "ax.scatter(mags[gd_mag], np.array(s2n_dict['MEDIAN_SNR'])[gd_mag])\n",
    "# Fit\n",
    "xmag = np.linspace(17., 26., 100)\n",
    "xval=10**(-0.4*(xmag-22.5))\n",
    "yval = fitfunc(xval, *coeff)\n",
    "ax.plot(xmag, yval, '--r')\n",
    "#\n",
    "#ax.set_ylim(5., 20.)\n",
    "#\n",
    "plt.show()"
   ]
  },
  {
   "cell_type": "markdown",
   "metadata": {},
   "source": [
    "#### Note the points at very bright values are likely stars"
   ]
  },
  {
   "cell_type": "markdown",
   "metadata": {},
   "source": [
    "----"
   ]
  },
  {
   "cell_type": "markdown",
   "metadata": {},
   "source": [
    "# Refactor"
   ]
  },
  {
   "cell_type": "markdown",
   "metadata": {},
   "source": [
    "## Fitting"
   ]
  },
  {
   "cell_type": "code",
   "execution_count": 32,
   "metadata": {},
   "outputs": [],
   "source": [
    "def fit_astro(flux, A, B):\n",
    "    return flux*A/np.sqrt(A*flux + B)"
   ]
  },
  {
   "cell_type": "markdown",
   "metadata": {},
   "source": [
    "### Normalize"
   ]
  },
  {
   "cell_type": "code",
   "execution_count": 25,
   "metadata": {},
   "outputs": [],
   "source": [
    "snr_norm = np.array(s2n_dict['MEDIAN_SNR'])[gd_mag] / exptime**(1/2)"
   ]
  },
  {
   "cell_type": "markdown",
   "metadata": {},
   "source": [
    "### Fit"
   ]
  },
  {
   "cell_type": "code",
   "execution_count": 29,
   "metadata": {},
   "outputs": [],
   "source": [
    "flux = 10**(-0.4*(mags[gd_mag]-22.5))"
   ]
  },
  {
   "cell_type": "code",
   "execution_count": 43,
   "metadata": {},
   "outputs": [
    {
     "name": "stderr",
     "output_type": "stream",
     "text": [
      "/home/xavier/Projects/anaconda3/lib/python3.7/site-packages/ipykernel_launcher.py:2: RuntimeWarning: invalid value encountered in sqrt\n",
      "  \n"
     ]
    }
   ],
   "source": [
    "popt, pcov = optimize.curve_fit(fit_astro, flux, snr_norm, p0=(0.02, 1.))"
   ]
  },
  {
   "cell_type": "code",
   "execution_count": 44,
   "metadata": {},
   "outputs": [
    {
     "data": {
      "text/plain": [
       "array([0.01817394, 0.31367139])"
      ]
     },
     "execution_count": 44,
     "metadata": {},
     "output_type": "execute_result"
    }
   ],
   "source": [
    "popt"
   ]
  },
  {
   "cell_type": "code",
   "execution_count": 45,
   "metadata": {},
   "outputs": [],
   "source": [
    "fit_snr = fit_astro(flux, *popt)"
   ]
  },
  {
   "cell_type": "code",
   "execution_count": 47,
   "metadata": {},
   "outputs": [
    {
     "data": {
      "image/png": "[encoded data removed]",
      "text/plain": [
       "<Figure size 432x288 with 1 Axes>"
      ]
     },
     "metadata": {
      "needs_background": "light"
     },
     "output_type": "display_data"
    }
   ],
   "source": [
    "plt.clf()\n",
    "ax=plt.gca()\n",
    "#\n",
    "ax.scatter(mags[gd_mag], np.array(s2n_dict['MEDIAN_SNR'])[gd_mag])\n",
    "# Fit\n",
    "xmag = np.linspace(17., 26., 100)\n",
    "xval=10**(-0.4*(xmag-22.5))\n",
    "yval = fit_astro(xval, *popt) * exptime**(1/2)\n",
    "ax.plot(xmag, yval, '--r')\n",
    "#\n",
    "ax.set_xlim(18., 25.)\n",
    "ax.set_ylim(-1., 15.)\n",
    "#\n",
    "plt.show()"
   ]
  },
  {
   "cell_type": "code",
   "execution_count": 38,
   "metadata": {},
   "outputs": [
    {
     "data": {
      "text/plain": [
       "[0.02817235631243733, 0.9126296252761991]"
      ]
     },
     "execution_count": 38,
     "metadata": {},
     "output_type": "execute_result"
    }
   ],
   "source": [
    "coeff"
   ]
  },
  {
   "cell_type": "markdown",
   "metadata": {},
   "source": [
    "# Test frame"
   ]
  },
  {
   "cell_type": "markdown",
   "metadata": {},
   "source": [
    "## Load"
   ]
  },
  {
   "cell_type": "code",
   "execution_count": 72,
   "metadata": {},
   "outputs": [],
   "source": [
    "cframe_file = '/home/xavier/DESI/DESI_SCRATCH/19.9/spectro/redux/mini/exposures/20200411/00000043/cframe-r6-00000043.fits'"
   ]
  },
  {
   "cell_type": "code",
   "execution_count": 73,
   "metadata": {},
   "outputs": [],
   "source": [
    "cframe = read_frame(cframe_file)"
   ]
  },
  {
   "cell_type": "code",
   "execution_count": 75,
   "metadata": {},
   "outputs": [
    {
     "data": {
      "text/html": [
       "<i>Table length=5</i>\n",
       "<table id=\"table140414409316168\" class=\"table-striped table-bordered table-condensed\">\n",
       "<thead><tr><th>TARGETID</th><th>DESI_TARGET</th><th>BGS_TARGET</th><th>MWS_TARGET</th><th>SECONDARY_TARGET</th><th>TARGET_RA</th><th>TARGET_DEC</th><th>TARGET_RA_IVAR</th><th>TARGET_DEC_IVAR</th><th>BRICKID</th><th>BRICK_OBJID</th><th>MORPHTYPE</th><th>PRIORITY</th><th>SUBPRIORITY</th><th>REF_ID</th><th>PMRA</th><th>PMDEC</th><th>REF_EPOCH</th><th>PMRA_IVAR</th><th>PMDEC_IVAR</th><th>RELEASE</th><th>FLUX_G</th><th>FLUX_R</th><th>FLUX_Z</th><th>FLUX_W1</th><th>FLUX_W2</th><th>FLUX_IVAR_G</th><th>FLUX_IVAR_R</th><th>FLUX_IVAR_Z</th><th>FLUX_IVAR_W1</th><th>FLUX_IVAR_W2</th><th>FIBERFLUX_G</th><th>FIBERFLUX_R</th><th>FIBERFLUX_Z</th><th>FIBERFLUX_W1</th><th>FIBERFLUX_W2</th><th>FIBERTOTFLUX_G</th><th>FIBERTOTFLUX_R</th><th>FIBERTOTFLUX_Z</th><th>FIBERTOTFLUX_W1</th><th>FIBERTOTFLUX_W2</th><th>MW_TRANSMISSION_G</th><th>MW_TRANSMISSION_R</th><th>MW_TRANSMISSION_Z</th><th>EBV</th><th>PHOTSYS</th><th>OBSCONDITIONS</th><th>NUMOBS_INIT</th><th>PRIORITY_INIT</th><th>NUMOBS_MORE</th><th>HPXPIXEL</th><th>FIBER</th><th>PETAL_LOC</th><th>DEVICE_LOC</th><th>LOCATION</th><th>FIBERSTATUS</th><th>OBJTYPE</th><th>LAMBDA_REF</th><th>FIBERASSIGN_X</th><th>FIBERASSIGN_Y</th><th>FA_TARGET</th><th>FA_TYPE</th><th>NUMTARGET</th><th>FIBER_RA</th><th>FIBER_DEC</th><th>FIBER_RA_IVAR</th><th>FIBER_DEC_IVAR</th><th>PLATEMAKER_X</th><th>PLATEMAKER_Y</th><th>PLATEMAKER_RA</th><th>PLATEMAKER_DEC</th><th>NUM_ITER</th><th>SPECTROID</th><th>BRICKNAME</th><th>LAMBDAREF</th><th>DELTA_X</th><th>DELTA_Y</th></tr></thead>\n",
       "<thead><tr><th>int64</th><th>int64</th><th>int64</th><th>int64</th><th>int64</th><th>float64</th><th>float64</th><th>float64</th><th>float64</th><th>int64</th><th>int64</th><th>str4</th><th>int32</th><th>float64</th><th>int64</th><th>float32</th><th>float32</th><th>float32</th><th>float32</th><th>float32</th><th>int16</th><th>float32</th><th>float32</th><th>float32</th><th>float32</th><th>float32</th><th>float32</th><th>float32</th><th>float32</th><th>float32</th><th>float32</th><th>float32</th><th>float32</th><th>float32</th><th>float32</th><th>float32</th><th>float32</th><th>float32</th><th>float32</th><th>float32</th><th>float32</th><th>float32</th><th>float32</th><th>float32</th><th>float32</th><th>str1</th><th>int32</th><th>int64</th><th>int64</th><th>int32</th><th>int64</th><th>int32</th><th>int32</th><th>int32</th><th>int32</th><th>int32</th><th>str3</th><th>float32</th><th>float32</th><th>float32</th><th>int64</th><th>uint8</th><th>int16</th><th>float64</th><th>float64</th><th>float32</th><th>float32</th><th>float32</th><th>float32</th><th>float32</th><th>float32</th><th>int32</th><th>int32</th><th>str8</th><th>float64</th><th>float64</th><th>float64</th></tr></thead>\n",
       "<tr><td>288230398415078322</td><td>1152921504606846976</td><td>2</td><td>0</td><td>0</td><td>151.60055541992188</td><td>33.541542053222656</td><td>0.0</td><td>0.0</td><td>0</td><td>0</td><td></td><td>0</td><td>0.0</td><td>0</td><td>0.0</td><td>0.0</td><td>0.0</td><td>0.0</td><td>0.0</td><td>0</td><td>9.7134075</td><td>24.52774</td><td>41.99664</td><td>50.025764</td><td>41.02012</td><td>0.0</td><td>0.0</td><td>0.0</td><td>0.0</td><td>0.0</td><td>0.0</td><td>0.0</td><td>0.0</td><td>0.0</td><td>0.0</td><td>0.0</td><td>0.0</td><td>0.0</td><td>0.0</td><td>0.0</td><td>0.999</td><td>0.999</td><td>0.999</td><td>0.001</td><td>S</td><td>0</td><td>0</td><td>0</td><td>0</td><td>0</td><td>3000</td><td>6</td><td>223</td><td>6223</td><td>0</td><td>TGT</td><td>5400.0</td><td>-272.82272</td><td>287.91406</td><td>0</td><td>0</td><td>0</td><td>151.60055541992188</td><td>33.541542053222656</td><td>0.0</td><td>0.0</td><td>0.0</td><td>0.0</td><td>0.0</td><td>0.0</td><td>2</td><td>6</td><td>1517p335</td><td>5400.0</td><td>0.0</td><td>0.0</td></tr>\n",
       "<tr><td>288230398415083032</td><td>4294967296</td><td>0</td><td>0</td><td>0</td><td>151.48868716186277</td><td>33.499897233733805</td><td>0.0</td><td>0.0</td><td>0</td><td>0</td><td></td><td>0</td><td>0.0</td><td>0</td><td>0.0</td><td>0.0</td><td>0.0</td><td>0.0</td><td>0.0</td><td>0</td><td>0.0</td><td>0.0</td><td>0.0</td><td>0.0</td><td>0.0</td><td>0.0</td><td>0.0</td><td>0.0</td><td>0.0</td><td>0.0</td><td>0.0</td><td>0.0</td><td>0.0</td><td>0.0</td><td>0.0</td><td>0.0</td><td>0.0</td><td>0.0</td><td>0.0</td><td>0.0</td><td>0.999</td><td>0.999</td><td>0.999</td><td>0.001</td><td>S</td><td>0</td><td>0</td><td>0</td><td>0</td><td>0</td><td>3001</td><td>6</td><td>490</td><td>6490</td><td>0</td><td>SKY</td><td>5400.0</td><td>-248.11739</td><td>275.79324</td><td>0</td><td>0</td><td>0</td><td>151.48868716186277</td><td>33.499897233733805</td><td>0.0</td><td>0.0</td><td>0.0</td><td>0.0</td><td>0.0</td><td>0.0</td><td>2</td><td>6</td><td>1514p335</td><td>5400.0</td><td>0.0</td><td>0.0</td></tr>\n",
       "<tr><td>288230398415078158</td><td>1152921504606846976</td><td>2</td><td>0</td><td>0</td><td>151.58303833007812</td><td>33.50406265258789</td><td>0.0</td><td>0.0</td><td>0</td><td>0</td><td></td><td>0</td><td>0.0</td><td>0</td><td>0.0</td><td>0.0</td><td>0.0</td><td>0.0</td><td>0.0</td><td>0</td><td>29.116611</td><td>44.656784</td><td>57.776756</td><td>38.705242</td><td>28.486105</td><td>0.0</td><td>0.0</td><td>0.0</td><td>0.0</td><td>0.0</td><td>0.0</td><td>0.0</td><td>0.0</td><td>0.0</td><td>0.0</td><td>0.0</td><td>0.0</td><td>0.0</td><td>0.0</td><td>0.0</td><td>0.999</td><td>0.999</td><td>0.999</td><td>0.001</td><td>S</td><td>0</td><td>0</td><td>0</td><td>0</td><td>0</td><td>3002</td><td>6</td><td>277</td><td>6277</td><td>0</td><td>TGT</td><td>5400.0</td><td>-268.71198</td><td>277.84753</td><td>0</td><td>0</td><td>0</td><td>151.58303833007812</td><td>33.50406265258789</td><td>0.0</td><td>0.0</td><td>0.0</td><td>0.0</td><td>0.0</td><td>0.0</td><td>2</td><td>6</td><td>1514p335</td><td>5400.0</td><td>0.0</td><td>0.0</td></tr>\n",
       "<tr><td>288230398410886962</td><td>2305843052163366912</td><td>0</td><td>256</td><td>0</td><td>150.84756663227438</td><td>33.47293649567263</td><td>0.0</td><td>0.0</td><td>0</td><td>0</td><td></td><td>0</td><td>0.0</td><td>0</td><td>0.0</td><td>0.0</td><td>0.0</td><td>0.0</td><td>0.0</td><td>0</td><td>269.8793</td><td>345.86627</td><td>360.621</td><td>1092.4896</td><td>1069.0483</td><td>0.0</td><td>0.0</td><td>0.0</td><td>0.0</td><td>0.0</td><td>0.0</td><td>0.0</td><td>0.0</td><td>0.0</td><td>0.0</td><td>0.0</td><td>0.0</td><td>0.0</td><td>0.0</td><td>0.0</td><td>0.999</td><td>0.999</td><td>0.999</td><td>0.001</td><td>S</td><td>0</td><td>0</td><td>0</td><td>0</td><td>0</td><td>3003</td><td>6</td><td>337</td><td>6337</td><td>0</td><td>TGT</td><td>5400.0</td><td>-111.801285</td><td>264.34967</td><td>0</td><td>0</td><td>0</td><td>150.84756663227438</td><td>33.47293649567263</td><td>0.0</td><td>0.0</td><td>0.0</td><td>0.0</td><td>0.0</td><td>0.0</td><td>2</td><td>6</td><td>1508p335</td><td>5400.0</td><td>0.0</td><td>0.0</td></tr>\n",
       "<tr><td>288230398415078190</td><td>1152921504606846976</td><td>9</td><td>0</td><td>0</td><td>151.52870178222656</td><td>33.517269134521484</td><td>0.0</td><td>0.0</td><td>0</td><td>0</td><td></td><td>0</td><td>0.0</td><td>0</td><td>0.0</td><td>0.0</td><td>0.0</td><td>0.0</td><td>0.0</td><td>0</td><td>2.4592803</td><td>10.359013</td><td>22.796852</td><td>32.98723</td><td>24.657238</td><td>0.0</td><td>0.0</td><td>0.0</td><td>0.0</td><td>0.0</td><td>0.0</td><td>0.0</td><td>0.0</td><td>0.0</td><td>0.0</td><td>0.0</td><td>0.0</td><td>0.0</td><td>0.0</td><td>0.0</td><td>0.999</td><td>0.999</td><td>0.999</td><td>0.001</td><td>S</td><td>0</td><td>0</td><td>0</td><td>0</td><td>0</td><td>3004</td><td>6</td><td>276</td><td>6276</td><td>0</td><td>TGT</td><td>5400.0</td><td>-256.93738</td><td>280.75314</td><td>0</td><td>0</td><td>0</td><td>151.52870178222656</td><td>33.517269134521484</td><td>0.0</td><td>0.0</td><td>0.0</td><td>0.0</td><td>0.0</td><td>0.0</td><td>2</td><td>6</td><td>1514p335</td><td>5400.0</td><td>0.0</td><td>0.0</td></tr>\n",
       "</table>"
      ],
      "text/plain": [
       "<Table length=5>\n",
       "     TARGETID          DESI_TARGET     BGS_TARGET ... LAMBDAREF DELTA_X DELTA_Y\n",
       "      int64               int64          int64    ...  float64  float64 float64\n",
       "------------------ ------------------- ---------- ... --------- ------- -------\n",
       "288230398415078322 1152921504606846976          2 ...    5400.0     0.0     0.0\n",
       "288230398415083032          4294967296          0 ...    5400.0     0.0     0.0\n",
       "288230398415078158 1152921504606846976          2 ...    5400.0     0.0     0.0\n",
       "288230398410886962 2305843052163366912          0 ...    5400.0     0.0     0.0\n",
       "288230398415078190 1152921504606846976          9 ...    5400.0     0.0     0.0"
      ]
     },
     "execution_count": 75,
     "metadata": {},
     "output_type": "execute_result"
    }
   ],
   "source": [
    "cframe.fibermap[0:5]"
   ]
  },
  {
   "cell_type": "code",
   "execution_count": 77,
   "metadata": {},
   "outputs": [],
   "source": [
    "params = read_params()"
   ]
  },
  {
   "cell_type": "markdown",
   "metadata": {},
   "source": [
    "## Run"
   ]
  },
  {
   "cell_type": "code",
   "execution_count": 82,
   "metadata": {},
   "outputs": [
    {
     "name": "stdout",
     "output_type": "stream",
     "text": [
      "Starting SNR Fit\n",
      "Working on BGS\n",
      "Working on MWS\n",
      "Working on STAR\n",
      "End SNR Fit\n"
     ]
    },
    {
     "name": "stderr",
     "output_type": "stream",
     "text": [
      "/home/xavier/Projects/anaconda3/lib/python3.7/site-packages/desispec-0.33.0.dev3890-py3.7.egg/desispec/qa/qalib.py:581: RuntimeWarning: invalid value encountered in sqrt\n",
      "  return flux*A/np.sqrt(A*flux + B)\n"
     ]
    }
   ],
   "source": [
    "reload(qalib)\n",
    "qadict = qalib.SNRFit(cframe, 'r6', params['qa']['s2n'])"
   ]
  },
  {
   "cell_type": "code",
   "execution_count": 83,
   "metadata": {},
   "outputs": [
    {
     "data": {
      "text/plain": [
       "({'MEDIAN_SNR': array([ 1.26972807e+00, -2.81833334e-02,  2.17590167e+00,  3.63053787e+01,\n",
       "          6.20498377e-01,  9.68590366e-01,  5.60816822e-01,  2.35305762e+00,\n",
       "          5.75957811e-01,  5.05377267e+00,  7.26510427e-01,  1.87220977e+00,\n",
       "         -4.50090456e-03,  6.77888713e-01,  1.38790495e+00,  8.34276014e-01,\n",
       "          6.97727847e-01,  1.00442043e+00,  1.52701248e+00,  5.81132597e-01,\n",
       "          2.40550188e+00,  1.56572001e+00,  1.07223095e+00, -2.63302111e-02,\n",
       "          8.94651268e-01,  5.76601026e-01,  1.58964332e+00,  5.97714523e-01,\n",
       "          1.70139868e+00,  9.19131377e-01,  2.13724413e-02,  2.01787203e+00,\n",
       "          1.03836718e+00, -8.12774373e-06,  1.92741146e+00,  1.35047508e+00,\n",
       "          1.54086530e+00,  2.01281934e+00,  2.21866037e+00,  1.39096094e+00,\n",
       "          2.48602028e+01,  1.03823088e+01,  3.26778377e+01,  3.32815424e+01,\n",
       "          4.51403620e+00,  2.11125625e+00,  1.11336551e+00,  1.08872223e+00,\n",
       "          1.81248197e+00,  1.20249251e+00,  2.53874141e+00,  6.03319646e+00,\n",
       "          1.97317150e+00,  6.97432708e-01,  1.00971554e+00,  1.11008096e+00,\n",
       "          7.51431143e-01,  7.31241815e-01,  7.82953381e-03,  7.32633271e-01,\n",
       "          8.82724956e-01,  1.87619151e+00,  1.10257995e+00,  1.49312505e+00,\n",
       "          8.62585409e-01,  1.88659145e+00,  7.97650528e-01,  2.67333542e+00,\n",
       "          7.99775379e-01,  1.23463850e+01,  6.12727608e-01,  1.08530297e+00,\n",
       "          7.69444142e+00,  6.36979173e-01,  2.81774076e+00,  1.05727423e+00,\n",
       "          1.18823770e+00,  1.39138014e+00,  2.46721703e+00,  5.98089578e-01,\n",
       "          1.23276243e+00,  9.37400877e-01,  7.84028383e-01,  1.05192537e+00,\n",
       "          9.53886537e+00,  9.14049418e-01,  8.92552897e-01,  2.43540743e+00,\n",
       "          2.54038830e+00,  1.49401216e+00,  2.23567555e+00,  1.58865181e+00,\n",
       "         -5.95020184e-02,  8.29392786e-01,  7.45848167e-01,  7.75536495e+00,\n",
       "          7.43674444e-01,  1.14868911e+00,  8.23297517e-01,  1.81460261e+01,\n",
       "          1.46920474e+00,  3.00266143e+00,  9.10689281e-01,  5.97380146e-01,\n",
       "          9.05140062e-01,  9.54491809e-01,  3.14227035e+00,  5.24511672e-01,\n",
       "          1.15383004e+00,  1.43640946e+00,  9.22833113e+00,  9.75994701e-01,\n",
       "          9.27768468e-01,  7.23420598e-01,  6.63142107e-01,  7.52878565e-01,\n",
       "          2.38417022e+01,  2.29953558e+00,  9.54257930e-01,  9.93711482e-01,\n",
       "          1.22249759e+01,  1.36299755e+00,  1.29980920e+00,  2.82209218e+01,\n",
       "          1.06928855e+00,  2.90258725e+01,  1.46073096e+00,  9.73271059e-01,\n",
       "          9.37507300e-01,  1.74287958e+00,  1.74779736e+00,  9.62547566e-01,\n",
       "          5.61661813e-01,  1.97698646e+00, -4.23389478e-03,  1.03663483e+00,\n",
       "          1.11199095e+00,  7.52056404e+00,  9.12547592e-01,  2.03465578e+01,\n",
       "          4.62772867e+00,  7.07259723e-01,  9.66152073e-01, -4.46795485e-02,\n",
       "          1.13359244e+00,  1.30983065e-02,  8.08626298e-01,  1.21934062e+00,\n",
       "          2.32573657e+00,  2.61148448e+00,  1.56254788e+00,  2.56379867e+01,\n",
       "          1.07571690e+00,  1.79113695e+01,  7.79627128e-01,  1.63639395e+00,\n",
       "          2.67059525e+00,  1.06639836e+00,  9.91867864e-01,  3.45523535e+00,\n",
       "          1.22043595e+00,  1.36650125e+00,  2.78360962e+00,  1.48692216e-03,\n",
       "          8.98428366e-01,  2.50953805e+00,  6.46907095e-01,  4.81549866e+00,\n",
       "          9.31970473e-01,  8.37181550e-01,  5.82230188e-01,  1.00258505e+00,\n",
       "         -1.75404836e-02,  1.07354626e+00,  2.99246824e+01,  7.59255746e-01,\n",
       "          8.42732853e-01,  1.00618220e+00,  1.20008874e+00,  1.08508009e+00,\n",
       "         -1.37030683e-02,  1.77489437e+00,  1.67141697e-03,  1.75546366e+00,\n",
       "          5.79593556e-01,  1.77159393e+00,  1.32215683e+00,  1.19788168e+00,\n",
       "          6.81821575e-01,  3.30334696e+00,  1.08366147e+00,  1.13748832e+00,\n",
       "          2.29712435e+00,  6.54993731e+00,  1.51876068e+00,  1.19314486e+00,\n",
       "          4.82538512e+00,  6.01053088e-01,  8.97181658e-01,  4.72860554e-01,\n",
       "          5.07084722e+00,  7.90652329e-01,  1.05670661e+00,  6.05963192e-01,\n",
       "          1.01472389e+00,  2.57939718e+01,  8.44645566e-01,  6.28166350e+00,\n",
       "          5.82218169e-01,  7.51530829e-01,  8.82015876e-01,  1.27134514e+00,\n",
       "          1.02954077e+01,  7.74163511e-01,  1.32248514e+00,  2.42936460e+00,\n",
       "          1.31515776e+00,  1.20009340e+00,  6.38165375e-01,  9.53054851e-01,\n",
       "          2.34765483e+00,  3.90106805e+00,  1.30431536e+01,  5.72470145e-01,\n",
       "          6.29575105e-01,  1.88256995e+00,  9.88741564e-01,  7.47550446e-01,\n",
       "          2.16409486e+00,  1.35399529e+01,  9.73379484e-01, -1.19320124e-02,\n",
       "          2.41069170e+01,  9.24172915e-01,  6.75680667e-01,  7.27773351e+00,\n",
       "          5.32477774e+01,  2.17898708e+00,  8.13012919e-01, -6.65156100e-03,\n",
       "          1.12228620e+00,  1.14152959e-02,  7.00331020e-01,  1.60253833e+00,\n",
       "          2.81550076e-02,  6.11551012e-01,  7.77945341e-01,  4.84081249e+00,\n",
       "          6.09681455e-01,  2.22921738e+01,  1.36681895e+01,  5.54405349e-01,\n",
       "          4.04708643e+00,  1.29614391e+00,  1.10305714e+00,  7.03981588e-01,\n",
       "          5.19906036e+00,  7.33758885e+00,  6.40018023e-01, -3.84391333e-02,\n",
       "          1.40347563e+00,  1.14115120e+00,  6.09851291e+00,  5.65313061e-01,\n",
       "          9.07827352e-01,  1.14474304e+00,  6.34518637e-01, -3.67071222e-02,\n",
       "          1.24899787e+00,  1.35795660e+00,  2.67524937e-03,  5.87616869e-01,\n",
       "          8.96671384e-01, -5.84951054e-03,  8.87384224e-01,  9.31096882e-01,\n",
       "          9.39773373e-01,  2.66051253e+00,  8.20262611e-01,  6.65098171e-01,\n",
       "          6.60093620e-01,  8.16950789e-01,  1.08919447e+00,  1.12954547e+00,\n",
       "         -2.93569251e-02,  1.10179454e+00,  7.63444927e-01,  2.28541127e+00,\n",
       "          1.70930543e+00,  6.23914763e-01,  6.77071788e-01,  4.21593920e+00,\n",
       "          1.09302931e+00,  2.72089182e+00,  8.32707151e-01,  1.47262851e+00,\n",
       "          2.72996695e-02,  8.06333090e-01,  7.06589087e-01,  7.74567912e-01,\n",
       "          3.09170384e+00,  1.39284145e+00, -2.02119420e-02,  9.16790118e-01,\n",
       "          8.12372487e-01,  1.43687242e+00,  5.95610052e-01,  7.62721485e-01,\n",
       "          6.11691923e-01,  7.92032533e-01, -3.71290206e-03,  4.51260435e+00,\n",
       "          1.54797302e+00,  1.11373456e+00,  8.14112760e+00,  1.32645573e+00,\n",
       "          9.62905945e-01,  1.46655071e+00,  7.78744298e-01,  1.98852337e+01,\n",
       "          9.07531697e+00,  7.23615314e-01,  5.34686624e-01,  1.09470703e+00,\n",
       "          9.92910310e+00,  1.24541532e+00,  1.11705083e+00,  1.84078944e+00,\n",
       "          4.07833983e+00,  8.97090870e-03,  1.06183212e+00,  6.69193617e-01,\n",
       "          8.60308239e+00,  6.02992483e-01,  8.77591571e-01,  2.63568304e+00,\n",
       "          1.24126589e+00,  1.44251198e+01,  5.87990197e-01,  1.96409358e+01,\n",
       "          1.86981368e+00,  2.31185829e+00,  1.42651821e+00,  1.04473683e+00,\n",
       "          1.39019807e+00,  7.41954567e-01,  2.67727070e+00,  1.33798980e+00,\n",
       "          9.20175101e+01,  2.62061316e+00,  2.26160305e+00,  1.25996542e+00,\n",
       "          7.17926301e-01,  8.97016181e-01,  1.66287194e+00,  8.61030228e-01,\n",
       "         -1.41143552e-02,  9.64698994e-01,  1.07450461e+00,  2.57891017e+00,\n",
       "          1.30735963e+00,  3.42685536e+01,  1.27673494e+00,  1.32080646e+00,\n",
       "          1.02761964e+00,  1.06585507e+00,  1.09656276e+00,  1.81607384e+00,\n",
       "          8.64341804e-01,  1.20284831e+00,  1.50958463e+01,  7.72953908e-01,\n",
       "          6.04902655e-01,  1.03906390e+00,  1.88116973e+00,  1.06309357e+01,\n",
       "          3.92709742e+00, -1.63094091e-02,  3.40374044e-02,  6.74092917e-01,\n",
       "         -4.04240402e-02,  3.49539425e+00,  8.29362722e-01,  1.40088200e+00,\n",
       "          1.61359093e+01,  1.23059304e+00,  8.11253945e-01,  3.70118669e+00,\n",
       "          1.09541667e+00,  6.99758303e-01,  9.78087853e-01,  4.85991001e+01,\n",
       "          1.29529094e+00,  7.17438909e-01, -9.39425067e-03,  1.25765598e+00,\n",
       "          5.96369509e-01,  1.46444176e+00,  9.71131661e-01,  5.14108333e+00,\n",
       "          2.37968035e+00,  1.24520438e+00,  5.55387306e-01,  8.69428743e-01,\n",
       "          1.19696567e+00,  8.56272014e-01,  7.18575515e-01,  1.19952786e+01,\n",
       "          1.44933460e+00,  1.35638575e+00, -1.81228269e-02,  1.26237493e+00,\n",
       "          7.25185871e-01,  7.20508118e+00,  6.80256636e-01,  1.92326554e+00,\n",
       "         -6.15689268e-02,  1.11248388e+00,  1.24431389e+00,  5.20279964e+00,\n",
       "          3.83373368e+00,  7.91742068e-01,  1.42266908e+00,  9.56663367e-01,\n",
       "          1.25189540e+00,  1.65494766e+00,  1.68187219e+00,  1.08498303e+00,\n",
       "          8.82888919e-01,  2.83750478e+00,  3.41165025e+00,  9.14323158e-01,\n",
       "          1.00057118e+00,  6.62869715e+00,  3.41106005e+00,  1.12160488e+00,\n",
       "          8.15894321e-01,  6.84501487e-01,  1.53623957e+00,  1.47580135e+00,\n",
       "          2.45395787e-02,  2.06701251e+00,  1.32593857e+00,  1.50128815e+00,\n",
       "          6.88303985e-01,  4.40433217e+00,  6.07015782e-01,  1.01894211e+01,\n",
       "          2.29735758e+00,  6.71175383e-01, -2.47145524e-02,  5.47236347e-01,\n",
       "          1.69057451e+00,  7.67272854e-01,  1.01691047e+00,  6.61719807e-01,\n",
       "          2.59814257e+00,  1.26877243e+00,  5.82357456e-01,  9.09202110e-01,\n",
       "          1.27963363e+00,  6.10036729e-01,  9.88259160e-01,  7.67817598e-01,\n",
       "          7.02546315e-01,  1.51716453e+01,  7.81793448e-01, -2.52386240e-02,\n",
       "          8.45412725e-01,  1.02988298e+00,  3.68847681e+00,  1.29447342e+00,\n",
       "         -1.47990441e-03,  1.04348040e+00, -1.32750362e-02,  2.46996960e+00,\n",
       "          1.69015476e+00,  1.42415966e+00,  8.99150448e-01,  6.17649666e-01,\n",
       "          1.50337108e+00,  2.52100349e+00, -3.22760058e-02,  1.56150017e+00,\n",
       "          1.42483571e+00, -7.48958389e-02,  9.59611664e-01, -1.20169698e-02,\n",
       "          9.69448650e-01,  8.73536523e-01,  1.53778362e+01,  1.91826751e+00,\n",
       "          7.51058909e+00,  1.88857745e+00,  1.25900226e+00,  1.72564414e+00,\n",
       "          5.50551400e-01,  1.07613293e+00,  5.94927571e-01,  9.96632449e-01]),\n",
       "  'FIT_FILTER': 'DECAM_R',\n",
       "  'EXPTIME': 300.0,\n",
       "  'FILTERS': ['G', 'R', 'Z'],\n",
       "  'BGS_FIBERID': [0,\n",
       "   2,\n",
       "   4,\n",
       "   5,\n",
       "   6,\n",
       "   7,\n",
       "   8,\n",
       "   9,\n",
       "   10,\n",
       "   11,\n",
       "   13,\n",
       "   14,\n",
       "   15,\n",
       "   16,\n",
       "   17,\n",
       "   18,\n",
       "   19,\n",
       "   20,\n",
       "   21,\n",
       "   22,\n",
       "   24,\n",
       "   25,\n",
       "   26,\n",
       "   27,\n",
       "   28,\n",
       "   29,\n",
       "   31,\n",
       "   32,\n",
       "   34,\n",
       "   35,\n",
       "   36,\n",
       "   37,\n",
       "   38,\n",
       "   39,\n",
       "   45,\n",
       "   46,\n",
       "   47,\n",
       "   48,\n",
       "   49,\n",
       "   50,\n",
       "   51,\n",
       "   52,\n",
       "   53,\n",
       "   54,\n",
       "   55,\n",
       "   56,\n",
       "   57,\n",
       "   59,\n",
       "   60,\n",
       "   61,\n",
       "   62,\n",
       "   63,\n",
       "   64,\n",
       "   65,\n",
       "   66,\n",
       "   67,\n",
       "   68,\n",
       "   70,\n",
       "   71,\n",
       "   72,\n",
       "   73,\n",
       "   74,\n",
       "   75,\n",
       "   76,\n",
       "   77,\n",
       "   78,\n",
       "   79,\n",
       "   80,\n",
       "   81,\n",
       "   82,\n",
       "   83,\n",
       "   85,\n",
       "   86,\n",
       "   87,\n",
       "   88,\n",
       "   89,\n",
       "   90,\n",
       "   91,\n",
       "   93,\n",
       "   94,\n",
       "   96,\n",
       "   97,\n",
       "   98,\n",
       "   100,\n",
       "   101,\n",
       "   102,\n",
       "   103,\n",
       "   104,\n",
       "   105,\n",
       "   106,\n",
       "   107,\n",
       "   108,\n",
       "   109,\n",
       "   110,\n",
       "   111,\n",
       "   112,\n",
       "   113,\n",
       "   114,\n",
       "   115,\n",
       "   117,\n",
       "   118,\n",
       "   119,\n",
       "   120,\n",
       "   121,\n",
       "   122,\n",
       "   123,\n",
       "   124,\n",
       "   126,\n",
       "   127,\n",
       "   128,\n",
       "   129,\n",
       "   130,\n",
       "   131,\n",
       "   132,\n",
       "   133,\n",
       "   135,\n",
       "   136,\n",
       "   138,\n",
       "   139,\n",
       "   140,\n",
       "   141,\n",
       "   142,\n",
       "   144,\n",
       "   146,\n",
       "   147,\n",
       "   148,\n",
       "   149,\n",
       "   150,\n",
       "   151,\n",
       "   152,\n",
       "   154,\n",
       "   155,\n",
       "   156,\n",
       "   157,\n",
       "   158,\n",
       "   159,\n",
       "   160,\n",
       "   161,\n",
       "   162,\n",
       "   164,\n",
       "   165,\n",
       "   166,\n",
       "   167,\n",
       "   168,\n",
       "   169,\n",
       "   170,\n",
       "   171,\n",
       "   173,\n",
       "   175,\n",
       "   176,\n",
       "   177,\n",
       "   178,\n",
       "   179,\n",
       "   181,\n",
       "   183,\n",
       "   184,\n",
       "   185,\n",
       "   186,\n",
       "   187,\n",
       "   188,\n",
       "   189,\n",
       "   190,\n",
       "   191,\n",
       "   192,\n",
       "   193,\n",
       "   194,\n",
       "   195,\n",
       "   196,\n",
       "   197,\n",
       "   198,\n",
       "   199,\n",
       "   200,\n",
       "   201,\n",
       "   202,\n",
       "   203,\n",
       "   204,\n",
       "   206,\n",
       "   208,\n",
       "   209,\n",
       "   210,\n",
       "   211,\n",
       "   213,\n",
       "   214,\n",
       "   215,\n",
       "   216,\n",
       "   217,\n",
       "   218,\n",
       "   219,\n",
       "   220,\n",
       "   221,\n",
       "   222,\n",
       "   223,\n",
       "   224,\n",
       "   225,\n",
       "   226,\n",
       "   227,\n",
       "   228,\n",
       "   230,\n",
       "   233,\n",
       "   234,\n",
       "   237,\n",
       "   238,\n",
       "   240,\n",
       "   242,\n",
       "   243,\n",
       "   245,\n",
       "   246,\n",
       "   247,\n",
       "   248,\n",
       "   250,\n",
       "   251,\n",
       "   252,\n",
       "   253,\n",
       "   254,\n",
       "   255,\n",
       "   256,\n",
       "   258,\n",
       "   260,\n",
       "   261,\n",
       "   262,\n",
       "   263,\n",
       "   264,\n",
       "   265,\n",
       "   266,\n",
       "   268,\n",
       "   269,\n",
       "   271,\n",
       "   272,\n",
       "   274,\n",
       "   275,\n",
       "   276,\n",
       "   277,\n",
       "   278,\n",
       "   279,\n",
       "   280,\n",
       "   281,\n",
       "   282,\n",
       "   283,\n",
       "   285,\n",
       "   286,\n",
       "   287,\n",
       "   288,\n",
       "   289,\n",
       "   290,\n",
       "   291,\n",
       "   292,\n",
       "   293,\n",
       "   294,\n",
       "   295,\n",
       "   297,\n",
       "   298,\n",
       "   299,\n",
       "   300,\n",
       "   301,\n",
       "   303,\n",
       "   304,\n",
       "   305,\n",
       "   306,\n",
       "   307,\n",
       "   308,\n",
       "   309,\n",
       "   311,\n",
       "   312,\n",
       "   313,\n",
       "   315,\n",
       "   316,\n",
       "   317,\n",
       "   318,\n",
       "   320,\n",
       "   321,\n",
       "   322,\n",
       "   323,\n",
       "   325,\n",
       "   326,\n",
       "   327,\n",
       "   328,\n",
       "   330,\n",
       "   331,\n",
       "   333,\n",
       "   334,\n",
       "   335,\n",
       "   336,\n",
       "   338,\n",
       "   339,\n",
       "   340,\n",
       "   341,\n",
       "   342,\n",
       "   343,\n",
       "   344,\n",
       "   345,\n",
       "   346,\n",
       "   347,\n",
       "   349,\n",
       "   350,\n",
       "   351,\n",
       "   352,\n",
       "   353,\n",
       "   354,\n",
       "   355,\n",
       "   357,\n",
       "   358,\n",
       "   359,\n",
       "   360,\n",
       "   362,\n",
       "   363,\n",
       "   364,\n",
       "   365,\n",
       "   366,\n",
       "   367,\n",
       "   368,\n",
       "   369,\n",
       "   370,\n",
       "   371,\n",
       "   372,\n",
       "   373,\n",
       "   374,\n",
       "   376,\n",
       "   379,\n",
       "   381,\n",
       "   382,\n",
       "   383,\n",
       "   385,\n",
       "   386,\n",
       "   387,\n",
       "   388,\n",
       "   389,\n",
       "   390,\n",
       "   392,\n",
       "   393,\n",
       "   395,\n",
       "   396,\n",
       "   397,\n",
       "   398,\n",
       "   399,\n",
       "   400,\n",
       "   401,\n",
       "   402,\n",
       "   403,\n",
       "   404,\n",
       "   405,\n",
       "   406,\n",
       "   408,\n",
       "   409,\n",
       "   411,\n",
       "   412,\n",
       "   413,\n",
       "   414,\n",
       "   415,\n",
       "   417,\n",
       "   418,\n",
       "   419,\n",
       "   420,\n",
       "   421,\n",
       "   422,\n",
       "   423,\n",
       "   424,\n",
       "   425,\n",
       "   426,\n",
       "   427,\n",
       "   428,\n",
       "   429,\n",
       "   430,\n",
       "   431,\n",
       "   432,\n",
       "   433,\n",
       "   434,\n",
       "   435,\n",
       "   436,\n",
       "   437,\n",
       "   438,\n",
       "   439,\n",
       "   441,\n",
       "   442,\n",
       "   443,\n",
       "   444,\n",
       "   445,\n",
       "   446,\n",
       "   447,\n",
       "   448,\n",
       "   449,\n",
       "   451,\n",
       "   452,\n",
       "   453,\n",
       "   454,\n",
       "   455,\n",
       "   456,\n",
       "   457,\n",
       "   458,\n",
       "   459,\n",
       "   460,\n",
       "   461,\n",
       "   462,\n",
       "   463,\n",
       "   464,\n",
       "   466,\n",
       "   468,\n",
       "   469,\n",
       "   470,\n",
       "   471,\n",
       "   473,\n",
       "   475,\n",
       "   476,\n",
       "   477,\n",
       "   478,\n",
       "   479,\n",
       "   480,\n",
       "   481,\n",
       "   483,\n",
       "   484,\n",
       "   486,\n",
       "   488,\n",
       "   489,\n",
       "   491,\n",
       "   492,\n",
       "   493,\n",
       "   494,\n",
       "   495,\n",
       "   496,\n",
       "   497,\n",
       "   498,\n",
       "   499],\n",
       "  'MWS_FIBERID': [3,\n",
       "   40,\n",
       "   41,\n",
       "   42,\n",
       "   43,\n",
       "   44,\n",
       "   69,\n",
       "   84,\n",
       "   95,\n",
       "   99,\n",
       "   116,\n",
       "   125,\n",
       "   137,\n",
       "   153,\n",
       "   174,\n",
       "   205,\n",
       "   207,\n",
       "   212,\n",
       "   229,\n",
       "   232,\n",
       "   235,\n",
       "   249,\n",
       "   257,\n",
       "   314,\n",
       "   319,\n",
       "   324,\n",
       "   332,\n",
       "   337,\n",
       "   348,\n",
       "   361,\n",
       "   375,\n",
       "   384,\n",
       "   407,\n",
       "   465,\n",
       "   490],\n",
       "  'STAR_FIBERID': [3, 116, 125, 229, 236, 391],\n",
       "  'SNR_MAG_TGT': [[array([ 1.26972807,  2.17590167,  0.62049838,  0.96859037,  0.56081682,\n",
       "            2.35305762,  0.57595781,  5.05377267,  0.72651043,  1.87220977,\n",
       "            0.67788871,  1.38790495,  0.83427601,  0.69772785,  1.00442043,\n",
       "            1.52701248,  0.5811326 ,  2.40550188,  1.56572001,  1.07223095,\n",
       "            0.89465127,  0.57660103,  1.58964332,  0.59771452,  1.70139868,\n",
       "            0.91913138,  2.01787203,  1.03836718,  1.92741146,  1.35047508,\n",
       "            1.5408653 ,  2.01281934,  2.21866037,  1.39096094,  2.11125625,\n",
       "            1.11336551,  1.08872223,  1.81248197,  1.20249251,  2.53874141,\n",
       "            6.03319646,  1.9731715 ,  0.69743271,  1.00971554,  1.11008096,\n",
       "            0.75143114,  0.73124182,  0.73263327,  0.88272496,  1.87619151,\n",
       "            1.10257995,  1.49312505,  0.86258541,  1.88659145,  0.79765053,\n",
       "            2.67333542,  0.79977538,  0.61272761,  1.08530297,  7.69444142,\n",
       "            0.63697917,  2.81774076,  1.05727423,  1.1882377 ,  1.39138014,\n",
       "            2.46721703,  0.59808958,  1.23276243,  0.93740088,  0.78402838,\n",
       "            1.05192537,  0.91404942,  0.8925529 ,  2.43540743,  2.5403883 ,\n",
       "            1.49401216,  2.23567555,  1.58865181,  0.82939279,  0.74584817,\n",
       "            0.74367444,  1.14868911,  0.82329752,  1.46920474,  3.00266143,\n",
       "            0.91068928,  0.59738015,  0.90514006,  0.95449181,  3.14227035,\n",
       "            0.52451167,  1.15383004,  1.43640946,  9.22833113,  0.9759947 ,\n",
       "            0.92776847,  0.7234206 ,  0.66314211,  0.75287857,  2.29953558,\n",
       "            0.95425793,  0.99371148, 12.22497591,  1.36299755,  1.2998092 ,\n",
       "           28.22092185,  1.06928855,  1.46073096,  0.97327106,  0.9375073 ,\n",
       "            1.74287958,  1.74779736,  0.96254757,  0.56166181,  1.97698646,\n",
       "            1.03663483,  1.11199095,  0.91254759, 20.34655781,  4.62772867,\n",
       "            0.70725972,  0.96615207,  1.13359244,  0.8086263 ,  1.21934062,\n",
       "            2.32573657,  2.61148448,  1.56254788, 25.63798668,  1.0757169 ,\n",
       "            0.77962713,  1.63639395,  2.67059525,  1.06639836,  0.99186786,\n",
       "            3.45523535,  1.22043595,  1.36650125,  2.78360962,  0.89842837,\n",
       "            2.50953805,  0.6469071 ,  4.81549866,  0.93197047,  0.83718155,\n",
       "            0.58223019,  1.00258505,  1.07354626,  0.75925575,  0.84273285,\n",
       "            1.0061822 ,  1.20008874,  1.08508009,  1.77489437,  1.75546366,\n",
       "            0.57959356,  1.77159393,  1.32215683,  1.19788168,  0.68182157,\n",
       "            3.30334696,  1.08366147,  1.13748832,  2.29712435,  6.54993731,\n",
       "            1.51876068,  1.19314486,  4.82538512,  0.60105309,  0.89718166,\n",
       "            0.47286055,  5.07084722,  0.79065233,  1.05670661,  0.60596319,\n",
       "            1.01472389,  0.84464557,  0.58221817,  0.75153083,  0.88201588,\n",
       "            1.27134514,  0.77416351,  1.32248514,  2.4293646 ,  1.31515776,\n",
       "            1.2000934 ,  0.63816537,  0.95305485,  2.34765483,  3.90106805,\n",
       "           13.04315362,  0.57247014,  0.6295751 ,  1.88256995,  0.98874156,\n",
       "            0.74755045,  2.16409486,  0.97337948,  0.92417292,  0.67568067,\n",
       "            2.17898708,  0.81301292,  1.1222862 ,  0.70033102,  1.60253833,\n",
       "            0.61155101,  0.77794534,  4.84081249,  0.60968146, 13.66818953,\n",
       "            0.55440535,  4.04708643,  1.29614391,  1.10305714,  0.70398159,\n",
       "            5.19906036,  0.64001802,  1.40347563,  1.1411512 ,  6.09851291,\n",
       "            0.56531306,  0.90782735,  1.14474304,  0.63451864,  1.24899787,\n",
       "            1.3579566 ,  0.58761687,  0.89667138,  0.88738422,  0.93109688,\n",
       "            0.93977337,  2.66051253,  0.82026261,  0.66509817,  0.66009362,\n",
       "            0.81695079,  1.08919447,  1.12954547,  1.10179454,  0.76344493,\n",
       "            2.28541127,  1.70930543,  0.62391476,  0.67707179,  4.2159392 ,\n",
       "            1.09302931,  2.72089182,  0.83270715,  1.47262851,  0.80633309,\n",
       "            0.70658909,  0.77456791,  3.09170384,  1.39284145,  0.91679012,\n",
       "            0.81237249,  1.43687242,  0.59561005,  0.76272149,  0.61169192,\n",
       "            0.79203253,  4.51260435,  1.54797302,  1.11373456,  1.32645573,\n",
       "            0.96290595,  1.46655071,  0.7787443 ,  9.07531697,  0.72361531,\n",
       "            0.53468662,  1.09470703,  1.24541532,  1.11705083,  1.84078944,\n",
       "            4.07833983,  1.06183212,  0.66919362,  0.60299248,  0.87759157,\n",
       "            2.63568304,  1.24126589,  0.5879902 , 19.6409358 ,  1.86981368,\n",
       "            2.31185829,  1.42651821,  1.04473683,  1.39019807,  0.74195457,\n",
       "            2.6772707 ,  1.3379898 ,  2.62061316,  2.26160305,  1.25996542,\n",
       "            0.7179263 ,  0.89701618,  1.66287194,  0.86103023,  0.96469899,\n",
       "            1.07450461,  2.57891017,  1.30735963,  1.27673494,  1.32080646,\n",
       "            1.02761964,  1.06585507,  1.09656276,  1.81607384,  0.8643418 ,\n",
       "            1.20284831, 15.09584634,  0.77295391,  0.60490265,  1.0390639 ,\n",
       "            1.88116973,  3.92709742,  0.67409292,  3.49539425,  0.82936272,\n",
       "            1.400882  ,  1.23059304,  0.81125395,  3.70118669,  1.09541667,\n",
       "            0.6997583 ,  0.97808785,  1.29529094,  0.71743891,  1.25765598,\n",
       "            0.59636951,  1.46444176,  0.97113166,  5.14108333,  2.37968035,\n",
       "            1.24520438,  0.55538731,  0.86942874,  1.19696567,  0.85627201,\n",
       "            0.71857551,  1.4493346 ,  1.35638575,  1.26237493,  0.72518587,\n",
       "            7.20508118,  0.68025664,  1.92326554,  1.11248388,  1.24431389,\n",
       "            5.20279964,  3.83373368,  0.79174207,  1.42266908,  0.95666337,\n",
       "            1.2518954 ,  1.65494766,  1.68187219,  1.08498303,  0.88288892,\n",
       "            2.83750478,  3.41165025,  0.91432316,  1.00057118,  6.62869715,\n",
       "            3.41106005,  1.12160488,  0.81589432,  0.68450149,  1.53623957,\n",
       "            1.47580135,  2.06701251,  1.32593857,  1.50128815,  0.68830398,\n",
       "            4.40433217,  0.60701578, 10.18942111,  2.29735758,  0.67117538,\n",
       "            0.54723635,  1.69057451,  0.76727285,  1.01691047,  0.66171981,\n",
       "            2.59814257,  1.26877243,  0.58235746,  0.90920211,  1.27963363,\n",
       "            0.61003673,  0.98825916,  0.7678176 ,  0.70254632,  0.78179345,\n",
       "            0.84541272,  1.02988298,  3.68847681,  1.29447342,  1.0434804 ,\n",
       "            2.4699696 ,  1.69015476,  1.42415966,  0.89915045,  0.61764967,\n",
       "            1.50337108,  2.52100349,  1.56150017,  1.42483571,  0.95961166,\n",
       "            0.96944865,  0.87353652,  1.91826751,  7.51058909,  1.88857745,\n",
       "            1.25900226,  1.72564414,  0.5505514 ,  1.07613293,  0.59492757,\n",
       "            0.99663245]),\n",
       "    array([19.02585602, 18.37528229, 19.96170425, 19.28837585, 19.90334511,\n",
       "           18.3024292 , 19.93042564, 17.46370506, 19.63996506, 18.69258308,\n",
       "           19.83349609, 18.97314644, 19.49114609, 19.68507957, 19.32102585,\n",
       "           18.85380936, 19.95762825, 18.28018951, 18.78056335, 19.06125259,\n",
       "           19.42892075, 19.86946678, 18.83960533, 19.8884182 , 18.69223404,\n",
       "           19.39642334, 18.54189873, 19.32948875, 18.6133709 , 18.96038818,\n",
       "           18.84384537, 18.54867744, 18.40106964, 18.92353439, 18.39035034,\n",
       "           19.17391396, 19.22312927, 18.65141296, 19.0867939 , 18.28919983,\n",
       "           17.20970917, 18.5766201 , 19.75102234, 19.37359428, 19.22176743,\n",
       "           19.62893295, 19.65804863, 19.66373825, 19.5050106 , 18.67006111,\n",
       "           19.27321625, 18.87405205, 19.48253822, 18.6215992 , 19.73865891,\n",
       "           18.20654678, 19.67691422, 19.8511467 , 19.26177597, 16.90985298,\n",
       "           19.80193901, 18.17733002, 19.25011826, 19.09357262, 18.99607849,\n",
       "           18.23481369, 19.88979149, 19.12812042, 19.45681572, 19.65327644,\n",
       "           19.3262291 , 19.48224449, 19.42223167, 18.36665344, 18.32665443,\n",
       "           18.86842346, 18.41991425, 18.80953979, 19.56783104, 19.69634247,\n",
       "           19.67436981, 19.17451668, 19.53918076, 18.92341232, 17.93514061,\n",
       "           19.47578621, 19.84726143, 19.40258789, 19.33056641, 18.00400925,\n",
       "           19.98164368, 19.22213936, 18.90309906, 16.68536758, 19.39754486,\n",
       "           19.25256348, 19.67032433, 19.72683716, 19.65601158, 18.35337639,\n",
       "           19.36165619, 19.2338047 , 16.23211479, 18.90672874, 19.09461975,\n",
       "           14.75372124, 19.19659042, 18.87508774, 19.36667252, 19.41581154,\n",
       "           18.66459656, 18.56985474, 19.41011429, 19.91676521, 18.5819664 ,\n",
       "           19.21373558, 19.16516304, 19.42998695, 15.39568043, 17.5706749 ,\n",
       "           19.78184319, 19.3116684 , 19.26878166, 19.58850479, 19.21077156,\n",
       "           18.34786224, 18.25149727, 18.84706879, 14.86384487, 19.26039124,\n",
       "           19.63065529, 18.74588394, 18.16530609, 19.25104904, 19.36763573,\n",
       "           17.91206551, 19.07015228, 18.99073029, 18.11285019, 19.3190155 ,\n",
       "           18.28740692, 19.92570305, 17.48013306, 19.46211624, 19.45101738,\n",
       "           19.89003944, 19.29998398, 19.31361389, 19.57494926, 19.57663345,\n",
       "           19.33212852, 19.07642174, 19.1377182 , 18.65120316, 18.64005089,\n",
       "           19.90209389, 18.67228699, 18.97650337, 19.16959763, 19.81265259,\n",
       "           17.94017982, 19.24473763, 19.21069717, 18.28105164, 17.06841278,\n",
       "           18.88510513, 19.01151657, 17.50766945, 19.95821381, 19.47216034,\n",
       "           19.95886993, 17.44968605, 19.55012321, 19.33662987, 19.81097221,\n",
       "           19.32142448, 19.61678314, 19.95284462, 19.63175201, 19.45681381,\n",
       "           19.06089783, 19.60706329, 19.02233505, 18.32032204, 19.01916122,\n",
       "           19.16783905, 19.74108887, 19.4421196 , 18.36860275, 17.73021317,\n",
       "           16.10132408, 19.90735245, 19.94624329, 18.61911774, 19.34127045,\n",
       "           19.75250244, 18.49196815, 19.42146683, 19.48563385, 19.70751572,\n",
       "           18.43535995, 19.47427177, 19.28191757, 19.68095398, 18.77926064,\n",
       "           19.80548477, 19.62747383, 17.51544571, 19.9276638 , 16.04481697,\n",
       "           19.94393539, 17.68927193, 18.98890305, 19.17471695, 19.74906158,\n",
       "           17.43394661, 19.71801567, 18.86793327, 19.14691734, 17.15376854,\n",
       "           19.93725014, 19.44672775, 19.19227982, 19.91692734, 19.09634209,\n",
       "           19.00087547, 19.86622429, 19.43544197, 19.40943527, 19.39001465,\n",
       "           19.40768051, 18.21182442, 19.50948143, 19.79802895, 19.82491302,\n",
       "           19.63192177, 19.29569244, 19.13805008, 19.187994  , 19.64437675,\n",
       "           18.32467079, 18.75434685, 19.88961411, 19.71665192, 17.60559654,\n",
       "           19.27415848, 18.14982986, 19.4654541 , 18.77206993, 19.67048454,\n",
       "           19.70063972, 19.67711067, 17.99891663, 18.92898369, 19.52836227,\n",
       "           19.46711922, 18.91856003, 19.92026329, 19.48844528, 19.82770157,\n",
       "           19.47702026, 17.56485176, 18.80033302, 19.19445229, 19.00814819,\n",
       "           19.39395332, 18.82940483, 19.46800804, 16.63755798, 19.69956017,\n",
       "           19.90283585, 19.20687294, 19.10037994, 19.19062233, 18.61691284,\n",
       "           17.59680939, 19.31537628, 19.74539948, 19.83052826, 19.49326324,\n",
       "           18.18977737, 19.06858063, 19.78283882, 15.45697784, 18.61101151,\n",
       "           18.39647675, 18.99407387, 19.26724052, 18.88526154, 19.58703041,\n",
       "           18.24728584, 18.86412811, 18.24328041, 18.4617157 , 19.28412819,\n",
       "           19.61593819, 19.50940895, 18.77975845, 19.4385643 , 19.34858894,\n",
       "           19.22141647, 18.20676613, 19.03937912, 19.09036827, 19.09307861,\n",
       "           19.33312988, 19.23493195, 19.29690742, 18.64606476, 19.61823273,\n",
       "           19.06048203, 15.85453033, 19.51375961, 19.79119301, 19.30954742,\n",
       "           18.5990963 , 17.76710892, 19.76607323, 17.95947456, 19.58015823,\n",
       "           19.03371429, 19.11451149, 19.60565948, 17.84196091, 19.24219513,\n",
       "           19.76653671, 19.40920639, 19.08250427, 19.80010796, 19.03643417,\n",
       "           19.94432831, 18.92023468, 19.50065231, 17.41545296, 18.3504715 ,\n",
       "           19.14707565, 19.91009521, 19.37823296, 19.18278885, 19.47515488,\n",
       "           19.9721489 , 18.90051079, 18.94780922, 19.07262421, 19.62919998,\n",
       "           16.98938942, 19.82618713, 18.49022484, 19.19078636, 19.15082359,\n",
       "           17.3649559 , 17.78341484, 19.59993744, 18.82865906, 19.46687698,\n",
       "           19.02100754, 18.7381134 , 18.76911926, 19.24415398, 19.42922783,\n",
       "           18.15967941, 17.87571335, 19.38920975, 19.35650444, 17.08433342,\n",
       "           17.92181015, 19.18030357, 19.55492973, 19.85429955, 18.80330276,\n",
       "           18.84425735, 18.4442997 , 18.9824543 , 18.91791725, 19.69198608,\n",
       "           17.61923599, 19.8689537 , 16.43466568, 18.33710861, 19.74040794,\n",
       "           19.89342117, 18.73808098, 19.44540787, 19.26710129, 19.83466148,\n",
       "           18.21761703, 19.02593994, 19.94324493, 19.41190338, 18.95928574,\n",
       "           19.81473541, 19.35796738, 19.51640701, 19.64758873, 19.4907856 ,\n",
       "           19.46386337, 19.34333801, 17.93719864, 19.01152229, 19.26155663,\n",
       "           18.3020153 , 18.80558777, 18.96256065, 19.41045189, 19.78953934,\n",
       "           18.84627914, 18.2272892 , 18.80686188, 18.90115356, 19.45186043,\n",
       "           19.43139267, 19.53004456, 18.60270882, 16.77804184, 18.60056305,\n",
       "           19.07050896, 18.72581291, 19.91730499, 19.31763458, 19.92845154,\n",
       "           19.29959106])],\n",
       "   [array([36.30537868, 24.86020281, 10.38230876, 32.67783769, 33.2815424 ,\n",
       "            4.5140362 , 12.34638496,  9.53886537,  7.75536495, 18.1460261 ,\n",
       "           23.84170222, 29.0258725 ,  7.52056404, 17.91136955, 29.9246824 ,\n",
       "           25.79397185,  6.2816635 , 10.29540769, 13.53995294, 24.10691699,\n",
       "            7.27773351, 22.29217379,  7.33758885,  8.1411276 , 19.88523375,\n",
       "            9.9291031 ,  8.60308239, 14.42511978, 92.01751013, 34.26855355,\n",
       "           10.63093572, 16.13590933, 11.99527862, 15.17164531, 15.3778362 ]),\n",
       "    array([16.15272903, 16.95337677, 18.3589592 , 16.38887978, 16.32695961,\n",
       "           19.41786385, 18.10763168, 18.53322983, 18.85227776, 17.48705292,\n",
       "           17.01091576, 16.64528656, 18.71769524, 17.46753311, 16.54672813,\n",
       "           16.90359497, 18.95350075, 18.4781189 , 17.98470306, 16.91498947,\n",
       "           18.9051075 , 17.21227646, 18.88096046, 18.68281937, 17.31291962,\n",
       "           18.43130875, 18.69026375, 17.85940552, 13.78621292, 16.35424614,\n",
       "           18.43707848, 17.71364975, 18.08499336, 17.79080582, 17.84234047])],\n",
       "   [array([36.30537868, 23.84170222, 29.0258725 , 13.53995294, 53.24777737,\n",
       "           48.59910005]),\n",
       "    array([16.15272903, 17.01091576, 16.64528656, 17.98470306, 15.3153286 ,\n",
       "           15.59442902])]],\n",
       "  'FITCOEFF_TGT': [[0.0025196353479971494, 0.5935876539747643],\n",
       "   [0.010709968002555787, 0.07231594745179792],\n",
       "   [0.013504419309971392, 0.2775991180132612]],\n",
       "  'OBJLIST': ['BGS', 'MWS', 'STAR']},\n",
       " [])"
      ]
     },
     "execution_count": 83,
     "metadata": {},
     "output_type": "execute_result"
    }
   ],
   "source": [
    "qadict"
   ]
  },
  {
   "cell_type": "markdown",
   "metadata": {},
   "source": [
    "----"
   ]
  },
  {
   "cell_type": "code",
   "execution_count": 22,
   "metadata": {},
   "outputs": [
    {
     "data": {
      "text/plain": [
       "1500"
      ]
     },
     "execution_count": 22,
     "metadata": {},
     "output_type": "execute_result"
    }
   ],
   "source": [
    "np.array(s2n_dict['MAGNITUDES']).size"
   ]
  },
  {
   "cell_type": "code",
   "execution_count": 21,
   "metadata": {},
   "outputs": [
    {
     "data": {
      "text/plain": [
       "500"
      ]
     },
     "execution_count": 21,
     "metadata": {},
     "output_type": "execute_result"
    }
   ],
   "source": [
    "np.array(s2n_dict['MEDIAN_SNR']).size"
   ]
  }
 ],
 "metadata": {
  "kernelspec": {
   "display_name": "Python 3",
   "language": "python",
   "name": "python3"
  },
  "language_info": {
   "codemirror_mode": {
    "name": "ipython",
    "version": 3
   },
   "file_extension": ".py",
   "mimetype": "text/x-python",
   "name": "python",
   "nbconvert_exporter": "python",
   "pygments_lexer": "ipython3",
   "version": "3.7.3"
  }
 },
 "nbformat": 4,
 "nbformat_minor": 2
}
