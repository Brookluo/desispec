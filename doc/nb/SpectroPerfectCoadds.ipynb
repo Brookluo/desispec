{
 "metadata": {
  "name": "",
  "signature": "sha256:fb8bacbfabe5c884dc5b505007c61bf1de2db565dbec5db6eb995cb83d8582cc"
 },
 "nbformat": 3,
 "nbformat_minor": 0,
 "worksheets": [
  {
   "cells": [
    {
     "cell_type": "heading",
     "level": 1,
     "metadata": {},
     "source": [
      "Co-Addition of Spectroperfect Reductions"
     ]
    },
    {
     "cell_type": "markdown",
     "metadata": {},
     "source": [
      "My notes on what spectroperfectionism provides as input for coaddition and tests of the coadd algorithm."
     ]
    },
    {
     "cell_type": "heading",
     "level": 2,
     "metadata": {},
     "source": [
      "Initialization"
     ]
    },
    {
     "cell_type": "code",
     "collapsed": false,
     "input": [
      "%pylab inline"
     ],
     "language": "python",
     "metadata": {},
     "outputs": [
      {
       "output_type": "stream",
       "stream": "stdout",
       "text": [
        "Populating the interactive namespace from numpy and matplotlib\n"
       ]
      }
     ],
     "prompt_number": 1
    },
    {
     "cell_type": "code",
     "collapsed": false,
     "input": [
      "import sys\n",
      "import copy"
     ],
     "language": "python",
     "metadata": {},
     "outputs": [],
     "prompt_number": 2
    },
    {
     "cell_type": "code",
     "collapsed": false,
     "input": [
      "import scipy.linalg\n",
      "import scipy.interpolate"
     ],
     "language": "python",
     "metadata": {},
     "outputs": [],
     "prompt_number": 3
    },
    {
     "cell_type": "code",
     "collapsed": false,
     "input": [
      "import galsim"
     ],
     "language": "python",
     "metadata": {},
     "outputs": [],
     "prompt_number": 4
    },
    {
     "cell_type": "heading",
     "level": 2,
     "metadata": {},
     "source": [
      "Toy Simulation Tests"
     ]
    },
    {
     "cell_type": "heading",
     "level": 3,
     "metadata": {},
     "source": [
      "Source Spectrum"
     ]
    },
    {
     "cell_type": "markdown",
     "metadata": {},
     "source": [
      "Use 2 Angstrom binning for the true SED."
     ]
    },
    {
     "cell_type": "code",
     "collapsed": false,
     "input": [
      "wlen = np.linspace(5000.,6000.,501,endpoint=True)"
     ],
     "language": "python",
     "metadata": {},
     "outputs": [],
     "prompt_number": 5
    },
    {
     "cell_type": "markdown",
     "metadata": {},
     "source": [
      "Create a unit-area Gaussian line:"
     ]
    },
    {
     "cell_type": "code",
     "collapsed": false,
     "input": [
      "def line(wlen,wlen0,sigma):\n",
      "    # Allow for non-uniform wavelength binning.\n",
      "    dwlen = np.empty_like(wlen)\n",
      "    dwlen[:-1] = np.diff(wlen)\n",
      "    dwlen[-1] = dwlen[-2]\n",
      "    return dwlen*np.exp(-0.5*((wlen-wlen0)/sigma)**2)/(np.sqrt(2*np.pi)*sigma)"
     ],
     "language": "python",
     "metadata": {},
     "outputs": [],
     "prompt_number": 6
    },
    {
     "cell_type": "code",
     "collapsed": false,
     "input": [
      "assert 1.==np.sum(line(wlen,5500.,25.)),'line() is not correctly normalized.'"
     ],
     "language": "python",
     "metadata": {},
     "outputs": [],
     "prompt_number": 7
    },
    {
     "cell_type": "markdown",
     "metadata": {},
     "source": [
      "Combine a slowly varying continuum with two emission lines. The second line is chosen to be below the detector resolution."
     ]
    },
    {
     "cell_type": "code",
     "collapsed": false,
     "input": [
      "sed = (5.-0.5*((wlen-wlen[0])/(wlen[-1]-wlen[0]))**2 +\n",
      "    300.*line(wlen,5325.,50.) + 30.*line(wlen,5700.,5.))"
     ],
     "language": "python",
     "metadata": {},
     "outputs": [],
     "prompt_number": 8
    },
    {
     "cell_type": "code",
     "collapsed": false,
     "input": [
      "plt.fill_between(wlen,sed,facecolor=(0,0,1,0.25),color='k');\n",
      "plt.xlabel('Wavelength (Angstrom)')\n",
      "plt.ylabel('Flux (arb.units / Angstrom / second)');"
     ],
     "language": "python",
     "metadata": {},
     "outputs": [
      {
       "metadata": {},
       "output_type": "display_data",
       "png": "[encoded data removed]",
       "text": [
        "<matplotlib.figure.Figure at 0x10d433590>"
       ]
      }
     ],
     "prompt_number": 9
    },
    {
     "cell_type": "heading",
     "level": 3,
     "metadata": {},
     "source": [
      "Detector Response"
     ]
    },
    {
     "cell_type": "markdown",
     "metadata": {},
     "source": [
      "Build simple models of fiber optics and a focal plane CCD for toy studies."
     ]
    },
    {
     "cell_type": "code",
     "collapsed": false,
     "input": [
      "class Fiber(object):\n",
      "    \"\"\"\n",
      "    A simple model for the optics of a single fiber illuminating the focal plane.\n",
      "    \n",
      "    The PSF is modeled as an elliptical Gaussian core and a circular Moffat (beta=3) tail.\n",
      "    Each constructor arg can be provided a either a constant value or else a tuple (begin,end)\n",
      "    of values that are linearly interpolated along the trace in the direction of increasing\n",
      "    wavelength. Linear dimensions for all parameters are in dimensionless units where [0,1]\n",
      "    gives the full width (in the nominal wavelength direction) of the focal plane.\n",
      "    \n",
      "    Args:\n",
      "        x: focal-plane position of the trace in the nominal wavelength direction, in\n",
      "            dimensionless units.\n",
      "        y: focal-plane position of the trace in the nominal fiber-number direction, in\n",
      "            dimensionless units.\n",
      "        sigma: Sigma for the Gaussian PSF in dimensionless units.\n",
      "        ellipticity: ratio of the PSF ellipse minor to major axes lengths.\n",
      "        angle: clockwise rotation of the PSF ellipse major axes from the +x direction\n",
      "            in degrees.\n",
      "        tail_fraction: fraction of flux in the PSF tail component.\n",
      "        tail_size: scale parameter for the PSF tail component in dimensionless units.\n",
      "    \"\"\"\n",
      "    def __init__(self,x,y,sigma,ellipticity,angle,tail_fraction=0.1,tail_size=0.2):\n",
      "        self.x = self._param(x)\n",
      "        self.y = self._param(y)\n",
      "        self.sigma = self._param(sigma)\n",
      "        self.ellipticity = self._param(ellipticity)\n",
      "        self.angle = self._param(angle)\n",
      "        self.tail_fraction = self._param(tail_fraction)\n",
      "        self.tail_size = self._param(tail_size)\n",
      "    \n",
      "    def get_psf(self,t):\n",
      "        \"\"\"\n",
      "        Calculates the normalized PSF at one point along the trace. The PSF centroid\n",
      "        and size are in dimensionless units where [0,1] gives the full width of the\n",
      "        focal plane.\n",
      "        \"\"\"\n",
      "        frac = self.tail_fraction(t)\n",
      "        return galsim.Add(\n",
      "            galsim.Gaussian(flux = 1-frac,sigma = self.sigma(t))\n",
      "                .shear(q = self.ellipticity(t),beta = self.angle(t)*galsim.degrees),\n",
      "            galsim.Moffat(flux = frac,beta = 3,scale_radius = self.tail_size(t))\n",
      "            ).shift(dx = self.x(t),dy = self.y(t))\n",
      "    \n",
      "    def offset(self,dy):\n",
      "        fiber = copy.copy(self)\n",
      "        fiber.y = lambda t: self.y(t)+dy\n",
      "        return fiber\n",
      "    \n",
      "    @staticmethod\n",
      "    def _param(p):\n",
      "        \"\"\"\n",
      "        Returns a function of the dimensionless trace position 0 <= t <= 1 that is\n",
      "        either constant or linearly interpolated.\n",
      "        \"\"\"\n",
      "        if isinstance(p,tuple):\n",
      "            p1,p2 = p\n",
      "            dp = p2-p1\n",
      "            return lambda t: p1+dp*t\n",
      "        else:\n",
      "            return lambda t: p"
     ],
     "language": "python",
     "metadata": {},
     "outputs": [],
     "prompt_number": 10
    },
    {
     "cell_type": "code",
     "collapsed": false,
     "input": [
      "class Detector(object):\n",
      "    \"\"\"\n",
      "    A simple model for the 2D response of a multi-fiber spectrograph.\n",
      "    \n",
      "    Args:\n",
      "        fibers(iterable): fibers illuminating the focal plane.\n",
      "        min_wlen(float): wavelength corresponding to start of each trace in Angstroms.\n",
      "        max_wlen(float): wavelength corresponding to end of each trace in Angstroms.\n",
      "        num_wlen_bins(int): number of wavelength bins along each trace used to calculate\n",
      "            the detector response matrix.\n",
      "        flux_calib(float): calibration factor that converts from flux units to total\n",
      "            detected electrons per unit time on the CCD.\n",
      "        threshold(float): used to determine the mask of relevant pixels for each fiber.\n",
      "        ccd_width(int): width of simulated CCD in pixels.\n",
      "        ccd_height(int): height of simulated CCD in pixels.\n",
      "        mean_dark_current(float): Mean dark current per pixel in units of electrons\n",
      "            per unit time.\n",
      "        readout_noise_rms(float): RMS Gaussian noise of the readout in electron units.\n",
      "    \"\"\"\n",
      "    def __init__(self,fibers,min_wlen=5000.,max_wlen=6000.,num_wlen_bins=81,\n",
      "                 flux_calib=200.,threshold=5e-3,ccd_width=100,ccd_height=40,\n",
      "                 mean_dark_current=0.05,readout_noise_rms=0.1):\n",
      "        self.fibers = fibers\n",
      "        self.flux_calib = flux_calib\n",
      "        dwlen = (max_wlen - min_wlen)/num_wlen_bins\n",
      "        self.min_wlen = min_wlen\n",
      "        self.max_wlen = max_wlen\n",
      "        self.wlen = 0.5*dwlen + np.linspace(min_wlen,max_wlen,num_wlen_bins,endpoint=False)\n",
      "        self.ccd = galsim.Image(ccd_width,ccd_height,scale = 1./ccd_width)\n",
      "        self.mean_dark_current = mean_dark_current\n",
      "        self.readout_noise_rms = readout_noise_rms\n",
      "        # Calculate the response matrix for each fiber.\n",
      "        responses = np.empty((len(fibers),num_wlen_bins,ccd_height*ccd_width))\n",
      "        dx,dy = -0.5,-0.5*ccd_height/ccd_width\n",
      "        for i,fiber in enumerate(self.fibers):\n",
      "            for j in range(num_wlen_bins):\n",
      "                t = (j+0.5)/num_wlen_bins\n",
      "                # Factor of dwlen/wlen converts from flux/Angstrom/sec to photons/sec.\n",
      "                psf = self.flux_calib*dwlen/self.wlen[j]*fiber.get_psf(t).shift(dx,dy)\n",
      "                psf.drawImage(image = self.ccd)\n",
      "                responses[i,j] = self.ccd.array.flat\n",
      "        # Assign pixels to each fiber.\n",
      "        relevance = np.sum(responses,axis=1)\n",
      "        above_threshold = (relevance > threshold*np.max(relevance,axis=1)[:,np.newaxis])\n",
      "        priority = np.argsort(relevance,axis=0)\n",
      "        highest_priority = (priority[-1] == np.arange(len(fibers))[:,np.newaxis])\n",
      "        self.masks = above_threshold & highest_priority\n",
      "        # Transpose and trim each fiber's response matrix to its pixel mask.\n",
      "        self.responses = [ ]\n",
      "        for i,mask in enumerate(self.masks):\n",
      "            self.responses.append(responses[i].T[mask])\n",
      "        # Reshape masks to the 2D CCD geometry.\n",
      "        self.masks = self.masks.reshape((len(fibers),ccd_height,ccd_width))\n",
      "    \n",
      "    def simulate(self,wlen,SEDs,exposure_time,oversampling=5):\n",
      "        \"\"\"\n",
      "        Simulate the mean detector response to the SEDs illuminating each fiber.\n",
      "        \n",
      "        Args:\n",
      "            wlen(numpy.ndarray): Array of wavelengths in Angstroms where the SEDs are tabulated.\n",
      "                SEDs are simulated as a sum of PSFs at the midpoints between each wavelength\n",
      "                in this array.\n",
      "            SEDs(iterable): A list of SEDs for each fiber. Each SED is represented by\n",
      "                a numpy array of fluxes per angstrom per second in arbitrary flux units.\n",
      "            exposure_time(float): Simulated exposure time in seconds.\n",
      "            oversampling(int): SED response is simulated as a sum of oversampling*num_wlen_bins\n",
      "                equally spaced PSFs along the fiber trace.\n",
      "        \n",
      "        Returns:\n",
      "            numpy.ndarray: Simulated mean CCD pixel values in units of detected electrons,\n",
      "                including the mean dark current.\n",
      "        \"\"\"\n",
      "        assert len(SEDs) == len(self.fibers),'Expected %d SEDs' % len(self.fibers)\n",
      "        # Initialize a CCD image with the mean dark current.\n",
      "        image = self.ccd.copy()\n",
      "        image.array[:] = exposure_time*self.mean_dark_current\n",
      "        h,w = image.array.shape\n",
      "        # Calculate oversampled wavelength grid.\n",
      "        num_samples = oversampling*len(self.wlen)\n",
      "        dw = (self.max_wlen - self.min_wlen)/num_samples\n",
      "        wvec = 0.5*dw + np.linspace(self.min_wlen,self.max_wlen,num_samples,endpoint = False)\n",
      "        tvec = (wvec - self.min_wlen)/(self.max_wlen - self.min_wlen)\n",
      "        SEDarray = np.empty((len(self.fibers),len(self.wlen)))\n",
      "        for i,fiber in enumerate(self.fibers):\n",
      "            # Build a linear interpolation of this fiber's SED.\n",
      "            SED_func = scipy.interpolate.interp1d(wlen,SEDs[i],kind='linear')\n",
      "            # Factor of dw/w converts from flux/Angstrom/sec to photons/sec.\n",
      "            flux_norm = exposure_time*self.flux_calib*dw/wvec*SED_func(wvec)\n",
      "            for j,t in enumerate(tvec):\n",
      "                psf = flux_norm[j]*fiber.get_psf(t).shift(-0.5,-0.5*h/w)\n",
      "                psf.drawImage(image = image,add_to_image = True)\n",
      "            # Resample this fiber's SED to our response wavelength grid.\n",
      "            SEDarray[i] = SED_func(self.wlen)\n",
      "        # Return a simulated exposure dictionary.\n",
      "        return { 'exptime': exposure_time, 'image': image.array,\n",
      "            'wlen_in': wlen, 'SEDs_in': SEDs, 'wlen_out': self.wlen, 'SEDs_out': SEDarray }\n",
      "    \n",
      "    def add_noise(self,mean_image,num_realizations,seed=123):\n",
      "        \"\"\"\n",
      "        Add random noise realizations to a simulated mean detector image.\n",
      "        \n",
      "        Includes both shot noise and readout noise.\n",
      "        \n",
      "        Args:\n",
      "            mean_image(numpy.ndarray): Mean CCD image in detected electrons, including\n",
      "                dark current, with shape (height,width).\n",
      "            num_realizations(int): Number of random noise realizations to generate.\n",
      "            seed(int): Random seed to use.\n",
      "        \"\"\"\n",
      "        assert mean_image.shape == self.ccd.array.shape,'Invalid mean_image shape'\n",
      "        h,w = self.ccd.array.shape\n",
      "        generator = np.random.RandomState(seed)\n",
      "        # Generate Poisson shot noise realizations.\n",
      "        noisy = generator.poisson(lam=mean_image,size=(num_realizations,h,w)).astype(float)\n",
      "        # Add readout noise.\n",
      "        noisy += generator.normal(scale=self.readout_noise_rms,size=(num_realizations,h,w))\n",
      "        return noisy"
     ],
     "language": "python",
     "metadata": {},
     "outputs": [],
     "prompt_number": 11
    },
    {
     "cell_type": "heading",
     "level": 2,
     "metadata": {},
     "source": [
      "Reduction and Coaddition Pipeline"
     ]
    },
    {
     "cell_type": "code",
     "collapsed": false,
     "input": [
      "class Reduction(object):\n",
      "    \"\"\"\n",
      "    Represents the results of a pipeline reduction for a single fiber.\n",
      "    \"\"\"\n",
      "    def __init__(self,wlen,flux,ivar,resolution,truth=None):\n",
      "        self.wlen = wlen\n",
      "        self.flux = flux\n",
      "        self.ivar = ivar\n",
      "        self.resolution = resolution\n",
      "        self.truth = truth\n",
      "        # Initialize the quantities we will accumulate during co-addition.\n",
      "        self.Cinv = resolution.T.dot(np.diag(ivar).dot(resolution))\n",
      "        self.Cinv_f = resolution.T.dot(np.diag(ivar).dot(flux))\n",
      "        \n",
      "    def __iadd__(self,other):\n",
      "        \"\"\"\n",
      "        Coadd this reduction with another reduction that uses the same wavelength grid.\n",
      "        \"\"\"\n",
      "        assert np.array_equal(self.wlen,other.wlen),'Cannot coadd different wavelength grids.'\n",
      "        # Accumulate weighted deconvolved fluxes.\n",
      "        self.Cinv += other.Cinv\n",
      "        self.Cinv_f += other.Cinv_f\n",
      "        # Recalculate the deconvolved solution and resolution.\n",
      "        self.ivar,self.resolution = Pipeline.decorrelate(self.Cinv)\n",
      "        R_it = scipy.linalg.inv(self.resolution.T)\n",
      "        self.flux = R_it.dot(self.Cinv_f)/self.ivar\n",
      "        return self"
     ],
     "language": "python",
     "metadata": {},
     "outputs": [],
     "prompt_number": 12
    },
    {
     "cell_type": "markdown",
     "metadata": {},
     "source": [
      "Implement the reduction algorithm described in Bolton & Schlegel 2009 (BS) http://arxiv.org/abs/0911.2689. The decorrelation algorithm that BS is based on was probably first used in cosmology by Hamilton & Tegmark 2000 http://arxiv.org/abs/astro-ph/9905192."
     ]
    },
    {
     "cell_type": "code",
     "collapsed": false,
     "input": [
      "class Pipeline(object):\n",
      "    \n",
      "    def __init__(self,detector):\n",
      "        self.detector = detector\n",
      "\n",
      "    @staticmethod\n",
      "    def decorrelate(Cinv):\n",
      "        \"\"\"\n",
      "        Implements the BS / HT decorrelation algorithm, which uses the matrix square root of Cinv\n",
      "        to form a diagonal basis.  This is generally a better choice than the eigenvector or\n",
      "        Cholesky bases since it leads to more localized basis vectors.\n",
      "\n",
      "        Args:\n",
      "            Cinv(numpy.ndarray): Square array of inverse covariance matrix elements. The matrix\n",
      "                is assumed to be positive definite but we do not check this.\n",
      "\n",
      "        Returns:\n",
      "            tuple: Tuple ivar,R of uncorrelated flux inverse variances and the corresponding\n",
      "                resulution matrix. These have shapes (nflux,) and (nflux,nflux) respectively.\n",
      "                The rows of R give the resolution-convolved responses to unit flux for each\n",
      "                wavelength bin.\n",
      "        \"\"\"\n",
      "        # Calculate the matrix square root of Cinv to diagonalize the flux errors.\n",
      "        L,X = scipy.linalg.eigh((Cinv+Cinv.T)/2.)\n",
      "        # Check that all eigenvalues are positive.\n",
      "        assert np.all(L > 0), 'Found some negative Cinv eigenvalues.'\n",
      "        # Check that the eigenvectors are orthonormal so that Xt.X = 1\n",
      "        assert np.allclose(np.identity(len(L)),X.T.dot(X))\n",
      "        Q = X.dot(np.diag(np.sqrt(L)).dot(X.T))\n",
      "        # Check BS eqn.10\n",
      "        assert np.allclose(Cinv,Q.dot(Q))\n",
      "        # Calculate the corresponding resolution matrix and diagonal flux errors.\n",
      "        s = np.sum(Q,axis=1)\n",
      "        R = Q/s[:,np.newaxis]\n",
      "        ivar = s**2\n",
      "        # Check BS eqn.14\n",
      "        assert np.allclose(Cinv,R.T.dot(np.diag(ivar).dot(R)))\n",
      "        return ivar,R\n",
      "    \n",
      "    @staticmethod\n",
      "    def deconvolve(pixel_values,pixel_ivar,response):\n",
      "        \"\"\"\n",
      "        Calculate the weighted linear least-squares flux solution for an observed trace.\n",
      "\n",
      "        Args:\n",
      "            pixel_values(numpy.ndarray): 1D array of dark-current subtracted observed image pixel\n",
      "                values in units of detected electrons. Only pixels within the relevance mask for\n",
      "                this fiber should be included here.\n",
      "            pixel_ivar(numpy.ndarray): Uncorrelated pixel inverse-variances to use for weighting.\n",
      "            response(numpy.ndarray): Linear response matrix that transforms a flux vector in\n",
      "                a vector of mean predicted pixel values.\n",
      "\n",
      "        Returns:\n",
      "            tuple: Tuple deconvolved,Cinv,best_fit of the deconvolved best-fit flux (which\n",
      "                will generally include high-frequency oscillations), the correlated\n",
      "                inverse-variance matrix for the decorrelated flux bins, and the best fit pixel\n",
      "                values (dark-current subtracted).\n",
      "        \"\"\"\n",
      "        # Calculate the flux inverse covariance for the deconvolved least-squares solution.\n",
      "        ATN = response.T.dot(np.diag(pixel_ivar))\n",
      "        Cinv = ATN.dot(response)\n",
      "        # Solve the linear least-squares problem.\n",
      "        deconvolved,res,rank,sing = scipy.linalg.lstsq(Cinv,ATN.dot(pixel_values))\n",
      "        if rank < len(deconvolved):\n",
      "            print 'WARNING: deconvolved inverse-covariance is not positive definite.'\n",
      "        # Calculate the best-fit pixel values.\n",
      "        best_fit = response.dot(deconvolved)\n",
      "        return deconvolved,Cinv,best_fit\n",
      "\n",
      "    def reduce(self,exposure,refit=True):\n",
      "        \"\"\"\n",
      "        Calculate the BS spectro-perfect reduction of the observed image for each fiber.\n",
      "        \n",
      "        Use two passes to reduce the bias in the ivar weighting due to statistical fluctuations.\n",
      "\n",
      "        Args:\n",
      "            exposure(dict): Dictionary of simulated exposure info.\n",
      "            refit(bool): Perform a second pass using best fit from first pass to improve ivar.\n",
      "\n",
      "        Returns:\n",
      "            list: A list of reduction objects for each fiber.\n",
      "        \"\"\"\n",
      "        image = exposure['image']\n",
      "        dark = exposure['exptime']*self.detector.mean_dark_current\n",
      "        noise_var = self.detector.readout_noise_rms**2\n",
      "        reductions = [ ]\n",
      "        for i,(response,mask) in enumerate(zip(self.detector.responses,self.detector.masks)):\n",
      "            pixel_values = image[mask] - dark\n",
      "            # Use the noisy pixel values for an initial estimate of the pixel inverse-variance.\n",
      "            pixel_ivar = (pixel_values + dark + noise_var)**-1\n",
      "            deconvolved,Cinv,best_fit = self.deconvolve(pixel_values,pixel_ivar,response)\n",
      "            if refit:\n",
      "                # Use the best-fit image for an improved (less biased) estimate of the pixel ivar.\n",
      "                pixel_ivar = (best_fit + dark + noise_var)**-1\n",
      "                deconvolved,Cinv,best_fit = self.deconvolve(pixel_values,pixel_ivar,response)\n",
      "            # Calculate the decorrelated errors and resolution matrix.\n",
      "            ivar,resolution = self.decorrelate(Cinv)\n",
      "            # Normalize to the exposure time to get fluxes.\n",
      "            ivar *= exposure['exptime']**2\n",
      "            deconvolved /= exposure['exptime']\n",
      "            # Convolve the reduced and true fluxes with the resolution.\n",
      "            flux = resolution.dot(deconvolved)\n",
      "            truth = resolution.dot(exposure['SEDs_out'][i])\n",
      "            # Save this reduction.\n",
      "            reductions.append(Reduction(self.detector.wlen,flux,ivar,resolution,truth))\n",
      "        return reductions"
     ],
     "language": "python",
     "metadata": {},
     "outputs": [],
     "prompt_number": 13
    },
    {
     "cell_type": "heading",
     "level": 2,
     "metadata": {},
     "source": [
      "Plot Utilities"
     ]
    },
    {
     "cell_type": "code",
     "collapsed": false,
     "input": [
      "def plot_response(detector,num_spots,save=None):\n",
      "    # Calculate the spot spacing in wavelength bins.\n",
      "    spot_spacing = (len(detector.wlen)-1)//(num_spots-1)\n",
      "    spot_image = np.zeros_like(detector.ccd.array)\n",
      "    mask_image = np.zeros_like(detector.ccd.array)\n",
      "    for i,(response,mask) in enumerate(zip(detector.responses,detector.masks)):\n",
      "        for spot in response.T[::spot_spacing]:\n",
      "            spot_image[mask] += spot\n",
      "        mask_image += (i+1)*mask\n",
      "    plt.figure(figsize=(7,8))\n",
      "    plt.subplot(2,1,1)\n",
      "    h,w = detector.ccd.array.shape\n",
      "    for fiber in detector.fibers:\n",
      "        plt.plot((w*fiber.x(0),w*fiber.x(1)),(w*fiber.y(0),w*fiber.y(1)),'k-')\n",
      "    assert len(detector.fibers) == 3,'Mask colormap is harded coded for 3 fibers.'\n",
      "    cmap = matplotlib.colors.ListedColormap(['lightgray','r','g','b'])\n",
      "    plt.imshow(mask_image,interpolation='none',origin='lower',cmap=cmap,vmin=-0.5,vmax=3.5)\n",
      "    plt.colorbar(orientation='horizontal',ticks=np.arange(4),\n",
      "        pad=0.1).set_label('Fiber number')\n",
      "    plt.axis('off')\n",
      "    plt.subplot(2,1,2)\n",
      "    plt.imshow(spot_image,interpolation='none',origin='lower')\n",
      "    plt.colorbar(orientation='horizontal',pad=0.1).set_label('Unit flux PSF spots')\n",
      "    plt.axis('off')\n",
      "    plt.tight_layout()\n",
      "    if save: plt.savefig(save)"
     ],
     "language": "python",
     "metadata": {},
     "outputs": [],
     "prompt_number": 14
    },
    {
     "cell_type": "code",
     "collapsed": false,
     "input": [
      "def pipeline_test(detector,simulated,num_exposures,save=None):\n",
      "    global redux1,redux2\n",
      "    wlen_out = simulated['wlen_out']\n",
      "    pipeline = Pipeline(detector)\n",
      "    noisy = detector.add_noise(simulated['image'],num_exposures);\n",
      "    exposure = copy.copy(simulated)\n",
      "    coadd = [ ]\n",
      "    #\n",
      "    plt.figure(figsize=(7,8))\n",
      "    plt.subplot(2,1,1)\n",
      "    plt.imshow(noisy[0],interpolation='none',origin='lower')\n",
      "    plt.colorbar(orientation='horizontal',pad=0.1).set_label('Detected electrons')\n",
      "    plt.axis('off')\n",
      "    #\n",
      "    plt.subplot(2,1,2)\n",
      "    for i in range(num_exposures):\n",
      "        exposure['image'] = noisy[i]\n",
      "        redux = pipeline.reduce(exposure)\n",
      "        for j in range(len(detector.fibers)):\n",
      "            if i == 0:\n",
      "                # Show errors from first reduction to compare with scatter.\n",
      "                truth = redux[j].truth\n",
      "                dflux = redux[j].ivar**(-0.5)\n",
      "                plt.fill_between(redux[j].wlen,truth-dflux,truth+dflux,alpha=0.2,lw=0,color='r')\n",
      "                # Show the true input SED\n",
      "                plt.plot(exposure['wlen_in'],exposure['SEDs_in'][j],'g-')\n",
      "            # Plot the reduced fluxes for odd-numbered fibers.\n",
      "            if j%2 == 1:\n",
      "                plt.scatter(redux[j].wlen,redux[j].flux,color='b',s=2.,alpha=0.5)\n",
      "            # Coadd all realizations onto the first exposure.\n",
      "            if i == 0:\n",
      "                coadd.append(redux[j])\n",
      "            else:\n",
      "                coadd[j] += redux[j]\n",
      "            # Plot coadd of all exposures for even-numbered fibers.\n",
      "            if j%2 == 0 and i+1 == num_exposures:\n",
      "                plt.errorbar(coadd[j].wlen,coadd[j].flux,coadd[j].ivar**-0.5,ls='None',color='k')\n",
      "    plt.xlim(detector.min_wlen,detector.max_wlen)\n",
      "    plt.ylim(0,1.05*np.max(simulated['SEDs_in']))\n",
      "    plt.xlabel('Wavelength (Angstrom)')\n",
      "    plt.ylabel('Flux (arb.units / Angstrom / second)')\n",
      "    plt.tight_layout()\n",
      "    if save: plt.savefig(save)"
     ],
     "language": "python",
     "metadata": {},
     "outputs": [],
     "prompt_number": 15
    },
    {
     "cell_type": "heading",
     "level": 2,
     "metadata": {},
     "source": [
      "Examples and Plots"
     ]
    },
    {
     "cell_type": "markdown",
     "metadata": {},
     "source": [
      "Build a 3-fiber spectrograph with different PSF variations (unrealistically bad) along each trace:"
     ]
    },
    {
     "cell_type": "code",
     "collapsed": false,
     "input": [
      "detector = Detector([\n",
      "    Fiber(x=(0.1,0.9),y=(0.15,0.05),sigma=0.020,ellipticity=0.75,angle=(-90.,90.)),\n",
      "    Fiber(x=(0.1,0.9),y=(0.25,0.15),sigma=0.015,ellipticity=0.50,angle=(-45.,135.)),\n",
      "    Fiber(x=(0.1,0.9),y=(0.35,0.25),sigma=0.010,ellipticity=0.25,angle=(0.,180.)),\n",
      "],ccd_width=100,ccd_height=40)"
     ],
     "language": "python",
     "metadata": {},
     "outputs": [],
     "prompt_number": 16
    },
    {
     "cell_type": "code",
     "collapsed": false,
     "input": [
      "plot_response(detector,num_spots=9)"
     ],
     "language": "python",
     "metadata": {},
     "outputs": [
      {
       "metadata": {},
       "output_type": "display_data",
       "png": "[encoded data removed]",
       "text": [
        "<matplotlib.figure.Figure at 0x10d169e90>"
       ]
      }
     ],
     "prompt_number": 17
    },
    {
     "cell_type": "markdown",
     "metadata": {},
     "source": [
      "Simulate illuminating the fibers by the same SED with normalizations scaled by factors of 2,1,0.5:"
     ]
    },
    {
     "cell_type": "code",
     "collapsed": false,
     "input": [
      "exposure = detector.simulate(wlen,[2.0*sed,sed,0.5*sed],exposure_time = 200.);"
     ],
     "language": "python",
     "metadata": {},
     "outputs": [],
     "prompt_number": 18
    },
    {
     "cell_type": "markdown",
     "metadata": {},
     "source": [
      "Compare the results of reducing independent noise realizations of this simulation:"
     ]
    },
    {
     "cell_type": "code",
     "collapsed": false,
     "input": [
      "pipeline_test(detector,exposure,4)"
     ],
     "language": "python",
     "metadata": {},
     "outputs": [
      {
       "metadata": {},
       "output_type": "display_data",
       "png": "[encoded data removed]",
       "text": [
        "<matplotlib.figure.Figure at 0x10de6a2d0>"
       ]
      }
     ],
     "prompt_number": 19
    },
    {
     "cell_type": "markdown",
     "metadata": {},
     "source": [
      "Simulate short and long (4x) exposures with all fibers illuminated by the same SED:"
     ]
    },
    {
     "cell_type": "code",
     "collapsed": false,
     "input": [
      "short_exposure = detector.simulate(wlen,[sed,sed,sed],exposure_time = 200.);"
     ],
     "language": "python",
     "metadata": {},
     "outputs": [],
     "prompt_number": 20
    },
    {
     "cell_type": "code",
     "collapsed": false,
     "input": [
      "long_exposure = detector.simulate(wlen,[sed,sed,sed],exposure_time = 800.);"
     ],
     "language": "python",
     "metadata": {},
     "outputs": [],
     "prompt_number": 21
    },
    {
     "cell_type": "code",
     "collapsed": false,
     "input": [],
     "language": "python",
     "metadata": {},
     "outputs": [],
     "prompt_number": 21
    }
   ],
   "metadata": {}
  }
 ]
}