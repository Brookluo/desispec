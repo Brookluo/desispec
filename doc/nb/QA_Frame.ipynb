{
 "cells": [
  {
   "cell_type": "markdown",
   "metadata": {},
   "source": [
    "# Developing/Testing QA Frame Class"
   ]
  },
  {
   "cell_type": "code",
   "execution_count": 2,
   "metadata": {
    "collapsed": false
   },
   "outputs": [],
   "source": [
    "# imports\n",
    "from desispec.qa import qa_exposure as qa_exp\n",
    "from desispec.io import qa as desio_qa"
   ]
  },
  {
   "cell_type": "markdown",
   "metadata": {},
   "source": [
    "## Instantiate"
   ]
  },
  {
   "cell_type": "code",
   "execution_count": 3,
   "metadata": {
    "collapsed": false
   },
   "outputs": [
    {
     "name": "stdout",
     "output_type": "stream",
     "text": [
      "QA_Frame: Flavor=arc\n"
     ]
    }
   ],
   "source": [
    "reload(qa_exp)\n",
    "qaframe = qa_exp.QA_Frame('arc')\n",
    "print(qaframe)"
   ]
  },
  {
   "cell_type": "markdown",
   "metadata": {},
   "source": [
    "## Init SkySub"
   ]
  },
  {
   "cell_type": "code",
   "execution_count": 4,
   "metadata": {
    "collapsed": false
   },
   "outputs": [
    {
     "name": "stdout",
     "output_type": "stream",
     "text": [
      "{u'SKYSUB': {u'PARAM': {'PCHI_RESID': 0.05}}, 'flavor': 'science', 'camera': u'none'}\n"
     ]
    }
   ],
   "source": [
    "reload(qa_exp)\n",
    "qaframe = qa_exp.QA_Frame('science')\n",
    "qaframe.init_skysub()\n",
    "print(qaframe.data)"
   ]
  },
  {
   "cell_type": "markdown",
   "metadata": {},
   "source": [
    "## I/O"
   ]
  },
  {
   "cell_type": "code",
   "execution_count": 11,
   "metadata": {
    "collapsed": true
   },
   "outputs": [],
   "source": [
    "from desispec.io import read_qa_frame"
   ]
  },
  {
   "cell_type": "code",
   "execution_count": 5,
   "metadata": {
    "collapsed": false
   },
   "outputs": [
    {
     "data": {
      "text/plain": [
       "<module 'desispec.io.qa' from '/Users/xavier/DESI/desispec/py/desispec/io/qa.pyc'>"
      ]
     },
     "execution_count": 5,
     "metadata": {},
     "output_type": "execute_result"
    }
   ],
   "source": [
    "reload(desio_qa)"
   ]
  },
  {
   "cell_type": "code",
   "execution_count": 7,
   "metadata": {
    "collapsed": false
   },
   "outputs": [
    {
     "data": {
      "text/plain": [
       "'tmp.yaml'"
      ]
     },
     "execution_count": 7,
     "metadata": {},
     "output_type": "execute_result"
    }
   ],
   "source": [
    "desio_qa.write_qa_frame('tmp.yaml', qaframe)"
   ]
  },
  {
   "cell_type": "code",
   "execution_count": 8,
   "metadata": {
    "collapsed": false
   },
   "outputs": [],
   "source": [
    "qaframe = desio_qa.read_qa_frame('tmp.yaml')"
   ]
  },
  {
   "cell_type": "code",
   "execution_count": 9,
   "metadata": {
    "collapsed": false
   },
   "outputs": [
    {
     "data": {
      "text/plain": [
       "QA_Frame: flavor=science"
      ]
     },
     "execution_count": 9,
     "metadata": {},
     "output_type": "execute_result"
    }
   ],
   "source": [
    "qaframe"
   ]
  },
  {
   "cell_type": "markdown",
   "metadata": {},
   "source": [
    "## Test SkySub "
   ]
  },
  {
   "cell_type": "markdown",
   "metadata": {},
   "source": [
    "### On JXP laptop first\n",
    "\n",
    "    desi_compute_sky.py \\\n",
    "        --infile /Users/xavier/DESI/TST/dogwood/exposures/20150211/00000002/frame-b0-00000002.fits \\\n",
    "        --fibermap /Users/xavier/DESI/TST/data/20150211/fibermap-00000002.fits \\\n",
    "        --fiberflat /Users/xavier/DESI/TST/dogwood/calib2d/20150211/fiberflat-b0-00000001.fits \\\n",
    "        --outfile /Users/xavier/DESI/TST/dogwood/exposures/20150211/00000002/sky2-b0-00000002.fits \\\n",
    "        --qafile /Users/xavier/DESI/TST/dogwood/exposures/20150211/00000002/qa-00000002.yaml \\\n",
    "        > tmp.log"
   ]
  },
  {
   "cell_type": "code",
   "execution_count": 40,
   "metadata": {
    "collapsed": false
   },
   "outputs": [
    {
     "data": {
      "text/plain": [
       "{u'b0': {u'SKYSUB': {'MED_RESID': 0.7486819860625467,\n",
       "   'NBAD_PCHI': 38,\n",
       "   'NSKY_FIB': 45,\n",
       "   'PCHI_RESID': 0.05}},\n",
       " u'b1': {},\n",
       " u'b2': {},\n",
       " u'b3': {},\n",
       " u'b4': {},\n",
       " u'b5': {},\n",
       " u'b6': {},\n",
       " u'b7': {},\n",
       " u'b8': {},\n",
       " u'b9': {},\n",
       " 'expid': -1,\n",
       " 'exptype': 'science',\n",
       " u'r0': {},\n",
       " u'r1': {},\n",
       " u'r2': {},\n",
       " u'r3': {},\n",
       " u'r4': {},\n",
       " u'r5': {},\n",
       " u'r6': {},\n",
       " u'r7': {},\n",
       " u'r8': {},\n",
       " u'r9': {},\n",
       " u'z0': {},\n",
       " u'z1': {},\n",
       " u'z2': {},\n",
       " u'z3': {},\n",
       " u'z4': {},\n",
       " u'z5': {},\n",
       " u'z6': {},\n",
       " u'z7': {},\n",
       " u'z8': {},\n",
       " u'z9': {}}"
      ]
     },
     "execution_count": 40,
     "metadata": {},
     "output_type": "execute_result"
    }
   ],
   "source": [
    "# Read and print\n",
    "qaexp = desio_qa.read_qa_exposure('/Users/xavier/DESI/TST/dogwood/exposures/20150211/00000002/qa-00000002.yaml')\n",
    "qaexp._data"
   ]
  },
  {
   "cell_type": "markdown",
   "metadata": {},
   "source": [
    "### Now Edison\n",
    "    [edison ~] module use ~xavier/modules\n",
    "    [edison ~] module switch desispec/qa_exposure\n",
    "    [edison ~] cd qa_test\n",
    "\n",
    "    desi_compute_sky.py \\\n",
    "        --infile /project/projectdirs/desi/spectro/redux/sjb/dogwood/exposures/20150211/00000002/frame-b0-00000002.fits \\\n",
    "        --fibermap /project/projectdirs/desi/spectro/sim/alpha-5/20150211/fibermap-00000002.fits \\\n",
    "        --fiberflat /project/projectdirs/desi/spectro/redux/sjb/dogwood/calib2d/20150211/fiberflat-b0-00000001.fits \\\n",
    "        --outfile sky-b0-00000002.fits \\\n",
    "        --qafile qa-00000002.yaml \\\n",
    "        > qa_tst.log\n"
   ]
  },
  {
   "cell_type": "code",
   "execution_count": null,
   "metadata": {
    "collapsed": true
   },
   "outputs": [],
   "source": []
  }
 ],
 "metadata": {
  "kernelspec": {
   "display_name": "Python 2",
   "language": "python",
   "name": "python2"
  },
  "language_info": {
   "codemirror_mode": {
    "name": "ipython",
    "version": 2
   },
   "file_extension": ".py",
   "mimetype": "text/x-python",
   "name": "python",
   "nbconvert_exporter": "python",
   "pygments_lexer": "ipython2",
   "version": "2.7.10"
  }
 },
 "nbformat": 4,
 "nbformat_minor": 0
}
