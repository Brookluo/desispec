{
 "cells": [
  {
   "cell_type": "markdown",
   "metadata": {},
   "source": [
    "# Preproc Fussing"
   ]
  },
  {
   "cell_type": "code",
   "execution_count": 1,
   "metadata": {},
   "outputs": [],
   "source": [
    "#%matplotlib notebook\n",
    "%matplotlib inline"
   ]
  },
  {
   "cell_type": "code",
   "execution_count": 2,
   "metadata": {},
   "outputs": [
    {
     "name": "stderr",
     "output_type": "stream",
     "text": [
      "/home/xavier/anaconda3/lib/python3.7/site-packages/desispec-0.29.0.dev3381-py3.7.egg/desispec/maskbits.py:73: YAMLLoadWarning: calling yaml.load() without Loader=... is deprecated, as the default Loader is unsafe. Please read https://msg.pyyaml.org/load for full details.\n",
      "  \"\"\")\n"
     ]
    }
   ],
   "source": [
    "# imports\n",
    "from importlib import reload\n",
    "import os\n",
    "from matplotlib import pyplot as plt\n",
    "\n",
    "from astropy.io import fits\n",
    "from desispec import preproc\n",
    "# You may wish to comment this out\n",
    "#from pypeit import ginga"
   ]
  },
  {
   "cell_type": "markdown",
   "metadata": {},
   "source": [
    "# Init"
   ]
  },
  {
   "cell_type": "code",
   "execution_count": 3,
   "metadata": {},
   "outputs": [],
   "source": [
    "exp_path = '/home/xavier/DESI/Commissioning/exposures'"
   ]
  },
  {
   "cell_type": "code",
   "execution_count": 4,
   "metadata": {},
   "outputs": [],
   "source": [
    "night = '20190619'"
   ]
  },
  {
   "cell_type": "markdown",
   "metadata": {},
   "source": [
    "# Methods"
   ]
  },
  {
   "cell_type": "code",
   "execution_count": 5,
   "metadata": {},
   "outputs": [],
   "source": [
    "def add_gain(header):\n",
    "    header['GAINA'] = 1.21763880607\n",
    "    header['GAINB'] = 1.26599257375\n",
    "    header['GAINC'] = 1.37207665312\n",
    "    header['GAIND'] = 1.28793077884"
   ]
  },
  {
   "cell_type": "code",
   "execution_count": 6,
   "metadata": {},
   "outputs": [],
   "source": [
    "def show_boundary(img, vmin=-400, vmax=1673):\n",
    "    plt.clf()\n",
    "    plt.figure(figsize=(13,7))\n",
    "    plt.imshow(img.pix[1800:2200,500:1000], vmin=vmin, vmax=vmax)\n",
    "    plt.show()"
   ]
  },
  {
   "cell_type": "markdown",
   "metadata": {},
   "source": [
    "# Try one (0.5s)"
   ]
  },
  {
   "cell_type": "code",
   "execution_count": 7,
   "metadata": {},
   "outputs": [
    {
     "data": {
      "text/plain": [
       "'/home/xavier/DESI/Commissioning/exposures/20190619/00016322/desi-00016322.fits.fz'"
      ]
     },
     "execution_count": 7,
     "metadata": {},
     "output_type": "execute_result"
    }
   ],
   "source": [
    "iid = 16322\n",
    "ifile_05 = os.path.join(exp_path, night, '000{}'.format(iid), 'desi-000{}.fits.fz'.format(iid))\n",
    "ifile_05"
   ]
  },
  {
   "cell_type": "code",
   "execution_count": 8,
   "metadata": {},
   "outputs": [],
   "source": [
    "hdulist = fits.open(ifile_05)\n",
    "z2_hdu = hdulist['z2']"
   ]
  },
  {
   "cell_type": "markdown",
   "metadata": {},
   "source": [
    "### Show it (you may wish to comment this out)"
   ]
  },
  {
   "cell_type": "code",
   "execution_count": null,
   "metadata": {},
   "outputs": [],
   "source": [
    "#ginga.show_image(z2_hdu.data)"
   ]
  },
  {
   "cell_type": "markdown",
   "metadata": {},
   "source": [
    "### Run preproc!"
   ]
  },
  {
   "cell_type": "code",
   "execution_count": null,
   "metadata": {},
   "outputs": [],
   "source": [
    "## Add in gain\n",
    "add_gain(z2_hdu.header)"
   ]
  },
  {
   "cell_type": "code",
   "execution_count": null,
   "metadata": {},
   "outputs": [
    {
     "name": "stdout",
     "output_type": "stream",
     "text": [
      "WARNING:preproc.py:447:preproc: Missing keyword SATURLEVA in header and nothing in calib data; using 200000\n",
      "INFO:preproc.py:461:preproc: nrows in overscan=2064\n",
      "INFO:preproc.py:465:preproc: Subtracting overscan per row for amplifier A of camera z2\n",
      "INFO:preproc.py:483:preproc: Median rdnoise and overscan= 2.064272 2006.687500\n",
      "INFO:preproc.py:517:preproc: Measured readnoise for AMP A = 2.064272\n",
      "WARNING:preproc.py:447:preproc: Missing keyword SATURLEVB in header and nothing in calib data; using 200000\n",
      "INFO:preproc.py:461:preproc: nrows in overscan=2064\n",
      "INFO:preproc.py:465:preproc: Subtracting overscan per row for amplifier B of camera z2\n",
      "INFO:preproc.py:483:preproc: Median rdnoise and overscan= 2.097935 2007.593750\n",
      "INFO:preproc.py:517:preproc: Measured readnoise for AMP B = 2.097935\n",
      "WARNING:preproc.py:447:preproc: Missing keyword SATURLEVC in header and nothing in calib data; using 200000\n",
      "INFO:preproc.py:461:preproc: nrows in overscan=2064\n",
      "INFO:preproc.py:465:preproc: Subtracting overscan per row for amplifier C of camera z2\n",
      "INFO:preproc.py:483:preproc: Median rdnoise and overscan= 2.620456 2009.734375\n",
      "INFO:preproc.py:517:preproc: Measured readnoise for AMP C = 2.620456\n",
      "WARNING:preproc.py:447:preproc: Missing keyword SATURLEVD in header and nothing in calib data; using 200000\n",
      "INFO:preproc.py:461:preproc: nrows in overscan=2064\n",
      "INFO:preproc.py:465:preproc: Subtracting overscan per row for amplifier D of camera z2\n",
      "INFO:preproc.py:483:preproc: Median rdnoise and overscan= 2.315711 2004.109375\n",
      "INFO:preproc.py:517:preproc: Measured readnoise for AMP D = 2.315711\n",
      "INFO:cosmics.py:357:reject_cosmic_rays_ala_sdss: starting with nsig=6.0 cfudge=3.0 c2fudge=0.5\n"
     ]
    }
   ],
   "source": [
    "reload(preproc)\n",
    "img = preproc.preproc(z2_hdu.data, z2_hdu.header, None, bias=False, pixflat=False, mask=False, \n",
    "                      nocrosstalk=True, ccd_calibration_filename=False, dark=False, overscan_per_row=True)"
   ]
  },
  {
   "cell_type": "markdown",
   "metadata": {},
   "source": [
    "### View it"
   ]
  },
  {
   "cell_type": "code",
   "execution_count": null,
   "metadata": {},
   "outputs": [],
   "source": [
    "#ginga.show_image(img.pix)\n",
    "show_boundary(img)"
   ]
  },
  {
   "cell_type": "markdown",
   "metadata": {},
   "source": [
    "## Original"
   ]
  },
  {
   "cell_type": "code",
   "execution_count": null,
   "metadata": {},
   "outputs": [],
   "source": [
    "reload(preproc)\n",
    "img_orig = preproc.preproc(z2_hdu.data, z2_hdu.header, None, bias=False, pixflat=False, mask=False, \n",
    "                      nocrosstalk=True, ccd_calibration_filename=False, dark=False, orig_over=True,\n",
    "                          overscan_per_row=True)"
   ]
  },
  {
   "cell_type": "code",
   "execution_count": null,
   "metadata": {},
   "outputs": [],
   "source": [
    "show_boundary(img_orig)"
   ]
  },
  {
   "cell_type": "markdown",
   "metadata": {},
   "source": [
    "# Long exposure (10s)"
   ]
  },
  {
   "cell_type": "code",
   "execution_count": null,
   "metadata": {},
   "outputs": [],
   "source": [
    "iid = 16287\n",
    "ifile = os.path.join(exp_path, night, '000{}'.format(iid), 'desi-000{}.fits.fz'.format(iid))\n",
    "ifile"
   ]
  },
  {
   "cell_type": "code",
   "execution_count": null,
   "metadata": {},
   "outputs": [],
   "source": [
    "hdulist = fits.open(ifile)\n",
    "z2_hdu_10 = hdulist['z2']"
   ]
  },
  {
   "cell_type": "code",
   "execution_count": null,
   "metadata": {},
   "outputs": [],
   "source": [
    "## Add in gain\n",
    "add_gain(z2_hdu_10.header)"
   ]
  },
  {
   "cell_type": "code",
   "execution_count": null,
   "metadata": {},
   "outputs": [],
   "source": [
    "reload(preproc)\n",
    "img_10 = preproc.preproc(z2_hdu_10.data, z2_hdu.header, None, bias=False, pixflat=False, mask=False, \n",
    "                      nocrosstalk=True, ccd_calibration_filename=False, dark=False, overscan_per_row=True)"
   ]
  },
  {
   "cell_type": "code",
   "execution_count": null,
   "metadata": {},
   "outputs": [],
   "source": [
    "show_boundary(img_10, vmin=None, vmax=None)"
   ]
  },
  {
   "cell_type": "code",
   "execution_count": null,
   "metadata": {},
   "outputs": [],
   "source": []
  }
 ],
 "metadata": {
  "kernelspec": {
   "display_name": "Python 3",
   "language": "python",
   "name": "python3"
  },
  "language_info": {
   "codemirror_mode": {
    "name": "ipython",
    "version": 3
   },
   "file_extension": ".py",
   "mimetype": "text/x-python",
   "name": "python",
   "nbconvert_exporter": "python",
   "pygments_lexer": "ipython3",
   "version": "3.7.3"
  }
 },
 "nbformat": 4,
 "nbformat_minor": 2
}
