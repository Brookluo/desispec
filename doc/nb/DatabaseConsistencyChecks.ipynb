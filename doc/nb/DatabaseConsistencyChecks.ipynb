{
 "cells": [
  {
   "cell_type": "markdown",
   "id": "172352fa-cb01-4562-a27a-7784e31c0ef4",
   "metadata": {},
   "source": [
    "# Database Consistency Checks\n",
    "\n",
    "This notebook checks the top-level `tiles-SPECPROD.(fits|csv)` and `exposures-SPECPROD.(fits|csv)` files for self-consistency in prepartion for loading these files into a database.\n",
    "\n",
    "## Imports"
   ]
  },
  {
   "cell_type": "code",
   "execution_count": null,
   "id": "b086e33a-fe1f-485d-97ae-18adad96dc2f",
   "metadata": {},
   "outputs": [],
   "source": [
    "%matplotlib inline\n",
    "import os\n",
    "import glob\n",
    "import json\n",
    "from pytz import utc\n",
    "import numpy as np\n",
    "import matplotlib.pyplot as plt\n",
    "\n",
    "from astropy.io import fits\n",
    "from astropy.table import Table, Column, MaskedColumn\n",
    "from astropy.time import Time\n",
    "\n",
    "from desiutil.iers import freeze_iers\n",
    "from desiutil.log import get_logger, DEBUG, INFO\n",
    "\n",
    "from desispec.io.meta import faflavor2program\n",
    "from desispec.io.util import checkgzip\n",
    "import desispec.database.redshift as dsr\n",
    "from desispec.database.util import targetphotid\n",
    "\n",
    "from desitarget.targets import decode_targetid\n",
    "freeze_iers()"
   ]
  },
  {
   "cell_type": "markdown",
   "id": "a0245ef2-fc2e-458d-bfb2-9a89c8183aab",
   "metadata": {},
   "source": [
    "## Important Setup"
   ]
  },
  {
   "cell_type": "code",
   "execution_count": null,
   "id": "3187f15b-83c3-42de-a00d-6872b62ebdd5",
   "metadata": {},
   "outputs": [],
   "source": [
    "specprod = os.environ['SPECPROD'] = 'fuji'\n",
    "overwrite = True"
   ]
  },
  {
   "cell_type": "code",
   "execution_count": null,
   "id": "03c054b6-539f-4896-a8f8-aa00c07c4323",
   "metadata": {},
   "outputs": [],
   "source": [
    "os.environ['DESI_SPECTRO_REDUX'] = os.path.join(os.environ['DESI_ROOT'], 'public', 'edr', 'spectro', 'redux')"
   ]
  },
  {
   "cell_type": "markdown",
   "id": "9be9a2d1-7295-4018-98ec-888a1a6ee1ae",
   "metadata": {},
   "source": [
    "## Test loading targeting data"
   ]
  },
  {
   "cell_type": "code",
   "execution_count": null,
   "id": "4e31238a-af74-44e1-b9ca-0056cd7f20a9",
   "metadata": {},
   "outputs": [],
   "source": [
    "release = 'edr'\n",
    "targetphot_version = 'perlmutter-main'\n",
    "os.environ['DESI_SPECTRO_REDUX'] = os.path.join(os.environ['DESI_ROOT'], 'public', release, 'spectro', 'redux')"
   ]
  },
  {
   "cell_type": "code",
   "execution_count": null,
   "id": "e8edadce-40d1-484a-9944-1969eb634865",
   "metadata": {},
   "outputs": [],
   "source": [
    "# targetphot_potential_file = os.path.join(os.environ['DESI_ROOT'], 'public', release, 'vac', 'lsdr9-photometry', os.environ['SPECPROD'], targetphot_version, 'potential-targets', f\"targetphot-potential-{os.environ['SPECPROD']}.fits\")\n",
    "# targetphot_potential_file = os.path.join(os.environ['SCRATCH'], f\"targetphot-potential-{os.environ['SPECPROD']}.fits\")\n",
    "targetphot_potential_file = os.path.join(os.environ['DESI_ROOT'], 'users', os.environ['USER'], 'lsdr9-photometry', os.environ['SPECPROD'], targetphot_version, 'potential-targets', f\"targetphot-potential-{os.environ['SPECPROD']}.fits\")\n",
    "targetphot_potential = Table.read(targetphot_potential_file, hdu=1)"
   ]
  },
  {
   "cell_type": "code",
   "execution_count": null,
   "id": "ae6669a0-4816-4d75-b955-7922542a8070",
   "metadata": {},
   "outputs": [],
   "source": [
    "# targetphot_file = os.path.join(os.environ['DESI_ROOT'], 'public', release, 'vac', 'lsdr9-photometry', os.environ['SPECPROD'], targetphot_version, 'observed-targets', f\"targetphot-{os.environ['SPECPROD']}.fits\")\n",
    "# targetphot_file = os.path.join(os.environ['SCRATCH'], f\"targetphot-{os.environ['SPECPROD']}.fits\")\n",
    "targetphot_file = os.path.join(os.environ['DESI_ROOT'], 'users', os.environ['USER'], 'lsdr9-photometry', os.environ['SPECPROD'], targetphot_version, 'observed-targets', f\"targetphot-{os.environ['SPECPROD']}.fits\")\n",
    "targetphot = Table.read(targetphot_file, hdu=1)"
   ]
  },
  {
   "cell_type": "code",
   "execution_count": null,
   "id": "ccd7272e-77d7-414d-b0ba-5ab050cf376a",
   "metadata": {},
   "outputs": [],
   "source": [
    "ls_id = (targetphot['RELEASE'].data.astype(np.int64) << 40) | (targetphot['BRICKID'].data.astype(np.int64) << 16) | targetphot['BRICK_OBJID'].data.astype(np.int64)"
   ]
  },
  {
   "cell_type": "markdown",
   "id": "19966f36-8386-4700-bfcb-710e289ed3b1",
   "metadata": {},
   "source": [
    "### For a given `TARGETID`, which columns are always the same?"
   ]
  },
  {
   "cell_type": "code",
   "execution_count": null,
   "id": "483a0e5c-1f92-4a5d-b27e-b90b017b773d",
   "metadata": {},
   "outputs": [],
   "source": [
    "targetid = targetphot['TARGETID'].data\n",
    "# targetid = targetphot_potential['TARGETID'].data"
   ]
  },
  {
   "cell_type": "code",
   "execution_count": null,
   "id": "0bd9fa46-8a9f-4c51-8dfc-286375ec9de0",
   "metadata": {},
   "outputs": [],
   "source": [
    "unique_targetid, unique_indexes, targetid_indexes, targetid_counts = np.unique(targetid, return_index=True, return_inverse=True, return_counts=True)\n",
    "assert (unique_targetid[targetid_indexes] == targetid).all()"
   ]
  },
  {
   "cell_type": "code",
   "execution_count": null,
   "id": "4e0c0158-17a3-45f7-a18a-927e3024d5cc",
   "metadata": {},
   "outputs": [],
   "source": [
    "duplicate_targetid = np.nonzero(targetid_counts > 1)[0]"
   ]
  },
  {
   "cell_type": "code",
   "execution_count": null,
   "id": "3f07794e-ff14-431b-a2d9-e6c71a03967c",
   "metadata": {},
   "outputs": [],
   "source": [
    "# Pre-find rows with duplicate TARGETID.\n",
    "targetphot_cache = os.path.join(os.environ['SCRATCH'], os.path.splitext(os.path.basename(targetphot_file))[0] + '.json')\n",
    "# targetphot_cache = os.path.join(os.environ['SCRATCH'], os.path.splitext(os.path.basename(targetphot_potential_file))[0] + '.json')\n",
    "if os.path.exists(targetphot_cache):\n",
    "    print(\"Loading from cache\")\n",
    "    targetid_to_duplicates = dict()\n",
    "    with open(targetphot_cache) as fp:\n",
    "        cache_data = json.load(fp)\n",
    "        for t in cache_data:\n",
    "            targetid_to_duplicates[np.int64(t)] = np.array(cache_data[t])\n",
    "else:\n",
    "    print(\"Creating...\")\n",
    "    targetid_to_duplicates = dict()\n",
    "    for i in duplicate_targetid:\n",
    "        t = int(unique_targetid[i])\n",
    "        rows = np.nonzero(targetid_indexes == i)[0]\n",
    "        assert rows.shape[0] > 1\n",
    "        targetid_to_duplicates[t] = rows.tolist()\n",
    "    with open(targetphot_cache, 'w') as fp:\n",
    "        json.dump(targetid_to_duplicates, fp)"
   ]
  },
  {
   "cell_type": "code",
   "execution_count": null,
   "id": "beb14326-f7e2-496d-96ff-48caaecdde7a",
   "metadata": {},
   "outputs": [],
   "source": [
    "anomalous_targetid = dict()\n",
    "for t in targetid_to_duplicates:\n",
    "    rows = targetphot[targetid_to_duplicates[t]]\n",
    "    # rows = targetphot_potential[targetid_to_duplicates[t]]\n",
    "    for c in ('RELEASE', 'BRICKID', 'BRICKNAME', 'BRICK_OBJID', 'MORPHTYPE',\n",
    "              'RA', 'RA_IVAR', 'DEC', 'DEC_IVAR',\n",
    "              'DCHISQ',\n",
    "              'EBV',\n",
    "              'FLUX_G', 'FLUX_R', 'FLUX_Z',\n",
    "              'FLUX_IVAR_G', 'FLUX_IVAR_R', 'FLUX_IVAR_Z',\n",
    "              'MW_TRANSMISSION_G', 'MW_TRANSMISSION_R', 'MW_TRANSMISSION_Z',\n",
    "              'FRACFLUX_G', 'FRACFLUX_R', 'FRACFLUX_Z',\n",
    "              'FRACMASKED_G', 'FRACMASKED_R', 'FRACMASKED_Z',\n",
    "              'FRACIN_G', 'FRACIN_R', 'FRACIN_Z',\n",
    "              'NOBS_G', 'NOBS_R', 'NOBS_Z',\n",
    "              'PSFDEPTH_G', 'PSFDEPTH_R', 'PSFDEPTH_Z',\n",
    "              'GALDEPTH_G', 'GALDEPTH_R', 'GALDEPTH_Z',\n",
    "              'FLUX_W1', 'FLUX_W2', 'FLUX_W3', 'FLUX_W4',\n",
    "              'FLUX_IVAR_W1', 'FLUX_IVAR_W2', 'FLUX_IVAR_W3', 'FLUX_IVAR_W4',\n",
    "              'MW_TRANSMISSION_W1', 'MW_TRANSMISSION_W2', 'MW_TRANSMISSION_W3', 'MW_TRANSMISSION_W4',\n",
    "              'ALLMASK_G', 'ALLMASK_R', 'ALLMASK_Z',\n",
    "              'FIBERFLUX_G', 'FIBERFLUX_R', 'FIBERFLUX_Z',\n",
    "              'FIBERTOTFLUX_G', 'FIBERTOTFLUX_R', 'FIBERTOTFLUX_Z',\n",
    "              'REF_EPOCH',\n",
    "              'WISEMASK_W1', 'WISEMASK_W2',\n",
    "              'MASKBITS',\n",
    "              'LC_FLUX_W1', 'LC_FLUX_W2', 'LC_FLUX_IVAR_W1', 'LC_FLUX_IVAR_W2',\n",
    "              'LC_NOBS_W1', 'LC_NOBS_W1', 'LC_MJD_W1', 'LC_MJD_W2',\n",
    "              'SHAPE_R', 'SHAPE_E1', 'SHAPE_E2',\n",
    "              'SHAPE_R_IVAR', 'SHAPE_E1_IVAR', 'SHAPE_E2_IVAR',\n",
    "              'SERSIC', 'SERSIC_IVAR',\n",
    "              'REF_ID', 'REF_CAT',\n",
    "              'GAIA_PHOT_G_MEAN_MAG', 'GAIA_PHOT_G_MEAN_FLUX_OVER_ERROR',\n",
    "              'GAIA_PHOT_BP_MEAN_MAG', 'GAIA_PHOT_BP_MEAN_FLUX_OVER_ERROR',\n",
    "              'GAIA_PHOT_RP_MEAN_MAG', 'GAIA_PHOT_RP_MEAN_FLUX_OVER_ERROR',\n",
    "              'GAIA_PHOT_BP_RP_EXCESS_FACTOR', 'GAIA_ASTROMETRIC_EXCESS_NOISE',\n",
    "              'GAIA_DUPLICATED_SOURCE', 'GAIA_ASTROMETRIC_SIGMA5D_MAX', 'GAIA_ASTROMETRIC_PARAMS_SOLVED',\n",
    "              'PARALLAX', 'PARALLAX_IVAR', 'PMRA', 'PMRA_IVAR', 'PMDEC', 'PMDEC_IVAR',\n",
    "              'PHOTSYS'):\n",
    "        if isinstance(rows[c], MaskedColumn):\n",
    "            try:\n",
    "                assert (rows[c].data.data == rows[c].data.data[0]).all()\n",
    "            except:\n",
    "                try:\n",
    "                    assert np.isnan(rows[c].data.data).all()\n",
    "                except:\n",
    "                    # print(t, c, rows[c].data.data)\n",
    "                    if t in anomalous_targetid:\n",
    "                        anomalous_targetid[t].append(c)\n",
    "                    else:\n",
    "                        anomalous_targetid[t] = [c]\n",
    "        else:\n",
    "            try:\n",
    "                assert (rows[c] == rows[c][0]).all()\n",
    "            except:\n",
    "                # print(t, rows[c])\n",
    "                if t in anomalous_targetid:\n",
    "                    anomalous_targetid[t].append(c)\n",
    "                else:\n",
    "                    anomalous_targetid[t] = [c]"
   ]
  },
  {
   "cell_type": "code",
   "execution_count": null,
   "id": "bf94b32b-ad00-4ea9-8407-3046e33952b2",
   "metadata": {},
   "outputs": [],
   "source": [
    "for k in anomalous_targetid:\n",
    "    if len(anomalous_targetid[k]) > 25:\n",
    "        print(k)\n",
    "        "
   ]
  },
  {
   "cell_type": "code",
   "execution_count": null,
   "id": "c2e4d5bb-d75a-4b26-b107-7a8a88df2ae5",
   "metadata": {},
   "outputs": [],
   "source": [
    "targetphot[targetphot['TARGETID'] == 39633342945034370]"
   ]
  },
  {
   "cell_type": "code",
   "execution_count": null,
   "id": "9cac2d1e-5bfe-4ea2-ae59-1ed31337c609",
   "metadata": {},
   "outputs": [],
   "source": [
    "np.unique(targetphot['REF_EPOCH'])"
   ]
  },
  {
   "cell_type": "code",
   "execution_count": null,
   "id": "bf762bea-2ca7-4545-bda9-0f26a09e99dc",
   "metadata": {},
   "outputs": [],
   "source": [
    "decode_targetid(39628459890181216)"
   ]
  },
  {
   "cell_type": "code",
   "execution_count": null,
   "id": "bbff6f97-c462-4d24-85cb-dec892f1a541",
   "metadata": {},
   "outputs": [],
   "source": [
    "len(list(anomalous_targetid.keys()))"
   ]
  },
  {
   "cell_type": "code",
   "execution_count": null,
   "id": "6997d09e-284f-4c03-9df0-20abc006800e",
   "metadata": {},
   "outputs": [],
   "source": [
    "len(targetphot), len(unique_targetid), len(duplicate_targetid)"
   ]
  },
  {
   "cell_type": "code",
   "execution_count": null,
   "id": "9067893a-65d7-4d39-bedb-023fe68b0777",
   "metadata": {},
   "outputs": [],
   "source": [
    "n_ref_count = 0\n",
    "for t in anomalous_targetid:\n",
    "    if len(anomalous_targetid[t]) == 1 and anomalous_targetid[t][0] == 'REF_EPOCH':\n",
    "        n_ref_count += 1\n",
    "n_ref_count"
   ]
  },
  {
   "cell_type": "code",
   "execution_count": null,
   "id": "27290420-a709-4045-81bf-d0696574d8b9",
   "metadata": {},
   "outputs": [],
   "source": [
    "anomaly_counts = np.array([len(anomalous_targetid[t]) for t in anomalous_targetid])"
   ]
  },
  {
   "cell_type": "code",
   "execution_count": null,
   "id": "e5021120-10d5-46e1-884b-fc9c31b4892c",
   "metadata": {},
   "outputs": [],
   "source": [
    "def inthist(foo, show=False):\n",
    "    \"\"\"Create a histogram of integer values.\n",
    "\n",
    "    Parameters\n",
    "    ----------\n",
    "    foo : :class:`numpy.ndarray`\n",
    "        An array containing integers.\n",
    "    show : :class:`bool`, optional\n",
    "        If ``True``, create a histogram and return the matplotlib.axes.Axes\n",
    "        instance.\n",
    "\n",
    "    Returns\n",
    "    -------\n",
    "    :class:`tuple`\n",
    "    \"\"\"\n",
    "    xmin = min(foo)\n",
    "    xmax = max(foo)\n",
    "    x = np.arange( xmin, xmax+1 )\n",
    "    n = np.zeros( x.shape, dtype=x.dtype )\n",
    "    for k in range(len(n)):\n",
    "        n[k] = np.sum( foo == x[k] )\n",
    "    if show:\n",
    "        fig = plt.figure(dpi=100)\n",
    "        ax = fig.add_subplot(111)\n",
    "        b = ax.bar(x, n, align='center', width=0.5, color='k')\n",
    "        ax.set_xlim(xmin-1, xmax+1)\n",
    "        # ax.set_ylim(0, np.ceil(max(n)/10.0)*10.0)\n",
    "        # ax.set_ylim(0, 10**np.ceil(np.log10(max(n))))\n",
    "        return (fig, ax)\n",
    "    else:\n",
    "        return (n, x)\n"
   ]
  },
  {
   "cell_type": "code",
   "execution_count": null,
   "id": "34ace047-497d-4c51-80ce-e7fe38fb16be",
   "metadata": {},
   "outputs": [],
   "source": [
    "fig, ax = inthist(anomaly_counts, show=True)\n",
    "foo = ax.set_xlabel('Number of columns mismatched')\n",
    "foo = ax.set_ylabel('Count')\n",
    "# foo = ax.set_title('targetphot-fuji.fits')\n",
    "foo = ax.set_title('targetphot-potential-fuji.fits')\n",
    "# fig.savefig(os.path.join(os.environ['HOME'], 'anomaly_counts.png'))\n",
    "fig.savefig(os.path.join(os.environ['HOME'], 'anomaly_counts_potential.png'))"
   ]
  },
  {
   "cell_type": "code",
   "execution_count": null,
   "id": "7ec26a0f-9bf5-4bf3-8e2f-a7f941739304",
   "metadata": {},
   "outputs": [],
   "source": [
    "for t in duplicate_targetid:\n",
    "    rows = targetphot[duplicate_targetid[t]]\n",
    "    for c in ('SUBPRIORITY', 'OBSCONDITIONS', 'PRIORITY_INIT', 'NUMOBS_INIT', 'HPXPIXEL',\n",
    "              'CMX_TARGET', 'DESI_TARGET', 'BGS_TARGET', 'MWS_TARGET',\n",
    "              'SV1_DESI_TARGET', 'SV1_BGS_TARGET', 'SV1_MWS_TARGET',\n",
    "              'SV2_DESI_TARGET', 'SV2_BGS_TARGET', 'SV2_MWS_TARGET',\n",
    "              'SV3_DESI_TARGET', 'SV3_BGS_TARGET', 'SV3_MWS_TARGET',\n",
    "              'SCND_TARGET', 'SV1_SCND_TARGET', 'SV2_SCND_TARGET', 'SV3_SCND_TARGET',\n",
    "              'SURVEY', 'PROGRAM', 'TILEID'):\n",
    "        if isinstance(rows[c], MaskedColumn):\n",
    "            try:\n",
    "                assert (rows[c].data.data == rows[c].data.data[0]).all()\n",
    "            except:\n",
    "                print(t, c, rows[c].data.data)\n",
    "        else:\n",
    "            try:\n",
    "                assert (rows[c] == rows[c][0]).all()\n",
    "            except:\n",
    "                print(t, rows[c])"
   ]
  },
  {
   "cell_type": "markdown",
   "id": "beb40bd8-b3ce-4596-91dc-c0a559161f67",
   "metadata": {
    "tags": []
   },
   "source": [
    "## Examine ztile files."
   ]
  },
  {
   "cell_type": "code",
   "execution_count": null,
   "id": "8f218bde-87b2-4017-a318-f37ec0dd5905",
   "metadata": {},
   "outputs": [],
   "source": [
    "all_targetphotid = list()\n",
    "ztile_files = glob.glob(os.path.join(os.environ['DESI_SPECTRO_REDUX'], specprod, 'zcatalog', 'ztile-*.fits'))\n",
    "for f in ztile_files:\n",
    "    survey = os.path.basename(f).split('-')[1]\n",
    "    if 'cumulative' in f:\n",
    "        key = 'LASTNIGHT'\n",
    "    elif 'perexp' in f:\n",
    "        key = 'EXPID'\n",
    "    elif 'pernight' in f:\n",
    "        key = 'NIGHT'\n",
    "    else:\n",
    "        key = 'SPGRPVAL'\n",
    "    t = Table.read(f, format='fits', hdu='ZCATALOG')\n",
    "    objid, brickid, release, mock, sky, gaiadr = decode_targetid(t['TARGETID'])\n",
    "    # print(sky)\n",
    "    assert (t[key] == t['SPGRPVAL']).all()\n",
    "    w = (t['TARGETID'] > 0) & (sky == 0)\n",
    "    all_targetphotid += [targetphotid(x, y, survey) for x, y in zip(t['TARGETID'][w], t['TILEID'][w])]"
   ]
  },
  {
   "cell_type": "markdown",
   "id": "000b2c01-ba5b-48e2-8729-29c5f3fbdcec",
   "metadata": {},
   "source": [
    "### Check for uniqueness."
   ]
  },
  {
   "cell_type": "code",
   "execution_count": null,
   "id": "d7f0cf47-0cf3-4e9d-adb3-71724b95d0e9",
   "metadata": {},
   "outputs": [],
   "source": [
    "targetphot_potential_id = [targetphotid(x, y, z) for x, y, z in zip(targetphot_potential['TARGETID'], targetphot_potential['TILEID'], targetphot_potential['SURVEY'])]"
   ]
  },
  {
   "cell_type": "code",
   "execution_count": null,
   "id": "8a160f2a-da66-4443-92c0-860cbf461770",
   "metadata": {},
   "outputs": [],
   "source": [
    "targetphot_id = [targetphotid(x, y, z) for x, y, z in zip(targetphot['TARGETID'], targetphot['TILEID'], targetphot['SURVEY'])]"
   ]
  },
  {
   "cell_type": "code",
   "execution_count": null,
   "id": "38c56213-8671-4196-9544-1eb78662cd3c",
   "metadata": {},
   "outputs": [],
   "source": [
    "for t in targetphot_id:\n",
    "    assert t in targetphot_potential_id"
   ]
  },
  {
   "cell_type": "code",
   "execution_count": null,
   "id": "2fbb1f33-8509-45a5-ba2c-82ba7789e3f7",
   "metadata": {},
   "outputs": [],
   "source": [
    "for a in all_targetphotid:\n",
    "    assert a in targetphot_id"
   ]
  },
  {
   "cell_type": "markdown",
   "id": "a91250a4-3385-4817-8cbc-44f2895abe7d",
   "metadata": {},
   "source": [
    "### Do ztile files contain extraneous targets?"
   ]
  },
  {
   "cell_type": "code",
   "execution_count": null,
   "id": "7c9f9789-e1a0-446f-96c0-7708ccf55c7a",
   "metadata": {},
   "outputs": [],
   "source": [
    "ztile = Table.read(os.path.join(os.environ['DESI_SPECTRO_REDUX'], specprod, 'zcatalog', 'ztile-special-dark-cumulative.fits'), hdu='ZCATALOG')"
   ]
  },
  {
   "cell_type": "code",
   "execution_count": null,
   "id": "b5c7814b-22d4-451a-880f-ced9cd379334",
   "metadata": {},
   "outputs": [],
   "source": [
    "w = ztile['TARGETID'] > 0"
   ]
  },
  {
   "cell_type": "code",
   "execution_count": null,
   "id": "ba7b5478-cbb6-4621-8074-8b38847c4f45",
   "metadata": {},
   "outputs": [],
   "source": [
    "np.unique(ztile['TILEID'])"
   ]
  },
  {
   "cell_type": "code",
   "execution_count": null,
   "id": "6275cea2-7122-4250-9c98-45d0dee97307",
   "metadata": {},
   "outputs": [],
   "source": [
    "tid = [targetphotid(x, y, 'special') for x, y in zip(ztile['TARGETID'][w], ztile['TILEID'][w])]"
   ]
  },
  {
   "cell_type": "code",
   "execution_count": null,
   "id": "172f3812-c26c-42af-9877-a5968569e963",
   "metadata": {},
   "outputs": [],
   "source": [
    "(158457821078535886096914448642 >> 64) & (2**32 - 1)"
   ]
  },
  {
   "cell_type": "code",
   "execution_count": null,
   "id": "295a16f2-9e2c-47ec-9842-50af07fa8559",
   "metadata": {},
   "outputs": [],
   "source": [
    "(158457821078535886096914448642 >> 64) >> 32"
   ]
  },
  {
   "cell_type": "code",
   "execution_count": null,
   "id": "9a7cda0c-b80a-41ef-af3e-2dcf16f85512",
   "metadata": {},
   "outputs": [],
   "source": [
    "(158457821078535886096914448642) & (2**64 - 1)"
   ]
  },
  {
   "cell_type": "code",
   "execution_count": null,
   "id": "76550142-089d-4b31-8701-96a5db4f3d30",
   "metadata": {},
   "outputs": [],
   "source": [
    "ztile[ztile['TARGETID'] == 616088991480938754]"
   ]
  },
  {
   "cell_type": "code",
   "execution_count": null,
   "id": "6e62b331-a767-4798-a1b3-f20f083cfffe",
   "metadata": {},
   "outputs": [],
   "source": [
    "targetphot[targetphot['TARGETID'] == 616088991480938754]"
   ]
  },
  {
   "cell_type": "code",
   "execution_count": null,
   "id": "853c9acd-f59a-4c9e-96a0-293e0625c2c5",
   "metadata": {},
   "outputs": [],
   "source": [
    "targetphot_potential[targetphot_potential['TARGETID'] == 616088991480938754]"
   ]
  },
  {
   "cell_type": "code",
   "execution_count": null,
   "id": "ba61fadf-d3f1-482b-93b0-625781e5f8a4",
   "metadata": {},
   "outputs": [],
   "source": [
    "targetphot[targetphot['TILEID'] == 81101]"
   ]
  },
  {
   "cell_type": "markdown",
   "id": "c9add988-dfff-42fd-aa7f-c76ed271aa8f",
   "metadata": {},
   "source": [
    "### Test load targetphot files."
   ]
  },
  {
   "cell_type": "code",
   "execution_count": null,
   "id": "8f84400f-1b52-46fb-8d94-6de4ec925083",
   "metadata": {},
   "outputs": [],
   "source": [
    "os.environ['DESI_LOGLEVEL'] = 'DEBUG'\n",
    "dsr.log = get_logger()\n",
    "postgresql = dsr.setup_db(schema=specprod+'_target', overwrite=overwrite, hostname='nerscdb03.nersc.gov', verbose=True)"
   ]
  },
  {
   "cell_type": "code",
   "execution_count": null,
   "id": "52a969ba-08b9-4263-974a-c3a9c347f3df",
   "metadata": {},
   "outputs": [],
   "source": [
    "loader = [{'filepaths': [os.path.join('/global/cscratch1/sd/ioannis/photocatalog', os.environ['SPECPROD'], 'targetphot-{specprod}.fits'.format(specprod=os.environ['SPECPROD'])),\n",
    "                         os.path.join('/global/cscratch1/sd/ioannis/photocatalog', os.environ['SPECPROD'], 'targetphot-potential-targets-{specprod}.fits'.format(specprod=os.environ['SPECPROD'])),\n",
    "                         os.path.join('/global/cscratch1/sd/ioannis/photocatalog', os.environ['SPECPROD'], 'targetphot-missing-{specprod}.fits'.format(specprod=os.environ['SPECPROD']))],\n",
    "           'tcls': dsr.Target,\n",
    "           'hdu': 'TARGETPHOT',\n",
    "           'expand': {'DCHISQ': ('dchisq_psf', 'dchisq_rex', 'dchisq_dev', 'dchisq_exp', 'dchisq_ser',)},\n",
    "           'q3c': 'ra',\n",
    "           'chunksize': 100000,\n",
    "           'maxrows': 0\n",
    "           },]\n"
   ]
  },
  {
   "cell_type": "code",
   "execution_count": null,
   "id": "052fcea4-b3d1-4b7e-bfd3-d1b83c373545",
   "metadata": {},
   "outputs": [],
   "source": [
    "dsr.load_file(**(loader[0]))"
   ]
  },
  {
   "cell_type": "markdown",
   "id": "efa8d4e9-e175-4c3a-8565-1b0666fbb00f",
   "metadata": {},
   "source": [
    "## Consistency checks on exposures, frames and tiles\n",
    "\n",
    "### Load two versions of tiles file"
   ]
  },
  {
   "cell_type": "code",
   "execution_count": null,
   "id": "2e830b1d-5977-4bca-a9a0-6abdbd67e455",
   "metadata": {},
   "outputs": [],
   "source": [
    "tiles_fits = Table.read(os.path.join(os.environ['DESI_SPECTRO_REDUX'], specprod, f'tiles-{specprod}.fits'), hdu='TILE_COMPLETENESS')"
   ]
  },
  {
   "cell_type": "code",
   "execution_count": null,
   "id": "12acbace-7abc-4c5c-812e-457c51a1b425",
   "metadata": {},
   "outputs": [],
   "source": [
    "tiles_fits"
   ]
  },
  {
   "cell_type": "code",
   "execution_count": null,
   "id": "343d4c9b-c526-41ac-bcd0-e9ae7d45b843",
   "metadata": {},
   "outputs": [],
   "source": [
    "tiles_csv = Table.read(os.path.join(os.environ['DESI_SPECTRO_REDUX'], specprod, f'tiles-{specprod}.csv'), format='ascii.csv')"
   ]
  },
  {
   "cell_type": "code",
   "execution_count": null,
   "id": "92b98046-936f-47ea-b31b-f359529e5314",
   "metadata": {},
   "outputs": [],
   "source": [
    "tiles_csv"
   ]
  },
  {
   "cell_type": "markdown",
   "id": "f573580f-4f3e-4c3a-805e-260e45475a74",
   "metadata": {},
   "source": [
    "### Are the two tiles files self-consistent?"
   ]
  },
  {
   "cell_type": "code",
   "execution_count": null,
   "id": "f686e391-684c-4eea-bbed-362d483a55cf",
   "metadata": {},
   "outputs": [],
   "source": [
    "for row in range(len(tiles_fits)):\n",
    "    for col in tiles_fits.colnames:\n",
    "        try:\n",
    "            assert tiles_fits[row][col] == tiles_csv[row][col]\n",
    "        except AssertionError:\n",
    "            print(tiles_fits[row]['TILEID'], col, tiles_fits[row][col], tiles_csv[row][col])"
   ]
  },
  {
   "cell_type": "markdown",
   "id": "6a96ab51-8a1f-4999-a963-93271238fdbe",
   "metadata": {},
   "source": [
    "### Load two versions of exposures file"
   ]
  },
  {
   "cell_type": "code",
   "execution_count": null,
   "id": "3e6b75c5-c6c4-437c-b067-aabccbc428b7",
   "metadata": {},
   "outputs": [],
   "source": [
    "exposures_fits = Table.read(os.path.join(os.environ['DESI_SPECTRO_REDUX'], specprod, f'exposures-{specprod}.fits'), hdu='EXPOSURES')\n",
    "frames = Table.read(os.path.join(os.environ['DESI_SPECTRO_REDUX'], specprod, f'exposures-{specprod}.fits'), hdu='FRAMES')"
   ]
  },
  {
   "cell_type": "code",
   "execution_count": null,
   "id": "6755781c-9489-40ee-94ea-84b1d2262f18",
   "metadata": {},
   "outputs": [],
   "source": [
    "exposures_fits"
   ]
  },
  {
   "cell_type": "code",
   "execution_count": null,
   "id": "f5ea1dd7-06b3-459d-9470-63bdaecfd2b8",
   "metadata": {},
   "outputs": [],
   "source": [
    "exposures_csv = Table.read(os.path.join(os.environ['DESI_SPECTRO_REDUX'], specprod, f'exposures-{specprod}.csv'), format='ascii.csv')"
   ]
  },
  {
   "cell_type": "code",
   "execution_count": null,
   "id": "3e64da96-c685-40b0-ac89-d4e43fc8b00c",
   "metadata": {},
   "outputs": [],
   "source": [
    "exposures_csv"
   ]
  },
  {
   "cell_type": "markdown",
   "id": "8fc8ca4d-5819-489c-9516-1483c11feace",
   "metadata": {},
   "source": [
    "### Are the two exposures files self-consistent?"
   ]
  },
  {
   "cell_type": "code",
   "execution_count": null,
   "id": "f27603c5-7863-4988-a3c6-e6989217db23",
   "metadata": {},
   "outputs": [],
   "source": [
    "for row in range(len(exposures_fits)):\n",
    "    for col in exposures_fits.colnames:\n",
    "        try:\n",
    "            assert exposures_fits[row][col] == exposures_csv[row][col]\n",
    "        except AssertionError:\n",
    "            try:\n",
    "                assert np.around(exposures_fits[row][col].astype(float), 1) == exposures_csv[row][col]\n",
    "            except AssertionError:\n",
    "                try:\n",
    "                    assert np.around(exposures_fits[row][col].astype(float), 2) == exposures_csv[row][col]\n",
    "                except AssertionError:\n",
    "                    try:\n",
    "                        assert np.around(exposures_fits[row][col].astype(float), 3) == exposures_csv[row][col]\n",
    "                    except AssertionError:\n",
    "                        print(exposures_fits[row]['TILEID'], col, exposures_fits[row][col], exposures_csv[row][col])"
   ]
  },
  {
   "cell_type": "markdown",
   "id": "a91ba1ab-7b13-4694-b062-0b0a27e36527",
   "metadata": {},
   "source": [
    "### What programs are present?"
   ]
  },
  {
   "cell_type": "code",
   "execution_count": null,
   "id": "74b5f559-6653-4430-8e66-e9547fc412d6",
   "metadata": {},
   "outputs": [],
   "source": [
    "np.unique(faflavor2program(exposures_fits['FAFLAVOR']))"
   ]
  },
  {
   "cell_type": "code",
   "execution_count": null,
   "id": "11a4b3c9-6247-47d0-bf4e-803c01872ed4",
   "metadata": {},
   "outputs": [],
   "source": [
    "np.unique(exposures_fits['PROGRAM'])"
   ]
  },
  {
   "cell_type": "code",
   "execution_count": null,
   "id": "0121a508-0f11-4ba4-8522-0e67cc989df3",
   "metadata": {},
   "outputs": [],
   "source": [
    "np.unique(exposures_fits['GOALTYPE'])"
   ]
  },
  {
   "cell_type": "code",
   "execution_count": null,
   "id": "272e572f-549a-4bc7-935c-7b0bbd2c35e3",
   "metadata": {},
   "outputs": [],
   "source": [
    "np.unique(faflavor2program(tiles_fits['FAFLAVOR']))"
   ]
  },
  {
   "cell_type": "code",
   "execution_count": null,
   "id": "ff11d5ab-6d7c-4492-aa1c-01c16739f918",
   "metadata": {},
   "outputs": [],
   "source": [
    "np.unique(tiles_fits['PROGRAM'])"
   ]
  },
  {
   "cell_type": "code",
   "execution_count": null,
   "id": "76cf758a-1cdf-43c3-bf69-30149cdaf14d",
   "metadata": {},
   "outputs": [],
   "source": [
    "assert (faflavor2program(tiles_fits['FAFLAVOR']) == tiles_fits['PROGRAM']).all"
   ]
  },
  {
   "cell_type": "code",
   "execution_count": null,
   "id": "4f95a003-b240-4b4a-b909-66780a1fd323",
   "metadata": {},
   "outputs": [],
   "source": [
    "program = faflavor2program(exposures_fits['FAFLAVOR'])\n",
    "assert (exposures_fits['PROGRAM'] == program).all()"
   ]
  },
  {
   "cell_type": "code",
   "execution_count": null,
   "id": "8b50131c-661c-40e2-b9fd-4ee92f49cf02",
   "metadata": {},
   "outputs": [],
   "source": [
    "for survey in np.unique(exposures_fits['SURVEY']):\n",
    "    print(f\"'{survey}': \", np.unique(program[exposures_fits['SURVEY'] == survey]).tolist(), ',', sep='')"
   ]
  },
  {
   "cell_type": "markdown",
   "id": "1fe04bdc-88d9-45e1-9e16-a97d179b0c10",
   "metadata": {},
   "source": [
    "### Compare frames to exposures"
   ]
  },
  {
   "cell_type": "code",
   "execution_count": null,
   "id": "83e4b603-fab5-4efe-ba5a-1dabbd3bb986",
   "metadata": {},
   "outputs": [],
   "source": [
    "for expid in frames['EXPID']:\n",
    "    assert expid in exposures_fits['EXPID']"
   ]
  },
  {
   "cell_type": "code",
   "execution_count": null,
   "id": "54804170-12ad-4ca2-b941-b95b397fc960",
   "metadata": {},
   "outputs": [],
   "source": [
    "for k, expid in enumerate(exposures_fits['EXPID']):\n",
    "    assert (frames['NIGHT'][frames['EXPID'] == expid] == exposures_fits[k]['NIGHT']).all()\n",
    "    assert (frames['TILEID'][frames['EXPID'] == expid] == exposures_fits[k]['TILEID']).all()\n",
    "    assert (frames['TILERA'][frames['EXPID'] == expid] == exposures_fits[k]['TILERA']).all()\n",
    "    assert (frames['TILEDEC'][frames['EXPID'] == expid] == exposures_fits[k]['TILEDEC']).all()\n",
    "    assert (frames['AIRMASS'][frames['EXPID'] == expid] == exposures_fits[k]['AIRMASS']).all()\n",
    "    assert (frames['SEEING_ETC'][frames['EXPID'] == expid] == exposures_fits[k]['SEEING_ETC']).all()\n",
    "    try:\n",
    "        assert (frames['EFFTIME_ETC'][frames['EXPID'] == expid] == exposures_fits[k]['EFFTIME_ETC']).all()\n",
    "    except AssertionError:\n",
    "        print('EFFTIME_ETC', expid, exposures_fits[k]['TILEID'], exposures_fits[k]['EFFTIME_ETC'], frames[column][frames['EFFTIME_ETC'] == expid].tolist())\n",
    "    # assert (frames['TSNR2_GPBDARK'][frames['EXPID'] == expid] == exposures_fits[k]['TSNR2_GPBDARK']).all()\n",
    "    # assert (frames['TSNR2_ELG'][frames['EXPID'] == expid] == exposures_fits[k]['TSNR2_ELG']).all()\n",
    "    # assert (frames['TSNR2_GPBBRIGHT'][frames['EXPID'] == expid] == exposures_fits[k]['TSNR2_GPBBRIGHT']).all()\n",
    "    # assert (frames['TSNR2_LYA'][frames['EXPID'] == expid] == exposures_fits[k]['TSNR2_LYA']).all()\n",
    "    # assert (frames['TSNR2_BGS'][frames['EXPID'] == expid] == exposures_fits[k]['TSNR2_BGS']).all()\n",
    "    # assert (frames['TSNR2_GPBBACKUP'][frames['EXPID'] == expid] == exposures_fits[k]['TSNR2_GPBBACKUP']).all()\n",
    "    # assert (frames['TSNR2_QSO'][frames['EXPID'] == expid] == exposures_fits[k]['TSNR2_QSO']).all()\n",
    "    # assert (frames['TSNR2_LRG'][frames['EXPID'] == expid] == exposures_fits[k]['TSNR2_LRG']).all()\n",
    "    assert (frames['SURVEY'][frames['EXPID'] == expid] == exposures_fits[k]['SURVEY']).all()\n",
    "    assert (frames['GOALTYPE'][frames['EXPID'] == expid] == exposures_fits[k]['GOALTYPE']).all()\n",
    "    assert (frames['FAPRGRM'][frames['EXPID'] == expid] == exposures_fits[k]['FAPRGRM']).all()\n",
    "    assert (frames['FAFLAVOR'][frames['EXPID'] == expid] == exposures_fits[k]['FAFLAVOR']).all()\n",
    "    assert (frames['MINTFRAC'][frames['EXPID'] == expid] == exposures_fits[k]['MINTFRAC']).all()\n",
    "    for column in ('MJD', 'EXPTIME', 'GOALTIME'):\n",
    "        if column == 'GOALTIME' and (frames[column][frames['EXPID'] == expid] == 0).all():\n",
    "            print(f\"GOALTIME discrepancy for {expid}.\")\n",
    "        else:\n",
    "            try:\n",
    "                assert (np.around(frames[column][frames['EXPID'] == expid], 2) == np.around(exposures_fits[k][column], 2)).all()\n",
    "            except AssertionError:\n",
    "                try:\n",
    "                    assert (np.around(frames[column][frames['EXPID'] == expid], 3) == np.around(exposures_fits[k][column], 3)).all()\n",
    "                except AssertionError:\n",
    "                    try:\n",
    "                        assert (np.around(frames[column][frames['EXPID'] == expid], 4) == np.around(exposures_fits[k][column], 4)).all()\n",
    "                    except AssertionError:\n",
    "                        pass\n",
    "                        # print(column, expid, exposures_fits[k][column], frames[column][frames['EXPID'] == expid].tolist())"
   ]
  },
  {
   "cell_type": "markdown",
   "id": "b92b7ec3-bc0e-4877-aea5-d39c20c61cb8",
   "metadata": {},
   "source": [
    "### Compare tiles to exposures"
   ]
  },
  {
   "cell_type": "code",
   "execution_count": null,
   "id": "d6ae2ed6-597f-43e1-886b-109d632edbc4",
   "metadata": {},
   "outputs": [],
   "source": [
    "for row in tiles_fits:\n",
    "    w = exposures_fits['TILEID'] == row['TILEID']\n",
    "    assert len(exposures_fits[w]) == row['NEXP']\n",
    "    for column in ('SURVEY', 'FAPRGRM', 'FAFLAVOR', 'GOALTYPE'):\n",
    "        try:\n",
    "            assert (exposures_fits[w][column] == row[column]).all()\n",
    "        except AssertionError:\n",
    "            print(row['TILEID'], row[column])\n",
    "            print(exposures_fits[w][column])\n",
    "    for column in ('TILERA', 'TILEDEC'):\n",
    "        try:\n",
    "            assert (np.around(exposures_fits[w][column], 2) == row[column]).all()\n",
    "        except AssertionError:\n",
    "            try:\n",
    "                assert (np.around(exposures_fits[w][column], 3) == row[column]).all()\n",
    "            except AssertionError:\n",
    "                assert (np.around(exposures_fits[w][column], 4) == row[column]).all()\n",
    "    for column in ('EXPTIME', 'EFFTIME_SPEC', 'LRG_EFFTIME_DARK', 'ELG_EFFTIME_DARK', 'BGS_EFFTIME_BRIGHT', 'LYA_EFFTIME_DARK'):\n",
    "        try:\n",
    "            assert np.allclose(np.around(exposures_fits[w][column].sum(), 1), row[column])\n",
    "        except AssertionError:\n",
    "            print(row['TILEID'], row[column])\n",
    "            print(column, np.around(exposures_fits[w][column].sum(), 1))\n",
    "    for column in ('EFFTIME_ETC', 'EFFTIME_GFA'):\n",
    "        if (exposures_fits[w][column] == 0).any():\n",
    "            assert row[column] == 0\n",
    "        else:\n",
    "            try:\n",
    "                assert np.allclose(np.around(exposures_fits[w][column].sum(), 1), row[column])\n",
    "            except AssertionError:\n",
    "                print(row['TILEID'], row[column])\n",
    "                print(column, np.around(exposures_fits[w][column].sum(), 1))\n",
    "    for column in ('GOALTIME', 'MINTFRAC'):\n",
    "        try:\n",
    "            assert np.allclose(np.around(exposures_fits[w][column], 1), row[column])\n",
    "        except AssertionError:\n",
    "            try:\n",
    "                assert np.allclose(np.around(exposures_fits[w][column], 2), row[column])\n",
    "            except AssertionError:\n",
    "                print(row['TILEID'], row[column])\n",
    "                print(column, np.round(exposures_fits[w][column], decimals=1))\n",
    "    \n",
    "    assert exposures_fits[w]['NIGHT'].max() == row['LASTNIGHT']"
   ]
  },
  {
   "cell_type": "code",
   "execution_count": null,
   "id": "1d04e4f9-32a4-442b-bd29-7047e1c2a3a3",
   "metadata": {},
   "outputs": [],
   "source": []
  }
 ],
 "metadata": {
  "kernelspec": {
   "display_name": "DESI main (cori)",
   "language": "python",
   "name": "desi-cori"
  },
  "language_info": {
   "codemirror_mode": {
    "name": "ipython",
    "version": 3
   },
   "file_extension": ".py",
   "mimetype": "text/x-python",
   "name": "python",
   "nbconvert_exporter": "python",
   "pygments_lexer": "ipython3",
   "version": "3.9.7"
  }
 },
 "nbformat": 4,
 "nbformat_minor": 5
}
