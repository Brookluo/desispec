{
 "cells": [
  {
   "cell_type": "markdown",
   "id": "172352fa-cb01-4562-a27a-7784e31c0ef4",
   "metadata": {},
   "source": [
    "# Database Consistency Checks\n",
    "\n",
    "This notebook checks the top-level `tiles-SPECPROD.(fits|csv)` and `exposures-SPECPROD.(fits|csv)` files for self-consistency in prepartion for loading these files into a database.\n",
    "\n",
    "## Imports"
   ]
  },
  {
   "cell_type": "code",
   "execution_count": 1,
   "id": "b086e33a-fe1f-485d-97ae-18adad96dc2f",
   "metadata": {},
   "outputs": [
    {
     "name": "stdout",
     "output_type": "stream",
     "text": [
      "INFO:iers.py:82:freeze_iers: Freezing IERS table used by astropy time, coordinates.\n"
     ]
    }
   ],
   "source": [
    "%matplotlib inline\n",
    "import os\n",
    "import glob\n",
    "import json\n",
    "from pytz import utc\n",
    "import numpy as np\n",
    "import matplotlib.pyplot as plt\n",
    "\n",
    "from astropy.io import fits\n",
    "from astropy.table import Table, Column, MaskedColumn\n",
    "from astropy.time import Time\n",
    "\n",
    "from desiutil.iers import freeze_iers\n",
    "from desiutil.log import get_logger, DEBUG, INFO\n",
    "\n",
    "from desispec.io.meta import faflavor2program\n",
    "from desispec.io.util import checkgzip\n",
    "import desispec.database.redshift as dsr\n",
    "from desispec.database.util import targetphotid\n",
    "\n",
    "from desitarget.targets import decode_targetid\n",
    "freeze_iers()"
   ]
  },
  {
   "cell_type": "markdown",
   "id": "a0245ef2-fc2e-458d-bfb2-9a89c8183aab",
   "metadata": {},
   "source": [
    "## Important Setup"
   ]
  },
  {
   "cell_type": "code",
   "execution_count": 2,
   "id": "3187f15b-83c3-42de-a00d-6872b62ebdd5",
   "metadata": {},
   "outputs": [],
   "source": [
    "specprod = os.environ['SPECPROD'] = 'fuji'\n",
    "overwrite = True"
   ]
  },
  {
   "cell_type": "code",
   "execution_count": 3,
   "id": "03c054b6-539f-4896-a8f8-aa00c07c4323",
   "metadata": {},
   "outputs": [],
   "source": [
    "os.environ['DESI_SPECTRO_REDUX'] = os.path.join(os.environ['DESI_ROOT'], 'public', 'edr', 'spectro', 'redux')"
   ]
  },
  {
   "cell_type": "markdown",
   "id": "9be9a2d1-7295-4018-98ec-888a1a6ee1ae",
   "metadata": {},
   "source": [
    "## Test loading targeting data"
   ]
  },
  {
   "cell_type": "code",
   "execution_count": 4,
   "id": "4e31238a-af74-44e1-b9ca-0056cd7f20a9",
   "metadata": {},
   "outputs": [],
   "source": [
    "release = 'edr'\n",
    "targetphot_version = 'v1.0'\n",
    "os.environ['DESI_SPECTRO_REDUX'] = os.path.join(os.environ['DESI_ROOT'], 'public', release, 'spectro', 'redux')"
   ]
  },
  {
   "cell_type": "code",
   "execution_count": 5,
   "id": "e8edadce-40d1-484a-9944-1969eb634865",
   "metadata": {},
   "outputs": [],
   "source": [
    "# targetphot_potential_file = os.path.join(os.environ['DESI_ROOT'], 'public', release, 'vac', 'lsdr9-photometry', os.environ['SPECPROD'], targetphot_version, 'potential-targets', f\"targetphot-potential-{os.environ['SPECPROD']}.fits\")\n",
    "targetphot_potential_file = os.path.join(os.environ['SCRATCH'], f\"targetphot-potential-{os.environ['SPECPROD']}.fits\")\n",
    "targetphot_potential = Table.read(targetphot_potential_file, hdu=1)"
   ]
  },
  {
   "cell_type": "code",
   "execution_count": 5,
   "id": "ae6669a0-4816-4d75-b955-7922542a8070",
   "metadata": {},
   "outputs": [],
   "source": [
    "# targetphot_file = os.path.join(os.environ['DESI_ROOT'], 'public', release, 'vac', 'lsdr9-photometry', os.environ['SPECPROD'], targetphot_version, 'observed-targets', f\"targetphot-{os.environ['SPECPROD']}.fits\")\n",
    "targetphot_file = os.path.join(os.environ['SCRATCH'], f\"targetphot-{os.environ['SPECPROD']}.fits\")\n",
    "targetphot = Table.read(targetphot_file, hdu=1)"
   ]
  },
  {
   "cell_type": "code",
   "execution_count": null,
   "id": "ccd7272e-77d7-414d-b0ba-5ab050cf376a",
   "metadata": {},
   "outputs": [],
   "source": [
    "ls_id = (targetphot['RELEASE'].data.astype(np.int64) << 40) | (targetphot['BRICKID'].data.astype(np.int64) << 16) | targetphot['BRICK_OBJID'].data.astype(np.int64)"
   ]
  },
  {
   "cell_type": "markdown",
   "id": "19966f36-8386-4700-bfcb-710e289ed3b1",
   "metadata": {},
   "source": [
    "### For a given `TARGETID`, which columns are always the same?"
   ]
  },
  {
   "cell_type": "code",
   "execution_count": 6,
   "id": "483a0e5c-1f92-4a5d-b27e-b90b017b773d",
   "metadata": {},
   "outputs": [],
   "source": [
    "targetid = targetphot['TARGETID'].data\n",
    "# targetid = targetphot_potential['TARGETID'].data"
   ]
  },
  {
   "cell_type": "code",
   "execution_count": 7,
   "id": "0bd9fa46-8a9f-4c51-8dfc-286375ec9de0",
   "metadata": {},
   "outputs": [],
   "source": [
    "unique_targetid, unique_indexes, targetid_indexes, targetid_counts = np.unique(targetid, return_index=True, return_inverse=True, return_counts=True)\n",
    "assert (unique_targetid[targetid_indexes] == targetid).all()"
   ]
  },
  {
   "cell_type": "code",
   "execution_count": 8,
   "id": "4e0c0158-17a3-45f7-a18a-927e3024d5cc",
   "metadata": {},
   "outputs": [],
   "source": [
    "duplicate_targetid = np.nonzero(targetid_counts > 1)[0]"
   ]
  },
  {
   "cell_type": "code",
   "execution_count": 10,
   "id": "3f07794e-ff14-431b-a2d9-e6c71a03967c",
   "metadata": {},
   "outputs": [
    {
     "name": "stdout",
     "output_type": "stream",
     "text": [
      "Loading from cache\n"
     ]
    }
   ],
   "source": [
    "# Pre-find rows with duplicate TARGETID.\n",
    "targetphot_cache = os.path.join(os.environ['SCRATCH'], os.path.splitext(os.path.basename(targetphot_file))[0] + '.json')\n",
    "# targetphot_cache = os.path.join(os.environ['SCRATCH'], os.path.splitext(os.path.basename(targetphot_potential_file))[0] + '.json')\n",
    "if os.path.exists(targetphot_cache):\n",
    "    print(\"Loading from cache\")\n",
    "    with open(targetphot_cache) as fp:\n",
    "        targetid_to_duplicates = json.load(fp)\n",
    "else:\n",
    "    print(\"Creating...\")\n",
    "    targetid_to_duplicates = dict()\n",
    "    for i in duplicate_targetid:\n",
    "        t = unique_targetid[i]\n",
    "        rows = np.nonzero(targetid_indexes == i)[0]\n",
    "        assert rows.shape[0] > 1\n",
    "        targetid_to_duplicates[t] = rows"
   ]
  },
  {
   "cell_type": "code",
   "execution_count": 12,
   "id": "beb14326-f7e2-496d-96ff-48caaecdde7a",
   "metadata": {},
   "outputs": [],
   "source": [
    "anomalous_targetid = dict()\n",
    "for t in targetid_to_duplicates:\n",
    "    rows = targetphot[targetid_to_duplicates[t]]\n",
    "    # rows = targetphot_potential[targetid_to_duplicates[t]]\n",
    "    for c in ('RELEASE', 'BRICKID', 'BRICKNAME', 'BRICK_OBJID', 'MORPHTYPE',\n",
    "              'RA', 'RA_IVAR', 'DEC', 'DEC_IVAR',\n",
    "              'DCHISQ',\n",
    "              'EBV',\n",
    "              'FLUX_G', 'FLUX_R', 'FLUX_Z',\n",
    "              'FLUX_IVAR_G', 'FLUX_IVAR_R', 'FLUX_IVAR_Z',\n",
    "              'MW_TRANSMISSION_G', 'MW_TRANSMISSION_R', 'MW_TRANSMISSION_Z',\n",
    "              'FRACFLUX_G', 'FRACFLUX_R', 'FRACFLUX_Z',\n",
    "              'FRACMASKED_G', 'FRACMASKED_R', 'FRACMASKED_Z',\n",
    "              'FRACIN_G', 'FRACIN_R', 'FRACIN_Z',\n",
    "              'NOBS_G', 'NOBS_R', 'NOBS_Z',\n",
    "              'PSFDEPTH_G', 'PSFDEPTH_R', 'PSFDEPTH_Z',\n",
    "              'GALDEPTH_G', 'GALDEPTH_R', 'GALDEPTH_Z',\n",
    "              'FLUX_W1', 'FLUX_W2', 'FLUX_W3', 'FLUX_W4',\n",
    "              'FLUX_IVAR_W1', 'FLUX_IVAR_W2', 'FLUX_IVAR_W3', 'FLUX_IVAR_W4',\n",
    "              'MW_TRANSMISSION_W1', 'MW_TRANSMISSION_W2', 'MW_TRANSMISSION_W3', 'MW_TRANSMISSION_W4',\n",
    "              'ALLMASK_G', 'ALLMASK_R', 'ALLMASK_Z',\n",
    "              'FIBERFLUX_G', 'FIBERFLUX_R', 'FIBERFLUX_Z',\n",
    "              'FIBERTOTFLUX_G', 'FIBERTOTFLUX_R', 'FIBERTOTFLUX_Z',\n",
    "              'REF_EPOCH',\n",
    "              'WISEMASK_W1', 'WISEMASK_W2',\n",
    "              'MASKBITS',\n",
    "              'LC_FLUX_W1', 'LC_FLUX_W2', 'LC_FLUX_IVAR_W1', 'LC_FLUX_IVAR_W2',\n",
    "              'LC_NOBS_W1', 'LC_NOBS_W1', 'LC_MJD_W1', 'LC_MJD_W2',\n",
    "              'SHAPE_R', 'SHAPE_E1', 'SHAPE_E2',\n",
    "              'SHAPE_R_IVAR', 'SHAPE_E1_IVAR', 'SHAPE_E2_IVAR',\n",
    "              'SERSIC', 'SERSIC_IVAR',\n",
    "              'REF_ID', 'REF_CAT',\n",
    "              'GAIA_PHOT_G_MEAN_MAG', 'GAIA_PHOT_G_MEAN_FLUX_OVER_ERROR',\n",
    "              'GAIA_PHOT_BP_MEAN_MAG', 'GAIA_PHOT_BP_MEAN_FLUX_OVER_ERROR',\n",
    "              'GAIA_PHOT_RP_MEAN_MAG', 'GAIA_PHOT_RP_MEAN_FLUX_OVER_ERROR',\n",
    "              'GAIA_PHOT_BP_RP_EXCESS_FACTOR', 'GAIA_ASTROMETRIC_EXCESS_NOISE',\n",
    "              'GAIA_DUPLICATED_SOURCE', 'GAIA_ASTROMETRIC_SIGMA5D_MAX', 'GAIA_ASTROMETRIC_PARAMS_SOLVED',\n",
    "              'PARALLAX', 'PARALLAX_IVAR', 'PMRA', 'PMRA_IVAR', 'PMDEC', 'PMDEC_IVAR',\n",
    "              'PHOTSYS'):\n",
    "        if isinstance(rows[c], MaskedColumn):\n",
    "            try:\n",
    "                assert (rows[c].data.data == rows[c].data.data[0]).all()\n",
    "            except:\n",
    "                try:\n",
    "                    assert np.isnan(rows[c].data.data).all()\n",
    "                except:\n",
    "                    # print(t, c, rows[c].data.data)\n",
    "                    if t in anomalous_targetid:\n",
    "                        anomalous_targetid[t].append(c)\n",
    "                    else:\n",
    "                        anomalous_targetid[t] = [c]\n",
    "        else:\n",
    "            try:\n",
    "                assert (rows[c] == rows[c][0]).all()\n",
    "            except:\n",
    "                # print(t, rows[c])\n",
    "                if t in anomalous_targetid:\n",
    "                    anomalous_targetid[t].append(c)\n",
    "                else:\n",
    "                    anomalous_targetid[t] = [c]"
   ]
  },
  {
   "cell_type": "code",
   "execution_count": 13,
   "id": "bf94b32b-ad00-4ea9-8407-3046e33952b2",
   "metadata": {},
   "outputs": [
    {
     "name": "stdout",
     "output_type": "stream",
     "text": [
      "39627751501597155\n",
      "39627751551930903\n",
      "39627751556125725\n",
      "39627751560320497\n",
      "39627751564509817\n",
      "39627757524618460\n",
      "39627757528812204\n",
      "39627757533007506\n",
      "39627757537199789\n",
      "39627757541394637\n",
      "39627757549783949\n",
      "39627757612699212\n",
      "39627757616894164\n",
      "39627763564415895\n",
      "39627763572802627\n",
      "39627763581190847\n",
      "39627763585384930\n",
      "39627763585385564\n",
      "39627763585389013\n",
      "39627763589583588\n",
      "39627763635722280\n",
      "39627763648304723\n",
      "39627764147422442\n",
      "39627764197758556\n",
      "39627769608405342\n",
      "39627769608406176\n",
      "39627769612603519\n",
      "39627769616795885\n",
      "39627769625183463\n",
      "39627769625185551\n",
      "39627769625187500\n",
      "39627769625188009\n",
      "39627769629376829\n",
      "39627769633576120\n",
      "39627769637769409\n",
      "39627769637769566\n",
      "39627769641961088\n",
      "39627769658739474\n",
      "39627769675515232\n",
      "39627769679710420\n",
      "39627769683905623\n",
      "39627769688098041\n",
      "39627770237556228\n",
      "39627775652400732\n",
      "39627775664983704\n",
      "39627775669176042\n",
      "39627775669179770\n",
      "39627775698535465\n",
      "39627775723704055\n",
      "39627781692196617\n",
      "39627781700587913\n",
      "39627781708975290\n",
      "39627781713168519\n",
      "39627781713169091\n",
      "39627781713172375\n",
      "39627781717362436\n",
      "39627781717363775\n",
      "39627781717364162\n",
      "39627781721555156\n",
      "39627781725749925\n",
      "39627781734142290\n",
      "39627781763499614\n",
      "39627781767692821\n",
      "39627781780277108\n",
      "39627781784472974\n",
      "39627782258426379\n",
      "39627782296176403\n",
      "39627782354895871\n",
      "39627787736188899\n",
      "39627787748770242\n",
      "39627787748773288\n",
      "39627787752968998\n",
      "39627787761353684\n",
      "39627787761356548\n",
      "39627787778132371\n",
      "39627787790713257\n",
      "39627787811687350\n",
      "39627788361143702\n",
      "39627793767598929\n",
      "39627793771794328\n",
      "39627793792765493\n",
      "39627793796957031\n",
      "39627793796959217\n",
      "39627793796959873\n",
      "39627793801153594\n",
      "39627793805345218\n",
      "39627793805349140\n",
      "39627793830514037\n",
      "39627793834706836\n",
      "39627793838899521\n",
      "39627793843096589\n",
      "39627793843097523\n",
      "39627793847290571\n",
      "39627793855678876\n",
      "39627793864067411\n",
      "39627794342218424\n",
      "39627794346413550\n",
      "39627799807395205\n",
      "39627799815782771\n",
      "39627799819978259\n",
      "39627799828366648\n",
      "39627799828367255\n",
      "39627799832560390\n",
      "39627799832560476\n",
      "39627800382014000\n",
      "39627800390402813\n",
      "39627805369045044\n",
      "39627805855581563\n",
      "39627805859777909\n",
      "39627805859779825\n",
      "39627805863970719\n",
      "39627805863970979\n",
      "39627805863972725\n",
      "39627805868165493\n",
      "39627805868167101\n",
      "39627805876555978\n",
      "39627805880749511\n",
      "39627805931079680\n",
      "39627811899573352\n",
      "39627811899577177\n",
      "39627811903766955\n",
      "39627811916350130\n",
      "39627811920543946\n",
      "39627811975070494\n",
      "39627811975071617\n",
      "39627817444442354\n",
      "39627817461223686\n",
      "39627823463268850\n",
      "39627823467463409\n",
      "39627823475851412\n",
      "39627823480050229\n",
      "39627823484241469\n",
      "39627823484242147\n",
      "39627823484242484\n",
      "39627823488437387\n",
      "39627823492629438\n",
      "39627823492634054\n",
      "39627823501019511\n",
      "39627829511455943\n",
      "39627829511456975\n",
      "39627829511459115\n",
      "39627829532428005\n",
      "39627829536623520\n",
      "39627835563835920\n",
      "39627835563838667\n",
      "39627835568030040\n",
      "39627835572228573\n",
      "39627835576422959\n",
      "39627835576423166\n",
      "39627835584809606\n",
      "39627841578469078\n",
      "39627841582662206\n",
      "39627841582666538\n",
      "39627841595246072\n",
      "39627841612024233\n",
      "39627841616217475\n",
      "39627841620410893\n",
      "39627847618265806\n",
      "39627847622463689\n",
      "39627847626654690\n",
      "39627847626654815\n",
      "39627847626657236\n",
      "39627847656016439\n",
      "39627847660210989\n",
      "39627853662259875\n",
      "39627853666454440\n",
      "39627853674843562\n",
      "39627853674844201\n",
      "39627853679037683\n",
      "39627853683234162\n",
      "39627853687423426\n",
      "39627853687423903\n",
      "39627853687428396\n",
      "39627853695815119\n",
      "39627853700010985\n",
      "39627853704202302\n",
      "39627859702057471\n",
      "39627859706251756\n",
      "39627859710444297\n",
      "39627859714639056\n",
      "39627859718832840\n",
      "39627859731418725\n",
      "39627859739805481\n",
      "39627865746051214\n",
      "39627865754436950\n",
      "39627865762826420\n",
      "39627865775410459\n",
      "39627871777457882\n",
      "39627871785848474\n",
      "39627871794233989\n",
      "39627877821448663\n",
      "39628340566425820\n",
      "39628346086134821\n",
      "39628346107101612\n",
      "39628346107104541\n",
      "39628346111297710\n",
      "39628351626807266\n",
      "39628351626809564\n",
      "39628351635194969\n",
      "39628351643583342\n",
      "39628351647778204\n",
      "39628357154900643\n",
      "39628357159096200\n",
      "39628357171677633\n",
      "39628362649436983\n",
      "39628362649439866\n",
      "39628362666215568\n",
      "39628362666217772\n",
      "39628362670410374\n",
      "39628362682992845\n",
      "39628368148170842\n",
      "39628368152364913\n",
      "39628368164946205\n",
      "39628368177533437\n",
      "39628379116275138\n",
      "39628379133051738\n",
      "39628379137247025\n",
      "39628384568869841\n",
      "39628384581456162\n",
      "39628384589842329\n",
      "39628384589844148\n",
      "39628384598229745\n",
      "39628384598230565\n",
      "39628384606618336\n",
      "39628390034048464\n",
      "39628390042438373\n",
      "39628390042439850\n",
      "39628390046629994\n",
      "39628390050825106\n",
      "39628390055019302\n",
      "39628390063408227\n",
      "39628395482451545\n",
      "39628400918266293\n",
      "39628400922460766\n",
      "39628411747961857\n",
      "39628411756349403\n",
      "39628417141834473\n",
      "39628417141837157\n",
      "39628417150224377\n",
      "39628417158612348\n",
      "39628422531515404\n",
      "39628427887642979\n",
      "39628427887643702\n",
      "39628427900226447\n",
      "39628427925392733\n",
      "39628433247962804\n",
      "39628433247963254\n",
      "39628433247964354\n",
      "39628433256352351\n",
      "39628438591505097\n",
      "39628438595700672\n",
      "39628438599893928\n",
      "39628438599896667\n",
      "39628438629253727\n",
      "39628438629254906\n",
      "39628438629256098\n",
      "39628438633449277\n",
      "39628438637643647\n",
      "39628438641837248\n",
      "39628443939245893\n",
      "39628443960213786\n",
      "39628443968602592\n",
      "39628449257620527\n",
      "39628501799668640\n",
      "39628506979631327\n",
      "39628506979632215\n",
      "39632946277123547\n",
      "39632946390371966\n",
      "39632946390372145\n",
      "39632946398759407\n",
      "39632951444507905\n",
      "39632951448699895\n",
      "39632951452893836\n",
      "39632956494450047\n",
      "39632956498642127\n",
      "39632961519226021\n",
      "39632961523417616\n",
      "39632991701435886\n",
      "39632996625549177\n",
      "39632996625550815\n",
      "39632996629742360\n",
      "39632996629742709\n",
      "39632996629745719\n",
      "39632996633937903\n",
      "39632996633938280\n",
      "39633001537077899\n",
      "39633271444735856\n",
      "39633271448930216\n",
      "39633275190250514\n",
      "39633278965121875\n",
      "39633278969319276\n",
      "39633278973509744\n",
      "39633282672888013\n",
      "39633282677081459\n",
      "39633282677082507\n",
      "39633282681275530\n",
      "39633282685471230\n",
      "39633282685471942\n",
      "39633282689665388\n",
      "39633282693858735\n",
      "39633282693860218\n",
      "39633286368068856\n",
      "39633286384846113\n",
      "39633286389040030\n",
      "39633286389040656\n",
      "39633286397429050\n",
      "39633286397429157\n",
      "39633290067444514\n",
      "39633290067444791\n",
      "39633290067445674\n",
      "39633290067446653\n",
      "39633290071640465\n",
      "39633290071640763\n",
      "39633293703906630\n",
      "39633293708102839\n",
      "39633293712294761\n",
      "39633293729071539\n",
      "39633297340370528\n",
      "39633297348756260\n",
      "39633297348756375\n",
      "39633297357144182\n",
      "39633297361338913\n",
      "39633297365533940\n",
      "39633297365535698\n",
      "39633300960053556\n",
      "39633300972634813\n",
      "39633300972636044\n",
      "39633300972636849\n",
      "39633300989411783\n",
      "39633304558766318\n",
      "39633304558766970\n",
      "39633304567155052\n",
      "39633304567155798\n",
      "39633304571348061\n",
      "39633304571349795\n",
      "39633304583930104\n",
      "39633304835589575\n",
      "39633308400747482\n",
      "39633308404942647\n",
      "39633308413333097\n",
      "39633308417524160\n",
      "39633315463956044\n",
      "39633315493317021\n",
      "39633315501704557\n",
      "39633318987173189\n",
      "39633319003951503\n",
      "39633322460057390\n",
      "39633322489416208\n",
      "39633322493608050\n",
      "39633325928746352\n",
      "39633325962299121\n",
      "39633329372266557\n",
      "39633329372269129\n",
      "39633329393242071\n",
      "39633329393242090\n",
      "39633332815791185\n",
      "39633332819985305\n",
      "39633336204788196\n",
      "39633336225761283\n",
      "39633339585397513\n",
      "39633339589594611\n",
      "39633342940841958\n",
      "39633342945034370\n"
     ]
    }
   ],
   "source": [
    "for k in anomalous_targetid:\n",
    "    if len(anomalous_targetid[k]) > 25:\n",
    "        print(k)\n",
    "        "
   ]
  },
  {
   "cell_type": "code",
   "execution_count": 15,
   "id": "c2e4d5bb-d75a-4b26-b107-7a8a88df2ae5",
   "metadata": {},
   "outputs": [
    {
     "data": {
      "text/html": [
       "<div><i>Table length=2</i>\n",
       "<table id=\"table23456035844832\" class=\"table-striped table-bordered table-condensed\">\n",
       "<thead><tr><th>RELEASE</th><th>BRICKID</th><th>BRICKNAME</th><th>BRICK_OBJID</th><th>MORPHTYPE</th><th>RA</th><th>RA_IVAR</th><th>DEC</th><th>DEC_IVAR</th><th>DCHISQ [5]</th><th>EBV</th><th>FLUX_G</th><th>FLUX_R</th><th>FLUX_Z</th><th>FLUX_IVAR_G</th><th>FLUX_IVAR_R</th><th>FLUX_IVAR_Z</th><th>MW_TRANSMISSION_G</th><th>MW_TRANSMISSION_R</th><th>MW_TRANSMISSION_Z</th><th>FRACFLUX_G</th><th>FRACFLUX_R</th><th>FRACFLUX_Z</th><th>FRACMASKED_G</th><th>FRACMASKED_R</th><th>FRACMASKED_Z</th><th>FRACIN_G</th><th>FRACIN_R</th><th>FRACIN_Z</th><th>NOBS_G</th><th>NOBS_R</th><th>NOBS_Z</th><th>PSFDEPTH_G</th><th>PSFDEPTH_R</th><th>PSFDEPTH_Z</th><th>GALDEPTH_G</th><th>GALDEPTH_R</th><th>GALDEPTH_Z</th><th>FLUX_W1</th><th>FLUX_W2</th><th>FLUX_W3</th><th>FLUX_W4</th><th>FLUX_IVAR_W1</th><th>FLUX_IVAR_W2</th><th>FLUX_IVAR_W3</th><th>FLUX_IVAR_W4</th><th>MW_TRANSMISSION_W1</th><th>MW_TRANSMISSION_W2</th><th>MW_TRANSMISSION_W3</th><th>MW_TRANSMISSION_W4</th><th>ALLMASK_G</th><th>ALLMASK_R</th><th>ALLMASK_Z</th><th>FIBERFLUX_G</th><th>FIBERFLUX_R</th><th>FIBERFLUX_Z</th><th>FIBERTOTFLUX_G</th><th>FIBERTOTFLUX_R</th><th>FIBERTOTFLUX_Z</th><th>REF_EPOCH</th><th>WISEMASK_W1</th><th>WISEMASK_W2</th><th>MASKBITS</th><th>LC_FLUX_W1 [15]</th><th>LC_FLUX_W2 [15]</th><th>LC_FLUX_IVAR_W1 [15]</th><th>LC_FLUX_IVAR_W2 [15]</th><th>LC_NOBS_W1 [15]</th><th>LC_NOBS_W2 [15]</th><th>LC_MJD_W1 [15]</th><th>LC_MJD_W2 [15]</th><th>SHAPE_R</th><th>SHAPE_E1</th><th>SHAPE_E2</th><th>SHAPE_R_IVAR</th><th>SHAPE_E1_IVAR</th><th>SHAPE_E2_IVAR</th><th>SERSIC</th><th>SERSIC_IVAR</th><th>REF_ID</th><th>REF_CAT</th><th>GAIA_PHOT_G_MEAN_MAG</th><th>GAIA_PHOT_G_MEAN_FLUX_OVER_ERROR</th><th>GAIA_PHOT_BP_MEAN_MAG</th><th>GAIA_PHOT_BP_MEAN_FLUX_OVER_ERROR</th><th>GAIA_PHOT_RP_MEAN_MAG</th><th>GAIA_PHOT_RP_MEAN_FLUX_OVER_ERROR</th><th>GAIA_PHOT_BP_RP_EXCESS_FACTOR</th><th>GAIA_ASTROMETRIC_EXCESS_NOISE</th><th>GAIA_DUPLICATED_SOURCE</th><th>GAIA_ASTROMETRIC_SIGMA5D_MAX</th><th>GAIA_ASTROMETRIC_PARAMS_SOLVED</th><th>PARALLAX</th><th>PARALLAX_IVAR</th><th>PMRA</th><th>PMRA_IVAR</th><th>PMDEC</th><th>PMDEC_IVAR</th><th>PHOTSYS</th><th>TARGETID</th><th>SUBPRIORITY</th><th>OBSCONDITIONS</th><th>PRIORITY_INIT</th><th>NUMOBS_INIT</th><th>HPXPIXEL</th><th>CMX_TARGET</th><th>DESI_TARGET</th><th>BGS_TARGET</th><th>MWS_TARGET</th><th>SV1_DESI_TARGET</th><th>SV1_BGS_TARGET</th><th>SV1_MWS_TARGET</th><th>SV2_DESI_TARGET</th><th>SV2_BGS_TARGET</th><th>SV2_MWS_TARGET</th><th>SV3_DESI_TARGET</th><th>SV3_BGS_TARGET</th><th>SV3_MWS_TARGET</th><th>SCND_TARGET</th><th>SV1_SCND_TARGET</th><th>SV2_SCND_TARGET</th><th>SV3_SCND_TARGET</th><th>SURVEY</th><th>PROGRAM</th><th>TILEID</th></tr></thead>\n",
       "<thead><tr><th>int16</th><th>int32</th><th>bytes8</th><th>int32</th><th>bytes4</th><th>float64</th><th>float32</th><th>float64</th><th>float32</th><th>float32</th><th>float32</th><th>float32</th><th>float32</th><th>float32</th><th>float32</th><th>float32</th><th>float32</th><th>float32</th><th>float32</th><th>float32</th><th>float32</th><th>float32</th><th>float32</th><th>float32</th><th>float32</th><th>float32</th><th>float32</th><th>float32</th><th>float32</th><th>int16</th><th>int16</th><th>int16</th><th>float32</th><th>float32</th><th>float32</th><th>float32</th><th>float32</th><th>float32</th><th>float32</th><th>float32</th><th>float32</th><th>float32</th><th>float32</th><th>float32</th><th>float32</th><th>float32</th><th>float32</th><th>float32</th><th>float32</th><th>float32</th><th>int16</th><th>int16</th><th>int16</th><th>float32</th><th>float32</th><th>float32</th><th>float32</th><th>float32</th><th>float32</th><th>float32</th><th>uint8</th><th>uint8</th><th>int16</th><th>float32</th><th>float32</th><th>float32</th><th>float32</th><th>int16</th><th>int16</th><th>float64</th><th>float64</th><th>float32</th><th>float32</th><th>float32</th><th>float32</th><th>float32</th><th>float32</th><th>float32</th><th>float32</th><th>int64</th><th>bytes2</th><th>float32</th><th>float32</th><th>float32</th><th>float32</th><th>float32</th><th>float32</th><th>float32</th><th>float32</th><th>bool</th><th>float32</th><th>bool</th><th>float32</th><th>float32</th><th>float32</th><th>float32</th><th>float32</th><th>float32</th><th>bytes1</th><th>int64</th><th>float64</th><th>int64</th><th>int64</th><th>int64</th><th>int64</th><th>int64</th><th>int64</th><th>int64</th><th>int64</th><th>int64</th><th>int64</th><th>int64</th><th>int64</th><th>int64</th><th>int64</th><th>int64</th><th>int64</th><th>int64</th><th>int64</th><th>int64</th><th>int64</th><th>int64</th><th>bytes7</th><th>bytes6</th><th>int32</th></tr></thead>\n",
       "<tr><td>9011</td><td>606974</td><td>2429p565</td><td>130</td><td>EXP</td><td>242.71695504288368</td><td>186871150000.0</td><td>56.39745319526946</td><td>278461940000.0</td><td>15360.508 .. 16669.52</td><td>0.0075925468</td><td>3.7990022</td><td>7.2595496</td><td>11.404786</td><td>322.2823</td><td>126.88182</td><td>41.772522</td><td>0.9777752</td><td>0.9849742</td><td>0.99156725</td><td>0.028018516</td><td>0.022679966</td><td>0.0035326954</td><td>0.0037034135</td><td>0.0035049778</td><td>0.011865248</td><td>0.99991065</td><td>0.99988246</td><td>1.0005194</td><td>3</td><td>3</td><td>3</td><td>664.81537</td><td>240.07257</td><td>93.21697</td><td>472.95422</td><td>168.5639</td><td>46.35529</td><td>14.416222</td><td>16.53251</td><td>115.44678</td><td>-555.5161</td><td>5.646243</td><td>1.8554549</td><td>0.0065292167</td><td>7.658246e-05</td><td>0.9987141</td><td>0.9992101</td><td>0.9998315</td><td>0.99993634</td><td>0</td><td>0</td><td>0</td><td>2.059164</td><td>3.9348764</td><td>6.1817093</td><td>2.059164</td><td>3.9348764</td><td>6.1817093</td><td>0.0</td><td>0</td><td>0</td><td>0</td><td>0.0 .. 0.0</td><td>0.0 .. 0.0</td><td>0.0 .. 0.0</td><td>0.0 .. 0.0</td><td>0 .. 0</td><td>0 .. 0</td><td>0.0 .. 0.0</td><td>0.0 .. 0.0</td><td>0.5915003</td><td>-0.31639335</td><td>0.049443964</td><td>9657.734</td><td>2631.7854</td><td>1961.5022</td><td>1.0</td><td>0.0</td><td>0</td><td>--</td><td>0.0</td><td>0.0</td><td>0.0</td><td>0.0</td><td>0.0</td><td>0.0</td><td>0.0</td><td>0.0</td><td>False</td><td>0.0</td><td>False</td><td>0.0</td><td>0.0</td><td>0.0</td><td>0.0</td><td>0.0</td><td>0.0</td><td>N</td><td>39633342945034370</td><td>0.9966197572253644</td><td>4</td><td>2000</td><td>1</td><td>11524</td><td>0</td><td>0</td><td>0</td><td>0</td><td>5764607523034234880</td><td>4112</td><td>0</td><td>0</td><td>0</td><td>0</td><td>0</td><td>0</td><td>0</td><td>0</td><td>1125899906975744</td><td>0</td><td>0</td><td>sv1</td><td>other</td><td>80865</td></tr>\n",
       "<tr><td>0</td><td>0</td><td>--</td><td>0</td><td>--</td><td>242.716953459109</td><td>0.0</td><td>56.3974530695522</td><td>0.0</td><td>0.0 .. 0.0</td><td>0.0</td><td>3.7990022</td><td>7.2595496</td><td>11.404786</td><td>0.0</td><td>0.0</td><td>0.0</td><td>0.0</td><td>0.0</td><td>0.0</td><td>0.0</td><td>0.0</td><td>0.0</td><td>0.0</td><td>0.0</td><td>0.0</td><td>0.0</td><td>0.0</td><td>0.0</td><td>0</td><td>0</td><td>0</td><td>0.0</td><td>0.0</td><td>0.0</td><td>0.0</td><td>0.0</td><td>0.0</td><td>0.0</td><td>0.0</td><td>0.0</td><td>0.0</td><td>0.0</td><td>0.0</td><td>0.0</td><td>0.0</td><td>0.0</td><td>0.0</td><td>0.0</td><td>0.0</td><td>0</td><td>0</td><td>0</td><td>0.0</td><td>0.0</td><td>0.0</td><td>0.0</td><td>0.0</td><td>0.0</td><td>2015.5</td><td>0</td><td>0</td><td>0</td><td>0.0 .. 0.0</td><td>0.0 .. 0.0</td><td>0.0 .. 0.0</td><td>0.0 .. 0.0</td><td>0 .. 0</td><td>0 .. 0</td><td>0.0 .. 0.0</td><td>0.0 .. 0.0</td><td>0.0</td><td>0.0</td><td>0.0</td><td>0.0</td><td>0.0</td><td>0.0</td><td>0.0</td><td>0.0</td><td>0</td><td>--</td><td>0.0</td><td>0.0</td><td>0.0</td><td>0.0</td><td>0.0</td><td>0.0</td><td>0.0</td><td>0.0</td><td>False</td><td>0.0</td><td>False</td><td>0.0</td><td>0.0</td><td>0.0</td><td>0.0</td><td>0.0</td><td>0.0</td><td>--</td><td>39633342945034370</td><td>0.955378297756148</td><td>1</td><td>1025</td><td>1</td><td>0</td><td>0</td><td>0</td><td>0</td><td>0</td><td>0</td><td>0</td><td>0</td><td>0</td><td>0</td><td>0</td><td>4611686018427387904</td><td>0</td><td>0</td><td>0</td><td>0</td><td>0</td><td>2048</td><td>sv3</td><td>dark</td><td>307</td></tr>\n",
       "</table></div>"
      ],
      "text/plain": [
       "<Table length=2>\n",
       "RELEASE BRICKID BRICKNAME BRICK_OBJID ... SV3_SCND_TARGET SURVEY PROGRAM TILEID\n",
       " int16   int32    bytes8     int32    ...      int64      bytes7  bytes6 int32 \n",
       "------- ------- --------- ----------- ... --------------- ------ ------- ------\n",
       "   9011  606974  2429p565         130 ...               0    sv1   other  80865\n",
       "      0       0        --           0 ...            2048    sv3    dark    307"
      ]
     },
     "execution_count": 15,
     "metadata": {},
     "output_type": "execute_result"
    }
   ],
   "source": [
    "targetphot[targetphot['TARGETID'] == 39633342945034370]"
   ]
  },
  {
   "cell_type": "code",
   "execution_count": 16,
   "id": "9cac2d1e-5bfe-4ea2-ae59-1ed31337c609",
   "metadata": {},
   "outputs": [
    {
     "data": {
      "text/html": [
       "&lt;Column name=&apos;REF_EPOCH&apos; dtype=&apos;float32&apos; length=65&gt;\n",
       "<table>\n",
       "<tr><td>0.0</td></tr>\n",
       "<tr><td>1999.216</td></tr>\n",
       "<tr><td>1999.218</td></tr>\n",
       "<tr><td>2000.0</td></tr>\n",
       "<tr><td>2000.259</td></tr>\n",
       "<tr><td>2000.338</td></tr>\n",
       "<tr><td>2000.341</td></tr>\n",
       "<tr><td>2001.138</td></tr>\n",
       "<tr><td>2001.211</td></tr>\n",
       "<tr><td>2001.285</td></tr>\n",
       "<tr><td>2001.288</td></tr>\n",
       "<tr><td>2001.373</td></tr>\n",
       "<tr><td>...</td></tr>\n",
       "<tr><td>2016.7021</td></tr>\n",
       "<tr><td>2016.8989</td></tr>\n",
       "<tr><td>2017.3069</td></tr>\n",
       "<tr><td>2017.326</td></tr>\n",
       "<tr><td>2017.4493</td></tr>\n",
       "<tr><td>2017.5205</td></tr>\n",
       "<tr><td>2017.6548</td></tr>\n",
       "<tr><td>2017.6959</td></tr>\n",
       "<tr><td>2018.4357</td></tr>\n",
       "<tr><td>2018.904</td></tr>\n",
       "<tr><td>2019.1726</td></tr>\n",
       "<tr><td>2019.2164</td></tr>\n",
       "</table>"
      ],
      "text/plain": [
       "<Column name='REF_EPOCH' dtype='float32' length=65>\n",
       "      0.0\n",
       " 1999.216\n",
       " 1999.218\n",
       "   2000.0\n",
       " 2000.259\n",
       " 2000.338\n",
       " 2000.341\n",
       " 2001.138\n",
       " 2001.211\n",
       " 2001.285\n",
       " 2001.288\n",
       " 2001.373\n",
       "      ...\n",
       "2016.7021\n",
       "2016.8989\n",
       "2017.3069\n",
       " 2017.326\n",
       "2017.4493\n",
       "2017.5205\n",
       "2017.6548\n",
       "2017.6959\n",
       "2018.4357\n",
       " 2018.904\n",
       "2019.1726\n",
       "2019.2164"
      ]
     },
     "execution_count": 16,
     "metadata": {},
     "output_type": "execute_result"
    }
   ],
   "source": [
    "np.unique(targetphot['REF_EPOCH'])"
   ]
  },
  {
   "cell_type": "code",
   "execution_count": null,
   "id": "bf762bea-2ca7-4545-bda9-0f26a09e99dc",
   "metadata": {},
   "outputs": [],
   "source": [
    "decode_targetid(39628459890181216)"
   ]
  },
  {
   "cell_type": "code",
   "execution_count": null,
   "id": "bbff6f97-c462-4d24-85cb-dec892f1a541",
   "metadata": {},
   "outputs": [],
   "source": [
    "len(list(anomalous_targetid.keys()))"
   ]
  },
  {
   "cell_type": "code",
   "execution_count": null,
   "id": "6997d09e-284f-4c03-9df0-20abc006800e",
   "metadata": {},
   "outputs": [],
   "source": [
    "len(targetphot), len(unique_targetid), len(duplicate_targetid)"
   ]
  },
  {
   "cell_type": "code",
   "execution_count": null,
   "id": "9067893a-65d7-4d39-bedb-023fe68b0777",
   "metadata": {},
   "outputs": [],
   "source": [
    "n_ref_count = 0\n",
    "for t in anomalous_targetid:\n",
    "    if len(anomalous_targetid[t]) == 1 and anomalous_targetid[t][0] == 'REF_EPOCH':\n",
    "        n_ref_count += 1\n",
    "n_ref_count"
   ]
  },
  {
   "cell_type": "code",
   "execution_count": 11,
   "id": "27290420-a709-4045-81bf-d0696574d8b9",
   "metadata": {},
   "outputs": [],
   "source": [
    "anomaly_counts = np.array([len(anomalous_targetid[t]) for t in anomalous_targetid])"
   ]
  },
  {
   "cell_type": "code",
   "execution_count": 12,
   "id": "e5021120-10d5-46e1-884b-fc9c31b4892c",
   "metadata": {},
   "outputs": [],
   "source": [
    "def inthist(foo, show=False):\n",
    "    \"\"\"Create a histogram of integer values.\n",
    "\n",
    "    Parameters\n",
    "    ----------\n",
    "    foo : :class:`numpy.ndarray`\n",
    "        An array containing integers.\n",
    "    show : :class:`bool`, optional\n",
    "        If ``True``, create a histogram and return the matplotlib.axes.Axes\n",
    "        instance.\n",
    "\n",
    "    Returns\n",
    "    -------\n",
    "    :class:`tuple`\n",
    "    \"\"\"\n",
    "    xmin = min(foo)\n",
    "    xmax = max(foo)\n",
    "    x = np.arange( xmin, xmax+1 )\n",
    "    n = np.zeros( x.shape, dtype=x.dtype )\n",
    "    for k in range(len(n)):\n",
    "        n[k] = np.sum( foo == x[k] )\n",
    "    if show:\n",
    "        fig = plt.figure(dpi=100)\n",
    "        ax = fig.add_subplot(111)\n",
    "        b = ax.bar(x, n, align='center', width=0.5, color='k')\n",
    "        ax.set_xlim(xmin-1, xmax+1)\n",
    "        # ax.set_ylim(0, np.ceil(max(n)/10.0)*10.0)\n",
    "        # ax.set_ylim(0, 10**np.ceil(np.log10(max(n))))\n",
    "        return (fig, ax)\n",
    "    else:\n",
    "        return (n, x)\n"
   ]
  },
  {
   "cell_type": "code",
   "execution_count": 13,
   "id": "34ace047-497d-4c51-80ce-e7fe38fb16be",
   "metadata": {},
   "outputs": [
    {
     "data": {
      "image/png": "[encoded data removed]",
      "text/plain": [
       "<Figure size 600x400 with 1 Axes>"
      ]
     },
     "metadata": {
      "needs_background": "light"
     },
     "output_type": "display_data"
    }
   ],
   "source": [
    "fig, ax = inthist(anomaly_counts, show=True)\n",
    "foo = ax.set_xlabel('Number of columns mismatched')\n",
    "foo = ax.set_ylabel('Count')\n",
    "# foo = ax.set_title('targetphot-fuji.fits')\n",
    "foo = ax.set_title('targetphot-potential-fuji.fits')\n",
    "# fig.savefig(os.path.join(os.environ['HOME'], 'anomaly_counts.png'))\n",
    "fig.savefig(os.path.join(os.environ['HOME'], 'anomaly_counts_potential.png'))"
   ]
  },
  {
   "cell_type": "code",
   "execution_count": null,
   "id": "7ec26a0f-9bf5-4bf3-8e2f-a7f941739304",
   "metadata": {},
   "outputs": [],
   "source": [
    "for t in duplicate_targetid:\n",
    "    rows = targetphot[duplicate_targetid[t]]\n",
    "    for c in ('SUBPRIORITY', 'OBSCONDITIONS', 'PRIORITY_INIT', 'NUMOBS_INIT', 'HPXPIXEL',\n",
    "              'CMX_TARGET', 'DESI_TARGET', 'BGS_TARGET', 'MWS_TARGET',\n",
    "              'SV1_DESI_TARGET', 'SV1_BGS_TARGET', 'SV1_MWS_TARGET',\n",
    "              'SV2_DESI_TARGET', 'SV2_BGS_TARGET', 'SV2_MWS_TARGET',\n",
    "              'SV3_DESI_TARGET', 'SV3_BGS_TARGET', 'SV3_MWS_TARGET',\n",
    "              'SCND_TARGET', 'SV1_SCND_TARGET', 'SV2_SCND_TARGET', 'SV3_SCND_TARGET',\n",
    "              'SURVEY', 'PROGRAM', 'TILEID'):\n",
    "        if isinstance(rows[c], MaskedColumn):\n",
    "            try:\n",
    "                assert (rows[c].data.data == rows[c].data.data[0]).all()\n",
    "            except:\n",
    "                print(t, c, rows[c].data.data)\n",
    "        else:\n",
    "            try:\n",
    "                assert (rows[c] == rows[c][0]).all()\n",
    "            except:\n",
    "                print(t, rows[c])"
   ]
  },
  {
   "cell_type": "markdown",
   "id": "beb40bd8-b3ce-4596-91dc-c0a559161f67",
   "metadata": {
    "tags": []
   },
   "source": [
    "## Examine ztile files."
   ]
  },
  {
   "cell_type": "code",
   "execution_count": null,
   "id": "8f218bde-87b2-4017-a318-f37ec0dd5905",
   "metadata": {},
   "outputs": [],
   "source": [
    "all_targetphotid = list()\n",
    "ztile_files = glob.glob(os.path.join(os.environ['DESI_SPECTRO_REDUX'], specprod, 'zcatalog', 'ztile-*.fits'))\n",
    "for f in ztile_files:\n",
    "    survey = os.path.basename(f).split('-')[1]\n",
    "    if 'cumulative' in f:\n",
    "        key = 'LASTNIGHT'\n",
    "    elif 'perexp' in f:\n",
    "        key = 'EXPID'\n",
    "    elif 'pernight' in f:\n",
    "        key = 'NIGHT'\n",
    "    else:\n",
    "        key = 'SPGRPVAL'\n",
    "    t = Table.read(f, format='fits', hdu='ZCATALOG')\n",
    "    objid, brickid, release, mock, sky, gaiadr = decode_targetid(t['TARGETID'])\n",
    "    # print(sky)\n",
    "    assert (t[key] == t['SPGRPVAL']).all()\n",
    "    w = (t['TARGETID'] > 0) & (sky == 0)\n",
    "    all_targetphotid += [targetphotid(x, y, survey) for x, y in zip(t['TARGETID'][w], t['TILEID'][w])]"
   ]
  },
  {
   "cell_type": "markdown",
   "id": "000b2c01-ba5b-48e2-8729-29c5f3fbdcec",
   "metadata": {},
   "source": [
    "### Check for uniqueness."
   ]
  },
  {
   "cell_type": "code",
   "execution_count": null,
   "id": "d7f0cf47-0cf3-4e9d-adb3-71724b95d0e9",
   "metadata": {},
   "outputs": [],
   "source": [
    "targetphot_potential_id = [targetphotid(x, y, z) for x, y, z in zip(targetphot_potential['TARGETID'], targetphot_potential['TILEID'], targetphot_potential['SURVEY'])]"
   ]
  },
  {
   "cell_type": "code",
   "execution_count": null,
   "id": "8a160f2a-da66-4443-92c0-860cbf461770",
   "metadata": {},
   "outputs": [],
   "source": [
    "targetphot_id = [targetphotid(x, y, z) for x, y, z in zip(targetphot['TARGETID'], targetphot['TILEID'], targetphot['SURVEY'])]"
   ]
  },
  {
   "cell_type": "code",
   "execution_count": null,
   "id": "38c56213-8671-4196-9544-1eb78662cd3c",
   "metadata": {},
   "outputs": [],
   "source": [
    "for t in targetphot_id:\n",
    "    assert t in targetphot_potential_id"
   ]
  },
  {
   "cell_type": "code",
   "execution_count": null,
   "id": "2fbb1f33-8509-45a5-ba2c-82ba7789e3f7",
   "metadata": {},
   "outputs": [],
   "source": [
    "for a in all_targetphotid:\n",
    "    assert a in targetphot_id"
   ]
  },
  {
   "cell_type": "markdown",
   "id": "a91250a4-3385-4817-8cbc-44f2895abe7d",
   "metadata": {},
   "source": [
    "### Do ztile files contain extraneous targets?"
   ]
  },
  {
   "cell_type": "code",
   "execution_count": null,
   "id": "7c9f9789-e1a0-446f-96c0-7708ccf55c7a",
   "metadata": {},
   "outputs": [],
   "source": [
    "ztile = Table.read(os.path.join(os.environ['DESI_SPECTRO_REDUX'], specprod, 'zcatalog', 'ztile-special-dark-cumulative.fits'), hdu='ZCATALOG')"
   ]
  },
  {
   "cell_type": "code",
   "execution_count": null,
   "id": "b5c7814b-22d4-451a-880f-ced9cd379334",
   "metadata": {},
   "outputs": [],
   "source": [
    "w = ztile['TARGETID'] > 0"
   ]
  },
  {
   "cell_type": "code",
   "execution_count": null,
   "id": "ba7b5478-cbb6-4621-8074-8b38847c4f45",
   "metadata": {},
   "outputs": [],
   "source": [
    "np.unique(ztile['TILEID'])"
   ]
  },
  {
   "cell_type": "code",
   "execution_count": null,
   "id": "6275cea2-7122-4250-9c98-45d0dee97307",
   "metadata": {},
   "outputs": [],
   "source": [
    "tid = [targetphotid(x, y, 'special') for x, y in zip(ztile['TARGETID'][w], ztile['TILEID'][w])]"
   ]
  },
  {
   "cell_type": "code",
   "execution_count": null,
   "id": "172f3812-c26c-42af-9877-a5968569e963",
   "metadata": {},
   "outputs": [],
   "source": [
    "(158457821078535886096914448642 >> 64) & (2**32 - 1)"
   ]
  },
  {
   "cell_type": "code",
   "execution_count": null,
   "id": "295a16f2-9e2c-47ec-9842-50af07fa8559",
   "metadata": {},
   "outputs": [],
   "source": [
    "(158457821078535886096914448642 >> 64) >> 32"
   ]
  },
  {
   "cell_type": "code",
   "execution_count": null,
   "id": "9a7cda0c-b80a-41ef-af3e-2dcf16f85512",
   "metadata": {},
   "outputs": [],
   "source": [
    "(158457821078535886096914448642) & (2**64 - 1)"
   ]
  },
  {
   "cell_type": "code",
   "execution_count": null,
   "id": "76550142-089d-4b31-8701-96a5db4f3d30",
   "metadata": {},
   "outputs": [],
   "source": [
    "ztile[ztile['TARGETID'] == 616088991480938754]"
   ]
  },
  {
   "cell_type": "code",
   "execution_count": null,
   "id": "6e62b331-a767-4798-a1b3-f20f083cfffe",
   "metadata": {},
   "outputs": [],
   "source": [
    "targetphot[targetphot['TARGETID'] == 616088991480938754]"
   ]
  },
  {
   "cell_type": "code",
   "execution_count": null,
   "id": "853c9acd-f59a-4c9e-96a0-293e0625c2c5",
   "metadata": {},
   "outputs": [],
   "source": [
    "targetphot_potential[targetphot_potential['TARGETID'] == 616088991480938754]"
   ]
  },
  {
   "cell_type": "code",
   "execution_count": null,
   "id": "ba61fadf-d3f1-482b-93b0-625781e5f8a4",
   "metadata": {},
   "outputs": [],
   "source": [
    "targetphot[targetphot['TILEID'] == 81101]"
   ]
  },
  {
   "cell_type": "markdown",
   "id": "c9add988-dfff-42fd-aa7f-c76ed271aa8f",
   "metadata": {},
   "source": [
    "### Test load targetphot files."
   ]
  },
  {
   "cell_type": "code",
   "execution_count": null,
   "id": "8f84400f-1b52-46fb-8d94-6de4ec925083",
   "metadata": {},
   "outputs": [],
   "source": [
    "os.environ['DESI_LOGLEVEL'] = 'DEBUG'\n",
    "dsr.log = get_logger()\n",
    "postgresql = dsr.setup_db(schema=specprod+'_target', overwrite=overwrite, hostname='nerscdb03.nersc.gov', verbose=True)"
   ]
  },
  {
   "cell_type": "code",
   "execution_count": null,
   "id": "52a969ba-08b9-4263-974a-c3a9c347f3df",
   "metadata": {},
   "outputs": [],
   "source": [
    "loader = [{'filepaths': [os.path.join('/global/cscratch1/sd/ioannis/photocatalog', os.environ['SPECPROD'], 'targetphot-{specprod}.fits'.format(specprod=os.environ['SPECPROD'])),\n",
    "                         os.path.join('/global/cscratch1/sd/ioannis/photocatalog', os.environ['SPECPROD'], 'targetphot-potential-targets-{specprod}.fits'.format(specprod=os.environ['SPECPROD'])),\n",
    "                         os.path.join('/global/cscratch1/sd/ioannis/photocatalog', os.environ['SPECPROD'], 'targetphot-missing-{specprod}.fits'.format(specprod=os.environ['SPECPROD']))],\n",
    "           'tcls': dsr.Target,\n",
    "           'hdu': 'TARGETPHOT',\n",
    "           'expand': {'DCHISQ': ('dchisq_psf', 'dchisq_rex', 'dchisq_dev', 'dchisq_exp', 'dchisq_ser',)},\n",
    "           'q3c': 'ra',\n",
    "           'chunksize': 100000,\n",
    "           'maxrows': 0\n",
    "           },]\n"
   ]
  },
  {
   "cell_type": "code",
   "execution_count": null,
   "id": "052fcea4-b3d1-4b7e-bfd3-d1b83c373545",
   "metadata": {},
   "outputs": [],
   "source": [
    "dsr.load_file(**(loader[0]))"
   ]
  },
  {
   "cell_type": "markdown",
   "id": "efa8d4e9-e175-4c3a-8565-1b0666fbb00f",
   "metadata": {},
   "source": [
    "## Consistency checks on exposures, frames and tiles\n",
    "\n",
    "### Load two versions of tiles file"
   ]
  },
  {
   "cell_type": "code",
   "execution_count": null,
   "id": "2e830b1d-5977-4bca-a9a0-6abdbd67e455",
   "metadata": {},
   "outputs": [],
   "source": [
    "tiles_fits = Table.read(os.path.join(os.environ['DESI_SPECTRO_REDUX'], specprod, f'tiles-{specprod}.fits'), hdu='TILE_COMPLETENESS')"
   ]
  },
  {
   "cell_type": "code",
   "execution_count": null,
   "id": "12acbace-7abc-4c5c-812e-457c51a1b425",
   "metadata": {},
   "outputs": [],
   "source": [
    "tiles_fits"
   ]
  },
  {
   "cell_type": "code",
   "execution_count": null,
   "id": "343d4c9b-c526-41ac-bcd0-e9ae7d45b843",
   "metadata": {},
   "outputs": [],
   "source": [
    "tiles_csv = Table.read(os.path.join(os.environ['DESI_SPECTRO_REDUX'], specprod, f'tiles-{specprod}.csv'), format='ascii.csv')"
   ]
  },
  {
   "cell_type": "code",
   "execution_count": null,
   "id": "92b98046-936f-47ea-b31b-f359529e5314",
   "metadata": {},
   "outputs": [],
   "source": [
    "tiles_csv"
   ]
  },
  {
   "cell_type": "markdown",
   "id": "f573580f-4f3e-4c3a-805e-260e45475a74",
   "metadata": {},
   "source": [
    "### Are the two tiles files self-consistent?"
   ]
  },
  {
   "cell_type": "code",
   "execution_count": null,
   "id": "f686e391-684c-4eea-bbed-362d483a55cf",
   "metadata": {},
   "outputs": [],
   "source": [
    "for row in range(len(tiles_fits)):\n",
    "    for col in tiles_fits.colnames:\n",
    "        try:\n",
    "            assert tiles_fits[row][col] == tiles_csv[row][col]\n",
    "        except AssertionError:\n",
    "            print(tiles_fits[row]['TILEID'], col, tiles_fits[row][col], tiles_csv[row][col])"
   ]
  },
  {
   "cell_type": "markdown",
   "id": "6a96ab51-8a1f-4999-a963-93271238fdbe",
   "metadata": {},
   "source": [
    "### Load two versions of exposures file"
   ]
  },
  {
   "cell_type": "code",
   "execution_count": null,
   "id": "3e6b75c5-c6c4-437c-b067-aabccbc428b7",
   "metadata": {},
   "outputs": [],
   "source": [
    "exposures_fits = Table.read(os.path.join(os.environ['DESI_SPECTRO_REDUX'], specprod, f'exposures-{specprod}.fits'), hdu='EXPOSURES')\n",
    "frames = Table.read(os.path.join(os.environ['DESI_SPECTRO_REDUX'], specprod, f'exposures-{specprod}.fits'), hdu='FRAMES')"
   ]
  },
  {
   "cell_type": "code",
   "execution_count": null,
   "id": "6755781c-9489-40ee-94ea-84b1d2262f18",
   "metadata": {},
   "outputs": [],
   "source": [
    "exposures_fits"
   ]
  },
  {
   "cell_type": "code",
   "execution_count": null,
   "id": "f5ea1dd7-06b3-459d-9470-63bdaecfd2b8",
   "metadata": {},
   "outputs": [],
   "source": [
    "exposures_csv = Table.read(os.path.join(os.environ['DESI_SPECTRO_REDUX'], specprod, f'exposures-{specprod}.csv'), format='ascii.csv')"
   ]
  },
  {
   "cell_type": "code",
   "execution_count": null,
   "id": "3e64da96-c685-40b0-ac89-d4e43fc8b00c",
   "metadata": {},
   "outputs": [],
   "source": [
    "exposures_csv"
   ]
  },
  {
   "cell_type": "markdown",
   "id": "8fc8ca4d-5819-489c-9516-1483c11feace",
   "metadata": {},
   "source": [
    "### Are the two exposures files self-consistent?"
   ]
  },
  {
   "cell_type": "code",
   "execution_count": null,
   "id": "f27603c5-7863-4988-a3c6-e6989217db23",
   "metadata": {},
   "outputs": [],
   "source": [
    "for row in range(len(exposures_fits)):\n",
    "    for col in exposures_fits.colnames:\n",
    "        try:\n",
    "            assert exposures_fits[row][col] == exposures_csv[row][col]\n",
    "        except AssertionError:\n",
    "            try:\n",
    "                assert np.around(exposures_fits[row][col].astype(float), 1) == exposures_csv[row][col]\n",
    "            except AssertionError:\n",
    "                try:\n",
    "                    assert np.around(exposures_fits[row][col].astype(float), 2) == exposures_csv[row][col]\n",
    "                except AssertionError:\n",
    "                    try:\n",
    "                        assert np.around(exposures_fits[row][col].astype(float), 3) == exposures_csv[row][col]\n",
    "                    except AssertionError:\n",
    "                        print(exposures_fits[row]['TILEID'], col, exposures_fits[row][col], exposures_csv[row][col])"
   ]
  },
  {
   "cell_type": "markdown",
   "id": "a91ba1ab-7b13-4694-b062-0b0a27e36527",
   "metadata": {},
   "source": [
    "### What programs are present?"
   ]
  },
  {
   "cell_type": "code",
   "execution_count": null,
   "id": "74b5f559-6653-4430-8e66-e9547fc412d6",
   "metadata": {},
   "outputs": [],
   "source": [
    "np.unique(faflavor2program(exposures_fits['FAFLAVOR']))"
   ]
  },
  {
   "cell_type": "code",
   "execution_count": null,
   "id": "11a4b3c9-6247-47d0-bf4e-803c01872ed4",
   "metadata": {},
   "outputs": [],
   "source": [
    "np.unique(exposures_fits['PROGRAM'])"
   ]
  },
  {
   "cell_type": "code",
   "execution_count": null,
   "id": "0121a508-0f11-4ba4-8522-0e67cc989df3",
   "metadata": {},
   "outputs": [],
   "source": [
    "np.unique(exposures_fits['GOALTYPE'])"
   ]
  },
  {
   "cell_type": "code",
   "execution_count": null,
   "id": "272e572f-549a-4bc7-935c-7b0bbd2c35e3",
   "metadata": {},
   "outputs": [],
   "source": [
    "np.unique(faflavor2program(tiles_fits['FAFLAVOR']))"
   ]
  },
  {
   "cell_type": "code",
   "execution_count": null,
   "id": "ff11d5ab-6d7c-4492-aa1c-01c16739f918",
   "metadata": {},
   "outputs": [],
   "source": [
    "np.unique(tiles_fits['PROGRAM'])"
   ]
  },
  {
   "cell_type": "code",
   "execution_count": null,
   "id": "76cf758a-1cdf-43c3-bf69-30149cdaf14d",
   "metadata": {},
   "outputs": [],
   "source": [
    "assert (faflavor2program(tiles_fits['FAFLAVOR']) == tiles_fits['PROGRAM']).all"
   ]
  },
  {
   "cell_type": "code",
   "execution_count": null,
   "id": "4f95a003-b240-4b4a-b909-66780a1fd323",
   "metadata": {},
   "outputs": [],
   "source": [
    "program = faflavor2program(exposures_fits['FAFLAVOR'])\n",
    "assert (exposures_fits['PROGRAM'] == program).all()"
   ]
  },
  {
   "cell_type": "code",
   "execution_count": null,
   "id": "8b50131c-661c-40e2-b9fd-4ee92f49cf02",
   "metadata": {},
   "outputs": [],
   "source": [
    "for survey in np.unique(exposures_fits['SURVEY']):\n",
    "    print(f\"'{survey}': \", np.unique(program[exposures_fits['SURVEY'] == survey]).tolist(), ',', sep='')"
   ]
  },
  {
   "cell_type": "markdown",
   "id": "1fe04bdc-88d9-45e1-9e16-a97d179b0c10",
   "metadata": {},
   "source": [
    "### Compare frames to exposures"
   ]
  },
  {
   "cell_type": "code",
   "execution_count": null,
   "id": "83e4b603-fab5-4efe-ba5a-1dabbd3bb986",
   "metadata": {},
   "outputs": [],
   "source": [
    "for expid in frames['EXPID']:\n",
    "    assert expid in exposures_fits['EXPID']"
   ]
  },
  {
   "cell_type": "code",
   "execution_count": null,
   "id": "54804170-12ad-4ca2-b941-b95b397fc960",
   "metadata": {},
   "outputs": [],
   "source": [
    "for k, expid in enumerate(exposures_fits['EXPID']):\n",
    "    assert (frames['NIGHT'][frames['EXPID'] == expid] == exposures_fits[k]['NIGHT']).all()\n",
    "    assert (frames['TILEID'][frames['EXPID'] == expid] == exposures_fits[k]['TILEID']).all()\n",
    "    assert (frames['TILERA'][frames['EXPID'] == expid] == exposures_fits[k]['TILERA']).all()\n",
    "    assert (frames['TILEDEC'][frames['EXPID'] == expid] == exposures_fits[k]['TILEDEC']).all()\n",
    "    assert (frames['AIRMASS'][frames['EXPID'] == expid] == exposures_fits[k]['AIRMASS']).all()\n",
    "    assert (frames['SEEING_ETC'][frames['EXPID'] == expid] == exposures_fits[k]['SEEING_ETC']).all()\n",
    "    try:\n",
    "        assert (frames['EFFTIME_ETC'][frames['EXPID'] == expid] == exposures_fits[k]['EFFTIME_ETC']).all()\n",
    "    except AssertionError:\n",
    "        print('EFFTIME_ETC', expid, exposures_fits[k]['TILEID'], exposures_fits[k]['EFFTIME_ETC'], frames[column][frames['EFFTIME_ETC'] == expid].tolist())\n",
    "    # assert (frames['TSNR2_GPBDARK'][frames['EXPID'] == expid] == exposures_fits[k]['TSNR2_GPBDARK']).all()\n",
    "    # assert (frames['TSNR2_ELG'][frames['EXPID'] == expid] == exposures_fits[k]['TSNR2_ELG']).all()\n",
    "    # assert (frames['TSNR2_GPBBRIGHT'][frames['EXPID'] == expid] == exposures_fits[k]['TSNR2_GPBBRIGHT']).all()\n",
    "    # assert (frames['TSNR2_LYA'][frames['EXPID'] == expid] == exposures_fits[k]['TSNR2_LYA']).all()\n",
    "    # assert (frames['TSNR2_BGS'][frames['EXPID'] == expid] == exposures_fits[k]['TSNR2_BGS']).all()\n",
    "    # assert (frames['TSNR2_GPBBACKUP'][frames['EXPID'] == expid] == exposures_fits[k]['TSNR2_GPBBACKUP']).all()\n",
    "    # assert (frames['TSNR2_QSO'][frames['EXPID'] == expid] == exposures_fits[k]['TSNR2_QSO']).all()\n",
    "    # assert (frames['TSNR2_LRG'][frames['EXPID'] == expid] == exposures_fits[k]['TSNR2_LRG']).all()\n",
    "    assert (frames['SURVEY'][frames['EXPID'] == expid] == exposures_fits[k]['SURVEY']).all()\n",
    "    assert (frames['GOALTYPE'][frames['EXPID'] == expid] == exposures_fits[k]['GOALTYPE']).all()\n",
    "    assert (frames['FAPRGRM'][frames['EXPID'] == expid] == exposures_fits[k]['FAPRGRM']).all()\n",
    "    assert (frames['FAFLAVOR'][frames['EXPID'] == expid] == exposures_fits[k]['FAFLAVOR']).all()\n",
    "    assert (frames['MINTFRAC'][frames['EXPID'] == expid] == exposures_fits[k]['MINTFRAC']).all()\n",
    "    for column in ('MJD', 'EXPTIME', 'GOALTIME'):\n",
    "        if column == 'GOALTIME' and (frames[column][frames['EXPID'] == expid] == 0).all():\n",
    "            print(f\"GOALTIME discrepancy for {expid}.\")\n",
    "        else:\n",
    "            try:\n",
    "                assert (np.around(frames[column][frames['EXPID'] == expid], 2) == np.around(exposures_fits[k][column], 2)).all()\n",
    "            except AssertionError:\n",
    "                try:\n",
    "                    assert (np.around(frames[column][frames['EXPID'] == expid], 3) == np.around(exposures_fits[k][column], 3)).all()\n",
    "                except AssertionError:\n",
    "                    try:\n",
    "                        assert (np.around(frames[column][frames['EXPID'] == expid], 4) == np.around(exposures_fits[k][column], 4)).all()\n",
    "                    except AssertionError:\n",
    "                        pass\n",
    "                        # print(column, expid, exposures_fits[k][column], frames[column][frames['EXPID'] == expid].tolist())"
   ]
  },
  {
   "cell_type": "markdown",
   "id": "b92b7ec3-bc0e-4877-aea5-d39c20c61cb8",
   "metadata": {},
   "source": [
    "### Compare tiles to exposures"
   ]
  },
  {
   "cell_type": "code",
   "execution_count": null,
   "id": "d6ae2ed6-597f-43e1-886b-109d632edbc4",
   "metadata": {},
   "outputs": [],
   "source": [
    "for row in tiles_fits:\n",
    "    w = exposures_fits['TILEID'] == row['TILEID']\n",
    "    assert len(exposures_fits[w]) == row['NEXP']\n",
    "    for column in ('SURVEY', 'FAPRGRM', 'FAFLAVOR', 'GOALTYPE'):\n",
    "        try:\n",
    "            assert (exposures_fits[w][column] == row[column]).all()\n",
    "        except AssertionError:\n",
    "            print(row['TILEID'], row[column])\n",
    "            print(exposures_fits[w][column])\n",
    "    for column in ('TILERA', 'TILEDEC'):\n",
    "        try:\n",
    "            assert (np.around(exposures_fits[w][column], 2) == row[column]).all()\n",
    "        except AssertionError:\n",
    "            try:\n",
    "                assert (np.around(exposures_fits[w][column], 3) == row[column]).all()\n",
    "            except AssertionError:\n",
    "                assert (np.around(exposures_fits[w][column], 4) == row[column]).all()\n",
    "    for column in ('EXPTIME', 'EFFTIME_SPEC', 'LRG_EFFTIME_DARK', 'ELG_EFFTIME_DARK', 'BGS_EFFTIME_BRIGHT', 'LYA_EFFTIME_DARK'):\n",
    "        try:\n",
    "            assert np.allclose(np.around(exposures_fits[w][column].sum(), 1), row[column])\n",
    "        except AssertionError:\n",
    "            print(row['TILEID'], row[column])\n",
    "            print(column, np.around(exposures_fits[w][column].sum(), 1))\n",
    "    for column in ('EFFTIME_ETC', 'EFFTIME_GFA'):\n",
    "        if (exposures_fits[w][column] == 0).any():\n",
    "            assert row[column] == 0\n",
    "        else:\n",
    "            try:\n",
    "                assert np.allclose(np.around(exposures_fits[w][column].sum(), 1), row[column])\n",
    "            except AssertionError:\n",
    "                print(row['TILEID'], row[column])\n",
    "                print(column, np.around(exposures_fits[w][column].sum(), 1))\n",
    "    for column in ('GOALTIME', 'MINTFRAC'):\n",
    "        try:\n",
    "            assert np.allclose(np.around(exposures_fits[w][column], 1), row[column])\n",
    "        except AssertionError:\n",
    "            try:\n",
    "                assert np.allclose(np.around(exposures_fits[w][column], 2), row[column])\n",
    "            except AssertionError:\n",
    "                print(row['TILEID'], row[column])\n",
    "                print(column, np.round(exposures_fits[w][column], decimals=1))\n",
    "    \n",
    "    assert exposures_fits[w]['NIGHT'].max() == row['LASTNIGHT']"
   ]
  },
  {
   "cell_type": "code",
   "execution_count": null,
   "id": "1d04e4f9-32a4-442b-bd29-7047e1c2a3a3",
   "metadata": {},
   "outputs": [],
   "source": []
  }
 ],
 "metadata": {
  "kernelspec": {
   "display_name": "DESI main (cori)",
   "language": "python",
   "name": "desi-cori"
  },
  "language_info": {
   "codemirror_mode": {
    "name": "ipython",
    "version": 3
   },
   "file_extension": ".py",
   "mimetype": "text/x-python",
   "name": "python",
   "nbconvert_exporter": "python",
   "pygments_lexer": "ipython3",
   "version": "3.9.7"
  }
 },
 "nbformat": 4,
 "nbformat_minor": 5
}
