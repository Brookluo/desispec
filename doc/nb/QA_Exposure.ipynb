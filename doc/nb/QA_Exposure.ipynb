{
 "cells": [
  {
   "cell_type": "markdown",
   "metadata": {},
   "source": [
    "# Developing/Testing QA Exposure"
   ]
  },
  {
   "cell_type": "code",
   "execution_count": 18,
   "metadata": {
    "collapsed": false
   },
   "outputs": [],
   "source": [
    "# imports\n",
    "from desispec.qa import qa_exposure as qa_exp\n",
    "from desispec.io import qa as desio_qa"
   ]
  },
  {
   "cell_type": "markdown",
   "metadata": {},
   "source": [
    "## Instantiate"
   ]
  },
  {
   "cell_type": "code",
   "execution_count": 14,
   "metadata": {
    "collapsed": false
   },
   "outputs": [
    {
     "name": "stdout",
     "output_type": "stream",
     "text": [
      "QA_Exposure: Exposure=00000002, ExpType=arc\n"
     ]
    }
   ],
   "source": [
    "reload(qa_exp)\n",
    "qaexp = qa_exp.QA_Exposure(2,'arc')\n",
    "print(qaexp)"
   ]
  },
  {
   "cell_type": "markdown",
   "metadata": {},
   "source": [
    "## Init SkySub"
   ]
  },
  {
   "cell_type": "code",
   "execution_count": 34,
   "metadata": {
    "collapsed": false
   },
   "outputs": [
    {
     "name": "stdout",
     "output_type": "stream",
     "text": [
      "{u'SKYSUB': {'NBAD_PCHI': 0, 'NSKY_FIB': 0, 'MED_RES': 0.0, 'PCHI_RES': 0.05}}\n"
     ]
    }
   ],
   "source": [
    "reload(qa_exp)\n",
    "qaexp = qa_exp.QA_Exposure('science',2)\n",
    "qaexp.init_skysub('b0')\n",
    "print(qaexp._data['b0'])"
   ]
  },
  {
   "cell_type": "markdown",
   "metadata": {},
   "source": [
    "## I/O"
   ]
  },
  {
   "cell_type": "code",
   "execution_count": 35,
   "metadata": {
    "collapsed": false
   },
   "outputs": [
    {
     "data": {
      "text/plain": [
       "<module 'desispec.io.qa' from '/Users/xavier/DESI/desispec/py/desispec/io/qa.py'>"
      ]
     },
     "execution_count": 35,
     "metadata": {},
     "output_type": "execute_result"
    }
   ],
   "source": [
    "reload(desio_qa)"
   ]
  },
  {
   "cell_type": "code",
   "execution_count": 36,
   "metadata": {
    "collapsed": false
   },
   "outputs": [
    {
     "data": {
      "text/plain": [
       "'tmp.yaml'"
      ]
     },
     "execution_count": 36,
     "metadata": {},
     "output_type": "execute_result"
    }
   ],
   "source": [
    "desio_qa.write_qa_exposure('tmp.yaml', qaexp)"
   ]
  },
  {
   "cell_type": "code",
   "execution_count": 37,
   "metadata": {
    "collapsed": false
   },
   "outputs": [],
   "source": [
    "qaexp = desio_qa.read_qa_exposure('tmp.yaml')"
   ]
  },
  {
   "cell_type": "code",
   "execution_count": 38,
   "metadata": {
    "collapsed": false
   },
   "outputs": [
    {
     "data": {
      "text/plain": [
       "QA_Exposure: Exposure=00000002, ExpType=science"
      ]
     },
     "execution_count": 38,
     "metadata": {},
     "output_type": "execute_result"
    }
   ],
   "source": [
    "qaexp"
   ]
  },
  {
   "cell_type": "markdown",
   "metadata": {},
   "source": [
    "## Test SkySub "
   ]
  },
  {
   "cell_type": "markdown",
   "metadata": {},
   "source": [
    "### On JXP laptop first\n",
    "\n",
    "    desi_compute_sky.py \\\n",
    "        --infile /Users/xavier/DESI/TST/dogwood/exposures/20150211/00000002/frame-b0-00000002.fits \\\n",
    "        --fibermap /Users/xavier/DESI/TST/data/20150211/fibermap-00000002.fits \\\n",
    "        --fiberflat /Users/xavier/DESI/TST/dogwood/calib2d/20150211/fiberflat-b0-00000001.fits \\\n",
    "        --outfile /Users/xavier/DESI/TST/dogwood/exposures/20150211/00000002/sky2-b0-00000002.fits \\\n",
    "        --qafile /Users/xavier/DESI/TST/dogwood/exposures/20150211/00000002/qa-00000002.yaml \\\n",
    "        > tmp.log"
   ]
  },
  {
   "cell_type": "markdown",
   "metadata": {},
   "source": [
    "### Now Edison\n",
    "    [edison ~] module use ~xavier/modules\n",
    "    [edison ~] module switch desispec/qa_exposure\n",
    "    [edison ~] cd qa_test\n",
    "\n",
    "    desi_compute_sky.py \\\n",
    "        --infile /project/projectdirs/desi/spectro/redux/sjb/dogwood/exposures/20150211/00000002/frame-b0-00000002.fits \\\n",
    "        --fibermap /project/projectdirs/desi/spectro/sim/alpha-5/20150211/fibermap-00000002.fits \\\n",
    "        --fiberflat /project/projectdirs/desi/spectro/redux/sjb/dogwood/calib2d/20150211/fiberflat-b0-00000001.fits \\\n",
    "        --outfile sky-b0-00000002.fits \\\n",
    "        --qafile qa-00000002.yaml \\\n",
    "        > qa_tst.log\n"
   ]
  },
  {
   "cell_type": "code",
   "execution_count": null,
   "metadata": {
    "collapsed": true
   },
   "outputs": [],
   "source": []
  }
 ],
 "metadata": {
  "kernelspec": {
   "display_name": "Python 2",
   "language": "python",
   "name": "python2"
  },
  "language_info": {
   "codemirror_mode": {
    "name": "ipython",
    "version": 2
   },
   "file_extension": ".py",
   "mimetype": "text/x-python",
   "name": "python",
   "nbconvert_exporter": "python",
   "pygments_lexer": "ipython2",
   "version": "2.7.10"
  }
 },
 "nbformat": 4,
 "nbformat_minor": 0
}
