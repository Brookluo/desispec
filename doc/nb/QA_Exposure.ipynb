{
 "cells": [
  {
   "cell_type": "markdown",
   "metadata": {},
   "source": [
    "# QA for an Exposures (v1.3)\n",
    "    v1.2 -- Fuss with table() method\n",
    "    v1.3 -- Add coeffs"
   ]
  },
  {
   "cell_type": "code",
   "execution_count": 1,
   "metadata": {},
   "outputs": [],
   "source": [
    "# imports\n",
    "from importlib import reload\n",
    "\n",
    "from desispec.qa import qa_exposure as dqaexp"
   ]
  },
  {
   "cell_type": "markdown",
   "metadata": {},
   "source": [
    "## Load"
   ]
  },
  {
   "cell_type": "code",
   "execution_count": 2,
   "metadata": {},
   "outputs": [],
   "source": [
    "expid = 23\n",
    "night = '20200323'\n",
    "specprod_dir = '/home/xavier/DESI/DESI_SCRATCH/18.11/spectro/redux/mini/'\n",
    "multi_root = 'mini_qa'"
   ]
  },
  {
   "cell_type": "code",
   "execution_count": 11,
   "metadata": {},
   "outputs": [
    {
     "name": "stdout",
     "output_type": "stream",
     "text": [
      "INFO:qa.py:220:load_qa_multiexp: Loading QA prod file: /home/xavier/DESI/DESI_SCRATCH/18.11/spectro/redux/mini/QA/mini_qa.json\n"
     ]
    }
   ],
   "source": [
    "# Load data\n",
    "reload(dqaexp)\n",
    "qaexp = dqaexp.QA_Exposure(expid, night, 'science', specprod_dir=specprod_dir, multi_root=multi_root)"
   ]
  },
  {
   "cell_type": "code",
   "execution_count": 12,
   "metadata": {},
   "outputs": [
    {
     "data": {
      "text/plain": [
       "{'METRICS': {'MAX_ZP_OFF': [0.0, 40],\n",
       "  'NSTARS_FIBER': 10,\n",
       "  'RMS_ZP': 0.0,\n",
       "  'ZP': 17.603189791244063},\n",
       " 'PARAMS': {'MAX_ZP_OFF': 0.2, 'ZP_WAVE': 4800.0}}"
      ]
     },
     "execution_count": 12,
     "metadata": {},
     "output_type": "execute_result"
    }
   ],
   "source": [
    "qaexp.data['frames']['b1']['FLUXCALIB']"
   ]
  },
  {
   "cell_type": "markdown",
   "metadata": {},
   "source": [
    "## Table me"
   ]
  },
  {
   "cell_type": "code",
   "execution_count": 13,
   "metadata": {},
   "outputs": [],
   "source": [
    "qaexp.s2n_table()"
   ]
  },
  {
   "cell_type": "code",
   "execution_count": 14,
   "metadata": {},
   "outputs": [
    {
     "data": {
      "text/html": [
       "<i>Table masked=True length=15000</i>\n",
       "<table id=\"table140270049861024\" class=\"table-striped table-bordered table-condensed\">\n",
       "<thead><tr><th>MEDIAN_SNR</th><th>FIBER</th><th>CAMERA</th><th>NIGHT</th><th>EXPID</th><th>CHANNEL</th><th>MAGS</th><th>RESID</th><th>OBJTYPE</th><th>COEFFS [2]</th></tr></thead>\n",
       "<thead><tr><th>float64</th><th>int64</th><th>str2</th><th>str8</th><th>int64</th><th>str1</th><th>float64</th><th>float64</th><th>str4</th><th>float64</th></tr></thead>\n",
       "<tr><td>0.20216157315077532</td><td>0</td><td>z1</td><td>20200323</td><td>23</td><td>z</td><td>22.72106170654297</td><td>0.08267254502423291</td><td>ELG</td><td>0.01 .. 2.1</td></tr>\n",
       "<tr><td>0.4851868239347685</td><td>1</td><td>z1</td><td>20200323</td><td>23</td><td>z</td><td>21.795635223388672</td><td>0.11087270982658509</td><td>ELG</td><td>0.01 .. 2.1</td></tr>\n",
       "<tr><td>0.34923409294003344</td><td>2</td><td>z1</td><td>20200323</td><td>23</td><td>z</td><td>21.974483489990234</td><td>-0.05786463842179481</td><td>ELG</td><td>0.01 .. 2.1</td></tr>\n",
       "<tr><td>0.44729027122753406</td><td>3</td><td>z1</td><td>20200323</td><td>23</td><td>z</td><td>21.6116943359375</td><td>-0.13477311037700476</td><td>ELG</td><td>0.01 .. 2.1</td></tr>\n",
       "<tr><td>4.113991233202288</td><td>4</td><td>z1</td><td>20200323</td><td>23</td><td>z</td><td>18.745939254760742</td><td>0.0032413979384317768</td><td>LRG</td><td>0.01 .. 6.300000000000001</td></tr>\n",
       "<tr><td>-0.0009607935137527366</td><td>5</td><td>z1</td><td>20200323</td><td>23</td><td>z</td><td>0.0</td><td>-999.0</td><td></td><td>0.0 .. 0.0</td></tr>\n",
       "<tr><td>0.29222053844751944</td><td>6</td><td>z1</td><td>20200323</td><td>23</td><td>z</td><td>22.14106559753418</td><td>-0.08144893604033841</td><td>ELG</td><td>0.01 .. 2.1</td></tr>\n",
       "<tr><td>2.040580780938894</td><td>7</td><td>z1</td><td>20200323</td><td>23</td><td>z</td><td>19.528453826904297</td><td>0.010381037233789657</td><td>LRG</td><td>0.01 .. 6.300000000000001</td></tr>\n",
       "<tr><td>1.2888812230052453</td><td>8</td><td>z1</td><td>20200323</td><td>23</td><td>z</td><td>19.8674373626709</td><td>-0.13075888135649236</td><td>LRG</td><td>0.01 .. 6.300000000000001</td></tr>\n",
       "<tr><td>0.21598083756713454</td><td>9</td><td>z1</td><td>20200323</td><td>23</td><td>z</td><td>22.752859115600586</td><td>0.19099090924752737</td><td>ELG</td><td>0.01 .. 2.1</td></tr>\n",
       "<tr><td>...</td><td>...</td><td>...</td><td>...</td><td>...</td><td>...</td><td>...</td><td>...</td><td>...</td><td>...</td></tr>\n",
       "<tr><td>0.4499780404189971</td><td>490</td><td>z3</td><td>20200323</td><td>23</td><td>z</td><td>21.718603134155273</td><td>-0.04800232154961913</td><td>ELG</td><td>0.02 .. 8.3</td></tr>\n",
       "<tr><td>1.6914805032198716</td><td>491</td><td>z3</td><td>20200323</td><td>23</td><td>z</td><td>20.305816650390625</td><td>-0.019522710767070232</td><td>ELG</td><td>0.02 .. 8.3</td></tr>\n",
       "<tr><td>0.3953619300308906</td><td>492</td><td>z3</td><td>20200323</td><td>23</td><td>z</td><td>21.959335327148438</td><td>0.04356507549380557</td><td>ELG</td><td>0.02 .. 8.3</td></tr>\n",
       "<tr><td>0.2755761775738086</td><td>493</td><td>z3</td><td>20200323</td><td>23</td><td>z</td><td>22.201213836669922</td><td>-0.09145500722959872</td><td>ELG</td><td>0.02 .. 8.3</td></tr>\n",
       "<tr><td>2.999497091461723</td><td>494</td><td>z3</td><td>20200323</td><td>23</td><td>z</td><td>19.076332092285156</td><td>-0.01463389548766681</td><td>LRG</td><td>0.01 .. 6.300000000000001</td></tr>\n",
       "<tr><td>5.471676269210179</td><td>495</td><td>z3</td><td>20200323</td><td>23</td><td>z</td><td>19.223115921020508</td><td>-0.08057606899193077</td><td>QSO</td><td>0.01 .. 1.1</td></tr>\n",
       "<tr><td>0.4853863284700816</td><td>496</td><td>z3</td><td>20200323</td><td>23</td><td>z</td><td>21.7512264251709</td><td>0.058156173227506214</td><td>ELG</td><td>0.02 .. 8.3</td></tr>\n",
       "<tr><td>3.7417475669272307</td><td>497</td><td>z3</td><td>20200323</td><td>23</td><td>z</td><td>18.818151473999023</td><td>-0.026288714416355982</td><td>LRG</td><td>0.01 .. 6.300000000000001</td></tr>\n",
       "<tr><td>1.3195483790282374</td><td>498</td><td>z3</td><td>20200323</td><td>23</td><td>z</td><td>19.99443817138672</td><td>-0.000620887399530913</td><td>LRG</td><td>0.01 .. 6.300000000000001</td></tr>\n",
       "<tr><td>1.0604113992211337</td><td>499</td><td>z3</td><td>20200323</td><td>23</td><td>z</td><td>20.884502410888672</td><td>0.0435452588798981</td><td>ELG</td><td>0.02 .. 8.3</td></tr>\n",
       "</table>"
      ],
      "text/plain": [
       "<Table masked=True length=15000>\n",
       "      MEDIAN_SNR       FIBER CAMERA ... OBJTYPE         COEFFS [2]       \n",
       "       float64         int64  str2  ...   str4           float64         \n",
       "---------------------- ----- ------ ... ------- -------------------------\n",
       "   0.20216157315077532     0     z1 ...     ELG               0.01 .. 2.1\n",
       "    0.4851868239347685     1     z1 ...     ELG               0.01 .. 2.1\n",
       "   0.34923409294003344     2     z1 ...     ELG               0.01 .. 2.1\n",
       "   0.44729027122753406     3     z1 ...     ELG               0.01 .. 2.1\n",
       "     4.113991233202288     4     z1 ...     LRG 0.01 .. 6.300000000000001\n",
       "-0.0009607935137527366     5     z1 ...                        0.0 .. 0.0\n",
       "   0.29222053844751944     6     z1 ...     ELG               0.01 .. 2.1\n",
       "     2.040580780938894     7     z1 ...     LRG 0.01 .. 6.300000000000001\n",
       "    1.2888812230052453     8     z1 ...     LRG 0.01 .. 6.300000000000001\n",
       "   0.21598083756713454     9     z1 ...     ELG               0.01 .. 2.1\n",
       "                   ...   ...    ... ...     ...                       ...\n",
       "    0.4499780404189971   490     z3 ...     ELG               0.02 .. 8.3\n",
       "    1.6914805032198716   491     z3 ...     ELG               0.02 .. 8.3\n",
       "    0.3953619300308906   492     z3 ...     ELG               0.02 .. 8.3\n",
       "    0.2755761775738086   493     z3 ...     ELG               0.02 .. 8.3\n",
       "     2.999497091461723   494     z3 ...     LRG 0.01 .. 6.300000000000001\n",
       "     5.471676269210179   495     z3 ...     QSO               0.01 .. 1.1\n",
       "    0.4853863284700816   496     z3 ...     ELG               0.02 .. 8.3\n",
       "    3.7417475669272307   497     z3 ...     LRG 0.01 .. 6.300000000000001\n",
       "    1.3195483790282374   498     z3 ...     LRG 0.01 .. 6.300000000000001\n",
       "    1.0604113992211337   499     z3 ...     ELG               0.02 .. 8.3"
      ]
     },
     "execution_count": 14,
     "metadata": {},
     "output_type": "execute_result"
    }
   ],
   "source": [
    "qaexp.qa_s2n"
   ]
  },
  {
   "cell_type": "code",
   "execution_count": 16,
   "metadata": {},
   "outputs": [
    {
     "data": {
      "text/plain": [
       "{'AIRMASS': 1.084055919995993,\n",
       " 'DATE-OBS': '2020-03-24T04:11:21.522',\n",
       " 'EXPTIME': 1104.473903438055,\n",
       " 'FLAVOR': 'science',\n",
       " 'NIGHT': '20200323'}"
      ]
     },
     "execution_count": 16,
     "metadata": {},
     "output_type": "execute_result"
    }
   ],
   "source": [
    "qaexp.qa_s2n.meta"
   ]
  },
  {
   "cell_type": "markdown",
   "metadata": {},
   "source": [
    "## FluxCalib QA"
   ]
  },
  {
   "cell_type": "code",
   "execution_count": 7,
   "metadata": {},
   "outputs": [
    {
     "name": "stdout",
     "output_type": "stream",
     "text": [
      "Wrote QA FluxCalib Exposure file: qa-00000006-flux.pdf\n"
     ]
    }
   ],
   "source": [
    "outfil = 'qa-00000006-flux.pdf'\n",
    "qaexp.fluxcalib(outfil)"
   ]
  },
  {
   "cell_type": "code",
   "execution_count": null,
   "metadata": {},
   "outputs": [],
   "source": []
  }
 ],
 "metadata": {
  "kernelspec": {
   "display_name": "Python 3",
   "language": "python",
   "name": "python3"
  },
  "language_info": {
   "codemirror_mode": {
    "name": "ipython",
    "version": 3
   },
   "file_extension": ".py",
   "mimetype": "text/x-python",
   "name": "python",
   "nbconvert_exporter": "python",
   "pygments_lexer": "ipython3",
   "version": "3.6.3"
  }
 },
 "nbformat": 4,
 "nbformat_minor": 1
}
